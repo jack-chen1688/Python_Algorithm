{
 "cells": [
  {
   "cell_type": "markdown",
   "metadata": {},
   "source": [
    "# 266. Palindrome Permutation"
   ]
  },
  {
   "cell_type": "markdown",
   "metadata": {},
   "source": [
    "\n",
    "Given a string, determine if a permutation of the string could form a palindrome.\n",
    "\n",
    "For example,\n",
    "\"code\" -> False, \"aab\" -> True, \"carerac\" -> True."
   ]
  },
  {
   "cell_type": "markdown",
   "metadata": {},
   "source": [
    "## Solution 1"
   ]
  },
  {
   "cell_type": "code",
   "execution_count": null,
   "metadata": {
    "collapsed": true
   },
   "outputs": [],
   "source": [
    "class Solution(object):\n",
    "    def canPermutePalindrome(self, s):\n",
    "        \"\"\"\n",
    "        :type s: str\n",
    "        :rtype: bool\n",
    "        \"\"\"\n",
    "        dict = {}\n",
    "        for ch in s:\n",
    "            if ch not in dict:\n",
    "                dict[ch] = 1\n",
    "            else:\n",
    "                dict[ch] += 1\n",
    "        \n",
    "        cnt = 0\n",
    "        for val in dict.values():\n",
    "            if val & 1 == 1:\n",
    "                cnt += 1\n",
    "                if cnt > 1:\n",
    "                    return False\n",
    "                \n",
    "        return True"
   ]
  },
  {
   "cell_type": "markdown",
   "metadata": {},
   "source": [
    "## Solution 2. Minor Variation of Solution 1"
   ]
  },
  {
   "cell_type": "code",
   "execution_count": null,
   "metadata": {
    "collapsed": true
   },
   "outputs": [],
   "source": [
    "class Solution(object):\n",
    "    def canPermutePalindrome(self, s):\n",
    "        \"\"\"\n",
    "        :type s: str\n",
    "        :rtype: bool\n",
    "        \"\"\"\n",
    "        from collections import defaultdict\n",
    "        \n",
    "        dict = defaultdict(int)\n",
    "        \n",
    "        for ch in s:\n",
    "            dict[ch] += 1\n",
    "        \n",
    "        cnt = 0\n",
    "        for val in dict.values():\n",
    "            if val % 2 == 1:\n",
    "                cnt += 1\n",
    "                if cnt > 1:\n",
    "                    return False\n",
    "                \n",
    "        return True"
   ]
  }
 ],
 "metadata": {
  "kernelspec": {
   "display_name": "Python 2",
   "language": "python",
   "name": "python2"
  },
  "language_info": {
   "codemirror_mode": {
    "name": "ipython",
    "version": 2
   },
   "file_extension": ".py",
   "mimetype": "text/x-python",
   "name": "python",
   "nbconvert_exporter": "python",
   "pygments_lexer": "ipython2",
   "version": "2.7.13"
  }
 },
 "nbformat": 4,
 "nbformat_minor": 2
}

{
 "cells": [
  {
   "cell_type": "markdown",
   "metadata": {},
   "source": [
    "# 401. Binary Watch"
   ]
  },
  {
   "cell_type": "markdown",
   "metadata": {},
   "source": [
    "A binary watch has 4 LEDs on the top which represent the hours (0-11), and the 6 LEDs on the bottom represent the minutes (0-59).\n",
    "\n",
    "Each LED represents a zero or one, with the least significant bit on the right.\n",
    "\n",
    "For example, the above binary watch reads \"3:25\".\n",
    "\n",
    "Given a non-negative integer n which represents the number of LEDs that are currently on, return all possible times the watch could represent.\n",
    "\n",
    "Example:\n",
    "\n",
    "Input: n = 1\n",
    "Return: [\"1:00\", \"2:00\", \"4:00\", \"8:00\", \"0:01\", \"0:02\", \"0:04\", \"0:08\", \"0:16\", \"0:32\"]\n",
    "Note:\n",
    "The order of output does not matter.\n",
    "The hour must not contain a leading zero, for example \"01:00\" is not valid, it should be \"1:00\".\n",
    "The minute must be consist of two digits and may contain a leading zero, for example \"10:2\" is not valid, it should be \"10:02\".\n"
   ]
  },
  {
   "cell_type": "markdown",
   "metadata": {},
   "source": [
    "## Solution"
   ]
  },
  {
   "cell_type": "code",
   "execution_count": null,
   "metadata": {
    "collapsed": true
   },
   "outputs": [],
   "source": [
    "class Solution(object):\n",
    "    \n",
    "    def readBinaryWatch(self, num):\n",
    "        \"\"\"\n",
    "        :type num: int\n",
    "        :rtype: List[str]\n",
    "        \"\"\"\n",
    "        def popcount(x):\n",
    "            return bin(x).count(\"1\")\n",
    "        \n",
    "        if num == 0:\n",
    "            return [\"0:00\"]\n",
    "        \n",
    "        hour_list = [[] for i in range(4)]\n",
    "        min_list = [[] for i in range(6)]\n",
    "        \n",
    "        \n",
    "        for hour in range(12):\n",
    "            hour_list[popcount(hour)].append(hour) \n",
    "        \n",
    "        for minute in range(60):\n",
    "            min_list[popcount(minute)].append(minute)\n",
    "        \n",
    "        result = []\n",
    "        for h_bits in range(min(num+1,4)):\n",
    "            \n",
    "            m_bits = num - h_bits\n",
    "            \n",
    "            if m_bits < 6:    \n",
    "                hours = hour_list[h_bits] \n",
    "                mins = min_list[m_bits]\n",
    "                for hour in hours:\n",
    "                    for minute in mins:\n",
    "                        result.append(str(hour) + \":\" + format(minute,'02d'))\n",
    "                        \n",
    "        return result"
   ]
  }
 ],
 "metadata": {
  "kernelspec": {
   "display_name": "Python 2",
   "language": "python",
   "name": "python2"
  },
  "language_info": {
   "codemirror_mode": {
    "name": "ipython",
    "version": 2
   },
   "file_extension": ".py",
   "mimetype": "text/x-python",
   "name": "python",
   "nbconvert_exporter": "python",
   "pygments_lexer": "ipython2",
   "version": "2.7.13"
  }
 },
 "nbformat": 4,
 "nbformat_minor": 2
}

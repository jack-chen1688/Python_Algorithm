{
 "cells": [
  {
   "cell_type": "markdown",
   "metadata": {},
   "source": [
    "# 653. Two Sum IV - Input is a BST"
   ]
  },
  {
   "cell_type": "code",
   "execution_count": null,
   "metadata": {
    "collapsed": true
   },
   "outputs": [],
   "source": [
    "Given a Binary Search Tree and a target number, return true if there exist two elements in the BST such that their sum is equal to the given target.\n",
    "\n",
    "Example 1:\n",
    "Input: \n",
    "    5\n",
    "   / \\\n",
    "  3   6\n",
    " / \\   \\\n",
    "2   4   7\n",
    "\n",
    "Target = 9\n",
    "\n",
    "Output: True\n",
    "Example 2:\n",
    "Input: \n",
    "    5\n",
    "   / \\\n",
    "  3   6\n",
    " / \\   \\\n",
    "2   4   7\n",
    "\n",
    "Target = 28\n",
    "\n",
    "Output: False"
   ]
  },
  {
   "cell_type": "markdown",
   "metadata": {},
   "source": [
    "## Solution"
   ]
  },
  {
   "cell_type": "code",
   "execution_count": null,
   "metadata": {
    "collapsed": true
   },
   "outputs": [],
   "source": [
    "# Definition for a binary tree node.\n",
    "# class TreeNode(object):\n",
    "#     def __init__(self, x):\n",
    "#         self.val = x\n",
    "#         self.left = None\n",
    "#         self.right = None\n",
    "\n",
    "class Solution(object):\n",
    "    def __init__(self):\n",
    "        self.val_lst = []\n",
    "        \n",
    "    def traverse(self, root):\n",
    "        if root != None:\n",
    "            self.traverse(root.left)\n",
    "            self.val_lst.append(root.val)\n",
    "            self.traverse(root.right)\n",
    "        \n",
    "    def findTarget(self, root, k):\n",
    "        \"\"\"\n",
    "        :type root: TreeNode\n",
    "        :type k: int\n",
    "        :rtype: bool\n",
    "        \"\"\"\n",
    "        self.traverse(root)\n",
    "        \n",
    "        print self.val_lst\n",
    "        \n",
    "        lo = 0\n",
    "        hi = len(self.val_lst) - 1\n",
    "        \n",
    "        while lo < hi:\n",
    "            if self.val_lst[lo] + self.val_lst[hi] == k:\n",
    "                return True\n",
    "            elif self.val_lst[lo] + self.val_lst[hi] < k:\n",
    "                lo += 1\n",
    "            else:\n",
    "                hi -= 1\n",
    "        \n",
    "        return False"
   ]
  }
 ],
 "metadata": {
  "kernelspec": {
   "display_name": "Python 2",
   "language": "python",
   "name": "python2"
  },
  "language_info": {
   "codemirror_mode": {
    "name": "ipython",
    "version": 2
   },
   "file_extension": ".py",
   "mimetype": "text/x-python",
   "name": "python",
   "nbconvert_exporter": "python",
   "pygments_lexer": "ipython2",
   "version": "2.7.13"
  }
 },
 "nbformat": 4,
 "nbformat_minor": 2
}

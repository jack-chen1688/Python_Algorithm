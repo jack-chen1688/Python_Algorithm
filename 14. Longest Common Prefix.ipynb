{
 "cells": [
  {
   "cell_type": "markdown",
   "metadata": {},
   "source": [
    "# 14. Longest Common Prefix"
   ]
  },
  {
   "cell_type": "markdown",
   "metadata": {},
   "source": [
    "Write a function to find the longest common prefix string amongst an array of strings."
   ]
  },
  {
   "cell_type": "markdown",
   "metadata": {},
   "source": [
    "## Solution"
   ]
  },
  {
   "cell_type": "code",
   "execution_count": 1,
   "metadata": {},
   "outputs": [
    {
     "name": "stdout",
     "output_type": "stream",
     "text": [
      "ab\n"
     ]
    }
   ],
   "source": [
    "class Solution(object):\n",
    "    def longestCommonPrefix(self, strs):\n",
    "        \"\"\"\n",
    "        :type strs: List[str]\n",
    "        :rtype: str\n",
    "        \"\"\"\n",
    "        \n",
    "        if strs:\n",
    "            prefix = strs[0]\n",
    "        else:\n",
    "            return \"\"\n",
    "\n",
    "        done = 0\n",
    "        for i in range(len(prefix)):     \n",
    "            for str in strs[1:]:\n",
    "                if i >= len(str) or str[i] != prefix[i]:\n",
    "                    done = 1\n",
    "                    prefix = prefix[:i]\n",
    "                    break\n",
    "            if done:\n",
    "                break\n",
    "            \n",
    "        return prefix\n",
    "\n",
    "def main():\n",
    "    print Solution().longestCommonPrefix(['abcd', 'abcff', 'abcgh','abadf'])\n",
    "\n",
    "if __name__ == \"__main__\":\n",
    "    main()"
   ]
  }
 ],
 "metadata": {
  "kernelspec": {
   "display_name": "Python 2",
   "language": "python",
   "name": "python2"
  },
  "language_info": {
   "codemirror_mode": {
    "name": "ipython",
    "version": 2
   },
   "file_extension": ".py",
   "mimetype": "text/x-python",
   "name": "python",
   "nbconvert_exporter": "python",
   "pygments_lexer": "ipython2",
   "version": "2.7.13"
  }
 },
 "nbformat": 4,
 "nbformat_minor": 2
}

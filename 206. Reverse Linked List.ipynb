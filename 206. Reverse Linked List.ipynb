{
 "cells": [
  {
   "cell_type": "markdown",
   "metadata": {},
   "source": [
    "# 206. Reverse Linked List"
   ]
  },
  {
   "cell_type": "markdown",
   "metadata": {},
   "source": [
    "Reverse a singly linked list."
   ]
  },
  {
   "cell_type": "markdown",
   "metadata": {},
   "source": [
    "## Solution 1. Iterative Method"
   ]
  },
  {
   "cell_type": "code",
   "execution_count": null,
   "metadata": {
    "collapsed": true
   },
   "outputs": [],
   "source": [
    "# Definition for singly-linked list.\n",
    "# class ListNode(object):\n",
    "#     def __init__(self, x):\n",
    "#         self.val = x\n",
    "#         self.next = None\n",
    "\n",
    "class Solution(object):\n",
    "    def reverseList(self, head):\n",
    "        \"\"\"\n",
    "        :type head: ListNode\n",
    "        :rtype: ListNode\n",
    "        \"\"\"\n",
    "        \n",
    "        #a b c d\n",
    "        #b a c d\n",
    "        #c b a d\n",
    "        #d c b a\n",
    "        \n",
    "        if head == None:\n",
    "            return head\n",
    "        \n",
    "        dummy_head = ListNode(0)\n",
    "        dummy_head.next = head\n",
    "    \n",
    "        node, nxt = head, head.next \n",
    "        while nxt != None:\n",
    "            node.next = nxt.next\n",
    "            nxt.next = dummy_head.next\n",
    "            dummy_head.next = nxt\n",
    "            nxt = node.next\n",
    "            \n",
    "        \n",
    "        return dummy_head.next"
   ]
  },
  {
   "cell_type": "markdown",
   "metadata": {},
   "source": [
    "## Solution 2. Recursive Approach"
   ]
  },
  {
   "cell_type": "code",
   "execution_count": null,
   "metadata": {
    "collapsed": true
   },
   "outputs": [],
   "source": [
    "# Definition for singly-linked list.\n",
    "# class ListNode(object):\n",
    "#     def __init__(self, x):\n",
    "#         self.val = x\n",
    "#         self.next = None\n",
    "\n",
    "class Solution(object):\n",
    "    def __init__(self):\n",
    "        self.tailNode = None\n",
    "        \n",
    "    def reverseList(self, head):\n",
    "        \"\"\"\n",
    "        :type head: ListNode\n",
    "        :rtype: ListNode\n",
    "        \"\"\"\n",
    "        \n",
    "        #a b c d\n",
    "        #b a c d\n",
    "        #c b a d\n",
    "        #d c b a\n",
    "        \n",
    "        if head == None:\n",
    "            return head\n",
    "        \n",
    "        if head.next == None:\n",
    "            self.tailNode = head\n",
    "            return head\n",
    "        \n",
    "        node = self.reverseList(head.next)\n",
    "        self.tailNode.next = head\n",
    "        head.next = None\n",
    "        self.tailNode = head\n",
    "        \n",
    "        return node"
   ]
  }
 ],
 "metadata": {
  "kernelspec": {
   "display_name": "Python 2",
   "language": "python",
   "name": "python2"
  },
  "language_info": {
   "codemirror_mode": {
    "name": "ipython",
    "version": 2
   },
   "file_extension": ".py",
   "mimetype": "text/x-python",
   "name": "python",
   "nbconvert_exporter": "python",
   "pygments_lexer": "ipython2",
   "version": "2.7.11"
  }
 },
 "nbformat": 4,
 "nbformat_minor": 2
}

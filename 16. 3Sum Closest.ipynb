{
 "cells": [
  {
   "cell_type": "markdown",
   "metadata": {},
   "source": [
    "# 16. 3Sum Closest"
   ]
  },
  {
   "cell_type": "markdown",
   "metadata": {},
   "source": [
    "Given an array S of n integers, find three integers in S such that the sum is closest to a given number, target. Return the sum of the three integers. You may assume that each input would have exactly one solution.\n",
    "\n",
    "    For example, given array S = {-1 2 1 -4}, and target = 1.\n",
    "\n",
    "    The sum that is closest to the target is 2. (-1 + 2 + 1 = 2)."
   ]
  },
  {
   "cell_type": "markdown",
   "metadata": {},
   "source": [
    "## Solution"
   ]
  },
  {
   "cell_type": "code",
   "execution_count": null,
   "metadata": {
    "collapsed": true
   },
   "outputs": [],
   "source": [
    "class Solution(object):\n",
    "    def threeSumClosest(self, nums, target):\n",
    "        \"\"\"\n",
    "        :type nums: List[int]\n",
    "        :type target: int\n",
    "        :rtype: int\n",
    "        \"\"\"\n",
    "        \n",
    "        nums.sort()\n",
    "        length = len(nums)\n",
    "        closest = nums[0] + nums[1] + nums[2]\n",
    "        distance = abs(closest - target)\n",
    "        \n",
    "        if distance == 0:\n",
    "            return target\n",
    "        \n",
    "        for i in range(length - 2):\n",
    "            start = i + 1\n",
    "            end = length - 1\n",
    "            \n",
    "            while start < end:\n",
    "                sum1 = nums[i] + nums[start] + nums[end]\n",
    "                distance1 = abs(target - sum1)\n",
    "                if distance1 < distance:\n",
    "                    distance = distance1\n",
    "                    closest = sum1\n",
    "                    \n",
    "                if distance == 0:\n",
    "                    return target\n",
    "                \n",
    "                target1 = target - nums[i]\n",
    "                if nums[start] + nums[end] > target1:\n",
    "                    end = end - 1\n",
    "                else:\n",
    "                    start = start + 1\n",
    "                    \n",
    "        return closest"
   ]
  }
 ],
 "metadata": {
  "kernelspec": {
   "display_name": "Python 2",
   "language": "python",
   "name": "python2"
  },
  "language_info": {
   "codemirror_mode": {
    "name": "ipython",
    "version": 2
   },
   "file_extension": ".py",
   "mimetype": "text/x-python",
   "name": "python",
   "nbconvert_exporter": "python",
   "pygments_lexer": "ipython2",
   "version": "2.7.13"
  }
 },
 "nbformat": 4,
 "nbformat_minor": 2
}

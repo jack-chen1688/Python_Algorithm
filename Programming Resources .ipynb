{
 "cells": [
  {
   "cell_type": "markdown",
   "metadata": {},
   "source": [
    "1.Topcoder\n",
    "2.LeetCode\n",
    "3.Project Euler\n",
    "4.Quora\n",
    "5.Glassdoor\n",
    "6.CareerCup\n",
    "7.Interview Cake\n",
    "8.Facebook Code Lab\n",
    "9.HackerRank\n",
    "10.Pramp\n",
    "11.Google Code Jam\n",
    "12.Sphere Online Judge at http://www.spoj.com/\n",
    "13.PKU JudgeOnline"
   ]
  },
  {
   "cell_type": "code",
   "execution_count": null,
   "metadata": {
    "collapsed": true
   },
   "outputs": [],
   "source": [
    "Programming Interviews Exposed\n",
    "Cracking the Coding Interview\n",
    "Programming Peals\n"
   ]
  }
 ],
 "metadata": {
  "kernelspec": {
   "display_name": "Python 2",
   "language": "python",
   "name": "python2"
  },
  "language_info": {
   "codemirror_mode": {
    "name": "ipython",
    "version": 2
   },
   "file_extension": ".py",
   "mimetype": "text/x-python",
   "name": "python",
   "nbconvert_exporter": "python",
   "pygments_lexer": "ipython2",
   "version": "2.7.13"
  }
 },
 "nbformat": 4,
 "nbformat_minor": 2
}

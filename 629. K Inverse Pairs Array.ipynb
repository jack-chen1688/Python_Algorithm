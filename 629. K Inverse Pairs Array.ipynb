{
 "cells": [
  {
   "cell_type": "markdown",
   "metadata": {},
   "source": [
    "# 629. K Inverse Pairs Array"
   ]
  },
  {
   "cell_type": "markdown",
   "metadata": {},
   "source": [
    "Given two integers n and k, find how many different arrays consist of numbers from 1 to n such that there are exactly k inverse pairs.\n",
    "\n",
    "We define an inverse pair as following: For ith and jth element in the array, if i < j and a[i] > a[j] then it's an inverse pair; Otherwise, it's not.\n",
    "\n",
    "Since the answer may very large, the answer should be modulo 109 + 7.\n",
    "\n",
    "Example 1:\n",
    "Input: n = 3, k = 0\n",
    "Output: 1\n",
    "Explanation: \n",
    "Only the array [1,2,3] which consists of numbers from 1 to 3 has exactly 0 inverse pair.\n",
    "Example 2:\n",
    "Input: n = 3, k = 1\n",
    "Output: 2\n",
    "Explanation: \n",
    "The array [1,3,2] and [2,1,3] have exactly 1 inverse pair.\n",
    "Note:\n",
    "The integer n is in the range [1, 1000] and k is in the range [0, 1000]."
   ]
  },
  {
   "cell_type": "markdown",
   "metadata": {},
   "source": [
    "## Solution 1 Dynamic Programming (Time Limit Exceeded)"
   ]
  },
  {
   "cell_type": "code",
   "execution_count": 1,
   "metadata": {},
   "outputs": [
    {
     "name": "stdout",
     "output_type": "stream",
     "text": [
      "21670\n"
     ]
    }
   ],
   "source": [
    "class Solution(object):\n",
    "    def kInversePairs(self, n, k):\n",
    "        \"\"\"\n",
    "        :type n: int\n",
    "        :type k: int\n",
    "        :rtype: int\n",
    "        \"\"\"\n",
    "        lists = [[0 for i in range(k+1)] for i in range(2)]\n",
    "        to_mod = 1000000000 + 7\n",
    "        #initialize n=1 case\n",
    "        lists[1][0] = 1 \n",
    "        \n",
    "        for i in range(2, n+1):\n",
    "            # Generate 0,1,.., k for i\n",
    "\n",
    "            \"\"\"\n",
    "            for i, maximum number of inverse pairs occured at [i, i-1, ..., 1]. \n",
    "            Maximum number is (i-1) + (i-2) + ... + 1 = (i-1)*i/2\n",
    "            \"\"\"\n",
    "            max_cal = min((i-1)*i/2, k)\n",
    "            \n",
    "            src_list = lists[(i-1) & 1]\n",
    "            dst_list = lists[i & 1]\n",
    "            dst_list[0] = src_list[0] \n",
    "            for j in range(1,max_cal + 1):\n",
    "                # for 1 is in the beginning, lists[(i-1) & 1][j]\n",
    "                # ...\n",
    "                # for j+1 is in the beginning, lists[(i-1) & 1][0)]\n",
    "                # j + 1 <= i (only 1,2,...,i can be in the beginning)\n",
    "                if (j < i):\n",
    "                    lists[i&1][j] = sum(lists[(i-1)&1][:j+1])\n",
    "                else:\n",
    "                    # for 1 is in the beginning, lists[(i-1) & 1][j]\n",
    "                    # for i is in the beginning, lists[(i-1) & 1][j - (i-1)]                    \n",
    "                    lists[i&1][j] = sum(lists[(i-1)&1][j-(i-1):j+1])\n",
    "            \n",
    "            for j in range(max_cal+1):\n",
    "                if lists[i&1][j] >= to_mod:\n",
    "                    lists[i&1][j] %= to_mod\n",
    "                \n",
    "        return lists[n & 1][k]\n",
    "                    \n",
    "\n",
    "def main():\n",
    "    print Solution().kInversePairs(10, 10)\n",
    "    \n",
    "if __name__ == \"__main__\":\n",
    "    main()\n"
   ]
  },
  {
   "cell_type": "markdown",
   "metadata": {
    "collapsed": true
   },
   "source": [
    "## Solution 2 Enhancment Sum to O(n\\*k) Time Complexity"
   ]
  },
  {
   "cell_type": "code",
   "execution_count": 2,
   "metadata": {},
   "outputs": [
    {
     "name": "stdout",
     "output_type": "stream",
     "text": [
      "21670\n"
     ]
    }
   ],
   "source": [
    "class Solution(object):\n",
    "    def kInversePairs(self, n, k):\n",
    "        \"\"\"\n",
    "        :type n: int\n",
    "        :type k: int\n",
    "        :rtype: int\n",
    "        \"\"\"\n",
    "        lists = [[0 for i in range(k+1)] for i in range(2)]\n",
    "        to_mod = 1000000000 + 7\n",
    "        #initialize n=1 case\n",
    "        lists[1][0] = 1 \n",
    "        \n",
    "        for i in range(2, n+1):\n",
    "            # Generate 0,1,.., k for i\n",
    "\n",
    "            \"\"\"\n",
    "            for i, maximum number of inverse pairs occured at [i, i-1, ..., 1]. \n",
    "            Maximum number is (i-1) + (i-2) + ... + 1 = (i-1)*i/2\n",
    "            \"\"\"\n",
    "            max_cal = min((i-1)*i/2, k)\n",
    "\n",
    "            src_list = lists[(i-1) & 1]\n",
    "            dst_list = lists[i & 1]\n",
    "            dst_list[0] = src_list[0] \n",
    "            for j in range(1,max_cal + 1):\n",
    "                # for 1 is in the beginning, lists[(i-1) & 1][j]\n",
    "                # ...\n",
    "                # for j+1 is in the beginning, lists[(i-1) & 1][0)]\n",
    "                # j + 1 <= i (only 1,2,...,i can be in the beginning)\n",
    "                if (j < i):\n",
    "                    #lists[i&1][j] = sum(lists[(i-1)&1][:j+1])\n",
    "                    dst_list[j] = dst_list[j-1] + src_list[j]              \n",
    "                else:\n",
    "                    # for 1 is in the beginning, lists[(i-1) & 1][j]\n",
    "                    # for i is in the beginning, lists[(i-1) & 1][j - (i-1)]                    \n",
    "                    #lists[i&1][j] = sum(lists[(i-1)&1][j-(i-1):j+1])\n",
    "                    dst_list[j] = dst_list[j-1] - src_list[j-i] + src_list[j] \n",
    "\n",
    "            for j in range(k+1):\n",
    "                if dst_list[j] >= to_mod:\n",
    "                    dst_list[j] %= to_mod\n",
    "                    \n",
    "        return lists[n & 1][k]\n",
    "\n",
    "def main():\n",
    "    print Solution().kInversePairs(10, 10)\n",
    "    \n",
    "if __name__ == \"__main__\":\n",
    "    main()"
   ]
  },
  {
   "cell_type": "code",
   "execution_count": null,
   "metadata": {
    "collapsed": true
   },
   "outputs": [],
   "source": []
  }
 ],
 "metadata": {
  "kernelspec": {
   "display_name": "Python 2",
   "language": "python",
   "name": "python2"
  },
  "language_info": {
   "codemirror_mode": {
    "name": "ipython",
    "version": 2
   },
   "file_extension": ".py",
   "mimetype": "text/x-python",
   "name": "python",
   "nbconvert_exporter": "python",
   "pygments_lexer": "ipython2",
   "version": "2.7.13"
  }
 },
 "nbformat": 4,
 "nbformat_minor": 2
}

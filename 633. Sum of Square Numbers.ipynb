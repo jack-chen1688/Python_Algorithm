{
 "cells": [
  {
   "cell_type": "markdown",
   "metadata": {},
   "source": [
    "# 633. Sum of Square Numbers"
   ]
  },
  {
   "cell_type": "markdown",
   "metadata": {},
   "source": [
    "Given a non-negative integer c, your task is to decide whether there're two integers a and b such that a2 + b2 = c.\n",
    "\n",
    "Example 1:\n",
    "Input: 5\n",
    "Output: True\n",
    "Explanation: 1 * 1 + 2 * 2 = 5\n",
    "Example 2:\n",
    "Input: 3\n",
    "Output: False"
   ]
  },
  {
   "cell_type": "markdown",
   "metadata": {},
   "source": [
    "## Solution"
   ]
  },
  {
   "cell_type": "code",
   "execution_count": 2,
   "metadata": {},
   "outputs": [
    {
     "name": "stdout",
     "output_type": "stream",
     "text": [
      "False\n",
      "False\n",
      "0 5\n",
      "True\n"
     ]
    }
   ],
   "source": [
    "class Solution(object):\n",
    "    def judgeSquareSum(self, c):\n",
    "        \"\"\"\n",
    "        :type c: int\n",
    "        :rtype: bool\n",
    "        \"\"\"\n",
    "        squares = []\n",
    "        i = 0\n",
    "        while i ** 2 <= c:\n",
    "            squares.append(i ** 2)\n",
    "            i += 1\n",
    "        \n",
    "        length = len(squares)\n",
    "        \n",
    "        start = 0\n",
    "        end = length - 1\n",
    "        while start <= end:\n",
    "            sum_squares = squares[start] + squares[end]\n",
    "            if sum_squares == c:\n",
    "                print start, end\n",
    "                return True\n",
    "            elif sum_squares > c:\n",
    "                end -= 1\n",
    "            else:\n",
    "                start += 1\n",
    "            \n",
    "        return False\n",
    "    \n",
    "\n",
    "def main():\n",
    "    print Solution().judgeSquareSum(24)\n",
    "    print Solution().judgeSquareSum(33)\n",
    "    print Solution().judgeSquareSum(25)\n",
    "\n",
    "if __name__ == \"__main__\":\n",
    "    main()"
   ]
  }
 ],
 "metadata": {
  "kernelspec": {
   "display_name": "Python 2",
   "language": "python",
   "name": "python2"
  },
  "language_info": {
   "codemirror_mode": {
    "name": "ipython",
    "version": 2
   },
   "file_extension": ".py",
   "mimetype": "text/x-python",
   "name": "python",
   "nbconvert_exporter": "python",
   "pygments_lexer": "ipython2",
   "version": "2.7.13"
  }
 },
 "nbformat": 4,
 "nbformat_minor": 2
}

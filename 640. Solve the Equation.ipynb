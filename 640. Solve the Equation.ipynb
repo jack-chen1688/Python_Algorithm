{
 "cells": [
  {
   "cell_type": "markdown",
   "metadata": {},
   "source": [
    "# 640. Solve the Equation"
   ]
  },
  {
   "cell_type": "markdown",
   "metadata": {},
   "source": [
    "Solve a given equation and return the value of x in the form of string \"x=#value\". The equation contains only '+', '-' operation, the variable x and its coefficient.\n",
    "\n",
    "If there is no solution for the equation, return \"No solution\".\n",
    "\n",
    "If there are infinite solutions for the equation, return \"Infinite solutions\".\n",
    "\n",
    "If there is exactly one solution for the equation, we ensure that the value of x is an integer.\n",
    "\n",
    "Example 1:\n",
    "Input: \"x+5-3+x=6+x-2\"\n",
    "Output: \"x=2\"\n",
    "Example 2:\n",
    "Input: \"x=x\"\n",
    "Output: \"Infinite solutions\"\n",
    "Example 3:\n",
    "Input: \"2x=x\"\n",
    "Output: \"x=0\"\n",
    "Example 4:\n",
    "Input: \"2x+3x-6x=x+2\"\n",
    "Output: \"x=-1\"\n",
    "Example 5:\n",
    "Input: \"x=x+2\"\n",
    "Output: \"No solution\"\n"
   ]
  },
  {
   "cell_type": "code",
   "execution_count": 1,
   "metadata": {},
   "outputs": [
    {
     "name": "stdout",
     "output_type": "stream",
     "text": [
      "[[2, 0]] 2\n",
      "[[2, 0], [1, 0]] 4\n",
      "[[2, 0], [1, 0], [0, 1]] 6\n",
      "[[2, 0], [1, 0], [0, 1], [0, 5]] 8\n",
      "[[3, 0]] 2\n",
      "[[3, 0], [-1, 0]] 4\n",
      "[[3, 0], [-1, 0], [0, 3]] 6\n",
      "x=2\n"
     ]
    }
   ],
   "source": [
    "class Solution(object):\n",
    "    \n",
    "    def get_token(self, elements, s, pos):\n",
    "        \n",
    "        length = len(s)\n",
    "        sign = \"\"\n",
    "        if s[pos] == \"+\" or s[pos] == \"-\":\n",
    "            sign=s[pos]\n",
    "            pos += 1\n",
    "        \n",
    "        start = pos\n",
    "        while pos < length and '0' <= s[pos] <= '9':\n",
    "            pos+= 1\n",
    "        \n",
    "        if start == pos:\n",
    "            # +x, -x\n",
    "            co = int(sign + \"1\")\n",
    "            number = 0\n",
    "            pos += 1\n",
    "        else:\n",
    "            if pos < length and s[pos] == 'x':\n",
    "                co = int(sign + s[start:pos])\n",
    "                number = 0\n",
    "                pos += 1\n",
    "            else:\n",
    "                # pos = length or s[pos] = \"+\" or s[pos] = \"-\"\n",
    "                co = 0\n",
    "                number = int(sign + s[start:pos])\n",
    "        \n",
    "        elements.append([co, number])\n",
    "        return pos\n",
    "        \n",
    "    def get_tokens(self, s):\n",
    "        pos = 0\n",
    "        length = len(s)\n",
    "        elements = []\n",
    "        while 1:\n",
    "            pos = self.get_token(elements, s, pos)\n",
    "            if pos == length:\n",
    "                break\n",
    "            print elements, pos\n",
    "        return elements\n",
    "    \n",
    "    def solveEquation(self, equation):\n",
    "        \"\"\"\n",
    "        :type equation: str\n",
    "        :rtype: str\n",
    "        \"\"\"\n",
    "    \n",
    "        left, right = equation.split(\"=\")\n",
    "        left_elements, right_elements = self.get_tokens(left), self.get_tokens(right)\n",
    "        \n",
    "        left_co, left_number = 0, 0\n",
    "        for item in left_elements:\n",
    "            left_co, left_number = left_co + item[0], left_number + item[1]\n",
    "        \n",
    "        right_co, right_number = 0, 0\n",
    "        for item in right_elements:\n",
    "            right_co, right_number = right_co + item[0], right_number + item[1]   \n",
    "        \n",
    "        co = left_co - right_co\n",
    "        number = right_number - left_number\n",
    "        \n",
    "        if co == 0:\n",
    "            if number == 0:\n",
    "                result = \"Infinite solutions\"\n",
    "            else:\n",
    "                result = \"No solution\"\n",
    "        else:\n",
    "            result = \"x=\"+str(number/co)\n",
    "            \n",
    "        return result\n",
    "\n",
    "def main():\n",
    "    print Solution().solveEquation(\"2x+x+1+5+x=3x-x+3+7\")\n",
    "    print Solution().solveEquation(\"x+1+5+x=3x-x+3+7\")\n",
    "\n",
    "if __name__ == \"__main__\":\n",
    "    main()"
   ]
  },
  {
   "cell_type": "code",
   "execution_count": null,
   "metadata": {
    "collapsed": true
   },
   "outputs": [],
   "source": []
  }
 ],
 "metadata": {
  "kernelspec": {
   "display_name": "Python 2",
   "language": "python",
   "name": "python2"
  },
  "language_info": {
   "codemirror_mode": {
    "name": "ipython",
    "version": 2
   },
   "file_extension": ".py",
   "mimetype": "text/x-python",
   "name": "python",
   "nbconvert_exporter": "python",
   "pygments_lexer": "ipython2",
   "version": "2.7.13"
  }
 },
 "nbformat": 4,
 "nbformat_minor": 2
}

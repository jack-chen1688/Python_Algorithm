{
 "cells": [
  {
   "cell_type": "markdown",
   "metadata": {},
   "source": [
    "# 644. Maximum Average Subarray II"
   ]
  },
  {
   "cell_type": "markdown",
   "metadata": {},
   "source": [
    "\n",
    "Given an array consisting of n integers, find the contiguous subarray whose length is greater than or equal to k that has the maximum average value. And you need to output the maximum average value.\n",
    "\n",
    "Example 1:\n",
    "Input: [1,12,-5,-6,50,3], k = 4\n",
    "Output: 12.75\n",
    "Explanation:\n",
    "when length is 5, maximum average value is 10.8,\n",
    "when length is 6, maximum average value is 9.16667.\n",
    "Thus return 12.75.\n",
    "Note:\n",
    "1 <= k <= n <= 10,000.\n",
    "Elements of the given array will be in range [-10,000, 10,000].\n",
    "The answer with the calculation error less than 10-5 will be accepted.\n"
   ]
  },
  {
   "cell_type": "markdown",
   "metadata": {},
   "source": [
    "## Solution 1. O(n<sup>2</sup>Time Exceeded"
   ]
  },
  {
   "cell_type": "code",
   "execution_count": null,
   "metadata": {
    "collapsed": true
   },
   "outputs": [],
   "source": [
    "class Solution(object):\n",
    "    def findMaxAverage(self, nums, k):\n",
    "        \"\"\"\n",
    "        :type nums: List[int]\n",
    "        :type k: int\n",
    "        :rtype: float\n",
    "        \"\"\"\n",
    "        n = len(nums)\n",
    "        totals = [sum(nums[:k])]\n",
    "        \n",
    "        for i in range(k, n):\n",
    "            totals.append(totals[i-k] + nums[i])\n",
    "        \n",
    "        max_totals = list(totals)\n",
    "        \n",
    "        for index in range(n-k+1):\n",
    "            for pos in range(n-k-index): \n",
    "                totals[index] = totals[index] - nums[pos] + nums[k+index+pos]\n",
    "                if totals[index] > max_totals[index]:\n",
    "                    max_totals[index] = totals[index]\n",
    "        \n",
    "        max_aver = float(max_totals[0])/k\n",
    "        for i in range(1, n-k+1):\n",
    "            aver = float(max_totals[i])/(k+i)\n",
    "            if aver > max_aver:\n",
    "                max_aver = aver\n",
    "        \n",
    "        return max_aver\n"
   ]
  },
  {
   "cell_type": "markdown",
   "metadata": {},
   "source": [
    "## Solution 2"
   ]
  },
  {
   "cell_type": "code",
   "execution_count": null,
   "metadata": {
    "collapsed": true
   },
   "outputs": [],
   "source": []
  }
 ],
 "metadata": {
  "kernelspec": {
   "display_name": "Python 2",
   "language": "python",
   "name": "python2"
  },
  "language_info": {
   "codemirror_mode": {
    "name": "ipython",
    "version": 2
   },
   "file_extension": ".py",
   "mimetype": "text/x-python",
   "name": "python",
   "nbconvert_exporter": "python",
   "pygments_lexer": "ipython2",
   "version": "2.7.13"
  }
 },
 "nbformat": 4,
 "nbformat_minor": 2
}

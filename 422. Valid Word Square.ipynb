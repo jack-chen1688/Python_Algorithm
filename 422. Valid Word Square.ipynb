{
 "cells": [
  {
   "cell_type": "markdown",
   "metadata": {},
   "source": [
    "# 422. Valid Word Square"
   ]
  },
  {
   "cell_type": "markdown",
   "metadata": {},
   "source": [
    "Given a sequence of words, check whether it forms a valid word square.\n",
    "\n",
    "A sequence of words forms a valid word square if the kth row and column read the exact same string, where 0 ≤ k < max(numRows, numColumns).\n",
    "\n",
    "Note:\n",
    "The number of words given is at least 1 and does not exceed 500.\n",
    "Word length will be at least 1 and does not exceed 500.\n",
    "Each word contains only lowercase English alphabet a-z.\n",
    "Example 1:\n",
    "\n",
    "Input:\n",
    "[\n",
    "  \"abcd\",\n",
    "  \"bnrt\",\n",
    "  \"crmy\",\n",
    "  \"dtye\"\n",
    "]\n",
    "\n",
    "Output:\n",
    "true\n",
    "\n",
    "Explanation:\n",
    "The first row and first column both read \"abcd\".\n",
    "The second row and second column both read \"bnrt\".\n",
    "The third row and third column both read \"crmy\".\n",
    "The fourth row and fourth column both read \"dtye\".\n",
    "\n",
    "Therefore, it is a valid word square.\n",
    "Example 2:\n",
    "\n",
    "Input:\n",
    "[\n",
    "  \"abcd\",\n",
    "  \"bnrt\",\n",
    "  \"crm\",\n",
    "  \"dt\"\n",
    "]\n",
    "\n",
    "Output:\n",
    "true\n",
    "\n",
    "Explanation:\n",
    "The first row and first column both read \"abcd\".\n",
    "The second row and second column both read \"bnrt\".\n",
    "The third row and third column both read \"crm\".\n",
    "The fourth row and fourth column both read \"dt\".\n",
    "\n",
    "Therefore, it is a valid word square.\n",
    "Example 3:\n",
    "\n",
    "Input:\n",
    "[\n",
    "  \"ball\",\n",
    "  \"area\",\n",
    "  \"read\",\n",
    "  \"lady\"\n",
    "]\n",
    "\n",
    "Output:\n",
    "false\n",
    "\n",
    "Explanation:\n",
    "The third row reads \"read\" while the third column reads \"lead\".\n",
    "\n",
    "Therefore, it is NOT a valid word square."
   ]
  },
  {
   "cell_type": "markdown",
   "metadata": {},
   "source": [
    "## Solution"
   ]
  },
  {
   "cell_type": "code",
   "execution_count": 1,
   "metadata": {},
   "outputs": [
    {
     "name": "stdout",
     "output_type": "stream",
     "text": [
      "True\n"
     ]
    }
   ],
   "source": [
    "class Solution(object):\n",
    "    def validWordSquare(self, words):\n",
    "        \"\"\"\n",
    "        :type words: List[str]\n",
    "        :rtype: bool\n",
    "        \"\"\"\n",
    "        lens = [len(word) for word in words]\n",
    "        \n",
    "        for length in lens:\n",
    "            if length > lens[0]:\n",
    "                return False\n",
    "        \n",
    "        if len(words) != lens[0]:\n",
    "            return False\n",
    "        \n",
    "        for i, word in enumerate(words):\n",
    "            for j in range(lens[i]):\n",
    "                if lens[j] <= i:\n",
    "                    return False\n",
    "                \n",
    "                if word[j] != words[j][i]:\n",
    "                    return False\n",
    "        \n",
    "        return True\n",
    "\n",
    "def main():\n",
    "    words = [\"abcd\",\"bnrt\",\"crmy\",\"dtye\"]\n",
    "    print Solution().validWordSquare(words)\n",
    "\n",
    "if __name__ == \"__main__\":\n",
    "    main()\n",
    "    "
   ]
  }
 ],
 "metadata": {
  "kernelspec": {
   "display_name": "Python 2",
   "language": "python",
   "name": "python2"
  },
  "language_info": {
   "codemirror_mode": {
    "name": "ipython",
    "version": 2
   },
   "file_extension": ".py",
   "mimetype": "text/x-python",
   "name": "python",
   "nbconvert_exporter": "python",
   "pygments_lexer": "ipython2",
   "version": "2.7.13"
  }
 },
 "nbformat": 4,
 "nbformat_minor": 2
}

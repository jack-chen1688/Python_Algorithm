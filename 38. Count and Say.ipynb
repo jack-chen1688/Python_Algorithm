{
 "cells": [
  {
   "cell_type": "markdown",
   "metadata": {},
   "source": [
    "# 38. Count and Say"
   ]
  },
  {
   "cell_type": "code",
   "execution_count": null,
   "metadata": {
    "collapsed": true
   },
   "outputs": [],
   "source": [
    "The count-and-say sequence is the sequence of integers with the first five terms as following:\n",
    "\n",
    "1.     1\n",
    "2.     11\n",
    "3.     21\n",
    "4.     1211\n",
    "5.     111221\n",
    "1 is read off as \"one 1\" or 11.\n",
    "11 is read off as \"two 1s\" or 21.\n",
    "21 is read off as \"one 2, then one 1\" or 1211.\n",
    "Given an integer n, generate the nth term of the count-and-say sequence.\n",
    "\n",
    "Note: Each term of the sequence of integers will be represented as a string.\n",
    "\n",
    "Example 1:\n",
    "\n",
    "Input: 1\n",
    "Output: \"1\"\n",
    "Example 2:\n",
    "\n",
    "Input: 4\n",
    "Output: \"1211\""
   ]
  },
  {
   "cell_type": "markdown",
   "metadata": {},
   "source": [
    "## Solution"
   ]
  },
  {
   "cell_type": "code",
   "execution_count": 4,
   "metadata": {},
   "outputs": [
    {
     "name": "stdout",
     "output_type": "stream",
     "text": [
      "2,11\n",
      "3,21\n",
      "4,1211\n",
      "5,111221\n",
      "6,312211\n",
      "7,13112221\n",
      "8,1113213211\n",
      "9,31131211131221\n",
      "10,13211311123113112211\n",
      "11,11131221133112132113212221\n",
      "12,3113112221232112111312211312113211\n",
      "13,1321132132111213122112311311222113111221131221\n",
      "14,11131221131211131231121113112221121321132132211331222113112211\n",
      "15,311311222113111231131112132112311321322112111312211312111322212311322113212221\n",
      "16,132113213221133112132113311211131221121321131211132221123113112221131112311332111213211322211312113211\n",
      "17,11131221131211132221232112111312212321123113112221121113122113111231133221121321132132211331121321231231121113122113322113111221131221\n",
      "18,31131122211311123113321112131221123113112211121312211213211321322112311311222113311213212322211211131221131211132221232112111312111213111213211231131122212322211331222113112211\n",
      "19,1321132132211331121321231231121113112221121321132122311211131122211211131221131211132221121321132132212321121113121112133221123113112221131112311332111213122112311311123112111331121113122112132113213211121332212311322113212221\n",
      "20,11131221131211132221232112111312111213111213211231132132211211131221131211221321123113213221123113112221131112311332211211131221131211132211121312211231131112311211232221121321132132211331121321231231121113112221121321133112132112312321123113112221121113122113121113123112112322111213211322211312113211\n",
      "11131221131211132221232112111312111213111213211231132132211211131221131211221321123113213221123113112221131112311332211211131221131211132211121312211231131112311211232221121321132132211331121321231231121113112221121321133112132112312321123113112221121113122113121113123112112322111213211322211312113211\n"
     ]
    }
   ],
   "source": [
    "class Solution(object):\n",
    "    def countAndSay(self, n):\n",
    "        \"\"\"\n",
    "        :type n: int\n",
    "        :rtype: str\n",
    "        \"\"\"\n",
    "        \n",
    "        if n == 0: \n",
    "            return '0'\n",
    "        \n",
    "        X = '1'\n",
    "        if n == 1:\n",
    "            return X\n",
    "        \n",
    "        for i in range(2, n+1):\n",
    "            Y = ''\n",
    "            first_char = ''\n",
    "            count =0\n",
    "            for char in X:\n",
    "\n",
    "                if first_char == '':\n",
    "                    first_char = char\n",
    "                    count = 1\n",
    "                else:\n",
    "                    if char == first_char:\n",
    "                        count += 1\n",
    "                    else:\n",
    "                        Y += str(count) + first_char\n",
    "                        first_char = char\n",
    "                        count = 1                     \n",
    "\n",
    "            if first_char != '':\n",
    "                Y += str(count) + first_char\n",
    "                \n",
    "            X = Y\n",
    "            print str(i) + \",\" + X\n",
    "            \n",
    "        return X\n",
    "\n",
    "def main():\n",
    "    print Solution().countAndSay(20)\n",
    "\n",
    "if __name__ == \"__main__\":\n",
    "    main()"
   ]
  }
 ],
 "metadata": {
  "kernelspec": {
   "display_name": "Python 2",
   "language": "python",
   "name": "python2"
  },
  "language_info": {
   "codemirror_mode": {
    "name": "ipython",
    "version": 2
   },
   "file_extension": ".py",
   "mimetype": "text/x-python",
   "name": "python",
   "nbconvert_exporter": "python",
   "pygments_lexer": "ipython2",
   "version": "2.7.13"
  }
 },
 "nbformat": 4,
 "nbformat_minor": 2
}

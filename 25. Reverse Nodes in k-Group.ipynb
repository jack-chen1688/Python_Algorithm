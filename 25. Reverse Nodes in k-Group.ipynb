{
 "cells": [
  {
   "cell_type": "markdown",
   "metadata": {},
   "source": [
    "# 25. Reverse Nodes in k-Group"
   ]
  },
  {
   "cell_type": "markdown",
   "metadata": {},
   "source": [
    "Given a linked list, reverse the nodes of a linked list k at a time and return its modified list.\n",
    "\n",
    "k is a positive integer and is less than or equal to the length of the linked list. If the number of nodes is not a multiple of k then left-out nodes in the end should remain as it is.\n",
    "\n",
    "You may not alter the values in the nodes, only nodes itself may be changed.\n",
    "\n",
    "Only constant memory is allowed.\n",
    "\n",
    "For example,\n",
    "Given this linked list: 1->2->3->4->5\n",
    "\n",
    "For k = 2, you should return: 2->1->4->3->5\n",
    "\n",
    "For k = 3, you should return: 3->2->1->4->5"
   ]
  },
  {
   "cell_type": "markdown",
   "metadata": {},
   "source": [
    "## Solution"
   ]
  },
  {
   "cell_type": "code",
   "execution_count": null,
   "metadata": {
    "collapsed": true
   },
   "outputs": [],
   "source": [
    "# Definition for singly-linked list.\n",
    "# class ListNode(object):\n",
    "#     def __init__(self, x):\n",
    "#         self.val = x\n",
    "#         self.next = None\n",
    "\n",
    "\n",
    "class Solution(object):\n",
    "    \n",
    "    def reverseKNode(self, head, k):\n",
    "\n",
    "        if k == 1 or not head:\n",
    "            return [head, None]\n",
    "        \n",
    "        node = head\n",
    "        for i in range(k-1):\n",
    "            #print \"val\", node.val, node.next\n",
    "            node = node.next\n",
    "\n",
    "            if not node:\n",
    "                return [head, None]\n",
    "        \n",
    "        node = head\n",
    "        new_head = head\n",
    "        for i in range(k-1):\n",
    "            node_next = node.next\n",
    "            node.next = node_next.next\n",
    "            node_next.next = new_head\n",
    "            new_head = node_next\n",
    "            \n",
    "        return [new_head, node]\n",
    "            \n",
    "    def reverseKGroup(self, head, k):\n",
    "        \"\"\"\n",
    "        :type head: ListNode\n",
    "        :type k: int\n",
    "        :rtype: ListNode\n",
    "        \"\"\"\n",
    "        \n",
    "        l = self.reverseKNode(head, k)\n",
    "        \n",
    "        if not l[1]:\n",
    "            return l[0]\n",
    "        \n",
    "        new_head = l[0]\n",
    "        last_node = l[1]\n",
    "        \n",
    "        node = last_node.next\n",
    "        while node:\n",
    "            l = self.reverseKNode(node, k)\n",
    "            last_node.next = l[0]\n",
    "            last_node = l[1]\n",
    "            if last_node:\n",
    "                node = last_node.next\n",
    "            else:\n",
    "                break\n",
    "            \n",
    "        \n",
    "        return new_head\n"
   ]
  }
 ],
 "metadata": {
  "kernelspec": {
   "display_name": "Python 2",
   "language": "python",
   "name": "python2"
  },
  "language_info": {
   "codemirror_mode": {
    "name": "ipython",
    "version": 2
   },
   "file_extension": ".py",
   "mimetype": "text/x-python",
   "name": "python",
   "nbconvert_exporter": "python",
   "pygments_lexer": "ipython2",
   "version": "2.7.13"
  }
 },
 "nbformat": 4,
 "nbformat_minor": 2
}

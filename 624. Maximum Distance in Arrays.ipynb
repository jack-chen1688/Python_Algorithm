{
 "cells": [
  {
   "cell_type": "markdown",
   "metadata": {},
   "source": [
    "# 624. Maximum Distance in Arrays"
   ]
  },
  {
   "cell_type": "markdown",
   "metadata": {},
   "source": [
    "Given m arrays, and each array is sorted in ascending order. Now you can pick up two integers from two different arrays (each array picks one) and calculate the distance. We define the distance between two integers a and b to be their absolute difference |a-b|. Your task is to find the maximum distance.\n",
    "\n",
    "Example 1:\n",
    "Input: \n",
    "[[1,2,3],\n",
    " [4,5],\n",
    " [1,2,3]]\n",
    "Output: 4\n",
    "Explanation: \n",
    "One way to reach the maximum distance 4 is to pick 1 in the first or third array and pick 5 in the second array.\n",
    "Note:\n",
    "Each given array will have at least 1 number. There will be at least two non-empty arrays.\n",
    "The total number of the integers in all the m arrays will be in the range of [2, 10000].\n",
    "The integers in the m arrays will be in the range of [-10000, 10000].\n"
   ]
  },
  {
   "cell_type": "markdown",
   "metadata": {},
   "source": [
    "## Solution "
   ]
  },
  {
   "cell_type": "code",
   "execution_count": null,
   "metadata": {
    "collapsed": true
   },
   "outputs": [],
   "source": [
    "class Solution(object):\n",
    "    def maxDistance(self, arrays):\n",
    "        \"\"\"\n",
    "        :type arrays: List[List[int]]\n",
    "        :rtype: int\n",
    "        \"\"\"\n",
    "        if arrays[0][0] <= arrays[1][0]:\n",
    "            min_list = [[arrays[0][0], 0], [arrays[1][0], 1]]\n",
    "        else:\n",
    "            min_list = [[arrays[1][0], 1], [arrays[0][0], 0]]\n",
    "        \n",
    "        #max_list: maximum, next to maximum\n",
    "        if arrays[0][-1] >= arrays[1][-1]:\n",
    "            max_list = [[arrays[0][-1], 0], [arrays[1][-1], 1]]\n",
    "        else:\n",
    "            max_list = [[arrays[1][-1], 1], [arrays[0][-1], 0]]\n",
    "            \n",
    "        for i in range(2, len(arrays)):\n",
    "            if arrays[i][0] < min_list[1][0]:\n",
    "                min_list.pop(1)\n",
    "                if arrays[i][0] >= min_list[0][0]:\n",
    "                    min_list.append([arrays[i][0], i])\n",
    "                else:\n",
    "                    min_list.insert(0, [arrays[i][0], i])\n",
    "            if arrays[i][-1] > max_list[1][0]:\n",
    "                max_list.pop(1)\n",
    "                if arrays[i][-1] <= max_list[0][0]:\n",
    "                    max_list.append([arrays[i][-1], i])\n",
    "                else:\n",
    "                    max_list.insert(0, [arrays[i][-1], i])\n",
    "        \n",
    "        if (min_list[0][1] != max_list[0][1]):\n",
    "            return max_list[0][0] - min_list[0][0]\n",
    "        else:\n",
    "            return max(max_list[0][0] - min_list[1][0], max_list[1][0] - min_list[0][0])"
   ]
  }
 ],
 "metadata": {
  "kernelspec": {
   "display_name": "Python 2",
   "language": "python",
   "name": "python2"
  },
  "language_info": {
   "codemirror_mode": {
    "name": "ipython",
    "version": 2
   },
   "file_extension": ".py",
   "mimetype": "text/x-python",
   "name": "python",
   "nbconvert_exporter": "python",
   "pygments_lexer": "ipython2",
   "version": "2.7.13"
  }
 },
 "nbformat": 4,
 "nbformat_minor": 2
}

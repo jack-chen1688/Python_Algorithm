{
 "cells": [
  {
   "cell_type": "markdown",
   "metadata": {},
   "source": [
    "# 346. Moving Average from Data Stream"
   ]
  },
  {
   "cell_type": "markdown",
   "metadata": {},
   "source": [
    "Given a stream of integers and a window size, calculate the moving average of all integers in the sliding window.\n",
    "\n",
    "For example,\n",
    "MovingAverage m = new MovingAverage(3);\n",
    "m.next(1) = 1\n",
    "m.next(10) = (1 + 10) / 2\n",
    "m.next(3) = (1 + 10 + 3) / 3\n",
    "m.next(5) = (10 + 3 + 5) / 3"
   ]
  },
  {
   "cell_type": "markdown",
   "metadata": {},
   "source": [
    "## Solution"
   ]
  },
  {
   "cell_type": "code",
   "execution_count": null,
   "metadata": {
    "collapsed": true
   },
   "outputs": [],
   "source": [
    "class MovingAverage(object):\n",
    "\n",
    "    def __init__(self, size):\n",
    "        \"\"\"\n",
    "        Initialize your data structure here.\n",
    "        :type size: int\n",
    "        \"\"\"\n",
    "        self.__size = size\n",
    "        self.__lst = [0] * size\n",
    "        self.__sum = 0\n",
    "        self.__pos = 0\n",
    "        self.__cnt = 0\n",
    "\n",
    "    def next(self, val):\n",
    "        \"\"\"\n",
    "        :type val: int\n",
    "        :rtype: float\n",
    "        \"\"\"\n",
    "        \n",
    "        if self.__cnt < self.__size:\n",
    "            self.__sum += val\n",
    "            self.__cnt += 1\n",
    "\n",
    "        else:\n",
    "            #print self.__sum, val, self.__lst, self.__pos\n",
    "            self.__sum += val - self.__lst[self.__pos]\n",
    "        \n",
    "        self.__lst[self.__pos] = val\n",
    "        self.__pos = (self.__pos + 1) % self.__size\n",
    "        return float(self.__sum) / self.__cnt"
   ]
  }
 ],
 "metadata": {
  "kernelspec": {
   "display_name": "Python 2",
   "language": "python",
   "name": "python2"
  },
  "language_info": {
   "codemirror_mode": {
    "name": "ipython",
    "version": 2
   },
   "file_extension": ".py",
   "mimetype": "text/x-python",
   "name": "python",
   "nbconvert_exporter": "python",
   "pygments_lexer": "ipython2",
   "version": "2.7.13"
  }
 },
 "nbformat": 4,
 "nbformat_minor": 2
}

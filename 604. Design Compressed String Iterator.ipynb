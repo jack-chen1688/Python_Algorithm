{
 "cells": [
  {
   "cell_type": "markdown",
   "metadata": {},
   "source": [
    "# 604. Design Compressed String Iterator"
   ]
  },
  {
   "cell_type": "markdown",
   "metadata": {},
   "source": [
    "\n",
    "Design and implement a data structure for a compressed string iterator. It should support the following operations: next and hasNext.\n",
    "\n",
    "The given compressed string will be in the form of each letter followed by a positive integer representing the number of this letter existing in the original uncompressed string.\n",
    "\n",
    "next() - if the original string still has uncompressed characters, return the next letter; Otherwise return a white space.\n",
    "hasNext() - Judge whether there is any letter needs to be uncompressed.\n",
    "\n",
    "Note:\n",
    "Please remember to RESET your class variables declared in StringIterator, as static/class variables are persisted across multiple test cases. Please see here for more details.\n",
    "\n",
    "Example:\n",
    "\n",
    "StringIterator iterator = new StringIterator(\"L1e2t1C1o1d1e1\");\n",
    "\n",
    "iterator.next(); // return 'L'\n",
    "iterator.next(); // return 'e'\n",
    "iterator.next(); // return 'e'\n",
    "iterator.next(); // return 't'\n",
    "iterator.next(); // return 'C'\n",
    "iterator.next(); // return 'o'\n",
    "iterator.next(); // return 'd'\n",
    "iterator.hasNext(); // return true\n",
    "iterator.next(); // return 'e'\n",
    "iterator.hasNext(); // return false\n",
    "iterator.next(); // return ' '"
   ]
  },
  {
   "cell_type": "markdown",
   "metadata": {},
   "source": [
    "## Solution "
   ]
  },
  {
   "cell_type": "code",
   "execution_count": null,
   "metadata": {
    "collapsed": true
   },
   "outputs": [],
   "source": [
    "class StringIterator(object):\n",
    "\n",
    "    def __init__(self, compressedString):\n",
    "        \"\"\"\n",
    "        :type compressedString: str\n",
    "        \"\"\"\n",
    "        \n",
    "        length = len(compressedString)\n",
    "        self.lst_str = []\n",
    "        \n",
    "        if length == 0:\n",
    "            return \n",
    "        \n",
    "        ch = compressedString[0]\n",
    "        num_start = None\n",
    "        \n",
    "        for i in xrange(1,length):\n",
    "            if compressedString[i].isdigit(): \n",
    "                if num_start == None:\n",
    "                    num_start = i\n",
    "            else:\n",
    "                #print num_start, i\n",
    "                self.lst_str.append([ch, int(compressedString[num_start:i])])\n",
    "                ch = compressedString[i]\n",
    "                num_start = None\n",
    "        self.lst_str.append([ch, int(compressedString[num_start:])])\n",
    "        self.pos = 0\n",
    "        #print self.lst_str, self.pos\n",
    "        \n",
    "\n",
    "    def next(self):\n",
    "        \"\"\"\n",
    "        :rtype: str\n",
    "        \"\"\"\n",
    "        if self.hasNext():\n",
    "            ch = self.lst_str[self.pos][0]\n",
    "            self.lst_str[self.pos][1] -= 1\n",
    "            if self.lst_str[self.pos][1] == 0:\n",
    "                self.pos += 1\n",
    "            return ch \n",
    "                \n",
    "        else:\n",
    "            return ' '\n",
    "        \n",
    "\n",
    "    def hasNext(self):\n",
    "        \"\"\"\n",
    "        :rtype: bool\n",
    "        \"\"\"\n",
    "        return self.pos < len(self.lst_str) \n",
    "\n",
    "\n",
    "# Your StringIterator object will be instantiated and called as such:\n",
    "# obj = StringIterator(compressedString)\n",
    "# param_1 = obj.next()\n",
    "# param_2 = obj.hasNext()"
   ]
  }
 ],
 "metadata": {
  "kernelspec": {
   "display_name": "Python 2",
   "language": "python",
   "name": "python2"
  },
  "language_info": {
   "codemirror_mode": {
    "name": "ipython",
    "version": 2
   },
   "file_extension": ".py",
   "mimetype": "text/x-python",
   "name": "python",
   "nbconvert_exporter": "python",
   "pygments_lexer": "ipython2",
   "version": "2.7.13"
  }
 },
 "nbformat": 4,
 "nbformat_minor": 2
}

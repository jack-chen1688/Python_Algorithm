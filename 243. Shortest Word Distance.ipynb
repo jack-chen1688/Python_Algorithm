{
 "cells": [
  {
   "cell_type": "markdown",
   "metadata": {},
   "source": [
    "# 243. Shortest Word Distance"
   ]
  },
  {
   "cell_type": "markdown",
   "metadata": {},
   "source": [
    "Given a list of words and two words word1 and word2, return the shortest distance between these two words in the list.\n",
    "\n",
    "For example,\n",
    "Assume that words = [\"practice\", \"makes\", \"perfect\", \"coding\", \"makes\"].\n",
    "\n",
    "Given word1 = “coding”, word2 = “practice”, return 3.\n",
    "Given word1 = \"makes\", word2 = \"coding\", return 1.\n",
    "\n",
    "Note:\n",
    "You may assume that word1 does not equal to word2, and word1 and word2 are both in the list."
   ]
  },
  {
   "cell_type": "markdown",
   "metadata": {},
   "source": [
    "## Solution 1. Use dictionary"
   ]
  },
  {
   "cell_type": "code",
   "execution_count": null,
   "metadata": {
    "collapsed": true
   },
   "outputs": [],
   "source": [
    "class Solution(object):\n",
    "    def shortestDistance(self, words, word1, word2):\n",
    "        \"\"\"\n",
    "        :type words: List[str]\n",
    "        :type word1: str\n",
    "        :type word2: str\n",
    "        :rtype: int\n",
    "        \"\"\"\n",
    "        dict = {}\n",
    "        \n",
    "        for i, word in enumerate(words):\n",
    "            dict.setdefault(word,[]).append(i)\n",
    "        \n",
    "        #print dict\n",
    "        lst1 = dict[word1]\n",
    "        lst2 = dict[word2]\n",
    "\n",
    "        min_dis = None\n",
    "        \n",
    "        for i in lst1:\n",
    "            for j in lst2:\n",
    "                dis = abs(j-i)\n",
    "                if min_dis != None:\n",
    "                    if dis < min_dis:\n",
    "                        min_dis = dis\n",
    "                        if min_dis == 1:\n",
    "                            return 1\n",
    "                else:\n",
    "                    min_dis = dis \n",
    "                    \n",
    "        return min_dis"
   ]
  },
  {
   "cell_type": "markdown",
   "metadata": {},
   "source": [
    "## Solution 2. Use bisect and dictionary"
   ]
  },
  {
   "cell_type": "code",
   "execution_count": null,
   "metadata": {
    "collapsed": true
   },
   "outputs": [],
   "source": [
    "class Solution(object):\n",
    "    def shortestDistance(self, words, word1, word2):\n",
    "        \"\"\"\n",
    "        :type words: List[str]\n",
    "        :type word1: str\n",
    "        :type word2: str\n",
    "        :rtype: int\n",
    "        \"\"\"\n",
    "        dict = {}\n",
    "        \n",
    "        for i, word in enumerate(words):\n",
    "            dict.setdefault(word,[]).append(i)\n",
    "        \n",
    "        #print dict\n",
    "        lst1 = dict[word1]\n",
    "        lst2 = dict[word2]\n",
    "\n",
    "        min_dis = None\n",
    "        \n",
    "        for j in lst2:\n",
    "            pos = bisect.bisect_left(lst1, j)\n",
    "            if pos == 0:\n",
    "                dis = lst1[0] - j\n",
    "            elif pos == len(lst1): \n",
    "                dis = j - lst1[-1]\n",
    "            else:\n",
    "                dis = min(lst1[pos] - j, j - lst1[pos-1])\n",
    "                \n",
    "            if min_dis != None:\n",
    "                if dis < min_dis:\n",
    "                    min_dis = dis\n",
    "                    #if min_dis == 1:\n",
    "                    #    return 1\n",
    "            else:\n",
    "                min_dis = dis \n",
    "                    \n",
    "        return min_dis"
   ]
  },
  {
   "cell_type": "markdown",
   "metadata": {},
   "source": [
    "## Solution 3. Scan the List"
   ]
  },
  {
   "cell_type": "code",
   "execution_count": null,
   "metadata": {
    "collapsed": true
   },
   "outputs": [],
   "source": [
    "class Solution(object):\n",
    "    def shortestDistance(self, words, word1, word2):\n",
    "        \"\"\"\n",
    "        :type words: List[str]\n",
    "        :type word1: str\n",
    "        :type word2: str\n",
    "        :rtype: int\n",
    "        \"\"\"\n",
    "        min_dis = float(\"inf\")\n",
    "        pos1 = None\n",
    "        pos2 = None\n",
    "        for i, word in enumerate(words):\n",
    "            if word == word1:\n",
    "                pos1 = i\n",
    "                if pos2 != None:\n",
    "                    min_dis = min(min_dis, i - pos2)\n",
    "\n",
    "            elif word == word2:\n",
    "                pos2 = i\n",
    "                if pos1 != None:\n",
    "                    min_dis = min(min_dis, i - pos1)\n",
    "        \n",
    "        return min_dis"
   ]
  }
 ],
 "metadata": {
  "kernelspec": {
   "display_name": "Python 2",
   "language": "python",
   "name": "python2"
  },
  "language_info": {
   "codemirror_mode": {
    "name": "ipython",
    "version": 2
   },
   "file_extension": ".py",
   "mimetype": "text/x-python",
   "name": "python",
   "nbconvert_exporter": "python",
   "pygments_lexer": "ipython2",
   "version": "2.7.13"
  }
 },
 "nbformat": 4,
 "nbformat_minor": 2
}

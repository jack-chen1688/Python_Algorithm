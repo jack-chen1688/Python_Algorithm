{
 "cells": [
  {
   "cell_type": "markdown",
   "metadata": {},
   "source": [
    "# 51. N-Queens"
   ]
  },
  {
   "cell_type": "markdown",
   "metadata": {},
   "source": [
    "The n-queens puzzle is the problem of placing n queens on an n×n chessboard such that no two queens attack each other.\n",
    "\n",
    "Given an integer n, return all distinct solutions to the n-queens puzzle.\n",
    "\n",
    "Each solution contains a distinct board configuration of the n-queens' placement, where 'Q' and '.' both indicate a queen and an empty space respectively.\n",
    "\n",
    "For example,\n",
    "There exist two distinct solutions to the 4-queens puzzle:\n",
    "\n",
    "[\n",
    " [\".Q..\",  // Solution 1\n",
    "  \"...Q\",\n",
    "  \"Q...\",\n",
    "  \"..Q.\"],\n",
    "\n",
    " [\"..Q.\",  // Solution 2\n",
    "  \"Q...\",\n",
    "  \"...Q\",\n",
    "  \".Q..\"]\n",
    "]"
   ]
  },
  {
   "cell_type": "markdown",
   "metadata": {},
   "source": [
    "## Solution 1.`"
   ]
  },
  {
   "cell_type": "code",
   "execution_count": 1,
   "metadata": {},
   "outputs": [
    {
     "name": "stdout",
     "output_type": "stream",
     "text": [
      "[['Q....', '...Q.', '.Q...', '....Q', '..Q..'], ['Q....', '..Q..', '....Q', '.Q...', '...Q.'], ['..Q..', 'Q....', '...Q.', '.Q...', '....Q'], ['...Q.', 'Q....', '..Q..', '....Q', '.Q...'], ['.Q...', '...Q.', 'Q....', '..Q..', '....Q'], ['....Q', '..Q..', 'Q....', '...Q.', '.Q...'], ['.Q...', '....Q', '..Q..', 'Q....', '...Q.'], ['....Q', '.Q...', '...Q.', 'Q....', '..Q..'], ['...Q.', '.Q...', '....Q', '..Q..', 'Q....'], ['..Q..', '....Q', '.Q...', '...Q.', 'Q....']]\n"
     ]
    }
   ],
   "source": [
    "class Solution(object):\n",
    "    def solveNQueens(self, n):\n",
    "        \"\"\"\n",
    "        :type n: int\n",
    "        :rtype: List[List[str]]\n",
    "        \"\"\"\n",
    "        def isCurrentStepValid(l):\n",
    "            length = len(l)\n",
    "            last_pos, last_val = length - 1, l[-1]\n",
    "            \n",
    "            for pos, val in enumerate(l[:length-1]):\n",
    "                if pos + val == last_pos + last_val or val - pos == last_val - last_pos or val == last_val:\n",
    "                    return False\n",
    "            return True\n",
    "        \n",
    "        \n",
    "        if n == 1:\n",
    "            return [['Q']]\n",
    "        if n == 2 or n == 3:\n",
    "            return []\n",
    "        \n",
    "        r_lists= []\n",
    "        r_list = [0]\n",
    "        is_valid = 1\n",
    "        pos = 0\n",
    "        pop_val = -1\n",
    "            \n",
    "        while 1:\n",
    "            if is_valid:\n",
    "                if pos == n-1:\n",
    "                    r_lists.append(list(r_list))\n",
    "                    pop_val = r_list.pop()\n",
    "                    pos-=1\n",
    "                    if pop_val == n-1:\n",
    "                        # pop one more time\n",
    "                        pop_val = r_list.pop()\n",
    "                        pos -= 1\n",
    "                    is_valid = 1\n",
    "                else:\n",
    "                    r_list.append(pop_val + 1)\n",
    "                    pos += 1\n",
    "                    is_valid = isCurrentStepValid(r_list)\n",
    "                    # no pop, if valid, append next with 0\n",
    "                    #print r_list, is_valid, pos\n",
    "                    pop_val = -1\n",
    "            else:\n",
    "                pop_val = r_list.pop()\n",
    "                pos -= 1\n",
    "                if pop_val == n-1:\n",
    "                    pop_val = r_list.pop()\n",
    "                    pos -= 1\n",
    "                    if pop_val == n-1:\n",
    "                        if pos == -1:\n",
    "                            break\n",
    "                        else:\n",
    "                            pop_val = r_list.pop()\n",
    "                            pos -= 1\n",
    "                \n",
    "                #pop_val < n-1 here\n",
    "                is_valid = 1\n",
    "        \n",
    "        matrix=[]\n",
    "        for l in r_lists:\n",
    "            str_list = ['' for i in range(n)]\n",
    "            \n",
    "            for index, val in enumerate(l):\n",
    "                str_list[val] = '.' * index + 'Q' + '.' * (n - 1 - index)\n",
    "                \n",
    "            matrix.append(str_list)\n",
    "                \n",
    "        return matrix      \n",
    "\n",
    "def main():\n",
    "    print Solution().solveNQueens(5)\n",
    "\n",
    "if __name__ == \"__main__\":\n",
    "    main()\n"
   ]
  }
 ],
 "metadata": {
  "kernelspec": {
   "display_name": "Python 2",
   "language": "python",
   "name": "python2"
  },
  "language_info": {
   "codemirror_mode": {
    "name": "ipython",
    "version": 2
   },
   "file_extension": ".py",
   "mimetype": "text/x-python",
   "name": "python",
   "nbconvert_exporter": "python",
   "pygments_lexer": "ipython2",
   "version": "2.7.13"
  }
 },
 "nbformat": 4,
 "nbformat_minor": 2
}

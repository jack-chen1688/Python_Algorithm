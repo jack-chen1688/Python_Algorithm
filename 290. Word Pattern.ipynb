{
 "cells": [
  {
   "cell_type": "markdown",
   "metadata": {},
   "source": [
    "# 290. Word Pattern"
   ]
  },
  {
   "cell_type": "markdown",
   "metadata": {},
   "source": [
    "Given a pattern and a string str, find if str follows the same pattern.\n",
    "\n",
    "Here follow means a full match, such that there is a bijection between a letter in pattern and a non-empty word in str.\n",
    "\n",
    "Examples:\n",
    "pattern = \"abba\", str = \"dog cat cat dog\" should return true.\n",
    "pattern = \"abba\", str = \"dog cat cat fish\" should return false.\n",
    "pattern = \"aaaa\", str = \"dog cat cat dog\" should return false.\n",
    "pattern = \"abba\", str = \"dog dog dog dog\" should return false.\n",
    "Notes:\n",
    "You may assume pattern contains only lowercase letters, and str contains lowercase letters separated by a single space.\n",
    "\n",
    "Credits:\n",
    "Special thanks to @minglotus6 for adding this problem and creating all test cases."
   ]
  },
  {
   "cell_type": "markdown",
   "metadata": {},
   "source": [
    "## Solution 1. Method Based on dictionary"
   ]
  },
  {
   "cell_type": "code",
   "execution_count": null,
   "metadata": {
    "collapsed": true
   },
   "outputs": [],
   "source": [
    "class Solution(object):\n",
    "    def wordPattern(self, pattern, str):\n",
    "        \"\"\"\n",
    "        :type pattern: str\n",
    "        :type str: str\n",
    "        :rtype: bool\n",
    "        \"\"\"\n",
    "        \n",
    "        dict0, dict1 = {}, {}\n",
    "        lst0, lst1 = [], []\n",
    "        \n",
    "        for i, ch in enumerate(pattern ):\n",
    "            lst0.append(dict0.setdefault(ch, i))\n",
    "            \n",
    "        \n",
    "        for i, sub in enumerate(str.split()):\n",
    "            lst1.append(dict1.setdefault(sub, i))\n",
    "        \n",
    "        #print lst0, lst1\n",
    "        return lst0 == lst1"
   ]
  },
  {
   "cell_type": "markdown",
   "metadata": {},
   "source": [
    "## Solution 2. Method Based on map()  (LeetCode Fast Solution)"
   ]
  },
  {
   "cell_type": "code",
   "execution_count": null,
   "metadata": {
    "collapsed": true
   },
   "outputs": [],
   "source": [
    "class Solution(object):\n",
    "    def wordPattern(self, pattern, str):\n",
    "        \"\"\"\n",
    "        :type pattern: str\n",
    "        :type str: str\n",
    "        :rtype: bool\n",
    "        \"\"\"\n",
    "        \n",
    "        lst = str.split()\n",
    "        return map(pattern.find, pattern) == map(lst.index, lst)"
   ]
  },
  {
   "cell_type": "markdown",
   "metadata": {},
   "source": [
    "## Solution 3. Method Using Both Map() and Dictionary"
   ]
  },
  {
   "cell_type": "code",
   "execution_count": null,
   "metadata": {
    "collapsed": true
   },
   "outputs": [],
   "source": [
    "class Solution(object):\n",
    "    def wordPattern(self, pattern, str):\n",
    "        \"\"\"\n",
    "        :type pattern: str\n",
    "        :type str: str\n",
    "        :rtype: bool\n",
    "        \"\"\"\n",
    "        \n",
    "        lst = str.split()\n",
    "        return map({}.setdefault, pattern, xrange(len(pattern))) == map({}.setdefault, str.split(), xrange(len(lst)))"
   ]
  }
 ],
 "metadata": {
  "kernelspec": {
   "display_name": "Python 2",
   "language": "python",
   "name": "python2"
  },
  "language_info": {
   "codemirror_mode": {
    "name": "ipython",
    "version": 2
   },
   "file_extension": ".py",
   "mimetype": "text/x-python",
   "name": "python",
   "nbconvert_exporter": "python",
   "pygments_lexer": "ipython2",
   "version": "2.7.11"
  }
 },
 "nbformat": 4,
 "nbformat_minor": 2
}

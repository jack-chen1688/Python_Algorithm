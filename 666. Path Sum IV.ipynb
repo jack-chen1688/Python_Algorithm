{
 "cells": [
  {
   "cell_type": "markdown",
   "metadata": {},
   "source": [
    "# 666. Path Sum IV"
   ]
  },
  {
   "cell_type": "markdown",
   "metadata": {},
   "source": [
    "If the depth of a tree is smaller than 5, then this tree can be represented by a list of three-digits integers.\n",
    "\n",
    "For each integer in this list:\n",
    "The hundreds digit represents the depth D of this node, 1 <= D <= 4.\n",
    "The tens digit represents the position P of this node in the level it belongs to, 1 <= P <= 8. The position is the same as that in a full binary tree.\n",
    "The units digit represents the value V of this node, 0 <= V <= 9.\n",
    "Given a list of ascending three-digits integers representing a binary with the depth smaller than 5. You need to return the sum of all paths from the root towards the leaves.\n",
    "\n",
    "Example 1:\n",
    "Input: [113, 215, 221]\n",
    "Output: 12\n",
    "Explanation: \n",
    "The tree that the list represents is:\n",
    "    3\n",
    "   / \\\n",
    "  5   1\n",
    "\n",
    "The path sum is (3 + 5) + (3 + 1) = 12.\n",
    "Example 2:\n",
    "Input: [113, 221]\n",
    "Output: 4\n",
    "Explanation: \n",
    "The tree that the list represents is: \n",
    "    3\n",
    "     \\\n",
    "      1\n",
    "\n",
    "The path sum is (3 + 1) = 4."
   ]
  },
  {
   "cell_type": "markdown",
   "metadata": {},
   "source": [
    "## Solution 1."
   ]
  },
  {
   "cell_type": "code",
   "execution_count": null,
   "metadata": {
    "collapsed": true
   },
   "outputs": [],
   "source": [
    "class Solution(object):\n",
    "    def pathSum(self, nums):\n",
    "        \"\"\"\n",
    "        :type nums: List[int]\n",
    "        :rtype: int\n",
    "        \"\"\"\n",
    "\n",
    "    \"\"\"\n",
    "         1\n",
    "        1 2\n",
    "       1 2 3 4\n",
    "    1 2  3 4  5 6  7 8\n",
    "    \n",
    "    Start from depth 4, for every leave, increase its parent's leave count.\n",
    "    And every node will add up all the count of leaves that it has.\n",
    "    \n",
    "    \"\"\"\n",
    "    \n",
    "        if len(nums) == 1:\n",
    "            return int(str(nums[0])[2])\n",
    "        \n",
    "        lsts = [[] for i in xrange(4)]\n",
    "        \n",
    "        for i in xrange(4):\n",
    "            for j in xrange(2**i):\n",
    "                # left: val, right: #num leaves\n",
    "                lsts[i].append([None, 0])\n",
    "        \n",
    "        #print lsts\n",
    "        \n",
    "        for num in nums:\n",
    "            s= str(num)\n",
    "            dep, pos, val = int(s[0]), int(s[1]), int(s[2])\n",
    "            lsts[dep-1][pos-1] = [val, 0]\n",
    "        \n",
    "        #print lsts \n",
    "        \n",
    "        total = 0\n",
    "        \n",
    "        for dep in xrange(4, 1, -1):\n",
    "            for i, lst in enumerate(lsts[dep -1]):\n",
    "                print i, lst\n",
    "                if lst[0] != None:\n",
    "                    print dep, i, lst\n",
    "                    if lst[1] == 0:\n",
    "                        lsts[dep-2][i/2][1] += 1\n",
    "                    else:\n",
    "                        lsts[dep-2][i/2][1] += lst[1]\n",
    "                        \n",
    "                    if lst[1] == 0:\n",
    "                        total += lst[0]\n",
    "                    else:\n",
    "                        total += lst[0]*lst[1]\n",
    "        \n",
    "        #print lsts\n",
    "        \n",
    "        total += lsts[0][0][0] * lsts[0][0][1]\n",
    "        \n",
    "            \n",
    "        return total \n",
    "        "
   ]
  },
  {
   "cell_type": "markdown",
   "metadata": {},
   "source": [
    "## Solution 2. Use DFS"
   ]
  },
  {
   "cell_type": "code",
   "execution_count": null,
   "metadata": {
    "collapsed": true
   },
   "outputs": [],
   "source": [
    "class Solution(object):\n",
    "    def pathSum(self, nums):\n",
    "        \"\"\"\n",
    "        :type nums: List[int]\n",
    "        :rtype: int\n",
    "        \"\"\"\n",
    "        \n",
    "        lst = [[None for i in range(32)] for j in range(5)]\n",
    "        \n",
    "        for num in nums:\n",
    "            dep = int(str(num)[0])\n",
    "            pos = int(str(num)[1])\n",
    "            val = int(str(num)[2])\n",
    "            lst[dep-1][pos-1] = val\n",
    "        \n",
    "        #print lst\n",
    "        \n",
    "        def pathsToLeaves(i, j):\n",
    "            if lst[i][j] == None:\n",
    "                return []\n",
    "            \n",
    "            left_paths = pathsToLeaves(i+1, 2*j)\n",
    "            right_paths = pathsToLeaves(i+1, 2*j+1)\n",
    "            \n",
    "            paths = left_paths + right_paths\n",
    "            new_paths = []\n",
    "            if paths != []:\n",
    "                for path in paths:\n",
    "                    new_paths.append([(i,j)] + path)\n",
    "            else:\n",
    "                new_paths = [[(i,j)]]\n",
    "                \n",
    "            return new_paths\n",
    "    \n",
    "        paths = pathsToLeaves(0,0)\n",
    "\n",
    "        tot = 0\n",
    "        for path in paths:\n",
    "            for i,j in path:\n",
    "                tot += lst[i][j]"
   ]
  }
 ],
 "metadata": {
  "kernelspec": {
   "display_name": "Python 2",
   "language": "python",
   "name": "python2"
  },
  "language_info": {
   "codemirror_mode": {
    "name": "ipython",
    "version": 2
   },
   "file_extension": ".py",
   "mimetype": "text/x-python",
   "name": "python",
   "nbconvert_exporter": "python",
   "pygments_lexer": "ipython2",
   "version": "2.7.13"
  }
 },
 "nbformat": 4,
 "nbformat_minor": 2
}

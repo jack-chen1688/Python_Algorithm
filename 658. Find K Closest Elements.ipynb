{
 "cells": [
  {
   "cell_type": "markdown",
   "metadata": {},
   "source": [
    "# 658. Find K Closest Elements"
   ]
  },
  {
   "cell_type": "markdown",
   "metadata": {},
   "source": [
    "Given a sorted array, two integers k and x, find the k closest elements to x in the array. The result should also be sorted in ascending order. If there is a tie, the smaller elements are always preferred.\n",
    "\n",
    "Example 1:\n",
    "Input: [1,2,3,4,5], k=4, x=3\n",
    "Output: [1,2,3,4]\n",
    "Example 2:\n",
    "Input: [1,2,3,4,5], k=4, x=-1\n",
    "Output: [1,2,3,4]\n",
    "Note:\n",
    "The value k is positive and will always be smaller than the length of the sorted array.\n",
    "Length of the given array is positive and will not exceed 104\n",
    "Absolute value of elements in the array and x will not exceed 104"
   ]
  },
  {
   "cell_type": "markdown",
   "metadata": {},
   "source": [
    "## Solution"
   ]
  },
  {
   "cell_type": "code",
   "execution_count": null,
   "metadata": {
    "collapsed": true
   },
   "outputs": [],
   "source": [
    "class Solution(object):\n",
    "    def findClosestElements(self, arr, k, x):\n",
    "        \"\"\"\n",
    "        :type arr: List[int]\n",
    "        :type k: int\n",
    "        :type x: int\n",
    "        :rtype: List[int]\n",
    "        \"\"\"\n",
    "        \n",
    "        pos = bisect.bisect_right(arr, x)\n",
    "        \n",
    "        if pos == 0:\n",
    "            return arr[:k]\n",
    "        \n",
    "        if pos == len(arr):\n",
    "            return arr[-k:]\n",
    "        \n",
    "        l_pos = pos - 1\n",
    "        r_pos = pos\n",
    "        cnt = 0\n",
    "        \n",
    "        #print l_pos, r_pos, cnt\n",
    "        lst = []\n",
    "        while cnt < k:\n",
    "            if x - arr[l_pos] <= arr[r_pos] - x:\n",
    "                cnt += 1\n",
    "                lst = [arr[l_pos]] + lst\n",
    "                l_pos -= 1\n",
    "                if l_pos < 0:\n",
    "                    break\n",
    "            else:\n",
    "                cnt += 1\n",
    "                lst.append(arr[r_pos])\n",
    "                r_pos += 1\n",
    "                if r_pos == len(arr):\n",
    "                    break\n",
    "            #print \"cnt=\", cnt, lst, \"l\", l_pos, \"r\", r_pos\n",
    "        \n",
    "        #print cnt, lst, l_pos, r_pos\n",
    "        if cnt < k:\n",
    "            remains = k - cnt\n",
    "            if l_pos < 0:\n",
    "                lst = lst + arr[r_pos: r_pos + remains]\n",
    "            else:\n",
    "                lst = arr[l_pos-remains+1: l_pos+1] + lst\n",
    "        \n",
    "        return lst"
   ]
  }
 ],
 "metadata": {
  "kernelspec": {
   "display_name": "Python 2",
   "language": "python",
   "name": "python2"
  },
  "language_info": {
   "codemirror_mode": {
    "name": "ipython",
    "version": 2
   },
   "file_extension": ".py",
   "mimetype": "text/x-python",
   "name": "python",
   "nbconvert_exporter": "python",
   "pygments_lexer": "ipython2",
   "version": "2.7.13"
  }
 },
 "nbformat": 4,
 "nbformat_minor": 2
}

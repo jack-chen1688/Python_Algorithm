{
 "cells": [
  {
   "cell_type": "markdown",
   "metadata": {},
   "source": [
    "# 655. Print Binary Tree"
   ]
  },
  {
   "cell_type": "markdown",
   "metadata": {},
   "source": [
    "Print a binary tree in an m*n 2D string array following these rules:\n",
    "\n",
    "The row number m should be equal to the height of the given binary tree.\n",
    "The column number n should always be an odd number.\n",
    "The root node's value (in string format) should be put in the exactly middle of the first row it can be put. The column and the row where the root node belongs will separate the rest space into two parts (left-bottom part and right-bottom part). You should print the left subtree in the left-bottom part and print the right subtree in the right-bottom part. The left-bottom part and the right-bottom part should have the same size. Even if one subtree is none while the other is not, you don't need to print anything for the none subtree but still need to leave the space as large as that for the other subtree. However, if two subtrees are none, then you don't need to leave space for both of them.\n",
    "Each unused space should contain an empty string \"\".\n",
    "Print the subtrees following the same rules.\n",
    "Example 1:\n",
    "Input:\n",
    "     1\n",
    "    /\n",
    "   2\n",
    "Output:\n",
    "[[\"\", \"1\", \"\"],\n",
    " [\"2\", \"\", \"\"]]\n",
    "Example 2:\n",
    "Input:\n",
    "     1\n",
    "    / \\\n",
    "   2   3\n",
    "    \\\n",
    "     4\n",
    "Output:\n",
    "[[\"\", \"\", \"\", \"1\", \"\", \"\", \"\"],\n",
    " [\"\", \"2\", \"\", \"\", \"\", \"3\", \"\"],\n",
    " [\"\", \"\", \"4\", \"\", \"\", \"\", \"\"]]\n",
    "Example 3:\n",
    "Input:\n",
    "      1\n",
    "     / \\\n",
    "    2   5\n",
    "   / \n",
    "  3 \n",
    " / \n",
    "4 \n",
    "Output:\n",
    "\n",
    "[[\"\",  \"\",  \"\", \"\",  \"\", \"\", \"\", \"1\", \"\",  \"\",  \"\",  \"\",  \"\", \"\", \"\"]\n",
    " [\"\",  \"\",  \"\", \"2\", \"\", \"\", \"\", \"\",  \"\",  \"\",  \"\",  \"5\", \"\", \"\", \"\"]\n",
    " [\"\",  \"3\", \"\", \"\",  \"\", \"\", \"\", \"\",  \"\",  \"\",  \"\",  \"\",  \"\", \"\", \"\"]\n",
    " [\"4\", \"\",  \"\", \"\",  \"\", \"\", \"\", \"\",  \"\",  \"\",  \"\",  \"\",  \"\", \"\", \"\"]]\n",
    "Note: The height of binary tree is in the range of [1, 10]."
   ]
  },
  {
   "cell_type": "markdown",
   "metadata": {},
   "source": [
    "## Solution"
   ]
  },
  {
   "cell_type": "code",
   "execution_count": null,
   "metadata": {
    "collapsed": true
   },
   "outputs": [],
   "source": [
    "# Definition for a binary tree node.\n",
    "# class TreeNode(object):\n",
    "#     def __init__(self, x):\n",
    "#         self.val = x\n",
    "#         self.left = None\n",
    "#         self.right = None\n",
    "\n",
    "class Solution(object):\n",
    "    def printTree(self, root):\n",
    "        \"\"\"\n",
    "        :type root: TreeNode\n",
    "        :rtype: List[List[str]]\n",
    "        \"\"\"\n",
    "        \n",
    "        def treeDepth(root):\n",
    "            if root == None:\n",
    "                return 0\n",
    "            \n",
    "            return max(treeDepth(root.left), treeDepth(root.right)) + 1\n",
    "        \n",
    "        depth = treeDepth(root)\n",
    "\n",
    "        row_len = 2 ** depth - 1\n",
    "        result = [\"\" \n",
    "        lst = [(root, row_len/2)]\n",
    "        offset = (row_len + 1)/2\n",
    "        \n",
    "        while lst != []:\n",
    "            row_str = [\"\"] * row_len\n",
    "            nxt_lst = []\n",
    "            offset = offset/2\n",
    "            for node, pos in lst:\n",
    "                row_str[pos] = format(node.val, 'd')\n",
    "                if node.left:\n",
    "                    nxt_lst.append((node.left, pos - offset))\n",
    "                \n",
    "                if node.right:\n",
    "                    nxt_lst.append((node.right, pos + offset))\n",
    "            \n",
    "            result.append(row_str)\n",
    "            lst = nxt_lst\n",
    "        return result"
   ]
  }
 ],
 "metadata": {
  "kernelspec": {
   "display_name": "Python 2",
   "language": "python",
   "name": "python2"
  },
  "language_info": {
   "codemirror_mode": {
    "name": "ipython",
    "version": 2
   },
   "file_extension": ".py",
   "mimetype": "text/x-python",
   "name": "python",
   "nbconvert_exporter": "python",
   "pygments_lexer": "ipython2",
   "version": "2.7.13"
  }
 },
 "nbformat": 4,
 "nbformat_minor": 2
}

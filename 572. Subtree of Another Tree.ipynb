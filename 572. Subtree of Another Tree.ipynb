{
 "cells": [
  {
   "cell_type": "markdown",
   "metadata": {},
   "source": [
    "# 572. Subtree of Another Tree"
   ]
  },
  {
   "cell_type": "markdown",
   "metadata": {},
   "source": [
    "Given two non-empty binary trees s and t, check whether tree t has exactly the same structure and node values with a subtree of s. A subtree of s is a tree consists of a node in s and all of this node's descendants. The tree s could also be considered as a subtree of itself.\n",
    "\n",
    "Example 1:\n",
    "Given tree s:\n",
    "\n",
    "     3\n",
    "    / \\\n",
    "   4   5\n",
    "  / \\\n",
    " 1   2\n",
    "Given tree t:\n",
    "   4 \n",
    "  / \\\n",
    " 1   2\n",
    "Return true, because t has the same structure and node values with a subtree of s.\n",
    "Example 2:\n",
    "Given tree s:\n",
    "\n",
    "     3\n",
    "    / \\\n",
    "   4   5\n",
    "  / \\\n",
    " 1   2\n",
    "    /\n",
    "   0\n",
    "Given tree t:\n",
    "   4\n",
    "  / \\\n",
    " 1   2\n",
    "Return false."
   ]
  },
  {
   "cell_type": "markdown",
   "metadata": {},
   "source": [
    "## Solution"
   ]
  },
  {
   "cell_type": "code",
   "execution_count": null,
   "metadata": {
    "collapsed": true
   },
   "outputs": [],
   "source": [
    "# Definition for a binary tree node.\n",
    "# class TreeNode(object):\n",
    "#     def __init__(self, x):\n",
    "#         self.val = x\n",
    "#         self.left = None\n",
    "#         self.right = None\n",
    "\n",
    "class Solution(object):\n",
    "    def isSubtree(self, s, t):\n",
    "        \"\"\"\n",
    "        :type s: TreeNode\n",
    "        :type t: TreeNode\n",
    "        :rtype: bool\n",
    "        \"\"\"\n",
    "        \n",
    "        def dfs(root):\n",
    "            \n",
    "            if root == None:\n",
    "                return \":null\"\n",
    "            \n",
    "            sig = \":\" + str(root.val) + \"l\" + dfs(root.left) + \"r\" + dfs(root.right)\n",
    "            \n",
    "            return sig\n",
    "\n",
    "        return dfs(t) in dfs(s)"
   ]
  }
 ],
 "metadata": {
  "kernelspec": {
   "display_name": "Python 2",
   "language": "python",
   "name": "python2"
  },
  "language_info": {
   "codemirror_mode": {
    "name": "ipython",
    "version": 2
   },
   "file_extension": ".py",
   "mimetype": "text/x-python",
   "name": "python",
   "nbconvert_exporter": "python",
   "pygments_lexer": "ipython2",
   "version": "2.7.13"
  }
 },
 "nbformat": 4,
 "nbformat_minor": 2
}

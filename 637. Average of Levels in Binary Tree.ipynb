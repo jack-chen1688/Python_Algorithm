{
 "cells": [
  {
   "cell_type": "markdown",
   "metadata": {},
   "source": [
    "# 637. Average of Levels in Binary Tree"
   ]
  },
  {
   "cell_type": "code",
   "execution_count": null,
   "metadata": {
    "collapsed": true
   },
   "outputs": [],
   "source": [
    "Given a non-empty binary tree, return the average value of the nodes on each level in the form of an array.\n",
    "\n",
    "Example 1:\n",
    "Input:\n",
    "    3\n",
    "   / \\\n",
    "  9  20\n",
    "    /  \\\n",
    "   15   7\n",
    "Output: [3, 14.5, 11]\n",
    "Explanation:\n",
    "The average value of nodes on level 0 is 3,  on level 1 is 14.5, and on level 2 is 11. Hence return [3, 14.5, 11].\n",
    "Note:\n",
    "The range of node's value is in the range of 32-bit signed integer."
   ]
  },
  {
   "cell_type": "markdown",
   "metadata": {},
   "source": [
    "## Solution"
   ]
  },
  {
   "cell_type": "code",
   "execution_count": null,
   "metadata": {
    "collapsed": true
   },
   "outputs": [],
   "source": [
    "# Definition for a binary tree node.\n",
    "# class TreeNode(object):\n",
    "#     def __init__(self, x):\n",
    "#         self.val = x\n",
    "#         self.left = None\n",
    "#         self.right = None\n",
    "\n",
    "class Solution(object):\n",
    "    def averageOfLevels(self, root):\n",
    "        \"\"\"\n",
    "        :type root: TreeNode\n",
    "        :rtype: List[float]\n",
    "        \"\"\"\n",
    "        if not root:\n",
    "            return []\n",
    "        \n",
    "        results = [root.val]\n",
    "        level = 0\n",
    "        \n",
    "        nodes = [root]\n",
    "        while 1:\n",
    "            level += 1\n",
    "            nodes1 = []\n",
    "            total = 0\n",
    "            for node in nodes:\n",
    "                if node.left: \n",
    "                    nodes1.append(node.left)\n",
    "                    total += node.left.val\n",
    "                if node.right:\n",
    "                    nodes1.append(node.right)\n",
    "                    total += node.right.val\n",
    "            \n",
    "            if len(nodes1) == 0: \n",
    "                break\n",
    "                \n",
    "            average = float(total) / len(nodes1)\n",
    "            results.append(average)\n",
    "            nodes = nodes1\n",
    "        \n",
    "        return results"
   ]
  }
 ],
 "metadata": {
  "kernelspec": {
   "display_name": "Python 2",
   "language": "python",
   "name": "python2"
  },
  "language_info": {
   "codemirror_mode": {
    "name": "ipython",
    "version": 2
   },
   "file_extension": ".py",
   "mimetype": "text/x-python",
   "name": "python",
   "nbconvert_exporter": "python",
   "pygments_lexer": "ipython2",
   "version": "2.7.13"
  }
 },
 "nbformat": 4,
 "nbformat_minor": 2
}

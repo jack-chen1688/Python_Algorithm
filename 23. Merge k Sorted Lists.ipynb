{
 "cells": [
  {
   "cell_type": "markdown",
   "metadata": {},
   "source": [
    "# 23. Merge k Sorted Lists"
   ]
  },
  {
   "cell_type": "markdown",
   "metadata": {},
   "source": [
    "Merge k sorted linked lists and return it as one sorted list. Analyze and describe its complexity."
   ]
  },
  {
   "cell_type": "markdown",
   "metadata": {},
   "source": [
    "## Solution"
   ]
  },
  {
   "cell_type": "code",
   "execution_count": null,
   "metadata": {
    "collapsed": true
   },
   "outputs": [],
   "source": [
    "# Definition for singly-linked list.\n",
    "# class ListNode(object):\n",
    "#     def __init__(self, x):\n",
    "#         self.val = x\n",
    "#         self.next = None\n",
    "\n",
    "class Solution(object):\n",
    "    def merge2Lists(self, list0, list1):\n",
    "        \n",
    "        if not list0:\n",
    "            return list1\n",
    "        elif not list1:\n",
    "            return list0\n",
    "        \n",
    "        head = ListNode(0)\n",
    "        \n",
    "        node0 = list0\n",
    "        node1 = list1\n",
    "        node = head\n",
    "        \n",
    "        #print node0.val, node1.val\n",
    "        \n",
    "        #while not node0 and not node1:\n",
    "        \n",
    "        while node0 and node1:\n",
    "            #print \"before\", node0.val, node1.val\n",
    "            if node0.val <= node1.val:\n",
    "                node.next = node0\n",
    "                node0 = node0.next\n",
    "            else:\n",
    "                node.next = node1\n",
    "                node1 = node1.next\n",
    "\n",
    "            node = node.next\n",
    "            \n",
    "            #print node0.val, node1.val\n",
    "\n",
    "        if node0:\n",
    "            #print \"node0\", node0.val\n",
    "            node.next = node0\n",
    "        else:\n",
    "            #print \"node1\", node1.val\n",
    "            node.next = node1\n",
    "            \n",
    "        return head.next\n",
    "    \n",
    "    def mergeKLists(self, lists):\n",
    "        \"\"\"\n",
    "        :type lists: List[ListNode]\n",
    "        :rtype: ListNode\n",
    "        \"\"\"\n",
    "        \n",
    "        if not lists:\n",
    "            return []\n",
    "        \n",
    "        while len(lists) > 1:\n",
    "            list_size = len(lists)\n",
    "        \n",
    "            lists_next = []\n",
    "            if list_size & 1:\n",
    "                to_merge = list_size - 1\n",
    "                lists_next.append(lists[-1])\n",
    "            else:\n",
    "                to_merge = list_size\n",
    "            \n",
    "            for i in range(to_merge/2):\n",
    "                lists_next.append(self.merge2Lists(lists[2*i], lists[2*i+1]))\n",
    "            \n",
    "            #print lists_next\n",
    "            lists = lists_next\n",
    "        \n",
    "        return lists[0]"
   ]
  }
 ],
 "metadata": {
  "kernelspec": {
   "display_name": "Python 2",
   "language": "python",
   "name": "python2"
  },
  "language_info": {
   "codemirror_mode": {
    "name": "ipython",
    "version": 2
   },
   "file_extension": ".py",
   "mimetype": "text/x-python",
   "name": "python",
   "nbconvert_exporter": "python",
   "pygments_lexer": "ipython2",
   "version": "2.7.13"
  }
 },
 "nbformat": 4,
 "nbformat_minor": 2
}

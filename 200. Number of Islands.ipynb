{
 "cells": [
  {
   "cell_type": "markdown",
   "metadata": {},
   "source": [
    "# 200. Number of Islands"
   ]
  },
  {
   "cell_type": "markdown",
   "metadata": {},
   "source": [
    "Given a 2d grid map of '1's (land) and '0's (water), count the number of islands. An island is surrounded by water and is formed by connecting adjacent lands horizontally or vertically. You may assume all four edges of the grid are all surrounded by water.\n",
    "\n",
    "Example 1:\n",
    "\n",
    "11110\n",
    "11010\n",
    "11000\n",
    "00000\n",
    "Answer: 1\n",
    "\n",
    "Example 2:\n",
    "\n",
    "11000\n",
    "11000\n",
    "00100\n",
    "00011\n",
    "Answer: 3\n",
    "\n",
    "Credits:\n",
    "Special thanks to @mithmatt for adding this problem and creating all test cases."
   ]
  },
  {
   "cell_type": "markdown",
   "metadata": {},
   "source": [
    "## Solution. O(n<sup>2</sup>) Using Set"
   ]
  },
  {
   "cell_type": "code",
   "execution_count": 1,
   "metadata": {},
   "outputs": [
    {
     "name": "stdout",
     "output_type": "stream",
     "text": [
      "0 11110\n",
      "1 11010\n",
      "2 11000\n",
      "3 00000\n",
      "1\n",
      "0 11000\n",
      "1 11000\n",
      "2 00100\n",
      "3 00011\n",
      "3\n"
     ]
    }
   ],
   "source": [
    "class Solution(object):   \n",
    "    def numIslands(self, grid):\n",
    "        \"\"\"\n",
    "        :type grid: List[List[str]]\n",
    "        :rtype: int\n",
    "        \"\"\"\n",
    "        \n",
    "        stack = []\n",
    "        points = set()\n",
    "        num_row = len(grid)\n",
    "        num_col = len(grid[0])\n",
    "        \n",
    "        def expandNode(grid, x, y):\n",
    "            \n",
    "            if x > 1 and grid[x-1][y] == '1' and (x-1, y) not in points:\n",
    "                points.add((x-1,y))\n",
    "                stack.append((x-1, y))\n",
    "                \n",
    "            if x < num_row - 1  and grid[x+1][y] == '1' and (x+1, y) not in points:\n",
    "                points.add((x+1,y))\n",
    "                stack.append((x+1, y))\n",
    "            \n",
    "            if y > 1 and grid[x][y-1] == '1' and (x, y-1) not in points:\n",
    "                points.add((x, y-1))\n",
    "                stack.append((x,y-1))\n",
    "                \n",
    "            if y < num_col - 1 and grid[x][y+1] == '1' and (x, y+1) not in points:\n",
    "                points.add((x, y+1))\n",
    "                stack.append((x,y+1))\n",
    "                \n",
    "            #print \"expandNode\", stack\n",
    "                \n",
    "        result = 0\n",
    "        for i, row in enumerate(grid):\n",
    "            print i, row\n",
    "            for j, entry in enumerate(row):\n",
    "                if grid[i][j] == '1' and (i,j) not in points:\n",
    "                    result += 1\n",
    "                    #print result, i, j\n",
    "                    points.add((i,j))\n",
    "                    expandNode(grid, i, j)\n",
    "                    #print stack\n",
    "                    \n",
    "                    while len(stack):\n",
    "                        x, y = stack.pop()\n",
    "                        expandNode(grid, x, y)\n",
    "                        \n",
    "        return result \n",
    "                    \n",
    "def main():\n",
    "    grid = [\"11110\",\"11010\",\"11000\",\"00000\"]\n",
    "    print Solution().numIslands(grid)\n",
    "    grid = [\"11000\", \"11000\", \"00100\", \"00011\"] \n",
    "    print Solution().numIslands(grid)\n",
    "if __name__ == \"__main__\":\n",
    "    main()"
   ]
  }
 ],
 "metadata": {
  "kernelspec": {
   "display_name": "Python 2",
   "language": "python",
   "name": "python2"
  },
  "language_info": {
   "codemirror_mode": {
    "name": "ipython",
    "version": 2
   },
   "file_extension": ".py",
   "mimetype": "text/x-python",
   "name": "python",
   "nbconvert_exporter": "python",
   "pygments_lexer": "ipython2",
   "version": "2.7.13"
  }
 },
 "nbformat": 4,
 "nbformat_minor": 2
}

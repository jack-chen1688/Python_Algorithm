{
 "cells": [
  {
   "cell_type": "markdown",
   "metadata": {},
   "source": [
    "# 31. Next Permutation"
   ]
  },
  {
   "cell_type": "markdown",
   "metadata": {},
   "source": [
    "Implement next permutation, which rearranges numbers into the lexicographically next greater permutation of numbers.\n",
    "\n",
    "If such arrangement is not possible, it must rearrange it as the lowest possible order (ie, sorted in ascending order).\n",
    "\n",
    "The replacement must be in-place, do not allocate extra memory.\n",
    "\n",
    "Here are some examples. Inputs are in the left-hand column and its corresponding outputs are in the right-hand column.\n",
    "1,2,3 → 1,3,2\n",
    "3,2,1 → 1,2,3\n",
    "1,1,5 → 1,5,1"
   ]
  },
  {
   "cell_type": "markdown",
   "metadata": {},
   "source": [
    "## Solution 1."
   ]
  },
  {
   "cell_type": "code",
   "execution_count": 2,
   "metadata": {},
   "outputs": [
    {
     "name": "stdout",
     "output_type": "stream",
     "text": [
      "[1, 3, 3, 1, 2, 3, 4, 5]\n"
     ]
    }
   ],
   "source": [
    "class Solution(object):\n",
    "    \n",
    "    def nextPermutation(self, nums):\n",
    "        \"\"\"\n",
    "        :type nums: List[int]\n",
    "        :rtype: void Do not return anything, modify nums in-place instead.\n",
    "        \"\"\"\n",
    "        length = len(nums)\n",
    "        \n",
    "        if length < 2:\n",
    "            return\n",
    "        \n",
    "        pos = -1\n",
    "        for i in range(length-1):\n",
    "            if nums[i] < nums[i+1]:\n",
    "                pos = i\n",
    "        \n",
    "        if pos == -1:\n",
    "            nums.sort()\n",
    "        else:\n",
    "            pick = nums[pos+1]\n",
    "            pick_pos = pos + 1\n",
    "            \n",
    "            for i in range(pos+2, length):\n",
    "                if nums[pos] < nums[i] < pick:\n",
    "                    pick = nums[i]\n",
    "                    pick_pos = i\n",
    "            \n",
    "            tmp = nums[pos]\n",
    "            nums[pos] = pick\n",
    "            nums[pick_pos] = tmp\n",
    "            nums[pos+1:] = sorted(nums[pos+1:])\n",
    "\n",
    "def main():\n",
    "    nums = [1,3,2,5,4,3,3,1]\n",
    "    Solution().nextPermutation(nums)\n",
    "    print nums\n",
    "\n",
    "if __name__ == \"__main__\":\n",
    "    main()"
   ]
  },
  {
   "cell_type": "markdown",
   "metadata": {},
   "source": [
    "## Solution 2. Minor Enhancement in Searching Position"
   ]
  },
  {
   "cell_type": "code",
   "execution_count": 6,
   "metadata": {},
   "outputs": [
    {
     "name": "stdout",
     "output_type": "stream",
     "text": [
      "[1, 3, 3, 1, 2, 3, 4, 5]\n",
      "[1, 2, 3]\n"
     ]
    }
   ],
   "source": [
    "class Solution(object):\n",
    "    \n",
    "    def nextPermutation(self, nums):\n",
    "        \"\"\"\n",
    "        :type nums: List[int]\n",
    "        :rtype: void Do not return anything, modify nums in-place instead.\n",
    "        \"\"\"\n",
    "        length = len(nums)\n",
    "        \n",
    "        if length < 2:\n",
    "            return\n",
    "        \n",
    "        pos = -1\n",
    "        for i in range(length-1, 0, -1):\n",
    "            if nums[i] > nums[i-1]:\n",
    "                pos = i-1\n",
    "                break\n",
    "        \n",
    "        if pos == -1:\n",
    "            #Note: Below statement will not work. \n",
    "            #nums = nums[::-1]\n",
    "            #Maybe because the reference to nums is changed.\n",
    "            #Need to use nums[0:length] to modify in place.\n",
    "            nums[0:length] = nums[::-1]\n",
    "        else:\n",
    "            pick = nums[pos+1]\n",
    "            pick_pos = pos + 1\n",
    "            \n",
    "            for i in range(pos+2, length):\n",
    "                if nums[pos] < nums[i] < pick:\n",
    "                    pick = nums[i]\n",
    "                    pick_pos = i\n",
    "            \n",
    "            tmp = nums[pos]\n",
    "            nums[pos] = pick\n",
    "            nums[pick_pos] = tmp\n",
    "            nums[pos+1:] = sorted(nums[pos+1:])\n",
    "\n",
    "def main():\n",
    "    nums = [1,3,2,5,4,3,3,1]\n",
    "    Solution().nextPermutation(nums)\n",
    "    print nums\n",
    "    nums = [3,2,1]\n",
    "    Solution().nextPermutation(nums)\n",
    "    print nums\n",
    "\n",
    "if __name__ == \"__main__\":\n",
    "    main()"
   ]
  }
 ],
 "metadata": {
  "kernelspec": {
   "display_name": "Python 2",
   "language": "python",
   "name": "python2"
  },
  "language_info": {
   "codemirror_mode": {
    "name": "ipython",
    "version": 2
   },
   "file_extension": ".py",
   "mimetype": "text/x-python",
   "name": "python",
   "nbconvert_exporter": "python",
   "pygments_lexer": "ipython2",
   "version": "2.7.13"
  }
 },
 "nbformat": 4,
 "nbformat_minor": 2
}

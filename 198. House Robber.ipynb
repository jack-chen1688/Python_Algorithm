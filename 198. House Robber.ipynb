{
 "cells": [
  {
   "cell_type": "markdown",
   "metadata": {},
   "source": [
    "# 198. House Robber"
   ]
  },
  {
   "cell_type": "markdown",
   "metadata": {},
   "source": [
    "\n",
    "You are a professional robber planning to rob houses along a street. Each house has a certain amount of money stashed, the only constraint stopping you from robbing each of them is that adjacent houses have security system connected and it will automatically contact the police if two adjacent houses were broken into on the same night.\n",
    "\n",
    "Given a list of non-negative integers representing the amount of money of each house, determine the maximum amount of money you can rob tonight without alerting the police.\n",
    "\n",
    "Credits:\n",
    "Special thanks to @ifanchu for adding this problem and creating all test cases. Also thanks to @ts for adding additional test cases.\n",
    "\n"
   ]
  },
  {
   "cell_type": "markdown",
   "metadata": {},
   "source": [
    "## Solution"
   ]
  },
  {
   "cell_type": "code",
   "execution_count": null,
   "metadata": {
    "collapsed": true
   },
   "outputs": [],
   "source": [
    "class Solution(object):\n",
    "    \n",
    "    def __init__(self):\n",
    "        self.dict = {}\n",
    "        \n",
    "    def rob(self, nums):\n",
    "        \"\"\"\n",
    "        :type nums: List[int]\n",
    "        :rtype: int\n",
    "        \"\"\"\n",
    "                \n",
    "        n = len(nums) \n",
    "        \n",
    "        if n in self.dict: \n",
    "            return self.dict[n]\n",
    "        \n",
    "        res = None\n",
    "        \n",
    "        if n == 0:\n",
    "            res = 0\n",
    "        elif n <= 2:     \n",
    "            res = max(nums)\n",
    "        elif n == 3:\n",
    "            res = max(nums[0] + nums[2], nums[1])\n",
    "        else:\n",
    "            res = max(nums[n-1] + self.rob(nums[:n-2]), nums[n-2] + self.rob(nums[:n-3]))\n",
    "        \n",
    "        self.dict[n] = res\n",
    "        \n",
    "        return res "
   ]
  }
 ],
 "metadata": {
  "kernelspec": {
   "display_name": "Python 2",
   "language": "python",
   "name": "python2"
  },
  "language_info": {
   "codemirror_mode": {
    "name": "ipython",
    "version": 2
   },
   "file_extension": ".py",
   "mimetype": "text/x-python",
   "name": "python",
   "nbconvert_exporter": "python",
   "pygments_lexer": "ipython2",
   "version": "2.7.11"
  }
 },
 "nbformat": 4,
 "nbformat_minor": 2
}

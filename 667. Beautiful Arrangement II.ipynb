{
 "cells": [
  {
   "cell_type": "markdown",
   "metadata": {},
   "source": [
    "# 667. Beautiful Arrangement II"
   ]
  },
  {
   "cell_type": "markdown",
   "metadata": {},
   "source": [
    "Given two integers n and k, you need to construct a list which contains n different positive integers ranging from 1 to n and obeys the following requirement: \n",
    "Suppose this list is [a1, a2, a3, ... , an], then the list [|a1 - a2|, |a2 - a3|, |a3 - a4|, ... , |an-1 - an|] has exactly k distinct integers.\n",
    "\n",
    "If there are multiple answers, print any of them.\n",
    "\n",
    "Example 1:\n",
    "Input: n = 3, k = 1\n",
    "Output: [1, 2, 3]\n",
    "Explanation: The [1, 2, 3] has three different positive integers ranging from 1 to 3, and the [1, 1] has exactly 1 distinct integer: 1.\n",
    "Example 2:\n",
    "Input: n = 3, k = 2\n",
    "Output: [1, 3, 2]\n",
    "Explanation: The [1, 3, 2] has three different positive integers ranging from 1 to 3, and the [2, 1] has exactly 2 distinct integers: 1 and 2.\n",
    "Note:\n",
    "The n and k are in the range 1 <= k < n <= 104."
   ]
  },
  {
   "cell_type": "markdown",
   "metadata": {},
   "source": [
    "## Solution"
   ]
  },
  {
   "cell_type": "code",
   "execution_count": null,
   "metadata": {
    "collapsed": true
   },
   "outputs": [],
   "source": [
    "class Solution(object):\n",
    "    def constructArray(self, n, k):\n",
    "        \"\"\"\n",
    "        :type n: int\n",
    "        :type k: int\n",
    "        :rtype: List[int]\n",
    "        \"\"\"\n",
    "        \n",
    "        # [1,2,3,4]   4,1\n",
    "        # [1,3,2,4]   4,2\n",
    "        # [1,4,2,3]   4,3 \n",
    "        \n",
    "        # [1,2,3,4,5] 5,1\n",
    "        # [1,3,2,4,5] 5,2\n",
    "        # [1,4,2,3,5] 5,3\n",
    "        # [1,5,3,4,2] 5,4\n",
    "        \n",
    "        \n",
    "        sign = 1\n",
    "        diff = k\n",
    "        \n",
    "        lst = [i for i in xrange(1,n+1)]\n",
    "        \n",
    "        for i in xrange(1, k+1):\n",
    "            lst[i] = lst[i-1] + sign * diff\n",
    "            sign = -sign\n",
    "            diff -= 1\n",
    "        \n",
    "        return lst"
   ]
  }
 ],
 "metadata": {
  "kernelspec": {
   "display_name": "Python 2",
   "language": "python",
   "name": "python2"
  },
  "language_info": {
   "codemirror_mode": {
    "name": "ipython",
    "version": 2
   },
   "file_extension": ".py",
   "mimetype": "text/x-python",
   "name": "python",
   "nbconvert_exporter": "python",
   "pygments_lexer": "ipython2",
   "version": "2.7.13"
  }
 },
 "nbformat": 4,
 "nbformat_minor": 2
}

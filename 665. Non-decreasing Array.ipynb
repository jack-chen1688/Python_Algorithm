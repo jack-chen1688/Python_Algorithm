{
 "cells": [
  {
   "cell_type": "markdown",
   "metadata": {},
   "source": [
    "## 665. Non-decreasing Array"
   ]
  },
  {
   "cell_type": "markdown",
   "metadata": {},
   "source": [
    "Given an array with n integers, your task is to check if it could become non-decreasing by modifying at most 1 element.\n",
    "\n",
    "We define an array is non-decreasing if array[i] <= array[i + 1] holds for every i (1 <= i < n).\n",
    "\n",
    "Example 1:\n",
    "Input: [4,2,3]\n",
    "Output: True\n",
    "Explanation: You could modify the first \n",
    "4\n",
    " to \n",
    "1\n",
    " to get a non-decreasing array.\n",
    "Example 2:\n",
    "Input: [4,2,1]\n",
    "Output: False\n",
    "Explanation: You can't get a non-decreasing array by modify at most one element.\n",
    "Note: The n belongs to [1, 10,000].\n",
    "\n"
   ]
  },
  {
   "cell_type": "markdown",
   "metadata": {},
   "source": [
    "## Solution 1. A simple But Time Consuming Approach"
   ]
  },
  {
   "cell_type": "code",
   "execution_count": null,
   "metadata": {
    "collapsed": true
   },
   "outputs": [],
   "source": [
    "class Solution(object):\n",
    "    def checkPossibility(self, nums):\n",
    "        \"\"\"\n",
    "        :type nums: List[int]\n",
    "        :rtype: bool\n",
    "        \"\"\"\n",
    "        \n",
    "        n = len(nums)\n",
    "    \n",
    "        if n <= 2:\n",
    "            return True\n",
    "        \n",
    "        found = 0\n",
    "        for i in xrange(n-1):\n",
    "            if nums[i] > nums[i+1]:\n",
    "                found = i\n",
    "                break\n",
    "        \n",
    "        s0, s1 = list(nums), list(nums)\n",
    "        s0[found], s1[found+1] = s0[found+1], s1[found]\n",
    "        \n",
    "        return sorted(s0) == s0 or sorted(s1) == s1"
   ]
  },
  {
   "cell_type": "markdown",
   "metadata": {},
   "source": [
    "## Solution 2. Faster Speed Using "
   ]
  },
  {
   "cell_type": "code",
   "execution_count": 23,
   "metadata": {},
   "outputs": [
    {
     "name": "stdout",
     "output_type": "stream",
     "text": [
      "False\n",
      "True\n"
     ]
    }
   ],
   "source": [
    "class Solution(object):\n",
    "    def checkPossibility(self, nums):\n",
    "        \"\"\"\n",
    "        :type nums: List[int]\n",
    "        :rtype: bool\n",
    "        \"\"\"\n",
    "        \n",
    "        n = len(nums)\n",
    "        found = None\n",
    "        for i in xrange(n-1):\n",
    "            if nums[i] > nums[i+1]:\n",
    "                found = 1\n",
    "                break\n",
    "        \n",
    "        if found == 1:\n",
    "            nums1 = nums[:i] + nums[i+1:]\n",
    "            nums2 = nums[:i+1] + nums[i+2:]\n",
    "\n",
    "            return all(nums1[i] <= nums1[i+1]  for i in xrange(len(nums1)-1)) or \\\n",
    "                   all(nums2[i] <= nums2[i+1]  for i in xrange(len(nums2)-1))\n",
    "        else:\n",
    "            return True\n",
    "                \n",
    "print Solution().checkPossibility([0, 1,-1,2,1,4])\n",
    "print Solution().checkPossibility([1])\n"
   ]
  }
 ],
 "metadata": {
  "kernelspec": {
   "display_name": "Python 2",
   "language": "python",
   "name": "python2"
  },
  "language_info": {
   "codemirror_mode": {
    "name": "ipython",
    "version": 2
   },
   "file_extension": ".py",
   "mimetype": "text/x-python",
   "name": "python",
   "nbconvert_exporter": "python",
   "pygments_lexer": "ipython2",
   "version": "2.7.13"
  }
 },
 "nbformat": 4,
 "nbformat_minor": 2
}

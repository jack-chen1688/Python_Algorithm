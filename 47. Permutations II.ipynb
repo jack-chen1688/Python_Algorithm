{
 "cells": [
  {
   "cell_type": "markdown",
   "metadata": {},
   "source": [
    "# 47. Permutations II"
   ]
  },
  {
   "cell_type": "markdown",
   "metadata": {},
   "source": [
    "Given a collection of numbers that might contain duplicates, return all possible unique permutations.\n",
    "\n",
    "For example,\n",
    "[1,1,2] have the following unique permutations:\n",
    "[\n",
    "  [1,1,2],\n",
    "  [1,2,1],\n",
    "  [2,1,1]\n",
    "]"
   ]
  },
  {
   "cell_type": "markdown",
   "metadata": {},
   "source": [
    "## Solution"
   ]
  },
  {
   "cell_type": "code",
   "execution_count": 1,
   "metadata": {},
   "outputs": [
    {
     "name": "stdout",
     "output_type": "stream",
     "text": [
      "[[1, 2, 3, 3, 4], [1, 2, 3, 4, 3], [1, 2, 4, 3, 3], [1, 3, 2, 3, 4], [1, 3, 2, 4, 3], [1, 3, 3, 2, 4], [1, 3, 3, 4, 2], [1, 3, 4, 2, 3], [1, 3, 4, 3, 2], [1, 4, 2, 3, 3], [1, 4, 3, 2, 3], [1, 4, 3, 3, 2], [2, 1, 3, 3, 4], [2, 1, 3, 4, 3], [2, 1, 4, 3, 3], [2, 3, 1, 3, 4], [2, 3, 1, 4, 3], [2, 3, 3, 1, 4], [2, 3, 3, 4, 1], [2, 3, 4, 1, 3], [2, 3, 4, 3, 1], [2, 4, 1, 3, 3], [2, 4, 3, 1, 3], [2, 4, 3, 3, 1], [3, 1, 2, 3, 4], [3, 1, 2, 4, 3], [3, 1, 3, 2, 4], [3, 1, 3, 4, 2], [3, 1, 4, 2, 3], [3, 1, 4, 3, 2], [3, 2, 1, 3, 4], [3, 2, 1, 4, 3], [3, 2, 3, 1, 4], [3, 2, 3, 4, 1], [3, 2, 4, 1, 3], [3, 2, 4, 3, 1], [3, 3, 1, 2, 4], [3, 3, 1, 4, 2], [3, 3, 2, 1, 4], [3, 3, 2, 4, 1], [3, 3, 4, 1, 2], [3, 3, 4, 2, 1], [3, 4, 1, 2, 3], [3, 4, 1, 3, 2], [3, 4, 2, 1, 3], [3, 4, 2, 3, 1], [3, 4, 3, 1, 2], [3, 4, 3, 2, 1], [4, 1, 2, 3, 3], [4, 1, 3, 2, 3], [4, 1, 3, 3, 2], [4, 2, 1, 3, 3], [4, 2, 3, 1, 3], [4, 2, 3, 3, 1], [4, 3, 1, 2, 3], [4, 3, 1, 3, 2], [4, 3, 2, 1, 3], [4, 3, 2, 3, 1], [4, 3, 3, 1, 2], [4, 3, 3, 2, 1]]\n"
     ]
    }
   ],
   "source": [
    "class Solution(object):\n",
    "    \n",
    "    def nextPermutation(self, nums):\n",
    "        \n",
    "        length = len(nums)\n",
    "        \n",
    "        pos = -1\n",
    "        for i in range(length-1, 0, -1):\n",
    "            if nums[i-1] < nums[i]:\n",
    "                pos = i-1\n",
    "                break\n",
    "                \n",
    "        if pos == -1:\n",
    "            return -1\n",
    "                \n",
    "        min_val = nums[pos+1]\n",
    "        min_pos = pos+1\n",
    "        for i in range(pos+2, length):\n",
    "            if nums[pos] < nums[i] < min_val:\n",
    "                min_val = nums[i]\n",
    "                min_pos = i\n",
    "        \n",
    "        temp = nums[pos]\n",
    "        nums[pos] = nums[min_pos]\n",
    "        nums[min_pos] = temp\n",
    "        \n",
    "        nums[pos+1:length] = sorted(nums[pos+1:length])\n",
    "        return 0\n",
    "        \n",
    "    def permuteUnique(self, nums):\n",
    "        \"\"\"\n",
    "        :type nums: List[int]\n",
    "        :rtype: List[List[int]]\n",
    "        \"\"\"\n",
    "        \n",
    "        if not nums:\n",
    "            return [[]]\n",
    "        \n",
    "        if len(nums) == 1:\n",
    "            return [nums]\n",
    "        \n",
    "        list0 = sorted(nums)\n",
    "        lists = [list(list0)]\n",
    "        \n",
    "        while self.nextPermutation(list0) == 0 :\n",
    "            lists.append(list(list0))\n",
    "        \n",
    "        return lists\n",
    "    \n",
    "def main():\n",
    "    print Solution().permuteUnique([1,3,2,3,4])\n",
    "\n",
    "if __name__ == \"__main__\":\n",
    "    main()"
   ]
  }
 ],
 "metadata": {
  "kernelspec": {
   "display_name": "Python 2",
   "language": "python",
   "name": "python2"
  },
  "language_info": {
   "codemirror_mode": {
    "name": "ipython",
    "version": 2
   },
   "file_extension": ".py",
   "mimetype": "text/x-python",
   "name": "python",
   "nbconvert_exporter": "python",
   "pygments_lexer": "ipython2",
   "version": "2.7.13"
  }
 },
 "nbformat": 4,
 "nbformat_minor": 2
}

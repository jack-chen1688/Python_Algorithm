{
 "cells": [
  {
   "cell_type": "markdown",
   "metadata": {},
   "source": [
    "# 402. Remove K Digits"
   ]
  },
  {
   "cell_type": "markdown",
   "metadata": {},
   "source": [
    "Given a non-negative integer num represented as a string, remove k digits from the number so that the new number is the smallest possible.\n",
    "\n",
    "Note:\n",
    "The length of num is less than 10002 and will be ≥ k.\n",
    "The given num does not contain any leading zero.\n",
    "Example 1:\n",
    "\n",
    "Input: num = \"1432219\", k = 3\n",
    "Output: \"1219\"\n",
    "Explanation: Remove the three digits 4, 3, and 2 to form the new number 1219 which is the smallest.\n",
    "Example 2:\n",
    "\n",
    "Input: num = \"10200\", k = 1\n",
    "Output: \"200\"\n",
    "Explanation: Remove the leading 1 and the number is 200. Note that the output must not contain leading zeroes.\n",
    "Example 3:\n",
    "\n",
    "Input: num = \"10\", k = 2\n",
    "Output: \"0\"\n",
    "Explanation: Remove all the digits from the number and it is left with nothing which is 0.\n"
   ]
  },
  {
   "cell_type": "markdown",
   "metadata": {},
   "source": [
    "## Solution 1. "
   ]
  },
  {
   "cell_type": "code",
   "execution_count": null,
   "metadata": {
    "collapsed": true
   },
   "outputs": [],
   "source": [
    "class Solution(object):\n",
    "    def removeKdigits(self, num, k):\n",
    "        \"\"\"\n",
    "        :type num: str\n",
    "        :type k: int\n",
    "        :rtype: str\n",
    "        \"\"\"\n",
    "        length = len(num)\n",
    "        if k >= length:\n",
    "            return \"0\"\n",
    "        \n",
    "        lst = [int(x) for x in num] \n",
    "        \n",
    "        for i in range(k):\n",
    "            # find out the position to pop\n",
    "            for j in range(len(lst)-1):\n",
    "                if lst[j] > lst[j+1]:\n",
    "                    lst.pop(j)\n",
    "                    break\n",
    "                \n",
    "                if j == len(lst) - 2:\n",
    "                        lst.pop(j+1)\n",
    "            #print i, lst\n",
    "        '''\n",
    "        while 1:\n",
    "            if lst[0] == 0 and len(lst) > 1:\n",
    "                lst.pop(0)\n",
    "            else:\n",
    "                break     \n",
    "        '''\n",
    "        for i, n in enumerate(lst):\n",
    "            if n != 0:\n",
    "                lst[::] = lst[i:]\n",
    "                break\n",
    "        else:\n",
    "            lst = [0]\n",
    "        \n",
    "        str_lst = [str(x) for x in lst]\n",
    "        \n",
    "        return ''.join(str_lst)\n",
    "    "
   ]
  },
  {
   "cell_type": "markdown",
   "metadata": {},
   "source": [
    "## Solution 2."
   ]
  },
  {
   "cell_type": "code",
   "execution_count": null,
   "metadata": {
    "collapsed": true
   },
   "outputs": [],
   "source": [
    "class Solution(object):\n",
    "    def removeKdigits(self, num, k):\n",
    "        \"\"\"\n",
    "        :type num: str\n",
    "        :type k: int\n",
    "        :rtype: str\n",
    "        \"\"\"\n",
    "        length = len(num)\n",
    "        if k >= length:\n",
    "            return \"0\"\n",
    "\n",
    "        count = 0\n",
    "        pos = 0\n",
    "        while count < k:\n",
    "            #if pos < len(lst) - 1:\n",
    "            if num[pos] > num[pos+1]:\n",
    "                num=num[:pos] + num[pos+1:]\n",
    "                count += 1\n",
    "                if pos >= 1:\n",
    "                    pos -= 1\n",
    "            else:\n",
    "                if pos == len(num) - 2:\n",
    "                    num=num[:-1]\n",
    "                    count += 1\n",
    "                    pos -= 1\n",
    "                else:\n",
    "                    pos += 1\n",
    "        \n",
    "        for i, char in enumerate(num):\n",
    "            if char != '0':\n",
    "                return num[i:]\n",
    "        \n",
    "        return '0'"
   ]
  }
 ],
 "metadata": {
  "kernelspec": {
   "display_name": "Python 2",
   "language": "python",
   "name": "python2"
  },
  "language_info": {
   "codemirror_mode": {
    "name": "ipython",
    "version": 2
   },
   "file_extension": ".py",
   "mimetype": "text/x-python",
   "name": "python",
   "nbconvert_exporter": "python",
   "pygments_lexer": "ipython2",
   "version": "2.7.13"
  }
 },
 "nbformat": 4,
 "nbformat_minor": 2
}

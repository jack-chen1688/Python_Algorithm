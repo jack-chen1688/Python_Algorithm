{
 "cells": [
  {
   "cell_type": "markdown",
   "metadata": {},
   "source": [
    "# 623. Add One Row to Tree"
   ]
  },
  {
   "cell_type": "markdown",
   "metadata": {},
   "source": [
    "Given the root of a binary tree, then value v and depth d, you need to add a row of nodes with value v at the given depth d. The root node is at depth 1.\n",
    "\n",
    "The adding rule is: given a positive integer depth d, for each NOT null tree nodes N in depth d-1, create two tree nodes with value v as N's left subtree root and right subtree root. And N's original left subtree should be the left subtree of the new left subtree root, its original right subtree should be the right subtree of the new right subtree root. If depth d is 1 that means there is no depth d-1 at all, then create a tree node with value v as the new root of the whole original tree, and the original tree is the new root's left subtree.\n",
    "\n",
    "Example 1:\n",
    "Input: \n",
    "A binary tree as following:\n",
    "       4\n",
    "     /   \\\n",
    "    2     6\n",
    "   / \\   / \n",
    "  3   1 5   \n",
    "\n",
    "v = 1\n",
    "\n",
    "d = 2\n",
    "\n",
    "Output: \n",
    "       4\n",
    "      / \\\n",
    "     1   1\n",
    "    /     \\\n",
    "   2       6\n",
    "  / \\     / \n",
    " 3   1   5   \n",
    "\n",
    "Example 2:\n",
    "Input: \n",
    "A binary tree as following:\n",
    "      4\n",
    "     /   \n",
    "    2    \n",
    "   / \\   \n",
    "  3   1    \n",
    "\n",
    "v = 1\n",
    "\n",
    "d = 3\n",
    "\n",
    "Output: \n",
    "      4\n",
    "     /   \n",
    "    2\n",
    "   / \\    \n",
    "  1   1\n",
    " /     \\  \n",
    "3       1\n",
    "Note:\n",
    "The given d is in range [1, maximum depth of the given tree + 1].\n",
    "The given binary tree has at least one tree node."
   ]
  },
  {
   "cell_type": "markdown",
   "metadata": {},
   "source": [
    "## Solution "
   ]
  },
  {
   "cell_type": "code",
   "execution_count": null,
   "metadata": {
    "collapsed": true
   },
   "outputs": [],
   "source": [
    "# Definition for a binary tree node.\n",
    "# class TreeNode(object):\n",
    "#     def __init__(self, x):\n",
    "#         self.val = x\n",
    "#         self.left = None\n",
    "#         self.right = None\n",
    "\n",
    "class Solution(object):\n",
    "    def addOneRow(self, root, v, d):\n",
    "        \"\"\"\n",
    "        :type root: TreeNode\n",
    "        :type v: int\n",
    "        :type d: int\n",
    "        :rtype: TreeNode\n",
    "        \"\"\"\n",
    "        \n",
    "        \"\"\"\n",
    "        From the problem description,  the given binary tree has at least one tree node.\n",
    "        So we don't need to consider d =\n",
    "        \"\"\"\n",
    "        #if root == None:\n",
    "        #    return None\n",
    "            \n",
    "        if d == 1:\n",
    "            new_root = TreeNode(v)\n",
    "            new_root.left = root\n",
    "            return new_root\n",
    "        \n",
    "        lst = [root]\n",
    "        \n",
    "        for i in range(2, d):\n",
    "            lst = [kid for node in lst for kid in (node.left, node.right) if kid != None] \n",
    "        \n",
    "        for node in lst:\n",
    "            l_node, r_node = TreeNode(v), TreeNode(v)\n",
    "            l_node.left, r_node.right = node.left, node.right\n",
    "            node.left, node.right = l_node, r_node\n",
    "        return root\n",
    "            "
   ]
  }
 ],
 "metadata": {
  "kernelspec": {
   "display_name": "Python 2",
   "language": "python",
   "name": "python2"
  },
  "language_info": {
   "codemirror_mode": {
    "name": "ipython",
    "version": 2
   },
   "file_extension": ".py",
   "mimetype": "text/x-python",
   "name": "python",
   "nbconvert_exporter": "python",
   "pygments_lexer": "ipython2",
   "version": "2.7.13"
  }
 },
 "nbformat": 4,
 "nbformat_minor": 2
}

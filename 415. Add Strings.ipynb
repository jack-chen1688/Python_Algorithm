{
 "cells": [
  {
   "cell_type": "markdown",
   "metadata": {},
   "source": [
    "# 415. Add Strings"
   ]
  },
  {
   "cell_type": "markdown",
   "metadata": {},
   "source": [
    "Given two non-negative integers num1 and num2 represented as string, return the sum of num1 and num2.\n",
    "\n",
    "Note:\n",
    "\n",
    "The length of both num1 and num2 is < 5100.\n",
    "Both num1 and num2 contains only digits 0-9.\n",
    "Both num1 and num2 does not contain any leading zero.\n",
    "You must not use any built-in BigInteger library or convert the inputs to integer directly."
   ]
  },
  {
   "cell_type": "markdown",
   "metadata": {},
   "source": [
    "## Solution"
   ]
  },
  {
   "cell_type": "code",
   "execution_count": null,
   "metadata": {
    "collapsed": true
   },
   "outputs": [],
   "source": [
    "class Solution(object):\n",
    "    def addStrings(self, num1, num2):\n",
    "        \"\"\"\n",
    "        :type num1: str\n",
    "        :type num2: str\n",
    "        :rtype: str\n",
    "        \"\"\"\n",
    "        \n",
    "        len1, len2 = len(num1), len(num2)\n",
    "        max_len = max(len1, len2)\n",
    "        \n",
    "        lst1 = [0] * max_len\n",
    "        lst2 = [0] * max_len\n",
    "        \n",
    "        dict = {x:y for x,y in zip(\"0123456789\", xrange(10))}\n",
    "        \n",
    "        for i, ch in enumerate(num1[::-1]):\n",
    "            lst1[i] = dict[ch]\n",
    "            \n",
    "        for i, ch in enumerate(num2[::-1]):\n",
    "            lst2[i] = dict[ch]\n",
    "        \n",
    "        lst = [0] * max_len\n",
    "        carry = 0\n",
    "        \n",
    "        for i in xrange(max_len):\n",
    "            tot = lst1[i] + lst2[i] + carry\n",
    "            lst[i] = tot % 10\n",
    "            carry = tot / 10\n",
    "        \n",
    "        if carry == 1:\n",
    "            lst.append(1)\n",
    "            \n",
    "        lst = [str(lst[~i]) for i in xrange(len(lst))]\n",
    "        \n",
    "        return \"\".join(lst)"
   ]
  }
 ],
 "metadata": {
  "kernelspec": {
   "display_name": "Python 2",
   "language": "python",
   "name": "python2"
  },
  "language_info": {
   "codemirror_mode": {
    "name": "ipython",
    "version": 2
   },
   "file_extension": ".py",
   "mimetype": "text/x-python",
   "name": "python",
   "nbconvert_exporter": "python",
   "pygments_lexer": "ipython2",
   "version": "2.7.13"
  }
 },
 "nbformat": 4,
 "nbformat_minor": 2
}

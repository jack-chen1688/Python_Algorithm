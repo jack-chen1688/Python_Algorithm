{
 "cells": [
  {
   "cell_type": "markdown",
   "metadata": {},
   "source": [
    "# 293. Flip Game"
   ]
  },
  {
   "cell_type": "markdown",
   "metadata": {},
   "source": [
    "You are playing the following Flip Game with your friend: Given a string that contains only these two characters: + and -, you and your friend take turns to flip two consecutive \"++\" into \"--\". The game ends when a person can no longer make a move and therefore the other person will be the winner.\n",
    "\n",
    "Write a function to compute all possible states of the string after one valid move.\n",
    "\n",
    "For example, given s = \"++++\", after one move, it may become one of the following states:\n",
    "\n",
    "[\n",
    "  \"--++\",\n",
    "  \"+--+\",\n",
    "  \"++--\"\n",
    "]\n",
    "If there is no valid move, return an empty list []."
   ]
  },
  {
   "cell_type": "markdown",
   "metadata": {},
   "source": [
    "## Solution"
   ]
  },
  {
   "cell_type": "code",
   "execution_count": null,
   "metadata": {
    "collapsed": true
   },
   "outputs": [],
   "source": [
    "class Solution(object):\n",
    "    def generatePossibleNextMoves(self, s):\n",
    "        \"\"\"\n",
    "        :type s: str\n",
    "        :rtype: List[str]\n",
    "        \"\"\"\n",
    "        lst = list(s)\n",
    "        n = len(s)\n",
    "        \n",
    "        res = []\n",
    "        for i in xrange(n-1):\n",
    "            if lst[i] == lst[i+1] == '+':\n",
    "                res.append(\"\".join(lst[:i]) + \"--\" + \"\".join(lst[i+2:]))\n",
    "        \n",
    "        return res\n",
    "                "
   ]
  }
 ],
 "metadata": {
  "kernelspec": {
   "display_name": "Python 2",
   "language": "python",
   "name": "python2"
  },
  "language_info": {
   "codemirror_mode": {
    "name": "ipython",
    "version": 2
   },
   "file_extension": ".py",
   "mimetype": "text/x-python",
   "name": "python",
   "nbconvert_exporter": "python",
   "pygments_lexer": "ipython2",
   "version": "2.7.13"
  }
 },
 "nbformat": 4,
 "nbformat_minor": 2
}

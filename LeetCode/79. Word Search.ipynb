{
 "cells": [
  {
   "cell_type": "markdown",
   "metadata": {},
   "source": [
    "# 79. Word Search"
   ]
  },
  {
   "cell_type": "markdown",
   "metadata": {},
   "source": [
    "Given a 2D board and a word, find if the word exists in the grid.\n",
    "\n",
    "The word can be constructed from letters of sequentially adjacent cell, where \"adjacent\" cells are those horizontally or vertically neighboring. The same letter cell may not be used more than once.\n",
    "\n",
    "For example,\n",
    "Given board =\n",
    "\n",
    "[\n",
    "  ['A','B','C','E'],\n",
    "  ['S','F','C','S'],\n",
    "  ['A','D','E','E']\n",
    "]\n",
    "word = \"ABCCED\", -> returns true,\n",
    "word = \"SEE\", -> returns true,\n",
    "word = \"ABCB\", -> returns false.\n"
   ]
  },
  {
   "cell_type": "markdown",
   "metadata": {},
   "source": [
    "## Solution "
   ]
  },
  {
   "cell_type": "code",
   "execution_count": null,
   "metadata": {
    "collapsed": true
   },
   "outputs": [],
   "source": [
    "class Solution(object):\n",
    "\n",
    "    def __init__(self):\n",
    "        self.dict = {}\n",
    " \n",
    "    def getNextNode(self, board, node, ch):\n",
    "        \n",
    "        i, j, dir = node    \n",
    "        num_row, num_col = len(board), len(board[0])\n",
    "        #print i, j, dir, ch\n",
    "        \n",
    "        new_node = None\n",
    "        dir += 1\n",
    "        while dir < 5:\n",
    "            if dir == 1:\n",
    "                # up\n",
    "                if i == 0 or board[i-1][j] != ch or (i-1,j) in self.dict: \n",
    "                    dir += 1\n",
    "                else:\n",
    "                    self.dict[(i-1, j)] = 1\n",
    "                    new_node = [i-1,j,0]\n",
    "                    break\n",
    "            elif dir == 2:\n",
    "                # down\n",
    "                if i == num_row - 1 or board[i+1][j] != ch or (i+1,j) in self.dict:\n",
    "                    dir += 1\n",
    "                else:\n",
    "                    self.dict[(i+1, j)] = 1\n",
    "                    new_node = [i+1,j,0]\n",
    "                    break\n",
    "            elif dir == 3:\n",
    "                #if i== 1 and j ==1:\n",
    "                #    print i, j, dir, board[i][j-1], self.dict\n",
    "                if j == 0 or board[i][j-1] != ch or (i,j-1) in self.dict:\n",
    "                    dir += 1\n",
    "                else:\n",
    "                    self.dict[(i, j-1)] = 1\n",
    "                    new_node = [i, j-1, 0]\n",
    "                    break\n",
    "            elif dir == 4:\n",
    "                if j == num_col - 1 or board[i][j+1] != ch or (i,j+1) in self.dict:\n",
    "                    dir += 1\n",
    "                else:\n",
    "                    self.dict[(i, j+1)] = 1\n",
    "                    new_node = [i, j+1, 0]        \n",
    "        node[2] = dir\n",
    "        return new_node\n",
    "        \n",
    "        \n",
    "    def exist(self, board, word):\n",
    "        \"\"\"\n",
    "        :type board: List[List[str]]\n",
    "        :type word: str\n",
    "        :rtype: bool\n",
    "        \"\"\"\n",
    "        \n",
    "        for i, row in enumerate(board):\n",
    "            for j, item in enumerate(row):\n",
    "                if item == word[0]:\n",
    "                    self.dict = {}\n",
    "                    self.dict[(i,j)] = 1\n",
    "                    w_pos = 1\n",
    "                    path=[[i,j,0]]\n",
    "                    #print \"new path\", path, self.dict\n",
    "                    while w_pos < len(word):\n",
    "                        ch = word[w_pos]\n",
    "                        node = path[-1]\n",
    "                        new_node = self.getNextNode(board, node, ch)\n",
    "                        #print path, new_node, ch\n",
    "                        if new_node == None:\n",
    "                            node = path.pop()\n",
    "                            self.dict.pop((node[0], node[1]))\n",
    "                            w_pos -= 1\n",
    "                            if w_pos == 0:\n",
    "                                break\n",
    "                        else:\n",
    "                            path.append(new_node)\n",
    "                            w_pos += 1\n",
    "                       \n",
    "                    if w_pos == 0:\n",
    "                        continue\n",
    "                    else:\n",
    "                        return True\n",
    "        return False "
   ]
  }
 ],
 "metadata": {
  "kernelspec": {
   "display_name": "Python 2",
   "language": "python",
   "name": "python2"
  },
  "language_info": {
   "codemirror_mode": {
    "name": "ipython",
    "version": 2
   },
   "file_extension": ".py",
   "mimetype": "text/x-python",
   "name": "python",
   "nbconvert_exporter": "python",
   "pygments_lexer": "ipython2",
   "version": "2.7.13"
  }
 },
 "nbformat": 4,
 "nbformat_minor": 2
}

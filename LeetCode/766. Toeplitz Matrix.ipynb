{
 "cells": [
  {
   "cell_type": "markdown",
   "metadata": {},
   "source": [
    "# 766. Toeplitz Matrix"
   ]
  },
  {
   "cell_type": "markdown",
   "metadata": {},
   "source": [
    "A matrix is Toeplitz if every diagonal from top-left to bottom-right has the same element.\n",
    "\n",
    "Now given an M x N matrix, return True if and only if the matrix is Toeplitz.\n",
    " \n",
    "\n",
    "Example 1:\n",
    "\n",
    "Input: matrix = [[1,2,3,4],[5,1,2,3],[9,5,1,2]]\n",
    "Output: True\n",
    "Explanation:\n",
    "1234\n",
    "5123\n",
    "9512\n",
    "\n",
    "In the above grid, the diagonals are \"[9]\", \"[5, 5]\", \"[1, 1, 1]\", \"[2, 2, 2]\", \"[3, 3]\", \"[4]\", and in each diagonal all elements are the same, so the answer is True.\n",
    "Example 2:\n",
    "\n",
    "Input: matrix = [[1,2],[2,2]]\n",
    "Output: False\n",
    "Explanation:\n",
    "The diagonal \"[1, 2]\" has different elements.\n",
    "Note:\n",
    "\n",
    "matrix will be a 2D array of integers.\n",
    "matrix will have a number of rows and columns in range [1, 20].\n",
    "matrix[i][j] will be integers in range [0, 99].\n"
   ]
  },
  {
   "cell_type": "markdown",
   "metadata": {},
   "source": [
    "## Solution 1."
   ]
  },
  {
   "cell_type": "code",
   "execution_count": null,
   "metadata": {
    "collapsed": true
   },
   "outputs": [],
   "source": [
    "class Solution(object):\n",
    "    def isToeplitzMatrix(self, matrix):\n",
    "        \"\"\"\n",
    "        :type matrix: List[List[int]]\n",
    "        :rtype: bool\n",
    "        \"\"\"\n",
    "        \n",
    "        \"\"\"\n",
    "        1 2 3 4\n",
    "        5 1 2 3 \n",
    "        9 5 1 2\n",
    "        \n",
    "        1 2 3\n",
    "        4 1 2\n",
    "        5 4 1\n",
    "        6 5 4\n",
    "        \"\"\"\n",
    "        r = len(matrix)\n",
    "        c = len(matrix[0])\n",
    "        \n",
    "        max_cnt = max(r, c)\n",
    "        for i in xrange(r):\n",
    "            val = matrix[i][0]\n",
    "            j = 1\n",
    "            while i+j < r and j < c:\n",
    "                if matrix[i+j][j] != val:\n",
    "                    return False\n",
    "                j+=1\n",
    "                \n",
    "        for i in xrange(c):\n",
    "            val = matrix[0][i]\n",
    "            j = 1\n",
    "            while i+j < c and j < r:\n",
    "                if matrix[j][i+j] != val:\n",
    "                    return False\n",
    "                j+=1\n",
    "        \n",
    "        return True\n",
    "    "
   ]
  },
  {
   "cell_type": "markdown",
   "metadata": {},
   "source": [
    "## Solution 2. One-line Solution"
   ]
  },
  {
   "cell_type": "code",
   "execution_count": null,
   "metadata": {
    "collapsed": true
   },
   "outputs": [],
   "source": [
    "class Solution(object):\n",
    "    def isToeplitzMatrix(self, matrix):\n",
    "        \"\"\"\n",
    "        :type matrix: List[List[int]]\n",
    "        :rtype: bool\n",
    "        \"\"\"\n",
    "        \n",
    "        \"\"\"\n",
    "        1 2 3 4\n",
    "        5 1 2 3 \n",
    "        9 5 1 2\n",
    "        \n",
    "        1 2 3\n",
    "        4 1 2\n",
    "        5 4 1\n",
    "        6 5 4\n",
    "        \"\"\"\n",
    "        return all(matrix[i+1][1:] == matrix[i][:-1] for i in xrange(len(matrix)-1))\n",
    "        "
   ]
  }
 ],
 "metadata": {
  "kernelspec": {
   "display_name": "Python 2",
   "language": "python",
   "name": "python2"
  },
  "language_info": {
   "codemirror_mode": {
    "name": "ipython",
    "version": 2
   },
   "file_extension": ".py",
   "mimetype": "text/x-python",
   "name": "python",
   "nbconvert_exporter": "python",
   "pygments_lexer": "ipython2",
   "version": "2.7.13"
  }
 },
 "nbformat": 4,
 "nbformat_minor": 2
}

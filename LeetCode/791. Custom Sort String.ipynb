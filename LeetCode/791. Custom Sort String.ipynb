{
 "cells": [
  {
   "cell_type": "markdown",
   "metadata": {},
   "source": [
    "# 791. Custom Sort String"
   ]
  },
  {
   "cell_type": "markdown",
   "metadata": {},
   "source": [
    "S and T are strings composed of lowercase letters. In S, no letter occurs more than once.\n",
    "\n",
    "S was sorted in some custom order previously. We want to permute the characters of T so that they match the order that S was sorted. More specifically, if x occurs before y in S, then x should occur before y in the returned string.\n",
    "\n",
    "Return any permutation of T (as a string) that satisfies this property.\n",
    "\n",
    "Example :\n",
    "Input: \n",
    "S = \"cba\"\n",
    "T = \"abcd\"\n",
    "Output: \"cbad\"\n",
    "Explanation: \n",
    "\"a\", \"b\", \"c\" appear in S, so the order of \"a\", \"b\", \"c\" should be \"c\", \"b\", and \"a\". \n",
    "Since \"d\" does not appear in S, it can be at any position in T. \"dcba\", \"cdba\", \"cbda\" are also valid outputs.\n",
    " \n",
    "\n",
    "Note:\n",
    "\n",
    "S has length at most 26, and no character is repeated in S.\n",
    "T has length at most 200.\n",
    "S and T consist of lowercase letters only."
   ]
  },
  {
   "cell_type": "markdown",
   "metadata": {},
   "source": [
    "## Solution 1."
   ]
  },
  {
   "cell_type": "markdown",
   "metadata": {},
   "source": [
    "class Solution(object):\n",
    "    def customSortString(self, S, T):\n",
    "        \"\"\"\n",
    "        :type S: str\n",
    "        :type T: str\n",
    "        :rtype: str\n",
    "        \"\"\"\n",
    "        dict = {}\n",
    "        for i, ch in enumerate(S):\n",
    "            dict[ch] = i\n",
    "            \n",
    "        A = []\n",
    "        for i, ch in enumerate(T):\n",
    "            if ch in dict:\n",
    "                A.append([dict[ch], i])\n",
    "            else:\n",
    "                A.append([26, i])\n",
    "        \n",
    "        A.sort()\n",
    "        ans = \"\".join([T[i] for val, i in A])\n",
    "        return ans "
   ]
  },
  {
   "cell_type": "markdown",
   "metadata": {},
   "source": [
    "## Solution 2. Enhanced from Solution 1."
   ]
  },
  {
   "cell_type": "code",
   "execution_count": null,
   "metadata": {
    "collapsed": true
   },
   "outputs": [],
   "source": [
    "class Solution(object):\n",
    "    def customSortString(self, S, T):\n",
    "        \"\"\"\n",
    "        :type S: str\n",
    "        :type T: str\n",
    "        :rtype: str\n",
    "        \"\"\"\n",
    "        A = [ch for ch in T]\n",
    "     \n",
    "        def char_index(ch):\n",
    "            index = S.find(ch)\n",
    "            return index if index >= 0 else len(S)\n",
    "        A.sort(key=char_index)\n",
    "        return  \"\".join(A)\n",
    " "
   ]
  }
 ],
 "metadata": {
  "kernelspec": {
   "display_name": "Python 2",
   "language": "python",
   "name": "python2"
  },
  "language_info": {
   "codemirror_mode": {
    "name": "ipython",
    "version": 2
   },
   "file_extension": ".py",
   "mimetype": "text/x-python",
   "name": "python",
   "nbconvert_exporter": "python",
   "pygments_lexer": "ipython2",
   "version": "2.7.13"
  }
 },
 "nbformat": 4,
 "nbformat_minor": 2
}

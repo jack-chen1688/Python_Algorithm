{
 "cells": [
  {
   "cell_type": "markdown",
   "metadata": {},
   "source": [
    "# 148. Sort List"
   ]
  },
  {
   "cell_type": "markdown",
   "metadata": {},
   "source": [
    "Sort a linked list in O(n log n) time using constant space complexity."
   ]
  },
  {
   "cell_type": "markdown",
   "metadata": {},
   "source": [
    "## Solution. Time Complexity of O(nlog(n) and Space Complexity of O(1)"
   ]
  },
  {
   "cell_type": "code",
   "execution_count": null,
   "metadata": {
    "collapsed": true
   },
   "outputs": [],
   "source": [
    "# Definition for singly-linked list.\n",
    "# class ListNode(object):\n",
    "#     def __init__(self, x):\n",
    "#         self.val = x\n",
    "#         self.next = None\n",
    "\n",
    "class Solution(object):\n",
    "    def sortList(self, head):\n",
    "        \"\"\"\n",
    "        :type head: ListNode\n",
    "        :rtype: ListNode\n",
    "        \"\"\"\n",
    "        \"\"\"\n",
    "        Return a list of following elements.\n",
    "        * head of first list\n",
    "        * tail of first list\n",
    "        * head of second list\n",
    "        * tail of second list\n",
    "        * start node of next two lists\n",
    "        If cannot find two lists, return an empty list.\n",
    "        \"\"\"\n",
    "        def getTwoLists(head0, length):\n",
    "            node = head0\n",
    "            for n in xrange(length-1):\n",
    "                if node.next:\n",
    "                    node = node.next\n",
    "                else:\n",
    "                    return [head0, node, None, None, None]\n",
    "        \n",
    "            tail0 = node\n",
    "            head1 = node.next\n",
    "            if not head1:\n",
    "                return [head0, tail0, None, None, None]\n",
    "            \n",
    "            cnt=1\n",
    "            node = head1\n",
    "            for n in xrange(length-1):\n",
    "                if node.next:\n",
    "                    node = node.next\n",
    "                else:\n",
    "                    return [head0, tail0, head1, node, None]\n",
    "            \n",
    "            tail1 = node\n",
    "            return [head0, tail0, head1, tail1, tail1.next]\n",
    "            \n",
    "        def mergeList(prv, head0, tail0, head1, tail1):\n",
    "            node0, node1 = head0, head1\n",
    "            cnt0, cnt1 = 0, 0\n",
    "            \n",
    "            while prv != tail0 and prv != tail1:\n",
    "                if node0.val <= node1.val:\n",
    "                    prv.next = node0\n",
    "                    node0 = node0.next\n",
    "                else:\n",
    "                    prv.next = node1\n",
    "                    node1 = node1.next\n",
    "                prv = prv.next\n",
    "            \n",
    "            if prv == tail0:\n",
    "                prv.next = node1\n",
    "                prv = tail1\n",
    "            else:\n",
    "                prv.next = node0\n",
    "                prv = tail0\n",
    "                \n",
    "            prv.next = None\n",
    "            return prv\n",
    "          \n",
    "        if head:\n",
    "            dummyHead = ListNode(0)\n",
    "            dummyHead.next = head\n",
    "\n",
    "            length = 1\n",
    "            \n",
    "            while 1:\n",
    "                prv = dummyHead\n",
    "                start = dummyHead.next\n",
    "\n",
    "                while start:\n",
    "                    head0, tail0, head1, tail1, nxt = getTwoLists(start, length)\n",
    "                    \n",
    "                    if head1: \n",
    "                        prv = mergeList(prv, head0, tail0, head1, tail1)\n",
    "                    else:\n",
    "                        if head0 != dummyHead.next: \n",
    "                            prv.next = head0\n",
    "                        else:\n",
    "                            return dummyHead.next\n",
    "                    start = nxt\n",
    "\n",
    "                length *= 2\n",
    "        else:\n",
    "            return None\n",
    "        "
   ]
  }
 ],
 "metadata": {
  "kernelspec": {
   "display_name": "Python 2",
   "language": "python",
   "name": "python2"
  },
  "language_info": {
   "codemirror_mode": {
    "name": "ipython",
    "version": 2
   },
   "file_extension": ".py",
   "mimetype": "text/x-python",
   "name": "python",
   "nbconvert_exporter": "python",
   "pygments_lexer": "ipython2",
   "version": "2.7.13"
  }
 },
 "nbformat": 4,
 "nbformat_minor": 2
}

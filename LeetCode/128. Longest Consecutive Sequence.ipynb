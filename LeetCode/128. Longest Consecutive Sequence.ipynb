{
 "cells": [
  {
   "cell_type": "markdown",
   "metadata": {},
   "source": [
    "# 128. Longest Consecutive Sequence"
   ]
  },
  {
   "cell_type": "markdown",
   "metadata": {},
   "source": [
    "Given an unsorted array of integers, find the length of the longest consecutive elements sequence.\n",
    "\n",
    "For example,\n",
    "Given [100, 4, 200, 1, 3, 2],\n",
    "The longest consecutive elements sequence is [1, 2, 3, 4]. Return its length: 4.\n",
    "\n",
    "Your algorithm should run in O(n) complexity.\n"
   ]
  },
  {
   "cell_type": "markdown",
   "metadata": {},
   "source": [
    "## Solution 1. Use Hashtable"
   ]
  },
  {
   "cell_type": "code",
   "execution_count": 18,
   "metadata": {},
   "outputs": [
    {
     "name": "stdout",
     "output_type": "stream",
     "text": [
      "None\n"
     ]
    }
   ],
   "source": [
    "class Solution(object):\n",
    "    def longestConsecutive(self, nums):\n",
    "        \"\"\"\n",
    "        :type nums: List[int]\n",
    "        :rtype: int\n",
    "        \"\"\"\n",
    "        if nums == None:\n",
    "            return 0\n",
    "        \n",
    "        max_len = 0\n",
    "        dict = {}\n",
    "        for num in nums:\n",
    "            if num in dict:\n",
    "                continue\n",
    "            else:\n",
    "                dict[num] = [num, num]\n",
    "                length = 1\n",
    "                \n",
    "                if num-1 in dict:\n",
    "                    dict[num-1][1] = num\n",
    "                    lo = dict[num-1][0]\n",
    "                    dict[lo][1] = num\n",
    "                    dict[num][0] = lo\n",
    "                    length = num - lo + 1\n",
    "                \n",
    "                if num+1 in dict:\n",
    "                    if length > 1:\n",
    "                        lo = dict[num-1][0]\n",
    "                        hi = dict[num+1][1]\n",
    "                        dict[hi][0] = lo\n",
    "                        dict[lo][1] = hi\n",
    "                        length = hi - lo + 1\n",
    "                    else:\n",
    "                        hi = dict[num+1][1]\n",
    "                        dict[num][1] = hi\n",
    "                        dict[hi][0] = num\n",
    "                        length = hi - num + 1\n",
    "                \n",
    "                if length > max_len:\n",
    "                    max_len = length\n",
    "        \n",
    "        return max_len"
   ]
  },
  {
   "cell_type": "markdown",
   "metadata": {},
   "source": [
    "## Solution 2. Simplified Solution"
   ]
  },
  {
   "cell_type": "code",
   "execution_count": null,
   "metadata": {
    "collapsed": true
   },
   "outputs": [],
   "source": [
    "class Solution(object):\n",
    "    def longestConsecutive(self, nums):\n",
    "        \"\"\"\n",
    "        :type nums: List[int]\n",
    "        :rtype: int\n",
    "        \"\"\"\n",
    "        if nums == None:\n",
    "            return 0\n",
    "        \n",
    "        max_len = 0\n",
    "        dict = {}\n",
    "        \n",
    "        for num in nums:\n",
    "        \n",
    "            if num not in dict:\n",
    "                dict[num] = [num, num]\n",
    "                lo, hi = num, num\n",
    "                \n",
    "                if num-1 in dict:\n",
    "                    lo = dict[num-1][0]\n",
    "                \n",
    "                if num+1 in dict:\n",
    "                    hi = dict[num+1][1]\n",
    "                        \n",
    "                dict[hi][0] = lo\n",
    "                dict[lo][1] = hi\n",
    "                length = hi - lo + 1\n",
    "                \n",
    "                if length > max_len:\n",
    "                    max_len = length\n",
    "        \n",
    "        return max_len\n",
    "                        "
   ]
  }
 ],
 "metadata": {
  "kernelspec": {
   "display_name": "Python 2",
   "language": "python",
   "name": "python2"
  },
  "language_info": {
   "codemirror_mode": {
    "name": "ipython",
    "version": 2
   },
   "file_extension": ".py",
   "mimetype": "text/x-python",
   "name": "python",
   "nbconvert_exporter": "python",
   "pygments_lexer": "ipython2",
   "version": "2.7.13"
  }
 },
 "nbformat": 4,
 "nbformat_minor": 2
}

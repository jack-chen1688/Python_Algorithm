{
 "cells": [
  {
   "cell_type": "markdown",
   "metadata": {},
   "source": [
    "# 225. Implement Stack using Queues"
   ]
  },
  {
   "cell_type": "markdown",
   "metadata": {},
   "source": [
    "Implement the following operations of a stack using queues.\n",
    "\n",
    "push(x) -- Push element x onto stack.\n",
    "pop() -- Removes the element on top of the stack.\n",
    "top() -- Get the top element.\n",
    "empty() -- Return whether the stack is empty.\n",
    "Notes:\n",
    "You must use only standard operations of a queue -- which means only push to back, peek/pop from front, size, and is empty operations are valid.\n",
    "Depending on your language, queue may not be supported natively. You may simulate a queue by using a list or deque (double-ended queue), as long as you use only standard operations of a queue.\n",
    "You may assume that all operations are valid (for example, no pop or top operations will be called on an empty stack).\n",
    "Credits:\n",
    "Special thanks to @jianchao.li.fighter for adding this problem and all test cases.\n",
    "\n"
   ]
  },
  {
   "cell_type": "markdown",
   "metadata": {},
   "source": [
    "## Solution"
   ]
  },
  {
   "cell_type": "code",
   "execution_count": null,
   "metadata": {
    "collapsed": true
   },
   "outputs": [],
   "source": [
    "class MyStack(object):\n",
    "\n",
    "    def __init__(self):\n",
    "        \"\"\"\n",
    "        Initialize your data structure here.\n",
    "        \"\"\"\n",
    "        self.__lst__ = []\n",
    "\n",
    "    def push(self, x):\n",
    "        \"\"\"\n",
    "        Push element x onto stack.\n",
    "        :type x: int\n",
    "        :rtype: void\n",
    "        \"\"\"\n",
    "        self.__lst__.append(x)\n",
    "\n",
    "    def pop(self):\n",
    "        \"\"\"\n",
    "        Removes the element on top of the stack and returns that element.\n",
    "        :rtype: int\n",
    "        \"\"\"\n",
    "        return self.__lst__.pop()\n",
    "\n",
    "    def top(self):\n",
    "        \"\"\"\n",
    "        Get the top element.\n",
    "        :rtype: int\n",
    "        \"\"\"\n",
    "        return self.__lst__[-1]\n",
    "\n",
    "    def empty(self):\n",
    "        \"\"\"\n",
    "        Returns whether the stack is empty.\n",
    "        :rtype: bool\n",
    "        \"\"\"\n",
    "        return len(self.__lst__) == 0\n",
    "\n",
    "\n",
    "# Your MyStack object will be instantiated and called as such:\n",
    "# obj = MyStack()\n",
    "# obj.push(x)\n",
    "# param_2 = obj.pop()\n",
    "# param_3 = obj.top()\n",
    "# param_4 = obj.empty()"
   ]
  }
 ],
 "metadata": {
  "kernelspec": {
   "display_name": "Python 2",
   "language": "python",
   "name": "python2"
  },
  "language_info": {
   "codemirror_mode": {
    "name": "ipython",
    "version": 2
   },
   "file_extension": ".py",
   "mimetype": "text/x-python",
   "name": "python",
   "nbconvert_exporter": "python",
   "pygments_lexer": "ipython2",
   "version": "2.7.11"
  }
 },
 "nbformat": 4,
 "nbformat_minor": 2
}

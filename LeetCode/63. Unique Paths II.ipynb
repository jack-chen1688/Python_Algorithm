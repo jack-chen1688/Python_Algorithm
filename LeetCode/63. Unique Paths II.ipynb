{
 "cells": [
  {
   "cell_type": "markdown",
   "metadata": {},
   "source": [
    "# 63. Unique Paths II"
   ]
  },
  {
   "cell_type": "markdown",
   "metadata": {},
   "source": [
    "Follow up for \"Unique Paths\":\n",
    "\n",
    "Now consider if some obstacles are added to the grids. How many unique paths would there be?\n",
    "\n",
    "An obstacle and empty space is marked as 1 and 0 respectively in the grid.\n",
    "\n",
    "For example,\n",
    "There is one obstacle in the middle of a 3x3 grid as illustrated below.\n",
    "\n",
    "[\n",
    "  [0,0,0],\n",
    "  [0,1,0],\n",
    "  [0,0,0]\n",
    "]\n",
    "The total number of unique paths is 2.\n",
    "\n",
    "Note: m and n will be at most 100."
   ]
  },
  {
   "cell_type": "markdown",
   "metadata": {},
   "source": [
    "## Solution 1. Time Complexity of O(mn)"
   ]
  },
  {
   "cell_type": "code",
   "execution_count": null,
   "metadata": {
    "collapsed": true
   },
   "outputs": [],
   "source": [
    "class Solution(object):\n",
    "    def uniquePathsWithObstacles(self, obstacleGrid):\n",
    "        \"\"\"\n",
    "        :type obstacleGrid: List[List[int]]\n",
    "        :rtype: int\n",
    "        \"\"\"\n",
    "        m, n = len(obstacleGrid), len(obstacleGrid[0])\n",
    "        \n",
    "        lst = [0] * n\n",
    "        \n",
    "        for i, x in enumerate(obstacleGrid):\n",
    "            lst1 = [0] * n\n",
    "            for j, num in enumerate(x):\n",
    "                if i == 0:\n",
    "                    if num == 0:\n",
    "                        lst1[j] = 1\n",
    "                    else:\n",
    "                        break\n",
    "                else:\n",
    "                    if num == 0:\n",
    "                        if j == 0:\n",
    "                            lst1[j] = lst[j]\n",
    "                        else:\n",
    "                            lst1[j] = lst1[j-1] + lst[j] \n",
    "                        \n",
    "            lst = lst1\n",
    "        \n",
    "        return lst[-1]"
   ]
  },
  {
   "cell_type": "markdown",
   "metadata": {},
   "source": [
    "## Solution 2. Less Space with Time Complexity of O(mn)"
   ]
  },
  {
   "cell_type": "code",
   "execution_count": null,
   "metadata": {
    "collapsed": true
   },
   "outputs": [],
   "source": [
    "class Solution(object):\n",
    "    def uniquePathsWithObstacles(self, obstacleGrid):\n",
    "        \"\"\"\n",
    "        :type obstacleGrid: List[List[int]]\n",
    "        :rtype: int\n",
    "        \"\"\"\n",
    "        m, n = len(obstacleGrid), len(obstacleGrid[0])\n",
    "        \n",
    "        lst = [0] * n\n",
    "        \n",
    "        for i, x in enumerate(obstacleGrid):\n",
    "            for j, num in enumerate(x):\n",
    "                if i == 0:\n",
    "                    if num == 0:\n",
    "                        lst[j] = 1\n",
    "                    else:\n",
    "                        break\n",
    "                else:\n",
    "                    if num == 0:\n",
    "                        if j > 0:\n",
    "                            lst[j] = lst[j-1] + lst[j]\n",
    "                        #lst[j] does not change if j= 0\n",
    "                    else:\n",
    "                        lst[j] = 0          \n",
    "        \n",
    "        return lst[-1]"
   ]
  },
  {
   "cell_type": "markdown",
   "metadata": {},
   "source": [
    "## Solution 3. Enhancement from Solution 2."
   ]
  },
  {
   "cell_type": "code",
   "execution_count": null,
   "metadata": {
    "collapsed": true
   },
   "outputs": [],
   "source": [
    "class Solution(object):\n",
    "    def uniquePathsWithObstacles(self, obstacleGrid):\n",
    "        \"\"\"\n",
    "        :type obstacleGrid: List[List[int]]\n",
    "        :rtype: int\n",
    "        \"\"\"\n",
    "        m, n = len(obstacleGrid), len(obstacleGrid[0])\n",
    "        \n",
    "        lst = [0] * n\n",
    "        lst[0] = 1 if obstacleGrid[0][0] == 0 else 0\n",
    "        \n",
    "        for i, x in enumerate(obstacleGrid):\n",
    "            for j, num in enumerate(x):\n",
    "                if num == 0:\n",
    "                    if j > 0:\n",
    "                        lst[j] = lst[j-1] + lst[j]\n",
    "                else:\n",
    "                    lst[j] = 0\n",
    "\n",
    "        \n",
    "        return lst[-1]"
   ]
  }
 ],
 "metadata": {
  "kernelspec": {
   "display_name": "Python 2",
   "language": "python",
   "name": "python2"
  },
  "language_info": {
   "codemirror_mode": {
    "name": "ipython",
    "version": 2
   },
   "file_extension": ".py",
   "mimetype": "text/x-python",
   "name": "python",
   "nbconvert_exporter": "python",
   "pygments_lexer": "ipython2",
   "version": "2.7.13"
  }
 },
 "nbformat": 4,
 "nbformat_minor": 2
}

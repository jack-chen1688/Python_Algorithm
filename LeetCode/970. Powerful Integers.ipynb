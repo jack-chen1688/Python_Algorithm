{
 "cells": [
  {
   "cell_type": "markdown",
   "metadata": {},
   "source": [
    "# 970. Powerful Integers"
   ]
  },
  {
   "cell_type": "markdown",
   "metadata": {},
   "source": [
    "Given two non-negative integers x and y, an integer is powerful if it is equal to x^i + y^j for some integers i >= 0 and j >= 0.\n",
    "\n",
    "Return a list of all powerful integers that have value less than or equal to bound.\n",
    "\n",
    "You may return the answer in any order.  In your answer, each value should occur at most once.\n",
    "\n",
    " \n",
    "\n",
    "Example 1:\n",
    "\n",
    "Input: x = 2, y = 3, bound = 10\n",
    "Output: [2,3,4,5,7,9,10]\n",
    "Explanation: \n",
    "2 = 2^0 + 3^0\n",
    "3 = 2^1 + 3^0\n",
    "4 = 2^0 + 3^1\n",
    "5 = 2^1 + 3^1\n",
    "7 = 2^2 + 3^1\n",
    "9 = 2^3 + 3^0\n",
    "10 = 2^0 + 3^2\n",
    "Example 2:\n",
    "\n",
    "Input: x = 3, y = 5, bound = 15\n",
    "Output: [2,4,6,8,10,14]\n",
    " \n",
    "\n",
    "Note:\n",
    "\n",
    "1 <= x <= 100\n",
    "1 <= y <= 100\n",
    "0 <= bound <= 10^6"
   ]
  },
  {
   "cell_type": "markdown",
   "metadata": {},
   "source": [
    "## Solution"
   ]
  },
  {
   "cell_type": "code",
   "execution_count": null,
   "metadata": {},
   "outputs": [],
   "source": [
    "class Solution:\n",
    "    def powerfulIntegers(self, x, y, bound):\n",
    "        \"\"\"\n",
    "        :type x: int\n",
    "        :type y: int\n",
    "        :type bound: int\n",
    "        :rtype: List[int]\n",
    "        \"\"\"\n",
    "        \n",
    "        xpower, xlist = x, [1]\n",
    "       \n",
    "        if x != 1:\n",
    "            while xpower < bound:\n",
    "                xlist.append(xpower)\n",
    "                xpower *= x\n",
    "\n",
    "        ypower, ylist = y, [1]\n",
    "       \n",
    "        if y != 1:\n",
    "            while ypower < bound:\n",
    "                ylist.append(ypower)\n",
    "                ypower *= y\n",
    "        \n",
    "        s = set()\n",
    "        for xpower in xlist:\n",
    "            for ypower in ylist:\n",
    "                if xpower+ypower <= bound:\n",
    "                    s.add(xpower + ypower)\n",
    "        \n",
    "        return list(s)"
   ]
  }
 ],
 "metadata": {
  "kernelspec": {
   "display_name": "Python 3",
   "language": "python",
   "name": "python3"
  },
  "language_info": {
   "codemirror_mode": {
    "name": "ipython",
    "version": 3
   },
   "file_extension": ".py",
   "mimetype": "text/x-python",
   "name": "python",
   "nbconvert_exporter": "python",
   "pygments_lexer": "ipython3",
   "version": "3.7.1"
  }
 },
 "nbformat": 4,
 "nbformat_minor": 2
}

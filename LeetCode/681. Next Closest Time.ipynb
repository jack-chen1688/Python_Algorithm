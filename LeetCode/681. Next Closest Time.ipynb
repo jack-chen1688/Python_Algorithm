{
 "cells": [
  {
   "cell_type": "markdown",
   "metadata": {},
   "source": [
    "# 681. Next Closest Time"
   ]
  },
  {
   "cell_type": "markdown",
   "metadata": {},
   "source": [
    "Given a time represented in the format \"HH:MM\", form the next closest time by reusing the current digits. There is no limit on how many times a digit can be reused.\n",
    "\n",
    "You may assume the given input string is always valid. For example, \"01:34\", \"12:09\" are all valid. \"1:34\", \"12:9\" are all invalid.\n",
    "\n",
    "Example 1:\n",
    "\n",
    "Input: \"19:34\"\n",
    "Output: \"19:39\"\n",
    "Explanation: The next closest time choosing from digits 1, 9, 3, 4, is 19:39, which occurs 5 minutes later.  It is not 19:33, because this occurs 23 hours and 59 minutes later.\n",
    "Example 2:\n",
    "\n",
    "Input: \"23:59\"\n",
    "Output: \"22:22\"\n",
    "Explanation: The next closest time choosing from digits 2, 3, 5, 9, is 22:22. It may be assumed that the returned time is next day's time since it is smaller than the input time numerically.\n"
   ]
  },
  {
   "cell_type": "markdown",
   "metadata": {},
   "source": [
    "## Solution"
   ]
  },
  {
   "cell_type": "code",
   "execution_count": null,
   "metadata": {
    "collapsed": true
   },
   "outputs": [],
   "source": [
    "class Solution(object):\n",
    "    def nextClosestTime(self, time):\n",
    "        \"\"\"\n",
    "        :type time: str\n",
    "        :rtype: str\n",
    "        \"\"\"\n",
    "        \n",
    "        hour, minute = time.split(':')\n",
    "        digits = list(set([int(ch) for ch in hour+minute]))\n",
    "        digits.sort()\n",
    "        \n",
    "        m_digits = [int(ch) for ch in minute]\n",
    "        \n",
    "        for i in xrange(len(m_digits)-1, -1, -1):\n",
    "            pos = bisect.bisect_right(digits, m_digits[i])\n",
    "            if pos < len(digits):\n",
    "                m_digits1 = [str(ch) for ch in m_digits]\n",
    "                m_digits1[i] = str(digits[pos])\n",
    "                if int(''.join(m_digits1)) < 60:\n",
    "                    return hour + \":\" + ''.join(m_digits1)\n",
    "            m_digits[i] = digits[0]\n",
    "        \n",
    "        minute1 = ''.join([str(x) for x in m_digits])\n",
    "        \n",
    "        h_digits = [int(ch) for ch in hour]\n",
    "        for i in xrange(len(h_digits)-1, -1, -1):\n",
    "            pos = bisect.bisect_right(digits, h_digits[i])\n",
    "            if pos < len(digits):\n",
    "                h_digits1 = [str(ch) for ch in h_digits]\n",
    "                h_digits1[i] = str(digits[pos])\n",
    "                if int(''.join(h_digits1)) <= 24:\n",
    "                    return ''.join(h_digits1) + \":\" + minute1\n",
    "            h_digits[i] = digits[0]\n",
    "        \n",
    "        return ''.join([str(x) for x in h_digits]) + ':' + minute1\n",
    "                            "
   ]
  }
 ],
 "metadata": {
  "kernelspec": {
   "display_name": "Python 2",
   "language": "python",
   "name": "python2"
  },
  "language_info": {
   "codemirror_mode": {
    "name": "ipython",
    "version": 2
   },
   "file_extension": ".py",
   "mimetype": "text/x-python",
   "name": "python",
   "nbconvert_exporter": "python",
   "pygments_lexer": "ipython2",
   "version": "2.7.13"
  }
 },
 "nbformat": 4,
 "nbformat_minor": 2
}

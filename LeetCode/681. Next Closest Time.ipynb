{
 "cells": [
  {
   "cell_type": "markdown",
   "metadata": {},
   "source": [
    "# 681. Next Closest Time"
   ]
  },
  {
   "cell_type": "markdown",
   "metadata": {},
   "source": [
    "Given a time represented in the format \"HH:MM\", form the next closest time by reusing the current digits. There is no limit on how many times a digit can be reused.\n",
    "\n",
    "You may assume the given input string is always valid. For example, \"01:34\", \"12:09\" are all valid. \"1:34\", \"12:9\" are all invalid.\n",
    "\n",
    "Example 1:\n",
    "\n",
    "Input: \"19:34\"\n",
    "Output: \"19:39\"\n",
    "Explanation: The next closest time choosing from digits 1, 9, 3, 4, is 19:39, which occurs 5 minutes later.  It is not 19:33, because this occurs 23 hours and 59 minutes later.\n",
    "Example 2:\n",
    "\n",
    "Input: \"23:59\"\n",
    "Output: \"22:22\"\n",
    "Explanation: The next closest time choosing from digits 2, 3, 5, 9, is 22:22. It may be assumed that the returned time is next day's time since it is smaller than the input time numerically.\n"
   ]
  },
  {
   "cell_type": "markdown",
   "metadata": {},
   "source": [
    "## Solution 1. Greedy Approach"
   ]
  },
  {
   "cell_type": "code",
   "execution_count": null,
   "metadata": {
    "collapsed": true
   },
   "outputs": [],
   "source": [
    "class Solution(object):\n",
    "    def nextClosestTime(self, time):\n",
    "        \"\"\"\n",
    "        :type time: str\n",
    "        :rtype: str\n",
    "        \"\"\"\n",
    "        \n",
    "        hour, minute = time.split(':')\n",
    "        digits = list(set([int(ch) for ch in hour+minute]))\n",
    "        digits.sort()\n",
    "        \n",
    "        m_digits = [int(ch) for ch in minute]\n",
    "        \n",
    "        for i in xrange(len(m_digits)-1, -1, -1):\n",
    "            pos = bisect.bisect_right(digits, m_digits[i])\n",
    "            if pos < len(digits):\n",
    "                m_digits1 = [str(ch) for ch in m_digits]\n",
    "                m_digits1[i] = str(digits[pos])\n",
    "                if int(''.join(m_digits1)) < 60:\n",
    "                    return hour + \":\" + ''.join(m_digits1)\n",
    "            m_digits[i] = digits[0]\n",
    "        \n",
    "        minute1 = ''.join([str(x) for x in m_digits])\n",
    "        \n",
    "        h_digits = [int(ch) for ch in hour]\n",
    "        for i in xrange(len(h_digits)-1, -1, -1):\n",
    "            pos = bisect.bisect_right(digits, h_digits[i])\n",
    "            if pos < len(digits):\n",
    "                h_digits1 = [str(ch) for ch in h_digits]\n",
    "                h_digits1[i] = str(digits[pos])\n",
    "                if int(''.join(h_digits1)) <= 24:\n",
    "                    return ''.join(h_digits1) + \":\" + minute1\n",
    "            h_digits[i] = digits[0]\n",
    "        \n",
    "        return ''.join([str(x) for x in h_digits]) + ':' + minute1\n",
    "                            "
   ]
  },
  {
   "cell_type": "markdown",
   "metadata": {},
   "source": [
    "## Solution 2. A Similar Solution That Is Shorter But Somehow Slower "
   ]
  },
  {
   "cell_type": "code",
   "execution_count": 1,
   "metadata": {},
   "outputs": [
    {
     "name": "stdout",
     "output_type": "stream",
     "text": [
      "23:12\n"
     ]
    }
   ],
   "source": [
    "class Solution(object):\n",
    "    def nextClosestTime(self, time):\n",
    "        \"\"\"\n",
    "        :type time: str\n",
    "        :rtype: str\n",
    "        \"\"\"\n",
    "        a, b, _, c, d = time\n",
    "        s = sorted(list(set([a, b, c, d])))\n",
    "        # next closest time\n",
    "        if d!=s[-1]:\n",
    "            return a+b+':'+c+s[s.index(d)+1]\n",
    "        if c!=s[-1]:\n",
    "            if int(s[s.index(c)+1]+d)<=59:\n",
    "                return a+b+':'+s[s.index(c)+1]+s[0]\n",
    "        if b!=s[-1]:\n",
    "            if int(a+s[s.index(b)+1])<=23:\n",
    "                return a+s[s.index(b)+1]+':'+s[0]+s[0]\n",
    "        if a!=s[-1]:\n",
    "            if int(s[s.index(a)+1]+s[0])<=23:\n",
    "                return s[s.index(a)+1]+s[0]+':'+s[0]+s[0]\n",
    "        # go to next day\n",
    "        return s[0]+s[0]+':'+s[0]+s[0]\n",
    "               \n",
    "print Solution().nextClosestTime(\"23:11\")"
   ]
  }
 ],
 "metadata": {
  "kernelspec": {
   "display_name": "Python 2",
   "language": "python",
   "name": "python2"
  },
  "language_info": {
   "codemirror_mode": {
    "name": "ipython",
    "version": 2
   },
   "file_extension": ".py",
   "mimetype": "text/x-python",
   "name": "python",
   "nbconvert_exporter": "python",
   "pygments_lexer": "ipython2",
   "version": "2.7.13"
  }
 },
 "nbformat": 4,
 "nbformat_minor": 2
}

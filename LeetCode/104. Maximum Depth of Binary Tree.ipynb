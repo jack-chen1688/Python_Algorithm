{
 "cells": [
  {
   "cell_type": "markdown",
   "metadata": {},
   "source": [
    "# 104. Maximum Depth of Binary Tree"
   ]
  },
  {
   "cell_type": "markdown",
   "metadata": {},
   "source": [
    "## Solution"
   ]
  },
  {
   "cell_type": "code",
   "execution_count": 13,
   "metadata": {},
   "outputs": [
    {
     "name": "stdout",
     "output_type": "stream",
     "text": [
      "5\n"
     ]
    }
   ],
   "source": [
    "class TreeNode(object):\n",
    "    def __init__(self,x):\n",
    "        self.val = x\n",
    "        self.left = None\n",
    "        self.right = None\n",
    "        \n",
    "class Solution(object):\n",
    "    def constructTree(self, l):\n",
    "        \n",
    "        length = len(l)\n",
    "        \n",
    "        if length == 0:\n",
    "            return []\n",
    "        \n",
    "        list_len = len(l)\n",
    "        root = TreeNode(l[0])\n",
    "        nodes = [root]\n",
    "        pos = 1\n",
    "        \n",
    "        while pos < list_len:\n",
    "            \n",
    "            if not nodes:\n",
    "                raise ValueError(\"Invalid format for the input list!\")\n",
    "            \n",
    "            start = pos\n",
    "            node_pos = 0\n",
    "            next_count = min(2 * len(nodes), list_len - pos)\n",
    "            next_nodes = []\n",
    "            \n",
    "            while pos < start + next_count:\n",
    "                \n",
    "                if l[pos]:\n",
    "                    node = TreeNode(l[pos])\n",
    "                    nodes[node_pos].left = node\n",
    "                    next_nodes.append(node)\n",
    "                pos += 1\n",
    "                \n",
    "                if pos == list_len:\n",
    "                    return root\n",
    "                elif l[pos]:\n",
    "                    node = TreeNode(l[pos])\n",
    "                    nodes[node_pos].right = node\n",
    "                    next_nodes.append(node)\n",
    "                pos +=1\n",
    "                \n",
    "                node_pos += 1\n",
    "                \n",
    "            nodes = next_nodes\n",
    "            \n",
    "        return root\n",
    "        \n",
    "    \n",
    "    def maxDepth(self, root):\n",
    "        \"\"\"\n",
    "        :type root: TreeNode\n",
    "        :rtype: int\n",
    "        \"\"\"\n",
    "        if not root:\n",
    "            return 0\n",
    "        \n",
    "        return max(self.maxDepth(root.left), self.maxDepth(root.right)) + 1\n",
    "\n",
    "def main():\n",
    "    l = [1, None, 2, None,3, 4, None, None, 5, None]\n",
    "    root = Solution().constructTree(l)\n",
    "    print Solution().maxDepth(root)\n",
    "\n",
    "if __name__ == \"__main__\":\n",
    "    main()"
   ]
  }
 ],
 "metadata": {
  "kernelspec": {
   "display_name": "Python 2",
   "language": "python",
   "name": "python2"
  },
  "language_info": {
   "codemirror_mode": {
    "name": "ipython",
    "version": 2
   },
   "file_extension": ".py",
   "mimetype": "text/x-python",
   "name": "python",
   "nbconvert_exporter": "python",
   "pygments_lexer": "ipython2",
   "version": "2.7.11"
  }
 },
 "nbformat": 4,
 "nbformat_minor": 2
}

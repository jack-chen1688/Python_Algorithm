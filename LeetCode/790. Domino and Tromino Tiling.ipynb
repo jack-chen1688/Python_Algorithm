{
 "cells": [
  {
   "cell_type": "markdown",
   "metadata": {},
   "source": [
    "# 790. Domino and Tromino Tiling"
   ]
  },
  {
   "cell_type": "markdown",
   "metadata": {},
   "source": [
    "You are playing a simplified Pacman game. You start at the point (0, 0), and your destination is (target[0], target[1]). There are several ghosts on the map, the i-th ghost starts at (ghosts[i][0], ghosts[i][1]).\n",
    "\n",
    "Each turn, you and all ghosts simultaneously *may* move in one of 4 cardinal directions: north, east, west, or south, going from the previous point to a new point 1 unit of distance away.\n",
    "\n",
    "You escape if and only if you can reach the target before any ghost reaches you (for any given moves the ghosts may take.)  If you reach any square (including the target) at the same time as a ghost, it doesn't count as an escape.\n",
    "\n",
    "Return True if and only if it is possible to escape.\n",
    "\n",
    "Example 1:\n",
    "Input: \n",
    "ghosts = [[1, 0], [0, 3]]\n",
    "target = [0, 1]\n",
    "Output: true\n",
    "Explanation: \n",
    "You can directly reach the destination (0, 1) at time 1, while the ghosts located at (1, 0) or (0, 3) have no way to catch up with you.\n",
    "Example 2:\n",
    "Input: \n",
    "ghosts = [[1, 0]]\n",
    "target = [2, 0]\n",
    "Output: false\n",
    "Explanation: \n",
    "You need to reach the destination (2, 0), but the ghost at (1, 0) lies between you and the destination.\n",
    "Example 3:\n",
    "Input: \n",
    "ghosts = [[2, 0]]\n",
    "target = [1, 0]\n",
    "Output: false\n",
    "Explanation: \n",
    "The ghost can reach the target at the same time as you.\n",
    "Note:\n",
    "\n",
    "All points have coordinates with absolute value <= 10000.\n",
    "The number of ghosts will not exceed 100.\n",
    "\n",
    "Note:\n",
    "N  will be in range [1, 1000]."
   ]
  },
  {
   "cell_type": "markdown",
   "metadata": {},
   "source": [
    "## Solution:"
   ]
  },
  {
   "cell_type": "markdown",
   "metadata": {},
   "source": [
    "f(0) = 1\n",
    "f(1) = 1\n",
    "f(2) = 2\n",
    "f(3) = f(2) + f(1) + 2*f(0) \n",
    "f(4) = f(3) + f(2) + 2*f(1) + 2*f(0)\n",
    "...\n",
    "f(N-1) = f(N-2) + f(N-3) + 2*f(N-4) + ... + 2*f(0)\n",
    "f(N) = f(N-1) + f(N-2) + 2*f(N-3) + ... + 2*f(0)\n",
    "\n",
    "From last two equations, we can have:\n",
    "f(N) - f(N-1) = f(N-1) + f(N-3)\n",
    "So we have f(N) = 2*f(N-1) + f(N-3)"
   ]
  },
  {
   "cell_type": "code",
   "execution_count": null,
   "metadata": {
    "collapsed": true
   },
   "outputs": [],
   "source": [
    "class Solution(object):\n",
    "    def numTilings(self, N):\n",
    "        \"\"\"\n",
    "        :type N: int\n",
    "        :rtype: int\n",
    "        \"\"\"\n",
    "        # A[i] corresponds to i+1\n",
    "        A = [0] * (N+3)\n",
    "        \n",
    "        A[:3]=[1,1,2]\n",
    "        \n",
    "        for i in xrange(3, N+1):\n",
    "            A[i] = (2* A[i-1] + A[i-3]) % (10**9+7)\n",
    "        \n",
    "        return A[N]"
   ]
  }
 ],
 "metadata": {
  "kernelspec": {
   "display_name": "Python 2",
   "language": "python",
   "name": "python2"
  },
  "language_info": {
   "codemirror_mode": {
    "name": "ipython",
    "version": 2
   },
   "file_extension": ".py",
   "mimetype": "text/x-python",
   "name": "python",
   "nbconvert_exporter": "python",
   "pygments_lexer": "ipython2",
   "version": "2.7.13"
  }
 },
 "nbformat": 4,
 "nbformat_minor": 2
}

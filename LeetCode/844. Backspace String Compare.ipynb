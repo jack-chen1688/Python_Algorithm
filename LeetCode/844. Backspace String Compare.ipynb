{
 "cells": [
  {
   "cell_type": "markdown",
   "metadata": {},
   "source": [
    "# 844. Backspace String Compare"
   ]
  },
  {
   "cell_type": "markdown",
   "metadata": {},
   "source": [
    "Given two strings S and T, return if they are equal when both are typed into empty text editors. # means a backspace character.\n",
    "\n",
    "Example 1:\n",
    "\n",
    "Input: S = \"ab#c\", T = \"ad#c\"\n",
    "Output: true\n",
    "Explanation: Both S and T become \"ac\".\n",
    "Example 2:\n",
    "\n",
    "Input: S = \"ab##\", T = \"c#d#\"\n",
    "Output: true\n",
    "Explanation: Both S and T become \"\".\n",
    "Example 3:\n",
    "\n",
    "Input: S = \"a##c\", T = \"#a#c\"\n",
    "Output: true\n",
    "Explanation: Both S and T become \"c\".\n",
    "Example 4:\n",
    "\n",
    "Input: S = \"a#c\", T = \"b\"\n",
    "Output: false\n",
    "Explanation: S becomes \"c\" while T becomes \"b\".\n",
    "Note:\n",
    "\n",
    "1 <= S.length <= 200\n",
    "1 <= T.length <= 200\n",
    "S and T only contain lowercase letters and '#' characters.\n",
    "Follow up:\n",
    "\n",
    "Can you solve it in O(N) time and O(1) space?"
   ]
  },
  {
   "cell_type": "markdown",
   "metadata": {},
   "source": [
    "## Solution 1. O(N) time and O(N) space"
   ]
  },
  {
   "cell_type": "code",
   "execution_count": null,
   "metadata": {
    "collapsed": true
   },
   "outputs": [],
   "source": [
    "class Solution(object):\n",
    "    def backspaceCompare(self, S, T):\n",
    "        \"\"\"\n",
    "        :type S: str\n",
    "        :type T: str\n",
    "        :rtype: bool\n",
    "        \"\"\"\n",
    "        \n",
    "        def convert(str):\n",
    "            s = \"\"\n",
    "            for ch in str:\n",
    "                if ch == \"#\":\n",
    "                    s = s[:-1]\n",
    "                else:\n",
    "                    s += ch\n",
    "            return s\n",
    "        \n",
    "        return convert(S) == convert(T)"
   ]
  },
  {
   "cell_type": "markdown",
   "metadata": {},
   "source": [
    "## Solution 2. O(N) time and O(1) space"
   ]
  },
  {
   "cell_type": "code",
   "execution_count": null,
   "metadata": {
    "collapsed": true
   },
   "outputs": [],
   "source": [
    "class Solution(object):\n",
    "    \n",
    "    \"\"\"\n",
    "    Reverse S and T and processing from index 0 to find next valid char for S and T \n",
    "    and compare them.\n",
    "    \"\"\"\n",
    "    def backspaceCompare(self, S, T):\n",
    "        \"\"\"\n",
    "        :type S: str\n",
    "        :type T: str\n",
    "        :rtype: bool\n",
    "        \"\"\"\n",
    "        \n",
    "        def nxt(s, i):\n",
    "            cnt = 0\n",
    "            index = i\n",
    "            \n",
    "            # abcd, i=1 -> return [b, 2]\n",
    "            # a##bcd, i=1 -> return [d, 6] \n",
    "            # a##b#dcf, i=1 -> return [f, 8]\n",
    "            while index < len(s):\n",
    "                if s[index] == '#':\n",
    "                    cnt += 1\n",
    "                else:\n",
    "                    if cnt == 0:\n",
    "                        return [s[index], index+1]\n",
    "                    else:\n",
    "                        cnt -= 1\n",
    "                index += 1\n",
    "            return [None, 0]\n",
    "            \n",
    "        i, j = 0, 0\n",
    "        S, T = S[::-1], T[::-1]\n",
    "        \n",
    "        while 1:\n",
    "            [a, i] = nxt(S, i)\n",
    "            [b, j] = nxt(T, j)\n",
    "            \n",
    "            if a != b:\n",
    "                return False\n",
    "            \n",
    "            if a == None and b == None:\n",
    "                return True"
   ]
  }
 ],
 "metadata": {
  "kernelspec": {
   "display_name": "Python 2",
   "language": "python",
   "name": "python2"
  },
  "language_info": {
   "codemirror_mode": {
    "name": "ipython",
    "version": 2
   },
   "file_extension": ".py",
   "mimetype": "text/x-python",
   "name": "python",
   "nbconvert_exporter": "python",
   "pygments_lexer": "ipython2",
   "version": "2.7.13"
  }
 },
 "nbformat": 4,
 "nbformat_minor": 2
}

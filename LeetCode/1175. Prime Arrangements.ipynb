{
 "cells": [
  {
   "cell_type": "markdown",
   "metadata": {},
   "source": [
    "# 1175. Prime Arrangements"
   ]
  },
  {
   "cell_type": "markdown",
   "metadata": {},
   "source": [
    "Return the number of permutations of 1 to n so that prime numbers are at prime indices (1-indexed.)\n",
    "\n",
    "(Recall that an integer is prime if and only if it is greater than 1, and cannot be written as a product of two positive integers both smaller than it.)\n",
    "\n",
    "Since the answer may be large, return the answer modulo 10^9 + 7.\n",
    "\n",
    " \n",
    "\n",
    "Example 1:\n",
    "\n",
    "Input: n = 5\n",
    "Output: 12\n",
    "Explanation: For example [1,2,5,4,3] is a valid permutation, but [5,2,3,4,1] is not because the prime number 5 is at index 1.\n",
    "Example 2:\n",
    "\n",
    "Input: n = 100\n",
    "Output: 682289015\n",
    " \n",
    "\n",
    "Constraints:\n",
    "\n",
    "1 <= n <= 100"
   ]
  },
  {
   "cell_type": "markdown",
   "metadata": {},
   "source": [
    "## Solution 1."
   ]
  },
  {
   "cell_type": "code",
   "execution_count": null,
   "metadata": {},
   "outputs": [],
   "source": [
    "class Solution:\n",
    "    def numPrimeArrangements(self, n: int) -> int:\n",
    "        MAX_NUM = 10**9 + 7 \n",
    "        \n",
    "        isPrime = [False] * 2 + [True] * (n - 1)\n",
    "        \n",
    "        def numPrimes(n):\n",
    "            cnt = 0\n",
    "            for i in range(2, n+1):\n",
    "                if isPrime[i]:\n",
    "                    cnt += 1\n",
    "                    # mark all multiples of i as false \n",
    "                    for j in range(2*i, n+1, i):\n",
    "                        isPrime[j] = False\n",
    "                        \n",
    "            return cnt\n",
    "        \n",
    "        num_primes = numPrimes(n)\n",
    "        result = 1\n",
    "        for i in range(1, num_primes+1):\n",
    "            result = (result * i) % MAX_NUM\n",
    "    \n",
    "        num_left = n - num_primes\n",
    "        for i in range(1, num_left + 1):\n",
    "            result = (result * i) % MAX_NUM\n",
    "        \n",
    "        return result"
   ]
  },
  {
   "cell_type": "markdown",
   "metadata": {},
   "source": [
    "## Solution 2. Minor enhancement from solution 1. "
   ]
  },
  {
   "cell_type": "code",
   "execution_count": null,
   "metadata": {},
   "outputs": [],
   "source": [
    "class Solution:\n",
    "    def numPrimeArrangements(self, n: int) -> int:\n",
    "        MAX_NUM = 10**9 + 7 \n",
    "        \n",
    "        isPrime = [False] * 2 + [True] * (n - 1)\n",
    "        \n",
    "        def numPrimes(n):\n",
    "            cnt = 0\n",
    "            for i in range(2, n+1):\n",
    "                if isPrime[i]:\n",
    "                    cnt += 1\n",
    "                    # mark all multiples of i as false \n",
    "                    for j in range(2*i, n+1, i):\n",
    "                        isPrime[j] = False\n",
    "                        \n",
    "            return cnt\n",
    "        \n",
    "        num_primes = numPrimes(n)\n",
    "        num_left = n - num_primes\n",
    "        A, B = num_primes, num_left\n",
    "        if num_primes > num_left:\n",
    "            A, B = B, A\n",
    "        \n",
    "        result = 1\n",
    "        for i in range(1, A+1):\n",
    "            result = (result * i) % MAX_NUM\n",
    "    \n",
    "        result = (result * result) % MAX_NUM\n",
    "        for i in range(A+1, B+1):\n",
    "            result = (result * i) % MAX_NUM\n",
    "        "
   ]
  }
 ],
 "metadata": {
  "kernelspec": {
   "display_name": "Python 3",
   "language": "python",
   "name": "python3"
  },
  "language_info": {
   "codemirror_mode": {
    "name": "ipython",
    "version": 3
   },
   "file_extension": ".py",
   "mimetype": "text/x-python",
   "name": "python",
   "nbconvert_exporter": "python",
   "pygments_lexer": "ipython3",
   "version": "3.7.3"
  }
 },
 "nbformat": 4,
 "nbformat_minor": 2
}

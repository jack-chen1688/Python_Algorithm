{
 "cells": [
  {
   "cell_type": "markdown",
   "metadata": {},
   "source": [
    "# 424. Longest Repeating Character Replacement"
   ]
  },
  {
   "cell_type": "markdown",
   "metadata": {},
   "source": [
    "Given a string that consists of only uppercase English letters, you can replace any letter in the string with \n",
    "another letter at most k times. Find the length of a longest substring containing all repeating letters you can \n",
    "get after performing the above operations.\n",
    "\n",
    "Note:\n",
    "Both the string's length and k will not exceed 104.\n",
    "\n",
    "Example 1:\n",
    "\n",
    "Input:\n",
    "s = \"ABAB\", k = 2\n",
    "\n",
    "Output:\n",
    "4\n",
    "\n",
    "Explanation:\n",
    "Replace the two 'A's with two 'B's or vice versa.\n",
    "Example 2:\n",
    "\n",
    "Input:\n",
    "s = \"AABABBA\", k = 1\n",
    "\n",
    "Output:\n",
    "4\n",
    "\n",
    "Explanation:\n",
    "Replace the one 'A' in the middle with 'B' and form \"AABBBBA\".\n",
    "The substring \"BBBB\" has the longest repeating letters, which is 4."
   ]
  },
  {
   "cell_type": "markdown",
   "metadata": {},
   "source": [
    "## Solution 1. DFS approach (Time Exceeded)"
   ]
  },
  {
   "cell_type": "code",
   "execution_count": null,
   "metadata": {
    "collapsed": true
   },
   "outputs": [],
   "source": [
    "class Solution(object):\n",
    "    def characterReplacement(self, s, k):\n",
    "        \"\"\"\n",
    "        :type s: str\n",
    "        :type k: int\n",
    "        :rtype: int\n",
    "        \"\"\"\n",
    "        # AABABBA -> AAB\n",
    "        dict = {}\n",
    "        \n",
    "        def findMaxRepeat(s):\n",
    "            chset = set(s)\n",
    "            ans = 0\n",
    "            for ch in chset:\n",
    "                lo = 0 \n",
    "                hi = len(s)\n",
    "                while lo <= hi:\n",
    "                    mid = (lo + hi)/2\n",
    "                    search = ch*mid\n",
    "                    \n",
    "                    if s.find(search) >= 0:\n",
    "                        lo = mid + 1\n",
    "                    else:\n",
    "                        hi = mid - 1\n",
    "                        \n",
    "                if hi > ans:\n",
    "                    ans = hi\n",
    "                \n",
    "            return ans \n",
    "        \n",
    "        def dfs(s, k):\n",
    "            if (s, k) in dict:\n",
    "                return dict[(s,k)]\n",
    "            \n",
    "            if k > 0:\n",
    "                chset = set(s)\n",
    "                if len(chset) == 1:\n",
    "                    dict[s,k] = len(s)\n",
    "                else:\n",
    "                    max_len = 0\n",
    "                    for ch0 in chset:\n",
    "                        for i, ch1 in enumerate(s):\n",
    "                            if ch1 != ch0:\n",
    "                                length = dfs(s[:i] + ch0 + s[i+1:], k-1)\n",
    "                                if length > max_len:\n",
    "                                    max_len = length\n",
    "                                if max_len == len(s):\n",
    "                                    break\n",
    "                    dict[(s,k)] = max_len\n",
    "            else:\n",
    "                dict[s, k] = findMaxRepeat(s)\n",
    "            return dict[s, k]\n",
    "                        \n",
    "        return dfs(s,k)"
   ]
  }
 ],
 "metadata": {
  "kernelspec": {
   "display_name": "Python 2",
   "language": "python",
   "name": "python2"
  },
  "language_info": {
   "codemirror_mode": {
    "name": "ipython",
    "version": 2
   },
   "file_extension": ".py",
   "mimetype": "text/x-python",
   "name": "python",
   "nbconvert_exporter": "python",
   "pygments_lexer": "ipython2",
   "version": "2.7.13"
  }
 },
 "nbformat": 4,
 "nbformat_minor": 2
}

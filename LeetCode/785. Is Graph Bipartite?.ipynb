{
 "cells": [
  {
   "cell_type": "markdown",
   "metadata": {},
   "source": [
    "# 785. Is Graph Bipartite?"
   ]
  },
  {
   "cell_type": "markdown",
   "metadata": {},
   "source": [
    "\n",
    "Given a graph, return true if and only if it is bipartite.\n",
    "\n",
    "Recall that a graph is bipartite if we can split it's set of nodes into two independent subsets A and B such that every edge in the graph has one node in A and another node in B.\n",
    "\n",
    "The graph is given in the following form: graph[i] is a list of indexes j for which the edge between nodes i and j exists.  Each node is an integer between 0 and graph.length - 1.  There are no self edges or parallel edges: graph[i] does not contain i, and it doesn't contain any element twice.\n",
    "\n",
    "Example 1:\n",
    "Input: [[1,3], [0,2], [1,3], [0,2]]\n",
    "Output: true\n",
    "Explanation: \n",
    "The graph looks like this:\n",
    "0----1\n",
    "|    |\n",
    "|    |\n",
    "3----2\n",
    "We can divide the vertices into two groups: {0, 2} and {1, 3}.\n",
    "Example 2:\n",
    "Input: [[1,2,3], [0,2], [0,1,3], [0,2]]\n",
    "Output: false\n",
    "Explanation: \n",
    "The graph looks like this:\n",
    "0----1\n",
    "| \\  |\n",
    "|  \\ |\n",
    "3----2\n",
    "We cannot find a way to divide the set of nodes into two independent ubsets.\n",
    " \n",
    "\n",
    "Note:\n",
    "\n",
    "graph will have length in range [1, 100].\n",
    "graph[i] will contain integers in range [0, graph.length - 1].\n",
    "graph[i] will not contain i or duplicate values."
   ]
  },
  {
   "cell_type": "markdown",
   "metadata": {},
   "source": [
    "## Solution"
   ]
  },
  {
   "cell_type": "code",
   "execution_count": null,
   "metadata": {
    "collapsed": true
   },
   "outputs": [],
   "source": [
    "class Solution(object):\n",
    "    def isBipartite(self, graph):\n",
    "        \"\"\"\n",
    "        :type graph: List[List[int]]\n",
    "        :rtype: bool\n",
    "        \"\"\"\n",
    "        \n",
    "        def divideGraph(i):\n",
    "            s0, s0_added = {i}, {i}\n",
    "            s1, s1_added = set(), set()\n",
    "            add_set = 1\n",
    "            while s0_added or s1_added:\n",
    "                if add_set == 0:\n",
    "                    s0_added = set()\n",
    "                    for i in s1_added:\n",
    "                        for j in graph[i]:\n",
    "                            if j in s1:\n",
    "                                return False\n",
    "                            elif j not in s0:\n",
    "                                s0.add(j)\n",
    "                                s0_added.add(j)\n",
    "                                \n",
    "                    add_set = 1\n",
    "                    s1_added = set()\n",
    "                else:\n",
    "                    s1_added = set()\n",
    "                    for i in s0_added:\n",
    "                        for j in graph[i]:\n",
    "                            if j in s0:\n",
    "                                return False\n",
    "                            elif j not in s1:\n",
    "                                s1.add(j)\n",
    "                                s1_added.add(j)\n",
    "                    add_set = 0\n",
    "                    s0_added = set()\n",
    "\n",
    "            for i in s0 | s1:\n",
    "                graph[i] = []\n",
    "            return True\n",
    "        \n",
    "        \n",
    "        for i, nodes in enumerate(graph):\n",
    "            if nodes:\n",
    "                res = divideGraph(i)\n",
    "                if not res:\n",
    "                    return False\n",
    "        return True\n",
    "            "
   ]
  }
 ],
 "metadata": {
  "kernelspec": {
   "display_name": "Python 2",
   "language": "python",
   "name": "python2"
  },
  "language_info": {
   "codemirror_mode": {
    "name": "ipython",
    "version": 2
   },
   "file_extension": ".py",
   "mimetype": "text/x-python",
   "name": "python",
   "nbconvert_exporter": "python",
   "pygments_lexer": "ipython2",
   "version": "2.7.13"
  }
 },
 "nbformat": 4,
 "nbformat_minor": 2
}

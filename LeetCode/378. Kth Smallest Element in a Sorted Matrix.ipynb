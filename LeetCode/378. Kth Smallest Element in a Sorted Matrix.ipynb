{
 "cells": [
  {
   "cell_type": "markdown",
   "metadata": {},
   "source": [
    "# 378. Kth Smallest Element in a Sorted Matrix"
   ]
  },
  {
   "cell_type": "markdown",
   "metadata": {},
   "source": [
    "Given a n x n matrix where each of the rows and columns are sorted in ascending order, find the kth smallest \n",
    "element in the matrix.\n",
    "\n",
    "Note that it is the kth smallest element in the sorted order, not the kth distinct element.\n",
    "\n",
    "Example:\n",
    "\n",
    "matrix = [\n",
    "   [ 1,  5,  9],\n",
    "   [10, 11, 13],\n",
    "   [12, 13, 15]\n",
    "],\n",
    "k = 8,\n",
    "\n",
    "return 13.\n",
    "Note: \n",
    "You may assume k is always valid, 1 ≤ k ≤ n2.\n",
    "\n"
   ]
  },
  {
   "cell_type": "markdown",
   "metadata": {},
   "source": [
    "## Solution 1. Use heapq.merge With Time Complexity of O(n<sup>2</sup>log(n))"
   ]
  },
  {
   "cell_type": "code",
   "execution_count": 1,
   "metadata": {
    "collapsed": true
   },
   "outputs": [],
   "source": [
    "class Solution(object):\n",
    "    def kthSmallest(self, matrix, k):\n",
    "        \"\"\"\n",
    "        :type matrix: List[List[int]]\n",
    "        :type k: int\n",
    "        :rtype: int\n",
    "        \"\"\"\n",
    "        \n",
    "        return list(heapq.merge(*matrix))[k-1]\n",
    "            "
   ]
  },
  {
   "cell_type": "markdown",
   "metadata": {},
   "source": [
    "## Solution 2. Use heap With Time Complexity of O(klog(n))"
   ]
  },
  {
   "cell_type": "code",
   "execution_count": null,
   "metadata": {
    "collapsed": true
   },
   "outputs": [],
   "source": [
    "class Solution(object):\n",
    "    def kthSmallest(self, matrix, k):\n",
    "        \"\"\"\n",
    "        :type matrix: List[List[int]]\n",
    "        :type k: int\n",
    "        :rtype: int\n",
    "        \"\"\"\n",
    "        n = len(matrix)\n",
    "        min_heap = []\n",
    "        \n",
    "        iters = [iter(x) for x in matrix]\n",
    "        for i in xrange(n):\n",
    "            next_item = next(iters[i], None)\n",
    "            min_heap.append((next_item, i))\n",
    "            \n",
    "        if k < n:\n",
    "            min_heap = heapq.nsmallest(k, min_heap)\n",
    "            \n",
    "        heapq.heapify(min_heap)\n",
    "        for index in range(k):\n",
    "            min_pos = min_heap[0][-1]\n",
    "            it = iters[min_pos]\n",
    "            next_item = next(it, None)\n",
    "            if next_item == None:\n",
    "                min_val, min_pos = heapq.heappop(min_heap)\n",
    "            else:\n",
    "                min_val, min_pos = heapq.heappushpop(min_heap, (next_item, min_pos))\n",
    "\n",
    "        return min_val"
   ]
  },
  {
   "cell_type": "markdown",
   "metadata": {},
   "source": [
    "## Solution 3. Binary Search Approach With Time Complexity of O(nlog(n)log(range))"
   ]
  },
  {
   "cell_type": "code",
   "execution_count": null,
   "metadata": {
    "collapsed": true
   },
   "outputs": [],
   "source": [
    "class Solution(object):\n",
    "    def kthSmallest(self, matrix, k):\n",
    "        \"\"\"\n",
    "        :type matrix: List[List[int]]\n",
    "        :type k: int\n",
    "        :rtype: int\n",
    "        \"\"\"\n",
    "        n = len(matrix)\n",
    "        \n",
    "        # Get upper and lower bounds of the matrix with time complexity of O(n)\n",
    "        hi = max([row[-1] for row in matrix])\n",
    "        lo = min([row[0] for row in matrix])\n",
    "        \n",
    "        # log(hi-lo) iterations, each iteration has a time complexity of O(nlog(n))\n",
    "        # So the time complexity is O(nlog(n)log(range)), where range = hi - lo.\n",
    "        while lo <= hi:\n",
    "            mid = (lo + hi)/2\n",
    "            cnt = 0\n",
    "            for i in xrange(n):\n",
    "                index = bisect.bisect_right(matrix[i],mid)\n",
    "                cnt += index\n",
    "            if cnt >= k:\n",
    "                hi = mid-1\n",
    "            else:\n",
    "                lo = mid+1\n",
    "\n",
    "        return hi+1"
   ]
  },
  {
   "cell_type": "markdown",
   "metadata": {},
   "source": [
    "## Solution 4. Binary Search Apparoch With Time Complexity of O(nlog(range))"
   ]
  },
  {
   "cell_type": "code",
   "execution_count": null,
   "metadata": {
    "collapsed": true
   },
   "outputs": [],
   "source": [
    "class Solution(object):\n",
    "    def kthSmallest(self, matrix, k):\n",
    "        \"\"\"\n",
    "        :type matrix: List[List[int]]\n",
    "        :type k: int\n",
    "        :rtype: int\n",
    "        \"\"\"\n",
    "        n = len(matrix)\n",
    "        lo, hi = matrix[0][0], matrix[-1][-1]\n",
    "        \n",
    "        # log(hi-lo) iterations, each iteration has a time complexity of O(nlog(n))\n",
    "        # So the time complexity is O(nlog(range)), where range = hi-lo.\n",
    "        # This approach fully utilized the property of the matrix that each column is\n",
    "        # also sorted.\n",
    "        \n",
    "        while lo <= hi:\n",
    "            mid = (lo + hi)/2\n",
    "            cnt = 0\n",
    "            j = n-1\n",
    "            for i in xrange(n):\n",
    "                while j >= 0: \n",
    "                    if matrix[i][j] > mid:\n",
    "                        j -= 1\n",
    "                    else:\n",
    "                        cnt += j+1\n",
    "                        break\n",
    "            if cnt >= k:\n",
    "                hi = mid-1\n",
    "            else:\n",
    "                lo = mid+1\n",
    "        return hi+1"
   ]
  }
 ],
 "metadata": {
  "kernelspec": {
   "display_name": "Python 2",
   "language": "python",
   "name": "python2"
  },
  "language_info": {
   "codemirror_mode": {
    "name": "ipython",
    "version": 2
   },
   "file_extension": ".py",
   "mimetype": "text/x-python",
   "name": "python",
   "nbconvert_exporter": "python",
   "pygments_lexer": "ipython2",
   "version": "2.7.13"
  }
 },
 "nbformat": 4,
 "nbformat_minor": 2
}

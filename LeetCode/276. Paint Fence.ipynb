{
 "cells": [
  {
   "cell_type": "markdown",
   "metadata": {},
   "source": [
    "# 276. Paint Fence"
   ]
  },
  {
   "cell_type": "markdown",
   "metadata": {},
   "source": [
    "There is a fence with n posts, each post can be painted with one of the k colors.\n",
    "\n",
    "You have to paint all the posts such that no more than two adjacent fence posts have the same color.\n",
    "\n",
    "Return the total number of ways you can paint the fence.\n",
    "\n",
    "Note:\n",
    "n and k are non-negative integers."
   ]
  },
  {
   "cell_type": "markdown",
   "metadata": {},
   "source": [
    "## Solution"
   ]
  },
  {
   "cell_type": "code",
   "execution_count": null,
   "metadata": {
    "collapsed": true
   },
   "outputs": [],
   "source": [
    "class Solution(object):\n",
    "    def numWays(self, n, k):\n",
    "        \"\"\"\n",
    "        :type n: int\n",
    "        :type k: int\n",
    "        :rtype: int\n",
    "        \"\"\"\n",
    "        \n",
    "        if n == 0:\n",
    "            return 0\n",
    "\n",
    "        # for n = 1\n",
    "        # lst[0]: number of ways that the last two posts have different colors\n",
    "        # lst[1]: total number of ways. lst[0] + number of ways that the last two posts have same colors\n",
    "        lst = [k, k]\n",
    "    \n",
    "        for i in xrange(2, n+1):\n",
    "            # For each way of previous lst[1], we choose (k-1) colors which are different from the i-1 th color\n",
    "            X = lst[1] * (k-1)\n",
    "            # for each way of previous lst[0], we choose the same color as i-1 th color.\n",
    "            Y = X + lst[0]\n",
    "            lst = [X, Y]\n",
    "        \n",
    "        return Y"
   ]
  }
 ],
 "metadata": {
  "kernelspec": {
   "display_name": "Python 2",
   "language": "python",
   "name": "python2"
  },
  "language_info": {
   "codemirror_mode": {
    "name": "ipython",
    "version": 2
   },
   "file_extension": ".py",
   "mimetype": "text/x-python",
   "name": "python",
   "nbconvert_exporter": "python",
   "pygments_lexer": "ipython2",
   "version": "2.7.13"
  }
 },
 "nbformat": 4,
 "nbformat_minor": 2
}

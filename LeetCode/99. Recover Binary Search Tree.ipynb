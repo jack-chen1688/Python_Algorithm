{
 "cells": [
  {
   "cell_type": "markdown",
   "metadata": {},
   "source": [
    "# 99. Recover Binary Search Tree"
   ]
  },
  {
   "cell_type": "markdown",
   "metadata": {},
   "source": [
    "Two elements of a binary search tree (BST) are swapped by mistake.\n",
    "\n",
    "Recover the tree without changing its structure.\n",
    "\n",
    "Note:\n",
    "A solution using O(n) space is pretty straight forward. Could you devise a constant space solution?"
   ]
  },
  {
   "cell_type": "markdown",
   "metadata": {},
   "source": [
    "## Solution 1. DFS Recursive Approach with Space Complexity of O(n)"
   ]
  },
  {
   "cell_type": "markdown",
   "metadata": {},
   "source": [
    "Note: For DFS Recursive Approach, the stack for the recursive calls takes O(n) space."
   ]
  },
  {
   "cell_type": "code",
   "execution_count": null,
   "metadata": {
    "collapsed": true
   },
   "outputs": [],
   "source": [
    "# Definition for a binary tree node.\n",
    "# class TreeNode(object):\n",
    "#     def __init__(self, x):\n",
    "#         self.val = x\n",
    "#         self.left = None\n",
    "#         self.right = None\n",
    "\n",
    "class Solution(object):\n",
    "    def recoverTree(self, root):\n",
    "        \"\"\"\n",
    "        :type root: TreeNode\n",
    "        :rtype: void Do not return anything, modify root in-place instead.\n",
    "        \"\"\"\n",
    "        \n",
    "        lst = []\n",
    "        err_lst = [None, None]\n",
    "        \n",
    "        def find_err(root):\n",
    "            if root:\n",
    "                find_err(root.left)\n",
    "                #if lst != [] and root.val < lst[-1][1].val:\n",
    "                \n",
    "                if lst != []:\n",
    "                    #print root.val, lst[-1][0]\n",
    "                    if root.val < lst[-1][0]:\n",
    "                        err_lst[0], err_lst[1] = root.val, root\n",
    "                        \n",
    "                lst.append([root.val, root])\n",
    "                find_err(root.right)\n",
    "        \n",
    "        def swap(root):\n",
    "            if root:\n",
    "                if err_lst[0] == None: \n",
    "                    return \n",
    "                \n",
    "                swap(root.left)\n",
    "                \n",
    "                if err_lst[0] != None and root.val > err_lst[0]:\n",
    "                    #print root.val, err_lst[0]\n",
    "                    root.val, err_lst[1].val = err_lst[0], root.val\n",
    "                    err_lst[0], err_lst[1] = [None, None]\n",
    "                    return\n",
    "                \n",
    "                swap(root.right)\n",
    "        \n",
    "        find_err(root)\n",
    "        \n",
    "        swap(root)"
   ]
  },
  {
   "cell_type": "markdown",
   "metadata": {},
   "source": [
    "We can use generator to write more elegant codes using DFS recursive approach."
   ]
  },
  {
   "cell_type": "code",
   "execution_count": null,
   "metadata": {
    "collapsed": true
   },
   "outputs": [],
   "source": [
    "# Definition for a binary tree node.\n",
    "# class TreeNode(object):\n",
    "#     def __init__(self, x):\n",
    "#         self.val = x\n",
    "#         self.left = None\n",
    "#         self.right = None\n",
    "\n",
    "class Solution(object):\n",
    "    def recoverTree(self, root1):\n",
    "        \"\"\"\n",
    "        :type root: TreeNode\n",
    "        :rtype: void Do not return anything, modify root in-place instead.\n",
    "        \"\"\"\n",
    "        \n",
    "        def dfs(root):\n",
    "            if root != None:\n",
    "                for node in dfs(root.left):\n",
    "                    yield node\n",
    "                yield root\n",
    "                for node in dfs(root.right):\n",
    "                    yield node\n",
    "            \n",
    "        pre, first, second = None, None, None\n",
    "        \n",
    "        for node in dfs(root1):                     \n",
    "            if pre and pre.val > node.val:\n",
    "                    if first == None: \n",
    "                        first, second = pre, node\n",
    "                    else:\n",
    "                        second = node\n",
    "                        break\n",
    "            pre = node\n",
    "            \n",
    "        first.val, second.val = second.val, first.val "
   ]
  },
  {
   "cell_type": "markdown",
   "metadata": {},
   "source": [
    "## Solution 2. Iterative Approach"
   ]
  },
  {
   "cell_type": "markdown",
   "metadata": {},
   "source": [
    "Some test cases:\n",
    "\n",
    "1). 1 5 4 2\n",
    "2). 1 5 3 4 2 6\n",
    "3). 1 3 2 6\n",
    "4). 2 1 \n",
    "        "
   ]
  },
  {
   "cell_type": "code",
   "execution_count": null,
   "metadata": {
    "collapsed": true
   },
   "outputs": [],
   "source": [
    "# Definition for a binary tree node.\n",
    "# class TreeNode(object):\n",
    "#     def __init__(self, x):\n",
    "#         self.val = x\n",
    "#         self.left = None\n",
    "#         self.right = None\n",
    "\n",
    "class Solution(object):\n",
    "    def recoverTree(self, root):\n",
    "        \"\"\"\n",
    "        :type root: TreeNode\n",
    "        :rtype: void Do not return anything, modify root in-place instead.\n",
    "        \"\"\"\n",
    "        \n",
    "        stack, lst = [], []\n",
    "        swap = None\n",
    "        node = root\n",
    "        while node or stack:\n",
    "            if node: \n",
    "                stack.append(node)\n",
    "                node = node.left\n",
    "            else:\n",
    "                popped = stack.pop()\n",
    "                node = popped.right\n",
    "                if lst:\n",
    "                    if popped.val < lst[-1].val: \n",
    "                        if not swap:\n",
    "                            swap = [lst[-1], popped]\n",
    "                        else:\n",
    "                            swap[1] = popped\n",
    "                            break\n",
    "                lst.append(popped)\n",
    "        \n",
    "        swap[0].val, swap[1].val = swap[1].val, swap[0].val"
   ]
  },
  {
   "cell_type": "markdown",
   "metadata": {},
   "source": [
    "In the above, we only checked the lst[-1]. We can replace lst with a variable named prev, which can save space and speed up the code a bit. Below is a slightly enhanced solution. "
   ]
  },
  {
   "cell_type": "code",
   "execution_count": null,
   "metadata": {
    "collapsed": true
   },
   "outputs": [],
   "source": [
    "# Definition for a binary tree node.\n",
    "# class TreeNode(object):\n",
    "#     def __init__(self, x):\n",
    "#         self.val = x\n",
    "#         self.left = None\n",
    "#         self.right = None\n",
    "\n",
    "class Solution(object):\n",
    "    def recoverTree(self, root):\n",
    "        \"\"\"\n",
    "        :type root: TreeNode\n",
    "        :rtype: void Do not return anything, modify root in-place instead.\n",
    "        \"\"\"\n",
    "        \n",
    "        stack, prev = [], None\n",
    "        swap = None\n",
    "        node = root\n",
    "        while node or stack:\n",
    "            if node: \n",
    "                stack.append(node)\n",
    "                node = node.left\n",
    "            else:\n",
    "                popped = stack.pop()\n",
    "                node = popped.right\n",
    "                if prev:\n",
    "                    if popped.val < prev.val: \n",
    "                        if not swap:\n",
    "                            swap = [prev, popped]\n",
    "                        else:\n",
    "                            swap[1] = popped\n",
    "                            break\n",
    "                prev = popped\n",
    "        \n",
    "        swap[0].val, swap[1].val = swap[1].val, swap[0].val"
   ]
  },
  {
   "cell_type": "markdown",
   "metadata": {},
   "source": [
    "## Solution 3. In-Order Morris Traversal (Time Complexity O(n), Space Complexity O(1))"
   ]
  },
  {
   "cell_type": "code",
   "execution_count": null,
   "metadata": {
    "collapsed": true
   },
   "outputs": [],
   "source": [
    "# Definition for a binary tree node.\n",
    "# class TreeNode(object):\n",
    "#     def __init__(self, x):\n",
    "#         self.val = x\n",
    "#         self.left = None\n",
    "#         self.right = None\n",
    "\n",
    "class Solution(object):\n",
    "    def recoverTree(self, root):\n",
    "        \"\"\"\n",
    "        :type root: TreeNode\n",
    "        :rtype: void Do not return anything, modify root in-place instead.\n",
    "        \"\"\"\n",
    "\n",
    "        def morris_in_order(root):\n",
    "            current = root\n",
    "            \n",
    "            while current:\n",
    "                if current.left == None:\n",
    "                    yield current\n",
    "                    current = current.right\n",
    "                else:\n",
    "                    pre = current.left\n",
    "                    while pre != None and pre.right != None and pre.right != current:\n",
    "                        pre = pre.right\n",
    "\n",
    "                    if pre.right == None:\n",
    "                        pre.right = current\n",
    "                        current = current.left\n",
    "                    else:\n",
    "                        pre.right = None\n",
    "                        yield current\n",
    "                        current = current.right\n",
    "        \n",
    "        \n",
    "        pre, first, second = None, None, None\n",
    "        for node in morris_in_order(root):\n",
    "            if pre:\n",
    "                if pre.val > node.val:\n",
    "                    if first == None:\n",
    "                        first = pre\n",
    "                        second = node\n",
    "                    else: \n",
    "                        second = node\n",
    "                        #NOTE: CANNOT BREAK HERE. This is because we need morris_in_order to revert\n",
    "                        #the possible changes made previously\n",
    "            pre = node\n",
    "        \n",
    "        first.val, second.val = second.val, first.val\n"
   ]
  }
 ],
 "metadata": {
  "kernelspec": {
   "display_name": "Python 2",
   "language": "python",
   "name": "python2"
  },
  "language_info": {
   "codemirror_mode": {
    "name": "ipython",
    "version": 2
   },
   "file_extension": ".py",
   "mimetype": "text/x-python",
   "name": "python",
   "nbconvert_exporter": "python",
   "pygments_lexer": "ipython2",
   "version": "2.7.13"
  }
 },
 "nbformat": 4,
 "nbformat_minor": 2
}

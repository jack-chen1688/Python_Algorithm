{
 "cells": [
  {
   "cell_type": "markdown",
   "metadata": {},
   "source": [
    "# 39. Combination Sum"
   ]
  },
  {
   "cell_type": "markdown",
   "metadata": {},
   "source": [
    "Given a set of candidate numbers (C) (without duplicates) and a target number (T), find all unique combinations in C where the candidate numbers sums to T.\n",
    "\n",
    "The same repeated number may be chosen from C unlimited number of times.\n",
    "\n",
    "Note:\n",
    "All numbers (including target) will be positive integers.\n",
    "The solution set must not contain duplicate combinations.\n",
    "For example, given candidate set [2, 3, 6, 7] and target 7, \n",
    "A solution set is: \n",
    "[\n",
    "  [7],\n",
    "  [2, 2, 3]\n",
    "]"
   ]
  },
  {
   "cell_type": "markdown",
   "metadata": {},
   "source": [
    "## Solution. Depth First Searching Using Iterative Approach"
   ]
  },
  {
   "cell_type": "code",
   "execution_count": 1,
   "metadata": {
    "collapsed": true
   },
   "outputs": [],
   "source": [
    "class Solution(object):\n",
    "    def combinationSum(self, candidates, target):\n",
    "        \"\"\"\n",
    "        :type candidates: List[int]\n",
    "        :type target: int\n",
    "        :rtype: List[List[int]]\n",
    "        \"\"\"\n",
    "        sort_candidates = sorted(candidates)\n",
    "        s = []\n",
    "        \n",
    "        pos = bisect.bisect_right(sort_candidates, target)\n",
    "        if sort_candidates[pos-1] == target:\n",
    "            s.append([sort_candidates[pos-1]])\n",
    "            pos -= 1\n",
    "\n",
    "        arr = sort_candidates[:pos]\n",
    "        \n",
    "        for i, val in enumerate(arr):\n",
    "            \n",
    "            lst = [(val, i)]\n",
    "            remains = target - val\n",
    "            popped = None\n",
    "            \n",
    "            while 1:\n",
    "                if popped == None:\n",
    "                    #last_pos = lst[-1][1]\n",
    "                    lst.append([lst[-1][0], lst[-1][1]])\n",
    "                    remains -= lst[-1][0]\n",
    "                    #print \"1\", lst, remains\n",
    "                else:\n",
    "                    pop_pos = popped[1]\n",
    "                    #print \"pop_pos\", pop_pos\n",
    "                    if pop_pos == len(arr) - 1:\n",
    "                        if len(lst) == 1:\n",
    "                            break\n",
    "                            \n",
    "                        popped = lst.pop()\n",
    "                        remains += popped[0]\n",
    "                        #print \"2\", lst, remains\n",
    "                    else:\n",
    "                        lst.append([arr[pop_pos+1], pop_pos+1])\n",
    "                        remains -= arr[pop_pos + 1]\n",
    "                        #print \"3\", lst, remains\n",
    "                        popped = None\n",
    "            \n",
    "                if remains < 0:\n",
    "                    popped = lst.pop()\n",
    "                    remains += popped[0]\n",
    "                    #print \"4\", lst, remains\n",
    "                elif remains == 0:\n",
    "                    #print \"found\", lst\n",
    "                    s.append([x[0] for x in lst])\n",
    "                    popped = lst.pop()\n",
    "                    remains += popped[0]\n",
    "                    #print \"5\", lst, remains\n",
    "\n",
    "        return s"
   ]
  },
  {
   "cell_type": "markdown",
   "metadata": {},
   "source": [
    "## Solution. Depth First Search Using Iterative Approach 2 (Easier "
   ]
  },
  {
   "cell_type": "code",
   "execution_count": 2,
   "metadata": {
    "collapsed": true
   },
   "outputs": [],
   "source": [
    "class Solution(object):\n",
    "    def combinationSum(self, candidates, target):\n",
    "        \"\"\"\n",
    "        :type candidates: List[int]\n",
    "        :type target: int\n",
    "        :rtype: List[List[int]]\n",
    "        \"\"\"\n",
    "        sort_candidates = sorted(candidates)\n",
    "        pos = bisect.bisect_right(sort_candidates, target)\n",
    "        \n",
    "        if pos == 0:\n",
    "            return []\n",
    "\n",
    "        arr = sort_candidates[:pos]\n",
    "        s = []\n",
    "        lst = []\n",
    "        i = 0\n",
    "        self.remains = target\n",
    "        \n",
    "        def queueIn(i):\n",
    "            lst.append(i)\n",
    "            self.remains -= arr[i]\n",
    "            if self.remains == 0:\n",
    "                s.append([arr[i] for i in lst])\n",
    "                return 0\n",
    "            elif self.remains >= arr[i]:\n",
    "                return 1\n",
    "            else:\n",
    "                return 0\n",
    "            \n",
    "        def queueOut():\n",
    "            i = lst.pop()\n",
    "            self.remains += arr[i]\n",
    "            return i\n",
    "        \n",
    "        while 1:\n",
    "            #print i\n",
    "            if queueIn(i) == 0:\n",
    "                pos = queueOut()\n",
    "                \n",
    "                while pos == len(arr) -1:\n",
    "                    if lst == []:\n",
    "                        return s\n",
    "                    else:\n",
    "                        pos = queueOut()\n",
    "                        #print pos, lst\n",
    "  \n",
    "                i = pos + 1\n",
    "                #print s\n",
    "                \n",
    "        return s"
   ]
  },
  {
   "cell_type": "markdown",
   "metadata": {},
   "source": [
    "## Solution. Recursive DFS (Short and Fast)"
   ]
  },
  {
   "cell_type": "code",
   "execution_count": null,
   "metadata": {
    "collapsed": true
   },
   "outputs": [],
   "source": [
    "class Solution(object):\n",
    "    remains = 0\n",
    "\n",
    "    def combinationSum(self, candidates, target):\n",
    "        \"\"\"\n",
    "        :type candidates: List[int]\n",
    "        :type target: int\n",
    "        :rtype: List[List[int]]\n",
    "        \"\"\"\n",
    "        \n",
    "        s = sorted(candidates)\n",
    "        pos = bisect.bisect_right(s, target)\n",
    "        \n",
    "        res = []\n",
    "        lst = []\n",
    "        \n",
    "        def dfs(start, target):\n",
    "            for i in range(start, pos):\n",
    "                if s[i] < target:\n",
    "                    lst.append(s[i])\n",
    "                    dfs(i, target-s[i])\n",
    "                    del(lst[-1])\n",
    "                elif s[i] == target:\n",
    "                    res.append(list(lst + [s[i]]))\n",
    "                    break\n",
    "                else:\n",
    "                    break\n",
    "        \n",
    "        dfs(0, target)\n",
    "        \n",
    "        return res"
   ]
  }
 ],
 "metadata": {
  "kernelspec": {
   "display_name": "Python 2",
   "language": "python",
   "name": "python2"
  },
  "language_info": {
   "codemirror_mode": {
    "name": "ipython",
    "version": 2
   },
   "file_extension": ".py",
   "mimetype": "text/x-python",
   "name": "python",
   "nbconvert_exporter": "python",
   "pygments_lexer": "ipython2",
   "version": "2.7.13"
  }
 },
 "nbformat": 4,
 "nbformat_minor": 2
}

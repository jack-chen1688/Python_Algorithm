{
 "cells": [
  {
   "cell_type": "markdown",
   "metadata": {},
   "source": [
    "# 36. Valid Sudoku"
   ]
  },
  {
   "cell_type": "markdown",
   "metadata": {},
   "source": [
    "\n",
    "Determine if a Sudoku is valid, according to: Sudoku Puzzles - The Rules.\n",
    "\n",
    "The Sudoku board could be partially filled, where empty cells are filled with the character '.'.\n",
    "\n",
    "\n",
    "A partially filled sudoku which is valid.\n",
    "\n",
    "Note:\n",
    "A valid Sudoku board (partially filled) is not necessarily solvable. Only the filled cells need to be validated."
   ]
  },
  {
   "cell_type": "markdown",
   "metadata": {},
   "source": [
    "## Solution 1. Use Bitmap to Check Validity"
   ]
  },
  {
   "cell_type": "code",
   "execution_count": null,
   "metadata": {
    "collapsed": true
   },
   "outputs": [],
   "source": [
    "class Solution(object):\n",
    "    \n",
    "    def isValidSudoku(self, board):\n",
    "        \"\"\"\n",
    "        :type board: List[List[str]]\n",
    "        :rtype: bool\n",
    "        \"\"\"\n",
    "        def isValidRegion(s):\n",
    "            bitmap = 0\n",
    "            for i in range(9):\n",
    "                digit = s[i]\n",
    "                if digit != '.':\n",
    "                    number = int(digit)\n",
    "                    if 0 <= number <= 9:\n",
    "                        if bitmap & (1<< number):\n",
    "                            return False\n",
    "                        else:\n",
    "                            bitmap |= 1<< number\n",
    "                    else:\n",
    "                        return False\n",
    "            return True\n",
    "            \n",
    "        for row in board:\n",
    "            #print \"row\", row    \n",
    "            if not isValidRegion(row):\n",
    "                return False\n",
    "                \n",
    "        # check columns\n",
    "        for i in range(9):\n",
    "            column = ''\n",
    "            for j in range(9):\n",
    "                column += board[j][i]\n",
    "            \n",
    "            #print \"column\", column\n",
    "            if not isValidRegion(column):\n",
    "                return False\n",
    "        \n",
    "        # check sub squares\n",
    "        for i in range(3):\n",
    "            for j in range(3):\n",
    "                square = ''\n",
    "                # square (i, j) \n",
    "                for m in range(3*i, 3*i+3):\n",
    "                    for n in range(3*j, 3*j+3):\n",
    "                        square += board[m][n]\n",
    "                \n",
    "                #print \"square\", square\n",
    "                if not isValidRegion(square):\n",
    "                    return False\n",
    "                        \n",
    "        return True"
   ]
  },
  {
   "cell_type": "markdown",
   "metadata": {},
   "source": [
    "## Solution 2. Use Dictionary to Check Validity"
   ]
  },
  {
   "cell_type": "code",
   "execution_count": null,
   "metadata": {
    "collapsed": true
   },
   "outputs": [],
   "source": [
    "class Solution(object):\n",
    "    \n",
    "    def isValidSudoku(self, board):\n",
    "        \n",
    "        def isValidRegion(s):\n",
    "            dict = {}\n",
    "            for char in s:\n",
    "                if char != '.':\n",
    "                    if char in dict.keys():\n",
    "                        print char, dict\n",
    "                        return False\n",
    "                    dict[char] = 0\n",
    "            \n",
    "            return True\n",
    "            \n",
    "        for row in board:\n",
    "            #print \"row\", row    \n",
    "            if not isValidRegion(row):\n",
    "                return False\n",
    "                \n",
    "        # check columns\n",
    "        for i in range(9):\n",
    "            column = ''\n",
    "            for j in range(9):\n",
    "                column += board[j][i]\n",
    "            \n",
    "            #print \"column\", column\n",
    "            if not isValidRegion(column):\n",
    "                return False\n",
    "        \n",
    "        # check sub squares\n",
    "        for i in range(3):\n",
    "            for j in range(3):\n",
    "                square = ''\n",
    "                # square (i, j) \n",
    "                for m in range(3*i, 3*i+3):\n",
    "                    for n in range(3*j, 3*j+3):\n",
    "                        square += board[m][n]\n",
    "                \n",
    "                #print \"square\", square\n",
    "                if not isValidRegion(square):\n",
    "                    return False\n",
    "                        \n",
    "        return True"
   ]
  }
 ],
 "metadata": {
  "kernelspec": {
   "display_name": "Python 2",
   "language": "python",
   "name": "python2"
  },
  "language_info": {
   "codemirror_mode": {
    "name": "ipython",
    "version": 2
   },
   "file_extension": ".py",
   "mimetype": "text/x-python",
   "name": "python",
   "nbconvert_exporter": "python",
   "pygments_lexer": "ipython2",
   "version": "2.7.13"
  }
 },
 "nbformat": 4,
 "nbformat_minor": 2
}

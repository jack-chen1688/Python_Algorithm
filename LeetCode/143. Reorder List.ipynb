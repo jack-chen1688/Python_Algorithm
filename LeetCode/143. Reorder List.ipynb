{
 "cells": [
  {
   "cell_type": "markdown",
   "metadata": {},
   "source": [
    "# 143. Reorder List"
   ]
  },
  {
   "cell_type": "markdown",
   "metadata": {},
   "source": [
    "Given a singly linked list L: L0→L1→…→Ln-1→Ln,\n",
    "reorder it to: L0→Ln→L1→Ln-1→L2→Ln-2→…\n",
    "\n",
    "You must do this in-place without altering the nodes' values.\n",
    "\n",
    "For example,\n",
    "Given {1,2,3,4}, reorder it to {1,4,2,3}."
   ]
  },
  {
   "cell_type": "markdown",
   "metadata": {},
   "source": [
    "## Solution 1. Time Complexity (O(n<sup>2</sup>))"
   ]
  },
  {
   "cell_type": "code",
   "execution_count": null,
   "metadata": {
    "collapsed": true
   },
   "outputs": [],
   "source": [
    "# Definition for singly-linked list.\n",
    "# class ListNode(object):\n",
    "#     def __init__(self, x):\n",
    "#         self.val = x\n",
    "#         self.next = None\n",
    "\n",
    "class Solution(object):\n",
    "    def reorderList(self, head):\n",
    "        \"\"\"\n",
    "        :type head: ListNode\n",
    "        :rtype: void Do not return anything, modify head in-place instead.\n",
    "        \"\"\"\n",
    "        \n",
    "        \"\"\"\n",
    "        1 2 3 4 -> 1 4 2 3\n",
    "        1 2 3 4 5 -> 1 5 2 3 4 -> 1 5 2 4 3\n",
    "        1 2 3 4 5 6 -> 1 6 2 3 4 5 -> 1 6 2 5 3 4 \n",
    "        \"\"\"\n",
    "        \n",
    "        if not head:\n",
    "            return head \n",
    "\n",
    "        \n",
    "        while True:\n",
    "            prev, node = head, head.next\n",
    "\n",
    "            while node and node.next:\n",
    "                prev, node = node, node.next\n",
    "\n",
    "            if head == prev:\n",
    "                break\n",
    "\n",
    "            prev.next = None\n",
    "            node.next = head.next\n",
    "            head.next = node \n",
    "\n",
    "            head = node.next\n",
    "            "
   ]
  },
  {
   "cell_type": "markdown",
   "metadata": {},
   "source": [
    "## Solution 2. Time Complexity O(n)"
   ]
  },
  {
   "cell_type": "markdown",
   "metadata": {},
   "source": [
    "For a list of nodes [1,2,3,4,5,6,7,8,9], we can do the following steps.\n",
    "1. Identify the number of nodes.  \n",
    "   This step takes O(n) time.\n",
    "2. Split the list into two halves.\n",
    "   The original list now splitted into [1,2,3,4,5] and [6,7,8,9]. \n",
    "   The first half have length equal to or one more than the length of the second half.\n",
    "   This takes n/2 steps with time complexity of O(n)\n",
    "3. Reverse the second half of the list. [9, 8, 7, 6].\n",
    "   This step also takes O(n) time.\n",
    "4. Pick nodes from [1,2,3,4,5] and [9,8,7,6] one at a time \n",
    "   This step takes O(n)\n",
    "   \n",
    "So the algorithm takes O(n) time. "
   ]
  },
  {
   "cell_type": "code",
   "execution_count": null,
   "metadata": {
    "collapsed": true
   },
   "outputs": [],
   "source": [
    "# Definition for singly-linked list.\n",
    "# class ListNode(object):\n",
    "#     def __init__(self, x):\n",
    "#         self.val = x\n",
    "#         self.next = None\n",
    "\n",
    "class Solution(object):\n",
    "    def reorderList(self, head):\n",
    "        \"\"\"\n",
    "        :type head: ListNode\n",
    "        :rtype: void Do not return anything, modify head in-place instead.\n",
    "        \"\"\"\n",
    "        \n",
    "        if not head or not head.next:\n",
    "            return  \n",
    "        \n",
    "        cnt = 0\n",
    "        node = head\n",
    "        while node:\n",
    "            cnt += 1\n",
    "            node = node.next\n",
    " \n",
    "        node = head\n",
    "        for i in xrange((cnt - 1)/2):\n",
    "            node = node.next\n",
    "        \n",
    "        head1 = node.next\n",
    "        node.next = None\n",
    "        \n",
    "        # reverse head1  \n",
    "        node, nxt = head1, head1.next\n",
    "        \n",
    "        while nxt:\n",
    "            node.next = nxt.next\n",
    "            nxt.next = head1\n",
    "            head1 = nxt\n",
    "            nxt = node.next\n",
    "            \n",
    "        dummyHead = ListNode(0)\n",
    "        \n",
    "        node = dummyHead\n",
    "        chosen = 0\n",
    "        while 1:\n",
    "            if chosen == 0 and head:\n",
    "                node.next = head\n",
    "                node = node.next\n",
    "                head = head.next\n",
    "            elif chosen == 1 and head1:\n",
    "                node.next = head1\n",
    "                node = node.next\n",
    "                head1 = head1.next\n",
    "            else:\n",
    "                break\n",
    "            chosen = 1 - chosen"
   ]
  }
 ],
 "metadata": {
  "kernelspec": {
   "display_name": "Python 2",
   "language": "python",
   "name": "python2"
  },
  "language_info": {
   "codemirror_mode": {
    "name": "ipython",
    "version": 2
   },
   "file_extension": ".py",
   "mimetype": "text/x-python",
   "name": "python",
   "nbconvert_exporter": "python",
   "pygments_lexer": "ipython2",
   "version": "2.7.13"
  }
 },
 "nbformat": 4,
 "nbformat_minor": 2
}

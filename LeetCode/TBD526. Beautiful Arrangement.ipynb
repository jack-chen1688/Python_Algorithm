{
 "cells": [
  {
   "cell_type": "markdown",
   "metadata": {},
   "source": [
    "# 526. Beautiful Arrangement"
   ]
  },
  {
   "cell_type": "markdown",
   "metadata": {},
   "source": [
    "\n",
    "Suppose you have N integers from 1 to N. We define a beautiful arrangement as an array that is constructed by these N numbers successfully if one of the following is true for the ith position (1 <= i <= N) in this array:\n",
    "\n",
    "The number at the ith position is divisible by i.\n",
    "i is divisible by the number at the ith position.\n",
    "Now given N, how many beautiful arrangements can you construct?\n",
    "\n",
    "Example 1:\n",
    "Input: 2\n",
    "Output: 2\n",
    "Explanation: \n",
    "\n",
    "The first beautiful arrangement is [1, 2]:\n",
    "\n",
    "Number at the 1st position (i=1) is 1, and 1 is divisible by i (i=1).\n",
    "\n",
    "Number at the 2nd position (i=2) is 2, and 2 is divisible by i (i=2).\n",
    "\n",
    "The second beautiful arrangement is [2, 1]:\n",
    "\n",
    "Number at the 1st position (i=1) is 2, and 2 is divisible by i (i=1).\n",
    "\n",
    "Number at the 2nd position (i=2) is 1, and i (i=2) is divisible by 1.\n",
    "Note:\n",
    "N is a positive integer and will not exceed 15."
   ]
  },
  {
   "cell_type": "markdown",
   "metadata": {},
   "source": [
    "## Solution 1. DFS Recursive Approach (Time Exceeded)"
   ]
  },
  {
   "cell_type": "code",
   "execution_count": null,
   "metadata": {
    "collapsed": true
   },
   "outputs": [],
   "source": [
    "class Solution(object):\n",
    "    def countArrangement(self, N):\n",
    "        \"\"\"\n",
    "        :type N: int\n",
    "        :rtype: int\n",
    "        \"\"\"\n",
    "        \n",
    "        myset = set(xrange(1,N+1))\n",
    "        lsts = []\n",
    "        lst = []\n",
    "        \n",
    "        def isCurStepValid(x):\n",
    "            n = len(lst)\n",
    "            if n == 0 or x % (n+1) == 0 or (n+1) % x == 0:\n",
    "                return True\n",
    "            \n",
    "            return False\n",
    "            \n",
    "        def dfs(rem):\n",
    "            rem_set = myset - set(lst)           \n",
    "            for x in rem_set:               \n",
    "                if isCurStepValid(x):\n",
    "                    if rem == 1:\n",
    "                        lsts.append(lst + [x])\n",
    "                    else:\n",
    "                        lst.append(x)\n",
    "                        dfs(rem-1)\n",
    "                        lst.pop()\n",
    "    \n",
    "        dfs(N)\n",
    "        return len(lsts)         "
   ]
  },
  {
   "cell_type": "markdown",
   "metadata": {},
   "source": [
    "## Solution 2. DFS Approach Enhancement (Passed) "
   ]
  },
  {
   "cell_type": "markdown",
   "metadata": {},
   "source": [
    "Defined a function of getValidNums(N, pos) to identify all the valid numbers at the position pos and put it in a dictionary. Doing this once for every position and later we don't need to do mod operations any more for different steps."
   ]
  },
  {
   "cell_type": "code",
   "execution_count": null,
   "metadata": {
    "collapsed": true
   },
   "outputs": [],
   "source": [
    "class Solution(object):\n",
    "    def __init__(self):\n",
    "        self.cnt = 0\n",
    "        \n",
    "    def countArrangement(self, N):\n",
    "        \"\"\"\n",
    "        :type N: int\n",
    "        :rtype: int\n",
    "        \"\"\"\n",
    "        dict0 = {}\n",
    "        dict1 = {}\n",
    "\n",
    "        def getValidNums(N, pos):\n",
    "            lst = []\n",
    "            for x in xrange(1,N+1):\n",
    "                if x % pos == 0 or pos % x == 0:\n",
    "                    lst.append(x)\n",
    "            \n",
    "            return lst\n",
    "        \n",
    "        def dfs(N, pos):\n",
    "            #rem_set = myset - set(lst)           \n",
    "            for x in dict0[pos]:               \n",
    "                if x not in dict1:\n",
    "                    if pos == N:\n",
    "                        self.cnt += 1\n",
    "                    else:\n",
    "                        dict1[x] = pos\n",
    "                        dfs(N, pos+1)\n",
    "                        del dict1[x]\n",
    "        \n",
    "        for x in xrange(N):\n",
    "            pos = x+1\n",
    "            dict0[pos] = getValidNums(N, pos)\n",
    "            \n",
    "        dfs(N, 1)\n",
    "        \n",
    "        return self.cnt "
   ]
  }
 ],
 "metadata": {
  "kernelspec": {
   "display_name": "Python 2",
   "language": "python",
   "name": "python2"
  },
  "language_info": {
   "codemirror_mode": {
    "name": "ipython",
    "version": 2
   },
   "file_extension": ".py",
   "mimetype": "text/x-python",
   "name": "python",
   "nbconvert_exporter": "python",
   "pygments_lexer": "ipython2",
   "version": "2.7.13"
  }
 },
 "nbformat": 4,
 "nbformat_minor": 2
}

{
 "cells": [
  {
   "cell_type": "markdown",
   "metadata": {},
   "source": [
    "# 609. Find Duplicate File in System"
   ]
  },
  {
   "cell_type": "markdown",
   "metadata": {},
   "source": [
    "Given a list of directory info including directory path, and all the files with contents in this directory, you need to find out all the groups of duplicate files in the file system in terms of their paths.\n",
    "\n",
    "A group of duplicate files consists of at least two files that have exactly the same content.\n",
    "\n",
    "A single directory info string in the input list has the following format:\n",
    "\n",
    "\"root/d1/d2/.../dm f1.txt(f1_content) f2.txt(f2_content) ... fn.txt(fn_content)\"\n",
    "\n",
    "It means there are n files (f1.txt, f2.txt ... fn.txt with content f1_content, f2_content ... fn_content, respectively) in directory root/d1/d2/.../dm. Note that n >= 1 and m >= 0. If m = 0, it means the directory is just the root directory.\n",
    "\n",
    "The output is a list of group of duplicate file paths. For each group, it contains all the file paths of the files that have the same content. A file path is a string that has the following format:\n",
    "\n",
    "\"directory_path/file_name.txt\"\n",
    "\n",
    "Example 1:\n",
    "Input:\n",
    "[\"root/a 1.txt(abcd) 2.txt(efgh)\", \"root/c 3.txt(abcd)\", \"root/c/d 4.txt(efgh)\", \"root 4.txt(efgh)\"]\n",
    "Output:  \n",
    "[[\"root/a/2.txt\",\"root/c/d/4.txt\",\"root/4.txt\"],[\"root/a/1.txt\",\"root/c/3.txt\"]]\n",
    "Note:\n",
    "No order is required for the final output.\n",
    "You may assume the directory name, file name and file content only has letters and digits, and the length of file content is in the range of [1,50].\n",
    "The number of files given is in the range of [1,20000].\n",
    "You may assume no files or directories share the same name in the same directory.\n",
    "You may assume each given directory info represents a unique directory. Directory path and file info are separated by a single blank space.\n",
    "Follow-up beyond contest:\n",
    "Imagine you are given a real file system, how will you search files? DFS or BFS?\n",
    "If the file content is very large (GB level), how will you modify your solution?\n",
    "If you can only read the file by 1kb each time, how will you modify your solution?\n",
    "What is the time complexity of your modified solution? What is the most time-consuming part and memory consuming part of it? How to optimize?\n",
    "How to make sure the duplicated files you find are not false positive?"
   ]
  },
  {
   "cell_type": "markdown",
   "metadata": {},
   "source": [
    "## Solution"
   ]
  },
  {
   "cell_type": "code",
   "execution_count": null,
   "metadata": {
    "collapsed": true
   },
   "outputs": [],
   "source": [
    "class Solution(object):\n",
    "    def findDuplicate(self, paths):\n",
    "        \"\"\"\n",
    "        :type paths: List[str]\n",
    "        :rtype: List[List[str]]\n",
    "        \"\"\"\n",
    "        \n",
    "        dict = {}\n",
    "        \n",
    "        for path in paths:\n",
    "            tokens = path.split(' ')\n",
    "            \n",
    "            dpath = tokens[0]\n",
    "            \n",
    "            for fullname in tokens[1:]:\n",
    "                pos = fullname.find('(')\n",
    "                fname = fullname[:pos]\n",
    "                content = fullname[pos:]\n",
    "                dict.setdefault(content, []).append(dpath+\"/\"+fname)\n",
    "        \n",
    "        return [x for x in dict.values() if len(x) > 1]\n",
    "                "
   ]
  }
 ],
 "metadata": {
  "kernelspec": {
   "display_name": "Python 2",
   "language": "python",
   "name": "python2"
  },
  "language_info": {
   "codemirror_mode": {
    "name": "ipython",
    "version": 2
   },
   "file_extension": ".py",
   "mimetype": "text/x-python",
   "name": "python",
   "nbconvert_exporter": "python",
   "pygments_lexer": "ipython2",
   "version": "2.7.13"
  }
 },
 "nbformat": 4,
 "nbformat_minor": 2
}

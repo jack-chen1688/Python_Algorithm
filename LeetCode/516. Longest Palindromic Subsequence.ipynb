{
 "cells": [
  {
   "cell_type": "markdown",
   "metadata": {},
   "source": [
    "# 516. Longest Palindromic Subsequence"
   ]
  },
  {
   "cell_type": "markdown",
   "metadata": {},
   "source": [
    "Given a string s, find the longest palindromic subsequence's length in s. You may assume that the maximum length of s is 1000.\n",
    "\n",
    "Example 1:\n",
    "Input:\n",
    "\n",
    "\"bbbab\"\n",
    "Output:\n",
    "4\n",
    "One possible longest palindromic subsequence is \"bbbb\".\n",
    "Example 2:\n",
    "Input:\n",
    "\n",
    "\"cbbd\"\n",
    "Output:\n",
    "2\n",
    "One possible longest palindromic subsequence is \"bb\"."
   ]
  },
  {
   "cell_type": "markdown",
   "metadata": {},
   "source": [
    "## Solution"
   ]
  },
  {
   "cell_type": "code",
   "execution_count": null,
   "metadata": {
    "collapsed": true
   },
   "outputs": [],
   "source": [
    "class Solution(object):\n",
    "    def longestPalindromeSubseq(self, s):\n",
    "        \"\"\"\n",
    "        :type s: str\n",
    "        :rtype: int\n",
    "        \"\"\"\n",
    "        \n",
    "        n = len(s)\n",
    "        lst = [1]\n",
    "\n",
    "        for i in xrange(1, n):\n",
    "            # i is ending str index\n",
    "            lst1 = [1] * (i+1)\n",
    "            \n",
    "            if s[i] == s[i-1]:\n",
    "                lst1[i-1] = 2 \n",
    "                \n",
    "            for j in xrange(i-2, -1, -1):\n",
    "                if s[i] == s[j]:\n",
    "                    lst1[j] = lst[j+1] + 2\n",
    "                else:\n",
    "                    lst1[j] = max(lst[j], lst1[j+1])\n",
    "            \n",
    "            lst = lst1\n",
    "            \n",
    "        return lst[0] "
   ]
  }
 ],
 "metadata": {
  "kernelspec": {
   "display_name": "Python 2",
   "language": "python",
   "name": "python2"
  },
  "language_info": {
   "codemirror_mode": {
    "name": "ipython",
    "version": 2
   },
   "file_extension": ".py",
   "mimetype": "text/x-python",
   "name": "python",
   "nbconvert_exporter": "python",
   "pygments_lexer": "ipython2",
   "version": "2.7.13"
  }
 },
 "nbformat": 4,
 "nbformat_minor": 2
}

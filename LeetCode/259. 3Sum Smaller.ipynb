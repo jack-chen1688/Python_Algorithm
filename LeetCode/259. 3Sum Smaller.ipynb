{
 "cells": [
  {
   "cell_type": "markdown",
   "metadata": {},
   "source": [
    "# 259. 3Sum Smaller"
   ]
  },
  {
   "cell_type": "markdown",
   "metadata": {},
   "source": [
    "Given an array of n integers nums and a target, find the number of index triplets i, j, k with 0 <= i < j < k < n that satisfy the condition nums[i] + nums[j] + nums[k] < target.\n",
    "\n",
    "Example:\n",
    "\n",
    "Input: nums = [-2,0,1,3], and target = 2\n",
    "Output: 2 \n",
    "Explanation: Because there are two triplets which sums are less than 2:\n",
    "             [-2,0,1]\n",
    "             [-2,0,3]\n",
    "Follow up: Could you solve it in O(n2) runtime?"
   ]
  },
  {
   "cell_type": "markdown",
   "metadata": {},
   "source": [
    "## Solution. Two pointer scan method"
   ]
  },
  {
   "cell_type": "markdown",
   "metadata": {},
   "source": [
    "Time complexity:  O(n<sup>2</sup>) \n",
    "Space complexity: O(1)"
   ]
  },
  {
   "cell_type": "code",
   "execution_count": null,
   "metadata": {},
   "outputs": [],
   "source": [
    "class Solution:\n",
    "    def threeSumSmaller(self, nums, target):\n",
    "        \"\"\"\n",
    "        :type nums: List[int]\n",
    "        :type target: int\n",
    "        :rtype: int\n",
    "        \"\"\"\n",
    "        cnt = len(nums)\n",
    "        total = 0\n",
    "        \n",
    "        nums.sort()\n",
    "        \n",
    "        for i in range(cnt-2):\n",
    "            num0 = nums[i]\n",
    "            target1 = target - num0\n",
    "            \n",
    "            left, right = i+1, cnt-1\n",
    "            while left < right:\n",
    "                if nums[left] + nums[right] >= target1:\n",
    "                    right -= 1\n",
    "                else:\n",
    "                    total += right - left\n",
    "                    left += 1\n",
    "            \n",
    "        return total"
   ]
  }
 ],
 "metadata": {
  "kernelspec": {
   "display_name": "Python 3",
   "language": "python",
   "name": "python3"
  },
  "language_info": {
   "codemirror_mode": {
    "name": "ipython",
    "version": 3
   },
   "file_extension": ".py",
   "mimetype": "text/x-python",
   "name": "python",
   "nbconvert_exporter": "python",
   "pygments_lexer": "ipython3",
   "version": "3.7.1"
  }
 },
 "nbformat": 4,
 "nbformat_minor": 2
}

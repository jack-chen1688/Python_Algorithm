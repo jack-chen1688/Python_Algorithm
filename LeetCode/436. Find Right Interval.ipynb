{
 "cells": [
  {
   "cell_type": "markdown",
   "metadata": {},
   "source": [
    "# 436. Find Right Interval"
   ]
  },
  {
   "cell_type": "markdown",
   "metadata": {},
   "source": [
    "Given a set of intervals, for each of the interval i, check if there exists an interval j whose start point is bigger than or equal to the end point of the interval i, which can be called that j is on the \"right\" of i.\n",
    "\n",
    "For any interval i, you need to store the minimum interval j's index, which means that the interval j has the minimum start point to build the \"right\" relationship for interval i. If the interval j doesn't exist, store -1 for the interval i. Finally, you need output the stored value of each interval as an array.\n",
    "\n",
    "Note:\n",
    "You may assume the interval's end point is always bigger than its start point.\n",
    "You may assume none of these intervals have the same start point.\n",
    "Example 1:\n",
    "Input: [ [1,2] ]\n",
    "\n",
    "Output: [-1]\n",
    "\n",
    "Explanation: There is only one interval in the collection, so it outputs -1.\n",
    "Example 2:\n",
    "Input: [ [3,4], [2,3], [1,2] ]\n",
    "\n",
    "Output: [-1, 0, 1]\n",
    "\n",
    "Explanation: There is no satisfied \"right\" interval for [3,4].\n",
    "For [2,3], the interval [3,4] has minimum-\"right\" start point;\n",
    "For [1,2], the interval [2,3] has minimum-\"right\" start point.\n",
    "Example 3:\n",
    "Input: [ [1,4], [2,3], [3,4] ]\n",
    "\n",
    "Output: [-1, 2, -1]\n",
    "\n",
    "Explanation: There is no satisfied \"right\" interval for [1,4] and [3,4].\n",
    "For [2,3], the interval [3,4] has minimum-\"right\" start point."
   ]
  },
  {
   "cell_type": "markdown",
   "metadata": {},
   "source": [
    "## Solution"
   ]
  },
  {
   "cell_type": "code",
   "execution_count": null,
   "metadata": {
    "collapsed": true
   },
   "outputs": [],
   "source": [
    "# Definition for an interval.\n",
    "# class Interval(object):\n",
    "#     def __init__(self, s=0, e=0):\n",
    "#         self.start = s\n",
    "#         self.end = e\n",
    "\n",
    "class Solution(object):\n",
    "    def findRightInterval(self, intervals):\n",
    "        \"\"\"\n",
    "        :type intervals: List[Interval]\n",
    "        :rtype: List[int]\n",
    "        \"\"\"\n",
    "        n = len(intervals)\n",
    "        lst = [(interval.start, i) for i, interval in enumerate(intervals)]\n",
    "        lst.sort()\n",
    "        \n",
    "        ans = []\n",
    "        for interval in intervals:\n",
    "            pos = bisect.bisect_left(lst, (interval.end, 0))\n",
    "            if pos == n:\n",
    "                ans.append(-1)\n",
    "            else:\n",
    "                ans.append(lst[pos][1])\n",
    "        \n",
    "        return ans"
   ]
  }
 ],
 "metadata": {
  "kernelspec": {
   "display_name": "Python 2",
   "language": "python",
   "name": "python2"
  },
  "language_info": {
   "codemirror_mode": {
    "name": "ipython",
    "version": 2
   },
   "file_extension": ".py",
   "mimetype": "text/x-python",
   "name": "python",
   "nbconvert_exporter": "python",
   "pygments_lexer": "ipython2",
   "version": "2.7.13"
  }
 },
 "nbformat": 4,
 "nbformat_minor": 2
}

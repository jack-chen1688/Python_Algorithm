{
 "cells": [
  {
   "cell_type": "markdown",
   "metadata": {},
   "source": [
    "# 125. Valid Palindrome"
   ]
  },
  {
   "cell_type": "markdown",
   "metadata": {},
   "source": [
    "Given a string, determine if it is a palindrome, considering only alphanumeric characters and ignoring cases.\n",
    "\n",
    "For example,\n",
    "\"A man, a plan, a canal: Panama\" is a palindrome.\n",
    "\"race a car\" is not a palindrome.\n",
    "\n",
    "Note:\n",
    "Have you consider that the string might be empty? This is a good question to ask during an interview.\n",
    "\n",
    "For the purpose of this problem, we define empty string as valid palindrome."
   ]
  },
  {
   "cell_type": "markdown",
   "metadata": {},
   "source": [
    "## Solution 1. Time Exceeded (List Adding and Assigning Takes Time?)"
   ]
  },
  {
   "cell_type": "code",
   "execution_count": null,
   "metadata": {
    "collapsed": true
   },
   "outputs": [],
   "source": [
    "class Solution(object):\n",
    "    def isPalindrome(self, s):\n",
    "        \"\"\"\n",
    "        :type s: str\n",
    "        :rtype: bool\n",
    "        \"\"\"\n",
    "        if s == '':\n",
    "            return True\n",
    "        \n",
    "        s1 = \"\"\n",
    "        for ch in s:\n",
    "            if ch.isalnum():\n",
    "                s1+=ch.lower()\n",
    "        \n",
    "        return all(s1[i] == s1[~i] for i in range(len(s1)/2))"
   ]
  },
  {
   "cell_type": "markdown",
   "metadata": {},
   "source": [
    "## Solution 2. "
   ]
  },
  {
   "cell_type": "code",
   "execution_count": null,
   "metadata": {
    "collapsed": true
   },
   "outputs": [],
   "source": [
    "class Solution(object):\n",
    "    def isPalindrome(self, s):\n",
    "        \"\"\"\n",
    "        :type s: str\n",
    "        :rtype: bool\n",
    "        \"\"\"\n",
    "        if s == '':\n",
    "            return True\n",
    "        \n",
    "        lo = 0\n",
    "        hi = len(s) - 1\n",
    "        \n",
    "        while lo < hi:\n",
    "            while not s[lo].isalnum() and lo < hi:\n",
    "                lo += 1\n",
    "            while not s[hi].isalnum() and lo < hi:\n",
    "                hi -= 1\n",
    "            \n",
    "            if lo >= hi: \n",
    "                break\n",
    "            else:\n",
    "                if s[lo].lower() != s[hi].lower():\n",
    "                    return False\n",
    "                else:\n",
    "                    lo += 1\n",
    "                    hi -= 1\n",
    "                    \n",
    "        return True"
   ]
  }
 ],
 "metadata": {
  "kernelspec": {
   "display_name": "Python 2",
   "language": "python",
   "name": "python2"
  },
  "language_info": {
   "codemirror_mode": {
    "name": "ipython",
    "version": 2
   },
   "file_extension": ".py",
   "mimetype": "text/x-python",
   "name": "python",
   "nbconvert_exporter": "python",
   "pygments_lexer": "ipython2",
   "version": "2.7.13"
  }
 },
 "nbformat": 4,
 "nbformat_minor": 2
}

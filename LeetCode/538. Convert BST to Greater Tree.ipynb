{
 "cells": [
  {
   "cell_type": "markdown",
   "metadata": {},
   "source": [
    "# 538. Convert BST to Greater Tree"
   ]
  },
  {
   "cell_type": "markdown",
   "metadata": {},
   "source": [
    "\n",
    "Given a Binary Search Tree (BST), convert it to a Greater Tree such that every key of the original BST is changed to the original key plus sum of all keys greater than the original key in BST.\n",
    "\n",
    "Example:\n",
    "\n",
    "Input: The root of a Binary Search Tree like this:\n",
    "              5\n",
    "            /   \\\n",
    "           2     13\n",
    "\n",
    "Output: The root of a Greater Tree like this:\n",
    "             18\n",
    "            /   \\\n",
    "          20     13"
   ]
  },
  {
   "cell_type": "markdown",
   "metadata": {},
   "source": [
    "## Solution 1. Left-To-RIght In-Order Traversal"
   ]
  },
  {
   "cell_type": "code",
   "execution_count": null,
   "metadata": {
    "collapsed": true
   },
   "outputs": [],
   "source": [
    "# Definition for a binary tree node.\n",
    "# class TreeNode(object):\n",
    "#     def __init__(self, x):\n",
    "#         self.val = x\n",
    "#         self.left = None\n",
    "#         self.right = None\n",
    "\n",
    "class Solution(object):\n",
    "    def convertBST(self, root):\n",
    "        \"\"\"\n",
    "        :type root: TreeNode\n",
    "        :rtype: TreeNode\n",
    "        \"\"\"\n",
    "        lst = []\n",
    "        def traverse(root):\n",
    "            \n",
    "            if root == None:\n",
    "                return\n",
    "            \n",
    "            traverse(root.left)\n",
    "            lst.append([root.val, root])\n",
    "            traverse(root.right)\n",
    "            \n",
    "            return\n",
    "        \n",
    "        traverse(root)\n",
    "        sum = 0\n",
    "        \n",
    "        for value, node in lst[::-1]:\n",
    "            sum += value\n",
    "            node.val = sum\n",
    "            \n",
    "        return root"
   ]
  },
  {
   "cell_type": "markdown",
   "metadata": {},
   "source": [
    "## Solution 2. Right-To-Left In-oder Traversal (Faster and Simpler)"
   ]
  },
  {
   "cell_type": "code",
   "execution_count": null,
   "metadata": {
    "collapsed": true
   },
   "outputs": [],
   "source": [
    "# Definition for a binary tree node.\n",
    "# class TreeNode(object):\n",
    "#     def __init__(self, x):\n",
    "#         self.val = x\n",
    "#         self.left = None\n",
    "#         self.right = None\n",
    "\n",
    "class Solution(object):\n",
    "    \n",
    "    def __init__(self):\n",
    "        self.__sum__ = 0\n",
    "        \n",
    "    def convertBST(self, root):\n",
    "        \"\"\"\n",
    "        :type root: TreeNode\n",
    "        :rtype: TreeNode\n",
    "        \"\"\"\n",
    "        if root == None:\n",
    "            return None\n",
    "        \n",
    "        if root.right:\n",
    "            self.convertBST(root.right)\n",
    "\n",
    "        root.val += self.__sum__\n",
    "        self.__sum__ = root.val\n",
    "\n",
    "        if root.left:\n",
    "            self.convertBST(root.left)\n",
    "            \n",
    "        return root\n",
    "            "
   ]
  }
 ],
 "metadata": {
  "kernelspec": {
   "display_name": "Python 2",
   "language": "python",
   "name": "python2"
  },
  "language_info": {
   "codemirror_mode": {
    "name": "ipython",
    "version": 2
   },
   "file_extension": ".py",
   "mimetype": "text/x-python",
   "name": "python",
   "nbconvert_exporter": "python",
   "pygments_lexer": "ipython2",
   "version": "2.7.13"
  }
 },
 "nbformat": 4,
 "nbformat_minor": 2
}

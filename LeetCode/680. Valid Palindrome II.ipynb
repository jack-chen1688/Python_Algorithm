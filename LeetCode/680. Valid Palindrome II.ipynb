{
 "cells": [
  {
   "cell_type": "markdown",
   "metadata": {},
   "source": [
    "# 680. Valid Palindrome II"
   ]
  },
  {
   "cell_type": "markdown",
   "metadata": {},
   "source": [
    "Given a non-empty string s, you may delete at most one character. Judge whether you can make it a palindrome.\n",
    "\n",
    "Example 1:\n",
    "Input: \"aba\"\n",
    "Output: True\n",
    "Example 2:\n",
    "Input: \"abca\"\n",
    "Output: True\n",
    "Explanation: You could delete the character 'c'.\n",
    "Note:\n",
    "The string will only contain lowercase characters a-z. The maximum length of the string is 50000."
   ]
  },
  {
   "cell_type": "markdown",
   "metadata": {},
   "source": [
    "## Solution"
   ]
  },
  {
   "cell_type": "code",
   "execution_count": null,
   "metadata": {
    "collapsed": true
   },
   "outputs": [],
   "source": [
    "class Solution(object):\n",
    "    def validPalindrome(self, s):\n",
    "        \"\"\"\n",
    "        :type s: str\n",
    "        :rtype: bool\n",
    "        \"\"\"\n",
    "        n = len(s)\n",
    "        for i in xrange(n/2):\n",
    "            if s[i] != s[n-1-i]:\n",
    "                s0 = s[i+1:n-i]\n",
    "                s1 = s[i:n-1-i]\n",
    "                length = len(s0)\n",
    "                return all(s0[i] == s0[~i] for i in xrange(length/2)) or \\\n",
    "                       all(s1[i] == s1[~i] for i in xrange(length/2))\n",
    "        return True\n",
    "                          "
   ]
  }
 ],
 "metadata": {
  "kernelspec": {
   "display_name": "Python 2",
   "language": "python",
   "name": "python2"
  },
  "language_info": {
   "codemirror_mode": {
    "name": "ipython",
    "version": 2
   },
   "file_extension": ".py",
   "mimetype": "text/x-python",
   "name": "python",
   "nbconvert_exporter": "python",
   "pygments_lexer": "ipython2",
   "version": "2.7.13"
  }
 },
 "nbformat": 4,
 "nbformat_minor": 2
}

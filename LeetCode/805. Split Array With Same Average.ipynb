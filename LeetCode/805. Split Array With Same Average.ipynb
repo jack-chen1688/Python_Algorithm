{
 "cells": [
  {
   "cell_type": "markdown",
   "metadata": {},
   "source": [
    "# 805. Split Array With Same Average"
   ]
  },
  {
   "cell_type": "markdown",
   "metadata": {},
   "source": [
    "In a given integer array A, we must move every element of A to either list B or list C. (B and C initially start empty.)\n",
    "\n",
    "Return true if and only if after such a move, it is possible that the average value of B is equal to the average value of C, and B and C are both non-empty.\n",
    "\n",
    "Example :\n",
    "Input: \n",
    "[1,2,3,4,5,6,7,8]\n",
    "Output: true\n",
    "Explanation: We can split the array into [1,4,5,8] and [2,3,6,7], and both of them have the average of 4.5.\n",
    "Note:\n",
    "\n",
    "The length of A will be in the range [1, 30].\n",
    "A[i] will be in the range of [0, 10000]."
   ]
  },
  {
   "cell_type": "markdown",
   "metadata": {},
   "source": [
    "## Solution 1. Time Exceeded"
   ]
  },
  {
   "cell_type": "code",
   "execution_count": null,
   "metadata": {
    "collapsed": true
   },
   "outputs": [],
   "source": [
    "class Solution(object):\n",
    "    def splitArraySameAverage(self, A):\n",
    "        \"\"\"\n",
    "        :type A: List[int]\n",
    "        :rtype: bool\n",
    "        \"\"\"\n",
    "      \n",
    "        n = len(A)\n",
    "        tot = sum(A)\n",
    "        aver = float(tot)/n\n",
    "\n",
    "        lst = [set() for i in xrange(tot + 1)]\n",
    "        lst[0].add(0)\n",
    "        \n",
    "        for i in xrange(n):\n",
    "            if i == 0:\n",
    "                lst[A[i]].add(1)\n",
    "            else:\n",
    "                lst1 = [x.copy() for x in lst]\n",
    "                for x in range(A[i], tot+1):   \n",
    "                    for y in lst[x - A[i]]:\n",
    "                        lst1[x].add(y+1)\n",
    "                lst = lst1    \n",
    "        \n",
    "        for i in xrange(1, n/2+1):\n",
    "            tot1 = tot * i/n\n",
    "            if abs(tot1 - aver * i) < 0.001:\n",
    "                if i in lst[tot1]:\n",
    "                    return True\n",
    "        return False"
   ]
  },
  {
   "cell_type": "markdown",
   "metadata": {},
   "source": [
    "## Solution 2. Enhancement from Solution 1, time limit passed but memory limit exceeded"
   ]
  },
  {
   "cell_type": "code",
   "execution_count": null,
   "metadata": {
    "collapsed": true
   },
   "outputs": [],
   "source": [
    "class Solution(object):\n",
    "    def splitArraySameAverage(self, A):\n",
    "        \"\"\"\n",
    "        :type A: List[int]\n",
    "        :rtype: bool\n",
    "        \"\"\"\n",
    "      \n",
    "        n = len(A)\n",
    "        tot = sum(A)\n",
    "        aver = float(tot)/n\n",
    "        \n",
    "        combinations = []\n",
    "        \n",
    "        for i in xrange(1, n/2+1):\n",
    "            tot1 = tot * i/n\n",
    "            if abs(tot1 - aver * i) < 0.001:\n",
    "                combinations.append((tot1, i))\n",
    "\n",
    "        if combinations:\n",
    "            max_val = combinations[-1][0]\n",
    "            lst = [set() for i in xrange(max_val `+ 1)]\n",
    "            lst[0].add(0)\n",
    "\n",
    "            if A[0] < max_val:\n",
    "                lst[A[0]].add(1)\n",
    "\n",
    "            for i in xrange(1,n):\n",
    "                lst1 = [x.copy() for x in lst]\n",
    "                for x in range(A[i], max_val+1):   \n",
    "                    for y in lst[x - A[i]]:\n",
    "                        lst1[x].add(y+1)\n",
    "                lst = lst1\n",
    "\n",
    "            for x, y in combinations:\n",
    "                if y in lst[x]:\n",
    "                    return True\n",
    "\n",
    "            return False\n",
    "        else:\n",
    "            return False"
   ]
  },
  {
   "cell_type": "markdown",
   "metadata": {},
   "source": [
    "## Solution 3. Enhancement from Solution 2. Both time and memory limit passed "
   ]
  },
  {
   "cell_type": "code",
   "execution_count": null,
   "metadata": {
    "collapsed": true
   },
   "outputs": [],
   "source": [
    "class Solution(object):\n",
    "    def splitArraySameAverage(self, A):\n",
    "        \"\"\"\n",
    "        :type A: List[int]\n",
    "        :rtype: bool\n",
    "        \"\"\"\n",
    "      \n",
    "        n = len(A)\n",
    "        tot = sum(A)\n",
    "        aver = float(tot)/n\n",
    "        \n",
    "        combinations = []\n",
    "        \n",
    "        for i in xrange(1, n/2+1):\n",
    "            tot1 = tot * i/n\n",
    "            if abs(tot1 - aver * i) < 0.001:\n",
    "                combinations.append((tot1, i))\n",
    "\n",
    "        if combinations:\n",
    "            max_val = combinations[-1][0]\n",
    "            max_cnt = combinations[-1][1]\n",
    "            \n",
    "            lst = [set() for i in xrange(max_val + 1)]\n",
    "            lst[0].add(0)\n",
    "\n",
    "            if A[0] < max_val:\n",
    "                lst[A[0]].add(1)\n",
    "\n",
    "            for i in xrange(1,n):\n",
    "                for x in range(max_val, A[i]-1, -1):\n",
    "                    lst[x] |= set([y+1 for y in lst[x-A[i]] if y < max_cnt])\n",
    "                    \n",
    "            for x, y in combinations:\n",
    "                if y in lst[x]:\n",
    "                    return True\n",
    "\n",
    "            return False\n",
    "        else:\n",
    "            return False"
   ]
  }
 ],
 "metadata": {
  "kernelspec": {
   "display_name": "Python 2",
   "language": "python",
   "name": "python2"
  },
  "language_info": {
   "codemirror_mode": {
    "name": "ipython",
    "version": 2
   },
   "file_extension": ".py",
   "mimetype": "text/x-python",
   "name": "python",
   "nbconvert_exporter": "python",
   "pygments_lexer": "ipython2",
   "version": "2.7.13"
  }
 },
 "nbformat": 4,
 "nbformat_minor": 2
}

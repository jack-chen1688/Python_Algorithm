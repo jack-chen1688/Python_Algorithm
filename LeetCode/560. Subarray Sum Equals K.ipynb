{
 "cells": [
  {
   "cell_type": "markdown",
   "metadata": {},
   "source": [
    "# 560. Subarray Sum Equals K"
   ]
  },
  {
   "cell_type": "markdown",
   "metadata": {},
   "source": [
    "Given an array of integers and an integer k, you need to find the total number of continuous subarrays whose sum equals to k.\n",
    "\n",
    "Example 1:\n",
    "Input:nums = [1,1,1], k = 2\n",
    "Output: 2\n",
    "Note:\n",
    "The length of the array is in range [1, 20,000].\n",
    "The range of numbers in the array is [-1000, 1000] and the range of the integer k is [-1e7, 1e7]."
   ]
  },
  {
   "cell_type": "markdown",
   "metadata": {},
   "source": [
    "## Solution. Time Complexity of (nlog(n))"
   ]
  },
  {
   "cell_type": "code",
   "execution_count": null,
   "metadata": {
    "collapsed": true
   },
   "outputs": [],
   "source": [
    "class Solution(object):\n",
    "    def subarraySum(self, nums, k):\n",
    "        \"\"\"\n",
    "        :type nums: List[int]\n",
    "        :type k: int\n",
    "        :rtype: int\n",
    "        \"\"\"\n",
    "        dict = {}\n",
    "        tot = [0]\n",
    "        for i,x in enumerate(nums):\n",
    "            tot.append(tot[i] + nums[i])\n",
    "            dict.setdefault(tot[i+1], []).append(i+1)\n",
    "            \n",
    "        ans = 0\n",
    "        for i in xrange(len(nums)):\n",
    "            \n",
    "            \"\"\"\n",
    "            lst = [1,3,5]\n",
    "            i = 0, cnt = 3\n",
    "            i = 1, cnt = 2\n",
    "            i = 3, cnt = 1\n",
    "            \n",
    "            \"\"\"\n",
    "            if k + tot[i] in dict:\n",
    "                lst = dict[k + tot[i]]\n",
    "                ans += len(lst) - bisect.bisect_right(lst, i)\n",
    "         \n",
    "        return ans "
   ]
  },
  {
   "cell_type": "markdown",
   "metadata": {},
   "source": [
    "## Solution 2."
   ]
  },
  {
   "cell_type": "code",
   "execution_count": null,
   "metadata": {
    "collapsed": true
   },
   "outputs": [],
   "source": [
    "class Solution(object):\n",
    "    def subarraySum(self, nums, k):\n",
    "        \"\"\"\n",
    "        :type nums: List[int]\n",
    "        :type k: int\n",
    "        :rtype: int\n",
    "        \"\"\"\n",
    "        n = len(nums)\n",
    "        dict = {0:[0]}\n",
    "        tot = [0]\n",
    "        for i,x in enumerate(nums[:-1]):\n",
    "            tot.append(tot[i] + nums[i])\n",
    "            dict.setdefault(tot[i+1], []).append(i+1)\n",
    "            \n",
    "        tot.append(tot[n-1] + nums[n-1])        \n",
    "        ans = 0\n",
    "        \n",
    "        for i in xrange(len(nums), 0, -1):\n",
    "        \n",
    "            if tot[i] - k in dict:\n",
    "                # a[0] + ... + a[j] = tot[i] - k\n",
    "                # a[0] + ....+ a[i-1] = tot[i]\n",
    "                # a[j+1] + ... + a[i-1] = k   \n",
    "                # all subseqs that end at i-1 and have sum k\n",
    "                lst = dict[tot[i] - k]\n",
    "                while lst and lst[-1] >= i:\n",
    "                    #lst[-1] >= i means a tot that ends at i'-1, where i' >= i \n",
    "                    del lst[-1]\n",
    "                        \n",
    "                ans += len(lst)\n",
    "                    \n",
    "        return ans "
   ]
  }
 ],
 "metadata": {
  "kernelspec": {
   "display_name": "Python 2",
   "language": "python",
   "name": "python2"
  },
  "language_info": {
   "codemirror_mode": {
    "name": "ipython",
    "version": 2
   },
   "file_extension": ".py",
   "mimetype": "text/x-python",
   "name": "python",
   "nbconvert_exporter": "python",
   "pygments_lexer": "ipython2",
   "version": "2.7.13"
  }
 },
 "nbformat": 4,
 "nbformat_minor": 2
}

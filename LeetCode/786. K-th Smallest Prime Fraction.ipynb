{
 "cells": [
  {
   "cell_type": "markdown",
   "metadata": {},
   "source": [
    "# 786. K-th Smallest Prime Fraction"
   ]
  },
  {
   "cell_type": "markdown",
   "metadata": {},
   "source": [
    "A sorted list A contains 1, plus some number of primes.  Then, for every p < q in the list, we consider the fraction p/q.\n",
    "\n",
    "What is the K-th smallest fraction considered?  Return your answer as an array of ints, where answer[0] = p and answer[1] = q.\n",
    "\n",
    "Examples:\n",
    "Input: A = [1, 2, 3, 5], K = 3\n",
    "Output: [2, 5]\n",
    "Explanation:\n",
    "The fractions to be considered in sorted order are:\n",
    "1/5, 1/3, 2/5, 1/2, 3/5, 2/3.\n",
    "The third fraction is 2/5.\n",
    "\n",
    "Input: A = [1, 7], K = 1\n",
    "Output: [1, 7]\n",
    "Note:\n",
    "\n",
    "A will have length between 2 and 2000.\n",
    "Each A[i] will be between 1 and 30000.\n",
    "K will be between 1 and A.length * (A.length + 1) / 2."
   ]
  },
  {
   "cell_type": "markdown",
   "metadata": {},
   "source": [
    "## Solution 1. Binary Search Approach"
   ]
  },
  {
   "cell_type": "code",
   "execution_count": null,
   "metadata": {
    "collapsed": true
   },
   "outputs": [],
   "source": [
    "class Solution(object):\n",
    "    def kthSmallestPrimeFraction(self, A, K):\n",
    "        \"\"\"\n",
    "        :type A: List[int]\n",
    "        :type K: int\n",
    "        :rtype: List[int]\n",
    "        \"\"\"\n",
    "\n",
    "        n = len(A)\n",
    "        lsts = []\n",
    "        ranges = []\n",
    "        pos_lst = [0] * (n-1)\n",
    "        for i in xrange(n-1):\n",
    "            lst = []\n",
    "            for j in xrange(n-1, i, -1):\n",
    "                lst.append(float(A[i])/A[j])\n",
    "            ranges.append([0, len(lst)])\n",
    "            lsts.append(lst)\n",
    "                \n",
    "        # find out a value that is larger than k elements but no more than k+1 elements\n",
    "        k = K-1\n",
    "        lo = float(0)\n",
    "        hi = float(1)\n",
    "        \n",
    "        while True: \n",
    "            mid = (lo + hi)/2\n",
    "            #print mid, k, ranges\n",
    "            cnt = 0\n",
    "            for i, lst in enumerate(lsts):\n",
    "                pos = bisect.bisect_left(lst, mid, lo=ranges[i][0], hi=ranges[i][1])\n",
    "                cnt+= pos\n",
    "                pos_lst[i] = pos\n",
    "            #print mid, pos_lst, cnt, k\n",
    " \n",
    "            if cnt < k:\n",
    "                for i, pos in enumerate(pos_lst):\n",
    "                    ranges[i][0] = pos\n",
    "                lo = mid\n",
    "            elif cnt > k:\n",
    "                for i, pos in enumerate(pos_lst):\n",
    "                    ranges[i][1] = pos\n",
    "                hi = mid\n",
    "            else:\n",
    "                break\n",
    "\n",
    "        min_val = float(\"inf\")\n",
    "        ans = None\n",
    "        for i, pos in enumerate(pos_lst):\n",
    "            #print min_val, lsts[i][pos]\n",
    "            if pos < len(lsts[i]):\n",
    "                if lsts[i][pos] < min_val:\n",
    "                    min_val = lsts[i][pos]\n",
    "                    ans = [A[i], A[~pos]]\n",
    "                    \n",
    "        return ans"
   ]
  },
  {
   "cell_type": "markdown",
   "metadata": {},
   "source": [
    "## Solution 2. Much faster than Solution 1."
   ]
  },
  {
   "cell_type": "code",
   "execution_count": null,
   "metadata": {
    "collapsed": true
   },
   "outputs": [],
   "source": [
    "class Solution:\n",
    "    def kthSmallestPrimeFraction(self, A, K):\n",
    "        \n",
    "        \"\"\"\n",
    "        [1, 2, 3, 5, 7, 11]\n",
    "        \n",
    "        1/11, 1/7, 1/5, 1/3, 1/2\n",
    "        2/11, 2/7, 2/5, 2/3\n",
    "        3/11, 3/7, 3/5\n",
    "        5/11, 5/7\n",
    "        7/11\n",
    "        \"\"\"\n",
    "        lo = 0 \n",
    "        hi = 1\n",
    "        n = len(A)\n",
    "        \n",
    "        while True:\n",
    "            mid = (lo + hi)/2.0\n",
    "            # number of entries that are less than mid\n",
    "            cnt = 0\n",
    "            lst = []\n",
    "            for i in xrange(1, n):\n",
    "                # if A[i-1]/mid > A[j], then mid < A[i-1]/A[j]\n",
    "                pos = bisect.bisect_right(A, A[i-1]/mid, lo=i, hi=n) \n",
    "                cnt += n - pos \n",
    "                #print mid, cnt, pos\n",
    "                if pos - 1 >= i:\n",
    "                    lst.append([A[i-1],A[pos-1]])\n",
    "            \n",
    "            #print cnt, lst \n",
    "            if cnt > (K-1):\n",
    "                hi = mid \n",
    "            elif cnt < (K-1):\n",
    "                lo = mid\n",
    "            else:\n",
    "                ans = lst[0]\n",
    "                for x,y in lst[1:]:\n",
    "                    #print x,y, ans\n",
    "                    if float(x)/y < float(ans[0])/ans[1]:\n",
    "                        ans = [x, y] \n",
    "                return ans\n"
   ]
  },
  {
   "cell_type": "code",
   "execution_count": null,
   "metadata": {
    "collapsed": true
   },
   "outputs": [],
   "source": []
  }
 ],
 "metadata": {
  "kernelspec": {
   "display_name": "Python 2",
   "language": "python",
   "name": "python2"
  },
  "language_info": {
   "codemirror_mode": {
    "name": "ipython",
    "version": 2
   },
   "file_extension": ".py",
   "mimetype": "text/x-python",
   "name": "python",
   "nbconvert_exporter": "python",
   "pygments_lexer": "ipython2",
   "version": "2.7.13"
  }
 },
 "nbformat": 4,
 "nbformat_minor": 2
}

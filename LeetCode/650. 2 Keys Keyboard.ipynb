{
 "cells": [
  {
   "cell_type": "markdown",
   "metadata": {},
   "source": [
    "## 650. 2 Keys Keyboard"
   ]
  },
  {
   "cell_type": "markdown",
   "metadata": {},
   "source": [
    "Initially on a notepad only one character 'A' is present. You can perform two operations on this notepad for each step:\n",
    "\n",
    "Copy All: You can copy all the characters present on the notepad (partial copy is not allowed).\n",
    "Paste: You can paste the characters which are copied last time.\n",
    "Given a number n. You have to get exactly n 'A' on the notepad by performing the minimum number of steps permitted. Output the minimum number of steps to get n 'A'.\n",
    "\n",
    "Example 1:\n",
    "Input: 3\n",
    "Output: 3\n",
    "Explanation:\n",
    "Intitally, we have one character 'A'.\n",
    "In step 1, we use Copy All operation.\n",
    "In step 2, we use Paste operation to get 'AA'.\n",
    "In step 3, we use Paste operation to get 'AAA'.\n",
    "Note:\n",
    "The n will be in the range [1, 1000]."
   ]
  },
  {
   "cell_type": "markdown",
   "metadata": {},
   "source": [
    "## Soultion"
   ]
  },
  {
   "cell_type": "code",
   "execution_count": null,
   "metadata": {
    "collapsed": true
   },
   "outputs": [],
   "source": [
    "class Solution(object):\n",
    "    def minSteps(self, n):\n",
    "        \"\"\"\n",
    "        :type n: int\n",
    "        :rtype: int\n",
    "        \"\"\"\n",
    "        def getMinFactor(n):\n",
    "            if n == 2:\n",
    "                return 1\n",
    "            \n",
    "            start = 2\n",
    "            while start <= n ** 0.5:\n",
    "                if n % start != 0:\n",
    "                    start += 1\n",
    "                else:\n",
    "                    return start\n",
    "            return 1\n",
    "        \n",
    "        if n == 1:\n",
    "            return 0\n",
    "        \n",
    "        result = 0\n",
    "        while 1:\n",
    "            min_factor = getMinFactor(n)\n",
    "            if min_factor >= 2:\n",
    "                result += min_factor\n",
    "                n = n/min_factor\n",
    "            else:\n",
    "                return result + n"
   ]
  }
 ],
 "metadata": {
  "kernelspec": {
   "display_name": "Python 2",
   "language": "python",
   "name": "python2"
  },
  "language_info": {
   "codemirror_mode": {
    "name": "ipython",
    "version": 2
   },
   "file_extension": ".py",
   "mimetype": "text/x-python",
   "name": "python",
   "nbconvert_exporter": "python",
   "pygments_lexer": "ipython2",
   "version": "2.7.13"
  }
 },
 "nbformat": 4,
 "nbformat_minor": 2
}

{
 "cells": [
  {
   "cell_type": "markdown",
   "metadata": {},
   "source": [
    "# 678. Valid Parenthesis String"
   ]
  },
  {
   "cell_type": "markdown",
   "metadata": {},
   "source": [
    "Given a string containing only three types of characters: '(', ')' and '*', write a function to check whether this string is valid. We define the validity of a string by these rules:\n",
    "\n",
    "Any left parenthesis '(' must have a corresponding right parenthesis ')'.\n",
    "Any right parenthesis ')' must have a corresponding left parenthesis '('.\n",
    "Left parenthesis '(' must go before the corresponding right parenthesis ')'.\n",
    "'*' could be treated as a single right parenthesis ')' or a single left parenthesis '(' or an empty string.\n",
    "An empty string is also valid.\n",
    "Example 1:\n",
    "Input: \"()\"\n",
    "Output: True\n",
    "Example 2:\n",
    "Input: \"(*)\"\n",
    "Output: True\n",
    "Example 3:\n",
    "Input: \"(*))\"\n",
    "Output: True\n",
    "Note:\n",
    "The string size will be in the range [1, 100]."
   ]
  },
  {
   "cell_type": "markdown",
   "metadata": {},
   "source": [
    "# Solution 1."
   ]
  },
  {
   "cell_type": "code",
   "execution_count": null,
   "metadata": {
    "collapsed": true
   },
   "outputs": [],
   "source": [
    "class Solution(object):\n",
    "    def checkValidString(self, s):\n",
    "        \"\"\"\n",
    "        :type s: str\n",
    "        :rtype: bool\n",
    "        \"\"\"\n",
    "        \n",
    "        n = len(s)\n",
    "        \n",
    "        \"\"\"\n",
    "        check whether '(' cannot be matched\n",
    "        \"\"\"\n",
    "        tot = 0\n",
    "        reserve = 0\n",
    "        for ch in s:\n",
    "            if ch == '(':\n",
    "                tot += 1\n",
    "            elif ch == \")\":\n",
    "                tot -= 1\n",
    "            elif ch == '*':\n",
    "                reserve += 1\n",
    "            \n",
    "            if tot == -1: \n",
    "                if reserve == 0:\n",
    "                    return False\n",
    "                else:\n",
    "                    reserve -= 1\n",
    "                    tot = 0\n",
    "        \n",
    "        \"\"\"\n",
    "        check whether ')' cannot be matched\n",
    "        \"\"\"\n",
    "        tot = 0\n",
    "        reserve = 0\n",
    "        for ch in s[::-1]:\n",
    "            if ch == ')':\n",
    "                tot += 1\n",
    "            elif ch == \"(\":\n",
    "                tot -= 1\n",
    "            elif ch == '*':\n",
    "                reserve += 1\n",
    "            \n",
    "            if tot == -1: \n",
    "                if reserve == 0:\n",
    "                    return False\n",
    "                else:\n",
    "                    reserve -= 1\n",
    "                    tot = 0\n",
    "        \n",
    "        return True"
   ]
  },
  {
   "cell_type": "markdown",
   "metadata": {},
   "source": [
    "## Solution 2. Simplification of Solution 1"
   ]
  },
  {
   "cell_type": "code",
   "execution_count": null,
   "metadata": {
    "collapsed": true
   },
   "outputs": [],
   "source": [
    "class Solution(object):\n",
    "    def checkValidString(self, s):\n",
    "        \"\"\"\n",
    "        :type s: str\n",
    "        :rtype: bool\n",
    "        \"\"\"\n",
    "        \n",
    "        n = len(s)\n",
    "        \n",
    "        left = 0\n",
    "        for ch in s:\n",
    "            if ch != ')':\n",
    "                left += 1\n",
    "            else:\n",
    "                left -= 1\n",
    "                \n",
    "            if left < 0: \n",
    "                return False\n",
    "                \n",
    "        right = 0\n",
    "        for ch in s[::-1]:\n",
    "            if ch != '(':\n",
    "                right += 1\n",
    "            else:\n",
    "                right -= 1\n",
    "            \n",
    "            if right < 0: \n",
    "                return False\n",
    "            \n",
    "        return True"
   ]
  }
 ],
 "metadata": {
  "kernelspec": {
   "display_name": "Python 2",
   "language": "python",
   "name": "python2"
  },
  "language_info": {
   "codemirror_mode": {
    "name": "ipython",
    "version": 2
   },
   "file_extension": ".py",
   "mimetype": "text/x-python",
   "name": "python",
   "nbconvert_exporter": "python",
   "pygments_lexer": "ipython2",
   "version": "2.7.13"
  }
 },
 "nbformat": 4,
 "nbformat_minor": 2
}

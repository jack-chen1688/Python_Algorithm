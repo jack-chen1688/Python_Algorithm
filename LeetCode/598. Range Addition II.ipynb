{
 "cells": [
  {
   "cell_type": "markdown",
   "metadata": {},
   "source": [
    "# 598. Range Addition II"
   ]
  },
  {
   "cell_type": "markdown",
   "metadata": {},
   "source": [
    "\n",
    "Given an m * n matrix M initialized with all 0's and several update operations.\n",
    "\n",
    "Operations are represented by a 2D array, and each operation is represented by an array with two positive integers a and b, which means M[i][j] should be added by one for all 0 <= i < a and 0 <= j < b.\n",
    "\n",
    "You need to count and return the number of maximum integers in the matrix after performing all the operations.\n",
    "\n",
    "Example 1:\n",
    "Input: \n",
    "m = 3, n = 3\n",
    "operations = [[2,2],[3,3]]\n",
    "Output: 4\n",
    "Explanation: \n",
    "Initially, M = \n",
    "[[0, 0, 0],\n",
    " [0, 0, 0],\n",
    " [0, 0, 0]]\n",
    "\n",
    "After performing [2,2], M = \n",
    "[[1, 1, 0],\n",
    " [1, 1, 0],\n",
    " [0, 0, 0]]\n",
    "\n",
    "After performing [3,3], M = \n",
    "[[2, 2, 1],\n",
    " [2, 2, 1],\n",
    " [1, 1, 1]]\n",
    "\n",
    "So the maximum integer in M is 2, and there are four of it in M. So return 4.\n",
    "Note:\n",
    "The range of m and n is [1,40000].\n",
    "The range of a is [1,m], and the range of b is [1,n].\n",
    "The range of operations size won't exceed 10,000."
   ]
  },
  {
   "cell_type": "markdown",
   "metadata": {},
   "source": [
    "## Solution "
   ]
  },
  {
   "cell_type": "code",
   "execution_count": null,
   "metadata": {
    "collapsed": true
   },
   "outputs": [],
   "source": [
    "class Solution(object):\n",
    "    def maxCount(self, m, n, ops):\n",
    "        \"\"\"\n",
    "        :type m: int\n",
    "        :type n: int\n",
    "        :type ops: List[List[int]]\n",
    "        :rtype: int\n",
    "        \"\"\"\n",
    "        \n",
    "        minx, miny = m, n\n",
    "        \n",
    "        for x, y in ops:\n",
    "            minx, miny = min(x, minx), min(y, miny)\n",
    "        \n",
    "        return minx*miny"
   ]
  }
 ],
 "metadata": {
  "kernelspec": {
   "display_name": "Python 2",
   "language": "python",
   "name": "python2"
  },
  "language_info": {
   "codemirror_mode": {
    "name": "ipython",
    "version": 2
   },
   "file_extension": ".py",
   "mimetype": "text/x-python",
   "name": "python",
   "nbconvert_exporter": "python",
   "pygments_lexer": "ipython2",
   "version": "2.7.13"
  }
 },
 "nbformat": 4,
 "nbformat_minor": 2
}

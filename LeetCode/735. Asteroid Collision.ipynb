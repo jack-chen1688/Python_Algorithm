{
 "cells": [
  {
   "cell_type": "markdown",
   "metadata": {},
   "source": [
    "# 735. Asteroid Collision"
   ]
  },
  {
   "cell_type": "markdown",
   "metadata": {},
   "source": [
    "We are given an array asteroids of integers representing asteroids in a row.\n",
    "\n",
    "For each asteroid, the absolute value represents its size, and the sign represents its direction (positive meaning right, negative meaning left). Each asteroid moves at the same speed.\n",
    "\n",
    "Find out the state of the asteroids after all collisions. If two asteroids meet, the smaller one will explode. If both are the same size, both will explode. Two asteroids moving in the same direction will never meet.\n",
    "\n",
    "Example 1:\n",
    "Input: \n",
    "asteroids = [5, 10, -5]\n",
    "Output: [5, 10]\n",
    "Explanation: \n",
    "The 10 and -5 collide resulting in 10.  The 5 and 10 never collide.\n",
    "Example 2:\n",
    "Input: \n",
    "asteroids = [8, -8]\n",
    "Output: []\n",
    "Explanation: \n",
    "The 8 and -8 collide exploding each other.\n",
    "Example 3:\n",
    "Input: \n",
    "asteroids = [10, 2, -5]\n",
    "Output: [10]\n",
    "Explanation: \n",
    "The 2 and -5 collide resulting in -5.  The 10 and -5 collide resulting in 10.\n",
    "Example 4:\n",
    "Input: \n",
    "asteroids = [-2, -1, 1, 2]\n",
    "Output: [-2, -1, 1, 2]\n",
    "Explanation: \n",
    "The -2 and -1 are moving left, while the 1 and 2 are moving right.\n",
    "Asteroids moving the same direction never meet, so no asteroids will meet each other.\n",
    "Note:\n",
    "\n",
    "The length of asteroids will be at most 10000.\n",
    "Each asteroid will be a non-zero integer in the range [-1000, 1000].."
   ]
  },
  {
   "cell_type": "markdown",
   "metadata": {},
   "source": [
    "## Solution 1"
   ]
  },
  {
   "cell_type": "code",
   "execution_count": null,
   "metadata": {
    "collapsed": true
   },
   "outputs": [],
   "source": [
    "class Solution(object):\n",
    "    def asteroidCollision(self, asteroids):\n",
    "        \"\"\"\n",
    "        :type asteroids: List[int]\n",
    "        :rtype: List[int]\n",
    "        \"\"\"\n",
    "        \n",
    "        if not asteroids:\n",
    "            return []\n",
    "        \n",
    "        if asteroids[0] < 0:\n",
    "            sign = -1\n",
    "        else:\n",
    "            sign = 1\n",
    "    \n",
    "        #print sign\n",
    "        \n",
    "        lst = [0]\n",
    "        for i, num in enumerate(asteroids[1:], start = 1):\n",
    "            if num > 0: \n",
    "                if sign == -1:\n",
    "                    sign = 1\n",
    "                \n",
    "                lst.append(i)\n",
    "            else:\n",
    "                if sign == 1:\n",
    "                    current_explode = 0\n",
    "                    while lst:\n",
    "                        j = lst[-1]\n",
    "                        \n",
    "                        if asteroids[j] < 0:\n",
    "                            break\n",
    "                            \n",
    "                        if asteroids[j] < -asteroids[i]:\n",
    "                            #j explode\n",
    "                            lst.pop()\n",
    "                            continue\n",
    "                        else:\n",
    "                            if asteroids[j] == -asteroids[i]:\n",
    "                                #j explode\n",
    "                                lst.pop()\n",
    "                            # i explode\n",
    "                            current_explode = 1\n",
    "                            break\n",
    "                        \n",
    "                    if current_explode == 0:\n",
    "                        lst.append(i)\n",
    "                else:\n",
    "                    lst.append(i)\n",
    "        \n",
    "        #print explodes\n",
    "        return [asteroids[x] for x in lst]"
   ]
  },
  {
   "cell_type": "markdown",
   "metadata": {
    "collapsed": true
   },
   "source": [
    "## Solution 2. Enhancement to Solution 1"
   ]
  },
  {
   "cell_type": "code",
   "execution_count": null,
   "metadata": {
    "collapsed": true
   },
   "outputs": [],
   "source": [
    "class Solution(object):\n",
    "    def asteroidCollision(self, asteroids):\n",
    "        \"\"\"\n",
    "        :type asteroids: List[int]\n",
    "        :rtype: List[int]\n",
    "        \"\"\"\n",
    "        if asteroids:           \n",
    "            ans = [asteroids[0]]\n",
    "            for i, num in enumerate(asteroids[1:], start=1):\n",
    "                if num > 0: \n",
    "                    ans.append(num)\n",
    "                else:\n",
    "                    cur_explode = 0\n",
    "                    while ans and ans[-1] > 0:\n",
    "                        if ans[-1] < -num:\n",
    "                            #prev explode\n",
    "                            del ans[-1]\n",
    "                            continue\n",
    "                        else:\n",
    "                            if ans[-1] == -num:\n",
    "                                del ans[-1]\n",
    "                            cur_explode = 1\n",
    "                            break\n",
    "\n",
    "                    if cur_explode == 0:\n",
    "                        ans.append(num)\n",
    "            return ans\n",
    "        else:\n",
    "            return []"
   ]
  }
 ],
 "metadata": {
  "kernelspec": {
   "display_name": "Python 2",
   "language": "python",
   "name": "python2"
  },
  "language_info": {
   "codemirror_mode": {
    "name": "ipython",
    "version": 2
   },
   "file_extension": ".py",
   "mimetype": "text/x-python",
   "name": "python",
   "nbconvert_exporter": "python",
   "pygments_lexer": "ipython2",
   "version": "2.7.13"
  }
 },
 "nbformat": 4,
 "nbformat_minor": 2
}

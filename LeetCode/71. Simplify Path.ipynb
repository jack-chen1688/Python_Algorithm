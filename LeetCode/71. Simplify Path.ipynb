{
 "cells": [
  {
   "cell_type": "markdown",
   "metadata": {},
   "source": [
    "# 71. Simplify Path"
   ]
  },
  {
   "cell_type": "markdown",
   "metadata": {},
   "source": [
    "Given an absolute path for a file (Unix-style), simplify it.\n",
    "\n",
    "For example,\n",
    "path = \"/home/\", => \"/home\"\n",
    "path = \"/a/./b/../../c/\", => \"/c\"\n",
    "click to show corner cases.\n",
    "\n",
    "Corner Cases:\n",
    "Did you consider the case where path = \"/../\"?\n",
    "In this case, you should return \"/\".\n",
    "Another corner case is the path might contain multiple slashes '/' together, such as \"/home//foo/\".\n",
    "In this case, you should ignore redundant slashes and return \"/home/foo\"."
   ]
  },
  {
   "cell_type": "markdown",
   "metadata": {},
   "source": [
    "## Solution"
   ]
  },
  {
   "cell_type": "markdown",
   "metadata": {},
   "source": [
    "Note: The solution below does not support path like \"../..\", which is also a valid path."
   ]
  },
  {
   "cell_type": "code",
   "execution_count": null,
   "metadata": {
    "collapsed": true
   },
   "outputs": [],
   "source": [
    "class Solution(object):\n",
    "    def simplifyPath(self, path):\n",
    "        \"\"\"\n",
    "        :type path: str\n",
    "        :rtype: str\n",
    "        \"\"\"\n",
    "        import re\n",
    "        lst = [item for item in re.split('\\/+', path.rstrip(\"/\"))]\n",
    "        ans = lst[0] if lst[0] != \"\" else \"/\"\n",
    "        lst1 = []\n",
    "        for item in lst[1:]:\n",
    "            if item == \"..\":\n",
    "                if lst1:\n",
    "                    lst1.pop()\n",
    "            elif item != \".\":\n",
    "                lst1.append(item)\n",
    "            \n",
    "        return ans + \"/\".join(lst1)"
   ]
  }
 ],
 "metadata": {
  "kernelspec": {
   "display_name": "Python 2",
   "language": "python",
   "name": "python2"
  },
  "language_info": {
   "codemirror_mode": {
    "name": "ipython",
    "version": 2
   },
   "file_extension": ".py",
   "mimetype": "text/x-python",
   "name": "python",
   "nbconvert_exporter": "python",
   "pygments_lexer": "ipython2",
   "version": "2.7.13"
  }
 },
 "nbformat": 4,
 "nbformat_minor": 2
}

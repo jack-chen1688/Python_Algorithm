{
 "cells": [
  {
   "cell_type": "markdown",
   "metadata": {},
   "source": [
    "# 109. Convert Sorted List to Binary Search Tree"
   ]
  },
  {
   "cell_type": "markdown",
   "metadata": {},
   "source": [
    "Given a singly linked list where elements are sorted in ascending order, convert it to a height balanced BST."
   ]
  },
  {
   "cell_type": "markdown",
   "metadata": {},
   "source": [
    "## Solution. Use An Intermediate Sorted Array"
   ]
  },
  {
   "cell_type": "code",
   "execution_count": null,
   "metadata": {
    "collapsed": true
   },
   "outputs": [],
   "source": [
    "# Definition for singly-linked list.\n",
    "# class ListNode(object):\n",
    "#     def __init__(self, x):\n",
    "#         self.val = x\n",
    "#         self.next = None\n",
    "\n",
    "# Definition for a binary tree node.\n",
    "# class TreeNode(object):\n",
    "#     def __init__(self, x):\n",
    "#         self.val = x\n",
    "#         self.left = None\n",
    "#         self.right = None\n",
    "\n",
    "class Solution(object):\n",
    "    def sortedListToBST(self, head):\n",
    "        \"\"\"\n",
    "        :type head: ListNode\n",
    "        :rtype: TreeNode\n",
    "        \"\"\"\n",
    "        lst = []\n",
    "        \n",
    "        while head:\n",
    "            lst.append(head.val)\n",
    "            head = head.next\n",
    "            \n",
    "        def lstToBST(lst): \n",
    "            #5->2\n",
    "            #4->1\n",
    "            if lst == []:\n",
    "                return None\n",
    "            else:\n",
    "                n = len(lst)\n",
    "                node = TreeNode(lst[n/2])\n",
    "                node.left = lstToBST(lst[:n/2])\n",
    "                node.right = lstToBST(lst[n/2+1:])\n",
    "                return node\n",
    "        \n",
    "        return lstToBST(lst)"
   ]
  }
 ],
 "metadata": {
  "kernelspec": {
   "display_name": "Python 2",
   "language": "python",
   "name": "python2"
  },
  "language_info": {
   "codemirror_mode": {
    "name": "ipython",
    "version": 2
   },
   "file_extension": ".py",
   "mimetype": "text/x-python",
   "name": "python",
   "nbconvert_exporter": "python",
   "pygments_lexer": "ipython2",
   "version": "2.7.13"
  }
 },
 "nbformat": 4,
 "nbformat_minor": 2
}

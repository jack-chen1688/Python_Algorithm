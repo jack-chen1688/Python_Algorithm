{
 "cells": [
  {
   "cell_type": "markdown",
   "metadata": {},
   "source": [
    "# 449. Serialize and Deserialize BST"
   ]
  },
  {
   "cell_type": "markdown",
   "metadata": {},
   "source": [
    "Serialization is the process of converting a data structure or object into a sequence of bits so that it can be stored in a file or memory buffer, or transmitted across a network connection link to be reconstructed later in the same or another computer environment.\n",
    "\n",
    "Design an algorithm to serialize and deserialize a binary search tree. There is no restriction on how your serialization/deserialization algorithm should work. You just need to ensure that a binary search tree can be serialized to a string and this string can be deserialized to the original tree structure.\n",
    "\n",
    "The encoded string should be as compact as possible.\n",
    "\n",
    "Note: Do not use class member/global/static variables to store states. Your serialize and deserialize algorithms should be stateless.\n",
    "\n"
   ]
  },
  {
   "cell_type": "markdown",
   "metadata": {},
   "source": [
    "## Solution"
   ]
  },
  {
   "cell_type": "code",
   "execution_count": null,
   "metadata": {
    "collapsed": true
   },
   "outputs": [],
   "source": [
    "# Definition for a binary tree node.\n",
    "# class TreeNode(object):\n",
    "#     def __init__(self, x):\n",
    "#         self.val = x\n",
    "#         self.left = None\n",
    "#         self.right = None\n",
    "\n",
    "class Codec:\n",
    "\n",
    "    def serialize(self, root):\n",
    "        \"\"\"Encodes a tree to a single string.\n",
    "        :type root: TreeNode\n",
    "        :rtype: str\n",
    "        \"\"\"\n",
    "        \n",
    "        #lst = [child for node in lst for child in [node.left, node.right] if child != None]\n",
    "        \"\"\"\n",
    "        $: No child\n",
    "        *: None\n",
    "        \"\"\"\n",
    "        ans = \"\"\n",
    "        if root:\n",
    "            lst = [root]\n",
    "            ans = str(root.val)\n",
    "            while lst:\n",
    "                lst1 = []\n",
    "                for node in lst:\n",
    "                    if not node.left and not node.right:\n",
    "                        ans += \",$\"\n",
    "                    else:\n",
    "                        for child in [node.left, node.right]:\n",
    "                            if child:\n",
    "                                ans += \",\" + str(child.val)\n",
    "                                lst1.append(child)\n",
    "                            else:\n",
    "                                ans += \",*\"\n",
    "                lst = lst1\n",
    "        #print ans\n",
    "        return ans                 \n",
    "\n",
    "\n",
    "    def deserialize(self, data):\n",
    "        \"\"\"Decodes your encoded data to tree.\n",
    "        \n",
    "        :type data: str\n",
    "        :rtype: TreeNode\n",
    "        \"\"\"\n",
    "        \n",
    "        if data:\n",
    "            lst = data.split(\",\")\n",
    "            root = TreeNode(lst[0])\n",
    "            node_lst = [root]\n",
    "            pos = 1\n",
    "            while node_lst:\n",
    "                node_lst1 = [] \n",
    "                for node in node_lst:\n",
    "                    #print pos, lst, node.val\n",
    "                    if lst[pos] == \"$\":\n",
    "                        # do nothing\n",
    "                        pos += 1\n",
    "                    else:\n",
    "                        if lst[pos] != \"*\":\n",
    "                            node.left = TreeNode(int(lst[pos]))\n",
    "                            node_lst1.append(node.left)\n",
    "                        if lst[pos+1] != \"*\":\n",
    "                            node.right = TreeNode(int(lst[pos+1]))\n",
    "                            node_lst1.append(node.right)\n",
    "                        pos += 2\n",
    "                node_lst = node_lst1\n",
    "                #print node_lst\n",
    "            return root\n",
    "        else:\n",
    "            return None\n",
    "\n",
    "# Your Codec object will be instantiated and called as such:\n",
    "# codec = Codec()\n",
    "# codec.deserialize(codec.serialize(root))"
   ]
  }
 ],
 "metadata": {
  "kernelspec": {
   "display_name": "Python 2",
   "language": "python",
   "name": "python2"
  },
  "language_info": {
   "codemirror_mode": {
    "name": "ipython",
    "version": 2
   },
   "file_extension": ".py",
   "mimetype": "text/x-python",
   "name": "python",
   "nbconvert_exporter": "python",
   "pygments_lexer": "ipython2",
   "version": "2.7.13"
  }
 },
 "nbformat": 4,
 "nbformat_minor": 2
}

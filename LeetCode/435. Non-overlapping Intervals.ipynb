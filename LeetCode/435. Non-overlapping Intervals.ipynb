{
 "cells": [
  {
   "cell_type": "markdown",
   "metadata": {},
   "source": [
    "# 435. Non-overlapping Intervals"
   ]
  },
  {
   "cell_type": "markdown",
   "metadata": {},
   "source": [
    "Given a collection of intervals, find the minimum number of intervals you need to remove to make the rest of the intervals non-overlapping.\n",
    "\n",
    "Note:\n",
    "You may assume the interval's end point is always bigger than its start point.\n",
    "Intervals like [1,2] and [2,3] have borders \"touching\" but they don't overlap each other.\n",
    "Example 1:\n",
    "Input: [ [1,2], [2,3], [3,4], [1,3] ]\n",
    "\n",
    "Output: 1\n",
    "\n",
    "Explanation: [1,3] can be removed and the rest of intervals are non-overlapping.\n",
    "Example 2:\n",
    "Input: [ [1,2], [1,2], [1,2] ]\n",
    "\n",
    "Output: 2\n",
    "\n",
    "Explanation: You need to remove two [1,2] to make the rest of intervals non-overlapping.\n",
    "Example 3:\n",
    "Input: [ [1,2], [2,3] ]\n",
    "\n",
    "Output: 0\n",
    "\n",
    "Explanation: You don't need to remove any of the intervals since they're already non-overlapping."
   ]
  },
  {
   "cell_type": "markdown",
   "metadata": {},
   "source": [
    "## Solution. Greedy Algorithm"
   ]
  },
  {
   "cell_type": "code",
   "execution_count": null,
   "metadata": {
    "collapsed": true
   },
   "outputs": [],
   "source": [
    "# Definition for an interval.\n",
    "# class Interval(object):\n",
    "#     def __init__(self, s=0, e=0):\n",
    "#         self.start = s\n",
    "#         self.end = e\n",
    "\n",
    "class Solution(object):\n",
    "    def eraseOverlapIntervals(self, intervals):\n",
    "        \"\"\"\n",
    "        :type intervals: List[Interval]\n",
    "        :rtype: int\n",
    "        \"\"\"\n",
    "        sort_intervals = sorted(intervals, key=lamba x:x.end)\n",
    "\n",
    "        ans = 0\n",
    "        min_end = sort_intervals[0].end\n",
    "        for interval in sort_intervals[1:]:\n",
    "            if interval.start < min_end:\n",
    "                ans += 1  \n",
    "            else:\n",
    "                min_end = interval.end\n",
    "                \n",
    "        return ans\n",
    "                 "
   ]
  }
 ],
 "metadata": {
  "kernelspec": {
   "display_name": "Python 2",
   "language": "python",
   "name": "python2"
  },
  "language_info": {
   "codemirror_mode": {
    "name": "ipython",
    "version": 2
   },
   "file_extension": ".py",
   "mimetype": "text/x-python",
   "name": "python",
   "nbconvert_exporter": "python",
   "pygments_lexer": "ipython2",
   "version": "2.7.13"
  }
 },
 "nbformat": 4,
 "nbformat_minor": 2
}

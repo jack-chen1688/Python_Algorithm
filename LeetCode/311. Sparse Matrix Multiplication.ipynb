{
 "cells": [
  {
   "cell_type": "markdown",
   "metadata": {},
   "source": [
    "# 311. Sparse Matrix Multiplication"
   ]
  },
  {
   "cell_type": "markdown",
   "metadata": {},
   "source": [
    "Given two sparse matrices A and B, return the result of AB.\n",
    "\n",
    "You may assume that A's column number is equal to B's row number.\n",
    "\n",
    "Example:\n",
    "\n",
    "A = [\n",
    "  [ 1, 0, 0],\n",
    "  [-1, 0, 3]\n",
    "]\n",
    "\n",
    "B = [\n",
    "  [ 7, 0, 0 ],\n",
    "  [ 0, 0, 0 ],\n",
    "  [ 0, 0, 1 ]\n",
    "]\n",
    "\n",
    "\n",
    "     |  1 0 0 |   | 7 0 0 |   |  7 0 0 |\n",
    "AB = | -1 0 3 | x | 0 0 0 | = | -7 0 3 |\n",
    "                  | 0 0 1 |\n"
   ]
  },
  {
   "cell_type": "markdown",
   "metadata": {},
   "source": [
    "# Solution 1. Time Exceeded"
   ]
  },
  {
   "cell_type": "markdown",
   "metadata": {},
   "source": [
    "class Solution(object):\n",
    "    def multiply(self, A, B):\n",
    "        \"\"\"\n",
    "        :type A: List[List[int]]\n",
    "        :type B: List[List[int]]\n",
    "        :rtype: List[List[int]]\n",
    "        \"\"\"\n",
    "        \n",
    "        res = [[0] * len(B[0]) for i in xrange(len(A))]\n",
    "        \n",
    "        for i, row in enumerate(A):\n",
    "            for j, col in enumerate(zip(*B)):\n",
    "                for x,y in zip(row,col):\n",
    "                    if x!=0 and y!=0:\n",
    "                        res[i][j] += x*y\n",
    "        \n",
    "        return res\n",
    "                "
   ]
  },
  {
   "cell_type": "markdown",
   "metadata": {},
   "source": [
    "## Solution 2. Use Two Lists To Track Non-zero Elements"
   ]
  },
  {
   "cell_type": "code",
   "execution_count": null,
   "metadata": {
    "collapsed": true
   },
   "outputs": [],
   "source": [
    "class Solution(object):\n",
    "    def multiply(self, A, B):\n",
    "        \"\"\"\n",
    "        :type A: List[List[int]]\n",
    "        :type B: List[List[int]]\n",
    "        :rtype: List[List[int]]\n",
    "        \"\"\"\n",
    "\n",
    "            \n",
    "        lstsA = [[[col, num] for col, num in enumerate(row) if num != 0] for row in A]\n",
    "        lstsB = [[[col, num] for col, num in enumerate(row) if num != 0] for row in B]\n",
    "        \n",
    "        \n",
    "        res = [[0] * len(B[0]) for i in xrange(len(A))]\n",
    "        for i, row in enumerate(lstsA):\n",
    "            for j, num0 in row:\n",
    "                for col, num1 in lstsB[j]:\n",
    "                    res[i][col] += num0*num1\n",
    "\n",
    "        return res "
   ]
  },
  {
   "cell_type": "markdown",
   "metadata": {},
   "source": [
    "## Solution 3. Do Not Use Extra Space"
   ]
  },
  {
   "cell_type": "code",
   "execution_count": null,
   "metadata": {
    "collapsed": true
   },
   "outputs": [],
   "source": [
    "class Solution(object):\n",
    "    def multiply(self, A, B):\n",
    "        \"\"\"\n",
    "        :type A: List[List[int]]\n",
    "        :type B: List[List[int]]\n",
    "        :rtype: List[List[int]]\n",
    "        \"\"\"\n",
    "        \n",
    "        res = [[0] * len(B[0]) for i in xrange(len(A))]\n",
    "        for i, row in enumerate(A):\n",
    "            for j, num0 in enumerate(row):\n",
    "                if num0 != 0:\n",
    "                    for k, num1 in enumerate(B[j]):\n",
    "                        if num1 != 0:\n",
    "                            res[i][k] += num0*num1\n",
    "\n",
    "        return res "
   ]
  },
  {
   "cell_type": "markdown",
   "metadata": {},
   "source": [
    "## Analysis"
   ]
  },
  {
   "cell_type": "markdown",
   "metadata": {},
   "source": [
    "Solution 1 and Solution 3 seems to be close. But Solution 1 takes much longer time for large sparse matrix multiplication. Why's the difference. \n",
    "\n",
    "In solution 1, for each element in any row of matrix A, we checked whether it is 0 for len(B[0]) times. In solution 3, we only checked once for each element in any row of matrix A. When number of columns of matrix B is large, the difference can be a lot. \n",
    "\n",
    "In solution 1, for each element of matrix B, it is checked len(A) times. In solution 3, the number of zero checking for an element at row i in matrix B is equal to the number of nonzeros times at row i in A. And since matrix A is sparse, the latter can even be zero. So this also make a big difference in performance. \n",
    "\n",
    "FOr Solution 2, all element of A and B are only checked once and nonzero values will be added to two different lists, which takes some extra space. Though the existing tests shown that solution 2 is faster than solution 3, I think the results depends on how sparse matrix A and B are."
   ]
  }
 ],
 "metadata": {
  "kernelspec": {
   "display_name": "Python 2",
   "language": "python",
   "name": "python2"
  },
  "language_info": {
   "codemirror_mode": {
    "name": "ipython",
    "version": 2
   },
   "file_extension": ".py",
   "mimetype": "text/x-python",
   "name": "python",
   "nbconvert_exporter": "python",
   "pygments_lexer": "ipython2",
   "version": "2.7.13"
  }
 },
 "nbformat": 4,
 "nbformat_minor": 2
}

{
 "cells": [
  {
   "cell_type": "markdown",
   "metadata": {},
   "source": [
    "# 93. Restore IP Addresses"
   ]
  },
  {
   "cell_type": "markdown",
   "metadata": {},
   "source": [
    "Given a string containing only digits, restore it by returning all possible valid IP address combinations.\n",
    "\n",
    "For example:\n",
    "Given \"25525511135\",\n",
    "\n",
    "return [\"255.255.11.135\", \"255.255.111.35\"]. (Order does not matter)\n",
    "\n"
   ]
  },
  {
   "cell_type": "markdown",
   "metadata": {},
   "source": [
    "## Solution"
   ]
  },
  {
   "cell_type": "code",
   "execution_count": 5,
   "metadata": {},
   "outputs": [
    {
     "data": {
      "text/plain": [
       "([1, 2], 3)"
      ]
     },
     "execution_count": 5,
     "metadata": {},
     "output_type": "execute_result"
    }
   ],
   "source": [
    "class Solution(object):\n",
    "    def restoreIpAddresses(self, s):\n",
    "        \"\"\"\n",
    "        :type s: str\n",
    "        :rtype: List[str]\n",
    "        \"\"\"\n",
    "        \n",
    "        def solve(s, num):\n",
    "            if 0 < len(s) <= num*3:    \n",
    "                if num > 1:\n",
    "                    res = []\n",
    "                    for i in xrange(3):\n",
    "                        first = s[:i+1]\n",
    "                        if first.startswith(\"0\") and len(first) > 1:\n",
    "                            break\n",
    "                        elif int(first) < 256:\n",
    "                            lst = solve(s[i+1:], num-1)\n",
    "                            for ip in lst:\n",
    "                                res.append(s[:i+1] + \".\" + ip)\n",
    "                    return res\n",
    "                else:\n",
    "                    if s.startswith(\"0\") and len(s) > 1:\n",
    "                        return []\n",
    "                    elif int(s) > 255:\n",
    "                        return []\n",
    "                    else:\n",
    "                        return [s]\n",
    "            else:\n",
    "                return []\n",
    "        \n",
    "            \n",
    "        return solve(s, 4)"
   ]
  }
 ],
 "metadata": {
  "kernelspec": {
   "display_name": "Python 2",
   "language": "python",
   "name": "python2"
  },
  "language_info": {
   "codemirror_mode": {
    "name": "ipython",
    "version": 2
   },
   "file_extension": ".py",
   "mimetype": "text/x-python",
   "name": "python",
   "nbconvert_exporter": "python",
   "pygments_lexer": "ipython2",
   "version": "2.7.13"
  }
 },
 "nbformat": 4,
 "nbformat_minor": 2
}

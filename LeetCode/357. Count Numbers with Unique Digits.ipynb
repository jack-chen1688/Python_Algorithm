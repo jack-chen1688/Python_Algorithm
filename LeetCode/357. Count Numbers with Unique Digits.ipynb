{
 "cells": [
  {
   "cell_type": "markdown",
   "metadata": {},
   "source": [
    "# 357. Count Numbers with Unique Digits"
   ]
  },
  {
   "cell_type": "markdown",
   "metadata": {},
   "source": [
    "\n",
    "Given a non-negative integer n, count all numbers with unique digits, x, where 0 ≤ x < 10n.\n",
    "\n",
    "Example:\n",
    "Given n = 2, return 91. (The answer should be the total numbers in the range of 0 ≤ x < 100, excluding [11,22,33,44,55,66,77,88,99])\n",
    "\n",
    "Credits:\n",
    "Special thanks to @memoryless for adding this problem and creating all test cases."
   ]
  },
  {
   "cell_type": "markdown",
   "metadata": {},
   "source": [
    "## Solution 1."
   ]
  },
  {
   "cell_type": "code",
   "execution_count": null,
   "metadata": {
    "collapsed": true
   },
   "outputs": [],
   "source": [
    "class Solution(object):\n",
    "    def countNumbersWithUniqueDigits(self, n):\n",
    "        \"\"\"\n",
    "        :type n: int\n",
    "        :rtype: int\n",
    "        \"\"\"\n",
    "        \n",
    "        \"\"\"\n",
    "        1, P(10,1) \n",
    "        \n",
    "        2, 10 * 9  + 1 * P(9,0) (0)\n",
    "        3, 10 * 9 * 8 + 1 * P(9,0) (0) + 2 * P(9,1) (001 + .. + 090) \n",
    "        4, 10 * 9 * 8 + 1 * P(9,0) (0) + 2 * P(9,1) (001 + .. + 090) + 3 * P(9,2) (012 + 102 + 120 +...)\n",
    "        \"\"\"\n",
    "        perm_dict = {}\n",
    "        def permutation(n, k):\n",
    "            if k > 0:\n",
    "                if (n,k) not in perm_dict:\n",
    "                    perm_dict[(n,k)] = permutation(n,k-1) * (n-k+1)\n",
    "                return perm_dict[(n,k)] \n",
    "            else:\n",
    "                return 1\n",
    "        \n",
    "        if n < 11:\n",
    "            ans = permutation(10,n) \n",
    "            for i in xrange(n-1):\n",
    "                ans += (i+1) * permutation(9,i)\n",
    "            return ans\n",
    "        else:\n",
    "            return self.countNumbersWithUniqueDigits(10)"
   ]
  },
  {
   "cell_type": "markdown",
   "metadata": {},
   "source": [
    "## Solution 2. (Leet Code Solution)"
   ]
  },
  {
   "cell_type": "code",
   "execution_count": null,
   "metadata": {
    "collapsed": true
   },
   "outputs": [],
   "source": [
    "class Solution(object):\n",
    "    def countNumbersWithUniqueDigits(self, n):\n",
    "        \"\"\"\n",
    "        :type n: int\n",
    "        :rtype: int\n",
    "        \"\"\"\n",
    "        if n > 10: n = 10\n",
    "        res = 1\n",
    "        val = 9\n",
    "        for ix in range(n):\n",
    "            res += val\n",
    "            val *= (10-(ix+1))\n",
    "            \n",
    "        return res\n",
    "        \n",
    "        \n",
    "        \"\"\"\n",
    "        1+\n",
    "        0->1, 9\n",
    "        1->2, 9x9\n",
    "        2->3,  9x9x8\n",
    "        3->4 9x9x8x7\n",
    "        \n",
    "        ...\n",
    "        8->9\n",
    "        9->10 9x9x...x1\n",
    "        10->11 At least one number is overlapped\n",
    "        \"\"\""
   ]
  }
 ],
 "metadata": {
  "kernelspec": {
   "display_name": "Python 2",
   "language": "python",
   "name": "python2"
  },
  "language_info": {
   "codemirror_mode": {
    "name": "ipython",
    "version": 2
   },
   "file_extension": ".py",
   "mimetype": "text/x-python",
   "name": "python",
   "nbconvert_exporter": "python",
   "pygments_lexer": "ipython2",
   "version": "2.7.13"
  }
 },
 "nbformat": 4,
 "nbformat_minor": 2
}

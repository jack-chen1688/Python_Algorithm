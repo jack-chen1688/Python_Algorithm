{
 "cells": [
  {
   "cell_type": "markdown",
   "metadata": {},
   "source": [
    "# 113. Path Sum II"
   ]
  },
  {
   "cell_type": "markdown",
   "metadata": {},
   "source": [
    "Given a binary tree and a sum, find all root-to-leaf paths where each path's sum equals the given sum.\n",
    "\n",
    "For example:\n",
    "Given the below binary tree and sum = 22,\n",
    "              5\n",
    "             / \\\n",
    "            4   8\n",
    "           /   / \\\n",
    "          11  13  4\n",
    "         /  \\    / \\\n",
    "        7    2  5   1\n",
    "return\n",
    "[\n",
    "   [5,4,11,2],\n",
    "   [5,8,4,5]\n",
    "]"
   ]
  },
  {
   "cell_type": "markdown",
   "metadata": {},
   "source": [
    "## Solution 1. Recursive Approach"
   ]
  },
  {
   "cell_type": "code",
   "execution_count": null,
   "metadata": {
    "collapsed": true
   },
   "outputs": [],
   "source": [
    "# Definition for a binary tree node.\n",
    "# class TreeNode(object):\n",
    "#     def __init__(self, x):\n",
    "#         self.val = x\n",
    "#         self.left = None\n",
    "#         self.right = None\n",
    "\n",
    "class Solution(object):\n",
    "    \n",
    "    def pathSum(self, root, sum):\n",
    "        \"\"\"\n",
    "        :type root: TreeNode\n",
    "        :type sum: int\n",
    "        :rtype: List[List[int]]\n",
    "        \"\"\"\n",
    "        if root == None:\n",
    "            return []\n",
    "        \n",
    "        if root.left == None and root.right == None:\n",
    "            if root.val == sum:\n",
    "                return [[root.val]]\n",
    "            else:\n",
    "                return []\n",
    "        \n",
    "        paths = []\n",
    "        if root.left != None:\n",
    "            left_sum = sum - root.val\n",
    "            left_paths= self.pathSum(root.left, left_sum)\n",
    "            paths += [[root.val] + path for path in left_paths]\n",
    "        \n",
    "        if root.right != None:\n",
    "            right_sum = sum - root.val\n",
    "            right_paths= self.pathSum(root.right, right_sum)            \n",
    "            paths += [[root.val] + path for path in right_paths]\n",
    "  \n",
    "        return paths"
   ]
  }
 ],
 "metadata": {
  "kernelspec": {
   "display_name": "Python 2",
   "language": "python",
   "name": "python2"
  },
  "language_info": {
   "codemirror_mode": {
    "name": "ipython",
    "version": 2
   },
   "file_extension": ".py",
   "mimetype": "text/x-python",
   "name": "python",
   "nbconvert_exporter": "python",
   "pygments_lexer": "ipython2",
   "version": "2.7.13"
  }
 },
 "nbformat": 4,
 "nbformat_minor": 2
}

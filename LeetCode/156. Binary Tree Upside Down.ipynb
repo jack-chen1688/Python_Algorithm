{
 "cells": [
  {
   "cell_type": "markdown",
   "metadata": {},
   "source": [
    "# 156. Binary Tree Upside Down"
   ]
  },
  {
   "cell_type": "markdown",
   "metadata": {},
   "source": [
    "\n",
    "Given a binary tree where all the right nodes are either leaf nodes with a sibling (a left node that shares the \n",
    "same parent node) or empty, flip it upside down and turn it into a tree where the original right nodes turned into \n",
    "left leaf nodes. Return the new root.\n",
    "\n",
    "For example:\n",
    "Given a binary tree {1,2,3,4,5},\n",
    "    1\n",
    "   / \\\n",
    "  2   3\n",
    " / \\\n",
    "4   5\n",
    "return the root of the binary tree [4,5,2,#,#,3,1].\n",
    "   4\n",
    "  / \\\n",
    " 5   2\n",
    "    / \\\n",
    "   3   1  \n",
    "confused what \"{1,#,2,3}\" means? > read more on how binary tree is serialized on OJ."
   ]
  },
  {
   "cell_type": "markdown",
   "metadata": {},
   "source": [
    "## Solution"
   ]
  },
  {
   "cell_type": "markdown",
   "metadata": {},
   "source": [
    "NOTE: The idea is simple to come up. But one thing can be easily forgotten. That is set previous existing root.left and root.right to None."
   ]
  },
  {
   "cell_type": "code",
   "execution_count": null,
   "metadata": {
    "collapsed": true
   },
   "outputs": [],
   "source": [
    "# Definition for a binary tree node.\n",
    "# class TreeNode(object):\n",
    "#     def __init__(self, x):\n",
    "#         self.val = x\n",
    "#         self.left = None\n",
    "#         self.right = None\n",
    "\n",
    "class Solution(object):\n",
    "    def upsideDownBinaryTree(self, root):\n",
    "        \"\"\"\n",
    "        :type root: TreeNode\n",
    "        :rtype: TreeNode\n",
    "        \"\"\"\n",
    "        \n",
    "        def dfs(root):\n",
    "            if root.left:\n",
    "                [node, right] = dfs(root.left)\n",
    "                root.left = None\n",
    "                right.right = root\n",
    "                if root.right:\n",
    "                    right.left = root.right\n",
    "                    root.right = None\n",
    "                return [node, right.right]\n",
    "            else:\n",
    "                return [root, root]\n",
    "        \n",
    "        if root != None:\n",
    "            [a,b] = dfs(root)\n",
    "            return a\n",
    "        else:\n",
    "            return None"
   ]
  }
 ],
 "metadata": {
  "kernelspec": {
   "display_name": "Python 2",
   "language": "python",
   "name": "python2"
  },
  "language_info": {
   "codemirror_mode": {
    "name": "ipython",
    "version": 2
   },
   "file_extension": ".py",
   "mimetype": "text/x-python",
   "name": "python",
   "nbconvert_exporter": "python",
   "pygments_lexer": "ipython2",
   "version": "2.7.13"
  }
 },
 "nbformat": 4,
 "nbformat_minor": 2
}

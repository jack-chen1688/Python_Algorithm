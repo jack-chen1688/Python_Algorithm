{
 "cells": [
  {
   "cell_type": "markdown",
   "metadata": {},
   "source": [
    "# 53. Maximum Subarray"
   ]
  },
  {
   "cell_type": "markdown",
   "metadata": {},
   "source": [
    "Find the contiguous subarray within an array (containing at least one number) which has the largest sum.\n",
    "\n",
    "For example, given the array [-2,1,-3,4,-1,2,1,-5,4],\n",
    "the contiguous subarray [4,-1,2,1] has the largest sum = 6.\n",
    "\n",
    "click to show more practice.\n",
    "\n",
    "More practice:\n",
    "If you have figured out the O(n) solution, try coding another solution using the divide and conquer approach, which is more subtle.\n"
   ]
  },
  {
   "cell_type": "markdown",
   "metadata": {},
   "source": [
    "## Solution 1. O(n) Scanning the List"
   ]
  },
  {
   "cell_type": "code",
   "execution_count": null,
   "metadata": {
    "collapsed": true
   },
   "outputs": [],
   "source": [
    "class Solution(object):\n",
    "    def maxSubArray(self, nums):\n",
    "        \"\"\"\n",
    "        :type nums: List[int]\n",
    "        :rtype: int\n",
    "        \"\"\"\n",
    "        \n",
    "        length = len(nums)\n",
    "        \n",
    "        #arr0: array with largest sum of elements from 0 to i\n",
    "        #arr1: array of largest sum which ends at ith element\n",
    "        #arr0, arr1 = [nums[0]], [nums[0]]\n",
    "        max_sum_all, max_sum_right = nums[0], nums[0]\n",
    "        \n",
    "        for i in range(1, length):\n",
    "            if max_sum_right <= 0:\n",
    "                max_sum_right = nums[i]\n",
    "                #arr1 = [nums[i]]\n",
    "            else:\n",
    "                max_sum_right += nums[i]\n",
    "                #arr1 = arr1 + [nums[i]]\n",
    "            \n",
    "            if max_sum_right >= max_sum_all:\n",
    "                max_sum_all = max_sum_right\n",
    "                #arr0 = list(arr1)\n",
    "        \n",
    "        return max_sum_all\n",
    "                "
   ]
  },
  {
   "cell_type": "markdown",
   "metadata": {},
   "source": [
    "## Solution 2. O(n) Divide and Conquer (Can Use Parallel Computing to Speed Up)"
   ]
  },
  {
   "cell_type": "code",
   "execution_count": null,
   "metadata": {
    "collapsed": true
   },
   "outputs": [],
   "source": []
  }
 ],
 "metadata": {
  "kernelspec": {
   "display_name": "Python 2",
   "language": "python",
   "name": "python2"
  },
  "language_info": {
   "codemirror_mode": {
    "name": "ipython",
    "version": 2
   },
   "file_extension": ".py",
   "mimetype": "text/x-python",
   "name": "python",
   "nbconvert_exporter": "python",
   "pygments_lexer": "ipython2",
   "version": "2.7.13"
  }
 },
 "nbformat": 4,
 "nbformat_minor": 2
}

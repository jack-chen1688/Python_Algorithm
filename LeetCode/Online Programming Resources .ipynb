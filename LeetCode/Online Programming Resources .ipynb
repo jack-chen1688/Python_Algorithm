{
 "cells": [
  {
   "cell_type": "markdown",
   "metadata": {},
   "source": [
    "Topcoder\n",
    "LeetCode\n",
    "Project Euler\n",
    "Old Computer Science textbooks\n",
    "Programming Interviews Exposed\n",
    "Cracking the Coding Interview\n",
    "Programming Peals\n",
    "Quora\n",
    "Glassdoor\n",
    "CareerCup\n",
    "Interview Cake\n",
    "Facebook Code Lab\n",
    "HackerRank\n",
    "Pramp\n",
    "Google Code Jam"
   ]
  }
 ],
 "metadata": {
  "kernelspec": {
   "display_name": "Python 2",
   "language": "python",
   "name": "python2"
  },
  "language_info": {
   "codemirror_mode": {
    "name": "ipython",
    "version": 2
   },
   "file_extension": ".py",
   "mimetype": "text/x-python",
   "name": "python",
   "nbconvert_exporter": "python",
   "pygments_lexer": "ipython2",
   "version": "2.7.13"
  }
 },
 "nbformat": 4,
 "nbformat_minor": 2
}

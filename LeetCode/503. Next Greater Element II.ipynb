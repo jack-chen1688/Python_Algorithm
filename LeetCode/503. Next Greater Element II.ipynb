{
 "cells": [
  {
   "cell_type": "markdown",
   "metadata": {},
   "source": [
    "# 503. Next Greater Element II`"
   ]
  },
  {
   "cell_type": "markdown",
   "metadata": {},
   "source": [
    "Given a circular array (the next element of the last element is the first element of the array), print the Next \n",
    "Greater Number for every element. The Next Greater Number of a number x is the first greater number to its \n",
    "traversing-order next in the array, which means you could search circularly to find its next greater number. If it \n",
    "doesn't exist, output -1 for this number.\n",
    "\n",
    "Example 1:\n",
    "Input: [1,2,1]\n",
    "Output: [2,-1,2]\n",
    "Explanation: The first 1's next greater number is 2; \n",
    "The number 2 can't find next greater number; \n",
    "The second 1's next greater number needs to search circularly, which is also 2.\n",
    "Note: The length of given array won't exceed 10000.\n",
    "\n"
   ]
  },
  {
   "cell_type": "markdown",
   "metadata": {},
   "source": [
    "## Solution"
   ]
  },
  {
   "cell_type": "code",
   "execution_count": null,
   "metadata": {
    "collapsed": true
   },
   "outputs": [],
   "source": [
    "class Solution(object):\n",
    "    def nextGreaterElements(self, nums):\n",
    "        \"\"\"\n",
    "        :type nums: List[int]\n",
    "        :rtype: List[int]\n",
    "        \"\"\"\n",
    "        if nums != []:\n",
    "            n = len(nums)\n",
    "            max_num = max(nums)\n",
    "            x = nums * 2\n",
    "\n",
    "            res = [None]*(2*n)\n",
    "            lst = []\n",
    "            for i in xrange(n*2-1):\n",
    "                if x[i+1] > x[i]:\n",
    "                    res[i] = x[i+1]\n",
    "                    if lst != []:\n",
    "                        pos = bisect.bisect_right(lst, [-x[i+1], i+1])\n",
    "                        for val, index in lst[pos:]:\n",
    "                            res[index] = x[i+1]\n",
    "                        del lst[pos:]\n",
    "\n",
    "                    if x[i+1] == max_num and i+1 >= n:\n",
    "                        break;\n",
    "                else:\n",
    "                    if x[i] == max_num:\n",
    "                        res[i] = -1\n",
    "                    else:\n",
    "                        lst.append([-x[i], i])\n",
    "\n",
    "            return res[:n]\n",
    "        else:\n",
    "            return []"
   ]
  }
 ],
 "metadata": {
  "kernelspec": {
   "display_name": "Python 2",
   "language": "python",
   "name": "python2"
  },
  "language_info": {
   "codemirror_mode": {
    "name": "ipython",
    "version": 2
   },
   "file_extension": ".py",
   "mimetype": "text/x-python",
   "name": "python",
   "nbconvert_exporter": "python",
   "pygments_lexer": "ipython2",
   "version": "2.7.13"
  }
 },
 "nbformat": 4,
 "nbformat_minor": 2
}

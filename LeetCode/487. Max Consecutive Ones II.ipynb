{
 "cells": [
  {
   "cell_type": "markdown",
   "metadata": {},
   "source": [
    "# 487. Max Consecutive Ones II"
   ]
  },
  {
   "cell_type": "markdown",
   "metadata": {},
   "source": [
    "Given a binary array, find the maximum number of consecutive 1s in this array if you can flip at most one 0.\n",
    "\n",
    "Example 1:\n",
    "Input: [1,0,1,1,0]\n",
    "Output: 4\n",
    "Explanation: Flip the first zero will get the the maximum number of consecutive 1s.\n",
    "    After flipping, the maximum number of consecutive 1s is 4.\n",
    "Note:\n",
    "\n",
    "The input array will only contain 0 and 1.\n",
    "The length of input array is a positive integer and will not exceed 10,000\n",
    "Follow up:\n",
    "What if the input numbers come in one by one as an infinite stream? In other words, you can't store all numbers coming from the stream as it's too large to hold in memory. Could you solve it efficiently?"
   ]
  },
  {
   "cell_type": "markdown",
   "metadata": {},
   "source": [
    "## Solution"
   ]
  },
  {
   "cell_type": "code",
   "execution_count": null,
   "metadata": {
    "collapsed": true
   },
   "outputs": [],
   "source": [
    "class Solution(object):\n",
    "    def findMaxConsecutiveOnes(self, nums):\n",
    "        \"\"\"\n",
    "        :type nums: List[int]\n",
    "        :rtype: int\n",
    "        \"\"\"\n",
    "        prev_cnt = 0 \n",
    "        \n",
    "        for i, x in enumerate(nums):\n",
    "            if x == 1:\n",
    "                prev_cnt += 1\n",
    "            else:\n",
    "                break\n",
    "\n",
    "        if prev_cnt < len(nums):\n",
    "            # nums are not all ones. i is the first 0 position\n",
    "            pos = i + 1\n",
    "            ans = 0 \n",
    "            cur_cnt = 0\n",
    "            for i, x in enumerate(nums[pos:]):\n",
    "                if x == 1:\n",
    "                    cur_cnt += 1\n",
    "                else:\n",
    "                    #print prev_cnt, cur_cnt\n",
    "                    ans = max(prev_cnt + 1 + cur_cnt, ans)\n",
    "                    prev_cnt = cur_cnt\n",
    "                    cur_cnt = 0\n",
    "\n",
    "            #print prev_cnt, cur_cnt\n",
    "            ans = max(prev_cnt + 1 + cur_cnt, ans)\n",
    "            return ans\n",
    "        else:\n",
    "            return prev_cnt \n",
    "\n"
   ]
  }
 ],
 "metadata": {
  "kernelspec": {
   "display_name": "Python 2",
   "language": "python",
   "name": "python2"
  },
  "language_info": {
   "codemirror_mode": {
    "name": "ipython",
    "version": 2
   },
   "file_extension": ".py",
   "mimetype": "text/x-python",
   "name": "python",
   "nbconvert_exporter": "python",
   "pygments_lexer": "ipython2",
   "version": "2.7.13"
  }
 },
 "nbformat": 4,
 "nbformat_minor": 2
}

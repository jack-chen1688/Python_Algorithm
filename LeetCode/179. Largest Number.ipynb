{
 "cells": [
  {
   "cell_type": "markdown",
   "metadata": {},
   "source": [
    "# 179. Largest Number"
   ]
  },
  {
   "cell_type": "markdown",
   "metadata": {},
   "source": [
    "Given a list of non negative integers, arrange them such that they form the largest number.\n",
    "\n",
    "For example, given [3, 30, 34, 5, 9], the largest formed number is 9534330.\n",
    "\n",
    "Note: The result may be very large, so you need to return a string instead of an integer.\n",
    "\n",
    "Credits:\n",
    "Special thanks to @ts for adding this problem and creating all test cases."
   ]
  },
  {
   "cell_type": "markdown",
   "metadata": {},
   "source": [
    "## Solution 1."
   ]
  },
  {
   "cell_type": "code",
   "execution_count": null,
   "metadata": {
    "collapsed": true
   },
   "outputs": [],
   "source": [
    "class Solution:\n",
    "    # @param {integer[]} nums\n",
    "    # @return {string}\n",
    "    def largestNumber(self, nums):\n",
    "        from functools import cmp_to_key\n",
    "        \n",
    "        def comp(a, b):\n",
    "            lena, lenb = len(a), len(b)\n",
    "            if lena > lenb:\n",
    "                return -comp(b,a)\n",
    "            \n",
    "            for i in xrange(lena):\n",
    "                if a[i] < b[i]:\n",
    "                    return -1\n",
    "                elif a[i] > b[i]:\n",
    "                    return 1\n",
    "            \n",
    "            if lena == lenb:\n",
    "                return 0\n",
    "            else: \n",
    "                return comp(a, b[lena:])\n",
    "            \n",
    "        s = [str(num) for num in nums]\n",
    "        #s.sort(reverse=1, key=cmp_to_key(comp))\n",
    "        s.sort(reverse=1, cmp=comp)\n",
    "        if s.count('0') == len(s):\n",
    "            return \"0\"\n",
    "        else:\n",
    "            return \"\".join(s)"
   ]
  },
  {
   "cell_type": "markdown",
   "metadata": {},
   "source": [
    "## Solution 2. Minor Enhancement of Solution 1"
   ]
  },
  {
   "cell_type": "code",
   "execution_count": null,
   "metadata": {
    "collapsed": true
   },
   "outputs": [],
   "source": [
    "class Solution:\n",
    "    # @param {integer[]} nums\n",
    "    # @return {string}\n",
    "    def largestNumber(self, nums):\n",
    "        from functools import cmp_to_key\n",
    "        \n",
    "        def comp(a, b):   \n",
    "            if a+b > b+a:\n",
    "                return 1\n",
    "            elif a+b < b+a:\n",
    "                return -1\n",
    "            else:\n",
    "                return 0\n",
    "            \n",
    "        s = [str(num) for num in nums]\n",
    "        \n",
    "        s.sort(reverse=1, cmp=comp)\n",
    "        if s.count('0') == len(s):\n",
    "            return \"0\"\n",
    "        else:\n",
    "            return \"\".join(s)\n",
    "        "
   ]
  },
  {
   "cell_type": "markdown",
   "metadata": {},
   "source": [
    "## Solution 3.  Enhancement to use a new class to create a key"
   ]
  },
  {
   "cell_type": "code",
   "execution_count": null,
   "metadata": {},
   "outputs": [],
   "source": [
    "class LargerNum(str):\n",
    "    def __lt__(x, y):\n",
    "        return x+y < y+x\n",
    "    \n",
    "class Solution:\n",
    "    def largestNumber(self, nums: List[int]) -> str:\n",
    "        s = [str(x) for x in nums]\n",
    "        s.sort(reverse = True, key = LargerNum)\n",
    "        result = ''.join(s)\n",
    "        return '0' if result.count('0') == len(result) else result"
   ]
  }
 ],
 "metadata": {
  "kernelspec": {
   "display_name": "Python 3",
   "language": "python",
   "name": "python3"
  },
  "language_info": {
   "codemirror_mode": {
    "name": "ipython",
    "version": 3
   },
   "file_extension": ".py",
   "mimetype": "text/x-python",
   "name": "python",
   "nbconvert_exporter": "python",
   "pygments_lexer": "ipython3",
   "version": "3.7.3"
  }
 },
 "nbformat": 4,
 "nbformat_minor": 2
}

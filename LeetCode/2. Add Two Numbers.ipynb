{
 "cells": [
  {
   "cell_type": "markdown",
   "metadata": {},
   "source": [
    "# 2. Add Two Numbers"
   ]
  },
  {
   "cell_type": "markdown",
   "metadata": {},
   "source": [
    "You are given two non-empty linked lists representing two non-negative integers. The digits are stored in reverse order and each of their nodes contain a single digit. Add the two numbers and return it as a linked list.\n",
    "\n",
    "You may assume the two numbers do not contain any leading zero, except the number 0 itself.\n",
    "\n",
    "Input: (2 -> 4 -> 3) + (5 -> 6 -> 4)\n",
    "Output: 7 -> 0 -> 8"
   ]
  },
  {
   "cell_type": "markdown",
   "metadata": {},
   "source": [
    "## Solution"
   ]
  },
  {
   "cell_type": "code",
   "execution_count": null,
   "metadata": {
    "collapsed": true
   },
   "outputs": [],
   "source": [
    "# Definition for singly-linked list.\n",
    "# class ListNode(object):\n",
    "#     def __init__(self, x):\n",
    "#         self.val = x\n",
    "#         self.next = None\n",
    "\n",
    "class Solution(object):\n",
    "    def addTwoNumbers(self, l1, l2):\n",
    "        \"\"\"\n",
    "        :type l1: ListNode\n",
    "        :type l2: ListNode\n",
    "        :rtype: ListNode\n",
    "        \"\"\"\n",
    "        \n",
    "        l3 = None\n",
    "        l3_last = None\n",
    "        \n",
    "        carry = 0\n",
    "        \n",
    "        while l1 or l2: \n",
    "            node = ListNode(0)\n",
    "            \n",
    "            if l1:\n",
    "                node.val += l1.val\n",
    "                l1 = l1.next\n",
    "            if l2:\n",
    "                node.val += l2.val \n",
    "                l2 = l2.next\n",
    "             \n",
    "            node.val += carry\n",
    "        \n",
    "            if node.val >= 10:\n",
    "                node.val -= 10\n",
    "                carry = 1\n",
    "            else:\n",
    "                carry = 0\n",
    "            \n",
    "            if l3_last: \n",
    "                l3_last.next = node\n",
    "                l3_last = node\n",
    "            else:\n",
    "                l3 = node\n",
    "                l3_last = node\n",
    "            \n",
    "        if carry == 1:\n",
    "            node = ListNode(1)\n",
    "            l3_last.next = node\n",
    "            \n",
    "        return l3"
   ]
  }
 ],
 "metadata": {
  "kernelspec": {
   "display_name": "Python 2",
   "language": "python",
   "name": "python2"
  },
  "language_info": {
   "codemirror_mode": {
    "name": "ipython",
    "version": 2
   },
   "file_extension": ".py",
   "mimetype": "text/x-python",
   "name": "python",
   "nbconvert_exporter": "python",
   "pygments_lexer": "ipython2",
   "version": "2.7.13"
  }
 },
 "nbformat": 4,
 "nbformat_minor": 2
}

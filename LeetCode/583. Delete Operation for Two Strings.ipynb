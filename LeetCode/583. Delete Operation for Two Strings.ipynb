{
 "cells": [
  {
   "cell_type": "markdown",
   "metadata": {},
   "source": [
    "# 583. Delete Operation for Two Strings"
   ]
  },
  {
   "cell_type": "markdown",
   "metadata": {},
   "source": [
    "Given two words word1 and word2, find the minimum number of steps required to make word1 and word2 the same, where in each step you can delete one character in either string.\n",
    "\n",
    "Example 1:\n",
    "Input: \"sea\", \"eat\"\n",
    "Output: 2\n",
    "Explanation: You need one step to make \"sea\" to \"ea\" and another step to make \"eat\" to \"ea\".\n",
    "Note:\n",
    "The length of given words won't exceed 500.\n",
    "Characters in given words can only be lower-case letters."
   ]
  },
  {
   "cell_type": "markdown",
   "metadata": {},
   "source": [
    "## Solution 1. Recusrive DFS approach ( Time Exceeded)"
   ]
  },
  {
   "cell_type": "code",
   "execution_count": null,
   "metadata": {
    "collapsed": true
   },
   "outputs": [],
   "source": [
    "class Solution(object):\n",
    "    def minDistance(self, word1, word2):\n",
    "        \"\"\"\n",
    "        :type word1: str\n",
    "        :type word2: str\n",
    "        :rtype: int\n",
    "        \"\"\"\n",
    "        \"LCS\"\n",
    "        \n",
    "        #if not word1 or not word2:\n",
    "        #    return 0\n",
    "        \n",
    "        n = len(word1)\n",
    "        m = len(word2)\n",
    "        \n",
    "        A = [[None] * m for i in xrange(n)]\n",
    "        \n",
    "        def lcs(i, j):\n",
    "            if i == -1 or j == -1:\n",
    "                return 0\n",
    "\n",
    "            if A[i][j]:\n",
    "                return A[i][j]\n",
    "            else:\n",
    "                if word1[i] != word2[j]:\n",
    "                    return max(lcs(i-1, j), lcs(i, j-1))\n",
    "                else:\n",
    "                    return lcs(i-1, j-1) + 1\n",
    "        \n",
    "        cnt = lcs(len(word1)-1, len(word2)-1)\n",
    "        return len(word1) + len(word2) - cnt * 2"
   ]
  },
  {
   "cell_type": "markdown",
   "metadata": {},
   "source": [
    "## Solution 2. Dynamic Programming"
   ]
  },
  {
   "cell_type": "code",
   "execution_count": null,
   "metadata": {
    "collapsed": true
   },
   "outputs": [],
   "source": [
    "class Solution(object):\n",
    "    def minDistance(self, word1, word2):\n",
    "        \"\"\"\n",
    "        :type word1: str\n",
    "        :type word2: str\n",
    "        :rtype: int\n",
    "        \"\"\"\n",
    "        \"LCS\"\n",
    "        \n",
    "        #if not word1 or not word2:\n",
    "        #    return 0\n",
    "        \n",
    "        n = len(word1)\n",
    "        m = len(word2)\n",
    "        \n",
    "        A = [[0] * (m+1) for i in xrange(n+1)]\n",
    "        \n",
    "        for i in xrange(1,n+1):\n",
    "            for j in xrange(1, m+1):\n",
    "                if word1[i-1] == word2[j-1]:\n",
    "                    A[i][j] = A[i-1][j-1] + 1\n",
    "                else:\n",
    "                    A[i][j] = max(A[i-1][j], A[i][j-1])\n",
    "                \n",
    "        return len(word1) + len(word2) - A[n][m] * 2"
   ]
  }
 ],
 "metadata": {
  "kernelspec": {
   "display_name": "Python 2",
   "language": "python",
   "name": "python2"
  },
  "language_info": {
   "codemirror_mode": {
    "name": "ipython",
    "version": 2
   },
   "file_extension": ".py",
   "mimetype": "text/x-python",
   "name": "python",
   "nbconvert_exporter": "python",
   "pygments_lexer": "ipython2",
   "version": "2.7.13"
  }
 },
 "nbformat": 4,
 "nbformat_minor": 2
}

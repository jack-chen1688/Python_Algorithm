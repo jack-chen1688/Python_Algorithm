{
 "cells": [
  {
   "cell_type": "markdown",
   "metadata": {},
   "source": [
    "# 270. Closest Binary Search Tree Value"
   ]
  },
  {
   "cell_type": "markdown",
   "metadata": {},
   "source": [
    "Given a non-empty binary search tree and a target value, find the value in the BST that is closest to the target.\n",
    "\n",
    "Note:\n",
    "Given target value is a floating point.\n",
    "You are guaranteed to have only one unique value in the BST that is closest to the target."
   ]
  },
  {
   "cell_type": "markdown",
   "metadata": {},
   "source": [
    "## Solution"
   ]
  },
  {
   "cell_type": "code",
   "execution_count": null,
   "metadata": {
    "collapsed": true
   },
   "outputs": [],
   "source": [
    "# Definition for a binary tree node.\n",
    "# class TreeNode(object):\n",
    "#     def __init__(self, x):\n",
    "#         self.val = x\n",
    "#         self.left = None\n",
    "#         self.right = None\n",
    "\n",
    "class Solution(object):\n",
    "        \n",
    "    def closestValue(self, root, target):\n",
    "        \"\"\"\n",
    "        :type root: TreeNode\n",
    "        :type target: float\n",
    "        :rtype: int\n",
    "        \"\"\"\n",
    "        \n",
    "        mindist = float(\"inf\")\n",
    "        nodeval = None\n",
    "        node = root\n",
    "        \n",
    "        while node != None:\n",
    "            if node.val == target:\n",
    "                return node.val\n",
    "            else:\n",
    "                if abs(node.val - target) < mindist:\n",
    "                    mindist = abs(node.val - target)\n",
    "                    nodeval = node.val\n",
    "                \n",
    "                if node.val < target:\n",
    "                    node = node.right\n",
    "                else:\n",
    "                    node = node.left\n",
    "        \n",
    "        return nodeval\n"
   ]
  }
 ],
 "metadata": {
  "kernelspec": {
   "display_name": "Python 2",
   "language": "python",
   "name": "python2"
  },
  "language_info": {
   "codemirror_mode": {
    "name": "ipython",
    "version": 2
   },
   "file_extension": ".py",
   "mimetype": "text/x-python",
   "name": "python",
   "nbconvert_exporter": "python",
   "pygments_lexer": "ipython2",
   "version": "2.7.13"
  }
 },
 "nbformat": 4,
 "nbformat_minor": 2
}

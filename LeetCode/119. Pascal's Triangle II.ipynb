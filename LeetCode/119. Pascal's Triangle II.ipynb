{
 "cells": [
  {
   "cell_type": "markdown",
   "metadata": {},
   "source": [
    "# 119. Pascal's Triangle II"
   ]
  },
  {
   "cell_type": "markdown",
   "metadata": {},
   "source": [
    "Given an index k, return the kth row of the Pascal's triangle.\n",
    "\n",
    "For example, given k = 3,\n",
    "Return [1,3,3,1].\n",
    "\n",
    "Note:\n",
    "Could you optimize your algorithm to use only O(k) extra space?"
   ]
  },
  {
   "cell_type": "markdown",
   "metadata": {},
   "source": [
    "## Solution. Based on Combination Formula of C(n, k)"
   ]
  },
  {
   "cell_type": "code",
   "execution_count": 1,
   "metadata": {},
   "outputs": [
    {
     "name": "stdout",
     "output_type": "stream",
     "text": [
      "[1, 3, 3, 1]\n",
      "[1, 10, 45, 120, 210, 252, 210, 120, 45, 10, 1]\n"
     ]
    }
   ],
   "source": [
    "class Solution(object):\n",
    "    def getRow(self, rowIndex):\n",
    "        \"\"\"\n",
    "        :type rowIndex: int\n",
    "        :rtype: List[int]\n",
    "        \"\"\"\n",
    "\n",
    "        if rowIndex == 0:\n",
    "            return [1]\n",
    "        \n",
    "        #if rowIndex == 1:\n",
    "        #    return [1, 1]\n",
    "        \n",
    "        l = [1]\n",
    "        for i in range(rowIndex/2):\n",
    "            multiplier = rowIndex - i\n",
    "            dividend = i + 1\n",
    "            l.append(l[i]*multiplier/dividend)\n",
    "        \n",
    "        return l + l[:(rowIndex + 1)/2][::-1]\n",
    "    \n",
    "def main():\n",
    "    print Solution().getRow(3)\n",
    "    print Solution().getRow(10)\n",
    "\n",
    "if __name__ == \"__main__\":\n",
    "    main()"
   ]
  }
 ],
 "metadata": {
  "kernelspec": {
   "display_name": "Python 2",
   "language": "python",
   "name": "python2"
  },
  "language_info": {
   "codemirror_mode": {
    "name": "ipython",
    "version": 2
   },
   "file_extension": ".py",
   "mimetype": "text/x-python",
   "name": "python",
   "nbconvert_exporter": "python",
   "pygments_lexer": "ipython2",
   "version": "2.7.13"
  }
 },
 "nbformat": 4,
 "nbformat_minor": 2
}

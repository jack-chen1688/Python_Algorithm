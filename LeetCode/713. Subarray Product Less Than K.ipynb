{
 "cells": [
  {
   "cell_type": "markdown",
   "metadata": {},
   "source": [
    "# 713. Subarray Product Less Than K"
   ]
  },
  {
   "cell_type": "markdown",
   "metadata": {},
   "source": [
    "Your are given an array of positive integers nums.\n",
    "\n",
    "Count and print the number of (contiguous) subarrays where the product of all the elements in the subarray is less \n",
    "than k.\n",
    "\n",
    "Example 1:\n",
    "Input: nums = [10, 5, 2, 6], k = 100\n",
    "Output: 8\n",
    "Explanation: The 8 subarrays that have product less than 100 are: [10], [5], [2], [6], [10, 5], [5, 2], [2, 6], [5, 2, 6].\n",
    "Note that [10, 5, 2] is not included as the product of 100 is not strictly less than k.\n",
    "Note:\n",
    "\n",
    "0 < nums.length <= 50000.\n",
    "0 < nums[i] < 1000.\n",
    "0 <= k < 10^6."
   ]
  },
  {
   "cell_type": "markdown",
   "metadata": {},
   "source": [
    "## Solution 1. Time Exceeded"
   ]
  },
  {
   "cell_type": "code",
   "execution_count": null,
   "metadata": {
    "collapsed": true
   },
   "outputs": [],
   "source": [
    "class Solution(object):\n",
    "    def numSubarrayProductLessThanK(self, nums, k):\n",
    "        \"\"\"\n",
    "        :type nums: List[int]\n",
    "        :type k: int\n",
    "        :rtype: int\n",
    "        \"\"\"\n",
    "        \n",
    "        n = len(nums)\n",
    "\n",
    "        lsts = []\n",
    "        cnt = 0\n",
    "        for i, num in enumerate(nums):\n",
    "            if num < k:\n",
    "                cnt += 1\n",
    "                lsts.append([i,num])                 \n",
    "        #1 1 1 1 1\n",
    "        #1 2 3 4 5 \n",
    "        #1x2, 2x3, 3x4, 4x5\n",
    "        #1x2x3, 2x3x4, 3x4x5\n",
    "        for step in xrange(1, n):\n",
    "            lsts1 = []\n",
    "            for x,y in lsts:\n",
    "                if x + step < n:\n",
    "                    num = y * nums[x+step]\n",
    "                    if num < k:\n",
    "                        cnt += 1\n",
    "                        lsts1.append([x,num])\n",
    "            lsts = lsts1\n",
    "            \n",
    "            if lsts1 == []:\n",
    "                break\n",
    "            #print cnt, lst\n",
    "        return cnt"
   ]
  },
  {
   "cell_type": "markdown",
   "metadata": {},
   "source": [
    "## Solution 2."
   ]
  },
  {
   "cell_type": "code",
   "execution_count": null,
   "metadata": {
    "collapsed": true
   },
   "outputs": [],
   "source": [
    "class Solution(object):\n",
    "    def numSubarrayProductLessThanK(self, nums, k):\n",
    "        \"\"\"\n",
    "        :type nums: List[int]\n",
    "        :type k: int\n",
    "        :rtype: int\n",
    "        \"\"\"\n",
    "        n = len(nums)\n",
    "        \n",
    "        lst = [0]\n",
    "        p = 0\n",
    "        for i in xrange(n):\n",
    "            if nums[i] < k:\n",
    "                if lst[-1] <= 1:\n",
    "                    cnt = 1\n",
    "                    p = nums[i]\n",
    "                    for j in xrange(i+1, n):\n",
    "                        p *= nums[j]\n",
    "                        if p < k:\n",
    "                            cnt += 1\n",
    "                        else:\n",
    "                            break            \n",
    "                    lst.append(cnt)\n",
    "                else:\n",
    "                    if p < k:\n",
    "                        lst.append(lst[-1] - 1)\n",
    "                    else:\n",
    "                        p = p / nums[i-1] / nums[i + cnt-1]\n",
    "                        cnt = lst[-1]-1\n",
    "                        for j in xrange(i+cnt, n):\n",
    "                            p *= nums[j]\n",
    "                            if p < k:\n",
    "                                cnt += 1\n",
    "                            else: \n",
    "                                break\n",
    "                        lst.append(cnt)\n",
    "\n",
    "            else:\n",
    "                lst.append(0)\n",
    "\n",
    "        return sum(lst)  "
   ]
  }
 ],
 "metadata": {
  "kernelspec": {
   "display_name": "Python 2",
   "language": "python",
   "name": "python2"
  },
  "language_info": {
   "codemirror_mode": {
    "name": "ipython",
    "version": 2
   },
   "file_extension": ".py",
   "mimetype": "text/x-python",
   "name": "python",
   "nbconvert_exporter": "python",
   "pygments_lexer": "ipython2",
   "version": "2.7.13"
  }
 },
 "nbformat": 4,
 "nbformat_minor": 2
}

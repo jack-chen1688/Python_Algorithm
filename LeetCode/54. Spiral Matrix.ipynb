{
 "cells": [
  {
   "cell_type": "markdown",
   "metadata": {},
   "source": [
    "# 54. Spiral Matrix"
   ]
  },
  {
   "cell_type": "markdown",
   "metadata": {},
   "source": [
    "Given a matrix of m x n elements (m rows, n columns), return all elements of the matrix in spiral order.\n",
    "\n",
    "For example,\n",
    "Given the following matrix:\n",
    "\n",
    "[\n",
    " [ 1, 2, 3 ],\n",
    " [ 4, 5, 6 ],\n",
    " [ 7, 8, 9 ]\n",
    "]\n",
    "You should return [1,2,3,6,9,8,7,4,5]."
   ]
  },
  {
   "cell_type": "markdown",
   "metadata": {},
   "source": [
    "## Solution"
   ]
  },
  {
   "cell_type": "code",
   "execution_count": null,
   "metadata": {
    "collapsed": true
   },
   "outputs": [],
   "source": [
    "class Solution(object):\n",
    "    def spiralOrder(self, matrix):\n",
    "        \"\"\"\n",
    "        :type matrix: List[List[int]]\n",
    "        :rtype: List[int]\n",
    "        \"\"\"\n",
    "\n",
    "        lst = []\n",
    "        \n",
    "        m = len(matrix)\n",
    "        if m > 0:\n",
    "            n = len(matrix[0])\n",
    "\n",
    "            def spiral(matrix, x0, y0, x1, y1):\n",
    "                for i in xrange(y0, y1+1):\n",
    "                    lst.append(matrix[x0][i])\n",
    "                for i in xrange(x0+1, x1+1):\n",
    "                    lst.append(matrix[i][y1])\n",
    "                    \n",
    "                if x1 > x0:\n",
    "                    for i in xrange(y1-1, y0-1, -1):\n",
    "                        lst.append(matrix[x1][i])\n",
    "                if y1 > y0:        \n",
    "                    for i in xrange(x1-1, x0, -1):\n",
    "                        lst.append(matrix[i][y0])\n",
    "\n",
    "            x0, y0, x1, y1 = 0, 0, m-1, n-1\n",
    "\n",
    "            while x0 <= x1 and y0 <= y1:\n",
    "                spiral(matrix, x0, y0, x1, y1)\n",
    "                x0+=1\n",
    "                y0+=1\n",
    "                x1-=1\n",
    "                y1-=1\n",
    "\n",
    "            return lst\n",
    "        else:\n",
    "            return lst"
   ]
  }
 ],
 "metadata": {
  "kernelspec": {
   "display_name": "Python 2",
   "language": "python",
   "name": "python2"
  },
  "language_info": {
   "codemirror_mode": {
    "name": "ipython",
    "version": 2
   },
   "file_extension": ".py",
   "mimetype": "text/x-python",
   "name": "python",
   "nbconvert_exporter": "python",
   "pygments_lexer": "ipython2",
   "version": "2.7.13"
  }
 },
 "nbformat": 4,
 "nbformat_minor": 2
}

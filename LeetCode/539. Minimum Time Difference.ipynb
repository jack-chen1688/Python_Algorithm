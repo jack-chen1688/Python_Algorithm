{
 "cells": [
  {
   "cell_type": "markdown",
   "metadata": {},
   "source": [
    "# 539. Minimum Time Difference"
   ]
  },
  {
   "cell_type": "markdown",
   "metadata": {},
   "source": [
    "Given a list of 24-hour clock time points in \"Hour:Minutes\" format, find the minimum minutes difference between any two time points in the list.\n",
    "\n",
    "Example 1:\n",
    "Input: [\"23:59\",\"00:00\"]\n",
    "Output: 1\n",
    "Note:\n",
    "The number of time points in the given list is at least 2 and won't exceed 20000.\n",
    "The input time is legal and ranges from 00:00 to 23:59.\n"
   ]
  },
  {
   "cell_type": "markdown",
   "metadata": {},
   "source": [
    "## Solution"
   ]
  },
  {
   "cell_type": "code",
   "execution_count": null,
   "metadata": {
    "collapsed": true
   },
   "outputs": [],
   "source": [
    "class Solution(object):\n",
    "    def findMinDifference(self, timePoints):\n",
    "        \"\"\"\n",
    "        :type timePoints: List[str]\n",
    "        :rtype: int\n",
    "        \"\"\"\n",
    "        \n",
    "        min_lst = []\n",
    "        for timePoint in timePoints:\n",
    "            hour, minute = timePoint.split(':')\n",
    "            min_lst.append(int(hour) * 60 + int(minute))\n",
    "        \n",
    "        min_lst.sort()\n",
    "        min_lst.append(min_lst[0] + 24 * 60)\n",
    "        \n",
    "        min_diff = float(\"inf\")\n",
    "        for i in xrange(len(min_lst)-1):\n",
    "            min_diff = min(min_lst[i+1] - min_lst[i], min_diff)\n",
    "            \n",
    "        return min_diff\n",
    "            "
   ]
  }
 ],
 "metadata": {
  "kernelspec": {
   "display_name": "Python 2",
   "language": "python",
   "name": "python2"
  },
  "language_info": {
   "codemirror_mode": {
    "name": "ipython",
    "version": 2
   },
   "file_extension": ".py",
   "mimetype": "text/x-python",
   "name": "python",
   "nbconvert_exporter": "python",
   "pygments_lexer": "ipython2",
   "version": "2.7.13"
  }
 },
 "nbformat": 4,
 "nbformat_minor": 2
}

{
 "cells": [
  {
   "cell_type": "markdown",
   "metadata": {},
   "source": [
    "# 686. Repeated String Match"
   ]
  },
  {
   "cell_type": "markdown",
   "metadata": {},
   "source": [
    "Given two strings A and B, find the minimum number of times A has to be repeated such that B is a substring of it. \n",
    "If no such solution, return -1.\n",
    "\n",
    "For example, with A = \"abcd\" and B = \"cdabcdab\".\n",
    "\n",
    "Return 3, because by repeating A three times (“abcdabcdabcd”), B is a substring of it; and B is not a substring of \n",
    "A repeated two times (\"abcdabcd\").\n",
    "\n",
    "Note:\n",
    "The length of A and B will be between 1 and 10000."
   ]
  },
  {
   "cell_type": "markdown",
   "metadata": {},
   "source": [
    "## Solution"
   ]
  },
  {
   "cell_type": "code",
   "execution_count": null,
   "metadata": {
    "collapsed": true
   },
   "outputs": [],
   "source": [
    "class Solution(object):\n",
    "    def repeatedStringMatch(self, A, B):\n",
    "        \"\"\"\n",
    "        :type A: str\n",
    "        :type B: str\n",
    "        :rtype: int\n",
    "        \"\"\"\n",
    "        \n",
    "        if A.startswith(B):\n",
    "            return 1\n",
    "        \n",
    "        n0 = len(A)\n",
    "        n1 = len(B)\n",
    "        match_pos = None\n",
    "        for x in xrange(n0):\n",
    "            pattern = A[x:] + A[:x]\n",
    "            \n",
    "            if n1 > n0:\n",
    "                if B.startswith(pattern):\n",
    "                    match_pos = x\n",
    "                    break\n",
    "            else:\n",
    "                if pattern.startswith(B):\n",
    "                    return 2\n",
    "\n",
    "        if match_pos == None:\n",
    "            return -1\n",
    "        \n",
    "        ans = (n1 + match_pos + n0 -1)/n0 \n",
    "        A1 = A * ans\n",
    "        if A1[match_pos:].startswith(B):\n",
    "            return ans\n",
    "        else:\n",
    "            return -1"
   ]
  }
 ],
 "metadata": {
  "kernelspec": {
   "display_name": "Python 2",
   "language": "python",
   "name": "python2"
  },
  "language_info": {
   "codemirror_mode": {
    "name": "ipython",
    "version": 2
   },
   "file_extension": ".py",
   "mimetype": "text/x-python",
   "name": "python",
   "nbconvert_exporter": "python",
   "pygments_lexer": "ipython2",
   "version": "2.7.13"
  }
 },
 "nbformat": 4,
 "nbformat_minor": 2
}

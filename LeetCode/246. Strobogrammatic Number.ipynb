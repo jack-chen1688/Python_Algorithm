{
 "cells": [
  {
   "cell_type": "markdown",
   "metadata": {},
   "source": [
    "# 246. Strobogrammatic Number"
   ]
  },
  {
   "cell_type": "markdown",
   "metadata": {},
   "source": [
    "A strobogrammatic number is a number that looks the same when rotated 180 degrees (looked at upside down).\n",
    "\n",
    "Write a function to determine if a number is strobogrammatic. The number is represented as a string.\n",
    "\n",
    "For example, the numbers \"69\", \"88\", and \"818\" are all strobogrammatic."
   ]
  },
  {
   "cell_type": "markdown",
   "metadata": {},
   "source": [
    "## Solution 1."
   ]
  },
  {
   "cell_type": "code",
   "execution_count": null,
   "metadata": {
    "collapsed": true
   },
   "outputs": [],
   "source": [
    "class Solution(object):\n",
    "    def isStrobogrammatic(self, num):\n",
    "        \"\"\"\n",
    "        :type num: str\n",
    "        :rtype: bool\n",
    "        \"\"\"\n",
    "        \n",
    "        s = str(num)\n",
    "        n = len(s)\n",
    "        \n",
    "        dict = {x:y for x,y in zip('01869', '01896')}\n",
    "        \n",
    "        if n & 1 and s[n/2] not in \"018\":\n",
    "            return False\n",
    "            \n",
    "        for i in xrange(n/2):\n",
    "            if s[i] not in dict:\n",
    "                return False\n",
    "            if s[~i] != dict[s[i]]:\n",
    "                return False\n",
    "            \n",
    "        return True"
   ]
  },
  {
   "cell_type": "markdown",
   "metadata": {},
   "source": [
    "## Solution 2. Faster for Smaller Input Number"
   ]
  },
  {
   "cell_type": "code",
   "execution_count": null,
   "metadata": {
    "collapsed": true
   },
   "outputs": [],
   "source": [
    "class Solution(object):\n",
    "    def isStrobogrammatic(self, num):\n",
    "        \"\"\"\n",
    "        :type num: str\n",
    "        :rtype: bool\n",
    "        \"\"\"\n",
    "        \n",
    "        s = str(num)\n",
    "        n = len(s)\n",
    "        \n",
    "        dict = {x:y for x,y in zip('01869', '01896')}\n",
    "            \n",
    "        for i in xrange(n):\n",
    "            if s[i] not in dict:\n",
    "                return False\n",
    "            if s[~i] != dict[s[i]]:\n",
    "                return False\n",
    "            \n",
    "        return True"
   ]
  }
 ],
 "metadata": {
  "kernelspec": {
   "display_name": "Python 2",
   "language": "python",
   "name": "python2"
  },
  "language_info": {
   "codemirror_mode": {
    "name": "ipython",
    "version": 2
   },
   "file_extension": ".py",
   "mimetype": "text/x-python",
   "name": "python",
   "nbconvert_exporter": "python",
   "pygments_lexer": "ipython2",
   "version": "2.7.13"
  }
 },
 "nbformat": 4,
 "nbformat_minor": 2
}

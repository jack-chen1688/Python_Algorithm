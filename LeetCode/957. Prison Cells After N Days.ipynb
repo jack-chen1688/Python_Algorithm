{
 "cells": [
  {
   "cell_type": "markdown",
   "metadata": {},
   "source": [
    "# 957. Prison Cells After N Days"
   ]
  },
  {
   "cell_type": "markdown",
   "metadata": {},
   "source": [
    "There are 8 prison cells in a row, and each cell is either occupied or vacant.\n",
    "\n",
    "Each day, whether the cell is occupied or vacant changes according to the following rules:\n",
    "\n",
    "If a cell has two adjacent neighbors that are both occupied or both vacant, then the cell becomes occupied.\n",
    "Otherwise, it becomes vacant.\n",
    "(Note that because the prison is a row, the first and the last cells in the row can't have two adjacent neighbors.)\n",
    "\n",
    "We describe the current state of the prison in the following way: cells[i] == 1 if the i-th cell is occupied, else cells[i] == 0.\n",
    "\n",
    "Given the initial state of the prison, return the state of the prison after N days (and N such changes described above.)\n",
    "\n",
    " \n",
    "\n",
    "Example 1:\n",
    "\n",
    "Input: cells = [0,1,0,1,1,0,0,1], N = 7\n",
    "Output: [0,0,1,1,0,0,0,0]\n",
    "Explanation: \n",
    "The following table summarizes the state of the prison on each day:\n",
    "Day 0: [0, 1, 0, 1, 1, 0, 0, 1]\n",
    "Day 1: [0, 1, 1, 0, 0, 0, 0, 0]\n",
    "Day 2: [0, 0, 0, 0, 1, 1, 1, 0]\n",
    "Day 3: [0, 1, 1, 0, 0, 1, 0, 0]\n",
    "Day 4: [0, 0, 0, 0, 0, 1, 0, 0]\n",
    "Day 5: [0, 1, 1, 1, 0, 1, 0, 0]\n",
    "Day 6: [0, 0, 1, 0, 1, 1, 0, 0]\n",
    "Day 7: [0, 0, 1, 1, 0, 0, 0, 0]\n",
    "\n",
    "Example 2:\n",
    "\n",
    "Input: cells = [1,0,0,1,0,0,1,0], N = 1000000000\n",
    "Output: [0,0,1,1,1,1,1,0]\n",
    " \n",
    "\n",
    "Note:\n",
    "\n",
    "cells.length == 8\n",
    "cells[i] is in {0, 1}\n",
    "1 <= N <= 10^9"
   ]
  },
  {
   "cell_type": "markdown",
   "metadata": {},
   "source": [
    "## Solution 1."
   ]
  },
  {
   "cell_type": "code",
   "execution_count": null,
   "metadata": {},
   "outputs": [],
   "source": [
    "class Solution:\n",
    "    def prisonAfterNDays(self, cells, N):\n",
    "        \"\"\"\n",
    "        :type cells: List[int]\n",
    "        :type N: int\n",
    "        :rtype: List[int]\n",
    "        \"\"\"\n",
    "        \n",
    "        cell_state = tuple(cells)\n",
    "        state_dict = {}\n",
    "        \n",
    "        def get_next_state(cell_state):\n",
    "            next_state = [0] * 8\n",
    "            \n",
    "            for i in range(1, 7):\n",
    "                if cell_state[i-1] ^ cell_state[i+1] == 0:\n",
    "                    next_state[i] = 1\n",
    "            \n",
    "            return tuple(next_state)\n",
    "        \n",
    "        states = []\n",
    "        start = -1\n",
    "        for i in range(N):\n",
    "            if cell_state in state_dict:\n",
    "                start = state_dict[cell_state]\n",
    "                break\n",
    "            else:\n",
    "                states.append(cell_state)\n",
    "                state_dict[cell_state] = i\n",
    "                \n",
    "            cell_state = get_next_state(cell_state)\n",
    "    \n",
    "        if start >= 0: \n",
    "            cycle = states[start:]\n",
    "            #start -> cycle[0]\n",
    "            length = len(cycle)\n",
    "            return cycle[(N-start) % length]\n",
    "        else:\n",
    "            return cell_state"
   ]
  }
 ],
 "metadata": {
  "kernelspec": {
   "display_name": "Python 3",
   "language": "python",
   "name": "python3"
  },
  "language_info": {
   "codemirror_mode": {
    "name": "ipython",
    "version": 3
   },
   "file_extension": ".py",
   "mimetype": "text/x-python",
   "name": "python",
   "nbconvert_exporter": "python",
   "pygments_lexer": "ipython3",
   "version": "3.7.1"
  }
 },
 "nbformat": 4,
 "nbformat_minor": 2
}

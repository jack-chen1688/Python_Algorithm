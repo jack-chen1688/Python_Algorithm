{
 "cells": [
  {
   "cell_type": "markdown",
   "metadata": {},
   "source": [
    "# 544. Output Contest Matches"
   ]
  },
  {
   "cell_type": "markdown",
   "metadata": {},
   "source": [
    "During the NBA playoffs, we always arrange the rather strong team to play with the rather weak team, like make the rank 1 team play with the rank nth team, which is a good strategy to make the contest more interesting. Now, you're given n teams, you need to output their final contest matches in the form of a string.\n",
    "\n",
    "The n teams are given in the form of positive integers from 1 to n, which represents their initial rank. (Rank 1 is the strongest team and Rank n is the weakest team.) We'll use parentheses('(', ')') and commas(',') to represent the contest team pairing - parentheses('(' , ')') for pairing and commas(',') for partition. During the pairing process in each round, you always need to follow the strategy of making the rather strong one pair with the rather weak one.\n",
    "\n",
    "Example 1:\n",
    "Input: 2\n",
    "Output: (1,2)\n",
    "Explanation: \n",
    "Initially, we have the team 1 and the team 2, placed like: 1,2.\n",
    "Then we pair the team (1,2) together with '(', ')' and ',', which is the final answer.\n",
    "Example 2:\n",
    "Input: 4\n",
    "Output: ((1,4),(2,3))\n",
    "Explanation: \n",
    "In the first round, we pair the team 1 and 4, the team 2 and 3 together, as we need to make the strong team and weak team together.\n",
    "And we got (1,4),(2,3).\n",
    "In the second round, the winners of (1,4) and (2,3) need to play again to generate the final winner, so you need to add the paratheses outside them.\n",
    "And we got the final answer ((1,4),(2,3)).\n",
    "Example 3:\n",
    "Input: 8\n",
    "Output: (((1,8),(4,5)),((2,7),(3,6)))\n",
    "Explanation: \n",
    "First round: (1,8),(2,7),(3,6),(4,5)\n",
    "Second round: ((1,8),(4,5)),((2,7),(3,6))\n",
    "Third round: (((1,8),(4,5)),((2,7),(3,6)))\n",
    "Since the third round will generate the final winner, you need to output the answer (((1,8),(4,5)),((2,7),(3,6))).\n",
    "Note:\n",
    "The n is in range [2, 212].\n",
    "We ensure that the input n can be converted into the form 2k, where k is a positive integer.\n"
   ]
  },
  {
   "cell_type": "markdown",
   "metadata": {},
   "source": [
    "## Solution"
   ]
  },
  {
   "cell_type": "code",
   "execution_count": null,
   "metadata": {
    "collapsed": true
   },
   "outputs": [],
   "source": [
    "class Solution(object):\n",
    "    def findContestMatch(self, n):\n",
    "        \"\"\"\n",
    "        :type n: int\n",
    "        :rtype: str\n",
    "        \"\"\"\n",
    "        lst0 = [str(i) for i in xrange(1,n+1)]\n",
    "        \n",
    "        while n >= 2:\n",
    "            lst1 = []\n",
    "            for i in xrange(n/2):\n",
    "                lst1.append(\"(\" + lst0[i] + \",\" + lst0[~i] + \")\")\n",
    "            n = n/2\n",
    "            lst0 = lst1 \n",
    "        \n",
    "        return lst0[0]"
   ]
  }
 ],
 "metadata": {
  "kernelspec": {
   "display_name": "Python 2",
   "language": "python",
   "name": "python2"
  },
  "language_info": {
   "codemirror_mode": {
    "name": "ipython",
    "version": 2
   },
   "file_extension": ".py",
   "mimetype": "text/x-python",
   "name": "python",
   "nbconvert_exporter": "python",
   "pygments_lexer": "ipython2",
   "version": "2.7.13"
  }
 },
 "nbformat": 4,
 "nbformat_minor": 2
}

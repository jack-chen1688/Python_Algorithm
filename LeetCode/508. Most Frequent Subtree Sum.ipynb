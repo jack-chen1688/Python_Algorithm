{
 "cells": [
  {
   "cell_type": "markdown",
   "metadata": {},
   "source": [
    "# 508. Most Frequent Subtree Sum"
   ]
  },
  {
   "cell_type": "markdown",
   "metadata": {},
   "source": [
    "Given the root of a tree, you are asked to find the most frequent subtree sum. The subtree sum of a node is defined as the sum of all the node values formed by the subtree rooted at that node (including the node itself). So what is the most frequent subtree sum value? If there is a tie, return all the values with the highest frequency in any order.\n",
    "\n",
    "Examples 1\n",
    "Input:\n",
    "\n",
    "  5\n",
    " /  \\\n",
    "2   -3\n",
    "return [2, -3, 4], since all the values happen only once, return all of them in any order.\n",
    "Examples 2\n",
    "Input:\n",
    "\n",
    "  5\n",
    " /  \\\n",
    "2   -5\n",
    "return [2], since 2 happens twice, however -5 only occur once.\n",
    "Note: You may assume the sum of values in any subtree is in the range of 32-bit signed integer."
   ]
  },
  {
   "cell_type": "markdown",
   "metadata": {},
   "source": [
    "## Solution"
   ]
  },
  {
   "cell_type": "code",
   "execution_count": null,
   "metadata": {
    "collapsed": true
   },
   "outputs": [],
   "source": [
    "# Definition for a binary tree node.\n",
    "# class TreeNode(object):\n",
    "#     def __init__(self, x):\n",
    "#         self.val = x\n",
    "#         self.left = None\n",
    "#         self.right = None\n",
    "\n",
    "class Solution(object):\n",
    "    \n",
    "    def __init__(self):\n",
    "        self.max_cnt = float(\"-inf\")\n",
    "    \n",
    "    def findFrequentTreeSum(self, root):\n",
    "        \"\"\"\n",
    "        :type root: TreeNode\n",
    "        :rtype: List[int]\n",
    "        \"\"\"\n",
    "        \n",
    "        dict = {}\n",
    "        \n",
    "        def dfs(root):\n",
    "            \n",
    "            if root!=None:\n",
    "                left_sum = dfs(root.left)\n",
    "                right_sum = dfs(root.right)\n",
    "                tot = left_sum + right_sum + root.val\n",
    "                dict[tot] = dict.get(tot, 0) + 1\n",
    "                self.max_cnt = max(dict[tot], self.max_cnt)\n",
    "                return tot\n",
    "            else:\n",
    "                return 0\n",
    "        \n",
    "        dfs(root)\n",
    "        \n",
    "        return [x[0] for x in dict.iteritems() if x[1] == self.max_cnt]`"
   ]
  }
 ],
 "metadata": {
  "kernelspec": {
   "display_name": "Python 2",
   "language": "python",
   "name": "python2"
  },
  "language_info": {
   "codemirror_mode": {
    "name": "ipython",
    "version": 2
   },
   "file_extension": ".py",
   "mimetype": "text/x-python",
   "name": "python",
   "nbconvert_exporter": "python",
   "pygments_lexer": "ipython2",
   "version": "2.7.13"
  }
 },
 "nbformat": 4,
 "nbformat_minor": 2
}

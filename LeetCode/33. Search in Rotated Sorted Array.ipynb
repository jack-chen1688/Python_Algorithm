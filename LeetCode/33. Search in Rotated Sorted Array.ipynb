{
 "cells": [
  {
   "cell_type": "markdown",
   "metadata": {},
   "source": [
    "# 33. Search in Rotated Sorted Array"
   ]
  },
  {
   "cell_type": "markdown",
   "metadata": {},
   "source": [
    "\n",
    "Suppose an array sorted in ascending order is rotated at some pivot unknown to you beforehand.\n",
    "\n",
    "(i.e., 0 1 2 4 5 6 7 might become 4 5 6 7 0 1 2).\n",
    "\n",
    "You are given a target value to search. If found in the array return its index, otherwise return -1.\n",
    "\n",
    "You may assume no duplicate exists in the array.\n",
    "\n"
   ]
  },
  {
   "cell_type": "markdown",
   "metadata": {},
   "source": [
    "## Solution. Binary Search Approach with Time Complexity of O(log(n))"
   ]
  },
  {
   "cell_type": "code",
   "execution_count": null,
   "metadata": {
    "collapsed": true
   },
   "outputs": [],
   "source": [
    "class Solution(object):\n",
    "    def search(self, nums, target):\n",
    "        \"\"\"\n",
    "        :type nums: List[int]\n",
    "        :type target: int\n",
    "        :rtype: int\n",
    "        \"\"\"\n",
    "\n",
    "        def find_pivot(nums):\n",
    "            lo = 0\n",
    "            hi = len(nums)-1\n",
    "            \n",
    "            while lo <= hi:\n",
    "                mid = (lo + hi)/2\n",
    "                # NOTE: use >= instead of > for special case of len(nums) = 2\n",
    "                if nums[mid] >= nums[0]:\n",
    "                    lo = mid + 1\n",
    "                else:\n",
    "                    hi = mid - 1\n",
    "                    \n",
    "            return lo\n",
    "        \n",
    "        if nums:\n",
    "            pivot = find_pivot(nums)\n",
    "            \n",
    "            if target > nums[0]:\n",
    "                index = bisect.bisect_left(nums[:pivot], target)\n",
    "                return index if index < pivot and nums[index] == target else -1 \n",
    "            elif target < nums[0]:\n",
    "                index = bisect.bisect_left(nums[pivot:], target) + pivot\n",
    "                return index if index < len(nums) and nums[index] == target else -1\n",
    "            else:\n",
    "                return 0\n",
    "        else: \n",
    "            return -1\n",
    "                    "
   ]
  }
 ],
 "metadata": {
  "kernelspec": {
   "display_name": "Python 2",
   "language": "python",
   "name": "python2"
  },
  "language_info": {
   "codemirror_mode": {
    "name": "ipython",
    "version": 2
   },
   "file_extension": ".py",
   "mimetype": "text/x-python",
   "name": "python",
   "nbconvert_exporter": "python",
   "pygments_lexer": "ipython2",
   "version": "2.7.13"
  }
 },
 "nbformat": 4,
 "nbformat_minor": 2
}

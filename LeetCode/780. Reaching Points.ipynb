{
 "cells": [
  {
   "cell_type": "markdown",
   "metadata": {},
   "source": [
    "# 780. Reaching Points"
   ]
  },
  {
   "cell_type": "markdown",
   "metadata": {},
   "source": [
    "A move consists of taking a point (x, y) and transforming it to either (x, x+y) or (x+y, y).\n",
    "\n",
    "Given a starting point (sx, sy) and a target point (tx, ty), return True if and only if a sequence of moves exists to transform the point (sx, sy) to (tx, ty). Otherwise, return False.\n",
    "\n",
    "Examples:\n",
    "Input: sx = 1, sy = 1, tx = 3, ty = 5\n",
    "Output: True\n",
    "Explanation:\n",
    "One series of moves that transforms the starting point to the target is:\n",
    "(1, 1) -> (1, 2)\n",
    "(1, 2) -> (3, 2)\n",
    "(3, 2) -> (3, 5)\n",
    "\n",
    "Input: sx = 1, sy = 1, tx = 2, ty = 2\n",
    "Output: False\n",
    "\n",
    "Input: sx = 1, sy = 1, tx = 1, ty = 1\n",
    "Output: True\n",
    "\n",
    "Note:\n",
    "\n",
    "sx, sy, tx, ty will all be integers in the range [1, 10^9]."
   ]
  },
  {
   "cell_type": "markdown",
   "metadata": {},
   "source": [
    "## Solution 1. "
   ]
  },
  {
   "cell_type": "code",
   "execution_count": null,
   "metadata": {
    "collapsed": true
   },
   "outputs": [],
   "source": [
    "class Solution(object):\n",
    "    def reachingPoints(self, sx, sy, tx, ty):\n",
    "        \"\"\"\n",
    "        :type sx: int\n",
    "        :type sy: int\n",
    "        :type tx: int\n",
    "        :type ty: int\n",
    "        :rtype: bool\n",
    "        \"\"\"\n",
    "        \n",
    "    \n",
    "        if sx > tx or sy > ty:\n",
    "            return False\n",
    "        \n",
    "        while sx <=tx and sy <= ty:\n",
    "            \n",
    "            print tx, ty\n",
    "            \n",
    "            if tx == sx: \n",
    "                #2,3 -> 2,7 \n",
    "                # ty = sy + k*sx\n",
    "                return (ty - sy) % sx == 0\n",
    "            elif ty == sy:\n",
    "                #3,2 -> 7, 2\n",
    "                # tx = sx + k*sy\n",
    "                return (tx -sx) % sy == 0\n",
    "            elif tx > ty:\n",
    "                if sx < ty:\n",
    "                    tx = tx % ty\n",
    "                else:\n",
    "                    #sx + k*ty = tx\n",
    "                    #sx, sy-> sx, ty\n",
    "                    #ty = sy + k*sx\n",
    "\n",
    "                    return (tx - sx) % ty == 0 and (ty - sy) % sx == 0\n",
    "            else:\n",
    "                #x', x'+y' = tx, ty\n",
    "                #x', y' = tx, ty - tx\n",
    "                if sy < tx:\n",
    "                    ty = ty % tx \n",
    "                else:\n",
    "                    #sy + k*tx = ty\n",
    "                    #sx, sy -> tx, sy\n",
    "                    #tx = sx + k * sy\n",
    "                    return (ty - sy) % tx == 0 and (tx - sx) % sy == 0\n",
    "\n",
    "        \n",
    "        return False"
   ]
  }
 ],
 "metadata": {
  "kernelspec": {
   "display_name": "Python 2",
   "language": "python",
   "name": "python2"
  },
  "language_info": {
   "codemirror_mode": {
    "name": "ipython",
    "version": 2
   },
   "file_extension": ".py",
   "mimetype": "text/x-python",
   "name": "python",
   "nbconvert_exporter": "python",
   "pygments_lexer": "ipython2",
   "version": "2.7.13"
  }
 },
 "nbformat": 4,
 "nbformat_minor": 2
}

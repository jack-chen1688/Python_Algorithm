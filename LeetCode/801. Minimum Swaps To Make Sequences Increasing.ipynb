{
 "cells": [
  {
   "cell_type": "markdown",
   "metadata": {},
   "source": [
    "# 801. Minimum Swaps To Make Sequences Increasing"
   ]
  },
  {
   "cell_type": "code",
   "execution_count": null,
   "metadata": {
    "collapsed": true
   },
   "outputs": [],
   "source": [
    "We have two integer sequences A and B of the same non-zero length.\n",
    "\n",
    "We are allowed to swap elements A[i] and B[i].  Note that both elements are in the same index position in their respective sequences.\n",
    "\n",
    "At the end of some number of swaps, A and B are both strictly increasing.  (A sequence is strictly increasing if and only if A[0] < A[1] < A[2] < ... < A[A.length - 1].)\n",
    "\n",
    "Given A and B, return the minimum number of swaps to make both sequences strictly increasing.  It is guaranteed that the given input always makes it possible.\n",
    "\n",
    "Example:\n",
    "Input: A = [1,3,5,4], B = [1,2,3,7]\n",
    "Output: 1\n",
    "Explanation: \n",
    "Swap A[3] and B[3].  Then the sequences are:\n",
    "A = [1, 3, 5, 7] and B = [1, 2, 3, 4]\n",
    "which are both strictly increasing.\n",
    "Note:\n",
    "\n",
    "A, B are arrays with the same length, and that length will be in the range [1, 1000].\n",
    "A[i], B[i] are integer values in the range [0, 2000].\n",
    "\n"
   ]
  },
  {
   "cell_type": "markdown",
   "metadata": {},
   "source": [
    "## Solution. O(n) Time Complexity"
   ]
  },
  {
   "cell_type": "code",
   "execution_count": null,
   "metadata": {
    "collapsed": true
   },
   "outputs": [],
   "source": [
    "class Solution(object):\n",
    "    def minSwap(self, A, B):\n",
    "        \"\"\"\n",
    "        :type A: List[int]\n",
    "        :type B: List[int]\n",
    "        :rtype: int\n",
    "        \"\"\"\n",
    "\n",
    "        n = len(A)\n",
    "        \n",
    "        if A[0] != B[0]:\n",
    "            x,y = 0, 1\n",
    "        else:\n",
    "            x,y = 0, 0\n",
    "            \n",
    "        for i in xrange(1,n):\n",
    "            if A[i] == B[i]:\n",
    "                x,y = min(x,y), min(x,y)\n",
    "            else:\n",
    "                if A[i] > max(A[i-1], B[i-1]) and B[i] > max(A[i-1], B[i-1]):\n",
    "                    x, y = min(x,y), min(x,y) + 1\n",
    "                else:\n",
    "                    if A[i] > A[i-1] and B[i] > B[i-1]:\n",
    "                        x, y = x, y+1\n",
    "                    else:\n",
    "                        x, y = y, x+1\n",
    "                      \n",
    "        return min(x,y)"
   ]
  }
 ],
 "metadata": {
  "kernelspec": {
   "display_name": "Python 2",
   "language": "python",
   "name": "python2"
  },
  "language_info": {
   "codemirror_mode": {
    "name": "ipython",
    "version": 2
   },
   "file_extension": ".py",
   "mimetype": "text/x-python",
   "name": "python",
   "nbconvert_exporter": "python",
   "pygments_lexer": "ipython2",
   "version": "2.7.13"
  }
 },
 "nbformat": 4,
 "nbformat_minor": 2
}

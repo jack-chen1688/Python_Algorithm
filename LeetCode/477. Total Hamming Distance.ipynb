{
 "cells": [
  {
   "cell_type": "markdown",
   "metadata": {},
   "source": [
    "# 477. Total Hamming Distance"
   ]
  },
  {
   "cell_type": "markdown",
   "metadata": {},
   "source": [
    "The Hamming distance between two integers is the number of positions at which the corresponding bits are different.\n",
    "\n",
    "Now your job is to find the total Hamming distance between all pairs of the given numbers.\n",
    "\n",
    "Example:\n",
    "Input: 4, 14, 2\n",
    "\n",
    "Output: 6\n",
    "\n",
    "Explanation: In binary representation, the 4 is 0100, 14 is 1110, and 2 is 0010 (just\n",
    "showing the four bits relevant in this case). So the answer will be:\n",
    "HammingDistance(4, 14) + HammingDistance(4, 2) + HammingDistance(14, 2) = 2 + 2 + 2 = 6.\n",
    "Note:\n",
    "Elements of the given array are in the range of 0 to 10^9\n",
    "Length of the array will not exceed 10^4.\n"
   ]
  },
  {
   "cell_type": "markdown",
   "metadata": {},
   "source": [
    "## Solution 1. Brutal Force Approach with Time Complexity of O(n<sup>2</sup>)"
   ]
  },
  {
   "cell_type": "code",
   "execution_count": null,
   "metadata": {
    "collapsed": true
   },
   "outputs": [],
   "source": [
    "class Solution(object):\n",
    "    def totalHammingDistance(self, nums):\n",
    "        \"\"\"\n",
    "        :type nums: List[int]\n",
    "        :rtype: int\n",
    "        \"\"\"\n",
    "        \n",
    "        lsts = list(itertools.combinations(nums, 2))\n",
    "        \n",
    "        cnt = 0\n",
    "        for lst in lsts:\n",
    "            cnt += bin(lst[0] ^ lst[1]).count('1')\n",
    "            \n",
    "        return cnt\n",
    "        "
   ]
  },
  {
   "cell_type": "markdown",
   "metadata": {},
   "source": [
    "## Solution 2. Counting Ones Approach with Time Complexity of O(nk) for K-bit Intergers"
   ]
  },
  {
   "cell_type": "code",
   "execution_count": null,
   "metadata": {
    "collapsed": true
   },
   "outputs": [],
   "source": [
    "class Solution(object):\n",
    "    def totalHammingDistance(self, nums):\n",
    "        \"\"\"\n",
    "        :type nums: List[int]\n",
    "        :rtype: int\n",
    "        \"\"\"\n",
    "        n = len(nums)\n",
    "        \n",
    "        ans = 0\n",
    "        for i in xrange(31):\n",
    "            cnt = 0\n",
    "            for num in nums:\n",
    "                cnt += (num >> i) & 1\n",
    "            ans += cnt * (n-cnt)\n",
    "        return ans"
   ]
  },
  {
   "cell_type": "markdown",
   "metadata": {},
   "source": [
    "## Solution 3. Approach 2 + Divide and Conquer (Beat 100%)"
   ]
  },
  {
   "cell_type": "markdown",
   "metadata": {},
   "source": [
    "Given the condition that the length of the array will not exceed 10^4, which is less than 0x1000, we can do count two bits at a time and add them up. We can count number of ones in bit 0 and bit 16, then bit 1 and bit 17, ...., bit 15 and bit 31. The counts for the two positions will be stored at lower and higher 16 bits respectively."
   ]
  },
  {
   "cell_type": "code",
   "execution_count": null,
   "metadata": {
    "collapsed": true
   },
   "outputs": [],
   "source": [
    "class Solution(object):\n",
    "    def totalHammingDistance(self, nums):\n",
    "        \"\"\"\n",
    "        :type nums: List[int]\n",
    "        :rtype: int\n",
    "        \"\"\"\n",
    "        n = len(nums)\n",
    "        \n",
    "        ans = 0\n",
    "        for i in xrange(16):\n",
    "            cnt = 0\n",
    "            for num in nums:\n",
    "                cnt += (num >> i) & 0x10001\n",
    "            \n",
    "            cnt0, cnt1 = cnt & 0xFFFF, cnt >> 16\n",
    "            ans += cnt0 * (n - cnt0) + cnt1 * (n - cnt1)\n",
    "            \n",
    "        return ans"
   ]
  }
 ],
 "metadata": {
  "kernelspec": {
   "display_name": "Python 2",
   "language": "python",
   "name": "python2"
  },
  "language_info": {
   "codemirror_mode": {
    "name": "ipython",
    "version": 2
   },
   "file_extension": ".py",
   "mimetype": "text/x-python",
   "name": "python",
   "nbconvert_exporter": "python",
   "pygments_lexer": "ipython2",
   "version": "2.7.13"
  }
 },
 "nbformat": 4,
 "nbformat_minor": 2
}

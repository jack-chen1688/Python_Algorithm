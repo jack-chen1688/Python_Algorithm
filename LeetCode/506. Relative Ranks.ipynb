{
 "cells": [
  {
   "cell_type": "markdown",
   "metadata": {},
   "source": [
    "# 506. Relative Ranks"
   ]
  },
  {
   "cell_type": "markdown",
   "metadata": {},
   "source": [
    "\n",
    "Given scores of N athletes, find their relative ranks and the people with the top three highest scores, who will be awarded medals: \"Gold Medal\", \"Silver Medal\" and \"Bronze Medal\".\n",
    "\n",
    "Example 1:\n",
    "Input: [5, 4, 3, 2, 1]\n",
    "Output: [\"Gold Medal\", \"Silver Medal\", \"Bronze Medal\", \"4\", \"5\"]\n",
    "Explanation: The first three athletes got the top three highest scores, so they got \"Gold Medal\", \"Silver Medal\" and \"Bronze Medal\". \n",
    "For the left two athletes, you just need to output their relative ranks according to their scores.\n",
    "Note:\n",
    "N is a positive integer and won't exceed 10,000.\n",
    "All the scores of athletes are guaranteed to be unique.\n"
   ]
  },
  {
   "cell_type": "markdown",
   "metadata": {},
   "source": [
    "## Solution"
   ]
  },
  {
   "cell_type": "code",
   "execution_count": null,
   "metadata": {
    "collapsed": true
   },
   "outputs": [],
   "source": [
    "class Solution(object):\n",
    "    def findRelativeRanks(self, nums):\n",
    "        \"\"\"\n",
    "        :type nums: List[int]\n",
    "        :rtype: List[str]\n",
    "        \"\"\"\n",
    "    \n",
    "        n = len(nums)\n",
    "        #lst = sorted([[x,i] for i, x in enumerate(nums)])[::-1] or\n",
    "        lst = sorted([[x,i] for i, x in enumerate(nums)], reverse=True)\n",
    "        \n",
    "        res = [''] * n\n",
    "        \n",
    "        \n",
    "        if len(nums) >= 1:\n",
    "            res[lst[0][1]] = \"Gold Medal\"\n",
    "        \n",
    "        if len(nums) >= 2:\n",
    "            res[lst[1][1]] = \"Silver Medal\"\n",
    "        \n",
    "        if len(nums) >= 3:\n",
    "            res[lst[2][1]] = \"Bronze Medal\"\n",
    "        \n",
    "        for rank, info in enumerate(lst[3:]):\n",
    "            res[info[1]] =  str(rank + 4)\n",
    "    \n",
    "        return res"
   ]
  }
 ],
 "metadata": {
  "kernelspec": {
   "display_name": "Python 2",
   "language": "python",
   "name": "python2"
  },
  "language_info": {
   "codemirror_mode": {
    "name": "ipython",
    "version": 2
   },
   "file_extension": ".py",
   "mimetype": "text/x-python",
   "name": "python",
   "nbconvert_exporter": "python",
   "pygments_lexer": "ipython2",
   "version": "2.7.13"
  }
 },
 "nbformat": 4,
 "nbformat_minor": 2
}

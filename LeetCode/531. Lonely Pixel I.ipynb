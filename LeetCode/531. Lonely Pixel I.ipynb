{
 "cells": [
  {
   "cell_type": "markdown",
   "metadata": {},
   "source": [
    "# 531. Lonely Pixel I"
   ]
  },
  {
   "cell_type": "markdown",
   "metadata": {},
   "source": [
    "Given a picture consisting of black and white pixels, find the number of black lonely pixels.\n",
    "\n",
    "The picture is represented by a 2D char array consisting of 'B' and 'W', which means black and white pixels respectively.\n",
    "\n",
    "A black lonely pixel is character 'B' that located at a specific position where the same row and same column don't have any other black pixels.\n",
    "\n",
    "Example:\n",
    "Input: \n",
    "[['W', 'W', 'B'],\n",
    " ['W', 'B', 'W'],\n",
    " ['B', 'W', 'W']]\n",
    "\n",
    "Output: 3\n",
    "Explanation: All the three 'B's are black lonely pixels.\n",
    "Note:\n",
    "The range of width and height of the input 2D array is [1,500]."
   ]
  },
  {
   "cell_type": "markdown",
   "metadata": {},
   "source": [
    "## Solution. Fastest (Beat 100%) Using A Dictionary"
   ]
  },
  {
   "cell_type": "code",
   "execution_count": null,
   "metadata": {
    "collapsed": true
   },
   "outputs": [],
   "source": [
    "class Solution(object):\n",
    "    def findLonelyPixel(self, picture):\n",
    "        \"\"\"\n",
    "        :type picture: List[List[str]]\n",
    "        :rtype: int\n",
    "        \"\"\"\n",
    "        dict = {}\n",
    "        for i, row in enumerate(picture):\n",
    "            cnt = 0\n",
    "            for j, ch in enumerate(row):\n",
    "                if (ch=='B'):                    \n",
    "                    cnt += 1\n",
    "                    if cnt == 1:\n",
    "                        pos = j  \n",
    "                    if j in dict:\n",
    "                        cnt = 2\n",
    "                        dict[j] += 1                     \n",
    "                      \n",
    "            if cnt == 1:\n",
    "                if pos in dict:\n",
    "                    dict[pos] += 1\n",
    "                else:\n",
    "                    dict[pos] = 1\n",
    "        \n",
    "        cnt = 0\n",
    "        for key, val in dict.iteritems():\n",
    "            if val == 1:\n",
    "                cnt+=1\n",
    "        \n",
    "        return cnt"
   ]
  }
 ],
 "metadata": {
  "kernelspec": {
   "display_name": "Python 2",
   "language": "python",
   "name": "python2"
  },
  "language_info": {
   "codemirror_mode": {
    "name": "ipython",
    "version": 2
   },
   "file_extension": ".py",
   "mimetype": "text/x-python",
   "name": "python",
   "nbconvert_exporter": "python",
   "pygments_lexer": "ipython2",
   "version": "2.7.13"
  }
 },
 "nbformat": 4,
 "nbformat_minor": 2
}

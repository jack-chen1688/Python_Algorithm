{
 "cells": [
  {
   "cell_type": "markdown",
   "metadata": {},
   "source": [
    "# 387. First Unique Character in a String"
   ]
  },
  {
   "cell_type": "markdown",
   "metadata": {},
   "source": [
    "\n",
    "Given a string, find the first non-repeating character in it and return it's index. If it doesn't exist, return -1.\n",
    "\n",
    "Examples:\n",
    "\n",
    "s = \"leetcode\"\n",
    "return 0.\n",
    "\n",
    "s = \"loveleetcode\",\n",
    "return 2.\n",
    "Note: You may assume the string contain only lowercase letters."
   ]
  },
  {
   "cell_type": "markdown",
   "metadata": {},
   "source": [
    "## Solution 1. Use OrderedDict "
   ]
  },
  {
   "cell_type": "markdown",
   "metadata": {},
   "source": [
    "OrderedDict operatioin could be slow. So this solution is a bit slow."
   ]
  },
  {
   "cell_type": "code",
   "execution_count": null,
   "metadata": {
    "collapsed": true
   },
   "outputs": [],
   "source": [
    "class Solution(object):\n",
    "    def firstUniqChar(self, s):\n",
    "        \"\"\"\n",
    "        :type s: str\n",
    "        :rtype: int\n",
    "        \"\"\"\n",
    "        from collections import OrderedDict\n",
    "        # By default, OrderedDict uses the order when entries were added.\n",
    "        dict = OrderedDict()\n",
    "        \n",
    "        for i, ch in enumerate(s):\n",
    "            dict.setdefault(ch, [i,0])[1]+= 1\n",
    "            \n",
    "        #print dict.keys()\n",
    "        \n",
    "        for i, (key, val) in enumerate(dict.iteritems()):\n",
    "            if val[1] == 1:\n",
    "                return val[0]\n",
    "    \n",
    "        return -1"
   ]
  },
  {
   "cell_type": "markdown",
   "metadata": {},
   "source": [
    "## Solution 2. "
   ]
  },
  {
   "cell_type": "code",
   "execution_count": null,
   "metadata": {
    "collapsed": true
   },
   "outputs": [],
   "source": [
    "class Solution(object):\n",
    "    def firstUniqChar(self, s):\n",
    "        \"\"\"\n",
    "        :type s: str\n",
    "        :rtype: int\n",
    "        \"\"\"\n",
    "        n = len(s)\n",
    "        if n == 0:\n",
    "            return -1\n",
    "        \n",
    "        dict = {}\n",
    "        for i, ch in enumerate(s):\n",
    "            if ch in dict:\n",
    "                dict[ch] = n\n",
    "            else:\n",
    "                dict[ch] = i\n",
    "        \n",
    "        res = min(dict.values()) \n",
    "        if res < n:\n",
    "            return res\n",
    "        else:\n",
    "            return -1"
   ]
  },
  {
   "cell_type": "markdown",
   "metadata": {},
   "source": [
    "## Solution 3. A Faster Variant of Solution 2 "
   ]
  },
  {
   "cell_type": "code",
   "execution_count": null,
   "metadata": {
    "collapsed": true
   },
   "outputs": [],
   "source": [
    "class Solution(object):\n",
    "    def firstUniqChar(self, s):\n",
    "        \"\"\"\n",
    "        :type s: str\n",
    "        :rtype: int\n",
    "        \"\"\"\n",
    "        n = len(s)\n",
    "        if n == 0:\n",
    "            return -1\n",
    "        \n",
    "        repeat = set()\n",
    "        dict = {}\n",
    "        for i, ch in enumerate(s):\n",
    "            if ch in dict:\n",
    "                del dict[ch]\n",
    "                repeat.add(ch)\n",
    "            elif ch not in repeat:\n",
    "                dict[ch] = i\n",
    "        \n",
    "        if dict == {}:\n",
    "            return -1 \n",
    "        \n",
    "        return min(dict.values()) "
   ]
  }
 ],
 "metadata": {
  "kernelspec": {
   "display_name": "Python 2",
   "language": "python",
   "name": "python2"
  },
  "language_info": {
   "codemirror_mode": {
    "name": "ipython",
    "version": 2
   },
   "file_extension": ".py",
   "mimetype": "text/x-python",
   "name": "python",
   "nbconvert_exporter": "python",
   "pygments_lexer": "ipython2",
   "version": "2.7.13"
  }
 },
 "nbformat": 4,
 "nbformat_minor": 2
}

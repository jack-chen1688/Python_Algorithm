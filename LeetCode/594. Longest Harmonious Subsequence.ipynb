{
 "cells": [
  {
   "cell_type": "markdown",
   "metadata": {},
   "source": [
    "# 594. Longest Harmonious Subsequence"
   ]
  },
  {
   "cell_type": "markdown",
   "metadata": {},
   "source": [
    "We define a harmonious array is an array where the difference between its maximum value and its minimum value is exactly 1.\n",
    "\n",
    "Now, given an integer array, you need to find the length of its longest harmonious subsequence among all its possible subsequences.\n",
    "\n",
    "Example 1:\n",
    "Input: [1,3,2,2,5,2,3,7]\n",
    "Output: 5\n",
    "Explanation: The longest harmonious subsequence is [3,2,2,2,3].\n",
    "Note: The length of the input array will not exceed 20,000."
   ]
  },
  {
   "cell_type": "markdown",
   "metadata": {},
   "source": [
    "## Solution 1. O(nlg(n)) Using Binary Search"
   ]
  },
  {
   "cell_type": "code",
   "execution_count": null,
   "metadata": {
    "collapsed": true
   },
   "outputs": [],
   "source": [
    "class Solution(object):\n",
    "    def findLHS(self, nums):\n",
    "        \"\"\"\n",
    "        :type nums: List[int]\n",
    "        :rtype: int\n",
    "        \"\"\"\n",
    "        nums.sort()\n",
    "        max_count = 0\n",
    "        start = 0\n",
    "        \n",
    "        while start < len(nums):\n",
    "            base = nums[start]\n",
    "            pos = bisect.bisect_right(nums, base + 1)\n",
    "            count = pos - start\n",
    "            \n",
    "            if nums[pos-1] == base + 1:\n",
    "                if max_count < count:\n",
    "                    max_count = count\n",
    "                    \n",
    "                start = bisect.bisect_left(nums, base + 1)\n",
    "            else:\n",
    "                start = pos\n",
    "        \n",
    "        return max_count"
   ]
  },
  {
   "cell_type": "markdown",
   "metadata": {},
   "source": [
    "## Solution 2. O(n) Using HashTable"
   ]
  },
  {
   "cell_type": "code",
   "execution_count": null,
   "metadata": {
    "collapsed": true
   },
   "outputs": [],
   "source": [
    "class Solution(object):\n",
    "    def findLHS(self, nums):\n",
    "        \"\"\"\n",
    "        :type nums: List[int]\n",
    "        :rtype: int\n",
    "        \"\"\"\n",
    "        dict = {}\n",
    "        \n",
    "        for num in nums:\n",
    "            dict[num] = dict.setdefault(num, 0) + 1\n",
    "        \n",
    "        max_count = 0\n",
    "        for key in dict.keys():\n",
    "            if key+1 in dict:\n",
    "                count = dict[key] + dict[key+1]\n",
    "                if max_count < count:\n",
    "                    max_count = count\n",
    "        \n",
    "        return max_count\n",
    "            "
   ]
  }
 ],
 "metadata": {
  "kernelspec": {
   "display_name": "Python 2",
   "language": "python",
   "name": "python2"
  },
  "language_info": {
   "codemirror_mode": {
    "name": "ipython",
    "version": 2
   },
   "file_extension": ".py",
   "mimetype": "text/x-python",
   "name": "python",
   "nbconvert_exporter": "python",
   "pygments_lexer": "ipython2",
   "version": "2.7.13"
  }
 },
 "nbformat": 4,
 "nbformat_minor": 2
}

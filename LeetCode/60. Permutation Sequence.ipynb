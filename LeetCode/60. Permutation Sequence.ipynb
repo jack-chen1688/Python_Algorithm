{
 "cells": [
  {
   "cell_type": "markdown",
   "metadata": {},
   "source": [
    "# 60. Permutation Sequence"
   ]
  },
  {
   "cell_type": "code",
   "execution_count": null,
   "metadata": {
    "collapsed": true
   },
   "outputs": [],
   "source": [
    "The set [1,2,3,…,n] contains a total of n! unique permutations.\n",
    "\n",
    "By listing and labeling all of the permutations in order,\n",
    "We get the following sequence (ie, for n = 3):\n",
    "\n",
    "\"123\"\n",
    "\"132\"\n",
    "\"213\"\n",
    "\"231\"\n",
    "\"312\"\n",
    "\"321\"\n",
    "Given n and k, return the kth permutation sequence.\n",
    "\n",
    "Note: Given n will be between 1 and 9 inclusive."
   ]
  },
  {
   "cell_type": "markdown",
   "metadata": {},
   "source": [
    "## Solution"
   ]
  },
  {
   "cell_type": "code",
   "execution_count": null,
   "metadata": {
    "collapsed": true
   },
   "outputs": [],
   "source": [
    "class Solution(object):\n",
    "    def getPermutation(self, n, k):\n",
    "        \"\"\"\n",
    "        :type n: int\n",
    "        :type k: int\n",
    "        :rtype: str\n",
    "        \"\"\"\n",
    "        \"\"\"\n",
    "        # 3 2 5 1 4\n",
    "        # 2*4! + 3! + 2* 2! + 1! + 0 \n",
    "        # 2*24 + 6 + 4 + 1 = 48 + 10 + 1 = 59\n",
    "        \"\"\"\n",
    "        \n",
    "        l = range(1, n+1)\n",
    "        #print \"l\", l\n",
    "        if k == 1:\n",
    "            result = \"\"\n",
    "            for item in l:\n",
    "                result += str(item)   \n",
    "            return result\n",
    "        \n",
    "        X = 1\n",
    "        m = 1\n",
    "        dividends =[]\n",
    "        while X <= k:\n",
    "            dividends.append(X)\n",
    "            m += 1\n",
    "            X *= m\n",
    "        \n",
    "        X = k\n",
    "        shifts = []\n",
    "        for div in dividends[::-1]:\n",
    "            shift = X/div\n",
    "            shifts.append(shift)\n",
    "            X = X%div\n",
    "            if X == 0:\n",
    "                break\n",
    "        \n",
    "        if m > n+1:\n",
    "            raise ValueError(\"Wrong Input\")\n",
    "            \n",
    "        if m == n+1:\n",
    "            if len(shifts) == 1:\n",
    "                l = sorted(l, reverse=1)\n",
    "            else:\n",
    "                raise ValueError(\"Wrong Input\")\n",
    "        else:\n",
    "            # change l[start:]\n",
    "\n",
    "            length = len(shifts)\n",
    "            start = n-m\n",
    "            l1 = l[start:]\n",
    "\n",
    "\n",
    "            for i in range(length - 1):\n",
    "                temp = l1[i]\n",
    "                l1[i] = l1[i+shifts[i]]\n",
    "                l1[i+shifts[i]] = temp\n",
    "                l1[i+1:] = sorted(l1[i+1:])\n",
    "\n",
    "            i = length -1\n",
    "            temp = l1[i]\n",
    "            l1[i] = l1[i+shifts[i] - 1]\n",
    "            l1[i + shifts[i] - 1] = temp\n",
    "            l1[i+1:] = sorted(l1[i+1:], reverse = 1)\n",
    "\n",
    "            l[start::] = l1\n",
    "        \n",
    "        result = \"\"\n",
    "        for item in l:\n",
    "            result += str(item)            \n",
    "        \n",
    "        return result\n",
    "            "
   ]
  }
 ],
 "metadata": {
  "kernelspec": {
   "display_name": "Python 2",
   "language": "python",
   "name": "python2"
  },
  "language_info": {
   "codemirror_mode": {
    "name": "ipython",
    "version": 2
   },
   "file_extension": ".py",
   "mimetype": "text/x-python",
   "name": "python",
   "nbconvert_exporter": "python",
   "pygments_lexer": "ipython2",
   "version": "2.7.13"
  }
 },
 "nbformat": 4,
 "nbformat_minor": 2
}

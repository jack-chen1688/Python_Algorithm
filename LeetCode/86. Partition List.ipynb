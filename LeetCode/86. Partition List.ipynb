{
 "cells": [
  {
   "cell_type": "markdown",
   "metadata": {},
   "source": [
    "# 86. Partition List"
   ]
  },
  {
   "cell_type": "markdown",
   "metadata": {},
   "source": [
    "Given a linked list and a value x, partition it such that all nodes less than x come before nodes greater than or \n",
    "equal to x.\n",
    "\n",
    "You should preserve the original relative order of the nodes in each of the two partitions.\n",
    "\n",
    "For example,\n",
    "Given 1->4->3->2->5->2 and x = 3,\n",
    "return 1->2->2->4->3->5.\n",
    "\n"
   ]
  },
  {
   "cell_type": "markdown",
   "metadata": {},
   "source": [
    "## Solution"
   ]
  },
  {
   "cell_type": "code",
   "execution_count": null,
   "metadata": {
    "collapsed": true
   },
   "outputs": [],
   "source": [
    "# Definition for singly-linked list.\n",
    "# class ListNode(object):\n",
    "#     def __init__(self, x):\n",
    "#         self.val = x\n",
    "#         self.next = None\n",
    "\n",
    "class Solution(object):\n",
    "    def partition(self, head, x):\n",
    "        \"\"\"\n",
    "        :type head: ListNode\n",
    "        :type x: int\n",
    "        :rtype: ListNode\n",
    "        \"\"\"\n",
    "        dummyHead = ListNode(0)\n",
    "        dummyHead.next = head\n",
    "        dummyHead1 = ListNode(0)\n",
    "        tail1 = dummyHead1\n",
    "        \n",
    "        prev, node = dummyHead, head\n",
    "        connect = None\n",
    "        while node:\n",
    "            if node.val < x and connect:\n",
    "                tail1.next = node\n",
    "                tail1 = node\n",
    "                node = node.next\n",
    "                prev.next = node\n",
    "            else:\n",
    "                if node.val >= x and not connect:\n",
    "                    connect = prev\n",
    "            \n",
    "                prev, node = node, node.next\n",
    "        \n",
    "        if tail1 != dummyHead1:\n",
    "            tail1.next = connect.next\n",
    "            connect.next = dummyHead1.next\n",
    "        \n",
    "        return dummyHead.next"
   ]
  }
 ],
 "metadata": {
  "kernelspec": {
   "display_name": "Python 2",
   "language": "python",
   "name": "python2"
  },
  "language_info": {
   "codemirror_mode": {
    "name": "ipython",
    "version": 2
   },
   "file_extension": ".py",
   "mimetype": "text/x-python",
   "name": "python",
   "nbconvert_exporter": "python",
   "pygments_lexer": "ipython2",
   "version": "2.7.13"
  }
 },
 "nbformat": 4,
 "nbformat_minor": 2
}

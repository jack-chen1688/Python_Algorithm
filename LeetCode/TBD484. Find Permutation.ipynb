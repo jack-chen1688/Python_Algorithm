{
 "cells": [
  {
   "cell_type": "markdown",
   "metadata": {},
   "source": [
    "# 484. Find Permutation"
   ]
  },
  {
   "cell_type": "markdown",
   "metadata": {},
   "source": [
    "By now, you are given a secret signature consisting of character 'D' and 'I'. 'D' represents a decreasing relationship between two numbers, 'I' represents an increasing relationship between two numbers. And our secret signature was constructed by a special integer array, which contains uniquely all the different number from 1 to n (n is the length of the secret signature plus 1). For example, the secret signature \"DI\" can be constructed by array [2,1,3] or [3,1,2], but won't be constructed by array [3,2,4] or [2,1,3,4], which are both illegal constructing special string that can't represent the \"DI\" secret signature.\n",
    "\n",
    "On the other hand, now your job is to find the lexicographically smallest permutation of [1, 2, ... n] could refer to the given secret signature in the input.\n",
    "\n",
    "Example 1:\n",
    "Input: \"I\"\n",
    "Output: [1,2]\n",
    "Explanation: [1,2] is the only legal initial spectial string can construct secret signature \"I\", where the number 1 and 2 construct an increasing relationship.\n",
    "Example 2:\n",
    "Input: \"DI\"\n",
    "Output: [2,1,3]\n",
    "Explanation: Both [2,1,3] and [3,1,2] can construct the secret signature \"DI\", \n",
    "but since we want to find the one with the smallest lexicographical permutation, you need to output [2,1,3]\n",
    "Note:\n",
    "\n",
    "The input string will only contain the character 'D' and 'I'.\n",
    "The length of input string is a positive integer and will not exceed 10,000"
   ]
  },
  {
   "cell_type": "markdown",
   "metadata": {},
   "source": [
    "## Solution"
   ]
  },
  {
   "cell_type": "code",
   "execution_count": null,
   "metadata": {
    "collapsed": true
   },
   "outputs": [],
   "source": [
    "class Solution(object):\n",
    "    def findPermutation(self, s):\n",
    "        \"\"\"\n",
    "        :type s: str\n",
    "        :rtype: List[int]\n",
    "        \"\"\"\n",
    "        \"\"\"\n",
    "        \"IIIDDII\"\n",
    "        [1,2,3,6,5,4,7,8]\n",
    "        \"DDDDIIIIDDIIDD\"\n",
    "        [5,4,3,2,1,6,7,8,11,10,9,12,15,14,13]\n",
    "        \"\"\"\n",
    "        \n",
    "        ops = []\n",
    "        op = None\n",
    "        cnt = 0 \n",
    "        for ch in s:\n",
    "            if ch == op:\n",
    "                cnt += 1\n",
    "            else:\n",
    "                if op != None: \n",
    "                    ops.append([op, cnt]);\n",
    "                op = ch\n",
    "                cnt = 1\n",
    "        ops.append([op,cnt])\n",
    "        \n",
    "        num = 1\n",
    "        res = []\n",
    "        for i, (op, cnt) in enumerate(ops):\n",
    "            if op == 'I':\n",
    "                if i == 0 or i == len(ops) - 1:\n",
    "                    res.extend(range(num, num+cnt))\n",
    "                    num += cnt\n",
    "                else:\n",
    "                    res.extend(range(num, num+cnt-1))\n",
    "                    num += cnt -1\n",
    "            else:\n",
    "                res.extend(range(num+cnt, num-1, -1))\n",
    "                num += cnt+1\n",
    "        \n",
    "        if len(res) == len(s):\n",
    "            res.append(num)\n",
    "            \n",
    "        return res"
   ]
  }
 ],
 "metadata": {
  "kernelspec": {
   "display_name": "Python 2",
   "language": "python",
   "name": "python2"
  },
  "language_info": {
   "codemirror_mode": {
    "name": "ipython",
    "version": 2
   },
   "file_extension": ".py",
   "mimetype": "text/x-python",
   "name": "python",
   "nbconvert_exporter": "python",
   "pygments_lexer": "ipython2",
   "version": "2.7.11"
  }
 },
 "nbformat": 4,
 "nbformat_minor": 2
}

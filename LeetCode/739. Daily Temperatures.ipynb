{
 "cells": [
  {
   "cell_type": "markdown",
   "metadata": {},
   "source": [
    "# 739. Daily Temperatures"
   ]
  },
  {
   "cell_type": "markdown",
   "metadata": {},
   "source": [
    "Given a list of daily temperatures, produce a list that, for each day in the input, tells you how many days you \n",
    "would have to wait until a warmer temperature. If there is no future day for which this is possible, put 0 \n",
    "instead.\n",
    "\n",
    "For example, given the list temperatures = [73, 74, 75, 71, 69, 72, 76, 73], your output should be [1, 1, 4, 2, 1, \n",
    "1, 0, 0].\n",
    "\n",
    "Note: The length of temperatures will be in the range [1, 30000]. Each temperature will be an integer in the range \n",
    "[30, 100]."
   ]
  },
  {
   "cell_type": "markdown",
   "metadata": {},
   "source": [
    "## Solution. Time Complexity of O(n) "
   ]
  },
  {
   "cell_type": "code",
   "execution_count": null,
   "metadata": {
    "collapsed": true
   },
   "outputs": [],
   "source": [
    "class Solution(object):\n",
    "    def dailyTemperatures(self, temperatures):\n",
    "        \"\"\"\n",
    "        :type temperatures: List[int]\n",
    "        :rtype: List[int]\n",
    "        \"\"\"\n",
    "\n",
    "        if temperatures:\n",
    "            n = len(temperatures)\n",
    "            ans = [0] * n\n",
    "            lst = []\n",
    "            for i in xrange(n-1):\n",
    "                if temperatures[i] < temperatures[i+1]:\n",
    "                    ans[i] = 1\n",
    "                    while lst and lst[-1][0] < temperatures[i+1]:\n",
    "                        pos = lst.pop()[1]\n",
    "                        ans[pos] = i+1-pos\n",
    "                else:\n",
    "                    lst.append([temperatures[i], i])\n",
    "            return ans\n",
    "        else:\n",
    "            return []\n",
    "                "
   ]
  }
 ],
 "metadata": {
  "kernelspec": {
   "display_name": "Python 2",
   "language": "python",
   "name": "python2"
  },
  "language_info": {
   "codemirror_mode": {
    "name": "ipython",
    "version": 2
   },
   "file_extension": ".py",
   "mimetype": "text/x-python",
   "name": "python",
   "nbconvert_exporter": "python",
   "pygments_lexer": "ipython2",
   "version": "2.7.13"
  }
 },
 "nbformat": 4,
 "nbformat_minor": 2
}

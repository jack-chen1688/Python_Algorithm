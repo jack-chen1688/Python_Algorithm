{
 "cells": [
  {
   "cell_type": "markdown",
   "metadata": {},
   "source": [
    "# 34. Search for a Range"
   ]
  },
  {
   "cell_type": "markdown",
   "metadata": {},
   "source": [
    "Given an array of integers sorted in ascending order, find the starting and ending position of a given target value.\n",
    "\n",
    "Your algorithm's runtime complexity must be in the order of O(log n).\n",
    "\n",
    "If the target is not found in the array, return [-1, -1].\n",
    "\n",
    "For example,\n",
    "Given [5, 7, 7, 8, 8, 10] and target value 8,\n",
    "return [3, 4]."
   ]
  },
  {
   "cell_type": "markdown",
   "metadata": {},
   "source": [
    "## Solution 1"
   ]
  },
  {
   "cell_type": "code",
   "execution_count": 1,
   "metadata": {},
   "outputs": [
    {
     "name": "stdout",
     "output_type": "stream",
     "text": [
      "[2, 5]\n"
     ]
    }
   ],
   "source": [
    "class Solution(object):\n",
    "    def searchRange(self, nums, target):\n",
    "        \"\"\"\n",
    "        :type nums: List[int]\n",
    "        :type target: int\n",
    "        :rtype: List[int]\n",
    "        \"\"\"\n",
    "        # Corner cases\n",
    "        if not nums or nums[0] > target or nums[-1] < target:\n",
    "            return [-1, -1]\n",
    "\n",
    "        # search for target\n",
    "        length = len(nums)\n",
    "        start = 0\n",
    "        end = length - 1            \n",
    "\n",
    "        while start <= end:\n",
    "            mid = start + (end - start) / 2\n",
    "            if nums[mid] > target:\n",
    "                end = mid - 1\n",
    "            elif nums[mid] < target:\n",
    "                start = mid + 1\n",
    "            else:\n",
    "                break\n",
    "\n",
    "        if nums[mid] != target:\n",
    "            return [-1, -1]\n",
    "        \n",
    "        index_found = mid\n",
    "\n",
    "        # get left index\n",
    "        start = 0\n",
    "        end = index_found\n",
    "        \n",
    "        while start <= end:\n",
    "            mid = start + (end - start)/2\n",
    "            if nums[mid] == target:\n",
    "                end = mid - 1\n",
    "            else:\n",
    "                # less\n",
    "                start = mid + 1\n",
    "        \n",
    "        if nums[mid] < target: \n",
    "            left = mid + 1\n",
    "        else:\n",
    "            left = mid\n",
    "        \n",
    "        # get right index\n",
    "        start = index_found\n",
    "        end = length - 1\n",
    "        \n",
    "        while start <= end:\n",
    "            mid = start + (end - start)/2\n",
    "            if nums[mid] == target:\n",
    "                start = mid + 1\n",
    "            else:\n",
    "                #gt\n",
    "                end = mid - 1\n",
    "        \n",
    "        if nums[mid] > target:\n",
    "            right = mid - 1\n",
    "        else: \n",
    "            right = mid\n",
    "        \n",
    "        return [left, right]\n",
    "\n",
    "def main():\n",
    "    nums = [-1, 2, 8, 8, 8, 8, 9]\n",
    "    print Solution().searchRange(nums, 8)\n",
    "\n",
    "if __name__ == \"__main__\":\n",
    "    main()"
   ]
  },
  {
   "cell_type": "markdown",
   "metadata": {},
   "source": [
    "## Solution 2. Better Abstraction"
   ]
  },
  {
   "cell_type": "code",
   "execution_count": 2,
   "metadata": {},
   "outputs": [
    {
     "name": "stdout",
     "output_type": "stream",
     "text": [
      "[2, 5]\n"
     ]
    }
   ],
   "source": [
    "class Solution(object):\n",
    "    def searchRange(self, nums, target):\n",
    "        \n",
    "        # direction = 0, the left most \n",
    "        # direction = 1, the right most\n",
    "        def searchRangeDirection(nums, target, direction):\n",
    "            \n",
    "            if not nums:\n",
    "                return -1\n",
    "            \n",
    "            length = len(nums)\n",
    "            start = 0\n",
    "            end = length - 1\n",
    "            found = 0\n",
    "            \n",
    "            while start <= end:\n",
    "                mid = start + (end-start)/2\n",
    "                \n",
    "                if nums[mid] >  target:\n",
    "                    end = mid - 1\n",
    "                elif nums[mid] < target:\n",
    "                    start = mid + 1\n",
    "                else:\n",
    "                    # equal\n",
    "                    found = 1\n",
    "                    if direction == 0:\n",
    "                        end = mid - 1\n",
    "                    else:\n",
    "                        start = mid + 1\n",
    "            \n",
    "            if found == 0:\n",
    "                return -1\n",
    "            else:\n",
    "                if nums[mid] == target:\n",
    "                    return mid\n",
    "                else:\n",
    "                    if direction == 0:\n",
    "                        return mid + 1\n",
    "                    else:\n",
    "                        return mid - 1\n",
    "            \n",
    "        \n",
    "        left = searchRangeDirection(nums, target, 0)\n",
    "        if left == -1:\n",
    "            return [-1,-1]\n",
    "        else:\n",
    "            return [left, searchRangeDirection(nums[left:], target, 1) + left]\n",
    "\n",
    "def main():\n",
    "    nums = [-1, 2, 8, 8, 8, 8, 9]\n",
    "    print Solution().searchRange(nums, 8)\n",
    "\n",
    "if __name__ == \"__main__\":\n",
    "    main()      "
   ]
  }
 ],
 "metadata": {
  "kernelspec": {
   "display_name": "Python 2",
   "language": "python",
   "name": "python2"
  },
  "language_info": {
   "codemirror_mode": {
    "name": "ipython",
    "version": 2
   },
   "file_extension": ".py",
   "mimetype": "text/x-python",
   "name": "python",
   "nbconvert_exporter": "python",
   "pygments_lexer": "ipython2",
   "version": "2.7.13"
  }
 },
 "nbformat": 4,
 "nbformat_minor": 2
}

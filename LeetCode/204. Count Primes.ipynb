{
 "cells": [
  {
   "cell_type": "markdown",
   "metadata": {},
   "source": [
    "# 204. Count Primes"
   ]
  },
  {
   "cell_type": "markdown",
   "metadata": {},
   "source": [
    "Description:\n",
    "\n",
    "Count the number of prime numbers less than a non-negative number, n.\n",
    "\n",
    "Credits:\n",
    "Special thanks to @mithmatt for adding this problem and creating all test cases.\n",
    "\n"
   ]
  },
  {
   "cell_type": "markdown",
   "metadata": {},
   "source": [
    "## Solution 1. Time Exceeded"
   ]
  },
  {
   "cell_type": "code",
   "execution_count": null,
   "metadata": {},
   "outputs": [],
   "source": [
    "class Solution(object):\n",
    "    def countPrimes(self, n):\n",
    "        \"\"\"\n",
    "        :type n: int\n",
    "        :rtype: int\n",
    "        \"\"\"\n",
    "        if n <= 2:\n",
    "            return 0\n",
    "        \n",
    "        if n == 3:\n",
    "            return 1\n",
    "        \n",
    "        if n == 4:\n",
    "            return 2\n",
    "        \n",
    "        result = 2\n",
    "        primes = [2,3]\n",
    "        \n",
    "        # find out whether i is a prime or not\n",
    "        for i in range(5, n, 2):\n",
    "            \n",
    "            for num in primes[1:]:\n",
    "                if num * num > i:\n",
    "                    primes.append(i)\n",
    "                    result += 1\n",
    "                    break\n",
    "                    \n",
    "                if i % num == 0:\n",
    "                    break\n",
    "\n",
    "        return result\n",
    "            "
   ]
  },
  {
   "cell_type": "markdown",
   "metadata": {},
   "source": [
    "## Solution 2. Using Set "
   ]
  },
  {
   "cell_type": "code",
   "execution_count": null,
   "metadata": {
    "collapsed": true
   },
   "outputs": [],
   "source": [
    "class Solution(object):\n",
    "    def countPrimes(self, n):\n",
    "        \"\"\"\n",
    "        :type n: int\n",
    "        :rtype: int\n",
    "        \"\"\"\n",
    "        if n <= 2:\n",
    "            return 0\n",
    "        \n",
    "        if n == 3:\n",
    "            return 1\n",
    "        \n",
    "        if n == 4:\n",
    "            return 2\n",
    "        \n",
    "        result = 2\n",
    "        prime = 3\n",
    "        \n",
    "        non_primes = set() \n",
    "        # find out whether i is a prime or not\n",
    "        \n",
    "        while 1: \n",
    "            for num in xrange(3*prime, n, 2*prime):\n",
    "                non_primes.add(num)\n",
    "\n",
    "            for num in xrange(prime + 2, n, 2):\n",
    "                if num not in non_primes:\n",
    "                    prime = num\n",
    "                    result += 1\n",
    "                    break\n",
    "                else: \n",
    "                    non_primes.discard(num)\n",
    "            else:\n",
    "                break\n",
    "                \n",
    "        return result"
   ]
  },
  {
   "cell_type": "markdown",
   "metadata": {},
   "source": [
    "## Solution 3. Using Array"
   ]
  },
  {
   "cell_type": "code",
   "execution_count": null,
   "metadata": {
    "collapsed": true
   },
   "outputs": [],
   "source": [
    "class Solution(object):\n",
    "    def countPrimes(self, n):\n",
    "        \"\"\"\n",
    "        :type n: int\n",
    "        :rtype: int\n",
    "        \"\"\"\n",
    "        if n <= 2:\n",
    "            return 0\n",
    "\n",
    "        if n == 3:\n",
    "            return 1\n",
    "        \n",
    "        if n == 4:\n",
    "            return 2\n",
    "        \n",
    "        result = 2\n",
    "        prime = 3\n",
    "        \n",
    "        arr = [1]*n\n",
    "        # find out whether i is a prime or not\n",
    "        \n",
    "        while 1: \n",
    "            for num in xrange(3*prime, n, 2*prime):\n",
    "                arr[num] = 0\n",
    "            \n",
    "            for num in xrange(prime + 2, n, 2):\n",
    "                if arr[num] == 1:\n",
    "                    prime = num\n",
    "                    result += 1\n",
    "                    break        \n",
    "            else:\n",
    "                break\n",
    "            \n",
    "        return result\n",
    "                "
   ]
  }
 ],
 "metadata": {
  "kernelspec": {
   "display_name": "Python 2",
   "language": "python",
   "name": "python2"
  },
  "language_info": {
   "codemirror_mode": {
    "name": "ipython",
    "version": 2
   },
   "file_extension": ".py",
   "mimetype": "text/x-python",
   "name": "python",
   "nbconvert_exporter": "python",
   "pygments_lexer": "ipython2",
   "version": "2.7.13"
  }
 },
 "nbformat": 4,
 "nbformat_minor": 2
}

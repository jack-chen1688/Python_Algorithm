{
 "cells": [
  {
   "cell_type": "markdown",
   "metadata": {},
   "source": [
    "# 486. Predict the Winner"
   ]
  },
  {
   "cell_type": "markdown",
   "metadata": {},
   "source": [
    "Given an array of scores that are non-negative integers. Player 1 picks one of the numbers from either end of the array followed by the player 2 and then player 1 and so on. Each time a player picks a number, that number will not be available for the next player. This continues until all the scores have been chosen. The player with the maximum score wins.\n",
    "\n",
    "Given an array of scores, predict whether player 1 is the winner. You can assume each player plays to maximize his score.\n",
    "\n",
    "Example 1:\n",
    "Input: [1, 5, 2]\n",
    "Output: False\n",
    "Explanation: Initially, player 1 can choose between 1 and 2. \n",
    "If he chooses 2 (or 1), then player 2 can choose from 1 (or 2) and 5. If player 2 chooses 5, then player 1 will be left with 1 (or 2). \n",
    "So, final score of player 1 is 1 + 2 = 3, and player 2 is 5. \n",
    "Hence, player 1 will never be the winner and you need to return False.\n",
    "Example 2:\n",
    "Input: [1, 5, 233, 7]\n",
    "Output: True\n",
    "Explanation: Player 1 first chooses 1. Then player 2 have to choose between 5 and 7. No matter which number player 2 choose, player 1 can choose 233.\n",
    "Finally, player 1 has more score (234) than player 2 (12), so you need to return True representing player1 can win.\n",
    "Note:\n",
    "1 <= length of the array <= 20.\n",
    "Any scores in the given array are non-negative integers and will not exceed 10,000,000.\n",
    "If the scores of both players are equal, then player 1 is still the winner.\n"
   ]
  },
  {
   "cell_type": "markdown",
   "metadata": {},
   "source": [
    "## Solution. DFS Recursive Approah"
   ]
  },
  {
   "cell_type": "code",
   "execution_count": null,
   "metadata": {
    "collapsed": true
   },
   "outputs": [],
   "source": [
    "class Solution(object):\n",
    "    def PredictTheWinner(self, nums):\n",
    "        \"\"\"\n",
    "        :type nums: List[int]\n",
    "        :rtype: bool\n",
    "        \"\"\"\n",
    "         \n",
    "        dict = {}\n",
    "        def winnerScore(nums):    \n",
    "\n",
    "            if len(nums) > 1:\n",
    "                \n",
    "                if tuple(nums) in dict:\n",
    "                    return dict[tuple(nums)]\n",
    "                \n",
    "                player2, player1 = winnerScore(nums[1:])\n",
    "                scores0 = [nums[0] + player1, player2]\n",
    "\n",
    "                player2, player1 = winnerScore(nums[:-1])\n",
    "                scores1 = [nums[-1] + player1, player2]\n",
    "\n",
    "                scoreA = max(scores0[0], scores1[0])\n",
    "                scoreB = sum(nums) - scoreA \n",
    "                dict[tuple(nums)] = (scoreA, scoreB)\n",
    "            \n",
    "            else:\n",
    "                scoreA, scoreB = nums[0], 0\n",
    "            \n",
    "            return scoreA, scoreB\n",
    "\n",
    "        player1, player2 = winnerScore(nums)\n",
    "        \n",
    "        return player1 >= player2 "
   ]
  }
 ],
 "metadata": {
  "kernelspec": {
   "display_name": "Python 2",
   "language": "python",
   "name": "python2"
  },
  "language_info": {
   "codemirror_mode": {
    "name": "ipython",
    "version": 2
   },
   "file_extension": ".py",
   "mimetype": "text/x-python",
   "name": "python",
   "nbconvert_exporter": "python",
   "pygments_lexer": "ipython2",
   "version": "2.7.13"
  }
 },
 "nbformat": 4,
 "nbformat_minor": 2
}

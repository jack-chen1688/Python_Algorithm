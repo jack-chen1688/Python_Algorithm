{
 "cells": [
  {
   "cell_type": "markdown",
   "metadata": {},
   "source": [
    "# 724. Find Pivot Index"
   ]
  },
  {
   "cell_type": "markdown",
   "metadata": {},
   "source": [
    "Given an array of integers nums, write a method that returns the \"pivot\" index of this array.\n",
    "\n",
    "We define the pivot index as the index where the sum of the numbers to the left of the index is equal to the sum of the numbers to the right of the index.\n",
    "\n",
    "If no such index exists, we should return -1. If there are multiple pivot indexes, you should return the left-most pivot index.\n",
    "\n",
    "Example 1:1\n",
    "Input: \n",
    "nums = [1, 7, 3, 6, 5, 6]\n",
    "Output: 3\n",
    "Explanation: \n",
    "The sum of the numbers to the left of index 3 (nums[3] = 6) is equal to the sum of numbers to the right of index 3.\n",
    "Also, 3 is the first index where this occurs.\n",
    "Example 2:\n",
    "Input: \n",
    "nums = [1, 2, 3]\n",
    "Output: -1\n",
    "Explanation: \n",
    "There is no index that satisfies the conditions in the problem statement.\n",
    "Note:\n",
    "\n",
    "The length of nums will be in the range [0, 10000].\n",
    "Each element nums[i] will be an integer in the range [-1000, 1000].\n"
   ]
  },
  {
   "cell_type": "markdown",
   "metadata": {},
   "source": [
    "## Solution"
   ]
  },
  {
   "cell_type": "code",
   "execution_count": null,
   "metadata": {
    "collapsed": true
   },
   "outputs": [],
   "source": [
    "class Solution(object):\n",
    "    def pivotIndex(self, nums):\n",
    "        \"\"\"\n",
    "        :type nums: List[int]\n",
    "        :rtype: int\n",
    "        \"\"\"\n",
    "        right_sum = sum(nums)\n",
    "        \n",
    "        left_sum = 0\n",
    "        for i in xrange(len(nums)):\n",
    "            right_sum -= nums[i]\n",
    "            if right_sum == left_sum:\n",
    "                return i\n",
    "            left_sum += nums[i]\n",
    "            \n",
    "        return -1"
   ]
  }
 ],
 "metadata": {
  "kernelspec": {
   "display_name": "Python 2",
   "language": "python",
   "name": "python2"
  },
  "language_info": {
   "codemirror_mode": {
    "name": "ipython",
    "version": 2
   },
   "file_extension": ".py",
   "mimetype": "text/x-python",
   "name": "python",
   "nbconvert_exporter": "python",
   "pygments_lexer": "ipython2",
   "version": "2.7.13"
  }
 },
 "nbformat": 4,
 "nbformat_minor": 2
}

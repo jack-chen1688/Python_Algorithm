{
 "cells": [
  {
   "cell_type": "markdown",
   "metadata": {},
   "source": [
    "# 768. Max Chunks To Make Sorted II"
   ]
  },
  {
   "cell_type": "markdown",
   "metadata": {},
   "source": [
    "This question is the same as \"Max Chunks to Make Sorted\" except the integers of the given array are not necessarily distinct, the input array could be up to length 2000, and the elements could be up to 10**8.\n",
    "\n",
    "Given an array arr of integers (not necessarily distinct), we split the array into some number of \"chunks\" (partitions), and individually sort each chunk.  After concatenating them, the result equals the sorted array.\n",
    "\n",
    "What is the most number of chunks we could have made?\n",
    "\n",
    "Example 1:\n",
    "\n",
    "Input: arr = [5,4,3,2,1]\n",
    "Output: 1\n",
    "Explanation:\n",
    "Splitting into two or more chunks will not return the required result.\n",
    "For example, splitting into [5, 4], [3, 2, 1] will result in [4, 5, 1, 2, 3], which isn't sorted.\n",
    "Example 2:\n",
    "\n",
    "Input: arr = [2,1,3,4,4]\n",
    "Output: 4\n",
    "Explanation:\n",
    "We can split into two chunks, such as [2, 1], [3, 4, 4].\n",
    "However, splitting into [2, 1], [3], [4], [4] is the highest number of chunks possible.\n",
    "Note:\n",
    "\n",
    "arr will have length in range [1, 2000].\n",
    "arr[i] will be an integer in range [0, 10**8]."
   ]
  },
  {
   "cell_type": "markdown",
   "metadata": {},
   "source": [
    "## Solution.  The same as 769"
   ]
  }
 ],
 "metadata": {
  "kernelspec": {
   "display_name": "Python 2",
   "language": "python",
   "name": "python2"
  },
  "language_info": {
   "codemirror_mode": {
    "name": "ipython",
    "version": 2
   },
   "file_extension": ".py",
   "mimetype": "text/x-python",
   "name": "python",
   "nbconvert_exporter": "python",
   "pygments_lexer": "ipython2",
   "version": "2.7.13"
  }
 },
 "nbformat": 4,
 "nbformat_minor": 2
}

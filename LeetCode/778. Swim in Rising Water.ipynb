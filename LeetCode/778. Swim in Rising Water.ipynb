{
 "cells": [
  {
   "cell_type": "markdown",
   "metadata": {},
   "source": [
    "## 778. Swim in Rising Water"
   ]
  },
  {
   "cell_type": "markdown",
   "metadata": {},
   "source": [
    "On an N x N grid, each square grid[i][j] represents the elevation at that point (i,j).\n",
    "\n",
    "Now rain starts to fall. At time t, the depth of the water everywhere is t. You can swim from a square to another 4-directionally adjacent square if and only if the elevation of both squares individually are at most t. You can swim infinite distance in zero time. Of course, you must stay within the boundaries of the grid during your swim.\n",
    "\n",
    "You start at the top left square (0, 0). What is the least time until you can reach the bottom right square (N-1, N-1)?\n",
    "\n",
    "Example 1:\n",
    "\n",
    "Input: [[0,2],[1,3]]\n",
    "Output: 3\n",
    "Explanation:\n",
    "At time 0, you are in grid location (0, 0).\n",
    "You cannot go anywhere else because 4-directionally adjacent neighbors have a higher elevation than t = 0.\n",
    "\n",
    "You cannot reach point (1, 1) until time 3.\n",
    "When the depth of water is 3, we can swim anywhere inside the grid.\n",
    "Example 2:\n",
    "\n",
    "Input: [[0,1,2,3,4],[24,23,22,21,5],[12,13,14,15,16],[11,17,18,19,20],[10,9,8,7,6]]\n",
    "Output: 16\n",
    "Explanation:\n",
    " 0  1  2  3  4\n",
    "24 23 22 21  5\n",
    "12 13 14 15 16\n",
    "11 17 18 19 20\n",
    "10  9  8  7  6\n",
    "\n",
    "The final route is marked in bold.\n",
    "We need to wait until time 16 so that (0, 0) and (4, 4) are connected.\n",
    "Note:\n",
    "\n",
    "2 <= N <= 50.\n",
    "grid[i][j] is a permutation of [0, ..., N*N - 1]."
   ]
  },
  {
   "cell_type": "markdown",
   "metadata": {},
   "source": [
    "## Solution"
   ]
  },
  {
   "cell_type": "code",
   "execution_count": null,
   "metadata": {
    "collapsed": true
   },
   "outputs": [],
   "source": [
    "class Solution(object):\n",
    "    def swimInWater(self, grid):\n",
    "        \"\"\"\n",
    "        :type grid: List[List[int]]\n",
    "        :rtype: int\n",
    "        \"\"\"\n",
    "        N = len(grid)\n",
    "        \n",
    "        def canSwim(t):\n",
    "            S = {(0,0)}\n",
    "            lst = [(0,0)]\n",
    "            while lst:\n",
    "                lst1= []\n",
    "                for x,y in lst: \n",
    "                    for (i,j) in [(x-1,y), (x+1,y), (x,y-1),(x,y+1)]:\n",
    "                        if 0<=i<=N-1 and 0<=j<=N-1 and (i,j) not in S \\\n",
    "                             and grid[i][j] <= t:\n",
    "                                S.add((i,j))\n",
    "                                lst1.append((i,j))\n",
    "                                if (i,j) == (N-1, N-1):\n",
    "                                    return True\n",
    "                lst= lst1\n",
    "            return False\n",
    "    \n",
    "        lo = grid[0][0]\n",
    "        hi = N*N-1\n",
    "        while lo < hi:\n",
    "            mid = (lo+hi)/2\n",
    "            if canSwim(mid):\n",
    "                hi=mid\n",
    "            else:\n",
    "                lo=mid+1\n",
    "        return hi\n",
    "            "
   ]
  }
 ],
 "metadata": {
  "kernelspec": {
   "display_name": "Python 2",
   "language": "python",
   "name": "python2"
  },
  "language_info": {
   "codemirror_mode": {
    "name": "ipython",
    "version": 2
   },
   "file_extension": ".py",
   "mimetype": "text/x-python",
   "name": "python",
   "nbconvert_exporter": "python",
   "pygments_lexer": "ipython2",
   "version": "2.7.13"
  }
 },
 "nbformat": 4,
 "nbformat_minor": 2
}

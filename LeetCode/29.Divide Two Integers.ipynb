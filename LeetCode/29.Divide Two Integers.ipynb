{
 "cells": [
  {
   "cell_type": "markdown",
   "metadata": {},
   "source": [
    "#  29. Divide Two Integers"
   ]
  },
  {
   "cell_type": "markdown",
   "metadata": {},
   "source": [
    "## Descripton"
   ]
  },
  {
   "cell_type": "markdown",
   "metadata": {},
   "source": [
    "Divide two integers without using multiplication, division and mod operator.\n",
    "\n",
    "If it is overflow, return MAX_INT."
   ]
  },
  {
   "cell_type": "markdown",
   "metadata": {},
   "source": [
    "## Method 1. Orignal Solution"
   ]
  },
  {
   "cell_type": "code",
   "execution_count": 1,
   "metadata": {},
   "outputs": [
    {
     "name": "stdout",
     "output_type": "stream",
     "text": [
      "-105\n"
     ]
    }
   ],
   "source": [
    "class Solution(object):\n",
    "    def divide(self, dividend, divisor):\n",
    "        \"\"\"\n",
    "        :type dividend: int\n",
    "        :type divisor: int\n",
    "        :rtype: int\n",
    "        \"\"\"\n",
    "        \n",
    "        sign_dividend = 0\n",
    "        sign_divisor = 0 \n",
    "        \n",
    "        if dividend < 0:\n",
    "            sign_dividend = 1\n",
    "            dividend = -dividend\n",
    "        \n",
    "        if divisor < 0: \n",
    "            sign_divisor = 1\n",
    "            divisor = -divisor\n",
    "            \n",
    "        result = 0\n",
    "        \n",
    "        while divisor <= dividend:\n",
    "                \n",
    "            temp = divisor\n",
    "            power = 0\n",
    "            while temp <= dividend:\n",
    "                temp = temp << 1\n",
    "                if temp  <= dividend:\n",
    "                    power += 1\n",
    "\n",
    "            dividend -= divisor << power\n",
    "            result += 1 << power\n",
    "        \n",
    "        if (sign_dividend != sign_divisor):\n",
    "            result = - result\n",
    "        \n",
    "        if result == 1 << 31:\n",
    "            result -=1 \n",
    "            \n",
    "        return result\n",
    "\n",
    "def main():\n",
    "    print Solution().divide(-12938, 123)\n",
    "    \n",
    "if __name__ == \"__main__\":\n",
    "    main()"
   ]
  },
  {
   "cell_type": "markdown",
   "metadata": {},
   "source": [
    "## Method 2.  Minior Enhancement"
   ]
  },
  {
   "cell_type": "code",
   "execution_count": 2,
   "metadata": {},
   "outputs": [
    {
     "name": "stdout",
     "output_type": "stream",
     "text": [
      "-105\n"
     ]
    }
   ],
   "source": [
    "class Solution(object):\n",
    "    def divide(self, dividend, divisor):\n",
    "        \"\"\"\n",
    "        :type dividend: int\n",
    "        :type divisor: int\n",
    "        :rtype: int\n",
    "        \"\"\"\n",
    "        \n",
    "        positive = (dividend < 0) == (divisor < 0)\n",
    "        dividend = abs(dividend)\n",
    "        divisor = abs(divisor)\n",
    "        \n",
    "        result = 0\n",
    "        \n",
    "        while divisor <= dividend:\n",
    "                \n",
    "            temp, power = divisor, 0\n",
    "            while temp <= dividend:\n",
    "                temp = temp << 1\n",
    "                if temp  <= dividend:\n",
    "                    power += 1\n",
    "\n",
    "            dividend -= divisor << power\n",
    "            result += 1 << power\n",
    "        \n",
    "        if not positive:\n",
    "            result = - result\n",
    "        \n",
    "        if result == 1 << 31:\n",
    "            result -=1 \n",
    "            \n",
    "        return result\n",
    "\n",
    "def main():\n",
    "    print Solution().divide(-12938, 123)\n",
    "    \n",
    "if __name__ == \"__main__\":\n",
    "    main()"
   ]
  },
  {
   "cell_type": "code",
   "execution_count": null,
   "metadata": {
    "collapsed": true
   },
   "outputs": [],
   "source": []
  }
 ],
 "metadata": {
  "kernelspec": {
   "display_name": "Python 2",
   "language": "python",
   "name": "python2"
  },
  "language_info": {
   "codemirror_mode": {
    "name": "ipython",
    "version": 2
   },
   "file_extension": ".py",
   "mimetype": "text/x-python",
   "name": "python",
   "nbconvert_exporter": "python",
   "pygments_lexer": "ipython2",
   "version": "2.7.13"
  }
 },
 "nbformat": 4,
 "nbformat_minor": 2
}

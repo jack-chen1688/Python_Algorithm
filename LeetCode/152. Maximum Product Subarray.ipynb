{
 "cells": [
  {
   "cell_type": "markdown",
   "metadata": {},
   "source": [
    "# 152. Maximum Product Subarray"
   ]
  },
  {
   "cell_type": "markdown",
   "metadata": {},
   "source": [
    "Find the contiguous subarray within an array (containing at least one number) which has the largest product.\n",
    "\n",
    "For example, given the array [2,3,-2,4],\n",
    "the contiguous subarray [2,3] has the largest product = 6."
   ]
  },
  {
   "cell_type": "markdown",
   "metadata": {},
   "source": [
    "## Solution 1. Time Complexity O(n), Space Complexity O(n)"
   ]
  },
  {
   "cell_type": "code",
   "execution_count": null,
   "metadata": {
    "collapsed": true
   },
   "outputs": [],
   "source": [
    "class Solution(object):\n",
    "    def maxProduct(self, nums):\n",
    "        \"\"\"\n",
    "        :type nums: List[int]\n",
    "        :rtype: int\n",
    "        \"\"\"\n",
    "        \n",
    "        lst = [[nums[0], nums[0]]]\n",
    "            \n",
    "        for num in nums[1:]:\n",
    "            x, y = lst[-1]\n",
    "            if num < 0:\n",
    "                lst.append([max(num, num*y), min(num, num*x)])\n",
    "            elif num >= 0:\n",
    "                lst.append([max(num, num*x), min(num, num*y)])\n",
    "                \n",
    "        #print lst\n",
    "                    \n",
    "        return max([x for x, y in lst])\n",
    "            "
   ]
  },
  {
   "cell_type": "markdown",
   "metadata": {},
   "source": [
    "## Solution 2. Enhancement of Solution 1. Time Complexity O(n), Space Complexity O(n)"
   ]
  },
  {
   "cell_type": "code",
   "execution_count": null,
   "metadata": {
    "collapsed": true
   },
   "outputs": [],
   "source": [
    "class Solution(object):\n",
    "    def maxProduct(self, nums):\n",
    "        \"\"\"\n",
    "        :type nums: List[int]\n",
    "        :rtype: int\n",
    "        \"\"\"\n",
    "        \n",
    "        ans = nums[0]\n",
    "        x, y = nums[0], nums[0]\n",
    "            \n",
    "        for num in nums[1:]:\n",
    "            if num < 0:\n",
    "                x, y = max(num, num*y), min(num, num*x)\n",
    "            elif num >= 0:\n",
    "                x, y = max(num, num*x), min(num, num*y)\n",
    "            \n",
    "            if x > ans:\n",
    "                ans = x\n",
    "                \n",
    "        return ans\n",
    "            "
   ]
  }
 ],
 "metadata": {
  "kernelspec": {
   "display_name": "Python 2",
   "language": "python",
   "name": "python2"
  },
  "language_info": {
   "codemirror_mode": {
    "name": "ipython",
    "version": 2
   },
   "file_extension": ".py",
   "mimetype": "text/x-python",
   "name": "python",
   "nbconvert_exporter": "python",
   "pygments_lexer": "ipython2",
   "version": "2.7.13"
  }
 },
 "nbformat": 4,
 "nbformat_minor": 2
}

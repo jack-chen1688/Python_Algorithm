{
 "cells": [
  {
   "cell_type": "markdown",
   "metadata": {},
   "source": [
    "# 694. Number of Distinct Islands"
   ]
  },
  {
   "cell_type": "markdown",
   "metadata": {},
   "source": [
    "Given a non-empty 2D array grid of 0's and 1's, an island is a group of 1's (representing land) connected 4-\n",
    "directionally (horizontal or vertical.) You may assume all four edges of the grid are surrounded by water.\n",
    "\n",
    "Count the number of distinct islands. An island is considered to be the same as another if and only if one island \n",
    "can be translated (and not rotated or reflected) to equal the other.\n",
    "\n",
    "Example 1:\n",
    "11000\n",
    "11000\n",
    "00011\n",
    "00011\n",
    "Given the above grid map, return 1.\n",
    "Example 2:\n",
    "11011\n",
    "10000\n",
    "00001\n",
    "11011\n",
    "Given the above grid map, return 3.\n",
    "\n",
    "Notice that:\n",
    "11\n",
    "1\n",
    "and\n",
    " 1\n",
    "11\n",
    "are considered different island shapes, because we do not consider reflection / rotation.\n",
    "Note: The length of each dimension in the given grid does not exceed 50."
   ]
  },
  {
   "cell_type": "markdown",
   "metadata": {},
   "source": [
    "## Solution"
   ]
  },
  {
   "cell_type": "code",
   "execution_count": null,
   "metadata": {
    "collapsed": true
   },
   "outputs": [],
   "source": [
    "class Solution(object):\n",
    "    def numDistinctIslands(self, grid):\n",
    "        \"\"\"\n",
    "        :type grid: List[List[int]]\n",
    "        :rtype: int\n",
    "        \"\"\"\n",
    "        nrow = len(grid)\n",
    "        ncol = len(grid[0])\n",
    "        islands = set()\n",
    "        for i in xrange(nrow):\n",
    "            for j in xrange(ncol): \n",
    "                if grid[i][j] == 1:\n",
    "                    #print \"grid\", grid\n",
    "                    grid[i][j] = -1\n",
    "                    lst = [(i,j)]\n",
    "                    tups = [(0, 0)]\n",
    "                    while lst:\n",
    "                        lst1 = []\n",
    "                        for x,y in lst:\n",
    "                            if x > 0 and grid[x-1][y] == 1:\n",
    "                                grid[x-1][y] = -1\n",
    "                                lst1.append((x-1,y))\n",
    "                                tups.append((x-1-i,y-j))\n",
    "                            if x < nrow-1 and grid[x+1][y] == 1:\n",
    "                                grid[x+1][y] = -1\n",
    "                                lst1.append((x+1,y))\n",
    "                                tups.append((x+1-i,y-j))\n",
    "                            if y > 0 and grid[x][y-1] == 1:\n",
    "                                grid[x][y-1] = -1\n",
    "                                lst1.append((x,y-1))\n",
    "                                tups.append((x-i,y-1-j))\n",
    "                            if y < ncol-1 and grid[x][y+1] == 1:\n",
    "                                grid[x][y+1] = -1\n",
    "                                lst1.append((x, y+1))\n",
    "                                tups.append((x-i, y+1-j))\n",
    "                        \n",
    "                        lst = lst1\n",
    "                        #print \"lst\", lst, grid\n",
    "                    tups.sort()\n",
    "                    #print \"tups\", tups\n",
    "                    islands.add(tuple(tups))\n",
    "        return len(islands)\n",
    "            "
   ]
  }
 ],
 "metadata": {
  "kernelspec": {
   "display_name": "Python 2",
   "language": "python",
   "name": "python2"
  },
  "language_info": {
   "codemirror_mode": {
    "name": "ipython",
    "version": 2
   },
   "file_extension": ".py",
   "mimetype": "text/x-python",
   "name": "python",
   "nbconvert_exporter": "python",
   "pygments_lexer": "ipython2",
   "version": "2.7.13"
  }
 },
 "nbformat": 4,
 "nbformat_minor": 2
}

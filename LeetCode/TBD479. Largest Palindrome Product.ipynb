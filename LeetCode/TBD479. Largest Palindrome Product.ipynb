{
 "cells": [
  {
   "cell_type": "code",
   "execution_count": null,
   "metadata": {
    "collapsed": true
   },
   "outputs": [],
   "source": [
    "class Solution(object):\n",
    "    def largestPalindrome(self, n):\n",
    "        \"\"\"\n",
    "        :type n: int\n",
    "        :rtype: int\n",
    "        \"\"\"\n",
    "        \n",
    "        if n == 0: \n",
    "            return 0\n",
    "        \n",
    "        start = 10**(n-1)\n",
    "        end = 10**n\n",
    "        \n",
    "        max_val = \n",
    "        \n",
    "  \n",
    "        for i in xrange(end-1, start-1, -1):\n",
    "            if i * i < max_val:\n",
    "                break\n",
    "            \n",
    "            if max_val < 0:\n",
    "                lo = start - 1\n",
    "            else:\n",
    "                lo = max_val/i\n",
    "                \n",
    "            for j in xrange(i, lo, -1):\n",
    "                product = i * j\n",
    "                str_pro = str(product)\n",
    "                if str_pro[::] == str_pro[::-1] and product > max_val:\n",
    "                    max_val = product\n",
    "                    print max_val, i, j  \n",
    "                    break\n",
    "            \n",
    "          \n",
    "            \n",
    "        return max_val % 1337"
   ]
  },
  {
   "cell_type": "code",
   "execution_count": null,
   "metadata": {
    "collapsed": true
   },
   "outputs": [],
   "source": []
  }
 ],
 "metadata": {
  "kernelspec": {
   "display_name": "Python 2",
   "language": "python",
   "name": "python2"
  },
  "language_info": {
   "codemirror_mode": {
    "name": "ipython",
    "version": 2
   },
   "file_extension": ".py",
   "mimetype": "text/x-python",
   "name": "python",
   "nbconvert_exporter": "python",
   "pygments_lexer": "ipython2",
   "version": "2.7.13"
  }
 },
 "nbformat": 4,
 "nbformat_minor": 2
}

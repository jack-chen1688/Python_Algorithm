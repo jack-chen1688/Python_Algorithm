{
 "cells": [
  {
   "cell_type": "markdown",
   "metadata": {},
   "source": [
    "# 216. Combination Sum III"
   ]
  },
  {
   "cell_type": "markdown",
   "metadata": {},
   "source": [
    "\n",
    "Find all possible combinations of k numbers that add up to a number n, given that only numbers from 1 to 9 can be \n",
    "used and each combination should be a unique set of numbers.\n",
    "\n",
    "\n",
    "Example 1:\n",
    "\n",
    "Input: k = 3, n = 7\n",
    "\n",
    "Output:\n",
    "\n",
    "[[1,2,4]]\n",
    "\n",
    "Example 2:\n",
    "\n",
    "Input: k = 3, n = 9\n",
    "\n",
    "Output:\n",
    "\n",
    "[[1,2,6], [1,3,5], [2,3,4]]"
   ]
  },
  {
   "cell_type": "markdown",
   "metadata": {},
   "source": [
    "## Solution"
   ]
  },
  {
   "cell_type": "code",
   "execution_count": null,
   "metadata": {},
   "outputs": [],
   "source": [
    "class Solution(object):\n",
    "    def findMaximumXOR(self, nums):\n",
    "        \"\"\"\n",
    "        :type nums: List[int]\n",
    "        :rtype: int\n",
    "        \"\"\"\n",
    "        ans = 0     \n",
    "    \n",
    "        for k in xrange(30, -1, -1):\n",
    "            power = 1 << k\n",
    "            lo = [x for x in nums if x & power == 0]\n",
    "            hi = [x for x in nums if x & power != 0]\n",
    "            if lo != [] and hi != []:\n",
    "                break\n",
    "            \n",
    "        def dfs(k, lo, hi):\n",
    "            power = 1 << k\n",
    "            ans = 0\n",
    "            lo0 = [x for x in lo if (x & power == 0)]\n",
    "            lo1 = [x for x in lo if (x & power != 0)]\n",
    "            hi0 = [x for x in hi if (x & power == 0)]\n",
    "            hi1 = [x for x in hi if (x & power != 0)]\n",
    "     \n",
    "            if (lo0 == [] and hi0 == []) or (lo1 == [] and hi1 == []):\n",
    "                if k > 0:\n",
    "                    ans = dfs(k-1, lo, hi)\n",
    "                else: \n",
    "                    ans = 0\n",
    "            else:\n",
    "                if k > 0:\n",
    "                    ans += power\n",
    "                    ans0, ans1 = 0, 0\n",
    "                    \n",
    "                    if lo1 != [] and hi0 != []:\n",
    "                        ans0 = dfs(k-1, lo1, hi0)\n",
    "                    \n",
    "                    if lo0 != [] and hi1 != []:\n",
    "                        ans1 = dfs(k-1, lo0, hi1)\n",
    "                    \n",
    "                    ans += max(ans0, ans1)\n",
    "                else: \n",
    "                    ans = 1\n",
    "            \n",
    "            return ans\n",
    "                \n",
    "        if hi != [] and lo != []:\n",
    "            return ans + dfs(k, lo, hi)\n",
    "        else:\n",
    "            return ans"
   ]
  }
 ],
 "metadata": {
  "kernelspec": {
   "display_name": "Python 2",
   "language": "python",
   "name": "python2"
  },
  "language_info": {
   "codemirror_mode": {
    "name": "ipython",
    "version": 2
   },
   "file_extension": ".py",
   "mimetype": "text/x-python",
   "name": "python",
   "nbconvert_exporter": "python",
   "pygments_lexer": "ipython2",
   "version": "2.7.13"
  }
 },
 "nbformat": 4,
 "nbformat_minor": 2
}

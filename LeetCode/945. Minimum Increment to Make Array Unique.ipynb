{
 "cells": [
  {
   "cell_type": "markdown",
   "metadata": {},
   "source": [
    "# 945. Minimum Increment to Make Array Unique"
   ]
  },
  {
   "cell_type": "markdown",
   "metadata": {},
   "source": [
    "Given an array of integers A, a move consists of choosing any A[i], and incrementing it by 1.\n",
    "\n",
    "Return the least number of moves to make every value in A unique.\n",
    " \n",
    "\n",
    "Example 1:\n",
    "\n",
    "Input: [1,2,2]\n",
    "Output: 1\n",
    "Explanation:  After 1 move, the array could be [1, 2, 3].\n",
    "Example 2:\n",
    "\n",
    "Input: [3,2,1,2,1,7]\n",
    "Output: 6\n",
    "Explanation:  After 6 moves, the array could be [3, 4, 1, 2, 5, 7].\n",
    "It can be shown with 5 or less moves that it is impossible for the array to have all unique values.\n",
    " \n",
    "\n",
    "Note:\n",
    "\n",
    "0 <= A.length <= 40000\n",
    "0 <= A[i] < 40000\n",
    " "
   ]
  },
  {
   "cell_type": "markdown",
   "metadata": {},
   "source": [
    "## Solution 1. Simple solution"
   ]
  },
  {
   "cell_type": "code",
   "execution_count": null,
   "metadata": {},
   "outputs": [],
   "source": [
    "class Solution:\n",
    "    def minIncrementForUnique(self, A):\n",
    "        \"\"\"\n",
    "        :type A: List[int]\n",
    "        :rtype: int\n",
    "        \"\"\"\n",
    "        from collections import Counter\n",
    "        \n",
    "        counter = Counter(A)\n",
    "        \n",
    "        result = 0\n",
    "        for i in range(40000):\n",
    "            if counter[i] > 1:\n",
    "                result += counter[i] - 1\n",
    "                counter[i+1] += counter[i] - 1\n",
    "        \n",
    "        return result + counter[40000] *(counter[40000]-1)//2"
   ]
  },
  {
   "cell_type": "markdown",
   "metadata": {},
   "source": [
    "## Solution 2.  Enhanced solution"
   ]
  },
  {
   "cell_type": "code",
   "execution_count": null,
   "metadata": {},
   "outputs": [],
   "source": [
    "class Solution:\n",
    "    def minIncrementForUnique(self, A):\n",
    "        \"\"\"\n",
    "        :type A: List[int]\n",
    "        :rtype: int\n",
    "        \"\"\"\n",
    "        from collections import Counter\n",
    "        \n",
    "        counter = Counter(A)\n",
    "        \n",
    "        result = 0\n",
    "        for i in range(40000):\n",
    "            if counter[i] > 1:\n",
    "                result += counter[i] - 1\n",
    "                counter[i+1] += counter[i] - 1\n",
    "            del counter[i]\n",
    "            if len(counter) <= 1:\n",
    "                break\n",
    "                \n",
    "        for cnt in counter.values():\n",
    "            result += cnt * (cnt-1) //2   \n",
    "        return result"
   ]
  }
 ],
 "metadata": {
  "kernelspec": {
   "display_name": "Python 3",
   "language": "python",
   "name": "python3"
  },
  "language_info": {
   "codemirror_mode": {
    "name": "ipython",
    "version": 3
   },
   "file_extension": ".py",
   "mimetype": "text/x-python",
   "name": "python",
   "nbconvert_exporter": "python",
   "pygments_lexer": "ipython3",
   "version": "3.7.0"
  }
 },
 "nbformat": 4,
 "nbformat_minor": 2
}

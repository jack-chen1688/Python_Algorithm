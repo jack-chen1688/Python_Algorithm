{
 "cells": [
  {
   "cell_type": "markdown",
   "metadata": {},
   "source": [
    "# 267. Palindrome Permutation II"
   ]
  },
  {
   "cell_type": "markdown",
   "metadata": {},
   "source": [
    "Given a string s, return all the palindromic permutations (without duplicates) of it. Return an empty list if no palindromic permutation could be form.\n",
    "\n",
    "For example:\n",
    "\n",
    "Given s = \"aabb\", return [\"abba\", \"baab\"].\n",
    "\n",
    "Given s = \"abc\", return []."
   ]
  },
  {
   "cell_type": "markdown",
   "metadata": {},
   "source": [
    "## Solution"
   ]
  },
  {
   "cell_type": "code",
   "execution_count": null,
   "metadata": {
    "collapsed": true
   },
   "outputs": [],
   "source": [
    "class Solution(object):\n",
    "    def generatePalindromes(self, s):\n",
    "        \"\"\"\n",
    "        :type s: str\n",
    "        :rtype: List[str]\n",
    "        \"\"\"\n",
    "        \n",
    "        dict = {}\n",
    "        for ch in s:\n",
    "            dict[ch] = dict.get(ch, 0) +1\n",
    "        \n",
    "        lst = []\n",
    "        for key in dict:\n",
    "            if dict[key] & 1:\n",
    "                lst.append(key)\n",
    "                \n",
    "        if len(lst) > 1:\n",
    "            return []\n",
    "        \n",
    "        pivot = \"\"\n",
    "        if lst:\n",
    "            dict[lst[0]]-= 1\n",
    "            pivot = lst[0]\n",
    "            \n",
    "        #now get permutations of a string\n",
    "        #87622542 -> 87624225 \n",
    "        \n",
    "        def nxt_string(s):\n",
    "            n = len(s)\n",
    "            ans = list(s)\n",
    "            \n",
    "            for i in xrange(n-1, 0, -1):\n",
    "                if s[i-1] < s[i]:\n",
    "                    #i-1 needs to be swapped\n",
    "                    pos = bisect.bisect_right(ans[n-1:i-1:-1], ans[i-1])\n",
    "                    ans[-pos-1], ans[i-1] = ans[i-1], ans[-pos-1]\n",
    "                    ans[i:] = sorted(ans[i:])\n",
    "                    break\n",
    "            else:\n",
    "                ans = ans[::-1]\n",
    "            return \"\".join(ans)\n",
    "        \n",
    "        s0 = \"\".join(ch*(num/2) for ch, num in dict.iteritems())\n",
    "        \n",
    "        permutations = [s0]\n",
    "        s1 = nxt_string(s0)\n",
    "        while s1 != s0:\n",
    "            permutations.append(s1)\n",
    "            s1 = nxt_string(s1)\n",
    "        \n",
    "        return [x+pivot+x[::-1] for x in permutations]  "
   ]
  }
 ],
 "metadata": {
  "kernelspec": {
   "display_name": "Python 2",
   "language": "python",
   "name": "python2"
  },
  "language_info": {
   "codemirror_mode": {
    "name": "ipython",
    "version": 2
   },
   "file_extension": ".py",
   "mimetype": "text/x-python",
   "name": "python",
   "nbconvert_exporter": "python",
   "pygments_lexer": "ipython2",
   "version": "2.7.13"
  }
 },
 "nbformat": 4,
 "nbformat_minor": 2
}

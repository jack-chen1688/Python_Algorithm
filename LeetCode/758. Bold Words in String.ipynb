{
 "cells": [
  {
   "cell_type": "markdown",
   "metadata": {},
   "source": [
    "# 758. Bold Words in String"
   ]
  },
  {
   "cell_type": "markdown",
   "metadata": {},
   "source": [
    "Given a set of keywords words and a string S, make all appearances of all keywords in S bold. Any letters between <b> and </b> tags become bold.\n",
    "\n",
    "The returned string should use the least number of tags possible, and of course the tags should form a valid combination.\n",
    "\n",
    "For example, given that words = [\"ab\", \"bc\"] and S = \"aabcd\", we should return \"a<b>abc</b>d\". Note that returning \"a<b>a<b>b</b>c</b>d\" would use more tags, so it is incorrect.\n",
    "\n",
    "Note:\n",
    "\n",
    "words has length in range [0, 50].\n",
    "words[i] has length in range [1, 10].\n",
    "S has length in range [0, 500].\n",
    "All characters in words[i] and S are lowercase letters."
   ]
  },
  {
   "cell_type": "markdown",
   "metadata": {},
   "source": [
    "## Solution"
   ]
  },
  {
   "cell_type": "code",
   "execution_count": null,
   "metadata": {
    "collapsed": true
   },
   "outputs": [],
   "source": [
    "class Solution(object):\n",
    "    def boldWords(self, words, S):\n",
    "        \"\"\"\n",
    "        :type words: List[str]\n",
    "        :type S: str\n",
    "        :rtype: str\n",
    "        \"\"\"\n",
    "        \n",
    "        n = len(S)\n",
    "        intervals = []\n",
    "        \n",
    "        def add_interval(interval):\n",
    "            if intervals and intervals[-1][1] >= interval[0]:\n",
    "                if intervals[-1][1] < interval[1]:\n",
    "                    intervals[-1][1] = interval[1]\n",
    "            else:\n",
    "                intervals.append(interval)\n",
    "                \n",
    "        for pos in xrange(n):\n",
    "            max_len = 0\n",
    "            for word in words:\n",
    "                if S[pos:].startswith(word):\n",
    "                    if len(word) > max_len:\n",
    "                        max_len = len(word)\n",
    "            if max_len:     \n",
    "                interval = [pos, pos + max_len]\n",
    "                add_interval(interval)\n",
    "        \n",
    "        ans = \"\"\n",
    "        prev_end = 0\n",
    "        for start,end in intervals:\n",
    "            ans += S[prev_end:start]\n",
    "            ans += \"<b>\"\n",
    "            ans += S[start:end]\n",
    "            ans +=\"</b>\"\n",
    "            prev_end = end\n",
    "        ans += S[prev_end:]\n",
    "        return ans"
   ]
  }
 ],
 "metadata": {
  "kernelspec": {
   "display_name": "Python 2",
   "language": "python",
   "name": "python2"
  },
  "language_info": {
   "codemirror_mode": {
    "name": "ipython",
    "version": 2
   },
   "file_extension": ".py",
   "mimetype": "text/x-python",
   "name": "python",
   "nbconvert_exporter": "python",
   "pygments_lexer": "ipython2",
   "version": "2.7.13"
  }
 },
 "nbformat": 4,
 "nbformat_minor": 2
}

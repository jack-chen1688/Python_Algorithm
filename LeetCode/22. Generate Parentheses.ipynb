{
 "cells": [
  {
   "cell_type": "markdown",
   "metadata": {},
   "source": [
    "# 22. Generate Parentheses"
   ]
  },
  {
   "cell_type": "markdown",
   "metadata": {},
   "source": [
    "Given n pairs of parentheses, write a function to generate all combinations of well-formed parentheses.\n",
    "\n",
    "For example, given n = 3, a solution set is:\n",
    "\n",
    "[\n",
    "  \"((()))\",\n",
    "  \"(()())\",\n",
    "  \"(())()\",\n",
    "  \"()(())\",\n",
    "  \"()()()\"\n",
    "]\n"
   ]
  },
  {
   "cell_type": "markdown",
   "metadata": {},
   "source": [
    "## Analysis"
   ]
  },
  {
   "cell_type": "markdown",
   "metadata": {},
   "source": [
    "Finding the rules based on n = 1, 2, 3, 4 below.\n",
    "\n",
    "n=1\n",
    "()\n",
    "\n",
    "n=2\n",
    "(())  2 + 0\n",
    "()()  1+1\n",
    "\n",
    "n=3\n",
    "\n",
    "(()()) 3+0 \n",
    "((()))\n",
    "(())() 2+1\n",
    "()(()) 1+2\n",
    "()()() 1+2\n",
    "\n",
    "n=4\n",
    "((()())) 4+0\n",
    "(((())))\n",
    "(()()())\n",
    "((())())\n",
    "(()(()))\n",
    "(()())() 3+1\n",
    "((()))()\n",
    "(())(()) 2+2\n",
    "(())()()\n",
    "()(()()) 1+3\n",
    "()((()))\n",
    "()()(())\n",
    "()(())()\n",
    "()()()()\n"
   ]
  },
  {
   "cell_type": "markdown",
   "metadata": {},
   "source": [
    "## Solution"
   ]
  },
  {
   "cell_type": "code",
   "execution_count": 11,
   "metadata": {},
   "outputs": [
    {
     "name": "stdout",
     "output_type": "stream",
     "text": [
      "()()()()\n",
      "()()(())\n",
      "()(())()\n",
      "()(()())\n",
      "()((()))\n",
      "(())()()\n",
      "(())(())\n",
      "(()())()\n",
      "((()))()\n",
      "(()()())\n",
      "(()(()))\n",
      "((())())\n",
      "((()()))\n",
      "(((())))\n"
     ]
    }
   ],
   "source": [
    "class Solution(object):\n",
    "    def generateParentheses(self, n):\n",
    "        \n",
    "        list = [[] for i in range(n+1)]\n",
    "        list[0] = [\"\"]\n",
    "        \n",
    "        for i in range(1,n+1):\n",
    "            # Generate all cases for i pairs of brackets\n",
    "            for j in range(1,i+1):\n",
    "                #find out all left most item that contains j pairs of brackets \n",
    "                for item in list[j-1]:\n",
    "                    left_most = \"(\" + item + \")\" \n",
    "                    #all right items contains i - j brackets\n",
    "                    for right_item in list[i-j]: \n",
    "                        list[i].append(left_most + right_item)\n",
    "        return list[n]\n",
    "        \n",
    "def main():\n",
    "    for item in Solution().generateParentheses(4):\n",
    "        print item\n",
    "    \n",
    "if __name__ == \"__main__\":\n",
    "    main()"
   ]
  }
 ],
 "metadata": {
  "kernelspec": {
   "display_name": "Python 2",
   "language": "python",
   "name": "python2"
  },
  "language_info": {
   "codemirror_mode": {
    "name": "ipython",
    "version": 2
   },
   "file_extension": ".py",
   "mimetype": "text/x-python",
   "name": "python",
   "nbconvert_exporter": "python",
   "pygments_lexer": "ipython2",
   "version": "2.7.13"
  }
 },
 "nbformat": 4,
 "nbformat_minor": 2
}

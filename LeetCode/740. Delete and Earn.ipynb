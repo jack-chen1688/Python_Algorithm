{
 "cells": [
  {
   "cell_type": "markdown",
   "metadata": {},
   "source": [
    "# 740. Delete and Earn"
   ]
  },
  {
   "cell_type": "markdown",
   "metadata": {},
   "source": [
    "Given an array nums of integers, you can perform operations on the array.\n",
    "\n",
    "In each operation, you pick any nums[i] and delete it to earn nums[i] points. After, you must delete every element equal to nums[i] - 1 or nums[i] + 1.\n",
    "\n",
    "You start with 0 points. Return the maximum number of points you can earn by applying such operations.\n",
    "\n",
    "Example 1:\n",
    "Input: nums = [3, 4, 2]\n",
    "Output: 6\n",
    "Explanation: \n",
    "Delete 4 to earn 4 points, consequently 3 is also deleted.\n",
    "Then, delete 2 to earn 2 points. 6 total points are earned.\n",
    "Example 2:\n",
    "Input: nums = [2, 2, 3, 3, 3, 4]\n",
    "Output: 9\n",
    "Explanation: \n",
    "Delete 3 to earn 3 points, deleting both 2's and the 4.\n",
    "Then, delete 3 again to earn 3 points, and 3 again to earn 3 points.\n",
    "9 total points are earned.\n",
    "Note:\n",
    "\n",
    "The length of nums is at most 20000.\n",
    "Each element nums[i] is an integer in the range [1, 10000]."
   ]
  },
  {
   "cell_type": "markdown",
   "metadata": {},
   "source": [
    "## Solution 1. Recursive Approach"
   ]
  },
  {
   "cell_type": "code",
   "execution_count": 1,
   "metadata": {},
   "outputs": [],
   "source": [
    "class Solution(object):\n",
    "    def deleteAndEarn(self, nums):\n",
    "        \"\"\"\n",
    "        :type nums: List[int]\n",
    "        :rtype: int\n",
    "        \"\"\"\n",
    "\n",
    "        dict = {}\n",
    "        for num in nums: \n",
    "            dict[num] = dict.get(num, 0) + 1\n",
    "        \n",
    "        ans = 0\n",
    "        processed = []\n",
    "        for num, cnt in dict.iteritems():\n",
    "            if num-1 not in dict and num+1 not in dict:\n",
    "                ans += num * cnt\n",
    "                processed.append(num)\n",
    "        \n",
    "        for num in processed:\n",
    "            del dict[num]\n",
    "            \n",
    "        lsts = sorted(dict.iteritems())\n",
    "        \n",
    "        \n",
    "        dict = {}\n",
    "\n",
    "        def dfs(lsts):\n",
    "            length = len(lsts)\n",
    "            if length > 0:\n",
    "                tup = tuple(lst[0] for lst in lsts)\n",
    "                if tup in dict:\n",
    "                    return dict[tup]\n",
    "                \n",
    "                if length > 1:\n",
    "                    if lsts[0][0] < lsts[1][0] - 1:\n",
    "                        ans = lsts[0][0] * lsts[0][1] + dfs(lsts[1:])\n",
    "                    else:\n",
    "                        #choose 0\n",
    "                        ans0 =  lsts[0][0] * lsts[0][1] + dfs(lsts[2:])\n",
    "                        \n",
    "                        #choose 1\n",
    "                        ans1 = lsts[1][0] * lsts[1][1]\n",
    "\n",
    "                        if length >= 3:\n",
    "                            if lsts[1][0] < lsts[2][0] - 1:\n",
    "                                ans1 += dfs(lsts[2:])\n",
    "                            else:\n",
    "                                ans1 += dfs(lsts[3:])\n",
    "\n",
    "                        ans = max(ans0, ans1)\n",
    "                else:\n",
    "                    ans = lsts[0][0] * lsts[0][1]\n",
    "                \n",
    "                dict[tup] = ans\n",
    "                \n",
    "                return ans \n",
    "            else:\n",
    "                return 0\n",
    "                            \n",
    "        return ans+dfs(lsts)"
   ]
  },
  {
   "cell_type": "markdown",
   "metadata": {},
   "source": [
    "## Solution 2. Enhancement  for Solution 1 (Less Space and Faster)"
   ]
  },
  {
   "cell_type": "code",
   "execution_count": 2,
   "metadata": {
    "collapsed": true
   },
   "outputs": [],
   "source": [
    "class Solution(object):\n",
    "    def deleteAndEarn(self, nums):\n",
    "        \"\"\"\n",
    "        :type nums: List[int]\n",
    "        :rtype: int\n",
    "        \"\"\"\n",
    "\n",
    "        dict = {}\n",
    "        for num in nums: \n",
    "            dict[num] = dict.get(num, 0) + 1\n",
    "        \n",
    "        lsts = sorted(dict.iteritems())\n",
    "        dict = {}\n",
    "        \n",
    "        def dfs(lsts):\n",
    "            length = len(lsts)\n",
    "            if length > 0:\n",
    "                tup = tuple(lst[0] for lst in lsts)\n",
    "                if tup in dict:\n",
    "                    return dict[tup]\n",
    "                \n",
    "                if length > 1:\n",
    "                    ans = max(lsts[0][0] * lsts[0][1] + dfs(lsts[2:]), lsts[1][0] * lsts[1][1] + dfs(lsts[3:]))\n",
    "                else:\n",
    "                    ans = lsts[0][0] * lsts[0][1]\n",
    "                \n",
    "                dict[tup] = ans\n",
    "                \n",
    "                return ans \n",
    "            else:\n",
    "                return 0\n",
    "            \n",
    "        n = len(lsts)\n",
    "        start = 0 \n",
    "        pos = 0\n",
    "        ans = 0\n",
    "        for pos in xrange(n-1):\n",
    "            if lsts[pos][0] < lsts[pos+1][0] - 1:\n",
    "                ans += dfs(lsts[start:pos+1])\n",
    "                start = pos + 1\n",
    "\n",
    "        return ans + dfs(lsts[start:])\n",
    "        "
   ]
  }
 ],
 "metadata": {
  "kernelspec": {
   "display_name": "Python 2",
   "language": "python",
   "name": "python2"
  },
  "language_info": {
   "codemirror_mode": {
    "name": "ipython",
    "version": 2
   },
   "file_extension": ".py",
   "mimetype": "text/x-python",
   "name": "python",
   "nbconvert_exporter": "python",
   "pygments_lexer": "ipython2",
   "version": "2.7.13"
  }
 },
 "nbformat": 4,
 "nbformat_minor": 2
}

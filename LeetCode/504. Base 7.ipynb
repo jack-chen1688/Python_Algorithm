{
 "cells": [
  {
   "cell_type": "markdown",
   "metadata": {},
   "source": [
    "# 504. Base 7"
   ]
  },
  {
   "cell_type": "markdown",
   "metadata": {},
   "source": [
    "Given an integer, return its base 7 string representation.\n",
    "\n",
    "Example 1:\n",
    "Input: 100\n",
    "Output: \"202\"\n",
    "Example 2:\n",
    "Input: -7\n",
    "Output: \"-10\"\n",
    "Note: The input will be in range of [-1e7, 1e7].\n",
    "\n"
   ]
  },
  {
   "cell_type": "markdown",
   "metadata": {},
   "source": [
    "## Solution"
   ]
  },
  {
   "cell_type": "code",
   "execution_count": null,
   "metadata": {
    "collapsed": true
   },
   "outputs": [],
   "source": [
    "class Solution(object):\n",
    "    def convertToBase7(self, num):\n",
    "        \"\"\"\n",
    "        :type num: int\n",
    "        :rtype: str\n",
    "        \"\"\"\n",
    "        \n",
    "        \n",
    "        if num == 0: \n",
    "            return \"0\"\n",
    "        \n",
    "        if num > 0:\n",
    "            sign = \"\"\n",
    "        else:\n",
    "            sign = \"-\"\n",
    "            \n",
    "        num = abs(num)\n",
    "\n",
    "        lst = []\n",
    "        while num:\n",
    "            rem = num % 7\n",
    "            lst.append(str(rem))\n",
    "            num = num / 7\n",
    "        \n",
    "        return sign + \"\".join(lst[::-1])"
   ]
  }
 ],
 "metadata": {
  "kernelspec": {
   "display_name": "Python 2",
   "language": "python",
   "name": "python2"
  },
  "language_info": {
   "codemirror_mode": {
    "name": "ipython",
    "version": 2
   },
   "file_extension": ".py",
   "mimetype": "text/x-python",
   "name": "python",
   "nbconvert_exporter": "python",
   "pygments_lexer": "ipython2",
   "version": "2.7.13"
  }
 },
 "nbformat": 4,
 "nbformat_minor": 2
}

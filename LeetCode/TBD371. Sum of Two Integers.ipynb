{
 "cells": [
  {
   "cell_type": "markdown",
   "metadata": {},
   "source": [
    "# 371. Sum of Two Integers"
   ]
  },
  {
   "cell_type": "code",
   "execution_count": null,
   "metadata": {
    "collapsed": true
   },
   "outputs": [],
   "source": [
    "Calculate the sum of two integers a and b, but you are not allowed to use the operator + and -.\n",
    "\n",
    "Example:\n",
    "Given a = 1 and b = 2, return 3.\n",
    "\n",
    "Credits:\n",
    "Special thanks to @fujiaozhu for adding this problem and creating all test cases.\n",
    "\n"
   ]
  },
  {
   "cell_type": "markdown",
   "metadata": {},
   "source": [
    "## Solution 1"
   ]
  },
  {
   "cell_type": "code",
   "execution_count": null,
   "metadata": {
    "collapsed": true
   },
   "outputs": [],
   "source": [
    "class Solution(object):\n",
    "    def getSum(self, a, b):\n",
    "        \"\"\"\n",
    "        :type a: int\n",
    "        :type b: int\n",
    "        :rtype: int\n",
    "        \"\"\"\n",
    "        signa, signb = 1, 1\n",
    "        \n",
    "        if abs(a) != a:\n",
    "            signa = -1\n",
    "            \n",
    "        if abs(b) != b: \n",
    "            signb = -1\n",
    "        \n",
    "        if signa == signb:\n",
    "            op = \"+\"\n",
    "        else:\n",
    "            op = '-'\n",
    "        \n",
    "        lst_a = [int(ch) for ch in bin(abs(a))[2:]][::-1]\n",
    "        lst_b = [int(ch) for ch in bin(abs(b))[2:]][::-1]\n",
    "\n",
    "        len_a, len_b = len(lst_a), len(lst_b)\n",
    "        if len_a > len_b:\n",
    "            lst_b.extend([0] * (len_a - len_b))\n",
    "        elif len_a < len_b:\n",
    "            lst_a.extend([0] * (len_b - len_a))\n",
    "         \n",
    "        carry = 0\n",
    "        res = []\n",
    "        \n",
    "        if op == \"+\": \n",
    "            for x,y in zip(lst_a, lst_b):\n",
    "                if x == y == 0:\n",
    "                    res.append(carry)\n",
    "                    carry = 0\n",
    "                elif x^y == 1:\n",
    "                    res.append(carry ^ 1)\n",
    "                else:\n",
    "                    res.append(carry)\n",
    "                    carry = 1\n",
    "            if carry == 1:\n",
    "                res.append(1)\n",
    "            \n",
    "            return signa * int(\"\".join([str(i) for i in res])[::-1], 2)\n",
    "        else:\n",
    "            lst0, lst1, sign = lst_a, lst_b, signa\n",
    "            if abs(a) < abs(b):\n",
    "                lst0, lst1, sign = lst_b, lst_a, signb\n",
    "            \n",
    "            for x,y in zip(lst0, lst1):\n",
    "                if x ^ y == 0:\n",
    "                    res.append(carry)\n",
    "                elif x == 1 and y == 0:\n",
    "                    res.append(carry ^ 1)\n",
    "                    carry = 0\n",
    "                else:\n",
    "                    #100 - 11\n",
    "                    res.append(carry ^ 1)\n",
    "                    carry = 1\n",
    "            \n",
    "            return sign * int(\"\".join([str(i) for i in res])[::-1], 2)"
   ]
  }
 ],
 "metadata": {
  "kernelspec": {
   "display_name": "Python 2",
   "language": "python",
   "name": "python2"
  },
  "language_info": {
   "codemirror_mode": {
    "name": "ipython",
    "version": 2
   },
   "file_extension": ".py",
   "mimetype": "text/x-python",
   "name": "python",
   "nbconvert_exporter": "python",
   "pygments_lexer": "ipython2",
   "version": "2.7.13"
  }
 },
 "nbformat": 4,
 "nbformat_minor": 2
}

{
 "cells": [
  {
   "cell_type": "markdown",
   "metadata": {},
   "source": [
    "# 492. Construct the Rectangle"
   ]
  },
  {
   "cell_type": "markdown",
   "metadata": {},
   "source": [
    "\n",
    "For a web developer, it is very important to know how to design a web page's size. So, given a specific rectangular web page’s area, your job by now is to design a rectangular web page, whose length L and width W satisfy the following requirements:\n",
    "\n",
    "1. The area of the rectangular web page you designed must equal to the given target area.\n",
    "\n",
    "2. The width W should not be larger than the length L, which means L >= W.\n",
    "\n",
    "3. The difference between length L and width W should be as small as possible.\n",
    "You need to output the length L and the width W of the web page you designed in sequence.\n",
    "Example:\n",
    "Input: 4\n",
    "Output: [2, 2]\n",
    "Explanation: The target area is 4, and all the possible ways to construct it are [1,4], [2,2], [4,1]. \n",
    "But according to requirement 2, [1,4] is illegal; according to requirement 3,  [4,1] is not optimal compared to [2,2]. So the length L is 2, and the width W is 2.\n",
    "Note:\n",
    "The given area won't exceed 10,000,000 and is a positive integer\n",
    "The web page's width and length you designed must be positive integers."
   ]
  },
  {
   "cell_type": "markdown",
   "metadata": {},
   "source": [
    "## Solution"
   ]
  },
  {
   "cell_type": "code",
   "execution_count": null,
   "metadata": {
    "collapsed": true
   },
   "outputs": [],
   "source": [
    "class Solution(object):\n",
    "    def constructRectangle(self, area):\n",
    "        \"\"\"\n",
    "        :type area: int\n",
    "        :rtype: List[int]\n",
    "        \"\"\"\n",
    "        \n",
    "        w = 2\n",
    "        max_w = 1\n",
    "        \n",
    "        while w * w <= area:\n",
    "            if area % w == 0:\n",
    "                max_w = w\n",
    "            \n",
    "            w += 1\n",
    "        \n",
    "        return [area/max_w, max_w]"
   ]
  }
 ],
 "metadata": {
  "kernelspec": {
   "display_name": "Python 2",
   "language": "python",
   "name": "python2"
  },
  "language_info": {
   "codemirror_mode": {
    "name": "ipython",
    "version": 2
   },
   "file_extension": ".py",
   "mimetype": "text/x-python",
   "name": "python",
   "nbconvert_exporter": "python",
   "pygments_lexer": "ipython2",
   "version": "2.7.13"
  }
 },
 "nbformat": 4,
 "nbformat_minor": 2
}

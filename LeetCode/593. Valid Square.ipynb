{
 "cells": [
  {
   "cell_type": "markdown",
   "metadata": {},
   "source": [
    "# 593. Valid Square"
   ]
  },
  {
   "cell_type": "markdown",
   "metadata": {},
   "source": [
    "\n",
    "Given the coordinates of four points in 2D space, return whether the four points could construct a square.\n",
    "\n",
    "The coordinate (x,y) of a point is represented by an integer array with two integers.\n",
    "\n",
    "Example:\n",
    "Input: p1 = [0,0], p2 = [1,1], p3 = [1,0], p4 = [0,1]\n",
    "Output: True\n",
    "Note:\n",
    "\n",
    "All the input integers are in the range [-10000, 10000].\n",
    "A valid square has four equal sides with positive length and four equal angles (90-degree angles).\n",
    "Input points have no order.\n"
   ]
  },
  {
   "cell_type": "markdown",
   "metadata": {},
   "source": [
    "## Solution 1"
   ]
  },
  {
   "cell_type": "code",
   "execution_count": null,
   "metadata": {
    "collapsed": true
   },
   "outputs": [],
   "source": [
    "class Solution(object):\n",
    "    def validSquare(self, p1, p2, p3, p4):\n",
    "        \"\"\"\n",
    "        :type p1: List[int]\n",
    "        :type p2: List[int]\n",
    "        :type p3: List[int]\n",
    "        :type p4: List[int]\n",
    "        :rtype: bool\n",
    "        \"\"\"\n",
    "        \n",
    "        if p1 == p2: \n",
    "            return False\n",
    "        \n",
    "        points = sorted((p1, p2, p3, p4))\n",
    "            \n",
    "        if points[1][1] <= points[0][1]:\n",
    "            points[1], points[2] = points[2], points[1]\n",
    "        \n",
    "        \n",
    "        # if points form a square then\n",
    "        # points[0], points[1], points[3], points[2] are in clock wise order. \n",
    "        x0, y0 = points[1][0] - points[0][0], points[1][1] - points[0][1]\n",
    "        x1, y1 = points[2][0] - points[0][0], points[2][1] - points[0][1]\n",
    "        \n",
    "        if x0 != -y1 or y0 != x1:\n",
    "            return False\n",
    "        \n",
    "        \n",
    "        x0, y0 = points[1][0] - points[3][0], points[1][1] - points[3][1]\n",
    "        x1, y1 = points[2][0] - points[3][0], points[2][1] - points[3][1]\n",
    "        \n",
    "        if x0 != y1 or y0 != -x1:\n",
    "            return False\n",
    "    \n",
    "        \n",
    "        return True"
   ]
  },
  {
   "cell_type": "markdown",
   "metadata": {},
   "source": [
    "## Solution 2. Concise Version of Solution 1"
   ]
  },
  {
   "cell_type": "code",
   "execution_count": null,
   "metadata": {
    "collapsed": true
   },
   "outputs": [],
   "source": [
    "class Solution(object):\n",
    "    def validSquare(self, p1, p2, p3, p4):\n",
    "        \"\"\"\n",
    "        :type p1: List[int]\n",
    "        :type p2: List[int]\n",
    "        :type p3: List[int]\n",
    "        :type p4: List[int]\n",
    "        :rtype: bool\n",
    "        \"\"\"\n",
    "        \n",
    "        if p1 == p2: \n",
    "            return False\n",
    "        \n",
    "        points = sorted((p1, p2, p3, p4))\n",
    "            \n",
    "        if points[1][1] <= points[0][1]:\n",
    "            points[1], points[2] = points[2], points[1]\n",
    "        \n",
    "        \n",
    "        # if points form a square then\n",
    "        # points[0], points[1], points[3], points[2] are in clock wise order. \n",
    "        if points[1][0] - points[0][0] != - (points[2][1] - points[0][1]) or \\\n",
    "           points[1][1] - points[0][1] != points[2][0] - points[0][0] or     \\\n",
    "           points[1][0] - points[3][0] !=  points[2][1] - points[3][1] or    \\\n",
    "           points[1][1] - points[3][1] != -(points[2][0] - points[3][0]):\n",
    "            return False\n",
    "        \n",
    "        return True"
   ]
  }
 ],
 "metadata": {
  "kernelspec": {
   "display_name": "Python 2",
   "language": "python",
   "name": "python2"
  },
  "language_info": {
   "codemirror_mode": {
    "name": "ipython",
    "version": 2
   },
   "file_extension": ".py",
   "mimetype": "text/x-python",
   "name": "python",
   "nbconvert_exporter": "python",
   "pygments_lexer": "ipython2",
   "version": "2.7.13"
  }
 },
 "nbformat": 4,
 "nbformat_minor": 2
}

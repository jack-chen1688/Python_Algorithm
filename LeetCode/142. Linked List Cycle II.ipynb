{
 "cells": [
  {
   "cell_type": "markdown",
   "metadata": {},
   "source": [
    "# 142. Linked List Cycle II"
   ]
  },
  {
   "cell_type": "markdown",
   "metadata": {},
   "source": [
    "Given a linked list, return the node where the cycle begins. If there is no cycle, return null.\n",
    "\n",
    "Note: Do not modify the linked list.\n",
    "\n",
    "Follow up:\n",
    "Can you solve it without using extra space?"
   ]
  },
  {
   "cell_type": "markdown",
   "metadata": {},
   "source": [
    "## Solution"
   ]
  },
  {
   "cell_type": "code",
   "execution_count": null,
   "metadata": {
    "collapsed": true
   },
   "outputs": [],
   "source": [
    "# Definition for singly-linked list.\n",
    "# class ListNode(object):\n",
    "#     def __init__(self, x):\n",
    "#         self.val = x\n",
    "#         self.next = None\n",
    "\n",
    "class Solution(object):\n",
    "    def detectCycle(self, head):\n",
    "        \"\"\"\n",
    "        :type head: ListNode\n",
    "        :rtype: ListNode\n",
    "        \"\"\"\n",
    "        \n",
    "        def inCycle(head, cnt):\n",
    "            node = head.next\n",
    "            for x in xrange(1, cnt):\n",
    "                node = node.next\n",
    "            \n",
    "            return node == head\n",
    "        \n",
    "        if head != None and head.next != None:\n",
    "            slow = head.next\n",
    "            fast = head.next.next\n",
    "            \n",
    "            cnt0 = 1\n",
    "            cycle = 0\n",
    "            while fast != None and fast.next != None:\n",
    "                if slow == fast:\n",
    "                    cycle = 1\n",
    "                    break\n",
    "                slow = slow.next\n",
    "                fast = fast.next.next\n",
    "                cnt0 += 1    \n",
    "            \n",
    "            if cycle == 0:\n",
    "                return None\n",
    "            else:\n",
    "                node = slow.next\n",
    "                cnt1 = 1\n",
    "                \n",
    "                while node != slow:\n",
    "                    node = node.next\n",
    "                    cnt1 += 1\n",
    "                \n",
    "                #print \"cnt1\", cnt1\n",
    "                if cnt1 == 1:\n",
    "                    return node\n",
    "                else:\n",
    "                    for i in xrange(cnt0-cnt1):\n",
    "                        head = head.next\n",
    "                        \n",
    "                    #print head, head.val\n",
    "                    lo = 0\n",
    "                    hi = cnt1\n",
    "                    while lo <= hi:\n",
    "                        mid = (lo + hi)/2\n",
    "                        node = head\n",
    "                        #print hi, lo, mid\n",
    "                        for i in xrange(mid):\n",
    "                            node = node.next\n",
    "                        if inCycle(node, cnt1):\n",
    "                            hi = mid-1\n",
    "                            if hi < lo:\n",
    "                                return node\n",
    "                        else:\n",
    "                            lo = mid+1\n",
    "                            if hi < lo:\n",
    "                                return node.next\n",
    "                        #print hi, lo, mid\n",
    "        else:\n",
    "            return None"
   ]
  }
 ],
 "metadata": {
  "kernelspec": {
   "display_name": "Python 2",
   "language": "python",
   "name": "python2"
  },
  "language_info": {
   "codemirror_mode": {
    "name": "ipython",
    "version": 2
   },
   "file_extension": ".py",
   "mimetype": "text/x-python",
   "name": "python",
   "nbconvert_exporter": "python",
   "pygments_lexer": "ipython2",
   "version": "2.7.13"
  }
 },
 "nbformat": 4,
 "nbformat_minor": 2
}

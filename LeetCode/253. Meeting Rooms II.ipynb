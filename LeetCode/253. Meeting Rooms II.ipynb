{
 "cells": [
  {
   "cell_type": "markdown",
   "metadata": {},
   "source": [
    "# 253. Meeting Rooms II"
   ]
  },
  {
   "cell_type": "markdown",
   "metadata": {},
   "source": [
    "\n",
    "Given an array of meeting time intervals consisting of start and end times [[s1,e1],[s2,e2],...] (si < ei), find the minimum number of conference rooms required.\n",
    "\n",
    "For example,\n",
    "Given [[0, 30],[5, 10],[15, 20]],\n",
    "return 2.\n",
    "\n"
   ]
  },
  {
   "cell_type": "markdown",
   "metadata": {},
   "source": [
    "## Solution 1. Time Exceeded O(n<sup>2</sup>)"
   ]
  },
  {
   "cell_type": "code",
   "execution_count": null,
   "metadata": {
    "collapsed": true
   },
   "outputs": [],
   "source": [
    "# Definition for an interval.\n",
    "# class Interval(object):\n",
    "#     def __init__(self, s=0, e=0):\n",
    "#         self.start = s\n",
    "#         self.end = e\n",
    "\n",
    "class Solution(object):\n",
    "    def minMeetingRooms(self, intervals):\n",
    "        \"\"\"\n",
    "        :type intervals: List[Interval]\n",
    "        :rtype: int\n",
    "        \"\"\"\n",
    "        \n",
    "        intervals.sort(cmp=lambda x,y: x.start - y.start if x.start != y.start else x.end - y.end)\n",
    "        \n",
    "        start = None\n",
    "        send = None`\n",
    "        \n",
    "        max_rooms = 0\n",
    "        for i, interval in enumerate(intervals):\n",
    "            \n",
    "            cnt = 1\n",
    "            for j in xrange(i):\n",
    "                if intervals[j].end > interval.start:\n",
    "                    cnt += 1\n",
    "            \n",
    "            if cnt > max_rooms:\n",
    "                max_rooms = cnt\n",
    "        return max_rooms\n",
    "        "
   ]
  },
  {
   "cell_type": "markdown",
   "metadata": {},
   "source": [
    "## Solution 2. Use dictionary with Time Complexity of O(nlog(n))"
   ]
  },
  {
   "cell_type": "code",
   "execution_count": null,
   "metadata": {
    "collapsed": true
   },
   "outputs": [],
   "source": [
    "# Definition for an interval.\n",
    "# class Interval(object):\n",
    "#     def __init__(self, s=0, e=0):\n",
    "#         self.start = s\n",
    "#         self.end = e\n",
    "\n",
    "class Solution(object):\n",
    "    def minMeetingRooms(self, intervals):\n",
    "        \"\"\"\n",
    "        :type intervals: List[Interval]\n",
    "        :rtype: int\n",
    "        \"\"\"\n",
    "        \n",
    "        from collections import defaultdict\n",
    "        dict = defaultdict(int)\n",
    "        for interval in intervals:\n",
    "            dict[interval.start] += 1\n",
    "            dict[interval.end] -= 1\n",
    "        \n",
    "        lst = sorted(dict.iteritems())\n",
    "        \n",
    "        rooms = 0\n",
    "        max_rooms = 0\n",
    "        for x,y in lst:\n",
    "            rooms += y\n",
    "            if rooms > max_rooms:\n",
    "                max_rooms = rooms\n",
    "        return max_rooms"
   ]
  },
  {
   "cell_type": "markdown",
   "metadata": {},
   "source": [
    "## Solution 2. Similar to Solution 1 with Time Complexity of O(nlog(n))"
   ]
  },
  {
   "cell_type": "code",
   "execution_count": null,
   "metadata": {
    "collapsed": true
   },
   "outputs": [],
   "source": [
    "# Definition for an interval.\n",
    "# class Interval(object):\n",
    "#     def __init__(self, s=0, e=0):\n",
    "#         self.start = s\n",
    "#         self.end = e\n",
    "\n",
    "class Solution(object):\n",
    "    def minMeetingRooms(self, intervals):\n",
    "        \"\"\"\n",
    "        :type intervals: List[Interval]\n",
    "        :rtype: int\n",
    "        \"\"\"\n",
    "        \n",
    "        n = len(intervals)\n",
    "        starts = sorted(interval.start for interval in intervals)\n",
    "        ends = sorted(interval.end for interval in intervals)\n",
    "        \n",
    "        i, j, rooms, ans = 0, 0, 0, 0\n",
    "        \n",
    "        while rooms + n - i > ans:\n",
    "            if starts[i] < ends[j]:\n",
    "                rooms += 1\n",
    "                if rooms > ans:\n",
    "                    ans = rooms\n",
    "                i += 1\n",
    "            elif starts[i] == ends[j]:\n",
    "                i += 1\n",
    "                j += 1\n",
    "            else:\n",
    "                rooms -= 1\n",
    "                j += 1\n",
    "            \n",
    "        return ans"
   ]
  }
 ],
 "metadata": {
  "kernelspec": {
   "display_name": "Python 2",
   "language": "python",
   "name": "python2"
  },
  "language_info": {
   "codemirror_mode": {
    "name": "ipython",
    "version": 2
   },
   "file_extension": ".py",
   "mimetype": "text/x-python",
   "name": "python",
   "nbconvert_exporter": "python",
   "pygments_lexer": "ipython2",
   "version": "2.7.13"
  }
 },
 "nbformat": 4,
 "nbformat_minor": 2
}

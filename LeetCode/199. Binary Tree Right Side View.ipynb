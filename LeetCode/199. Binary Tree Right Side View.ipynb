{
 "cells": [
  {
   "cell_type": "markdown",
   "metadata": {},
   "source": [
    "# 199. Binary Tree Right Side View"
   ]
  },
  {
   "cell_type": "markdown",
   "metadata": {},
   "source": [
    "\n",
    "Given a binary tree, imagine yourself standing on the right side of it, return the values of the nodes you can see ordered from top to bottom.\n",
    "\n",
    "For example:\n",
    "Given the following binary tree,\n",
    "   1            <---\n",
    " /   \\\n",
    "2     3         <---\n",
    " \\     \\\n",
    "  5     4       <---\n",
    "You should return [1, 3, 4].\n",
    "\n",
    "Credits:\n",
    "Special thanks to @amrsaqr for adding this problem and creating all test cases."
   ]
  },
  {
   "cell_type": "markdown",
   "metadata": {},
   "source": [
    "## Solution."
   ]
  },
  {
   "cell_type": "code",
   "execution_count": null,
   "metadata": {
    "collapsed": true
   },
   "outputs": [],
   "source": [
    "# Definition for a binary tree node.\n",
    "# class TreeNode(object):\n",
    "#     def __init__(self, x):\n",
    "#         self.val = x\n",
    "#         self.left = None\n",
    "#         self.right = None\n",
    "\n",
    "class Solution(object):\n",
    "    def rightSideView(self, root):\n",
    "        \"\"\"\n",
    "        :type root: TreeNode\n",
    "        :rtype: List[int]\n",
    "        \"\"\"\n",
    "        \n",
    "        if root == None:\n",
    "            return []\n",
    "        \n",
    "        lst = [root]\n",
    "        result = [root.val]\n",
    "        \n",
    "        while lst != []:\n",
    "            nxt_lst = []\n",
    "            \n",
    "            for node in lst:\n",
    "                if node.left:\n",
    "                    nxt_lst.append(node.left)\n",
    "                if node.right:\n",
    "                    nxt_lst.append(node.right)\n",
    "            \n",
    "            if nxt_lst != []:\n",
    "                result.append(nxt_lst[-1].val)\n",
    "            lst = nxt_lst\n",
    "\n",
    "        \n",
    "        return result"
   ]
  }
 ],
 "metadata": {
  "kernelspec": {
   "display_name": "Python 2",
   "language": "python",
   "name": "python2"
  },
  "language_info": {
   "codemirror_mode": {
    "name": "ipython",
    "version": 2
   },
   "file_extension": ".py",
   "mimetype": "text/x-python",
   "name": "python",
   "nbconvert_exporter": "python",
   "pygments_lexer": "ipython2",
   "version": "2.7.13"
  }
 },
 "nbformat": 4,
 "nbformat_minor": 2
}

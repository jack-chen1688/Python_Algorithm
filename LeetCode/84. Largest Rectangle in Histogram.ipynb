{
 "cells": [
  {
   "cell_type": "markdown",
   "metadata": {},
   "source": [
    "# 84. Largest Rectangle in Histogram"
   ]
  },
  {
   "cell_type": "markdown",
   "metadata": {},
   "source": [
    "Given n non-negative integers representing the histogram's bar height where the width of each bar is 1, find the area of largest rectangle in the histogram.\n",
    "\n",
    "\n",
    "Above is a histogram where width of each bar is 1, given height = [2,1,5,6,2,3].\n",
    "\n",
    "\n",
    "The largest rectangle is shown in the shaded area, which has area = 10 unit.\n",
    "\n",
    "For example,\n",
    "Given heights = [2,1,5,6,2,3],\n",
    "return 10.\n",
    "\n"
   ]
  },
  {
   "cell_type": "markdown",
   "metadata": {},
   "source": [
    "## Solution 1."
   ]
  },
  {
   "cell_type": "code",
   "execution_count": null,
   "metadata": {
    "collapsed": true
   },
   "outputs": [],
   "source": [
    "class Solution(object):\n",
    "    def largestRectangleArea(self, heights):\n",
    "        \"\"\"\n",
    "        :type heights: List[int]\n",
    "        :rtype: int\n",
    "        \"\"\"\n",
    "        \n",
    "        \"\"\"\n",
    "        2 1 5 6 2 3\n",
    "        \n",
    "        (0,0)\n",
    "        (2,1)\n",
    "        (1,2)\n",
    "        (1,2), (5,3)\n",
    "        (1,2), (5,3), (6,4)\n",
    "        (1,2), (5,3), (2,5)\n",
    "        (1,2), (2,3)\n",
    "        (1,2), (2,3), (3,6)  \n",
    "        \"\"\"\n",
    "        stack = [[0,-1]]\n",
    "        ans = 0\n",
    "        heights.append(0) \n",
    "        for i, height in enumerate(heights):\n",
    "            index = i\n",
    "            while stack:\n",
    "                if height < stack[-1][0]:\n",
    "                    val, index = stack.pop()\n",
    "                    ans = max(ans, val * (i - index))\n",
    "                else:\n",
    "                    if height > stack[-1][0]:\n",
    "                        stack.append([height, index])\n",
    "                    break        \n",
    "        return ans"
   ]
  },
  {
   "cell_type": "markdown",
   "metadata": {},
   "source": [
    "## Solution 2"
   ]
  },
  {
   "cell_type": "code",
   "execution_count": null,
   "metadata": {
    "collapsed": true
   },
   "outputs": [],
   "source": [
    "class Solution(object):\n",
    "    def largestRectangleArea(self, heights):\n",
    "        \"\"\"\n",
    "        :type heights: List[int]\n",
    "        :rtype: int\n",
    "        \"\"\"\n",
    "\n",
    "        stack = []\n",
    "        ans = 0\n",
    "    \n",
    "        for i, height in enumerate(heights + [0,0]):\n",
    "            index = i\n",
    "            while stack:\n",
    "                if height < stack[-1][0]:\n",
    "                    val, index = stack.pop()\n",
    "                    ans = max(ans, val * (i - index))\n",
    "                else:\n",
    "                    if height > stack[-1][0]:\n",
    "                        stack.append([height, index])\n",
    "                    break\n",
    "           \n",
    "            if not stack or height != stack[-1][0]:\n",
    "                stack.append([height, index])\n",
    "            \n",
    "        #for val, index in stack:\n",
    "        #    ans = max(ans, val * (len(heights) - index))\n",
    "        return ans"
   ]
  },
  {
   "cell_type": "markdown",
   "metadata": {},
   "source": [
    "## Solution 3"
   ]
  },
  {
   "cell_type": "code",
   "execution_count": null,
   "metadata": {
    "collapsed": true
   },
   "outputs": [],
   "source": [
    "class Solution(object):\n",
    "    def largestRectangleArea(self, heights):\n",
    "        \"\"\"\n",
    "        :type heights: List[int]\n",
    "        :rtype: int\n",
    "        \"\"\"\n",
    "\n",
    "        stack = []\n",
    "        ans = 0\n",
    "    \n",
    "        for i, height in enumerate(heights):\n",
    "            index = i\n",
    "            while stack:\n",
    "                if height < stack[-1][0]:\n",
    "                    val, index = stack.pop()\n",
    "                    ans = max(ans, val * (i - index))\n",
    "                else:\n",
    "                    if height > stack[-1][0]:\n",
    "                        stack.append([height, index])\n",
    "                    break\n",
    "           \n",
    "            if not stack or height != stack[-1][0]:\n",
    "                stack.append([height, index])\n",
    "            \n",
    "        for val, index in stack:\n",
    "            ans = max(ans, val * (len(heights) - index))\n",
    "        return ans"
   ]
  }
 ],
 "metadata": {
  "kernelspec": {
   "display_name": "Python 2",
   "language": "python",
   "name": "python2"
  },
  "language_info": {
   "codemirror_mode": {
    "name": "ipython",
    "version": 2
   },
   "file_extension": ".py",
   "mimetype": "text/x-python",
   "name": "python",
   "nbconvert_exporter": "python",
   "pygments_lexer": "ipython2",
   "version": "2.7.13"
  }
 },
 "nbformat": 4,
 "nbformat_minor": 2
}

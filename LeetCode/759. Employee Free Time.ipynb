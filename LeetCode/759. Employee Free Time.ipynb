{
 "cells": [
  {
   "cell_type": "markdown",
   "metadata": {},
   "source": [
    "# 759. Employee Free Time"
   ]
  },
  {
   "cell_type": "markdown",
   "metadata": {},
   "source": [
    "We are given a list schedule of employees, which represents the working time for each employee.\n",
    "\n",
    "Each employee has a list of non-overlapping Intervals, and these intervals are in sorted order.\n",
    "\n",
    "Return the list of finite intervals representing common, positive-length free time for all employees, also in sorted order.\n",
    "\n",
    "Example 1:\n",
    "Input: schedule = [[[1,2],[5,6]],[[1,3]],[[4,10]]]\n",
    "Output: [[3,4]]\n",
    "Explanation:\n",
    "There are a total of three employees, and all common\n",
    "free time intervals would be [-inf, 1], [3, 4], [10, inf].\n",
    "We discard any intervals that contain inf as they aren't finite.\n",
    "Example 2:\n",
    "Input: schedule = [[[1,3],[6,7]],[[2,4]],[[2,5],[9,12]]]\n",
    "Output: [[5,6],[7,9]]\n",
    "(Even though we are representing Intervals in the form [x, y], the objects inside are Intervals, not lists or arrays. For example, schedule[0][0].start = 1, schedule[0][0].end = 2, and schedule[0][0][0] is not defined.)\n",
    "\n",
    "Also, we wouldn't include intervals like [5, 5] in our answer, as they have zero length.\n",
    "\n",
    "Note:\n",
    "\n",
    "schedule and schedule[i] are lists with lengths in range [1, 50].\n",
    "0 <= schedule[i].start < schedule[i].end <= 10^8."
   ]
  },
  {
   "cell_type": "markdown",
   "metadata": {},
   "source": [
    "## Solution"
   ]
  },
  {
   "cell_type": "code",
   "execution_count": null,
   "metadata": {
    "collapsed": true
   },
   "outputs": [],
   "source": [
    "# Definition for an interval.\n",
    "# class Interval(object):\n",
    "#     def __init__(self, s=0, e=0):\n",
    "#         self.start = s\n",
    "#         self.end = e\n",
    "\n",
    "class Solution(object):\n",
    "    def employeeFreeTime(self, avails):\n",
    "        \"\"\"\n",
    "        :type avails: List[List[Interval]]\n",
    "        :rtype: List[Interval]\n",
    "        \"\"\"\n",
    "        lsts = []\n",
    "        for avail in avails:\n",
    "            for interval in avail:\n",
    "                lsts.append([interval.start, interval.end])\n",
    "        \n",
    "        s_lsts = sorted(lsts)\n",
    "        ans = [s_lsts[0]]\n",
    "        def add_interval(x,y):\n",
    "            x0, y0 = ans[-1]\n",
    "            if y0 >= x:\n",
    "                if y0 < y:\n",
    "                    ans[-1][1] = y\n",
    "            else:\n",
    "                ans.append([x,y])\n",
    "    \n",
    "        for i in xrange(1, len(s_lsts)):\n",
    "            add_interval(s_lsts[i][0], s_lsts[i][1])   \n",
    "\n",
    "        prev_end = ans[0][1]\n",
    "        \n",
    "        res = []\n",
    "        for i in xrange(1, len(ans)):\n",
    "            start, end = ans[i][0], ans[i][1]\n",
    "            interval = Interval(prev_end, start)\n",
    "            res.append(interval)\n",
    "            prev_end = end\n",
    "        return res "
   ]
  }
 ],
 "metadata": {
  "kernelspec": {
   "display_name": "Python 2",
   "language": "python",
   "name": "python2"
  },
  "language_info": {
   "codemirror_mode": {
    "name": "ipython",
    "version": 2
   },
   "file_extension": ".py",
   "mimetype": "text/x-python",
   "name": "python",
   "nbconvert_exporter": "python",
   "pygments_lexer": "ipython2",
   "version": "2.7.13"
  }
 },
 "nbformat": 4,
 "nbformat_minor": 2
}

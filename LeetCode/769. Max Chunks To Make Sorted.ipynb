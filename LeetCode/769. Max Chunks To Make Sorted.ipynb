{
 "cells": [
  {
   "cell_type": "markdown",
   "metadata": {},
   "source": [
    "# 769. Max Chunks To Make Sorted"
   ]
  },
  {
   "cell_type": "markdown",
   "metadata": {},
   "source": [
    "Given an array arr that is a permutation of [0, 1, ..., arr.length - 1], we split the array into some number of \"chunks\" (partitions), and individually sort each chunk.  After concatenating them, the result equals the sorted array.\n",
    "\n",
    "What is the most number of chunks we could have made?\n",
    "\n",
    "Example 1:\n",
    "\n",
    "Input: arr = [4,3,2,1,0]\n",
    "Output: 1\n",
    "Explanation:\n",
    "Splitting into two or more chunks will not return the required result.\n",
    "For example, splitting into [4, 3], [2, 1, 0] will result in [3, 4, 0, 1, 2], which isn't sorted.\n",
    "Example 2:\n",
    "\n",
    "Input: arr = [1,0,2,3,4]\n",
    "Output: 4\n",
    "Explanation:\n",
    "We can split into two chunks, such as [1, 0], [2, 3, 4].\n",
    "However, splitting into [1, 0], [2], [3], [4] is the highest number of chunks possible.\n",
    "Note:\n",
    "\n",
    "arr will have length in range [1, 10].\n",
    "arr[i] will be a permutation of [0, 1, ..., arr.length - 1]."
   ]
  },
  {
   "cell_type": "markdown",
   "metadata": {},
   "source": [
    "## Solution. Recursive Approach"
   ]
  },
  {
   "cell_type": "code",
   "execution_count": null,
   "metadata": {
    "collapsed": true
   },
   "outputs": [],
   "source": [
    "class Solution(object):\n",
    "    def maxChunksToSorted(self, arr):\n",
    "        \"\"\"\n",
    "        :type arr: List[int]\n",
    "        :rtype: int\n",
    "        \"\"\"\n",
    "        \"\"\"\n",
    "        [2, 3, 5, 1, 2, 3, 6, 3, 6, 7, 8 ]        \n",
    "        split into 2, right always no less than left.\n",
    "        \"\"\"\n",
    "        \n",
    "        n = len(arr)\n",
    "        val = arr[0]\n",
    "        max_val = arr[0]\n",
    "        pos = 0\n",
    "        last = 0\n",
    "        for i, num in enumerate(arr[pos+1:], start = pos+1):\n",
    "            if num < val:\n",
    "                last = i\n",
    "                found = 1\n",
    "                val = max_val\n",
    "\n",
    "            if num > max_val:\n",
    "                max_val = num\n",
    "\n",
    "        if last == n-1:\n",
    "            return 1\n",
    "        else:\n",
    "            return 1 + self.maxChunksToSorted(arr[last+1:])\n",
    "        "
   ]
  },
  {
   "cell_type": "markdown",
   "metadata": {},
   "source": [
    "## Solution 2. Iterative Approach"
   ]
  },
  {
   "cell_type": "code",
   "execution_count": null,
   "metadata": {
    "collapsed": true
   },
   "outputs": [],
   "source": [
    "class Solution(object):\n",
    "    def maxChunksToSorted(self, arr):\n",
    "        \"\"\"\n",
    "        :type arr: List[int]\n",
    "        :rtype: int\n",
    "        \"\"\"\n",
    "        \"\"\"\n",
    "        [2, 3, 5, 1, 2, 3, 6, 3, 6, 7, 8 ]        \n",
    "        split into 2, right always no less than left.\n",
    "        \"\"\"\n",
    "        \n",
    "        n = len(arr)\n",
    "        \n",
    "        pos = 0\n",
    "        last = 0\n",
    "        ans = 0\n",
    "        \n",
    "        while pos < n:\n",
    "            val, max_val = arr[pos], arr[pos]\n",
    "            \n",
    "            for i, num in enumerate(arr[pos+1:], start = pos+1):\n",
    "                if num < val:\n",
    "                    last = i\n",
    "                    found = 1\n",
    "                    val = max_val\n",
    "\n",
    "                if num > max_val:\n",
    "                    max_val = num\n",
    "\n",
    "            if last == n-1:\n",
    "                return ans + 1\n",
    "            else:\n",
    "                ans += 1\n",
    "                pos = last + 1\n",
    "                last = last + 1"
   ]
  }
 ],
 "metadata": {
  "kernelspec": {
   "display_name": "Python 2",
   "language": "python",
   "name": "python2"
  },
  "language_info": {
   "codemirror_mode": {
    "name": "ipython",
    "version": 2
   },
   "file_extension": ".py",
   "mimetype": "text/x-python",
   "name": "python",
   "nbconvert_exporter": "python",
   "pygments_lexer": "ipython2",
   "version": "2.7.13"
  }
 },
 "nbformat": 4,
 "nbformat_minor": 2
}

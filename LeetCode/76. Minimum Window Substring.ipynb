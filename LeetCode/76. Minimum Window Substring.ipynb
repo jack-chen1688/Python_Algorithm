{
 "cells": [
  {
   "cell_type": "markdown",
   "metadata": {},
   "source": [
    "# 76. Minimum Window Substring"
   ]
  },
  {
   "cell_type": "markdown",
   "metadata": {},
   "source": [
    "Given a string S and a string T, find the minimum window in S which will contain all the characters in T in \n",
    "complexity O(n).\n",
    "\n",
    "For example,\n",
    "S = \"ADOBECODEBANC\"\n",
    "T = \"ABC\"\n",
    "Minimum window is \"BANC\".\n",
    "\n",
    "Note:\n",
    "If there is no such window in S that covers all characters in T, return the empty string \"\".\n",
    "\n",
    "If there are multiple such windows, you are guaranteed that there will always be only one unique minimum window in \n",
    "S."
   ]
  },
  {
   "cell_type": "markdown",
   "metadata": {},
   "source": [
    "## Solution"
   ]
  },
  {
   "cell_type": "code",
   "execution_count": null,
   "metadata": {
    "collapsed": true
   },
   "outputs": [],
   "source": [
    "# Definition for an interval.\n",
    "# class Interval(object):\n",
    "#     def __init__(self, s=0, e=0):\n",
    "#         self.start = s\n",
    "#         self.end = e\n",
    "\n",
    "class Solution(object):\n",
    "    def insert(self, intervals, newInterval):\n",
    "        \"\"\"\n",
    "        :type intervals: List[Interval]\n",
    "        :type newInterval: Interval\n",
    "        :rtype: List[Interval]\n",
    "        \"\"\"\n",
    "\n",
    "        vals = [x.start for x in intervals]\n",
    "\n",
    "        left_pos = bisect.bisect_left(vals, newInterval.start)\n",
    "        right_pos = bisect.bisect_right(vals, newInterval.end)\n",
    "\n",
    "        #if right_pos == 0:\n",
    "        #    intervals.insert(0, newInterval)  ### trap\n",
    "        #    return intervals\n",
    "\n",
    "        #if left_pos == 0:\n",
    "        #    intervals[right_pos-1].start = newInterval.start\n",
    "        #    intervals[right_pos-1].end = max(newInterval.end, intervals[right_pos-1].end) \n",
    "        #    return intervals[right_pos-1:]\n",
    "        #else:\n",
    "        if left_pos > 0 and intervals[left_pos - 1].end >= newInterval.start:\n",
    "            # need to merge at left side\n",
    "            intervals[right_pos - 1].start = intervals[left_pos - 1].start\n",
    "            intervals[right_pos - 1].end = max(newInterval.end, intervals[right_pos-1].end)\n",
    "            del intervals[left_pos-1:right_pos-1]\n",
    "        else:\n",
    "            if right_pos == left_pos:\n",
    "                intervals.insert(left_pos, newInterval)\n",
    "            else:\n",
    "                intervals[right_pos-1].start = newInterval.start\n",
    "                intervals[right_pos-1].end = max(newInterval.end, intervals[right_pos-1].end)\n",
    "                del intervals[left_pos: right_pos-1]\n",
    "        return intervals\n",
    "        "
   ]
  }
 ],
 "metadata": {
  "kernelspec": {
   "display_name": "Python 2",
   "language": "python",
   "name": "python2"
  },
  "language_info": {
   "codemirror_mode": {
    "name": "ipython",
    "version": 2
   },
   "file_extension": ".py",
   "mimetype": "text/x-python",
   "name": "python",
   "nbconvert_exporter": "python",
   "pygments_lexer": "ipython2",
   "version": "2.7.13"
  }
 },
 "nbformat": 4,
 "nbformat_minor": 2
}

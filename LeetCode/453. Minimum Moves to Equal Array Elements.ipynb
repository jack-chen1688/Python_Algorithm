{
 "cells": [
  {
   "cell_type": "markdown",
   "metadata": {},
   "source": [
    "# 453. Minimum Moves to Equal Array Elements"
   ]
  },
  {
   "cell_type": "markdown",
   "metadata": {},
   "source": [
    "Given a non-empty integer array of size n, find the minimum number of moves required to make all array elements equal, where a move is incrementing n - 1 elements by 1.\n",
    "\n",
    "Example:\n",
    "\n",
    "Input:\n",
    "[1,2,3]\n",
    "\n",
    "Output:\n",
    "3\n",
    "\n",
    "Explanation:\n",
    "Only three moves are needed (remember each move increments two elements):\n",
    "\n",
    "[1,2,3]  =>  [2,3,3]  =>  [3,4,3]  =>  [4,4,4]"
   ]
  },
  {
   "cell_type": "markdown",
   "metadata": {},
   "source": [
    "## Solution 1.\n",
    "\n",
    "Use min(nums) as base. The total distances of all numbers relative to the base (mininum value)\n",
    "can decrease at most by 1 for each step. \n",
    "\n",
    "An easy way to understand this is below.\n",
    "Increase n-1 elements by 1 is equal to the following two steps\n",
    "1. Every elment increases by 1, this step has zero effect as differences between elements are the same as before. \n",
    "2. One element decreases by 1. As long as the element is not the minimum value, the total distances relative to \n",
    "   the minimum value will be reduce by 1. \n",
    "\n",
    "This also tells us how to choose n-1 elements at each step. We need to make sure that the one left is not equal to the minimum value. \n"
   ]
  },
  {
   "cell_type": "code",
   "execution_count": null,
   "metadata": {
    "collapsed": true
   },
   "outputs": [],
   "source": [
    "class Solution(object):\n",
    "    def minMoves(self, nums):\n",
    "        \"\"\"`\n",
    "        :type nums: List[int]\n",
    "        :rtype: int\n",
    "        \"\"\"\n",
    "\n",
    "        return sum(nums) - min(nums)*len(nums)\n",
    "    \n"
   ]
  },
  {
   "cell_type": "markdown",
   "metadata": {},
   "source": [
    "## Solution 2. Similar to Solution 1."
   ]
  },
  {
   "cell_type": "code",
   "execution_count": null,
   "metadata": {
    "collapsed": true
   },
   "outputs": [],
   "source": [
    "class Solution(object):\n",
    "    def minMoves(self, nums):\n",
    "        \"\"\"\n",
    "        :type nums: List[int]\n",
    "        :rtype: int\n",
    "        \"\"\"\n",
    "        min_val = min(nums)\n",
    "        return reduce(lambda x,y: x + (y-min_val), nums,0)"
   ]
  }
 ],
 "metadata": {
  "kernelspec": {
   "display_name": "Python 2",
   "language": "python",
   "name": "python2"
  },
  "language_info": {
   "codemirror_mode": {
    "name": "ipython",
    "version": 2
   },
   "file_extension": ".py",
   "mimetype": "text/x-python",
   "name": "python",
   "nbconvert_exporter": "python",
   "pygments_lexer": "ipython2",
   "version": "2.7.13"
  }
 },
 "nbformat": 4,
 "nbformat_minor": 2
}

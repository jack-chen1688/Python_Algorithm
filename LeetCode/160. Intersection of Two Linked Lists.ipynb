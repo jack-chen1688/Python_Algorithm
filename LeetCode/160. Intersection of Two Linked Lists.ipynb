{
 "cells": [
  {
   "cell_type": "markdown",
   "metadata": {},
   "source": [
    "# 160. Intersection of Two Linked Lists"
   ]
  },
  {
   "cell_type": "markdown",
   "metadata": {},
   "source": [
    "Write a program to find the node at which the intersection of two singly linked lists begins.\n",
    "\n",
    "\n",
    "For example, the following two linked lists:\n",
    "\n",
    "A:          a1 → a2\n",
    "                   ↘\n",
    "                     c1 → c2 → c3\n",
    "                   ↗            \n",
    "B:     b1 → b2 → b3\n",
    "begin to intersect at node c1.\n",
    "\n",
    "\n",
    "Notes:\n",
    "\n",
    "If the two linked lists have no intersection at all, return null.\n",
    "The linked lists must retain their original structure after the function returns.\n",
    "You may assume there are no cycles anywhere in the entire linked structure.\n",
    "Your code should preferably run in O(n) time and use only O(1) memory.\n",
    "Credits:\n",
    "Special thanks to @stellari for adding this problem and creating all test cases."
   ]
  },
  {
   "cell_type": "markdown",
   "metadata": {},
   "source": [
    "## Solution 1. O(n) Time and O(n) Space"
   ]
  },
  {
   "cell_type": "code",
   "execution_count": null,
   "metadata": {
    "collapsed": true
   },
   "outputs": [],
   "source": [
    "class Solution(object):\n",
    "    def getIntersectionNode(self, headA, headB):\n",
    "        \"\"\"\n",
    "        :type head1, head1: ListNode\n",
    "        :rtype: ListNode\n",
    "        \"\"\"\n",
    "        \n",
    "        if headA == None or headB == None: \n",
    "            return None\n",
    "        \n",
    "        node_set = set()\n",
    "        node_set.add(headA)\n",
    "        \n",
    "        while headA != None:\n",
    "            headA = headA.next\n",
    "            node_set.add(headA)\n",
    "        \n",
    "        while headB != None:\n",
    "            if headB in node_set:\n",
    "                return headB\n",
    "            \n",
    "            headB = headB.next\n",
    "        \n",
    "        return None"
   ]
  },
  {
   "cell_type": "markdown",
   "metadata": {},
   "source": [
    "## Solution 2. O(n) Time Complexity and O(1) Space"
   ]
  },
  {
   "cell_type": "code",
   "execution_count": null,
   "metadata": {
    "collapsed": true
   },
   "outputs": [],
   "source": [
    "# Definition for singly-linked list.\n",
    "# class ListNode(object):\n",
    "#     def __init__(self, x):\n",
    "#         self.val = x\n",
    "#         self.next = None\n",
    "\n",
    "class Solution(object):\n",
    "    def getIntersectionNode(self, headA, headB):\n",
    "        \"\"\"\n",
    "        :type head1, head1: ListNode\n",
    "        :rtype: ListNode\n",
    "        \"\"\"\n",
    "        \n",
    "        def listLen(head):\n",
    "            len = 0\n",
    "            while head:\n",
    "                len += 1\n",
    "                head = head.next\n",
    "            return len\n",
    "        \n",
    "        if headA == None or headB == None:\n",
    "            return None\n",
    "        \n",
    "        lenA = listLen(headA)\n",
    "        lenB = listLen(headB)\n",
    "        \n",
    "        if lenA > lenB:\n",
    "            cnt = lenA - lenB\n",
    "            \n",
    "            while cnt:\n",
    "                headA = headA.next\n",
    "                cnt -= 1\n",
    "        \n",
    "        elif lenB > lenA:\n",
    "            cnt = lenB - lenA\n",
    "            \n",
    "            while cnt:\n",
    "                headB = headB.next\n",
    "                cnt -= 1\n",
    "        \n",
    "        while headA:\n",
    "            if headA == headB:\n",
    "                return headA\n",
    "            else:\n",
    "                headA = headA.next\n",
    "                headB = headB.next\n",
    "        \n",
    "        return None\n",
    "        "
   ]
  }
 ],
 "metadata": {
  "kernelspec": {
   "display_name": "Python 2",
   "language": "python",
   "name": "python2"
  },
  "language_info": {
   "codemirror_mode": {
    "name": "ipython",
    "version": 2
   },
   "file_extension": ".py",
   "mimetype": "text/x-python",
   "name": "python",
   "nbconvert_exporter": "python",
   "pygments_lexer": "ipython2",
   "version": "2.7.13"
  }
 },
 "nbformat": 4,
 "nbformat_minor": 2
}

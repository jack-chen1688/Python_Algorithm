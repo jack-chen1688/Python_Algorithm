{
 "cells": [
  {
   "cell_type": "markdown",
   "metadata": {},
   "source": [
    "# 37. Sudoku Solver"
   ]
  },
  {
   "cell_type": "markdown",
   "metadata": {},
   "source": [
    "Write a program to solve a Sudoku puzzle by filling the empty cells.\n",
    "\n",
    "A sudoku solution must satisfy all of the following rules:\n",
    "\n",
    "Each of the digits 1-9 must occur exactly once in each row.\n",
    "Each of the digits 1-9 must occur exactly once in each column.\n",
    "Each of the the digits 1-9 must occur exactly once in each of the 9 3x3 sub-boxes of the grid.\n",
    "Empty cells are indicated by the character '.'.\n",
    "\n",
    "Note:\n",
    "\n",
    "The given board contain only digits 1-9 and the character '.'.\n",
    "You may assume that the given Sudoku puzzle will have a single unique solution.\n",
    "The given board size is always 9x9."
   ]
  },
  {
   "cell_type": "markdown",
   "metadata": {},
   "source": [
    "## Solution 1. DFS Recursive approach "
   ]
  },
  {
   "cell_type": "code",
   "execution_count": null,
   "metadata": {},
   "outputs": [],
   "source": [
    "class Solution:    \n",
    "    def solveSudoku(self, board):\n",
    "        \"\"\"\n",
    "        :type board: List[List[str]]\n",
    "        :rtype: void Do not return anything, modify board in-place instead.\n",
    "        \"\"\"\n",
    "        def noDuplicate(L):\n",
    "            L1 = [x for x in L if x != \".\"]\n",
    "            return len(set(L1)) == len(L1)    \n",
    "\n",
    "            \n",
    "        def isValid(i, j):\n",
    "            if noDuplicate(board[i]) and noDuplicate([board[i][j] for i in range(9)]) \\\n",
    "                and noDuplicate(board[i//3*3 + x][j//3*3 + y] for x in range(3) for y in range(3)):\n",
    "                return True\n",
    "            else:\n",
    "                return False\n",
    "            \n",
    "        row = board\n",
    "        empty_cells = []\n",
    "        \n",
    "        for i, row in enumerate(board):\n",
    "            for j, col in enumerate(row):\n",
    "                if row[j] == \".\":\n",
    "                    empty_cells.append([i,j])\n",
    "                    \n",
    "        def doit():\n",
    "            if empty_cells:\n",
    "                x, y = empty_cells.pop()\n",
    "                \n",
    "                for val in range(1,10):\n",
    "                    board[x][y] = str(val)\n",
    "                    if isValid(x, y) and doit():\n",
    "                        return True\n",
    "                    else:\n",
    "                        board[x][y] = '.'\n",
    "                empty_cells.append([x,y])\n",
    "                return False\n",
    "            else:\n",
    "                return True\n",
    "        doit()"
   ]
  },
  {
   "cell_type": "markdown",
   "metadata": {},
   "source": [
    "## Solution 2. Enhanced from Solution 1"
   ]
  },
  {
   "cell_type": "code",
   "execution_count": null,
   "metadata": {},
   "outputs": [],
   "source": [
    "class Solution:    \n",
    "    def solveSudoku(self, board):\n",
    "        \"\"\"\n",
    "        :type board: List[List[str]]\n",
    "        :rtype: void Do not return anything, modify board in-place instead.\n",
    "        \"\"\"\n",
    "        \n",
    "        def getPossible(i, j):\n",
    "            s = set(\"123456789\")\n",
    "            for x in board[i]:\n",
    "                s.discard(x)\n",
    "\n",
    "            for x in range(9):\n",
    "                s.discard(board[x][j])\n",
    "\n",
    "            for x in range(3):\n",
    "                for y in range(3):\n",
    "                    s.discard(board[i//3*3+x][j//3*3+y])\n",
    "            return list(s)\n",
    "\n",
    "        empty_cells = []\n",
    "        \n",
    "        for i, row in enumerate(board):\n",
    "            for j, col in enumerate(row):\n",
    "                if row[j] == \".\":\n",
    "                    empty_cells.append([i,j])\n",
    "         \n",
    "        def doit():\n",
    "            if empty_cells:\n",
    "                x, y = empty_cells.pop()\n",
    "                for val in getPossible(x, y):\n",
    "                    board[x][y] = val\n",
    "                    if doit():\n",
    "                        return True\n",
    "                board[x][y] = \".\"\n",
    "                empty_cells.append([x,y])\n",
    "                return False\n",
    "            else:\n",
    "                return True\n",
    "            \n",
    "        doit()"
   ]
  }
 ],
 "metadata": {
  "kernelspec": {
   "display_name": "Python 3",
   "language": "python",
   "name": "python3"
  },
  "language_info": {
   "codemirror_mode": {
    "name": "ipython",
    "version": 3
   },
   "file_extension": ".py",
   "mimetype": "text/x-python",
   "name": "python",
   "nbconvert_exporter": "python",
   "pygments_lexer": "ipython3",
   "version": "3.7.1"
  }
 },
 "nbformat": 4,
 "nbformat_minor": 2
}

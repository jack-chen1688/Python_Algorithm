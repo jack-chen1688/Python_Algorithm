{
 "cells": [
  {
   "cell_type": "markdown",
   "metadata": {},
   "source": [
    "# 777. Swap Adjacent in LR String"
   ]
  },
  {
   "cell_type": "markdown",
   "metadata": {},
   "source": [
    "In a string composed of 'L', 'R', and 'X' characters, like \"RXXLRXRXL\", a move consists of either replacing one \n",
    "occurrence of \"XL\" with \"LX\", or replacing one occurrence of \"RX\" with \"XR\". Given the starting string start and \n",
    "the ending string end, return True if and only if there exists a sequence of moves to transform one string to the \n",
    "other.\n",
    "\n",
    "Example:\n",
    "\n",
    "Input: start = \"RXXLRXRXL\", end = \"XRLXXRRLX\"\n",
    "Output: True\n",
    "Explanation:\n",
    "We can transform start to end following these steps:\n",
    "RXXLRXRXL ->\n",
    "XRXLRXRXL ->\n",
    "XRLXRXRXL ->\n",
    "XRLXXRRXL ->\n",
    "XRLXXRRLX\n",
    "Note:\n",
    "\n",
    "1 <= len(start) = len(end) <= 10000.\n",
    "Both start and end will only consist of characters in {'L', 'R', 'X'}."
   ]
  },
  {
   "cell_type": "markdown",
   "metadata": {},
   "source": [
    "## Solution"
   ]
  },
  {
   "cell_type": "code",
   "execution_count": null,
   "metadata": {
    "collapsed": true
   },
   "outputs": [],
   "source": [
    "class Solution(object):\n",
    "    def canTransform(self, start, end):\n",
    "        \"\"\"\n",
    "        :type start: str\n",
    "        :type end: str\n",
    "        :rtype: bool\n",
    "        \"\"\"\n",
    "        def getLR(s):\n",
    "            ans = []\n",
    "            for i, ch in enumerate(s):\n",
    "                if ch == \"L\" or ch == \"R\":\n",
    "                    ans.append((ch,i))  \n",
    "            return ans\n",
    "    \n",
    "        start_LR, end_LR = getLR(start), getLR(end)\n",
    "       \n",
    "        if len(start_LR) != len(end_LR):\n",
    "            return False\n",
    "        \n",
    "        for s, e in zip(start_LR, end_LR):\n",
    "            if s[0] != e[0]:\n",
    "                return False\n",
    "            elif s[0] == \"L\":\n",
    "                if s[1] < e[1]:\n",
    "                    return False\n",
    "            else:\n",
    "                # \"R\"\n",
    "                if s[1] > e[1]:\n",
    "                    return False\n",
    "        return True"
   ]
  }
 ],
 "metadata": {
  "kernelspec": {
   "display_name": "Python 2",
   "language": "python",
   "name": "python2"
  },
  "language_info": {
   "codemirror_mode": {
    "name": "ipython",
    "version": 2
   },
   "file_extension": ".py",
   "mimetype": "text/x-python",
   "name": "python",
   "nbconvert_exporter": "python",
   "pygments_lexer": "ipython2",
   "version": "2.7.13"
  }
 },
 "nbformat": 4,
 "nbformat_minor": 2
}

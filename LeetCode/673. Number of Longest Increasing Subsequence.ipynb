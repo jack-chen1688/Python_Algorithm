{
 "cells": [
  {
   "cell_type": "markdown",
   "metadata": {},
   "source": [
    "# 673. Number of Longest Increasing Subsequence"
   ]
  },
  {
   "cell_type": "markdown",
   "metadata": {},
   "source": [
    "Given an unsorted array of integers, find the number of longest increasing subsequence.\n",
    "\n",
    "Example 1:\n",
    "Input: [1,3,5,4,7]\n",
    "Output: 2\n",
    "Explanation: The two longest increasing subsequence are [1, 3, 4, 7] and [1, 3, 5, 7].\n",
    "Example 2:\n",
    "Input: [2,2,2,2,2]\n",
    "Output: 5\n",
    "Explanation: The length of longest continuous increasing subsequence is 1, and there are 5 subsequences' length is 1, so output 5.\n",
    "Note: Length of the given array will be not exceed 2000 and the answer is guaranteed to be fit in 32-bit signed int."
   ]
  },
  {
   "cell_type": "markdown",
   "metadata": {},
   "source": [
    "## Solution"
   ]
  },
  {
   "cell_type": "code",
   "execution_count": null,
   "metadata": {
    "collapsed": true
   },
   "outputs": [],
   "source": [
    "class Solution(object):\n",
    "    def findNumberOfLIS(self, nums):\n",
    "        \"\"\"\n",
    "        :type nums: List[int]\n",
    "        :rtype: int\n",
    "        \"\"\"\n",
    "        \n",
    "        n = len(nums)\n",
    "        if n <= 1:\n",
    "            return n\n",
    "        \n",
    "        #max length that ends at ith location, cnt of max length that ends at ith location\n",
    "        lsts = [[1,1]]\n",
    "        \n",
    "        for i in xrange(1,n):\n",
    "            max_len = 1\n",
    "            cnt = 1\n",
    "            for j in xrange(i-1,-1,-1):\n",
    "                if nums[i] > nums[j]:\n",
    "                    length = lsts[j][0] + 1\n",
    "                    if max_len == length:\n",
    "                        cnt += lsts[j][1]\n",
    "                    elif max_len < length:\n",
    "                        cnt = lsts[j][1]\n",
    "                        max_len = length\n",
    "                        \n",
    "            lsts.append([max_len, cnt])\n",
    "        \n",
    "        max_len_tot = 0\n",
    "        res = 0\n",
    "        for lst in lsts:\n",
    "            if lst[0] > max_len_tot:\n",
    "                res = lst[1]\n",
    "                max_len_tot = lst[0]\n",
    "            elif lst[0] == max_len_tot:\n",
    "                res += lst[1]\n",
    "                \n",
    "        return res"
   ]
  }
 ],
 "metadata": {
  "kernelspec": {
   "display_name": "Python 2",
   "language": "python",
   "name": "python2"
  },
  "language_info": {
   "codemirror_mode": {
    "name": "ipython",
    "version": 2
   },
   "file_extension": ".py",
   "mimetype": "text/x-python",
   "name": "python",
   "nbconvert_exporter": "python",
   "pygments_lexer": "ipython2",
   "version": "2.7.13"
  }
 },
 "nbformat": 4,
 "nbformat_minor": 2
}

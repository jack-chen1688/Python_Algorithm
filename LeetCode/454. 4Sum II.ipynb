{
 "cells": [
  {
   "cell_type": "markdown",
   "metadata": {},
   "source": [
    "# 454. 4Sum II"
   ]
  },
  {
   "cell_type": "markdown",
   "metadata": {},
   "source": [
    "Given four lists A, B, C, D of integer values, compute how many tuples (i, j, k, l) there are such that A[i] + B[j] + C[k] + D[l] is zero.\n",
    "\n",
    "To make problem a bit easier, all A, B, C, D have same length of N where 0 ≤ N ≤ 500. All integers are in the range of -228 to 228 - 1 and the result is guaranteed to be at most 231 - 1.\n",
    "\n",
    "Example:\n",
    "\n",
    "Input:\n",
    "A = [ 1, 2]\n",
    "B = [-2,-1]\n",
    "C = [-1, 2]\n",
    "D = [ 0, 2]\n",
    "\n",
    "Output:\n",
    "2\n",
    "\n",
    "Explanation:\n",
    "The two tuples are:\n",
    "1. (0, 0, 0, 1) -> A[0] + B[0] + C[0] + D[1] = 1 + (-2) + (-1) + 2 = 0\n",
    "2. (1, 1, 0, 0) -> A[1] + B[1] + C[0] + D[0] = 2 + (-1) + (-1) + 0 = 0"
   ]
  },
  {
   "cell_type": "markdown",
   "metadata": {},
   "source": [
    "## Solution 1. Time Exceeded"
   ]
  },
  {
   "cell_type": "code",
   "execution_count": 1,
   "metadata": {
    "collapsed": true
   },
   "outputs": [],
   "source": [
    "class Solution(object):\n",
    "    def fourSumCount(self, A, B, C, D):\n",
    "        \"\"\"\n",
    "        :type A: List[int]\n",
    "        :type B: List[int]\n",
    "        :type C: List[int]\n",
    "        :type D: List[int]\n",
    "        :rtype: int\n",
    "        \"\"\"\n",
    "        #result = []\n",
    "        dictA, dict2, dictD = {}, {}, {}\n",
    "        \n",
    "        result = 0\n",
    "        \n",
    "        for d in D:\n",
    "            if d not in dictD:\n",
    "                dictD[d] = 1\n",
    "            else:\n",
    "                dictD[d] += 1 \n",
    "                        \n",
    "        for a in A:        \n",
    "            if a not in dictA: \n",
    "                countA = 0\n",
    "                for b in B:\n",
    "                    twoSum = a+b\n",
    "                    if twoSum not in dict2:\n",
    "                        countB = 0\n",
    "                        target = -twoSum\n",
    "                        for c in C:\n",
    "                            if target - c in dictD:\n",
    "                                countB += dictD[target-c]\n",
    "                        dict2[twoSum] = countB\n",
    "\n",
    "                    countA += dict2[twoSum]\n",
    "                dictA[a] = countA\n",
    "                \n",
    "            result += dictA[a] \n",
    "\n",
    "        return result"
   ]
  },
  {
   "cell_type": "markdown",
   "metadata": {},
   "source": [
    "## Solution 2.  O(n<sup>2</sup>)"
   ]
  },
  {
   "cell_type": "code",
   "execution_count": 2,
   "metadata": {
    "collapsed": true
   },
   "outputs": [],
   "source": [
    "class Solution(object):\n",
    "    def fourSumCount(self, A, B, C, D):\n",
    "        \"\"\"\n",
    "        :type A: List[int]\n",
    "        :type B: List[int]\n",
    "        :type C: List[int]\n",
    "        :type D: List[int]\n",
    "        :rtype: int\n",
    "        \"\"\"\n",
    "        #result = []\n",
    "        dictAB, dictCD = {}, {}\n",
    "        \n",
    "        for a in A:\n",
    "            for b in B:\n",
    "                sumAB = a+b\n",
    "                dictAB[sumAB] = dictAB.get(sumAB, 0) + 1\n",
    "                    \n",
    "        for c in C:\n",
    "            for d in D:\n",
    "                sumCD = c+d\n",
    "                dictCD[sumCD] = dictCD.get(sumCD, 0) + 1\n",
    "        \n",
    "        result = 0\n",
    "        for ab in dictAB.keys():\n",
    "            if -ab in dictCD:\n",
    "                result += dictAB[ab] * dictCD[-ab]\n",
    "            \n",
    "        return result"
   ]
  },
  {
   "cell_type": "markdown",
   "metadata": {},
   "source": [
    "## Solution 3. Enhancement for Solution 2"
   ]
  },
  {
   "cell_type": "code",
   "execution_count": 3,
   "metadata": {
    "collapsed": true
   },
   "outputs": [],
   "source": [
    "class Solution(object):\n",
    "    def fourSumCount(self, A, B, C, D):\n",
    "        \"\"\"\n",
    "        :type A: List[int]\n",
    "        :type B: List[int]\n",
    "        :type C: List[int]\n",
    "        :type D: List[int]\n",
    "        :rtype: int\n",
    "        \"\"\"\n",
    "        #result = []\n",
    "        dictAB = {}\n",
    "        \n",
    "        result = 0\n",
    "        \n",
    "        for a in A:\n",
    "            for b in B:\n",
    "                sumAB = a+b\n",
    "                dictAB[sumAB] = dictAB.get(sumAB, 0) + 1\n",
    "                    \n",
    "        for c in C:\n",
    "            for d in D:\n",
    "                sumCD = c+d\n",
    "                result += dictAB.get(-sumCD, 0)\n",
    "\n",
    "        return result"
   ]
  }
 ],
 "metadata": {
  "kernelspec": {
   "display_name": "Python 2",
   "language": "python",
   "name": "python2"
  },
  "language_info": {
   "codemirror_mode": {
    "name": "ipython",
    "version": 2
   },
   "file_extension": ".py",
   "mimetype": "text/x-python",
   "name": "python",
   "nbconvert_exporter": "python",
   "pygments_lexer": "ipython2",
   "version": "2.7.13"
  }
 },
 "nbformat": 4,
 "nbformat_minor": 2
}

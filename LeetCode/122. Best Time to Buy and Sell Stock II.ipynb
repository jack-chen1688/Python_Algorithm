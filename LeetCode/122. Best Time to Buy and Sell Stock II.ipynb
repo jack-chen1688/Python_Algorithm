{
 "cells": [
  {
   "cell_type": "markdown",
   "metadata": {},
   "source": [
    "# 122. Best Time to Buy and Sell Stock II"
   ]
  },
  {
   "cell_type": "markdown",
   "metadata": {},
   "source": [
    "Say you have an array for which the ith element is the price of a given stock on day i.\n",
    "\n",
    "Design an algorithm to find the maximum profit. You may complete as many transactions as you like (ie, buy one and sell one share of the stock multiple times). However, you may not engage in multiple transactions at the same time (ie, you must sell the stock before you buy again).\n",
    "\n"
   ]
  },
  {
   "cell_type": "markdown",
   "metadata": {},
   "source": [
    "## Solution 1"
   ]
  },
  {
   "cell_type": "code",
   "execution_count": null,
   "metadata": {
    "collapsed": true
   },
   "outputs": [],
   "source": [
    "class Solution(object):\n",
    "    def maxProfit(self, prices):\n",
    "        \"\"\"\n",
    "        :type prices: List[int]\n",
    "        :rtype: int\n",
    "        \"\"\"\n",
    "        \n",
    "        #[1, 3, 2, 2, 4]\n",
    "        \n",
    "        n = len(prices)\n",
    "        if n <= 1:\n",
    "            return 0\n",
    "        \n",
    "        lst = [prices[0]]\n",
    "        \n",
    "        for i in xrange(1, n):\n",
    "            if prices[i] != lst[-1]:\n",
    "                lst.append(prices[i])\n",
    "        \n",
    "        lst = [float(\"inf\")] + lst + [float(\"-inf\")]\n",
    "        n = len(lst)\n",
    "        \n",
    "        buy = None\n",
    "        sell = None\n",
    "        res = 0\n",
    "        for i in xrange(n-2):\n",
    "            if lst[i] > lst[i+1] < lst[i+2]:\n",
    "                buy = lst[i+1]\n",
    "            elif lst[i] < lst[i+1] > lst[i+2]:\n",
    "                sell = lst[i+1]\n",
    "                res += sell - buy\n",
    "        \n",
    "        return res"
   ]
  },
  {
   "cell_type": "markdown",
   "metadata": {},
   "source": [
    "## Solution 2. Simpler and Faster Solution"
   ]
  },
  {
   "cell_type": "code",
   "execution_count": null,
   "metadata": {
    "collapsed": true
   },
   "outputs": [],
   "source": [
    "class Solution(object):\n",
    "    def maxProfit(self, prices):\n",
    "        \"\"\"\n",
    "        :type prices: List[int]\n",
    "        :rtype: int\n",
    "        \"\"\"\n",
    "        \n",
    "        n = len(prices)\n",
    "        if n <=1:\n",
    "            return 0\n",
    "        \n",
    "        op = 0 \n",
    "        prev_price = float(\"inf\")\n",
    "        res = 0\n",
    "        \n",
    "        for price in prices:\n",
    "            if op == 0:\n",
    "                if price > prev_price:\n",
    "                    buy = prev_price\n",
    "                    op = 1 \n",
    "            else:\n",
    "                if price < prev_price:\n",
    "                    res += prev_price - buy\n",
    "                    op = 0\n",
    "                    \n",
    "            prev_price = price\n",
    "        \n",
    "        if op == 1:\n",
    "            res += price - buy\n",
    "            \n",
    "        return res\n",
    "        "
   ]
  }
 ],
 "metadata": {
  "kernelspec": {
   "display_name": "Python 2",
   "language": "python",
   "name": "python2"
  },
  "language_info": {
   "codemirror_mode": {
    "name": "ipython",
    "version": 2
   },
   "file_extension": ".py",
   "mimetype": "text/x-python",
   "name": "python",
   "nbconvert_exporter": "python",
   "pygments_lexer": "ipython2",
   "version": "2.7.13"
  }
 },
 "nbformat": 4,
 "nbformat_minor": 2
}

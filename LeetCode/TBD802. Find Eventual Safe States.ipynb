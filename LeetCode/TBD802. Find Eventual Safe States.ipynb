{
 "cells": [
  {
   "cell_type": "markdown",
   "metadata": {},
   "source": [
    "# 802. Find Eventual Safe States"
   ]
  },
  {
   "cell_type": "markdown",
   "metadata": {},
   "source": [
    "In a directed graph, we start at some node and every turn, walk along a directed edge of the graph.  If we reach a node that is terminal (that is, it has no outgoing directed edges), we stop.\n",
    "\n",
    "Now, say our starting node is eventually safe if and only if we must eventually walk to a terminal node.  More specifically, there exists a natural number K so that for any choice of where to walk, we must have stopped at a terminal node in less than K steps.\n",
    "\n",
    "Which nodes are eventually safe?  Return them as an array in sorted order.\n",
    "\n",
    "The directed graph has N nodes with labels 0, 1, ..., N-1, where N is the length of graph.  The graph is given in the following form: graph[i] is a list of labels j such that (i, j) is a directed edge of the graph.\n",
    "\n",
    "Example:\n",
    "Input: graph = [[1,2],[2,3],[5],[0],[5],[],[]]\n",
    "Output: [2,4,5,6]\n",
    "Here is a diagram of the above graph.\n",
    "\n",
    "Illustration of graph\n",
    "\n",
    "Note:\n",
    "\n",
    "graph will have length at most 10000.\n",
    "The number of edges in the graph will not exceed 32000.\n",
    "Each graph[i] will be a sorted list of different integers, chosen within the range [0, graph.length - 1]."
   ]
  },
  {
   "cell_type": "markdown",
   "metadata": {},
   "source": [
    "## Solution 1. Time Exceeded"
   ]
  },
  {
   "cell_type": "code",
   "execution_count": null,
   "metadata": {
    "collapsed": true
   },
   "outputs": [],
   "source": [
    "class Solution(object):\n",
    "    def eventualSafeNodes(self, graph):\n",
    "        \"\"\"\n",
    "        :type graph: List[List[int]]\n",
    "        :rtype: List[int]\n",
    "        \"\"\"\n",
    "        \n",
    "        n = len(graph)\n",
    "        lst = [set(graph[i]) for i in xrange(n)]\n",
    "        add_lst = [set(graph[i]) for i in xrange(n)]\n",
    "        state = [0] * n\n",
    "        \n",
    "        for step in xrange(n-1):\n",
    "            for i in xrange(n):\n",
    "                if state[i] == 0:\n",
    "                    to_add = set()\n",
    "                    #print \"step\", step, i, add_lst[i]\n",
    "                    for x in add_lst[i]:\n",
    "                        for y in graph[x]:\n",
    "                            if y == i:\n",
    "                                state[i] = 1\n",
    "                                break\n",
    "                            elif y not in lst[i]:\n",
    "                                to_add.add(y)\n",
    "                    if state[i] == 0:\n",
    "                        if to_add:\n",
    "                            lst[i] = lst[i] | to_add\n",
    "                            add_lst[i] = to_add\n",
    "                        else:\n",
    "                            state[i] = 2\n",
    "        \n",
    "\n",
    "        not_safe = [i for i in xrange(n) if state[i] == 1]\n",
    "        \n",
    "        #print lst, state, not_safe\n",
    "        for i in not_safe:\n",
    "            for j in xrange(n):\n",
    "                if i in lst[j]:\n",
    "                    state[j] = 1\n",
    "        \n",
    "        return [i for i in xrange(n) if state[i] != 1]\n",
    "        "
   ]
  },
  {
   "cell_type": "markdown",
   "metadata": {},
   "source": [
    "## Solution 2. Minor Enhancement (Time Exceeded Still)"
   ]
  },
  {
   "cell_type": "code",
   "execution_count": null,
   "metadata": {
    "collapsed": true
   },
   "outputs": [],
   "source": [
    "class Solution(object):\n",
    "    def eventualSafeNodes(self, graph):\n",
    "        \"\"\"\n",
    "        :type graph: List[List[int]]\n",
    "        :rtype: List[int]\n",
    "        \"\"\"\n",
    "        \n",
    "        n = len(graph)\n",
    "\n",
    "        # first step\n",
    "        s = set(xrange(n))\n",
    "        lst = [set(graph[i]) for i in xrange(n)]\n",
    "        state = [0] * n\n",
    "        \n",
    "        for step in xrange(n-1):\n",
    "            rem = set()\n",
    "            for i in s:\n",
    "                if state[i] == 0:\n",
    "                    dest = set()\n",
    "                    for x in lst[i]:\n",
    "                        if state[x] == 1:\n",
    "                            state[i] = 1\n",
    "                            break\n",
    "                        elif state[x] == 2:\n",
    "                            continue\n",
    "                        else:\n",
    "                            for y in graph[x]:\n",
    "                                if y == i or state[y] == 1:\n",
    "                                    state[i] = 1  #cycle detected\n",
    "                                    break\n",
    "                                elif state[y] != 2:\n",
    "                                    dest.add(y)\n",
    "                                    \n",
    "                    if state[i] != 1:\n",
    "                        if dest:\n",
    "                            lst[i] = dest\n",
    "                        else:\n",
    "                            state[i] = 2\n",
    "                            rem.add(i)\n",
    "                    else:\n",
    "                        rem.add(i)\n",
    "            \n",
    "            s -= rem\n",
    "            if not s:\n",
    "                break\n",
    "        \n",
    "        return [i for i in xrange(n) if state[i] == 2]"
   ]
  }
 ],
 "metadata": {
  "kernelspec": {
   "display_name": "Python 2",
   "language": "python",
   "name": "python2"
  },
  "language_info": {
   "codemirror_mode": {
    "name": "ipython",
    "version": 2
   },
   "file_extension": ".py",
   "mimetype": "text/x-python",
   "name": "python",
   "nbconvert_exporter": "python",
   "pygments_lexer": "ipython2",
   "version": "2.7.13"
  }
 },
 "nbformat": 4,
 "nbformat_minor": 2
}

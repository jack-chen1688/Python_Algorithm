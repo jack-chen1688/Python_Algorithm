{
 "cells": [
  {
   "cell_type": "markdown",
   "metadata": {},
   "source": [
    "# 781. Rabbits in Forest"
   ]
  },
  {
   "cell_type": "markdown",
   "metadata": {},
   "source": [
    "\n",
    "In a forest, each rabbit has some color. Some subset of rabbits (possibly all of them) tell you how many other rabbits have the same color as them. Those answers are placed in an array.\n",
    "\n",
    "Return the minimum number of rabbits that could be in the forest.\n",
    "\n",
    "Examples:\n",
    "Input: answers = [1, 1, 2]\n",
    "Output: 5\n",
    "Explanation:\n",
    "The two rabbits that answered \"1\" could both be the same color, say red.\n",
    "The rabbit than answered \"2\" can't be red or the answers would be inconsistent.\n",
    "Say the rabbit that answered \"2\" was blue.\n",
    "Then there should be 2 other blue rabbits in the forest that didn't answer into the array.\n",
    "The smallest possible number of rabbits in the forest is therefore 5: 3 that answered plus 2 that didn't.\n",
    "\n",
    "Input: answers = [10, 10, 10]\n",
    "Output: 11\n",
    "\n",
    "Input: answers = []\n",
    "Output: 0"
   ]
  },
  {
   "cell_type": "markdown",
   "metadata": {},
   "source": [
    "## Solution 1."
   ]
  },
  {
   "cell_type": "code",
   "execution_count": null,
   "metadata": {
    "collapsed": true
   },
   "outputs": [],
   "source": [
    "class Solution(object):\n",
    "    def numRabbits(self, answers):\n",
    "        \"\"\"\n",
    "        :type answers: List[int]\n",
    "        :rtype: int\n",
    "        \"\"\"\n",
    "        dict = {}\n",
    "        for answer in answers:\n",
    "            dict[answer] = dict.get(answer, 0) + 1\n",
    "        \n",
    "        ans = 0\n",
    "        for key in dict:\n",
    "            if key == 0:\n",
    "                ans += dict[key] \n",
    "            else:\n",
    "                #[1,1,1] 3   \n",
    "                #[1,1,1,1,1]   1,1 -> 2   1,1 ->2   1-> 2   6\n",
    "                #[2,2,2,2,2]   2,2,2 ->3   2,2 -> 3\n",
    "                cnt = dict[key]\n",
    "                ans+=(cnt + key) / (key+1) * (key+1) \n",
    "        return ans"
   ]
  }
 ],
 "metadata": {
  "kernelspec": {
   "display_name": "Python 2",
   "language": "python",
   "name": "python2"
  },
  "language_info": {
   "codemirror_mode": {
    "name": "ipython",
    "version": 2
   },
   "file_extension": ".py",
   "mimetype": "text/x-python",
   "name": "python",
   "nbconvert_exporter": "python",
   "pygments_lexer": "ipython2",
   "version": "2.7.13"
  }
 },
 "nbformat": 4,
 "nbformat_minor": 2
}

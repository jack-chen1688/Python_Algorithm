{
 "cells": [
  {
   "cell_type": "markdown",
   "metadata": {},
   "source": [
    "# 553. Optimal Division"
   ]
  },
  {
   "cell_type": "code",
   "execution_count": null,
   "metadata": {
    "collapsed": true
   },
   "outputs": [],
   "source": [
    "Given a list of positive integers, the adjacent integers will perform the float division. For example, [2,3,4] -> 2 / 3 / 4.\n",
    "\n",
    "However, you can add any number of parenthesis at any position to change the priority of operations. You should find out how to add parenthesis to get the maximum result, and return the corresponding expression in string format. Your expression should NOT contain redundant parenthesis.\n",
    "\n",
    "Example:\n",
    "Input: [1000,100,10,2]\n",
    "Output: \"1000/(100/10/2)\"\n",
    "Explanation:\n",
    "1000/(100/10/2) = 1000/((100/10)/2) = 200\n",
    "However, the bold parenthesis in \"1000/((100/10)/2)\" are redundant, \n",
    "since they don't influence the operation priority. So you should return \"1000/(100/10/2)\". \n",
    "\n",
    "Other cases:\n",
    "1000/(100/10)/2 = 50\n",
    "1000/(100/(10/2)) = 50\n",
    "1000/100/10/2 = 0.5\n",
    "1000/100/(10/2) = 2\n",
    "Note:\n",
    "\n",
    "The length of the input array is [1, 10].\n",
    "Elements in the given array will be in range [2, 1000].\n",
    "There is only one optimal division for each test case."
   ]
  },
  {
   "cell_type": "markdown",
   "metadata": {},
   "source": [
    "## Solution"
   ]
  },
  {
   "cell_type": "code",
   "execution_count": null,
   "metadata": {
    "collapsed": true
   },
   "outputs": [],
   "source": [
    "class Solution(object):\n",
    "    def optimalDivision(self, nums):\n",
    "        \"\"\"\n",
    "        :type nums: List[int]\n",
    "        :rtype: str\n",
    "        \"\"\"\n",
    "        \n",
    "        s = str(nums[0])\n",
    "                \n",
    "        if len(nums) > 2:\n",
    "            s += \"/(\" + str(nums[1])\n",
    "\n",
    "            for num in nums[2:-1]:\n",
    "                s += \"/\" + str(num)\n",
    "\n",
    "            return s + \"/\" + str(nums[-1]) + \")\"\n",
    "        \n",
    "        elif len(nums) == 2:\n",
    "            return s + \"/\" + str(nums[1])\n",
    "\n",
    "        else: \n",
    "            return s"
   ]
  }
 ],
 "metadata": {
  "kernelspec": {
   "display_name": "Python 2",
   "language": "python",
   "name": "python2"
  },
  "language_info": {
   "codemirror_mode": {
    "name": "ipython",
    "version": 2
   },
   "file_extension": ".py",
   "mimetype": "text/x-python",
   "name": "python",
   "nbconvert_exporter": "python",
   "pygments_lexer": "ipython2",
   "version": "2.7.13"
  }
 },
 "nbformat": 4,
 "nbformat_minor": 2
}

{
 "cells": [
  {
   "cell_type": "markdown",
   "metadata": {},
   "source": [
    "# 12. Integer to Roman"
   ]
  },
  {
   "cell_type": "markdown",
   "metadata": {},
   "source": [
    "Given an integer, convert it to a roman numeral.\n",
    "\n",
    "Input is guaranteed to be within the range from 1 to 3999."
   ]
  },
  {
   "cell_type": "markdown",
   "metadata": {},
   "source": [
    "## Solution"
   ]
  },
  {
   "cell_type": "code",
   "execution_count": 1,
   "metadata": {},
   "outputs": [
    {
     "name": "stdout",
     "output_type": "stream",
     "text": [
      "MCCXXXVIII\n",
      "XXIII\n",
      "MMMCMXCIX\n"
     ]
    }
   ],
   "source": [
    "class Solution(object):\n",
    "    def intToRoman(self, num):\n",
    "        \"\"\"\n",
    "        :type num: int\n",
    "        :rtype: str\n",
    "        \"\"\"\n",
    "        dict0 = {0:\"\", 1:\"I\", 2:\"II\", 3:\"III\", 4:\"IV\", 5:\"V\", 6:\"VI\", 7:\"VII\", 8:\"VIII\", 9:\"IX\"}\n",
    "        dict1 = {0:\"\", 1:\"X\", 2:\"XX\", 3:\"XXX\", 4:\"XL\", 5:\"L\", 6:\"LX\", 7:\"LXX\", 8:\"LXXX\", 9:\"XC\"}\n",
    "        dict2 = {0:\"\", 1:\"C\", 2:\"CC\", 3:\"CCC\", 4:\"CD\", 5:\"D\", 6:\"DC\", 7:\"DCC\", 8:\"DCCC\", 9:\"CM\"}\n",
    "        dict3 = {0:\"\", 1:\"M\", 2:\"MM\", 3:\"MMM\"}\n",
    "        \n",
    "        num3 = num/1000\n",
    "        num = num - num3 * 1000\n",
    "        num2 = num/100\n",
    "        num = num - num2 * 100\n",
    "        num1 = num/10\n",
    "        num0 = num - num1 * 10\n",
    "        \n",
    "        return dict3[num3] + dict2[num2] + dict1[num1] + dict0[num0]\n",
    "\n",
    "def main():\n",
    "    print Solution().intToRoman(1238)\n",
    "    print Solution().intToRoman(23)\n",
    "    print Solution().intToRoman(3999)\n",
    "\n",
    "if __name__ == \"__main__\":\n",
    "    main()"
   ]
  }
 ],
 "metadata": {
  "kernelspec": {
   "display_name": "Python 2",
   "language": "python",
   "name": "python2"
  },
  "language_info": {
   "codemirror_mode": {
    "name": "ipython",
    "version": 2
   },
   "file_extension": ".py",
   "mimetype": "text/x-python",
   "name": "python",
   "nbconvert_exporter": "python",
   "pygments_lexer": "ipython2",
   "version": "2.7.13"
  }
 },
 "nbformat": 4,
 "nbformat_minor": 2
}

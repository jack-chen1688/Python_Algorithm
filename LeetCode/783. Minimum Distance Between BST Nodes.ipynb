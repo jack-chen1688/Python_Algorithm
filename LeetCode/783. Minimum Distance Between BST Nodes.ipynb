{
 "cells": [
  {
   "cell_type": "markdown",
   "metadata": {},
   "source": [
    "# 783. Minimum Distance Between BST Nodes"
   ]
  },
  {
   "cell_type": "code",
   "execution_count": null,
   "metadata": {
    "collapsed": true
   },
   "outputs": [],
   "source": [
    "Given a Binary Search Tree (BST) with the root node root, return the minimum difference between the values of any two different nodes in the tree.\n",
    "\n",
    "Example :\n",
    "\n",
    "Input: root = [4,2,6,1,3,null,null]\n",
    "Output: 1\n",
    "Explanation:\n",
    "Note that root is a TreeNode object, not an array.\n",
    "\n",
    "The given tree [4,2,6,1,3,null,null] is represented by the following diagram:\n",
    "\n",
    "          4\n",
    "        /   \\\n",
    "      2      6\n",
    "     / \\    \n",
    "    1   3  \n",
    "\n",
    "while the minimum difference in this tree is 1, it occurs between node 1 and node 2, also between node 3 and node 2.\n",
    "Note:\n",
    "\n",
    "The size of the BST will be between 2 and 100.\n",
    "The BST is always valid, each node's value is an integer, and each node's value is different."
   ]
  },
  {
   "cell_type": "markdown",
   "metadata": {},
   "source": [
    "# Solution 1. Two Pass Approach"
   ]
  },
  {
   "cell_type": "code",
   "execution_count": null,
   "metadata": {
    "collapsed": true
   },
   "outputs": [],
   "source": [
    "# Definition for a binary tree node.\n",
    "# class TreeNode(object):\n",
    "#     def __init__(self, x):\n",
    "#         self.val = x\n",
    "#         self.left = None\n",
    "#         self.right = None\n",
    "\n",
    "class Solution(object):\n",
    "    def minDiffInBST(self, root):\n",
    "        \"\"\"\n",
    "        :type root: TreeNode\n",
    "        :rtype: int\n",
    "        \"\"\"\n",
    "        \n",
    "        def solve(root):\n",
    "            \n",
    "            if root:\n",
    "                return solve(root.left) + [root.val] + solve(root.right)\n",
    "            else:\n",
    "                return []\n",
    "            \n",
    "        lst = solve(root)\n",
    "        min_dif = float(\"inf\")\n",
    "        \n",
    "        for i in xrange(len(lst) - 1):\n",
    "            min_dif = min(lst[i+1] - lst[i], min_dif) \n",
    "        \n",
    "        return min_dif"
   ]
  },
  {
   "cell_type": "markdown",
   "metadata": {},
   "source": [
    "## Solution 2. One Pass Approach"
   ]
  },
  {
   "cell_type": "code",
   "execution_count": null,
   "metadata": {
    "collapsed": true
   },
   "outputs": [],
   "source": [
    "# Definition for a binary tree node.\n",
    "# class TreeNode(object):\n",
    "#     def __init__(self, x):\n",
    "#         self.val = x\n",
    "#         self.left = None\n",
    "#         self.right = None\n",
    "\n",
    "class Solution(object):\n",
    "    def minDiffInBST(self, root):\n",
    "        \"\"\"\n",
    "        :type root: TreeNode\n",
    "        :rtype: int\n",
    "        \"\"\"\n",
    "        \n",
    "        def solve(root):\n",
    "            \n",
    "            if not root.left and not root.right:\n",
    "                return [float(\"inf\"), root.val, root.val]\n",
    "  \n",
    "            min_dif = float(\"inf\")\n",
    "            min_val = float(\"inf\")\n",
    "            max_val = float(\"-inf\")\n",
    "            if root.left:\n",
    "                min_dif0, min_val0, max_val0 = solve(root.left)\n",
    "                min_dif = min(min_dif0, root.val - max_val0)\n",
    "                min_val = min_val0\n",
    "                max_val = root.val\n",
    "            if root.right:\n",
    "                min_dif1, min_val1, max_val1 = solve(root.right)\n",
    "                min_dif = min(min_dif1, min_val1 - root.val, min_dif)\n",
    "                min_val = min(min_val, root.val)\n",
    "                max_val = max_val1\n",
    "            \n",
    "            return [min_dif, min_val, max_val]\n",
    "        \n",
    "        return solve(root)[0]"
   ]
  },
  {
   "cell_type": "markdown",
   "metadata": {},
   "source": [
    "## Solution 3. Iterative In-order Traversal (fastest)"
   ]
  },
  {
   "cell_type": "code",
   "execution_count": null,
   "metadata": {
    "collapsed": true
   },
   "outputs": [],
   "source": [
    "# Definition for a binary tree node.\n",
    "# class TreeNode(object):\n",
    "#     def __init__(self, x):\n",
    "#         self.val = x\n",
    "#         self.left = None\n",
    "#         self.right = None\n",
    "\n",
    "class Solution(object):\n",
    "    def minDiffInBST(self, root):\n",
    "        \"\"\"\n",
    "        :type root: TreeNode\n",
    "        :rtype: int\n",
    "        \"\"\"\n",
    "        \n",
    "        node = root\n",
    "        stack = []\n",
    "        last_val = float(\"-inf\")\n",
    "        min_dif = float(\"inf\")\n",
    "        while node or stack:\n",
    "            if node:\n",
    "                stack.append(node)\n",
    "                node = node.left\n",
    "            else:\n",
    "                node = stack.pop()\n",
    "                min_dif = min(node.val - last_val, min_dif)\n",
    "                last_val = node.val \n",
    "                node = node.right\n",
    "\n",
    "        return min_dif"
   ]
  }
 ],
 "metadata": {
  "kernelspec": {
   "display_name": "Python 2",
   "language": "python",
   "name": "python2"
  },
  "language_info": {
   "codemirror_mode": {
    "name": "ipython",
    "version": 2
   },
   "file_extension": ".py",
   "mimetype": "text/x-python",
   "name": "python",
   "nbconvert_exporter": "python",
   "pygments_lexer": "ipython2",
   "version": "2.7.13"
  }
 },
 "nbformat": 4,
 "nbformat_minor": 2
}

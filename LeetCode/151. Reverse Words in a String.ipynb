{
 "cells": [
  {
   "cell_type": "markdown",
   "metadata": {},
   "source": [
    "# 151. Reverse Words in a String"
   ]
  },
  {
   "cell_type": "markdown",
   "metadata": {},
   "source": [
    "Given an input string, reverse the string word by word.\n",
    "\n",
    "For example,\n",
    "Given s = \"the sky is blue\",\n",
    "return \"blue is sky the\".\n",
    "\n",
    "Update (2015-02-12):\n",
    "For C programmers: Try to solve it in-place in O(1) space.\n",
    "\n",
    "click to show clarification.\n",
    "\n",
    "Clarification:\n",
    "What constitutes a word?\n",
    "A sequence of non-space characters constitutes a word.\n",
    "Could the input string contain leading or trailing spaces?\n",
    "Yes. However, your reversed string should not contain leading or trailing spaces.\n",
    "How about multiple spaces between two words?\n",
    "Reduce them to a single space in the reversed string."
   ]
  },
  {
   "cell_type": "markdown",
   "metadata": {},
   "source": [
    "## Solution 1. Remove Extra Space and Split String"
   ]
  },
  {
   "cell_type": "code",
   "execution_count": 1,
   "metadata": {},
   "outputs": [
    {
     "name": "stdout",
     "output_type": "stream",
     "text": [
      "result is 'a b'.\n"
     ]
    }
   ],
   "source": [
    "class Solution(object):\n",
    "    def reverseWords(self, s):\n",
    "        \"\"\"\n",
    "        :type s: str\n",
    "        :rtype: str\n",
    "        \"\"\"\n",
    "        #remove redundant ' '\n",
    "        last_char = None\n",
    "        s1 = ''\n",
    "        for char in s:\n",
    "            if last_char and last_char == ' ' and char == ' ':\n",
    "                continue\n",
    "            else:\n",
    "                last_char = char\n",
    "                s1 += char\n",
    "\n",
    "        s_lst = s1.split(' ')[::-1]\n",
    "        \n",
    "        result = ''\n",
    "        for word in s_lst:\n",
    "            if result == '': \n",
    "                if word != '':\n",
    "                    result = word\n",
    "            else:\n",
    "                if word != '':\n",
    "                    result += ' ' + word\n",
    "        return result\n",
    "        \n",
    "\n",
    "def main():\n",
    "    print \"result is '\" + Solution().reverseWords(\" b a   \") + \"'.\"\n",
    "\n",
    "if __name__ == \"__main__\":\n",
    "    main()"
   ]
  },
  {
   "cell_type": "markdown",
   "metadata": {},
   "source": [
    "## Solution 2: Directly Parse the String"
   ]
  },
  {
   "cell_type": "code",
   "execution_count": 2,
   "metadata": {
    "collapsed": true
   },
   "outputs": [],
   "source": [
    "class Solution(object):\n",
    "    def reverseWords(self, s):\n",
    "        \"\"\"\n",
    "        :type s: str\n",
    "        :rtype: str\n",
    "        \"\"\"\n",
    "        last_char = None\n",
    "        \n",
    "        result = ''\n",
    "        token = ''\n",
    "        \n",
    "        for char in s[::-1]:\n",
    "            if char == ' ':\n",
    "                if token != '':\n",
    "                    if result == '':\n",
    "                        result = token\n",
    "                    else:\n",
    "                        result += ' ' + token\n",
    "                        \n",
    "                    token = ''\n",
    "            else:\n",
    "                token = char + token\n",
    "        \n",
    "        if token != '':\n",
    "            if result == '':\n",
    "                result = token\n",
    "            else:\n",
    "                result += ' ' + token\n",
    "            \n",
    "        return result"
   ]
  },
  {
   "cell_type": "markdown",
   "metadata": {},
   "source": [
    "## Solution 3. Use strip(), split() and join()"
   ]
  },
  {
   "cell_type": "code",
   "execution_count": 3,
   "metadata": {},
   "outputs": [
    {
     "name": "stdout",
     "output_type": "stream",
     "text": [
      "result is 'c a b'.\n"
     ]
    }
   ],
   "source": [
    "class Solution(object):\n",
    "    def reverseWords(self, s):\n",
    "        \"\"\"\n",
    "        :type s: str\n",
    "        :rtype: str\n",
    "        \"\"\"\n",
    "        return \" \".join(s.strip().split()[::-1])\n",
    "    \n",
    "def main():\n",
    "    print \"result is '\" + Solution().reverseWords(\"b a   c\") + \"'.\"\n",
    "\n",
    "if __name__ == \"__main__\":\n",
    "    main()"
   ]
  }
 ],
 "metadata": {
  "kernelspec": {
   "display_name": "Python 2",
   "language": "python",
   "name": "python2"
  },
  "language_info": {
   "codemirror_mode": {
    "name": "ipython",
    "version": 2
   },
   "file_extension": ".py",
   "mimetype": "text/x-python",
   "name": "python",
   "nbconvert_exporter": "python",
   "pygments_lexer": "ipython2",
   "version": "2.7.13"
  }
 },
 "nbformat": 4,
 "nbformat_minor": 2
}

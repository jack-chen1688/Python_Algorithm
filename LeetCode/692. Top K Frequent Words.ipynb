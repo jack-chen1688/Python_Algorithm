{
 "cells": [
  {
   "cell_type": "markdown",
   "metadata": {},
   "source": [
    "# 692. Top K Frequent Words"
   ]
  },
  {
   "cell_type": "markdown",
   "metadata": {},
   "source": [
    "Given a non-empty list of words, return the k most frequent elements.\n",
    "\n",
    "Your answer should be sorted by frequency from highest to lowest. If two words have the same frequency, then the word with the lower alphabetical order comes first.\n",
    "\n",
    "Example 1:\n",
    "Input: [\"i\", \"love\", \"leetcode\", \"i\", \"love\", \"coding\"], k = 2\n",
    "Output: [\"i\", \"love\"]\n",
    "Explanation: \"i\" and \"love\" are the two most frequent words.\n",
    "    Note that \"i\" comes before \"love\" due to a lower alphabetical order.\n",
    "Example 2:\n",
    "Input: [\"the\", \"day\", \"is\", \"sunny\", \"the\", \"the\", \"the\", \"sunny\", \"is\", \"is\"], k = 4\n",
    "Output: [\"the\", \"is\", \"sunny\", \"day\"]\n",
    "Explanation: \"the\", \"is\", \"sunny\" and \"day\" are the four most frequent words,\n",
    "    with the number of occurrence being 4, 3, 2 and 1 respectively.\n",
    "Note:\n",
    "You may assume k is always valid, 1 ≤ k ≤ number of unique elements.\n",
    "Input words contain only lowercase letters.\n",
    "Follow up:\n",
    "Try to solve it in O(n log k) time and O(n) extra space."
   ]
  },
  {
   "cell_type": "markdown",
   "metadata": {},
   "source": [
    "## Solution 1. Use cmp_to_key and nlargest"
   ]
  },
  {
   "cell_type": "code",
   "execution_count": null,
   "metadata": {
    "collapsed": true
   },
   "outputs": [],
   "source": [
    "class Solution(object):\n",
    "    def topKFrequent(self, words, k):\n",
    "        \"\"\"\n",
    "        :type words: List[str]\n",
    "        :type k: int\n",
    "        :rtype: List[str]\n",
    "        \"\"\"\n",
    "        from functools import cmp_to_key\n",
    "        \n",
    "        dict = {}\n",
    "        for word in words:\n",
    "            dict[word] = dict.get(word, 0) + 1\n",
    "        \n",
    "        def comp(x,y):\n",
    "            if x[1] != y[1]:\n",
    "                return x[1] - y[1]\n",
    "            else:\n",
    "                return -1 if x[0] > y[0] else 1\n",
    "         \n",
    "        return [item[0] for item in heapq.nlargest(k, dict.iteritems(), key=cmp_to_key(comp))]        "
   ]
  },
  {
   "cell_type": "markdown",
   "metadata": {},
   "source": [
    "## Solution 2. Use nsmallest"
   ]
  },
  {
   "cell_type": "code",
   "execution_count": null,
   "metadata": {
    "collapsed": true
   },
   "outputs": [],
   "source": [
    "class Solution(object):\n",
    "    def topKFrequent(self, words, k):\n",
    "        \"\"\"\n",
    "        :type words: List[str]\n",
    "        :type k: int\n",
    "        :rtype: List[str]\n",
    "        \"\"\"\n",
    "        from functools import cmp_to_key\n",
    "        \n",
    "        dict = {}\n",
    "        for word in words:\n",
    "            dict[word] = dict.get(word, 0) + 1\n",
    "        \n",
    "        return [item[0] for item in heapq.nsmallest(k, dict.iteritems(), key=lambda x:[-x[1], x[0]])]"
   ]
  }
 ],
 "metadata": {
  "kernelspec": {
   "display_name": "Python 2",
   "language": "python",
   "name": "python2"
  },
  "language_info": {
   "codemirror_mode": {
    "name": "ipython",
    "version": 2
   },
   "file_extension": ".py",
   "mimetype": "text/x-python",
   "name": "python",
   "nbconvert_exporter": "python",
   "pygments_lexer": "ipython2",
   "version": "2.7.13"
  }
 },
 "nbformat": 4,
 "nbformat_minor": 2
}

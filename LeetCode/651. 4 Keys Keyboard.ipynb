{
 "cells": [
  {
   "cell_type": "markdown",
   "metadata": {},
   "source": [
    "Imagine you have a special keyboard with the following keys:\n",
    "\n",
    "Key 1: (A): Print one 'A' on screen.\n",
    "\n",
    "Key 2: (Ctrl-A): Select the whole screen.\n",
    "\n",
    "Key 3: (Ctrl-C): Copy selection to buffer.\n",
    "\n",
    "Key 4: (Ctrl-V): Print buffer on screen appending it after what has already been printed.\n",
    "\n",
    "Now, you can only press the keyboard for N times (with the above four keys), find out the maximum numbers of 'A' you can print on screen.\n",
    "\n",
    "Example 1:\n",
    "Input: N = 3\n",
    "Output: 3\n",
    "Explanation: \n",
    "We can at most get 3 A's on screen by pressing following key sequence:\n",
    "A, A, A\n",
    "Example 2:\n",
    "Input: N = 7\n",
    "Output: 9\n",
    "Explanation: \n",
    "We can at most get 9 A's on screen by pressing following key sequence:\n",
    "A, A, A, Ctrl A, Ctrl C, Ctrl V, Ctrl V\n",
    "Note:\n",
    "1 <= N <= 50\n",
    "Answers will be in the range of 32-bit signed integer."
   ]
  },
  {
   "cell_type": "markdown",
   "metadata": {},
   "source": [
    "## Solution 1. Memorized Recursive Approach"
   ]
  },
  {
   "cell_type": "code",
   "execution_count": null,
   "metadata": {
    "collapsed": true
   },
   "outputs": [],
   "source": []
  },
  {
   "cell_type": "code",
   "execution_count": null,
   "metadata": {
    "collapsed": true
   },
   "outputs": [],
   "source": [
    "class Solution(object):\n",
    "    \n",
    "    def __init__(self):\n",
    "        self.dict = {}\n",
    "        \n",
    "    def maxA(self, N):\n",
    "        \"\"\"\n",
    "        :type N: int\n",
    "        :rtype: int\n",
    "        \"\"\"\n",
    "     \n",
    "        if N in self.dict:\n",
    "            return self.dict[N]\n",
    "        elif N < 7:\n",
    "            self.dict[N] = N\n",
    "            return N\n",
    "        else:\n",
    "            max_res = float(\"-inf\")    \n",
    "            for i in xrange(N-6, N-2):\n",
    "                #print i, self.maxA(i), N-1-i\n",
    "                max_res = max(self.maxA(i) * (N-i-1), max_res)\n",
    "        \n",
    "            self.dict[N] = max_res\n",
    "            #print N, self.dict\n",
    "            return max_res"
   ]
  },
  {
   "cell_type": "markdown",
   "metadata": {},
   "source": [
    "## Solution 2. Iterative Approach"
   ]
  },
  {
   "cell_type": "code",
   "execution_count": null,
   "metadata": {
    "collapsed": true
   },
   "outputs": [],
   "source": [
    "class Solution(object):\n",
    "        \n",
    "    def maxA(self, N):\n",
    "        \"\"\"\n",
    "        :type N: int\n",
    "        :rtype: int\n",
    "        \"\"\"\n",
    "        if N < 7:\n",
    "            return N\n",
    "        \n",
    "        ans = range(7)\n",
    "                \n",
    "        for i in xrange(7, N+1):\n",
    "            max_res = float(\"-inf\")    \n",
    "            for j in xrange(i-6, i-2):\n",
    "                max_res = max(ans[j] * (i-j-1), max_res)\n",
    "        \n",
    "            ans.append(max_res)\n",
    "        \n",
    "        return ans[-1]        "
   ]
  },
  {
   "cell_type": "markdown",
   "metadata": {},
   "source": [
    "## Analysis"
   ]
  },
  {
   "cell_type": "markdown",
   "metadata": {},
   "source": [
    "For N < 7, the number of combinations is small and we can get the value directly based on \n",
    "the followin ta\n",
    "        1: 1\n",
    "        2: 2\n",
    "        3: 3\n",
    "        4: 1x2 or 1x4\n",
    "        5: 2x2 or 1x5\n",
    "        6: 3x2 or 2x3 or 1x5                   6\n",
    "\n",
    "One of k+3 combinatons is that we get the maximum number of A's in k steps and then do key \n",
    "2, key 3 and key 4 to get another copy. So we have maxA(K+3) >= maxA(k) * 2.\n",
    "\n",
    "For N>7, we have \n",
    "(1) maxA(N) = max(maxA(n-3) * 2, maxA(n-4) * 3,..., maxA(2) * (N-3), N). \n",
    "\n",
    "Since maxA(2) * (N-3) = 2N-6 = (N-6) + N > N, we can simplify it to \n",
    "(2) maxA(N) = max(maxA(n-3) * 2, maxA(n-4) * 3, ..., maxA(2) * (N-3))\n",
    "\n",
    "Let's further simplify it to see when maxA(k) * (N-k-1) will be no more than maxA(k+3) *\n",
    "(N-k-4) and then we can eliminate all those k values.\n",
    "\n",
    "maxA(k+3) * (N-k-4) >= 2 * maxA(k) * (N-k-4) = maxA(k) * (2N-2k-8)\n",
    "\n",
    "So we just need to find out k such that 2N-2k-8 >= N-k-1, i.e. N-k >=7. Thus for all k <=\n",
    "N-7, a solution based on doing copies for k+3 will be equal to or better than it. Thus we\n",
    "can simplify our formula to \n",
    "maxA(N) = max(maxA(N-3) * 2, maxA(N-4) * 3, ..., maxA(N-6) * 5)\n",
    "\n"
   ]
  }
 ],
 "metadata": {
  "kernelspec": {
   "display_name": "Python 2",
   "language": "python",
   "name": "python2"
  },
  "language_info": {
   "codemirror_mode": {
    "name": "ipython",
    "version": 2
   },
   "file_extension": ".py",
   "mimetype": "text/x-python",
   "name": "python",
   "nbconvert_exporter": "python",
   "pygments_lexer": "ipython2",
   "version": "2.7.13"
  }
 },
 "nbformat": 4,
 "nbformat_minor": 2
}

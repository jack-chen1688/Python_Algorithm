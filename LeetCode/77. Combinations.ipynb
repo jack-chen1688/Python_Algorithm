{
 "cells": [
  {
   "cell_type": "markdown",
   "metadata": {},
   "source": [
    "# 77. Combinations"
   ]
  },
  {
   "cell_type": "code",
   "execution_count": null,
   "metadata": {
    "collapsed": true
   },
   "outputs": [],
   "source": [
    "\n",
    "Given two integers n and k, return all possible combinations of k numbers out of 1 ... n.\n",
    "\n",
    "For example,\n",
    "If n = 4 and k = 2, a solution is:\n",
    "\n",
    "[\n",
    "  [2,4],\n",
    "  [3,4],\n",
    "  [2,3],\n",
    "  [1,2],\n",
    "  [1,3],\n",
    "  [1,4],\n",
    "]"
   ]
  },
  {
   "cell_type": "markdown",
   "metadata": {},
   "source": [
    "## Solution 1. Using itertools"
   ]
  },
  {
   "cell_type": "code",
   "execution_count": null,
   "metadata": {
    "collapsed": true
   },
   "outputs": [],
   "source": [
    "class Solution(object):\n",
    "    def combine(self, n, k):\n",
    "        \"\"\"\n",
    "        :type n: int\n",
    "        :type k: int\n",
    "        :rtype: List[List[int]]\n",
    "        \"\"\"\n",
    "        import itertools\n",
    "        return list(itertools.combinations(range(1, n+1), k))"
   ]
  },
  {
   "cell_type": "markdown",
   "metadata": {},
   "source": [
    "## Solution 2. Iterative Approach"
   ]
  },
  {
   "cell_type": "code",
   "execution_count": null,
   "metadata": {
    "collapsed": true
   },
   "outputs": [],
   "source": [
    "class Solution(object):\n",
    "    def combine(self, n, k):\n",
    "        \"\"\"\n",
    "        :type n: int\n",
    "        :type k: int\n",
    "        :rtype: List[List[int]]\n",
    "        \"\"\"\n",
    "        \n",
    "        if k == 0:\n",
    "            return []\n",
    "        else:\n",
    "            item, stage = 1, 0\n",
    "            stack, ans = [], []\n",
    "            \n",
    "            while 1:\n",
    "                # (k- stage) steps to go. item can be as large as n-(k-stage)+1\n",
    "                if item <= n-(k-stage)+1:\n",
    "                    stack.append(item)\n",
    "                    if stage == k-1:\n",
    "                        ans.append(list(stack))\n",
    "                        if stack == range(n-k+1, n+1):\n",
    "                            break\n",
    "                        item = stack.pop() + 1\n",
    "                    else:\n",
    "                        stage += 1\n",
    "                        item += 1\n",
    "                else:\n",
    "                    item = stack.pop() + 1\n",
    "                    stage -= 1\n",
    "                    \n",
    "            return ans"
   ]
  }
 ],
 "metadata": {
  "kernelspec": {
   "display_name": "Python 2",
   "language": "python",
   "name": "python2"
  },
  "language_info": {
   "codemirror_mode": {
    "name": "ipython",
    "version": 2
   },
   "file_extension": ".py",
   "mimetype": "text/x-python",
   "name": "python",
   "nbconvert_exporter": "python",
   "pygments_lexer": "ipython2",
   "version": "2.7.13"
  }
 },
 "nbformat": 4,
 "nbformat_minor": 2
}

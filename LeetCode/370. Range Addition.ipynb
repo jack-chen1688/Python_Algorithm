{
 "cells": [
  {
   "cell_type": "markdown",
   "metadata": {},
   "source": [
    "# 370. Range Addition"
   ]
  },
  {
   "cell_type": "markdown",
   "metadata": {},
   "source": [
    "Assume you have an array of length n initialized with all 0's and are given k update operations.\n",
    "\n",
    "Each operation is represented as a triplet: [startIndex, endIndex, inc] which increments each element of subarray \n",
    "A[startIndex ... endIndex] (startIndex and endIndex inclusive) with inc.\n",
    "\n",
    "Return the modified array after all k operations were executed.\n",
    "\n",
    "Example:\n",
    "\n",
    "Given:\n",
    "\n",
    "    length = 5,\n",
    "    updates = [\n",
    "        [1,  3,  2],\n",
    "        [2,  4,  3],\n",
    "        [0,  2, -2]\n",
    "    ]\n",
    "\n",
    "Output:\n",
    "\n",
    "    [-2, 0, 3, 5, 3]\n",
    "Explanation:\n",
    "\n",
    "Initial state:\n",
    "[ 0, 0, 0, 0, 0 ]\n",
    "\n",
    "After applying operation [1, 3, 2]:\n",
    "[ 0, 2, 2, 2, 0 ]\n",
    "\n",
    "After applying operation [2, 4, 3]:\n",
    "[ 0, 2, 5, 5, 3 ]\n",
    "\n",
    "After applying operation [0, 2, -2]:\n",
    "[-2, 0, 3, 5, 3 ]\n",
    "Credits:\n",
    "Special thanks to @vinod23 for adding this problem and creating all test cases.\n",
    "\n"
   ]
  },
  {
   "cell_type": "markdown",
   "metadata": {},
   "source": [
    "## Solution 1. Brutal Force Approach O(nk)"
   ]
  },
  {
   "cell_type": "code",
   "execution_count": null,
   "metadata": {
    "collapsed": true
   },
   "outputs": [],
   "source": [
    "class Solution(object):\n",
    "    def getModifiedArray(self, length, updates):\n",
    "        \"\"\"\n",
    "        :type length: int\n",
    "        :type updates: List[List[int]]\n",
    "        :rtype: List[int]\n",
    "        \"\"\"\n",
    "        \n",
    "        nums = [0]*length\n",
    "        for start, end, val in updates:\n",
    "            for i in xrange(start,end+1):\n",
    "                nums[i] += val\n",
    "        \n",
    "        return nums\n",
    "        "
   ]
  },
  {
   "cell_type": "markdown",
   "metadata": {},
   "source": [
    "## Solution 2. O(n) + O(klog(k))"
   ]
  },
  {
   "cell_type": "code",
   "execution_count": null,
   "metadata": {
    "collapsed": true
   },
   "outputs": [],
   "source": [
    "class Solution(object):\n",
    "    def getModifiedArray(self, length, updates):\n",
    "        \"\"\"\n",
    "        :type length: int\n",
    "        :type updates: List[List[int]]\n",
    "        :rtype: List[int]\n",
    "        \"\"\"\n",
    "        \n",
    "        if updates != []:\n",
    "            heap = updates\n",
    "            heapq.heapify(heap)\n",
    "\n",
    "            lst = [heapq.heappop(heap)]\n",
    "            nums = [0]*length\n",
    "            \n",
    "            while heap:\n",
    "                A, B = lst[-1], heap[0]\n",
    "                C = None\n",
    "                if A[0] == B[0]:\n",
    "                    lst[-1] = [A[0], A[1], A[2] + B[2]]\n",
    "                    if B[1] - A[1] > 0:\n",
    "                        heapq.heappushpop(heap,[A[1] + 1, B[1], B[2]] )\n",
    "                    else: \n",
    "                        heapq.heappop(heap)\n",
    "                else:\n",
    "                    #B[0] > A[0]\n",
    "                    if B[0] <= A[1]:\n",
    "                        nums[A[0]:B[0]] = [A[2]]*(B[0]-A[0])\n",
    "                        del lst[-1]\n",
    "                        if B[1] <= A[1]:\n",
    "                            lst.append([B[0], B[1], A[2] + B[2]])\n",
    "                            if B[1] < A[1]:\n",
    "                                heapq.heappushpop(heap, [B[1]+1, A[1], A[2]])\n",
    "                            else:\n",
    "                                heapq.heappop(heap)\n",
    "                        else:\n",
    "                            lst.append([B[0], A[1], A[2]+B[2]])\n",
    "                            heapq.heappushpop(heap, [A[1] + 1, B[1], B[2]])\n",
    "                    else:\n",
    "                        lst.append(heapq.heappop(heap))\n",
    "                \n",
    "            for start, end, val in lst:\n",
    "                nums[start:end+1] = [val] * (end+1-start)\n",
    "    \n",
    "            return nums\n",
    "        else:\n",
    "            return [0]*length"
   ]
  },
  {
   "cell_type": "markdown",
   "metadata": {},
   "source": [
    "## Solution 3. O(n) + O(k)"
   ]
  },
  {
   "cell_type": "code",
   "execution_count": null,
   "metadata": {
    "collapsed": true
   },
   "outputs": [],
   "source": [
    "class Solution(object):\n",
    "    def getModifiedArray(self, length, updates):\n",
    "        \"\"\"\n",
    "        :type length: int\n",
    "        :type updates: List[List[int]]\n",
    "        :rtype: List[int]\n",
    "        \"\"\"\n",
    "        \n",
    "        if length != 0:\n",
    "\n",
    "            ans, lst = [0]*length, [0] * length\n",
    "\n",
    "            for start, end, val in updates:\n",
    "                lst[start] += val\n",
    "                if end < length-1:\n",
    "                    lst[end+1] -= val \n",
    "\n",
    "            ans[0] = lst[0]\n",
    "            for i, val in enumerate(lst[1:], start = 1):\n",
    "                ans[i] = ans[i-1] + val\n",
    "\n",
    "            return ans\n",
    "        else:\n",
    "            return []"
   ]
  }
 ],
 "metadata": {
  "kernelspec": {
   "display_name": "Python 2",
   "language": "python",
   "name": "python2"
  },
  "language_info": {
   "codemirror_mode": {
    "name": "ipython",
    "version": 2
   },
   "file_extension": ".py",
   "mimetype": "text/x-python",
   "name": "python",
   "nbconvert_exporter": "python",
   "pygments_lexer": "ipython2",
   "version": "2.7.13"
  }
 },
 "nbformat": 4,
 "nbformat_minor": 2
}

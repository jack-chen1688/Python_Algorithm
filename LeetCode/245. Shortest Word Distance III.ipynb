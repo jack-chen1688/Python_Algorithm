{
 "cells": [
  {
   "cell_type": "markdown",
   "metadata": {},
   "source": [
    "# 245. Shortest Word Distance III"
   ]
  },
  {
   "cell_type": "markdown",
   "metadata": {},
   "source": [
    "This is a follow up of Shortest Word Distance. The only difference is now word1 could be the same as word2.\n",
    "\n",
    "Given a list of words and two words word1 and word2, return the shortest distance between these two words in the \n",
    "list.\n",
    "\n",
    "word1 and word2 may be the same and they represent two individual words in the list.\n",
    "\n",
    "For example,\n",
    "Assume that words = [\"practice\", \"makes\", \"perfect\", \"coding\", \"makes\"].\n",
    "\n",
    "Given word1 = “makes”, word2 = “coding”, return 1.\n",
    "Given word1 = \"makes\", word2 = \"makes\", return 3.\n",
    "\n",
    "Note:\n",
    "You may assume word1 and word2 are both in the list."
   ]
  },
  {
   "cell_type": "markdown",
   "metadata": {},
   "source": [
    "## Solution"
   ]
  },
  {
   "cell_type": "code",
   "execution_count": null,
   "metadata": {
    "collapsed": true
   },
   "outputs": [],
   "source": [
    "class Solution(object):\n",
    "    def shortestWordDistance(self, words, word1, word2):\n",
    "        \"\"\"\n",
    "        :type words: List[str]\n",
    "        :type word1: str\n",
    "        :type word2: str\n",
    "        :rtype: int\n",
    "        \"\"\"\n",
    " \n",
    "        min_dis = float(\"inf\")\n",
    "        if word1 == word2:\n",
    "            last_pos = None\n",
    "            for i, word in enumerate(words):\n",
    "                if word == word1:\n",
    "                    if last_pos != None:\n",
    "                        min_dis = min(min_dis, i - last_pos)\n",
    "                        last_pos = i\n",
    "                    else:\n",
    "                        last_pos = i \n",
    "            return min_dis\n",
    "       \n",
    "        else:\n",
    "            pos1, pos2 = None, None\n",
    "            for i, word in enumerate(words):\n",
    "                if word == word1:\n",
    "                    if pos2 != None:\n",
    "                        min_dis = min(min_dis, i-pos2)\n",
    "                        pos1 = i\n",
    "                    else:\n",
    "                        pos1 = i\n",
    "                elif word == word2:\n",
    "                    if pos1 != None:\n",
    "                        min_dis = min(min_dis, i-pos1)\n",
    "                        pos2 = i\n",
    "                    else:\n",
    "                        pos2 = i\n",
    "            return min_dis"
   ]
  }
 ],
 "metadata": {
  "kernelspec": {
   "display_name": "Python 2",
   "language": "python",
   "name": "python2"
  },
  "language_info": {
   "codemirror_mode": {
    "name": "ipython",
    "version": 2
   },
   "file_extension": ".py",
   "mimetype": "text/x-python",
   "name": "python",
   "nbconvert_exporter": "python",
   "pygments_lexer": "ipython2",
   "version": "2.7.13"
  }
 },
 "nbformat": 4,
 "nbformat_minor": 2
}

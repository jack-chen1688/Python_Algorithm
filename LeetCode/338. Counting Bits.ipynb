{
 "cells": [
  {
   "cell_type": "markdown",
   "metadata": {},
   "source": [
    "# 338. Counting Bits"
   ]
  },
  {
   "cell_type": "markdown",
   "metadata": {},
   "source": [
    "Given a non negative integer number num. For every numbers i in the range 0 ≤ i ≤ num calculate the number of 1's in their binary representation and return them as an array.\n",
    "\n",
    "Example:\n",
    "For num = 5 you should return [0,1,1,2,1,2].\n",
    "\n",
    "Follow up:\n",
    "\n",
    "It is very easy to come up with a solution with run time O(n*sizeof(integer)). But can you do it in linear time O(n) /possibly in a single pass?\n",
    "Space complexity should be O(n).\n",
    "Can you do it like a boss? Do it without using any builtin function like __builtin_popcount in c++ or in any other language."
   ]
  },
  {
   "cell_type": "markdown",
   "metadata": {},
   "source": [
    "## Solution 1.\n",
    "\n",
    "Hints: There is a rule in the array as below\n",
    "0\n",
    "1 \n",
    "1 2\n",
    "1 2 2 3\n",
    "1 2 2 3 2 3 3 4\n",
    "1 2 2 3 2 3 3 4 2 3 3 4 3 4 4 5 "
   ]
  },
  {
   "cell_type": "code",
   "execution_count": 1,
   "metadata": {},
   "outputs": [
    {
     "name": "stdout",
     "output_type": "stream",
     "text": [
      "[0, 1, 1, 2, 1, 2, 2, 3, 1, 2, 2, 3, 2, 3, 3, 4, 1, 2, 2, 3, 2, 3, 3, 4, 2, 3, 3, 4, 3, 4, 4, 5, 1]\n"
     ]
    }
   ],
   "source": [
    "class Solution(object):\n",
    "    def countBits(self, num):\n",
    "        \"\"\"\n",
    "        :type num: int\n",
    "        :rtype: List[int]\n",
    "        \"\"\"\n",
    "        if num == 0:\n",
    "            return [0]\n",
    "        \n",
    "        r_list = [0, 1]    \n",
    "        power2 = 2\n",
    "        \n",
    "        while power2 <= num:\n",
    "            \n",
    "            for i in range(power2, min(power2 + power2/2, num+1)):\n",
    "                r_list.append(r_list[i - power2/2])\n",
    "            \n",
    "            if num >= power2 + power2/2:\n",
    "                for i in range(power2 + power2/2, min(power2*2, num+1)):\n",
    "                    r_list.append(r_list[i - power2/2] + 1)\n",
    "\n",
    "            power2 = power2 << 1\n",
    "                \n",
    "        return r_list\n",
    "\n",
    "def main():\n",
    "    print Solution().countBits(32)\n",
    "\n",
    "if __name__ == \"__main__\":\n",
    "    main()"
   ]
  },
  {
   "cell_type": "markdown",
   "metadata": {},
   "source": [
    "## Solution 2. A Minor Variant of Solution 1"
   ]
  },
  {
   "cell_type": "code",
   "execution_count": 2,
   "metadata": {},
   "outputs": [
    {
     "name": "stdout",
     "output_type": "stream",
     "text": [
      "[0, 1, 1, 2, 1, 2, 2, 3, 1, 2, 2, 3, 2, 3, 3, 4, 1, 2, 2, 3, 2, 3, 3, 4, 2, 3, 3, 4, 3, 4, 4, 5, 1]\n"
     ]
    }
   ],
   "source": [
    "class Solution(object):\n",
    "    def countBits(self, num):\n",
    "        \"\"\"\n",
    "        :type num: int\n",
    "        :rtype: List[int]\n",
    "        \"\"\"\n",
    "        if num == 0:\n",
    "            return [0]\n",
    "        \n",
    "        r_list = [0 for i in range(num+1)]\n",
    "        r_list[0] = 0\n",
    "        r_list[1] = 1\n",
    "        power2 = 2\n",
    "        \n",
    "        while power2 <= num:\n",
    "            \n",
    "            for i in range(power2, min(power2 + power2/2, num+1)):\n",
    "                r_list[i] = r_list[i - power2/2]\n",
    "            \n",
    "            if num >= power2 + power2/2:\n",
    "                for i in range(power2 + power2/2, min(power2*2, num+1)):\n",
    "                    r_list[i] = r_list[i - power2/2] + 1\n",
    "\n",
    "            power2 = power2 << 1\n",
    "                \n",
    "        return r_list\n",
    "\n",
    "def main():\n",
    "    print Solution().countBits(32)\n",
    "\n",
    "if __name__ == \"__main__\":\n",
    "    main()"
   ]
  }
 ],
 "metadata": {
  "kernelspec": {
   "display_name": "Python 2",
   "language": "python",
   "name": "python2"
  },
  "language_info": {
   "codemirror_mode": {
    "name": "ipython",
    "version": 2
   },
   "file_extension": ".py",
   "mimetype": "text/x-python",
   "name": "python",
   "nbconvert_exporter": "python",
   "pygments_lexer": "ipython2",
   "version": "2.7.13"
  }
 },
 "nbformat": 4,
 "nbformat_minor": 2
}

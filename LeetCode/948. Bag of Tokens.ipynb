{
 "cells": [
  {
   "cell_type": "markdown",
   "metadata": {},
   "source": [
    "# 948. Bag of Tokens"
   ]
  },
  {
   "cell_type": "markdown",
   "metadata": {},
   "source": [
    "You have an initial power P, an initial score of 0 points, and a bag of tokens.\n",
    "\n",
    "Each token can be used at most once, has a value token[i], and has potentially two ways to use it.\n",
    "\n",
    "If we have at least token[i] power, we may play the token face up, losing token[i] power, and gaining 1 point.\n",
    "If we have at least 1 point, we may play the token face down, gaining token[i] power, and losing 1 point.\n",
    "Return the largest number of points we can have after playing any number of tokens.\n",
    "\n",
    " \n",
    "\n",
    "Example 1:\n",
    "\n",
    "Input: tokens = [100], P = 50\n",
    "Output: 0\n",
    "Example 2:\n",
    "\n",
    "Input: tokens = [100,200], P = 150\n",
    "Output: 1\n",
    "Example 3:\n",
    "\n",
    "Input: tokens = [100,200,300,400], P = 200\n",
    "Output: 2\n",
    " \n",
    "\n",
    "Note:\n",
    "\n",
    "tokens.length <= 1000\n",
    "0 <= tokens[i] < 10000\n",
    "0 <= P < 10000"
   ]
  },
  {
   "cell_type": "markdown",
   "metadata": {},
   "source": [
    "## Solution 1. Time complexity O(n<sup>2</sup>)"
   ]
  },
  {
   "cell_type": "code",
   "execution_count": null,
   "metadata": {},
   "outputs": [],
   "source": [
    "class Solution:\n",
    "    def bagOfTokensScore(self, tokens, P):\n",
    "        \"\"\"\n",
    "        :type tokens: List[int]\n",
    "        :type P: int\n",
    "        :rtype: int\n",
    "        \"\"\"\n",
    "        \n",
    "        tokens.sort()\n",
    "        \n",
    "        def getPoints(start, end, power):\n",
    "            tot, points = 0, 0\n",
    "            for i in range(start, end):\n",
    "                tot += tokens[i]\n",
    "                if power >= tot:\n",
    "                    points += 1\n",
    "            return points\n",
    "        \n",
    "        \n",
    "        max_points, points = 0, 0\n",
    "        start, end, power =  0, len(tokens), P\n",
    "        \n",
    "        while  start < end and power > tokens[start]:\n",
    "            max_points = max(max_points, getPoints(start, end, power))\n",
    "            power += tokens[end-1] - tokens[start]\n",
    "            start, end = start+1, end-1\n",
    "        \n",
    "        return max_points"
   ]
  },
  {
   "cell_type": "markdown",
   "metadata": {},
   "source": [
    "## Solution 2. Time Complexity O(nlogn), Extra space Complexity O(n)"
   ]
  },
  {
   "cell_type": "code",
   "execution_count": null,
   "metadata": {},
   "outputs": [],
   "source": [
    "class Solution:\n",
    "    def bagOfTokensScore(self, tokens, P):\n",
    "        \"\"\"\n",
    "        :type tokens: List[int]\n",
    "        :type P: int\n",
    "        :rtype: int\n",
    "        \"\"\"        \n",
    "        tokens.sort()\n",
    "        \n",
    "        if not tokens or P < tokens[0]:\n",
    "            return 0\n",
    "        \n",
    "        n = len(tokens)\n",
    "        tots = [0] * n\n",
    "        tots[0] = tokens[0]\n",
    "        for i in range(1, n):\n",
    "            tots[i] += tots[i-1] + tokens[i]\n",
    "    \n",
    "        max_points = bisect.bisect_right(tots, P)\n",
    "        for i in reversed(range(n)):             \n",
    "            #n-i items from front\n",
    "            P += tokens[i]\n",
    "            index = bisect.bisect_right(tots, P)\n",
    "            points = index - (n-i)\n",
    "            if points > max_points:\n",
    "                max_points = points\n",
    "            elif points < max_points:\n",
    "                break\n",
    "        \n",
    "        return max_points"
   ]
  },
  {
   "cell_type": "markdown",
   "metadata": {},
   "source": [
    "## Solution 3. Time complexity O(nlogn),  Extra space complexity O(n)"
   ]
  },
  {
   "cell_type": "code",
   "execution_count": null,
   "metadata": {},
   "outputs": [],
   "source": [
    "class Solution(object):\n",
    "    def bagOfTokensScore(self, tokens, P):\n",
    "        tokens.sort()\n",
    "        deque = collections.deque(tokens)\n",
    "        ans = bns = 0\n",
    "        while deque and (P >= deque[0] or bns):\n",
    "            while deque and P >= deque[0]:\n",
    "                P -= deque.popleft()\n",
    "                bns += 1\n",
    "            ans = max(ans, bns)\n",
    "\n",
    "            if deque and bns:\n",
    "                P += deque.pop()\n",
    "                bns -= 1\n",
    "\n",
    "        return ans"
   ]
  },
  {
   "cell_type": "markdown",
   "metadata": {},
   "source": [
    "## Solution 4. Time complexity O(nlogn), Extra space complexity O(1)"
   ]
  },
  {
   "cell_type": "code",
   "execution_count": null,
   "metadata": {},
   "outputs": [],
   "source": [
    "class Solution:\n",
    "    def bagOfTokensScore(self, tokens, P):\n",
    "        \"\"\"\n",
    "        :type tokens: List[int]\n",
    "        :type P: int\n",
    "        :rtype: int\n",
    "        \"\"\"\n",
    "        \n",
    "        tokens.sort()\n",
    "        \n",
    "        power, points, max_points = P, 0, 0 \n",
    "        start, end = 0, len(tokens) - 1\n",
    "        \n",
    "        while start <=end:\n",
    "            if power >= tokens[start]: \n",
    "                power -= tokens[start]\n",
    "                points += 1\n",
    "                max_points = max(max_points, points)\n",
    "                start += 1\n",
    "            elif points > 0:\n",
    "                power += tokens[end]\n",
    "                points -= 1\n",
    "                end -= 1\n",
    "            else:\n",
    "                break\n",
    "        return max_points"
   ]
  },
  {
   "cell_type": "code",
   "execution_count": null,
   "metadata": {},
   "outputs": [],
   "source": []
  }
 ],
 "metadata": {
  "kernelspec": {
   "display_name": "Python 3",
   "language": "python",
   "name": "python3"
  },
  "language_info": {
   "codemirror_mode": {
    "name": "ipython",
    "version": 3
   },
   "file_extension": ".py",
   "mimetype": "text/x-python",
   "name": "python",
   "nbconvert_exporter": "python",
   "pygments_lexer": "ipython3",
   "version": "3.7.1"
  }
 },
 "nbformat": 4,
 "nbformat_minor": 2
}

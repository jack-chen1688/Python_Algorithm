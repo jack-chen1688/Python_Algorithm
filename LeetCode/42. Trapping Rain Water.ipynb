{
 "cells": [
  {
   "cell_type": "markdown",
   "metadata": {},
   "source": [
    "# 42. Trapping Rain Water"
   ]
  },
  {
   "cell_type": "markdown",
   "metadata": {},
   "source": [
    "Given n non-negative integers representing an elevation map where the width of each bar is 1, compute how much water it is able to trap after raining.\n",
    "\n",
    "![title](img/rainwatertrap.png)\n",
    "The above elevation map is represented by array [0,1,0,2,1,0,1,3,2,1,2,1]. In this case, 6 units of rain water (blue section) are being trapped. Thanks Marcos for contributing this image!\n",
    "\n",
    "Example:\n",
    "\n",
    "Input: [0,1,0,2,1,0,1,3,2,1,2,1]\n",
    "Output: 6"
   ]
  },
  {
   "cell_type": "markdown",
   "metadata": {},
   "source": [
    "## Solution 1. Stack based. Time complexity O(n), Space Complexity O(n)"
   ]
  },
  {
   "cell_type": "code",
   "execution_count": null,
   "metadata": {},
   "outputs": [],
   "source": [
    "class Solution:\n",
    "    def trap(self, height):\n",
    "        \"\"\"\n",
    "        :type height: List[int]\n",
    "        :rtype: int\n",
    "        \"\"\"\n",
    "        \n",
    "        stack = []\n",
    "        result = 0\n",
    "\n",
    "        x0 = float(\"-inf\")\n",
    "        for i, x in enumerate(height):\n",
    "            if x < x0:\n",
    "                stack.append(i-1)\n",
    "            elif x > x0:\n",
    "                while stack:\n",
    "                    j = stack[-1]\n",
    "                    if x >= height[j]:\n",
    "                        result += (height[j] - x0) * (i - j - 1)\n",
    "                        x0 = height[j]\n",
    "                        stack.pop()\n",
    "                    else:\n",
    "                        result += (x - x0) * (i - j -1)\n",
    "                        stack.append(i)\n",
    "                        break\n",
    "            x0 = x\n",
    "        \n",
    "        return result"
   ]
  },
  {
   "cell_type": "markdown",
   "metadata": {},
   "source": [
    "## Solution 2. Two-pointer based approach"
   ]
  }
 ],
 "metadata": {
  "kernelspec": {
   "display_name": "Python 3",
   "language": "python",
   "name": "python3"
  },
  "language_info": {
   "codemirror_mode": {
    "name": "ipython",
    "version": 3
   },
   "file_extension": ".py",
   "mimetype": "text/x-python",
   "name": "python",
   "nbconvert_exporter": "python",
   "pygments_lexer": "ipython3",
   "version": "3.7.1"
  }
 },
 "nbformat": 4,
 "nbformat_minor": 2
}

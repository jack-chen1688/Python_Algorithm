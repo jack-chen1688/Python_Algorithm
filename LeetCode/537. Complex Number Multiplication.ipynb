{
 "cells": [
  {
   "cell_type": "markdown",
   "metadata": {},
   "source": [
    "# 537. Complex Number Multiplication"
   ]
  },
  {
   "cell_type": "markdown",
   "metadata": {},
   "source": [
    "Given two strings representing two complex numbers.\n",
    "\n",
    "You need to return a string representing their multiplication. Note i2 = -1 according to the definition.\n",
    "\n",
    "Example 1:\n",
    "Input: \"1+1i\", \"1+1i\"\n",
    "Output: \"0+2i\"\n",
    "Explanation: (1 + i) * (1 + i) = 1 + i2 + 2 * i = 2i, and you need convert it to the form of 0+2i.\n",
    "Example 2:\n",
    "Input: \"1+-1i\", \"1+-1i\"\n",
    "Output: \"0+-2i\"\n",
    "Explanation: (1 - i) * (1 - i) = 1 + i2 - 2 * i = -2i, and you need convert it to the form of 0+-2i.\n",
    "Note:\n",
    "\n",
    "The input strings will not have extra blank.\n",
    "The input strings will be given in the form of a+bi, where the integer a and b will both belong to the range of [-100, 100]. And the output should be also in this form."
   ]
  },
  {
   "cell_type": "markdown",
   "metadata": {},
   "source": [
    "## Solution"
   ]
  },
  {
   "cell_type": "code",
   "execution_count": null,
   "metadata": {
    "collapsed": true
   },
   "outputs": [],
   "source": [
    "Solution(object):\n",
    "    def complexNumberMultiply(self, a, b):\n",
    "        \"\"\"\n",
    "        :type a: str\n",
    "        :type b: str\n",
    "        :rtype: str\n",
    "        \"\"\"\n",
    "        \n",
    "        def str2complex(a):\n",
    "            return [int(x) for x in a[:-1].split(\"+\")]\n",
    "        \n",
    "        a_lst = str2complex(a)\n",
    "        b_lst = str2complex(b)\n",
    "        \n",
    "        x = a_lst[0] * b_lst[0] - a_lst[1] * b_lst[1]\n",
    "        y = a_lst[0] * b_lst[1] + a_lst[1] * b_lst[0]\n",
    "        \n",
    "        return str(x) + \"+\" + str(y) + \"i\"\n",
    "            "
   ]
  }
 ],
 "metadata": {
  "kernelspec": {
   "display_name": "Python 2",
   "language": "python",
   "name": "python2"
  },
  "language_info": {
   "codemirror_mode": {
    "name": "ipython",
    "version": 2
   },
   "file_extension": ".py",
   "mimetype": "text/x-python",
   "name": "python",
   "nbconvert_exporter": "python",
   "pygments_lexer": "ipython2",
   "version": "2.7.13"
  }
 },
 "nbformat": 4,
 "nbformat_minor": 2
}

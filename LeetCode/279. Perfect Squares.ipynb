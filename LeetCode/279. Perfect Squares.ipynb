{
 "cells": [
  {
   "cell_type": "markdown",
   "metadata": {},
   "source": [
    "# 279. Perfect Squares"
   ]
  },
  {
   "cell_type": "markdown",
   "metadata": {},
   "source": [
    "Given a positive integer n, find the least number of perfect square numbers (for example, 1, 4, 9, 16, ...) which sum to n.\n",
    "\n",
    "For example, given n = 12, return 3 because 12 = 4 + 4 + 4; given n = 13, return 2 because 13 = 4 + 9.\n",
    "\n",
    "Credits:\n",
    "Special thanks to @jianchao.li.fighter for adding this problem and creating all test cases."
   ]
  },
  {
   "cell_type": "markdown",
   "metadata": {},
   "source": [
    "## Solution"
   ]
  },
  {
   "cell_type": "code",
   "execution_count": null,
   "metadata": {
    "collapsed": true
   },
   "outputs": [],
   "source": [
    "class Solution(object):\n",
    "    def numSquares(self, n):\n",
    "        \"\"\"\n",
    "        :type n: int\n",
    "        :rtype: int\n",
    "        \"\"\"\n",
    "        \n",
    "        #18 = 9 + 9 = 16 + 1 + 1\n",
    "        #knap sack problem.\n",
    "        \n",
    "        x = 1\n",
    "        lst = []\n",
    "        while 1:\n",
    "            square = x*x\n",
    "            if square < n:\n",
    "                lst.append(square)\n",
    "            elif square == n:\n",
    "                return 1\n",
    "            else:\n",
    "                break\n",
    "            x+=1\n",
    "            \n",
    "        length = len(lst)\n",
    "        nums = range(n+1)\n",
    "        \n",
    "        for i, x in enumerate(lst[1:], start=1):\n",
    "            nums1 = [0] * (n+1)\n",
    "            # cannot use x\n",
    "            for j in xrange(x):\n",
    "                nums1[j] = nums[j] \n",
    "                \n",
    "            for j in xrange(x, n+1):\n",
    "                # use x or not use x\n",
    "                nums1[j] = min(nums1[j-x] + 1, nums[j])  \n",
    "            \n",
    "            nums = nums1\n",
    "        \n",
    "        return nums[n]\n",
    "                "
   ]
  }
 ],
 "metadata": {
  "kernelspec": {
   "display_name": "Python 2",
   "language": "python",
   "name": "python2"
  },
  "language_info": {
   "codemirror_mode": {
    "name": "ipython",
    "version": 2
   },
   "file_extension": ".py",
   "mimetype": "text/x-python",
   "name": "python",
   "nbconvert_exporter": "python",
   "pygments_lexer": "ipython2",
   "version": "2.7.13"
  }
 },
 "nbformat": 4,
 "nbformat_minor": 2
}

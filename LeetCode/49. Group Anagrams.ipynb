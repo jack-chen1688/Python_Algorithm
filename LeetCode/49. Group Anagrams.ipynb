{
 "cells": [
  {
   "cell_type": "markdown",
   "metadata": {},
   "source": [
    "# 49. Group Anagrams"
   ]
  },
  {
   "cell_type": "markdown",
   "metadata": {},
   "source": [
    "Given an array of strings, group anagrams together.\n",
    "\n",
    "For example, given: [\"eat\", \"tea\", \"tan\", \"ate\", \"nat\", \"bat\"], \n",
    "Return:\n",
    "\n",
    "[\n",
    "  [\"ate\", \"eat\",\"tea\"],\n",
    "  [\"nat\",\"tan\"],\n",
    "  [\"bat\"]\n",
    "]\n",
    "Note: All inputs will be in lower-case."
   ]
  },
  {
   "cell_type": "markdown",
   "metadata": {},
   "source": [
    "## Solution 1"
   ]
  },
  {
   "cell_type": "code",
   "execution_count": 3,
   "metadata": {},
   "outputs": [
    {
     "name": "stdout",
     "output_type": "stream",
     "text": [
      "[['tan', 'nat'], ['bat'], ['ate', 'tea', 'eat']]\n"
     ]
    }
   ],
   "source": [
    "class Solution(object):\n",
    "    def groupAnagrams(self, strs):\n",
    "        \"\"\"\n",
    "        :type strs: List[str]\n",
    "        :rtype: List[[List[str]]]\n",
    "        \"\"\"\n",
    "        dict = {}\n",
    "        for item in strs:\n",
    "            sort_item = ''.join(sorted(item))\n",
    "            \n",
    "            \"\"\"\n",
    "            The following will exceed time limit.\n",
    "            if sort_item not in dict.keys():\n",
    "            dict.keys() is a list and search for an entry in a list is time-consuming.\n",
    "            The correct way should be \n",
    "            if sort_item not in dict\n",
    "            \"\"\"\n",
    "\n",
    "            if sort_item not in dict:\n",
    "                dict[sort_item] = [item]\n",
    "            else:\n",
    "                dict[sort_item].append(item)\n",
    "        \n",
    "        return dict.values()\n",
    "    \n",
    "def main():\n",
    "    strs = [\"ate\", \"tea\", \"tan\", \"eat\", \"nat\", \"bat\"]\n",
    "    print Solution().groupAnagrams(strs)\n",
    "\n",
    "if __name__ == \"__main__\":\n",
    "    main()"
   ]
  },
  {
   "cell_type": "markdown",
   "metadata": {},
   "source": [
    "## Solution 2. Minor Enhancment"
   ]
  },
  {
   "cell_type": "code",
   "execution_count": 12,
   "metadata": {},
   "outputs": [
    {
     "name": "stdout",
     "output_type": "stream",
     "text": [
      "[['tan', 'nat'], ['bat'], ['ate', 'tea', 'eat']]\n"
     ]
    }
   ],
   "source": [
    "class Solution(object):\n",
    "    def groupAnagrams(self, strs):\n",
    "        \"\"\"\n",
    "        :type strs: List[str]\n",
    "        :rtype: List[[List[str]]]\n",
    "        \"\"\"\n",
    "        dict = {}\n",
    "        for item in strs:\n",
    "            sort_item = ''.join(sorted(item))\n",
    "            dict[sort_item] = dict.get(sort_item, []) + [item]\n",
    "        \n",
    "        return dict.values()\n",
    "    \n",
    "def main():\n",
    "    strs = [\"ate\", \"tea\", \"tan\", \"eat\", \"nat\", \"bat\"]\n",
    "    print Solution().groupAnagrams(strs)\n",
    "\n",
    "if __name__ == \"__main__\":\n",
    "    main()"
   ]
  }
 ],
 "metadata": {
  "kernelspec": {
   "display_name": "Python 2",
   "language": "python",
   "name": "python2"
  },
  "language_info": {
   "codemirror_mode": {
    "name": "ipython",
    "version": 2
   },
   "file_extension": ".py",
   "mimetype": "text/x-python",
   "name": "python",
   "nbconvert_exporter": "python",
   "pygments_lexer": "ipython2",
   "version": "2.7.13"
  }
 },
 "nbformat": 4,
 "nbformat_minor": 2
}

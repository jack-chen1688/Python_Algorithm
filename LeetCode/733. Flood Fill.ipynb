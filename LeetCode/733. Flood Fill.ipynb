{
 "cells": [
  {
   "cell_type": "markdown",
   "metadata": {},
   "source": [
    "# 733. Flood Fill"
   ]
  },
  {
   "cell_type": "markdown",
   "metadata": {},
   "source": [
    "An image is represented by a 2-D array of integers, each integer representing the pixel value of the image (from 0 to 65535).\n",
    "\n",
    "Given a coordinate (sr, sc) representing the starting pixel (row and column) of the flood fill, and a pixel value newColor, \"flood fill\" the image.\n",
    "\n",
    "To perform a \"flood fill\", consider the starting pixel, plus any pixels connected 4-directionally to the starting pixel of the same color as the starting pixel, plus any pixels connected 4-directionally to those pixels (also with the same color as the starting pixel), and so on. Replace the color of all of the aforementioned pixels with the newColor.\n",
    "\n",
    "At the end, return the modified image.\n",
    "\n",
    "Example 1:\n",
    "Input: \n",
    "image = [[1,1,1],[1,1,0],[1,0,1]]\n",
    "sr = 1, sc = 1, newColor = 2\n",
    "Output: [[2,2,2],[2,2,0],[2,0,1]]\n",
    "Explanation: \n",
    "From the center of the image (with position (sr, sc) = (1, 1)), all pixels connected \n",
    "by a path of the same color as the starting pixel are colored with the new color.\n",
    "Note the bottom corner is not colored 2, because it is not 4-directionally connected\n",
    "to the starting pixel.\n",
    "Note:\n",
    "\n",
    "The length of image and image[0] will be in the range [1, 50].\n",
    "The given starting pixel will satisfy 0 <= sr < image.length and 0 <= sc < image[0].length.\n",
    "The value of each color in image[i][j] and newColor will be an integer in [0, 65535].\n"
   ]
  },
  {
   "cell_type": "markdown",
   "metadata": {},
   "source": [
    "## Solution"
   ]
  },
  {
   "cell_type": "code",
   "execution_count": null,
   "metadata": {
    "collapsed": true
   },
   "outputs": [],
   "source": [
    "class Solution(object):\n",
    "    def floodFill(self, image, sr, sc, newColor):\n",
    "        \"\"\"\n",
    "        :type image: List[List[int]]\n",
    "        :type sr: int\n",
    "        :type sc: int\n",
    "        :type newColor: int\n",
    "        :rtype: List[List[int]]\n",
    "        \"\"\"\n",
    "\n",
    "        def getNewPix(image, s, srow, scol, m, n):\n",
    "            lst = []\n",
    "            for row in xrange(max(srow-1, 0), min(srow+1, m-1) +1):\n",
    "                if row != srow and image[row][scol] == image[srow][scol] and (row,scol) not in s:\n",
    "                    lst.append((row,scol))\n",
    "                    s.add((row,scol))\n",
    "            \n",
    "            for col in xrange(max(scol-1, 0), min(scol+1, n-1) +1):\n",
    "                if col != scol and image[srow][col] == image[srow][scol] and (srow, col) not in s:\n",
    "                    lst.append((srow, col))\n",
    "                    s.add((srow, col))\n",
    "                    \n",
    "            return lst \n",
    "        \n",
    "        nrow = len(image)\n",
    "        ncol = len(image[0])\n",
    "        \n",
    "        s = set()\n",
    "        s.add((sr,sc))\n",
    "        \n",
    "        lst = getNewPix(image, s, sr, sc, nrow, ncol)\n",
    "        \n",
    "        while lst:\n",
    "            lst1 = []\n",
    "            for x, y in lst:\n",
    "                lst1.extend(getNewPix(image, s, x, y, nrow, ncol))\n",
    "                lst = lst1\n",
    "            \n",
    "        for x,y in s:\n",
    "            image[x][y] = newColor\n",
    "        \n",
    "        return image"
   ]
  }
 ],
 "metadata": {
  "kernelspec": {
   "display_name": "Python 2",
   "language": "python",
   "name": "python2"
  },
  "language_info": {
   "codemirror_mode": {
    "name": "ipython",
    "version": 2
   },
   "file_extension": ".py",
   "mimetype": "text/x-python",
   "name": "python",
   "nbconvert_exporter": "python",
   "pygments_lexer": "ipython2",
   "version": "2.7.13"
  }
 },
 "nbformat": 4,
 "nbformat_minor": 2
}

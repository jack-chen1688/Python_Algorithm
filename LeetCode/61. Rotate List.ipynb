{
 "cells": [
  {
   "cell_type": "markdown",
   "metadata": {},
   "source": [
    "# 61. Rotate List"
   ]
  },
  {
   "cell_type": "markdown",
   "metadata": {},
   "source": [
    "Given a list, rotate the list to the right by k places, where k is non-negative.\n",
    "\n",
    "For example:\n",
    "Given 1->2->3->4->5->NULL and k = 2,\n",
    "return 4->5->1->2->3->NULL."
   ]
  },
  {
   "cell_type": "markdown",
   "metadata": {},
   "source": [
    "## Solution 1. Use an Extra List"
   ]
  },
  {
   "cell_type": "code",
   "execution_count": null,
   "metadata": {
    "collapsed": true
   },
   "outputs": [],
   "source": [
    "# Definition for singly-linked list.\n",
    "# class ListNode(object):\n",
    "#     def __init__(self, x):\n",
    "#         self.val = x\n",
    "#         self.next = None\n",
    "\n",
    "class Solution(object):\n",
    "    def rotateRight(self, head, k):\n",
    "        \"\"\"\n",
    "        :type head: ListNode\n",
    "        :type k: int\n",
    "        :rtype: ListNode\n",
    "        \"\"\"\n",
    "        \n",
    "        #1->2->3->NULL\n",
    "        \n",
    "        l = []\n",
    "        \n",
    "        node = head\n",
    "        cnt = 0\n",
    "        while node:\n",
    "            l.append(node)\n",
    "            node = node.next\n",
    "        \n",
    "        length = len(l)\n",
    "        \n",
    "        if length == 0:\n",
    "            return head\n",
    "        \n",
    "        k1 = k % length\n",
    "        if k1 == 0:\n",
    "            return head\n",
    "        \n",
    "        l[-(k1+1)].next = None\n",
    "        l[-1].next = head\n",
    "        \n",
    "        return l[-k1]"
   ]
  },
  {
   "cell_type": "markdown",
   "metadata": {},
   "source": [
    "## Solution 2. Use Constant Space"
   ]
  },
  {
   "cell_type": "code",
   "execution_count": null,
   "metadata": {
    "collapsed": true
   },
   "outputs": [],
   "source": [
    "# Definition for singly-linked list.\n",
    "# class ListNode(object):\n",
    "#     def __init__(self, x):\n",
    "#         self.val = x\n",
    "#         self.next = None\n",
    "\n",
    "class Solution(object):\n",
    "    def rotateRight(self, head, k):\n",
    "        \"\"\"\n",
    "        :type head: ListNode\n",
    "        :type k: int\n",
    "        :rtype: ListNode\n",
    "        \"\"\"\n",
    "        \n",
    "        node = head\n",
    "        cnt = 0\n",
    "        length = 0\n",
    "        while node:\n",
    "            length += 1\n",
    "            if not node.next:\n",
    "                tail = node\n",
    "                break\n",
    "            else:\n",
    "                node = node.next\n",
    "        \n",
    "        if length < 2:\n",
    "            return head\n",
    "        \n",
    "        k1 = k % length\n",
    "        if k1 == 0:\n",
    "            return head\n",
    "        \n",
    "        # node points to tail\n",
    "        tail.next = head\n",
    "        \n",
    "        node = head\n",
    "        for i in range(length-k1-1):\n",
    "            node = node.next\n",
    "            \n",
    "        new_head = node.next\n",
    "        node.next = None\n",
    "        \n",
    "        return new_head"
   ]
  }
 ],
 "metadata": {
  "kernelspec": {
   "display_name": "Python 2",
   "language": "python",
   "name": "python2"
  },
  "language_info": {
   "codemirror_mode": {
    "name": "ipython",
    "version": 2
   },
   "file_extension": ".py",
   "mimetype": "text/x-python",
   "name": "python",
   "nbconvert_exporter": "python",
   "pygments_lexer": "ipython2",
   "version": "2.7.13"
  }
 },
 "nbformat": 4,
 "nbformat_minor": 2
}

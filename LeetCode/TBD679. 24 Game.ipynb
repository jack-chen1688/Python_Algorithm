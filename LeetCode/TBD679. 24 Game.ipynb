{
 "cells": [
  {
   "cell_type": "markdown",
   "metadata": {},
   "source": [
    "# 679. 24 Game"
   ]
  },
  {
   "cell_type": "markdown",
   "metadata": {},
   "source": [
    "You have 4 cards each containing a number from 1 to 9. You need to judge whether they could operated through *, /, +, -, (, ) to get the value of 24.\n",
    "\n",
    "Example 1:\n",
    "Input: [4, 1, 8, 7]\n",
    "Output: True\n",
    "Explanation: (8-4) * (7-1) = 24\n",
    "Example 2:\n",
    "Input: [1, 2, 1, 2]\n",
    "Output: False\n",
    "Note:\n",
    "The division operator / represents real division, not integer division. For example, 4 / (1 - 2/3) = 12.\n",
    "Every operation done is between two numbers. In particular, we cannot use - as a unary operator. For example, with [1, 1, 1, 1] as input, the expression -1 - 1 - 1 - 1 is not allowed.\n",
    "You cannot concatenate numbers together. For example, if the input is [1, 2, 1, 2], we cannot write this as 12 + 12."
   ]
  },
  {
   "cell_type": "markdown",
   "metadata": {},
   "source": [
    "## Solution 1. DFS approach"
   ]
  },
  {
   "cell_type": "code",
   "execution_count": null,
   "metadata": {
    "collapsed": true
   },
   "outputs": [],
   "source": [
    "class Solution(object):\n",
    "    def judgePoint24(self, nums):\n",
    "        \"\"\"\n",
    "        :type nums: List[int]\n",
    "        :rtype: bool\n",
    "        \"\"\"\n",
    "        n = len(nums)\n",
    "        if n == 1:\n",
    "            return abs(nums[0] - 24) <= 0.001\n",
    "        \n",
    "        s = set()\n",
    "        \n",
    "        for i, num0 in enumerate(nums):\n",
    "            for j,num1 in enumerate(nums):\n",
    "                if i != j:\n",
    "                    lst0 = [num0+num1, num0-num1,num0*num1]\n",
    "                    if num1 != 0:\n",
    "                        lst0.append(float(num0)/num1)\n",
    "                        \n",
    "                    for num in lst0:\n",
    "                        lst = [nums[k] for k in list(set(xrange(n)) - set([i,j]))] + [num]\n",
    "                        lst.sort()\n",
    "                        s.add(tuple(lst))\n",
    "\n",
    "        return any(self.judgePoint24(list(tup)) for tup in s)"
   ]
  }
 ],
 "metadata": {
  "kernelspec": {
   "display_name": "Python 2",
   "language": "python",
   "name": "python2"
  },
  "language_info": {
   "codemirror_mode": {
    "name": "ipython",
    "version": 2
   },
   "file_extension": ".py",
   "mimetype": "text/x-python",
   "name": "python",
   "nbconvert_exporter": "python",
   "pygments_lexer": "ipython2",
   "version": "2.7.13"
  }
 },
 "nbformat": 4,
 "nbformat_minor": 2
}

{
 "cells": [
  {
   "cell_type": "markdown",
   "metadata": {},
   "source": [
    "# 421. Maximum XOR of Two Numbers in an Array"
   ]
  },
  {
   "cell_type": "markdown",
   "metadata": {},
   "source": [
    "Given a non-empty array of numbers, a0, a1, a2, … , an-1, where 0 ≤ ai < 231.\n",
    "\n",
    "Find the maximum result of ai XOR aj, where 0 ≤ i, j < n.\n",
    "\n",
    "Could you do this in O(n) runtime?\n",
    "\n",
    "Example:\n",
    "\n",
    "Input: [3, 10, 5, 25, 2, 8]\n",
    "\n",
    "Output: 28\n",
    "\n",
    "Explanation: The maximum result is 5 ^ 25 = 28."
   ]
  },
  {
   "cell_type": "markdown",
   "metadata": {},
   "source": [
    "## Solution. "
   ]
  },
  {
   "cell_type": "code",
   "execution_count": null,
   "metadata": {
    "collapsed": true
   },
   "outputs": [],
   "source": [
    "class Solution(object):\n",
    "    def findMaximumXOR(self, nums):\n",
    "        \"\"\"\n",
    "        :type nums: List[int]\n",
    "        :rtype: int\n",
    "        \"\"\"\n",
    "        ans = 0     \n",
    "    \n",
    "        for k in xrange(30, -1, -1):\n",
    "            power = 1 << k\n",
    "            lo = [x for x in nums if x & power == 0]\n",
    "            hi = [x for x in nums if x & power != 0]\n",
    "            if lo != [] and hi != []:\n",
    "                break\n",
    "            \n",
    "        def dfs(k, lo, hi):\n",
    "            power = 1 << k\n",
    "            ans = 0\n",
    "            lo0 = [x for x in lo if (x & power == 0)]\n",
    "            lo1 = [x for x in lo if (x & power != 0)]\n",
    "            hi0 = [x for x in hi if (x & power == 0)]\n",
    "            hi1 = [x for x in hi if (x & power != 0)]\n",
    "     \n",
    "            if (lo0 == [] and hi0 == []) or (lo1 == [] and hi1 == []):\n",
    "                if k > 0:\n",
    "                    ans = dfs(k-1, lo, hi)\n",
    "                else: \n",
    "                    ans = 0\n",
    "            else:\n",
    "                if k > 0:\n",
    "                    ans += power\n",
    "                    ans0, ans1 = 0, 0\n",
    "                    \n",
    "                    if lo1 != [] and hi0 != []:\n",
    "                        ans0 = dfs(k-1, lo1, hi0)\n",
    "                    \n",
    "                    if lo0 != [] and hi1 != []:\n",
    "                        ans1 = dfs(k-1, lo0, hi1)\n",
    "                    \n",
    "                    ans += max(ans0, ans1)\n",
    "                else: \n",
    "                    ans = 1\n",
    "            \n",
    "            return ans\n",
    "                \n",
    "        if hi != [] and lo != []:\n",
    "            return ans + dfs(k, lo, hi)\n",
    "        else:\n",
    "            return ans"
   ]
  }
 ],
 "metadata": {
  "kernelspec": {
   "display_name": "Python 2",
   "language": "python",
   "name": "python2"
  },
  "language_info": {
   "codemirror_mode": {
    "name": "ipython",
    "version": 2
   },
   "file_extension": ".py",
   "mimetype": "text/x-python",
   "name": "python",
   "nbconvert_exporter": "python",
   "pygments_lexer": "ipython2",
   "version": "2.7.13"
  }
 },
 "nbformat": 4,
 "nbformat_minor": 2
}

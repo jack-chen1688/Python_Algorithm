{
 "cells": [
  {
   "cell_type": "markdown",
   "metadata": {},
   "source": [
    "# 529. Minesweeper"
   ]
  },
  {
   "cell_type": "markdown",
   "metadata": {},
   "source": [
    "\n",
    "Let's play the minesweeper game (Wikipedia, online game)!\n",
    "\n",
    "You are given a 2D char matrix representing the game board. 'M' represents an unrevealed mine, 'E' represents an unrevealed empty square, 'B' represents a revealed blank square that has no adjacent (above, below, left, right, and all 4 diagonals) mines, digit ('1' to '8') represents how many mines are adjacent to this revealed square, and finally 'X' represents a revealed mine.\n",
    "\n",
    "Now given the next click position (row and column indices) among all the unrevealed squares ('M' or 'E'), return the board after revealing this position according to the following rules:\n",
    "\n",
    "If a mine ('M') is revealed, then the game is over - change it to 'X'.\n",
    "If an empty square ('E') with no adjacent mines is revealed, then change it to revealed blank ('B') and all of its adjacent unrevealed squares should be revealed recursively.\n",
    "If an empty square ('E') with at least one adjacent mine is revealed, then change it to a digit ('1' to '8') representing the number of adjacent mines.\n",
    "Return the board when no more squares will be revealed.\n",
    "Example 1:\n",
    "Input: \n",
    "\n",
    "[['E', 'E', 'E', 'E', 'E'],\n",
    " ['E', 'E', 'M', 'E', 'E'],\n",
    " ['E', 'E', 'E', 'E', 'E'],\n",
    " ['E', 'E', 'E', 'E', 'E']]\n",
    "\n",
    "Click : [3,0]\n",
    "\n",
    "Output: \n",
    "\n",
    "[['B', '1', 'E', '1', 'B'],\n",
    " ['B', '1', 'M', '1', 'B'],\n",
    " ['B', '1', '1', '1', 'B'],\n",
    " ['B', 'B', 'B', 'B', 'B']]\n",
    "\n",
    "Explanation:\n",
    "\n",
    "Example 2:\n",
    "Input: \n",
    "\n",
    "[['B', '1', 'E', '1', 'B'],\n",
    " ['B', '1', 'M', '1', 'B'],\n",
    " ['B', '1', '1', '1', 'B'],\n",
    " ['B', 'B', 'B', 'B', 'B']]\n",
    "\n",
    "Click : [1,2]\n",
    "\n",
    "Output: \n",
    "\n",
    "[['B', '1', 'E', '1', 'B'],\n",
    " ['B', '1', 'X', '1', 'B'],\n",
    " ['B', '1', '1', '1', 'B'],\n",
    " ['B', 'B', 'B', 'B', 'B']]\n",
    "\n",
    "Explanation:\n",
    "\n",
    "Note:\n",
    "The range of the input matrix's height and width is [1,50].\n",
    "The click position will only be an unrevealed square ('M' or 'E'), which also means the input board contains at least one clickable square.\n",
    "The input board won't be a stage when game is over (some mines have been revealed).\n",
    "For simplicity, not mentioned rules should be ignored in this problem. For example, you don't need to reveal all the unrevealed mines when the game is over, consider any cases that you will win the game or flag any squares."
   ]
  },
  {
   "cell_type": "markdown",
   "metadata": {},
   "source": [
    "## Solution 1. BFS approach"
   ]
  },
  {
   "cell_type": "code",
   "execution_count": null,
   "metadata": {
    "collapsed": true
   },
   "outputs": [],
   "source": [
    "class Solution(object):\n",
    "    def updateBoard(self, board, click):\n",
    "        \"\"\"\n",
    "        :type board: List[List[str]]\n",
    "        :type click: List[int]\n",
    "        :rtype: List[List[str]]\n",
    "        \"\"\"\n",
    "\n",
    "        res = list(board)\n",
    "        i, j = click\n",
    "        \n",
    "        nrow = len(res)\n",
    "        ncol = len(res[0])    \n",
    "            \n",
    "        if res[i][j] == 'M':\n",
    "            res[i][j] = 'X'\n",
    "            return res\n",
    "        \n",
    "        elif res[i][j] in 'BX12345678':\n",
    "            return res\n",
    "        \n",
    "        else:\n",
    "            s = {(i,j)}\n",
    "            while len(s) != 0:\n",
    "                s1 = set()\n",
    "                \n",
    "                for x,y in s:\n",
    "                    s2 = set() \n",
    "                    cnt = 0\n",
    "                    for x0 in xrange(max(x-1,0),min(x+1,nrow-1)+1):\n",
    "                        for y0 in xrange(max(y-1,0), min(y+1,ncol-1)+1):\n",
    "                            if x0 != x or y0 != y:\n",
    "                                if res[x0][y0] == 'M':\n",
    "                                    cnt+= 1\n",
    "                                elif res[x0][y0] == 'E':\n",
    "                                    s2.add((x0,y0))\n",
    "            \n",
    "                    if cnt != 0:\n",
    "                        res[x][y] = str(cnt)\n",
    "                    else:\n",
    "                        res[x][y] = 'B'\n",
    "                        s1 = s1 | s2                     \n",
    "                s = s1\n",
    "\n",
    "        return res"
   ]
  },
  {
   "cell_type": "markdown",
   "metadata": {},
   "source": [
    "## Solution 2. DFS Approach"
   ]
  },
  {
   "cell_type": "code",
   "execution_count": null,
   "metadata": {
    "collapsed": true
   },
   "outputs": [],
   "source": [
    "class Solution(object):\n",
    "    def updateBoard(self, board, click):\n",
    "        \"\"\"\n",
    "        :type board: List[List[str]]\n",
    "        :type click: List[int]\n",
    "        :rtype: List[List[str]]\n",
    "        \"\"\"\n",
    "        \n",
    "        res = list(board)\n",
    "        i, j = click    \n",
    "        nrow = len(res)\n",
    "        ncol = len(res[0])    \n",
    "        \n",
    "        def updateE(i,j):\n",
    "            cnt = 0\n",
    "            lst = []\n",
    "            for x in xrange(max(i-1,0), min(i+1,nrow-1)+1):\n",
    "                for y in xrange(max(j-1,0), min(j+1, ncol-1)+1):\n",
    "                    if (x,y) != (i,j):\n",
    "                        if res[x][y] == 'M':\n",
    "                            cnt += 1\n",
    "                        elif res[x][y] == 'E':\n",
    "                            lst.append([x,y])    \n",
    "            if cnt != 0:\n",
    "                res[i][j] = str(cnt)\n",
    "            else:\n",
    "                res[i][j] = 'B'\n",
    "                for x,y in lst:\n",
    "                    updateE(x,y)            \n",
    "            \n",
    "        if board[i][j] == 'E':\n",
    "            updateE(i,j)           \n",
    "        elif board[i][j] == 'M':\n",
    "            res[i][j] = 'X'\n",
    "        #elif res[i][j] in 'BX12345678':\n",
    "        \n",
    "        return res\n"
   ]
  }
 ],
 "metadata": {
  "kernelspec": {
   "display_name": "Python 2",
   "language": "python",
   "name": "python2"
  },
  "language_info": {
   "codemirror_mode": {
    "name": "ipython",
    "version": 2
   },
   "file_extension": ".py",
   "mimetype": "text/x-python",
   "name": "python",
   "nbconvert_exporter": "python",
   "pygments_lexer": "ipython2",
   "version": "2.7.13"
  }
 },
 "nbformat": 4,
 "nbformat_minor": 2
}

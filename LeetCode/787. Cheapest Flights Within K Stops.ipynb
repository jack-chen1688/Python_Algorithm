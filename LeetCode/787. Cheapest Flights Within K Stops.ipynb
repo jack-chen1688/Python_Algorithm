{
 "cells": [
  {
   "cell_type": "markdown",
   "metadata": {},
   "source": [
    "# 787. Cheapest Flights Within K Stops"
   ]
  },
  {
   "cell_type": "markdown",
   "metadata": {},
   "source": [
    "There are n cities connected by m flights. Each fight starts from city u and arrives at v with a price w.\n",
    "\n",
    "Now given all the cities and fights, together with starting city src and the destination dst, your task is to find the cheapest price from src to dst with up to k stops. If there is no such route, output -1.\n",
    "\n",
    "Example 1:\n",
    "Input: \n",
    "n = 3, edges = [[0,1,100],[1,2,100],[0,2,500]]\n",
    "src = 0, dst = 2, k = 1\n",
    "Output: 200\n",
    "Explanation: \n",
    "The graph looks like this:\n",
    "\n",
    "\n",
    "The cheapest price from city 0 to city 2 with at most 1 stop costs 200, as marked red in the picture.\n",
    "Example 2:\n",
    "Input: \n",
    "n = 3, edges = [[0,1,100],[1,2,100],[0,2,500]]\n",
    "src = 0, dst = 2, k = 0\n",
    "Output: 500\n",
    "Explanation: \n",
    "The graph looks like this:\n",
    "\n",
    "\n",
    "The cheapest price from city 0 to city 2 with at most 0 stop costs 500, as marked blue in the picture.\n",
    "Note:\n",
    "\n",
    "The number of nodes n will be in range [1, 100], with nodes labeled from 0 to n - 1.\n",
    "The size of flights will be in range [0, n * (n - 1) / 2].\n",
    "The format of each flight will be (src, dst, price).\n",
    "The price of each flight will be in the range [1, 10000].\n",
    "k is in the range of [0, n - 1].\n",
    "There will not be any duplicated flights or self cycles.\n",
    "\n"
   ]
  },
  {
   "cell_type": "markdown",
   "metadata": {},
   "source": [
    "## Solution"
   ]
  },
  {
   "cell_type": "code",
   "execution_count": null,
   "metadata": {
    "collapsed": true
   },
   "outputs": [],
   "source": [
    "class Solution(object):\n",
    "    def findCheapestPrice(self, n, flights, src, dst, K):\n",
    "        \"\"\"\n",
    "        :type n: int\n",
    "        :type flights: List[List[int]]\n",
    "        :type src: int\n",
    "        :type dst: int\n",
    "        :type K: int\n",
    "        :rtype: int\n",
    "        \"\"\"\n",
    "\n",
    "        if src == dst:\n",
    "            return 0\n",
    "        \n",
    "        A = [[float(\"inf\")] * n for _ in xrange(n)]\n",
    "        \n",
    "        for flight in flights:\n",
    "            u, v, price = flight\n",
    "            A[u][v] = price\n",
    "        \n",
    "        # k stop, means fly k+1 times, D[c][i] means min price to fly i times to city c.\n",
    "        # D[c][k+1] means min price to fly k+1 times to city c.\n",
    "        \n",
    "        D = [[float(\"inf\")] * (K+2) for _ in xrange(n)]\n",
    "        D[src][0] = 0\n",
    "        \n",
    "        for i in xrange(1, K+2):\n",
    "            for end in xrange(n):\n",
    "                for start in xrange(n):\n",
    "                    if start != end:\n",
    "                        D[end][i] = min(D[start][i-1] + A[start][end], D[end][i])\n",
    "        \n",
    "        min_price = min(D[dst])\n",
    "        return min_price if min_price != float(\"inf\") else -1\n",
    "        "
   ]
  }
 ],
 "metadata": {
  "kernelspec": {
   "display_name": "Python 2",
   "language": "python",
   "name": "python2"
  },
  "language_info": {
   "codemirror_mode": {
    "name": "ipython",
    "version": 2
   },
   "file_extension": ".py",
   "mimetype": "text/x-python",
   "name": "python",
   "nbconvert_exporter": "python",
   "pygments_lexer": "ipython2",
   "version": "2.7.13"
  }
 },
 "nbformat": 4,
 "nbformat_minor": 2
}

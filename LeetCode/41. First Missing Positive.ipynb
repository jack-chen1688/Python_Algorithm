{
 "cells": [
  {
   "cell_type": "markdown",
   "metadata": {},
   "source": [
    "# 41. First Missing Positive"
   ]
  },
  {
   "cell_type": "markdown",
   "metadata": {},
   "source": [
    "Given an unsorted integer array, find the first missing positive integer.\n",
    "\n",
    "For example,\n",
    "Given [1,2,0] return 3,\n",
    "and [3,4,-1,1] return 2.\n",
    "\n",
    "Your algorithm should run in O(n) time and uses constant space."
   ]
  },
  {
   "cell_type": "markdown",
   "metadata": {},
   "source": [
    "## Solution"
   ]
  },
  {
   "cell_type": "code",
   "execution_count": null,
   "metadata": {
    "collapsed": true
   },
   "outputs": [],
   "source": [
    "class Solution(object):\n",
    "    def firstMissingPositive(self, nums):\n",
    "        \"\"\"\n",
    "        :type nums: List[int]\n",
    "        :rtype: int\n",
    "        \"\"\"\n",
    "        \n",
    "        n = len(nums)\n",
    "        lo = 0\n",
    "        \n",
    "        while lo < n:\n",
    "            if nums[lo] <= 0 or nums[lo] > n:\n",
    "                nums[lo] = 0\n",
    "                lo += 1 \n",
    "            elif nums[lo] != lo+1:\n",
    "                pos = nums[lo] - 1\n",
    "                if nums[lo] == nums[pos]:\n",
    "                    nums[lo] = 0\n",
    "                    lo += 1\n",
    "                else:\n",
    "                    nums[lo] = nums[pos]\n",
    "                    nums[pos] = pos + 1\n",
    "            else: \n",
    "                lo += 1\n",
    "    \n",
    "        for i, num in enumerate(nums):\n",
    "            if num == 0:\n",
    "                return i+1\n",
    "        else:\n",
    "            return n+1"
   ]
  }
 ],
 "metadata": {
  "kernelspec": {
   "display_name": "Python 2",
   "language": "python",
   "name": "python2"
  },
  "language_info": {
   "codemirror_mode": {
    "name": "ipython",
    "version": 2
   },
   "file_extension": ".py",
   "mimetype": "text/x-python",
   "name": "python",
   "nbconvert_exporter": "python",
   "pygments_lexer": "ipython2",
   "version": "2.7.13"
  }
 },
 "nbformat": 4,
 "nbformat_minor": 2
}

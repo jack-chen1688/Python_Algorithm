{
 "cells": [
  {
   "cell_type": "markdown",
   "metadata": {},
   "source": [
    "# 251. Flatten 2D Vector"
   ]
  },
  {
   "cell_type": "markdown",
   "metadata": {},
   "source": [
    "Implement an iterator to flatten a 2d vector.\n",
    "\n",
    "For example,\n",
    "Given 2d vector =\n",
    "\n",
    "[\n",
    "  [1,2],\n",
    "  [3],\n",
    "  [4,5,6]\n",
    "]\n",
    "By calling next repeatedly until hasNext returns false, the order of elements returned by next should be: [1,2,3,4,5,6].\n",
    "\n",
    "Follow up:\n",
    "As an added challenge, try to code it using only iterators in C++ or iterators in Java.\n",
    "\n"
   ]
  },
  {
   "cell_type": "markdown",
   "metadata": {},
   "source": [
    "## Solution"
   ]
  },
  {
   "cell_type": "code",
   "execution_count": null,
   "metadata": {
    "collapsed": true
   },
   "outputs": [],
   "source": [
    "class Vector2D(object):\n",
    "\n",
    "    def __init__(self, vec2d):\n",
    "        \"\"\"\n",
    "        Initialize your data structure here.\n",
    "        :type vec2d: List[List[int]]\n",
    "        \"\"\"\n",
    "        self.lst = [x for row in vec2d for x in row]\n",
    "        self.pos = 0\n",
    "        \n",
    "    def next(self):\n",
    "        \"\"\"\n",
    "        :rtype: int\n",
    "        \"\"\"\n",
    "        self.pos+=1\n",
    "        return self.lst[self.pos-1]\n",
    "\n",
    "    def hasNext(self):\n",
    "        \"\"\"\n",
    "        :rtype: bool\n",
    "        \"\"\"\n",
    "        return self.pos < len(self.lst)\n",
    "\n",
    "# Your Vector2D object will be instantiated and called as such:\n",
    "# i, v = Vector2D(vec2d), []\n",
    "# while i.hasNext(): v.append(i.next())"
   ]
  }
 ],
 "metadata": {
  "kernelspec": {
   "display_name": "Python 2",
   "language": "python",
   "name": "python2"
  },
  "language_info": {
   "codemirror_mode": {
    "name": "ipython",
    "version": 2
   },
   "file_extension": ".py",
   "mimetype": "text/x-python",
   "name": "python",
   "nbconvert_exporter": "python",
   "pygments_lexer": "ipython2",
   "version": "2.7.13"
  }
 },
 "nbformat": 4,
 "nbformat_minor": 2
}

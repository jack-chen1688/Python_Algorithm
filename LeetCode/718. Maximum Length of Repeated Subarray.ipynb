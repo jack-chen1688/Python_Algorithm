{
 "cells": [
  {
   "cell_type": "markdown",
   "metadata": {},
   "source": [
    "# 718. Maximum Length of Repeated Subarray"
   ]
  },
  {
   "cell_type": "markdown",
   "metadata": {},
   "source": [
    "\n",
    "Given two integer arrays A and B, return the maximum length of an subarray that appears in both arrays.\n",
    "\n",
    "Example 1:\n",
    "Input:\n",
    "A: [1,2,3,2,1]\n",
    "B: [3,2,1,4,7]\n",
    "Output: 3\n",
    "Explanation: \n",
    "The repeated subarray with maximum length is [3, 2, 1].\n",
    "Note:\n",
    "1 <= len(A), len(B) <= 1000\n",
    "0 <= A[i], B[i] < 100"
   ]
  },
  {
   "cell_type": "markdown",
   "metadata": {},
   "source": [
    "## Solution 1. Dynamic Programming Of Time Complexity O(nm)"
   ]
  },
  {
   "cell_type": "markdown",
   "metadata": {},
   "source": [
    "The problem is almost the same as the longest common substring at https://en.wikipedia.org/wiki/Longest_common_substring_problem\n",
    "We can use the same idea to solve the issue. "
   ]
  },
  {
   "cell_type": "code",
   "execution_count": null,
   "metadata": {
    "collapsed": true
   },
   "outputs": [],
   "source": [
    "class Solution(object):\n",
    "    def findLength(self, A, B):\n",
    "        \"\"\"\n",
    "        :type A: List[int]\n",
    "        :type B: List[int]\n",
    "        :rtype: int\n",
    "        \"\"\"\n",
    "        \n",
    "        nA = len(A)\n",
    "        nB = len(B)\n",
    "\n",
    "        max_len = 0\n",
    "        L = [[0] * nB for i in xrange(nA)]\n",
    "        for i in xrange(nA):\n",
    "            for j in xrange(nB):\n",
    "                if A[i] == B[j]:\n",
    "                    if i == 0 or j == 0:\n",
    "                        L[i][j] = 1\n",
    "                    else:\n",
    "                        L[i][j] = L[i-1][j-1] + 1\n",
    "                else:\n",
    "                    L[i][j] = 0\n",
    "                \n",
    "                max_len = max(max_len, L[i][j])\n",
    "        \n",
    "        return max_len "
   ]
  },
  {
   "cell_type": "markdown",
   "metadata": {},
   "source": [
    "## Solution 2. Use string's find Method"
   ]
  },
  {
   "cell_type": "code",
   "execution_count": null,
   "metadata": {
    "collapsed": true
   },
   "outputs": [],
   "source": [
    "class Solution(object):\n",
    "    def findLength(self, A, B):\n",
    "        \"\"\"\n",
    "        :type A: List[int]\n",
    "        :type B: List[int]\n",
    "        :rtype: int\n",
    "        \"\"\"\n",
    "        \n",
    "        nA = len(A)\n",
    "        nB = len(B)\n",
    "        if nA > nB:\n",
    "            A, B = B, A\n",
    "    \n",
    "        s = \"\".join([chr(x) for x in A])\n",
    "        \n",
    "        #print s\n",
    "        max_len = 0\n",
    "        for i in xrange(nB):\n",
    "            if i + max_len + 1 > nB:\n",
    "                return max_len\n",
    "            \n",
    "            s1 = \"\".join([chr(x) for x in B[i:i+max_len+1]])\n",
    "            while s.find(s1) >= 0:\n",
    "                max_len += 1\n",
    "                if i+max_len+1 > nB:\n",
    "                    return max_len\n",
    "                else:\n",
    "                    s1 += chr(B[i+max_len])\n",
    "        \n",
    "        return max_len"
   ]
  }
 ],
 "metadata": {
  "kernelspec": {
   "display_name": "Python 2",
   "language": "python",
   "name": "python2"
  },
  "language_info": {
   "codemirror_mode": {
    "name": "ipython",
    "version": 2
   },
   "file_extension": ".py",
   "mimetype": "text/x-python",
   "name": "python",
   "nbconvert_exporter": "python",
   "pygments_lexer": "ipython2",
   "version": "2.7.13"
  }
 },
 "nbformat": 4,
 "nbformat_minor": 2
}

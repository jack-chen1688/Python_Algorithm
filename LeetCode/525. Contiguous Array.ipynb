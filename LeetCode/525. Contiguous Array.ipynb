{
 "cells": [
  {
   "cell_type": "markdown",
   "metadata": {},
   "source": [
    "# 525. Contiguous Array"
   ]
  },
  {
   "cell_type": "markdown",
   "metadata": {},
   "source": [
    "Given a binary array, find the maximum length of a contiguous subarray with equal number of 0 and 1.\n",
    "\n",
    "Example 1:\n",
    "Input: [0,1]\n",
    "Output: 2\n",
    "Explanation: [0, 1] is the longest contiguous subarray with equal number of 0 and 1.\n",
    "Example 2:\n",
    "Input: [0,1,0]\n",
    "Output: 2\n",
    "Explanation: [0, 1] (or [1, 0]) is a longest contiguous subarray with equal number of 0 and 1.\n",
    "Note: The length of the given binary array will not exceed 50,000.\n"
   ]
  },
  {
   "cell_type": "markdown",
   "metadata": {},
   "source": [
    "## Solution 1"
   ]
  },
  {
   "cell_type": "code",
   "execution_count": null,
   "metadata": {
    "collapsed": true
   },
   "outputs": [],
   "source": [
    "class Solution(object):\n",
    "    def findMaxLength(self, nums):\n",
    "        \"\"\"\n",
    "        :type nums: List[int]\n",
    "        :rtype: int\n",
    "        \"\"\"\n",
    "        \n",
    "        tot = 0\n",
    "        max_len = 0\n",
    "        dict = {0:-1}\n",
    "        for i, num in enumerate(nums):\n",
    "            tot += (num << 1) - 1\n",
    "            dict.setdefault(tot, i);\n",
    "            max_len = max(max_len, i - dict[tot])\n",
    "        \n",
    "        return max_len\n",
    "        "
   ]
  },
  {
   "cell_type": "markdown",
   "metadata": {},
   "source": [
    "## Solution 2. Minor Enhancement (More Verbose But Faster)"
   ]
  },
  {
   "cell_type": "code",
   "execution_count": null,
   "metadata": {
    "collapsed": true
   },
   "outputs": [],
   "source": [
    "class Solution(object):\n",
    "    def findMaxLength(self, nums):\n",
    "        \"\"\"\n",
    "        :type nums: List[int]\n",
    "        :rtype: int\n",
    "        \"\"\"\n",
    "        \n",
    "        tot = 0\n",
    "        max_len = 0\n",
    "        dict = {0:-1}\n",
    "        for i, num in enumerate(nums):\n",
    "            if num == 0:\n",
    "                tot -= 1\n",
    "            else: \n",
    "                tot += 1\n",
    "                \n",
    "            if tot not in dict:\n",
    "                dict[tot] = i\n",
    "            else:\n",
    "                win = i - dict[tot]\n",
    "                if win > max_len:\n",
    "                    max_len = win\n",
    "        \n",
    "        return max_len"
   ]
  }
 ],
 "metadata": {
  "kernelspec": {
   "display_name": "Python 2",
   "language": "python",
   "name": "python2"
  },
  "language_info": {
   "codemirror_mode": {
    "name": "ipython",
    "version": 2
   },
   "file_extension": ".py",
   "mimetype": "text/x-python",
   "name": "python",
   "nbconvert_exporter": "python",
   "pygments_lexer": "ipython2",
   "version": "2.7.13"
  }
 },
 "nbformat": 4,
 "nbformat_minor": 2
}

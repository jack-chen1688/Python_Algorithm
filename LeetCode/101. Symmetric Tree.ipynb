{
 "cells": [
  {
   "cell_type": "markdown",
   "metadata": {},
   "source": [
    "# 101. Symmetric Tree"
   ]
  },
  {
   "cell_type": "markdown",
   "metadata": {},
   "source": [
    "Given a binary tree, check whether it is a mirror of itself (ie, symmetric around its center).\n",
    "\n",
    "For example, this binary tree [1,2,2,3,4,4,3] is symmetric:\n",
    "\n",
    "    1\n",
    "   / \\\n",
    "  2   2\n",
    " / \\ / \\\n",
    "3  4 4  3\n",
    "But the following [1,2,2,null,3,null,3] is not:\n",
    "    1\n",
    "   / \\\n",
    "  2   2\n",
    "   \\   \\\n",
    "   3    3\n",
    "Note:\n",
    "Bonus points if you could solve it both recursively and iteratively."
   ]
  },
  {
   "cell_type": "markdown",
   "metadata": {},
   "source": [
    "## Solution 1. Breadth First Search"
   ]
  },
  {
   "cell_type": "code",
   "execution_count": null,
   "metadata": {
    "collapsed": true
   },
   "outputs": [],
   "source": [
    "# Definition for a binary tree node.\n",
    "# class TreeNode(object):\n",
    "#     def __init__(self, x):\n",
    "#         self.val = x\n",
    "#         self.left = None\n",
    "#         self.right = None\n",
    "\n",
    "class Solution(object):\n",
    "    def isSymmetric(self, root):\n",
    "        \"\"\"\n",
    "        :type root: TreeNode\n",
    "        :rtype: bool\n",
    "        \"\"\"\n",
    "        if not root:\n",
    "            return True\n",
    "        \n",
    "        level_list = [root]\n",
    "        \n",
    "        while 1:\n",
    "            next_level = []\n",
    "            count = 0\n",
    "            values = []\n",
    "            for node in level_list:\n",
    "\n",
    "                if node.left:\n",
    "                    next_level.append(node.left)\n",
    "                    values.append(node.left.val)\n",
    "                    count += 1\n",
    "                else:\n",
    "                    values.append(None)\n",
    "\n",
    "                if node.right:\n",
    "                    next_level.append(node.right)\n",
    "                    values.append(node.right.val)\n",
    "                    count += 1\n",
    "                else:\n",
    "                    values.append(None)\n",
    "\n",
    "            if count == 0:\n",
    "                return True\n",
    "\n",
    "            length = len(values)\n",
    "            if values[:length/2] != values[length/2:][::-1]:\n",
    "                return False\n",
    "\n",
    "            level_list = next_level"
   ]
  }
 ],
 "metadata": {
  "kernelspec": {
   "display_name": "Python 2",
   "language": "python",
   "name": "python2"
  },
  "language_info": {
   "codemirror_mode": {
    "name": "ipython",
    "version": 2
   },
   "file_extension": ".py",
   "mimetype": "text/x-python",
   "name": "python",
   "nbconvert_exporter": "python",
   "pygments_lexer": "ipython2",
   "version": "2.7.13"
  }
 },
 "nbformat": 4,
 "nbformat_minor": 2
}

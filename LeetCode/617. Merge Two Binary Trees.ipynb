{
 "cells": [
  {
   "cell_type": "markdown",
   "metadata": {},
   "source": [
    "# 617. Merge Two Binary Trees"
   ]
  },
  {
   "cell_type": "markdown",
   "metadata": {},
   "source": [
    "Given two binary trees and imagine that when you put one of them to cover the other, some nodes of the two trees are overlapped while the others are not.\n",
    "\n",
    "You need to merge them into a new binary tree. The merge rule is that if two nodes overlap, then sum node values up as the new value of the merged node. Otherwise, the NOT null node will be used as the node of new tree.\n",
    "\n",
    "Example 1:\n",
    "Input: \n",
    "\tTree 1                     Tree 2                  \n",
    "          1                         2                             \n",
    "         / \\                       / \\                            \n",
    "        3   2                     1   3                        \n",
    "       /                           \\   \\                      \n",
    "      5                             4   7                  \n",
    "Output: \n",
    "Merged tree:\n",
    "\t     3\n",
    "\t    / \\\n",
    "\t   4   5\n",
    "\t  / \\   \\ \n",
    "\t 5   4   7\n",
    "Note: The merging process must start from the root nodes of both trees.\n",
    "\n"
   ]
  },
  {
   "cell_type": "markdown",
   "metadata": {},
   "source": [
    "## Solution"
   ]
  },
  {
   "cell_type": "code",
   "execution_count": null,
   "metadata": {
    "collapsed": true
   },
   "outputs": [],
   "source": [
    "# Definition for a binary tree node.\n",
    "# class TreeNode(object):\n",
    "#     def __init__(self, x):\n",
    "#         self.val = x\n",
    "#         self.left = None\n",
    "#         self.right = None\n",
    "\n",
    "class Solution(object):\n",
    "    def mergeTrees(self, t1, t2):\n",
    "        \"\"\"\n",
    "        :type t1: TreeNode\n",
    "        :type t2: TreeNode\n",
    "        :rtype: TreeNode\n",
    "        \"\"\"\n",
    "        \n",
    "        if t1 == None: \n",
    "            return t2\n",
    "        \n",
    "        if t2 == None:\n",
    "            return t1\n",
    "        \n",
    "        root = TreeNode(t1.val+t2.val)\n",
    "        root.left = self.mergeTrees(t1.left, t2.left)\n",
    "        root.right = self.mergeTrees(t1.right, t2.right)\n",
    "        \n",
    "        return root"
   ]
  }
 ],
 "metadata": {
  "kernelspec": {
   "display_name": "Python 2",
   "language": "python",
   "name": "python2"
  },
  "language_info": {
   "codemirror_mode": {
    "name": "ipython",
    "version": 2
   },
   "file_extension": ".py",
   "mimetype": "text/x-python",
   "name": "python",
   "nbconvert_exporter": "python",
   "pygments_lexer": "ipython2",
   "version": "2.7.13"
  }
 },
 "nbformat": 4,
 "nbformat_minor": 2
}

{
 "cells": [
  {
   "cell_type": "markdown",
   "metadata": {},
   "source": [
    "# 926. Flip String to Monotone Increasing"
   ]
  },
  {
   "cell_type": "markdown",
   "metadata": {},
   "source": [
    "A string of '0's and '1's is monotone increasing if it consists of some number of '0's (possibly 0), followed by some number of '1's (also possibly 0.)\n",
    "\n",
    "We are given a string S of '0's and '1's, and we may flip any '0' to a '1' or a '1' to a '0'.\n",
    "\n",
    "Return the minimum number of flips to make S monotone increasing.\n",
    "\n",
    " \n",
    "\n",
    "Example 1:\n",
    "\n",
    "Input: \"00110\"\n",
    "Output: 1\n",
    "Explanation: We flip the last digit to get 00111.\n",
    "Example 2:\n",
    "\n",
    "Input: \"010110\"\n",
    "Output: 2\n",
    "Explanation: We flip to get 011111, or alternatively 000111.\n",
    "Example 3:\n",
    "\n",
    "Input: \"00011000\"\n",
    "Output: 2\n",
    "Explanation: We flip to get 00000000.\n",
    " \n",
    "\n",
    "Note:\n",
    "\n",
    "1 <= S.length <= 20000\n",
    "S only consists of '0' and '1' characters."
   ]
  },
  {
   "cell_type": "markdown",
   "metadata": {},
   "source": [
    "## Solution: Dynamic Programming. Time Complexity O(n), Space Complexity O(1)"
   ]
  },
  {
   "cell_type": "code",
   "execution_count": null,
   "metadata": {},
   "outputs": [],
   "source": [
    "class Solution:\n",
    "    def minFlipsMonoIncr(self, S):\n",
    "        # flip0: min number of flips needed for the current element to be 0\n",
    "        # flip1: min number of flips needed for the current element to be 1\n",
    "        flip0, flip1 = 0, 0\n",
    "        for  i in range(len(S)):\n",
    "            if S[i] == \"1\":\n",
    "                flip0, flip1 = flip0 + 1,  min(flip0, flip1)\n",
    "            else:\n",
    "                flip1 = min(flip0, flip1) + 1\n",
    "                \n",
    "        return min(flip0, flip1)"
   ]
  }
 ],
 "metadata": {
  "kernelspec": {
   "display_name": "Python 3",
   "language": "python",
   "name": "python3"
  },
  "language_info": {
   "codemirror_mode": {
    "name": "ipython",
    "version": 3
   },
   "file_extension": ".py",
   "mimetype": "text/x-python",
   "name": "python",
   "nbconvert_exporter": "python",
   "pygments_lexer": "ipython3",
   "version": "3.7.1"
  }
 },
 "nbformat": 4,
 "nbformat_minor": 2
}

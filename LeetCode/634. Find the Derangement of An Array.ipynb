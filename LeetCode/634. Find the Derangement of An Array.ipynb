{
 "cells": [
  {
   "cell_type": "markdown",
   "metadata": {},
   "source": [
    "# 634. Find the Derangement of An Array"
   ]
  },
  {
   "cell_type": "markdown",
   "metadata": {},
   "source": [
    "In combinatorial mathematics, a derangement is a permutation of the elements of a set, such that no element appears in its original position.\n",
    "\n",
    "There's originally an array consisting of n integers from 1 to n in ascending order, you need to find the number of derangement it can generate.\n",
    "\n",
    "Also, since the answer may be very large, you should return the output mod 109 + 7.\n",
    "\n",
    "Example 1:\n",
    "Input: 3\n",
    "Output: 2\n",
    "Explanation: The original array is [1,2,3]. The two derangements are [2,3,1] and [3,1,2].\n",
    "Note:\n",
    "n is in the range of [1, 10<sup>16</sup>]."
   ]
  },
  {
   "cell_type": "markdown",
   "metadata": {},
   "source": [
    "## Solution 1."
   ]
  },
  {
   "cell_type": "code",
   "execution_count": 1,
   "metadata": {},
   "outputs": [
    {
     "name": "stdout",
     "output_type": "stream",
     "text": [
      "2\n",
      "9\n",
      "381587473\n"
     ]
    }
   ],
   "source": [
    "class Solution(object):\n",
    "    def findDerangement(self, n):\n",
    "        \"\"\"\n",
    "        :type n: int\n",
    "        :rtype: int\n",
    "        \"\"\"\n",
    "        \n",
    "        if n == 0 or n == 1:\n",
    "            return 0\n",
    "        \n",
    "        \n",
    "        comb_odd  = [0 for i in range(n+1)]\n",
    "        comb_even = [0 for i in range(n+1)]\n",
    "        array = [0 for i in range(n+1)]\n",
    "        array[0], array[1] = 1, 1\n",
    "        comb_odd[0], comb_odd[1] = 1, 1\n",
    "        tomod = 10**9 + 7\n",
    "        \n",
    "        for i in range (2, n+1):\n",
    "            array[i] = (array[i-1] * i) % tomod\n",
    "            \n",
    "            if i & 1 == 0:\n",
    "               src_comb = comb_odd\n",
    "               dst_comb = comb_even\n",
    "            else:\n",
    "               src_comb = comb_even\n",
    "               dst_comb = comb_odd\n",
    "  \n",
    "            dst_comb[0] = 1\n",
    "            dst_comb[i] = 1\n",
    "            for j in range(1, i):\n",
    "                dst_comb[j] = (src_comb[j] + src_comb[j-1]) % tomod\n",
    "                \n",
    "\n",
    "        result = 0\n",
    "        for i in range(1,n+1):\n",
    "            \n",
    "            if i & 1 == 1:\n",
    "                result += dst_comb[i] * array[n-i]\n",
    "            else:\n",
    "                result -= dst_comb[i] * array[n-i]\n",
    "            \n",
    "            result %= tomod\n",
    "        \n",
    "        result = (array[n] - result) % tomod\n",
    "        \n",
    "        return result\n",
    "    \n",
    "def main():\n",
    "    print Solution().findDerangement(3)\n",
    "    print Solution().findDerangement(4)\n",
    "    print Solution().findDerangement(10000)\n",
    "    \n",
    "if __name__ == \"__main__\":\n",
    "    main()"
   ]
  },
  {
   "cell_type": "markdown",
   "metadata": {},
   "source": [
    "## Solution 2. Ehancement to Solution 1"
   ]
  },
  {
   "cell_type": "code",
   "execution_count": 2,
   "metadata": {},
   "outputs": [
    {
     "name": "stdout",
     "output_type": "stream",
     "text": [
      "2\n",
      "9\n",
      "381587473\n"
     ]
    }
   ],
   "source": [
    "class Solution(object):\n",
    "    def findDerangement(self, n):\n",
    "        \"\"\"\n",
    "        :type n: int\n",
    "        :rtype: int\n",
    "        \"\"\"\n",
    "        if n < 2:\n",
    "            return 0\n",
    "        \n",
    "        array = [0 for i in range(n-1)]\n",
    "        array[0] = 1\n",
    "        tomod = 1000000007\n",
    "        \n",
    "        for i in range(1, n-1):\n",
    "            array[i] = array[i-1] * (n-i+1)\n",
    "            if array[i] >= tomod:\n",
    "                array[i] %= tomod\n",
    "                \n",
    "        result = 0\n",
    "        \n",
    "        for i in range(n-1):\n",
    "            if i & 1 == 0:\n",
    "                result += array[-(i+1)]\n",
    "            else:\n",
    "                if result  >= array[-(i+1)]:\n",
    "                    result -= array[-(i+1)]\n",
    "                else:\n",
    "                    result += tomod - array[-(i+1)]\n",
    "\n",
    "            if result > tomod:\n",
    "                result %= tomod\n",
    "            #print result\n",
    "        return result\n",
    "    \n",
    "def main():\n",
    "    print Solution().findDerangement(3)\n",
    "    print Solution().findDerangement(4)\n",
    "    print Solution().findDerangement(10000)\n",
    "    \n",
    "if __name__ == \"__main__\":\n",
    "    main()"
   ]
  },
  {
   "cell_type": "markdown",
   "metadata": {},
   "source": [
    "## Solution 3 Enhancment Using Dynamic Programming"
   ]
  },
  {
   "cell_type": "code",
   "execution_count": 3,
   "metadata": {},
   "outputs": [
    {
     "name": "stdout",
     "output_type": "stream",
     "text": [
      "2\n",
      "9\n",
      "381587473\n"
     ]
    }
   ],
   "source": [
    "class Solution(object):\n",
    "    def findDerangement(self, n):\n",
    "        \"\"\"\n",
    "        :type n: int\n",
    "        :rtype: int\n",
    "        \"\"\"\n",
    "        if n < 2:\n",
    "            return 0\n",
    "        \n",
    "        result = 1 \n",
    "        tomod = 10**9 + 7\n",
    "        for i in range(3, n+1):\n",
    "            result = result * i\n",
    "            if i & 1:\n",
    "                result -= 1\n",
    "            else:\n",
    "                result += 1\n",
    "            #print result \n",
    "            if result >= tomod: \n",
    "                result = result % tomod\n",
    "                \n",
    "        return result\n",
    "    \n",
    "def main():\n",
    "    print Solution().findDerangement(3)\n",
    "    print Solution().findDerangement(4)\n",
    "    print Solution().findDerangement(10000)\n",
    "    \n",
    "if __name__ == \"__main__\":\n",
    "    main()"
   ]
  }
 ],
 "metadata": {
  "kernelspec": {
   "display_name": "Python 2",
   "language": "python",
   "name": "python2"
  },
  "language_info": {
   "codemirror_mode": {
    "name": "ipython",
    "version": 2
   },
   "file_extension": ".py",
   "mimetype": "text/x-python",
   "name": "python",
   "nbconvert_exporter": "python",
   "pygments_lexer": "ipython2",
   "version": "2.7.13"
  }
 },
 "nbformat": 4,
 "nbformat_minor": 2
}

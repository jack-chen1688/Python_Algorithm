{
 "cells": [
  {
   "cell_type": "markdown",
   "metadata": {},
   "source": [
    "# 646. Maximum Length of Pair Chain"
   ]
  },
  {
   "cell_type": "markdown",
   "metadata": {},
   "source": [
    "You are given n pairs of numbers. In every pair, the first number is always smaller than the second number.\n",
    "\n",
    "Now, we define a pair (c, d) can follow another pair (a, b) if and only if b < c. Chain of pairs can be formed in this fashion.\n",
    "\n",
    "Given a set of pairs, find the length longest chain which can be formed. You needn't use up all the given pairs. You can select pairs in any order.\n",
    "\n",
    "Example 1:\n",
    "Input: [[1,2], [2,3], [3,4]]\n",
    "Output: 2\n",
    "Explanation: The longest chain is [1,2] -> [3,4]\n",
    "Note:\n",
    "The number of given pairs will be in the range [1, 1000]."
   ]
  },
  {
   "cell_type": "markdown",
   "metadata": {},
   "source": [
    "## Solution. Greedy Algorithm"
   ]
  },
  {
   "cell_type": "code",
   "execution_count": null,
   "metadata": {
    "collapsed": true
   },
   "outputs": [],
   "source": [
    "class Solution(object):\n",
    "    def findLongestChain(self, pairs):\n",
    "        \"\"\"\n",
    "        :type pairs: List[List[int]]\n",
    "        :rtype: int\n",
    "        \"\"\"\n",
    "        if not pairs:\n",
    "            return 0\n",
    "        \n",
    "        minY = pairs[0][1]\n",
    "        first = pairs[0]\n",
    "        for pair in pairs[1:]:\n",
    "            if pair[1] < minY:\n",
    "                first = pair\n",
    "                minY = pair[1]\n",
    "        \n",
    "        result = 1\n",
    "        prev_pair = first\n",
    "\n",
    "        while 1:\n",
    "            cur_pair = None\n",
    "            minY = None\n",
    "            for pair in pairs:\n",
    "                if pair[0] > prev_pair[1]:\n",
    "                    if minY == None:\n",
    "                        minY = pair[1]\n",
    "                        cur_pair = list(pair)\n",
    "                    else:\n",
    "\n",
    "                        if pair[1] < minY:\n",
    "                            print pair[1], minY\n",
    "                            minY = pair[1]\n",
    "                            cur_pair = list(pair)\n",
    "                            \n",
    "            if cur_pair == None:\n",
    "                break\n",
    "            else:\n",
    "                result += 1\n",
    "                prev_pair = list(cur_pair)\n",
    "        \n",
    "        return result\n",
    "    "
   ]
  }
 ],
 "metadata": {
  "kernelspec": {
   "display_name": "Python 2",
   "language": "python",
   "name": "python2"
  },
  "language_info": {
   "codemirror_mode": {
    "name": "ipython",
    "version": 2
   },
   "file_extension": ".py",
   "mimetype": "text/x-python",
   "name": "python",
   "nbconvert_exporter": "python",
   "pygments_lexer": "ipython2",
   "version": "2.7.13"
  }
 },
 "nbformat": 4,
 "nbformat_minor": 2
}

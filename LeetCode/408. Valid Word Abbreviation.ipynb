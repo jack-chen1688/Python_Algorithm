{
 "cells": [
  {
   "cell_type": "markdown",
   "metadata": {},
   "source": [
    "# 408. Valid Word Abbreviation"
   ]
  },
  {
   "cell_type": "markdown",
   "metadata": {},
   "source": [
    "\n",
    "Given a non-empty string s and an abbreviation abbr, return whether the string matches with the given abbreviation.\n",
    "\n",
    "A string such as \"word\" contains only the following valid abbreviations:\n",
    "\n",
    "[\"word\", \"1ord\", \"w1rd\", \"wo1d\", \"wor1\", \"2rd\", \"w2d\", \"wo2\", \"1o1d\", \"1or1\", \"w1r1\", \"1o2\", \"2r1\", \"3d\", \"w3\", \"4\"]\n",
    "Notice that only the above abbreviations are valid abbreviations of the string \"word\". Any other string is not a valid abbreviation of \"word\".\n",
    "\n",
    "Note:\n",
    "Assume s contains only lowercase letters and abbr contains only lowercase letters and digits.\n",
    "\n",
    "Example 1:\n",
    "Given s = \"internationalization\", abbr = \"i12iz4n\":\n",
    "\n",
    "Return true.\n",
    "Example 2:\n",
    "Given s = \"apple\", abbr = \"a2e\":\n",
    "\n",
    "Return false."
   ]
  },
  {
   "cell_type": "markdown",
   "metadata": {},
   "source": [
    "## Solution"
   ]
  },
  {
   "cell_type": "code",
   "execution_count": null,
   "metadata": {
    "collapsed": true
   },
   "outputs": [],
   "source": [
    "\n",
    "class Solution(object):\n",
    "    def validWordAbbreviation(self, word, abbr):\n",
    "        \"\"\"\n",
    "        :type word: str\n",
    "        :type abbr: str\n",
    "        :rtype: bool\n",
    "        \"\"\"\n",
    "        \n",
    "        length = len(abbr)\n",
    "                \n",
    "        lst = []\n",
    "        d_start = None\n",
    "        for i in range(length):\n",
    "            if not abbr[i].isdigit():\n",
    "                if d_start == None:\n",
    "                    lst.append(abbr[i])\n",
    "                else:\n",
    "                    lst.append(int(abbr[d_start:i]))\n",
    "                    d_start = None\n",
    "                    lst.append(abbr[i])\n",
    "            else:\n",
    "                if d_start == None:\n",
    "                    if abbr[i] == '0':\n",
    "                        return False\n",
    "                    d_start = i \n",
    "                    \n",
    "\n",
    "        if d_start != None: \n",
    "            lst.append(int(abbr[d_start:]))\n",
    "        \n",
    "        pos = 0\n",
    "        \n",
    "        for item in lst:\n",
    "            if isinstance(item, int):\n",
    "                pos += item\n",
    "            else:\n",
    "                if  pos >= len(word) or item != word[pos]:\n",
    "                    return False\n",
    "                \n",
    "                pos += 1\n",
    "                \n",
    "        return pos == len(word)"
   ]
  }
 ],
 "metadata": {
  "kernelspec": {
   "display_name": "Python 2",
   "language": "python",
   "name": "python2"
  },
  "language_info": {
   "codemirror_mode": {
    "name": "ipython",
    "version": 2
   },
   "file_extension": ".py",
   "mimetype": "text/x-python",
   "name": "python",
   "nbconvert_exporter": "python",
   "pygments_lexer": "ipython2",
   "version": "2.7.13"
  }
 },
 "nbformat": 4,
 "nbformat_minor": 2
}

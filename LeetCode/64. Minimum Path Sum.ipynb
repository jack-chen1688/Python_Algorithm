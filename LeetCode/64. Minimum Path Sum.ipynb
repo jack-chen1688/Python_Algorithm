{
 "cells": [
  {
   "cell_type": "markdown",
   "metadata": {},
   "source": [
    "# 64. Minimum Path Sum"
   ]
  },
  {
   "cell_type": "markdown",
   "metadata": {},
   "source": [
    "Given a m x n grid filled with non-negative numbers, find a path from top left to bottom right which minimizes the sum of all numbers along its path.\n",
    "\n",
    "Note: You can only move either down or right at any point in time.\n",
    "\n",
    "Example 1:\n",
    "[[1,3,1],\n",
    " [1,5,1],\n",
    " [4,2,1]]\n",
    "Given the above grid map, return 7. Because the path 1→3→1→1→1 minimizes the sum.\n"
   ]
  },
  {
   "cell_type": "markdown",
   "metadata": {},
   "source": [
    "## Solution 1. Recursive Approach with Space Complexity of O(mxn)"
   ]
  },
  {
   "cell_type": "code",
   "execution_count": null,
   "metadata": {
    "collapsed": true
   },
   "outputs": [],
   "source": [
    "class Solution(object):\n",
    "    def minPathSum(self, grid):\n",
    "        \"\"\"\n",
    "        :type grid: List[List[int]]\n",
    "        :rtype: int\n",
    "        \"\"\"\n",
    "        if grid == []:\n",
    "            return 0 \n",
    "        \n",
    "        m = len(grid)\n",
    "        n = len(grid[0])\n",
    "    \n",
    "        dict = {}\n",
    "        \n",
    "        def getMinPath(grid, i, j):\n",
    "            \n",
    "            if i == 0 and j == 0:\n",
    "                return grid[0][0]\n",
    "            \n",
    "            if (i,j) in dict:\n",
    "                return dict[(i,j)]\n",
    "            else: \n",
    "                if i == 0:\n",
    "                    ans = getMinPath(grid, i, j-1) + grid[i][j]\n",
    "                elif j == 0:\n",
    "                    ans = getMinPath(grid, i-1, j) + grid[i][j]\n",
    "                else:\n",
    "                    ans = min(getMinPath(grid,i-1,j), getMinPath(grid,i,j-1)) + grid[i][j]\n",
    "                dict[(i,j)] = ans\n",
    "                return ans\n",
    "        \n",
    "        return getMinPath(grid, m-1, n-1)"
   ]
  },
  {
   "cell_type": "markdown",
   "metadata": {},
   "source": [
    "## Solution 2. Iterative Approach (Faster With Less Space O(n))"
   ]
  },
  {
   "cell_type": "code",
   "execution_count": null,
   "metadata": {
    "collapsed": true
   },
   "outputs": [],
   "source": [
    "class Solution(object):\n",
    "    def minPathSum(self, grid):\n",
    "        \"\"\"\n",
    "        :type grid: List[List[int]]\n",
    "        :rtype: int\n",
    "        \"\"\"\n",
    "        if grid == []:\n",
    "            return 0 \n",
    "        \n",
    "        m = len(grid)\n",
    "        n = len(grid[0])\n",
    "    \n",
    "        B=[0]*n\n",
    "        B[0] = grid[0][0]\n",
    "        \n",
    "        for i in xrange(1,n):\n",
    "            B[i] = B[i-1] + grid[0][i]\n",
    "        \n",
    "        for i in xrange(1, m):\n",
    "            B[0] = B[0] + grid[i][0]\n",
    "            for j in xrange(1, n):\n",
    "                B[j] = min(B[j-1], B[j]) + grid[i][j]\n",
    "        \n",
    "        return B[n-1]"
   ]
  }
 ],
 "metadata": {
  "kernelspec": {
   "display_name": "Python 2",
   "language": "python",
   "name": "python2"
  },
  "language_info": {
   "codemirror_mode": {
    "name": "ipython",
    "version": 2
   },
   "file_extension": ".py",
   "mimetype": "text/x-python",
   "name": "python",
   "nbconvert_exporter": "python",
   "pygments_lexer": "ipython2",
   "version": "2.7.13"
  }
 },
 "nbformat": 4,
 "nbformat_minor": 2
}

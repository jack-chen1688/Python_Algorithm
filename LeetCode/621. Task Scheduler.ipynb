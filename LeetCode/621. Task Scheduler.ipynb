{
 "cells": [
  {
   "cell_type": "markdown",
   "metadata": {},
   "source": [
    "# 621. Task Scheduler"
   ]
  },
  {
   "cell_type": "markdown",
   "metadata": {},
   "source": [
    "Given a char array representing tasks CPU need to do. It contains capital letters A to Z where different letters represent different tasks.Tasks could be done without original order. Each task could be done in one interval. For each interval, CPU could finish one task or just be idle.\n",
    "\n",
    "However, there is a non-negative cooling interval n that means between two same tasks, there must be at least n intervals that CPU are doing different tasks or just be idle.\n",
    "\n",
    "You need to return the least number of intervals the CPU will take to finish all the given tasks.\n",
    "\n",
    "Example 1:\n",
    "Input: tasks = [\"A\",\"A\",\"A\",\"B\",\"B\",\"B\"], n = 2\n",
    "Output: 8\n",
    "Explanation: A -> B -> idle -> A -> B -> idle -> A -> B.\n",
    "Note:\n",
    "The number of tasks is in the range [1, 10000].\n",
    "The integer n is in the range [0, 100]."
   ]
  },
  {
   "cell_type": "markdown",
   "metadata": {},
   "source": [
    "## Solution 1."
   ]
  },
  {
   "cell_type": "code",
   "execution_count": null,
   "metadata": {
    "collapsed": true
   },
   "outputs": [],
   "source": [
    "class Solution(object):\n",
    "    def leastInterval(self, tasks, n):\n",
    "        \"\"\"\n",
    "        :type tasks: List[str]\n",
    "        :type n: int\n",
    "        :rtype: int\n",
    "        \"\"\"\n",
    "        \n",
    "        if n > 0:\n",
    "            dict = {}\n",
    "            for ch in tasks:\n",
    "                dict[ch] = dict.get(ch, 0) + 1\n",
    "\n",
    "            lst = sorted(dict.values())\n",
    "            ans = (lst[-1] - 1) * (n+1) \n",
    "\n",
    "            for i, num in enumerate(lst[::-1]):\n",
    "                if num == lst[-1]:\n",
    "                    ans += 1\n",
    "                else:\n",
    "                    break\n",
    "\n",
    "            return max(ans, len(tasks))\n",
    "        else:\n",
    "            return len(tasks)"
   ]
  },
  {
   "cell_type": "markdown",
   "metadata": {},
   "source": [
    "## Solution 2. Minor Enhancement For Solution 1."
   ]
  },
  {
   "cell_type": "code",
   "execution_count": null,
   "metadata": {
    "collapsed": true
   },
   "outputs": [],
   "source": [
    "class Solution(object):\n",
    "    def leastInterval(self, tasks, n):\n",
    "        \"\"\"\n",
    "        :type tasks: List[str]\n",
    "        :type n: int\n",
    "        :rtype: int\n",
    "        \"\"\"\n",
    "        \n",
    "        if n > 0:\n",
    "            dict = {}\n",
    "            for ch in tasks:\n",
    "                dict[ch] = dict.get(ch, 0) + 1\n",
    "\n",
    "            lst = sorted(dict.values())\n",
    "            ans = (lst[-1] - 1) * (n+1) + len(lst) - bisect.bisect_left(lst, lst[-1])\n",
    "\n",
    "            return max(ans, len(tasks))\n",
    "        else:\n",
    "            return len(tasks)"
   ]
  }
 ],
 "metadata": {
  "kernelspec": {
   "display_name": "Python 2",
   "language": "python",
   "name": "python2"
  },
  "language_info": {
   "codemirror_mode": {
    "name": "ipython",
    "version": 2
   },
   "file_extension": ".py",
   "mimetype": "text/x-python",
   "name": "python",
   "nbconvert_exporter": "python",
   "pygments_lexer": "ipython2",
   "version": "2.7.13"
  }
 },
 "nbformat": 4,
 "nbformat_minor": 2
}

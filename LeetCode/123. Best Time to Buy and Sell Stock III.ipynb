{
 "cells": [
  {
   "cell_type": "markdown",
   "metadata": {},
   "source": [
    "# 123. Best Time to Buy and Sell Stock III"
   ]
  },
  {
   "cell_type": "markdown",
   "metadata": {},
   "source": [
    "Say you have an array for which the ith element is the price of a given stock on day i.\n",
    "\n",
    "Design an algorithm to find the maximum profit. You may complete at most two transactions.\n",
    "\n",
    "Note: You may not engage in multiple transactions at the same time (i.e., you must sell the stock before you buy again).\n",
    "\n",
    "Example 1:\n",
    "\n",
    "Input: [3,3,5,0,0,3,1,4]\n",
    "Output: 6\n",
    "Explanation: Buy on day 4 (price = 0) and sell on day 6 (price = 3), profit = 3-0 = 3.\n",
    "             Then buy on day 7 (price = 1) and sell on day 8 (price = 4), profit = 4-1 = 3.\n",
    "Example 2:\n",
    "\n",
    "Input: [1,2,3,4,5]\n",
    "Output: 4\n",
    "Explanation: Buy on day 1 (price = 1) and sell on day 5 (price = 5), profit = 5-1 = 4.\n",
    "             Note that you cannot buy on day 1, buy on day 2 and sell them later, as you are\n",
    "             engaging multiple transactions at the same time. You must sell before buying again.\n",
    "Example 3:\n",
    "\n",
    "Input: [7,6,4,3,1]\n",
    "Output: 0\n",
    "Explanation: In this case, no transaction is done, i.e. max profit = 0."
   ]
  },
  {
   "cell_type": "markdown",
   "metadata": {},
   "source": [
    "## Solution 1."
   ]
  },
  {
   "cell_type": "code",
   "execution_count": null,
   "metadata": {},
   "outputs": [],
   "source": [
    "class Solution:\n",
    "    def maxProfit(self, prices):\n",
    "        \"\"\"\n",
    "        :type prices: List[int]\n",
    "        :rtype: int\n",
    "        \"\"\"\n",
    "        \n",
    "        if prices:\n",
    "            #max profit, one time for days [0, i]\n",
    "            length = len(prices)\n",
    "            profit_forward = [0] * length\n",
    "\n",
    "            min_price = prices[0]\n",
    "            for i in range(1, length):\n",
    "                 profit_forward[i] = max(profit_forward[i-1], prices[i] - min_price)\n",
    "                 min_price = min(min_price, prices[i])\n",
    "\n",
    "            # max profit, one time for days [i, length-1]\n",
    "            max_profit = profit_forward[length-1]\n",
    "            max_price = prices[-1]\n",
    "            for i in reversed(range(2, length-1)):\n",
    "                max_profit = max(max_profit, max_price - prices[i] + profit_forward[i-1])\n",
    "                max_price = max(max_price, prices[i])\n",
    "\n",
    "            return max_profit\n",
    "        else:\n",
    "            return 0"
   ]
  },
  {
   "cell_type": "markdown",
   "metadata": {},
   "source": [
    "# Solution 2. Minor change to remove ifelse."
   ]
  },
  {
   "cell_type": "code",
   "execution_count": null,
   "metadata": {},
   "outputs": [],
   "source": [
    "class Solution:\n",
    "    def maxProfit(self, prices):\n",
    "        \"\"\"\n",
    "        :type prices: List[int]\n",
    "        :rtype: int\n",
    "        \"\"\"\n",
    "        #max profit, one time for days [0, i]\n",
    "        length = len(prices)\n",
    "        profit_forward = [0] * length\n",
    "        max_profit = 0\n",
    "        min_price = float(\"inf\")\n",
    "        for i in range(0, length):\n",
    "             profit_forward[i] = max(profit_forward[i-1], prices[i] - min_price)\n",
    "             max_profit = profit_forward[i] \n",
    "             min_price = min(min_price, prices[i])\n",
    "             \n",
    "        # max profit, one time for days [i, length-1]\n",
    "        max_price = float(\"-inf\")\n",
    "        for i in reversed(range(2, length)):\n",
    "            max_profit = max(max_profit, max_price - prices[i] + profit_forward[i-1])\n",
    "            max_price = max(max_price, prices[i])\n",
    "        \n",
    "        return max_profit"
   ]
  }
 ],
 "metadata": {
  "kernelspec": {
   "display_name": "Python 3",
   "language": "python",
   "name": "python3"
  },
  "language_info": {
   "codemirror_mode": {
    "name": "ipython",
    "version": 3
   },
   "file_extension": ".py",
   "mimetype": "text/x-python",
   "name": "python",
   "nbconvert_exporter": "python",
   "pygments_lexer": "ipython3",
   "version": "3.7.1"
  }
 },
 "nbformat": 4,
 "nbformat_minor": 2
}

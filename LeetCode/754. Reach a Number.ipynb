{
 "cells": [
  {
   "cell_type": "markdown",
   "metadata": {},
   "source": [
    "# 754. Reach a Number"
   ]
  },
  {
   "cell_type": "markdown",
   "metadata": {},
   "source": [
    "You are standing at position 0 on an infinite number line. There is a goal at position target.\n",
    "\n",
    "On each move, you can either go left or right. During the n-th move (starting from 1), you take n steps.\n",
    "\n",
    "Return the minimum number of steps required to reach the destination.\n",
    "\n",
    "Example 1:\n",
    "Input: target = 3\n",
    "Output: 2\n",
    "Explanation:\n",
    "On the first move we step from 0 to 1.\n",
    "On the second step we step from 1 to 3.\n",
    "Example 2:\n",
    "Input: target = 2\n",
    "Output: 3\n",
    "Explanation:\n",
    "On the first move we step from 0 to 1.\n",
    "On the second move we step  from 1 to -1.\n",
    "On the third move we step from -1 to 2.\n",
    "Note:\n",
    "target will be a non-zero integer in the range [-10^9, 10^9]."
   ]
  },
  {
   "cell_type": "markdown",
   "metadata": {},
   "source": [
    "## Solution. Time Complexity of O(1)"
   ]
  },
  {
   "cell_type": "code",
   "execution_count": null,
   "metadata": {
    "collapsed": true
   },
   "outputs": [],
   "source": [
    "class Solution(object):\n",
    "    def reachNumber(self, target):\n",
    "        \"\"\"\n",
    "        :type target: int\n",
    "        :rtype: int\n",
    "        \"\"\"\n",
    "        \n",
    "        #0: 0\n",
    "        #1: -1, 1\n",
    "        #2: -3, -1, 1, 3\n",
    "        #3: -6, -4, -2, 0, 2, 4, 6\n",
    "        #4: -10, -8, -6, -4, -2, 0, 2, 4, 6, 8, 10\n",
    "        #5: -15, -13, -11, -9, -7, -6, 1,3,5,7,9,11, ...15\n",
    "        #6: -21, \n",
    "        #7: -28\n",
    "        #8: -36\n",
    "       #n(n+1)/2  is even\n",
    "       #4k+3, 4k\n",
    "    \n",
    "    # target is even\n",
    "    #    Find minimum k such that 2k*(4k+1) >= target\n",
    "    #                             2k*(4k-1) >= target\n",
    "    # n * (n+1) >= target * 2\n",
    "    \n",
    "        if target < 0: \n",
    "            return self.reachNumber(-target)\n",
    "\n",
    "        start = int(math.sqrt(t1)) - 1        \n",
    "        while 1: \n",
    "            if start * (start + 1) >= target * 2:\n",
    "                break\n",
    "            start += 1\n",
    "        \n",
    "        if target % 2 == 0:\n",
    "            #even\n",
    "            if start % 4 == 0 or start % 4 == 3:\n",
    "                return start\n",
    "            else:\n",
    "                return start - start % 4 + 3\n",
    "        else:\n",
    "            #odd\n",
    "            if start % 4 == 1 or start % 4 == 2:\n",
    "                return start \n",
    "            elif start % 4 == 0:\n",
    "                return start + 1\n",
    "            else:\n",
    "                return start + 2\n",
    "    "
   ]
  }
 ],
 "metadata": {
  "kernelspec": {
   "display_name": "Python 2",
   "language": "python",
   "name": "python2"
  },
  "language_info": {
   "codemirror_mode": {
    "name": "ipython",
    "version": 2
   },
   "file_extension": ".py",
   "mimetype": "text/x-python",
   "name": "python",
   "nbconvert_exporter": "python",
   "pygments_lexer": "ipython2",
   "version": "2.7.13"
  }
 },
 "nbformat": 4,
 "nbformat_minor": 2
}

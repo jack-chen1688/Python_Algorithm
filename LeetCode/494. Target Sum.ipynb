{
 "cells": [
  {
   "cell_type": "markdown",
   "metadata": {},
   "source": [
    "# 494. Target Sum"
   ]
  },
  {
   "cell_type": "markdown",
   "metadata": {},
   "source": [
    "\n",
    "You are given a list of non-negative integers, a1, a2, ..., an, and a target, S. Now you have 2 symbols + and -. \n",
    "For each integer, you should choose one from + and - as its new symbol.\n",
    "\n",
    "Find out how many ways to assign symbols to make sum of integers equal to target S.\n",
    "\n",
    "Example 1:\n",
    "Input: nums is [1, 1, 1, 1, 1], S is 3. \n",
    "Output: 5\n",
    "Explanation: \n",
    "\n",
    "-1+1+1+1+1 = 3\n",
    "+1-1+1+1+1 = 3\n",
    "+1+1-1+1+1 = 3\n",
    "+1+1+1-1+1 = 3\n",
    "+1+1+1+1-1 = 3\n",
    "\n",
    "There are 5 ways to assign symbols to make the sum of nums be target 3.\n",
    "Note:\n",
    "The length of the given array is positive and will not exceed 20.\n",
    "The sum of elements in the given array will not exceed 1000.\n",
    "Your output answer is guaranteed to be fitted in a 32-bit integer.\n"
   ]
  },
  {
   "cell_type": "markdown",
   "metadata": {},
   "source": [
    "## Solution"
   ]
  },
  {
   "cell_type": "code",
   "execution_count": null,
   "metadata": {
    "collapsed": true
   },
   "outputs": [],
   "source": [
    "class Solution(object):\n",
    "    def findTargetSumWays(self, nums, S):\n",
    "        \"\"\"\n",
    "        :type nums: List[int]\n",
    "        :type S: int\n",
    "        :rtype: int\n",
    "        \"\"\"\n",
    "        n = len(nums)\n",
    "        dict = {}\n",
    "        \n",
    "        def dfs(N, rem, target):\n",
    "            if (rem, target) not in dict:            \n",
    "                cnt = 0\n",
    "                if rem > 1:\n",
    "                    for factor in (nums[-rem], -nums[-rem]):\n",
    "                        target -= factor\n",
    "                        if (rem-1, target) not in dict:\n",
    "                            dict[(rem-1, target)] = dfs(N, rem-1, target)\n",
    "                        cnt += dict[(rem-1, target)] \n",
    "                        target += factor\n",
    "                        \n",
    "                else:\n",
    "                    if target == nums[-1]:\n",
    "                        cnt += 1\n",
    "                    if target == -nums[-1]:\n",
    "                        cnt += 1\n",
    "                        \n",
    "                return cnt\n",
    "            else:\n",
    "                return dict[(rem, target)]\n",
    "            \n",
    "        return dfs(n, n, S) \n",
    "            "
   ]
  }
 ],
 "metadata": {
  "kernelspec": {
   "display_name": "Python 2",
   "language": "python",
   "name": "python2"
  },
  "language_info": {
   "codemirror_mode": {
    "name": "ipython",
    "version": 2
   },
   "file_extension": ".py",
   "mimetype": "text/x-python",
   "name": "python",
   "nbconvert_exporter": "python",
   "pygments_lexer": "ipython2",
   "version": "2.7.13"
  }
 },
 "nbformat": 4,
 "nbformat_minor": 2
}

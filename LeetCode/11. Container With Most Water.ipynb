{
 "cells": [
  {
   "cell_type": "markdown",
   "metadata": {},
   "source": [
    "# 11. Container With Most Water"
   ]
  },
  {
   "cell_type": "markdown",
   "metadata": {},
   "source": [
    "Given n non-negative integers a1, a2, ..., an, where each represents a point at coordinate (i, ai). n vertical \n",
    "lines are drawn such that the two endpoints of line i is at (i, ai) and (i, 0). Find two lines, which together \n",
    "with x-axis forms a container, such that the container contains the most water.\n",
    "\n",
    "Note: You may not slant the container and n is at least 2."
   ]
  },
  {
   "cell_type": "markdown",
   "metadata": {},
   "source": [
    "## Solution 1. Time Exceeded"
   ]
  },
  {
   "cell_type": "markdown",
   "metadata": {},
   "source": [
    "Number of multiplication is (n-1) + (n-2) + ... + 1 = (n-1)* n/2"
   ]
  },
  {
   "cell_type": "code",
   "execution_count": 1,
   "metadata": {
    "collapsed": true
   },
   "outputs": [],
   "source": [
    "class Solution(object):\n",
    "    def maxArea(self, height):\n",
    "        \"\"\"\n",
    "        :type height: List[int]\n",
    "        :rtype: int\n",
    "        \"\"\"\n",
    "        \n",
    "        max_area = 0\n",
    "        n = len(height)\n",
    "        \n",
    "        for i in xrange(1, n):\n",
    "            for j in xrange(i):\n",
    "                max_area = max(max_area, min(height[i], height[j]) * (i-j))\n",
    "        \n",
    "        return max_area"
   ]
  },
  {
   "cell_type": "markdown",
   "metadata": {},
   "source": [
    "## Solution 2. Reduce Number of Multiplications"
   ]
  },
  {
   "cell_type": "markdown",
   "metadata": {},
   "source": [
    "a=number of possible starts\n",
    "\n",
    "b=number of possible ends\n",
    "\n",
    "a+b is no more than n\n",
    "\n",
    "number of multiplications is a*b.\n",
    "\n",
    "a*b is no more than (n/2)*(n/2) = n<sup>2</sup>/2"
   ]
  },
  {
   "cell_type": "code",
   "execution_count": 2,
   "metadata": {
    "collapsed": true
   },
   "outputs": [],
   "source": [
    "class Solution(object):\n",
    "    def maxArea(self, height):\n",
    "        \"\"\" \n",
    "        :type height: List[int]\n",
    "        :rtype: int\n",
    "        \"\"\"\n",
    "        \n",
    "        starts = []\n",
    "        n = len(height)\n",
    "        \n",
    "        max_h = float(\"-inf\")\n",
    "        for i in xrange(n-1):\n",
    "            if height[i] > max_h:\n",
    "                max_h = max(height[i], max_h)\n",
    "                starts.append(i)\n",
    "        \n",
    "        ends = []\n",
    "        max_h = float(\"-inf\")\n",
    "        for i in xrange(n-1, 0, -1):\n",
    "            if height[i] > max_h:\n",
    "                max_h = max(height[i], max_h)\n",
    "                ends.append(i)\n",
    "        ends = ends[::-1]\n",
    "        \n",
    "        max_area = 0\n",
    "        for i in starts:\n",
    "            pos = bisect.bisect_right(ends, i)\n",
    "            for j in ends:\n",
    "                max_area = max(max_area, (j-i) * min(height[i], height[j]))\n",
    "                \n",
    "        return max_area"
   ]
  }
 ],
 "metadata": {
  "kernelspec": {
   "display_name": "Python 2",
   "language": "python",
   "name": "python2"
  },
  "language_info": {
   "codemirror_mode": {
    "name": "ipython",
    "version": 2
   },
   "file_extension": ".py",
   "mimetype": "text/x-python",
   "name": "python",
   "nbconvert_exporter": "python",
   "pygments_lexer": "ipython2",
   "version": "2.7.13"
  }
 },
 "nbformat": 4,
 "nbformat_minor": 2
}

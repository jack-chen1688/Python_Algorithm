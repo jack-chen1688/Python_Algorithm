{
 "cells": [
  {
   "cell_type": "markdown",
   "metadata": {},
   "source": [
    "# 582. Kill Process"
   ]
  },
  {
   "cell_type": "markdown",
   "metadata": {},
   "source": [
    "Given n processes, each process has a unique PID (process id) and its PPID (parent process id).\n",
    "\n",
    "Each process only has one parent process, but may have one or more children processes. This is just like a tree \n",
    "structure. Only one process has PPID that is 0, which means this process has no parent process. All the PIDs will \n",
    "be distinct positive integers.\n",
    "\n",
    "We use two list of integers to represent a list of processes, where the first list contains PID for each process \n",
    "and the second list contains the corresponding PPID.\n",
    "\n",
    "Now given the two lists, and a PID representing a process you want to kill, return a list of PIDs of processes \n",
    "that will be killed in the end. You should assume that when a process is killed, all its children processes will \n",
    "be killed. No order is required for the final answer.\n",
    "\n",
    "Example 1:\n",
    "Input: \n",
    "pid =  [1, 3, 10, 5]\n",
    "ppid = [3, 0, 5, 3]\n",
    "kill = 5\n",
    "Output: [5,10]\n",
    "Explanation: \n",
    "           3\n",
    "         /   \\\n",
    "        1     5\n",
    "             /\n",
    "            10\n",
    "Kill 5 will also kill 10.\n",
    "Note:\n",
    "The given kill id is guaranteed to be one of the given PIDs.\n",
    "n >= 1."
   ]
  },
  {
   "cell_type": "markdown",
   "metadata": {},
   "source": [
    "## Solution"
   ]
  },
  {
   "cell_type": "code",
   "execution_count": null,
   "metadata": {
    "collapsed": true
   },
   "outputs": [],
   "source": [
    "class Solution(object):\n",
    "    def killProcess(self, pid, ppid, kill):\n",
    "        \"\"\"\n",
    "        :type pid: List[int]\n",
    "        :type ppid: List[int]\n",
    "        :type kill: int\n",
    "        :rtype: List[int]\n",
    "        \"\"\"\n",
    "        dict = {}\n",
    "        \n",
    "        for i, id in enumerate(ppid):\n",
    "            dict.setdefault(id,[]).append(pid[i])\n",
    "        \n",
    "        lst = [kill]\n",
    "        ans = [kill]\n",
    "        while lst != []:\n",
    "            lst1 = []\n",
    "            for id in lst:\n",
    "                lst1.extend(dict.get(id,[]))\n",
    "            ans.extend(lst1)\n",
    "            lst = lst1\n",
    "        \n",
    "        return ans"
   ]
  }
 ],
 "metadata": {
  "kernelspec": {
   "display_name": "Python 2",
   "language": "python",
   "name": "python2"
  },
  "language_info": {
   "codemirror_mode": {
    "name": "ipython",
    "version": 2
   },
   "file_extension": ".py",
   "mimetype": "text/x-python",
   "name": "python",
   "nbconvert_exporter": "python",
   "pygments_lexer": "ipython2",
   "version": "2.7.13"
  }
 },
 "nbformat": 4,
 "nbformat_minor": 2
}

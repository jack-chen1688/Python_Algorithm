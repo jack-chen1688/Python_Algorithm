{
 "cells": [
  {
   "cell_type": "markdown",
   "metadata": {},
   "source": [
    "# 743. Network Delay Time"
   ]
  },
  {
   "cell_type": "code",
   "execution_count": null,
   "metadata": {
    "collapsed": true
   },
   "outputs": [],
   "source": [
    "There are N network nodes, labelled 1 to N.\n",
    "\n",
    "Given times, a list of travel times as directed edges times[i] = (u, v, w), where u is the source node, v is the target node, and w is the time it takes for a signal to travel from source to target.\n",
    "\n",
    "Now, we send a signal from a certain node K. How long will it take for all nodes to receive the signal? If it is impossible, return -1.\n",
    "\n",
    "Note:\n",
    "N will be in the range [1, 100].\n",
    "K will be in the range [1, N].\n",
    "The length of times will be in the range [1, 6000].\n",
    "All edges times[i] = (u, v, w) will have 1 <= u, v <= N and 1 <= w <= 100."
   ]
  },
  {
   "cell_type": "markdown",
   "metadata": {},
   "source": [
    "## Solution 1. Dijkstra's Algorithm Using Dictionary"
   ]
  },
  {
   "cell_type": "code",
   "execution_count": null,
   "metadata": {
    "collapsed": true
   },
   "outputs": [],
   "source": [
    "class Solution(object):\n",
    "    def networkDelayTime(self, times, N, K):\n",
    "        \"\"\"\n",
    "        :type times: List[List[int]]\n",
    "        :type N: int\n",
    "        :type K: int\n",
    "        :rtype: int\n",
    "        \"\"\"\n",
    "        \n",
    "        dict = {}\n",
    "        for u,v,w in times:\n",
    "            dict.setdefault(u, []).append((v,w))\n",
    "        \n",
    "        s0 = set([K])\n",
    "        s1 = set([K])\n",
    "        A = [0] * (N+1)\n",
    "        A[K] = 0\n",
    "        while len(s0) < N:\n",
    "            min_time = float(\"inf\")\n",
    "            lst = []\n",
    "            for i in s1:\n",
    "                if i in dict:\n",
    "                    tups = list(dict[i])\n",
    "                    for v, w in tups:\n",
    "                        if v not in s0:\n",
    "                            time = A[i] + w\n",
    "                            if time < min_time:\n",
    "                                min_time = time\n",
    "                                lst = [(i, v, w)]\n",
    "                            elif time == min_time:\n",
    "                                lst.append([i, v, w])\n",
    "                        else:\n",
    "                            dict[i].remove((v,w))\n",
    "\n",
    "            if lst:\n",
    "                for i, v, w in lst:\n",
    "                    A[v] = min_time\n",
    "                    s0.add(v)\n",
    "                    if v in dict:\n",
    "                        s1.add(v)\n",
    "\n",
    "                    dict[i].remove((v,w))\n",
    "                    if not dict[i]:\n",
    "                        dict.pop(i)\n",
    "                        s1.remove(i)\n",
    "            else:\n",
    "                if len(s0) < N:\n",
    "                    return -1\n",
    "                \n",
    "        return max(A)"
   ]
  },
  {
   "cell_type": "markdown",
   "metadata": {},
   "source": [
    "# Solution 2. Enhancement to Solution 1 with Time Complexity of O(nlog(n))"
   ]
  }
 ],
 "metadata": {
  "kernelspec": {
   "display_name": "Python 2",
   "language": "python",
   "name": "python2"
  },
  "language_info": {
   "codemirror_mode": {
    "name": "ipython",
    "version": 2
   },
   "file_extension": ".py",
   "mimetype": "text/x-python",
   "name": "python",
   "nbconvert_exporter": "python",
   "pygments_lexer": "ipython2",
   "version": "2.7.13"
  }
 },
 "nbformat": 4,
 "nbformat_minor": 2
}

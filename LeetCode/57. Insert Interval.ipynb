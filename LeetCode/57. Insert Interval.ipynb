{
 "cells": [
  {
   "cell_type": "markdown",
   "metadata": {},
   "source": [
    "# 57. Insert Interval"
   ]
  },
  {
   "cell_type": "markdown",
   "metadata": {},
   "source": [
    "Given a set of non-overlapping intervals, insert a new interval into the intervals (merge if necessary).\n",
    "\n",
    "You may assume that the intervals were initially sorted according to their start times.\n",
    "\n",
    "Example 1:\n",
    "Given intervals [1,3],[6,9], insert and merge [2,5] in as [1,5],[6,9].\n",
    "\n",
    "Example 2:\n",
    "Given [1,2],[3,5],[6,7],[8,10],[12,16], insert and merge [4,9] in as [1,2],[3,10],[12,16].\n",
    "\n",
    "This is because the new interval [4,9] overlaps with [3,5],[6,7],[8,10]."
   ]
  },
  {
   "cell_type": "markdown",
   "metadata": {},
   "source": [
    "## Solution"
   ]
  },
  {
   "cell_type": "code",
   "execution_count": null,
   "metadata": {
    "collapsed": true
   },
   "outputs": [],
   "source": [
    "class Solution(object):\n",
    "    def insert(self, intervals, newInterval):\n",
    "        \"\"\"\n",
    "        :type intervals: List[Interval]\n",
    "        :type newInterval: Interval\n",
    "        :rtype: List[Interval]\n",
    "        \"\"\"\n",
    "        vals = [x.start for x in intervals]\n",
    "\n",
    "        left_pos = bisect.bisect_left(vals, newInterval.start)\n",
    "        right_pos = bisect.bisect_right(vals, newInterval.end)\n",
    "\n",
    "        if left_pos > 0 and intervals[left_pos - 1].end >= newInterval.start:\n",
    "            intervals[right_pos - 1].start = intervals[left_pos - 1].start\n",
    "            intervals[right_pos - 1].end = max(newInterval.end, intervals[right_pos-1].end)\n",
    "            del intervals[left_pos-1:right_pos-1]\n",
    "        else:\n",
    "            if right_pos == left_pos:\n",
    "                intervals.insert(left_pos, newInterval)\n",
    "            else:\n",
    "                intervals[right_pos-1].start = newInterval.start\n",
    "                intervals[right_pos-1].end = max(newInterval.end, intervals[right_pos-1].end)\n",
    "                del intervals[left_pos: right_pos-1]\n",
    "        return intervals"
   ]
  }
 ],
 "metadata": {
  "kernelspec": {
   "display_name": "Python 2",
   "language": "python",
   "name": "python2"
  },
  "language_info": {
   "codemirror_mode": {
    "name": "ipython",
    "version": 2
   },
   "file_extension": ".py",
   "mimetype": "text/x-python",
   "name": "python",
   "nbconvert_exporter": "python",
   "pygments_lexer": "ipython2",
   "version": "2.7.13"
  }
 },
 "nbformat": 4,
 "nbformat_minor": 2
}

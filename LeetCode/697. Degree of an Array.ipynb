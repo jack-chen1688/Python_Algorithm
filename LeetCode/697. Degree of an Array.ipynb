{
 "cells": [
  {
   "cell_type": "markdown",
   "metadata": {},
   "source": [
    "# 697. Degree of an Array"
   ]
  },
  {
   "cell_type": "markdown",
   "metadata": {},
   "source": [
    "Given a non-empty array of non-negative integers nums, the degree of this array is defined as the maximum frequency of any one of its elements.\n",
    "\n",
    "Your task is to find the smallest possible length of a (contiguous) subarray of nums, that has the same degree as nums.\n",
    "\n",
    "Example 1:\n",
    "Input: [1, 2, 2, 3, 1]\n",
    "Output: 2\n",
    "Explanation: \n",
    "The input array has a degree of 2 because both elements 1 and 2 appear twice.\n",
    "Of the subarrays that have the same degree:\n",
    "[1, 2, 2, 3, 1], [1, 2, 2, 3], [2, 2, 3, 1], [1, 2, 2], [2, 2, 3], [2, 2]\n",
    "The shortest length is 2. So return 2.\n",
    "Example 2:\n",
    "Input: [1,2,2,3,1,4,2]\n",
    "Output: 6\n",
    "Note:\n",
    "\n",
    "nums.length will be between 1 and 50,000.\n",
    "nums[i] will be an integer between 0 and 49,999."
   ]
  },
  {
   "cell_type": "markdown",
   "metadata": {},
   "source": [
    "## Solution"
   ]
  },
  {
   "cell_type": "code",
   "execution_count": null,
   "metadata": {
    "collapsed": true
   },
   "outputs": [],
   "source": [
    "class Solution(object):\n",
    "    def findShortestSubArray(self, nums):\n",
    "        \"\"\"\n",
    "        :type nums: List[int]\n",
    "        :rtype: int\n",
    "        \"\"\"\n",
    "        dict = {}\n",
    "        \n",
    "        for i, num in enumerate(nums):\n",
    "            if num in dict:\n",
    "                dict[num][0] += 1\n",
    "                dict[num][2] = i\n",
    "            else:\n",
    "                dict[num] = [1, i, i]\n",
    "        \n",
    "        \n",
    "        max_cnt = 0\n",
    "        min_dis = 0\n",
    "        for x,y,z in dict.values():\n",
    "            if x > max_cnt:\n",
    "                max_cnt = x\n",
    "                min_dis = z - y\n",
    "            elif x == max_cnt:\n",
    "                min_dis = min(min_dis, z-y)\n",
    "        \n",
    "        return min_dis + 1"
   ]
  }
 ],
 "metadata": {
  "kernelspec": {
   "display_name": "Python 2",
   "language": "python",
   "name": "python2"
  },
  "language_info": {
   "codemirror_mode": {
    "name": "ipython",
    "version": 2
   },
   "file_extension": ".py",
   "mimetype": "text/x-python",
   "name": "python",
   "nbconvert_exporter": "python",
   "pygments_lexer": "ipython2",
   "version": "2.7.13"
  }
 },
 "nbformat": 4,
 "nbformat_minor": 2
}

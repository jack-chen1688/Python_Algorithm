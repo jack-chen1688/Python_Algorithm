{
 "cells": [
  {
   "cell_type": "markdown",
   "metadata": {},
   "source": [
    "# 254. Factor Combinations"
   ]
  },
  {
   "cell_type": "markdown",
   "metadata": {},
   "source": [
    "\n",
    "Numbers can be regarded as product of its factors. For example,\n",
    "\n",
    "8 = 2 x 2 x 2;\n",
    "  = 2 x 4.\n",
    "Write a function that takes an integer n and return all possible combinations of its factors.\n",
    "\n",
    "Note: \n",
    "You may assume that n is always positive.\n",
    "Factors should be greater than 1 and less than n.\n",
    "Examples: \n",
    "input: 1\n",
    "output: \n",
    "[]\n",
    "input: 37\n",
    "output: \n",
    "[]\n",
    "input: 12\n",
    "output:\n",
    "[\n",
    "  [2, 6],\n",
    "  [2, 2, 3],\n",
    "  [3, 4]\n",
    "]\n",
    "input: 32\n",
    "output:\n",
    "[\n",
    "  [2, 16],\n",
    "  [2, 2, 8],\n",
    "  [2, 2, 2, 4],\n",
    "  [2, 2, 2, 2, 2],\n",
    "  [2, 4, 4],\n",
    "  [4, 8]\n",
    "]\n"
   ]
  },
  {
   "cell_type": "markdown",
   "metadata": {},
   "source": [
    "## Solution"
   ]
  },
  {
   "cell_type": "code",
   "execution_count": null,
   "metadata": {
    "collapsed": true
   },
   "outputs": [],
   "source": [
    "class Solution(object):\n",
    "    def getFactors(self, n):\n",
    "        \"\"\"\n",
    "        :type n: int\n",
    "        :rtype: List[List[int]]\n",
    "        \"\"\"\n",
    "        \n",
    "        \"\"\"\n",
    "        2x18\n",
    "        2x2x9\n",
    "        2x2x3x3\n",
    "        2x3x6\n",
    "        3x12\n",
    "        3x3x4\n",
    "        4x9\n",
    "        6x6\n",
    "        \"\"\"\n",
    "        # get factors of n where each factor is larger than k\n",
    "        def dfs(n, k):  \n",
    "            lsts = []\n",
    "            for i in xrange(k, n):\n",
    "                if i * i > n:\n",
    "                    break\n",
    "                else:\n",
    "                    if n % i == 0:\n",
    "                        lsts.append([i, n/i])\n",
    "                        lsts1 = dfs(n/i,i)\n",
    "                        for lst in lsts1:\n",
    "                            lsts.append([i] + lst)\n",
    "            return lsts\n",
    "        \n",
    "        return dfs(n, 2)"
   ]
  },
  {
   "cell_type": "markdown",
   "metadata": {},
   "source": [
    "## Analysis"
   ]
  }
 ],
 "metadata": {
  "kernelspec": {
   "display_name": "Python 2",
   "language": "python",
   "name": "python2"
  },
  "language_info": {
   "codemirror_mode": {
    "name": "ipython",
    "version": 2
   },
   "file_extension": ".py",
   "mimetype": "text/x-python",
   "name": "python",
   "nbconvert_exporter": "python",
   "pygments_lexer": "ipython2",
   "version": "2.7.13"
  }
 },
 "nbformat": 4,
 "nbformat_minor": 2
}

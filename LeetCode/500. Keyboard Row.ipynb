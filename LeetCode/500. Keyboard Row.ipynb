{
 "cells": [
  {
   "cell_type": "markdown",
   "metadata": {},
   "source": [
    "# 500. Keyboard Row"
   ]
  },
  {
   "cell_type": "markdown",
   "metadata": {},
   "source": [
    "\n",
    "Given a List of words, return the words that can be typed using letters of alphabet on only one row's of American keyboard like the image below.\n",
    "\n",
    "\n",
    "American keyboard\n",
    "\n",
    "\n",
    "Example 1:\n",
    "Input: [\"Hello\", \"Alaska\", \"Dad\", \"Peace\"]\n",
    "Output: [\"Alaska\", \"Dad\"]"
   ]
  },
  {
   "cell_type": "markdown",
   "metadata": {},
   "source": [
    "## Solution 1. "
   ]
  },
  {
   "cell_type": "code",
   "execution_count": 1,
   "metadata": {
    "collapsed": true
   },
   "outputs": [],
   "source": [
    "class Solution(object):\n",
    "    def findWords(self, words):\n",
    "        \"\"\"\n",
    "        :type words: List[str]\n",
    "        :rtype: List[str]\n",
    "        \"\"\"\n",
    "        \n",
    "        dict = {x:0 for x in \"qwertyuiop\"}\n",
    "        dict.update({x:1 for x in \"asdfghjkl\"})\n",
    "        dict.update({x:2 for x in \"zxcvbnm\"})\n",
    "        \n",
    "        lst = []\n",
    "        for s in words:\n",
    "            s1=s.lower()\n",
    "            if s1 != \"\":\n",
    "                val = dict[s1[0]]\n",
    "                yes = True\n",
    "                for ch in s1[1:]:\n",
    "                    if dict[ch] != val:\n",
    "                        yes = False\n",
    "                        break\n",
    "                if yes:\n",
    "                    lst.append(s)\n",
    "            else:\n",
    "                lst.append(s)\n",
    "        \n",
    "        return lst"
   ]
  },
  {
   "cell_type": "markdown",
   "metadata": {},
   "source": [
    "## Solution 2. Minor Enhancement Using All"
   ]
  },
  {
   "cell_type": "code",
   "execution_count": 2,
   "metadata": {},
   "outputs": [
    {
     "name": "stdout",
     "output_type": "stream",
     "text": [
      "['Ash', 'Wet', 'S']\n"
     ]
    }
   ],
   "source": [
    "class Solution(object):\n",
    "    def findWords(self, words):\n",
    "        \"\"\"\n",
    "        :type words: List[str]\n",
    "        :rtype: List[str]\n",
    "        \"\"\"\n",
    "        \n",
    "        dict = {x:0 for x in \"qwertyuiop\"}\n",
    "        dict.update({x:1 for x in \"asdfghjkl\"})\n",
    "        dict.update({x:2 for x in \"zxcvbnm\"})\n",
    "        \n",
    "        lst = []\n",
    "        for s in words:\n",
    "            s1=s.lower()\n",
    "            if s1 != \"\":\n",
    "                # Note. For all function, Return True if all elements of the iterable are true\n",
    "                #      (or if the iterable is empty)\n",
    "                if all(dict[s1[i]] == dict[s1[0]] for i in xrange(1,len(s))):\n",
    "                    lst.append(s)\n",
    "            else:\n",
    "                lst.append(s)\n",
    "        \n",
    "        return lst\n",
    " \n",
    "def main():\n",
    "    words = [\"Atlas\", \"Ash\", \"Wet\", \"S\"]\n",
    "    print Solution().findWords(words)\n",
    "\n",
    "if __name__ == \"__main__\":\n",
    "    main()"
   ]
  }
 ],
 "metadata": {
  "kernelspec": {
   "display_name": "Python 2",
   "language": "python",
   "name": "python2"
  },
  "language_info": {
   "codemirror_mode": {
    "name": "ipython",
    "version": 2
   },
   "file_extension": ".py",
   "mimetype": "text/x-python",
   "name": "python",
   "nbconvert_exporter": "python",
   "pygments_lexer": "ipython2",
   "version": "2.7.11"
  }
 },
 "nbformat": 4,
 "nbformat_minor": 2
}

{
 "cells": [
  {
   "cell_type": "markdown",
   "metadata": {},
   "source": [
    "# 314. Binary Tree Vertical Order Traversal"
   ]
  },
  {
   "cell_type": "markdown",
   "metadata": {},
   "source": [
    "Given a binary tree, return the vertical order traversal of its nodes' values. (ie, from top to bottom, column by column).\n",
    "\n",
    "If two nodes are in the same row and column, the order should be from left to right.\n",
    "\n",
    "Examples:\n",
    "\n",
    "Given binary tree [3,9,20,null,null,15,7],\n",
    "   3\n",
    "  /\\\n",
    " /  \\\n",
    " 9  20\n",
    "    /\\\n",
    "   /  \\\n",
    "  15   7\n",
    "return its vertical order traversal as:\n",
    "[\n",
    "  [9],\n",
    "  [3,15],\n",
    "  [20],\n",
    "  [7]\n",
    "]\n",
    "Given binary tree [3,9,8,4,0,1,7],\n",
    "     3\n",
    "    /\\\n",
    "   /  \\\n",
    "   9   8\n",
    "  /\\  /\\\n",
    " /  \\/  \\\n",
    " 4  01   7\n",
    "return its vertical order traversal as:\n",
    "[\n",
    "  [4],\n",
    "  [9],\n",
    "  [3,0,1],\n",
    "  [8],\n",
    "  [7]\n",
    "]\n",
    "Given binary tree [3,9,8,4,0,1,7,null,null,null,2,5] (0's right child is 2 and 1's left child is 5),\n",
    "     3\n",
    "    /\\\n",
    "   /  \\\n",
    "   9   8\n",
    "  /\\  /\\\n",
    " /  \\/  \\\n",
    " 4  01   7\n",
    "    /\\\n",
    "   /  \\\n",
    "   5   2\n",
    "return its vertical order traversal as:\n",
    "[\n",
    "  [4],\n",
    "  [9,5],\n",
    "  [3,0,1],\n",
    "  [8,2],\n",
    "  [7]\n",
    "]"
   ]
  },
  {
   "cell_type": "markdown",
   "metadata": {},
   "source": [
    "## Solution 1. DFS Recursive Approach"
   ]
  },
  {
   "cell_type": "code",
   "execution_count": null,
   "metadata": {
    "collapsed": true
   },
   "outputs": [],
   "source": [
    "# Definition for a binary tree node.\n",
    "# class TreeNode(object):\n",
    "#     def __init__(self, x):\n",
    "#         self.val = x\n",
    "#         self.left = None\n",
    "#         self.right = None\n",
    "\n",
    "class Solution(object):\n",
    "    def verticalOrder(self, root):\n",
    "        \"\"\"\n",
    "        :type root: TreeNode\n",
    "        :rtype: List[List[int]]\n",
    "        \"\"\"\n",
    "        \n",
    "        if root:\n",
    "            dict = {}\n",
    "\n",
    "            def dfs(root, depth, val):\n",
    "                dict.setdefault((val, depth), []).append(root.val)\n",
    "                if root.left:\n",
    "                    dfs(root.left, depth+1, val-1)\n",
    "\n",
    "                if root.right:\n",
    "                    dfs(root.right, depth+1, val + 1)\n",
    "\n",
    "            dfs(root, 0, 0)\n",
    "            lsts = sorted([[x,y] for x,y in dict.iteritems()])\n",
    "            ans = []\n",
    "            for i in xrange(len(lsts)-1):\n",
    "                (val0, depth0), lst0 = lsts[i]\n",
    "                (val1, depth1), lst1 = lsts[i+1]\n",
    "                if val0 == val1:\n",
    "                    lsts[i+1][1] = lst0 + lst1\n",
    "                else:\n",
    "                    ans.append(lst0)\n",
    "            \n",
    "            ans.append(lsts[-1][1])\n",
    "            \n",
    "            return ans \n",
    "        else:\n",
    "            return []"
   ]
  },
  {
   "cell_type": "markdown",
   "metadata": {},
   "source": [
    "## Solution 2. Iterative Approach"
   ]
  },
  {
   "cell_type": "code",
   "execution_count": null,
   "metadata": {
    "collapsed": true
   },
   "outputs": [],
   "source": [
    "# Definition for a binary tree node.\n",
    "# class TreeNode(object):\n",
    "#     def __init__(self, x):\n",
    "#         self.val = x\n",
    "#         self.left = None\n",
    "#         self.right = None\n",
    "\n",
    "class Solution(object):\n",
    "    def verticalOrder(self, root):\n",
    "        \"\"\"\n",
    "        :type root: TreeNode\n",
    "        :rtype: List[List[int]]\n",
    "        \"\"\"\n",
    "        \n",
    "        if root:\n",
    "            dict = {}\n",
    "            tups = [(0, root)]\n",
    "            dict[0] = [root.val]\n",
    "            while tups:\n",
    "                tups1 = []\n",
    "                for tup in tups:\n",
    "                    if tup[1].left:\n",
    "                        dict.setdefault(tup[0]-1,[]).append(tup[1].left.val)\n",
    "                        tups1.append((tup[0]-1, tup[1].left))\n",
    "                    if tup[1].right:\n",
    "                        dict.setdefault(tup[0]+1,[]).append(tup[1].right.val)\n",
    "                        tups1.append((tup[0]+1, tup[1].right))\n",
    "\n",
    "                tups = tups1\n",
    "\n",
    "            return [lst for key, lst in sorted(dict.iteritems())]\n",
    "        else:\n",
    "            return []"
   ]
  }
 ],
 "metadata": {
  "kernelspec": {
   "display_name": "Python 2",
   "language": "python",
   "name": "python2"
  },
  "language_info": {
   "codemirror_mode": {
    "name": "ipython",
    "version": 2
   },
   "file_extension": ".py",
   "mimetype": "text/x-python",
   "name": "python",
   "nbconvert_exporter": "python",
   "pygments_lexer": "ipython2",
   "version": "2.7.13"
  }
 },
 "nbformat": 4,
 "nbformat_minor": 2
}

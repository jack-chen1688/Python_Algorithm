{
 "cells": [
  {
   "cell_type": "markdown",
   "metadata": {},
   "source": [
    "# 567. Permutation in String"
   ]
  },
  {
   "cell_type": "markdown",
   "metadata": {},
   "source": [
    "Given two strings s1 and s2, write a function to return true if s2 contains the permutation of s1. In other words, one of the first string's permutations is the substring of the second string.\n",
    "Example 1:\n",
    "Input:s1 = \"ab\" s2 = \"eidbaooo\"\n",
    "Output:True\n",
    "Explanation: s2 contains one permutation of s1 (\"ba\").\n",
    "Example 2:\n",
    "Input:s1= \"ab\" s2 = \"eidboaoo\"\n",
    "Output: False\n",
    "Note:\n",
    "The input strings only contain lower case letters.\n",
    "The length of both given strings is in range [1, 10,000]."
   ]
  },
  {
   "cell_type": "markdown",
   "metadata": {},
   "source": [
    "## Solution. Time Complexity O(n)"
   ]
  },
  {
   "cell_type": "code",
   "execution_count": null,
   "metadata": {
    "collapsed": true
   },
   "outputs": [],
   "source": [
    "class Solution(object):\n",
    "    def checkInclusion(self, s1, s2):\n",
    "        \"\"\"\n",
    "        :type s1: str\n",
    "        :type s2: str\n",
    "        :rtype: bool\n",
    "        \"\"\"\n",
    "        \n",
    "        dict = {}\n",
    "        \n",
    "        for ch in s1: \n",
    "            dict[ch] = dict.get(ch, 0) + 1\n",
    "            \n",
    "        n1 = len(s1)\n",
    "        n2 = len(s2)\n",
    "        start = None\n",
    "        cnt = 0\n",
    "        for i in xrange(n2):\n",
    "            ch = s2[i]\n",
    "            if ch in dict:\n",
    "                if dict[ch] > 0: \n",
    "                    if start == None:\n",
    "                        start = i \n",
    "                    dict[ch] -= 1\n",
    "                    cnt += 1\n",
    "                    if cnt == n1:\n",
    "                        return True\n",
    "                else:\n",
    "                    for j in xrange(start, i):\n",
    "                        if s2[j] == ch:\n",
    "                            start = j+1\n",
    "                            cnt = i - j\n",
    "                            break\n",
    "                        else:\n",
    "                            dict[s2[j]] += 1\n",
    "\n",
    "            elif start != None:\n",
    "                for j in xrange(start, i):\n",
    "                    dict[s2[j]] += 1\n",
    "                start = None\n",
    "                cnt = 0\n",
    "            else:\n",
    "                if i >= n2-n1:\n",
    "                    return False\n",
    "            \n",
    "        return False"
   ]
  }
 ],
 "metadata": {
  "kernelspec": {
   "display_name": "Python 2",
   "language": "python",
   "name": "python2"
  },
  "language_info": {
   "codemirror_mode": {
    "name": "ipython",
    "version": 2
   },
   "file_extension": ".py",
   "mimetype": "text/x-python",
   "name": "python",
   "nbconvert_exporter": "python",
   "pygments_lexer": "ipython2",
   "version": "2.7.13"
  }
 },
 "nbformat": 4,
 "nbformat_minor": 2
}

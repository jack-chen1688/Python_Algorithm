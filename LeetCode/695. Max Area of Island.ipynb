{
 "cells": [
  {
   "cell_type": "markdown",
   "metadata": {},
   "source": [
    "# 695. Max Area of Island"
   ]
  },
  {
   "cell_type": "markdown",
   "metadata": {},
   "source": [
    "Given a non-empty 2D array grid of 0's and 1's, an island is a group of 1's (representing land) connected 4-directionally (horizontal or vertical.) You may assume all four edges of the grid are surrounded by water.\n",
    "\n",
    "Find the maximum area of an island in the given 2D array. (If there is no island, the maximum area is 0.)\n",
    "\n",
    "Example 1:\n",
    "[[0,0,1,0,0,0,0,1,0,0,0,0,0],\n",
    " [0,0,0,0,0,0,0,1,1,1,0,0,0],\n",
    " [0,1,1,0,1,0,0,0,0,0,0,0,0],\n",
    " [0,1,0,0,1,1,0,0,1,0,1,0,0],\n",
    " [0,1,0,0,1,1,0,0,1,1,1,0,0],\n",
    " [0,0,0,0,0,0,0,0,0,0,1,0,0],\n",
    " [0,0,0,0,0,0,0,1,1,1,0,0,0],\n",
    " [0,0,0,0,0,0,0,1,1,0,0,0,0]]\n",
    "Given the above grid, return 6. Note the answer is not 11, because the island must be connected 4-directionally.\n",
    "Example 2:\n",
    "[[0,0,0,0,0,0,0,0]]\n",
    "Given the above grid, return 0.\n",
    "Note: The length of each dimension in the given grid does not exceed 50."
   ]
  },
  {
   "cell_type": "markdown",
   "metadata": {},
   "source": [
    "## Solution"
   ]
  },
  {
   "cell_type": "code",
   "execution_count": null,
   "metadata": {
    "collapsed": true
   },
   "outputs": [],
   "source": [
    "class Solution(object):\n",
    "    def maxAreaOfIsland(self, grid):\n",
    "        \"\"\"\n",
    "        :type grid: List[List[int]]\n",
    "        :rtype: int\n",
    "        \"\"\"\n",
    "        \n",
    "        max_area = 0 \n",
    "        nrow = len(grid)\n",
    "        ncol = len(grid[0])\n",
    "        for i in xrange(nrow):\n",
    "            for j in xrange(ncol): \n",
    "                if grid[i][j] == 1:\n",
    "                    grid[i][j] = -1\n",
    "                    cnt = 1\n",
    "                    lst = [(i,j)]\n",
    "                    while lst:\n",
    "                        lst1 = []\n",
    "                        for x,y in lst:\n",
    "                            if x > 0 and grid[x-1][y] == 1:\n",
    "                                grid[x-1][y] = -1\n",
    "                                lst1.append((x-1,y))\n",
    "                            if x < nrow-1 and grid[x+1][y] == 1:\n",
    "                                grid[x+1][y] = -1\n",
    "                                lst1.append((x+1,y))\n",
    "                            if y > 0 and grid[x][y-1] == 1:\n",
    "                                grid[x][y-1] = -1\n",
    "                                lst1.append((x,y-1))\n",
    "                            if y < ncol-1 and grid[x][y+1] == 1:\n",
    "                                grid[x][y+1] = -1\n",
    "                                lst1.append((x, y+1))\n",
    "                        cnt += len(lst1)\n",
    "                        lst = lst1\n",
    "                        #print lst\n",
    "                    max_area = max(max_area, cnt)\n",
    "                \n",
    "            \n",
    "        return max_area"
   ]
  }
 ],
 "metadata": {
  "kernelspec": {
   "display_name": "Python 2",
   "language": "python",
   "name": "python2"
  },
  "language_info": {
   "codemirror_mode": {
    "name": "ipython",
    "version": 2
   },
   "file_extension": ".py",
   "mimetype": "text/x-python",
   "name": "python",
   "nbconvert_exporter": "python",
   "pygments_lexer": "ipython2",
   "version": "2.7.13"
  }
 },
 "nbformat": 4,
 "nbformat_minor": 2
}

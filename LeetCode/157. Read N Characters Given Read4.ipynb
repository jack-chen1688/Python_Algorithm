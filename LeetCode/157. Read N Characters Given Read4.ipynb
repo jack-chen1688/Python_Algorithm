{
 "cells": [
  {
   "cell_type": "markdown",
   "metadata": {},
   "source": [
    "# 157. Read N Characters Given Read4"
   ]
  },
  {
   "cell_type": "markdown",
   "metadata": {},
   "source": [
    "\n",
    "The API: int read4(char *buf) reads 4 characters at a time from a file.\n",
    "\n",
    "The return value is the actual number of characters read. For example, it returns 3 if there is only 3 characters left in the file.\n",
    "\n",
    "By using the read4 API, implement the function int read(char *buf, int n) that reads n characters from the file.\n",
    "\n",
    "Note:\n",
    "The read function will only be called once for each test case."
   ]
  },
  {
   "cell_type": "markdown",
   "metadata": {},
   "source": [
    "## Solution"
   ]
  },
  {
   "cell_type": "code",
   "execution_count": null,
   "metadata": {
    "collapsed": true
   },
   "outputs": [],
   "source": [
    "# The read4 API is already defined for you.\n",
    "# @param buf, a list of characters\n",
    "# @return an integer\n",
    "# def read4(buf):\n",
    "\n",
    "class Solution(object):\n",
    "    def read(self, buf, n):\n",
    "        \"\"\"\n",
    "        :type buf: Destination buffer (List[str])\n",
    "        :type n: Maximum number of characters to read (int)\n",
    "        :rtype: The number of characters read (int)\n",
    "        \"\"\"\n",
    "         \n",
    "        buf4 = [''] *4\n",
    "        tot = 0\n",
    "        \n",
    "        for i in xrange(0, n, 4):\n",
    "            cnt = read4(buf4)\n",
    "            tot += cnt\n",
    "            buf[i:i+4] = buf4[:]\n",
    "\n",
    "            if cnt < 4:\n",
    "                break\n",
    "            \n",
    "        \n",
    "        return min(tot, n)  "
   ]
  }
 ],
 "metadata": {
  "kernelspec": {
   "display_name": "Python 2",
   "language": "python",
   "name": "python2"
  },
  "language_info": {
   "codemirror_mode": {
    "name": "ipython",
    "version": 2
   },
   "file_extension": ".py",
   "mimetype": "text/x-python",
   "name": "python",
   "nbconvert_exporter": "python",
   "pygments_lexer": "ipython2",
   "version": "2.7.13"
  }
 },
 "nbformat": 4,
 "nbformat_minor": 2
}

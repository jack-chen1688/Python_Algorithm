{
 "cells": [
  {
   "cell_type": "markdown",
   "metadata": {},
   "source": [
    "# 413. Arithmetic Slices"
   ]
  },
  {
   "cell_type": "markdown",
   "metadata": {},
   "source": [
    "A sequence of number is called arithmetic if it consists of at least three elements and if the difference between any two consecutive elements is the same.\n",
    "\n",
    "For example, these are arithmetic sequence:\n",
    "\n",
    "1, 3, 5, 7, 9\n",
    "7, 7, 7, 7\n",
    "3, -1, -5, -9\n",
    "The following sequence is not arithmetic.\n",
    "\n",
    "1, 1, 2, 5, 7\n",
    "\n",
    "A zero-indexed array A consisting of N numbers is given. A slice of that array is any pair of integers (P, Q) such that 0 <= P < Q < N.\n",
    "\n",
    "A slice (P, Q) of array A is called arithmetic if the sequence:\n",
    "A[P], A[p + 1], ..., A[Q - 1], A[Q] is arithmetic. In particular, this means that P + 1 < Q.\n",
    "\n",
    "The function should return the number of arithmetic slices in the array A.\n",
    "\n",
    "\n",
    "Example:\n",
    "\n",
    "A = [1, 2, 3, 4]\n",
    "\n",
    "return: 3, for 3 arithmetic slices in A: [1, 2, 3], [2, 3, 4] and [1, 2, 3, 4] itself."
   ]
  },
  {
   "cell_type": "markdown",
   "metadata": {},
   "source": [
    "## Solution 1. "
   ]
  },
  {
   "cell_type": "markdown",
   "metadata": {},
   "source": [
    "A continguous arithmetic sequence of length n contains (n-2)+(n-3)+...+1 = (n-1)(n-2)/2 arithmetic slices."
   ]
  },
  {
   "cell_type": "code",
   "execution_count": null,
   "metadata": {
    "collapsed": true
   },
   "outputs": [],
   "source": [
    "class Solution(object):\n",
    "    def numberOfArithmeticSlices(self, A):\n",
    "        \"\"\"\n",
    "        :type A: List[int]\n",
    "        :rtype: int\n",
    "        \"\"\"\n",
    "        \n",
    "        n = len(A)\n",
    "        if n < 3: \n",
    "            return 0 \n",
    "        \n",
    "        prev_diff = A[1] - A[0]\n",
    "        pos = 2\n",
    "        cnt = 2\n",
    "        res = 0\n",
    "        while pos < n:\n",
    "            diff = A[pos] - A[pos-1]\n",
    "            if diff == prev_diff:\n",
    "                cnt += 1\n",
    "            else:\n",
    "                if cnt >= 3:\n",
    "                    res += (cnt-1)*(cnt-2)/2     \n",
    "                \n",
    "                prev_diff = diff\n",
    "                cnt = 2\n",
    "            \n",
    "            pos += 1\n",
    "        \n",
    "        res += (cnt-1)*(cnt-2)/2\n",
    "        \n",
    "        return res"
   ]
  },
  {
   "cell_type": "markdown",
   "metadata": {},
   "source": [
    "## Solution 2. Enhancement in Speed"
   ]
  },
  {
   "cell_type": "markdown",
   "metadata": {},
   "source": [
    "Use plus operation instead of multiplication and simplify the logic"
   ]
  },
  {
   "cell_type": "code",
   "execution_count": null,
   "metadata": {
    "collapsed": true
   },
   "outputs": [],
   "source": [
    "class Solution(object):\n",
    "    def numberOfArithmeticSlices(self, A):\n",
    "        \"\"\"\n",
    "        :type A: List[int]\n",
    "        :rtype: int\n",
    "        \"\"\"\n",
    "        \n",
    "        n = len(A)\n",
    "        cnt, res = 0, 0\n",
    "        \n",
    "        for i in xrange(1,n-1):\n",
    "            if A[i+1] - A[i] == A[i] - A[i-1]:\n",
    "                cnt += 1\n",
    "                res += cnt\n",
    "            else:\n",
    "                cnt = 0 \n",
    "        \n",
    "        return res"
   ]
  }
 ],
 "metadata": {
  "kernelspec": {
   "display_name": "Python 2",
   "language": "python",
   "name": "python2"
  },
  "language_info": {
   "codemirror_mode": {
    "name": "ipython",
    "version": 2
   },
   "file_extension": ".py",
   "mimetype": "text/x-python",
   "name": "python",
   "nbconvert_exporter": "python",
   "pygments_lexer": "ipython2",
   "version": "2.7.11"
  }
 },
 "nbformat": 4,
 "nbformat_minor": 2
}

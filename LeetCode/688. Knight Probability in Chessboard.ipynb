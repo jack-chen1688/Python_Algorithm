{
 "cells": [
  {
   "cell_type": "markdown",
   "metadata": {},
   "source": [
    "# 688. Knight Probability in Chessboard"
   ]
  },
  {
   "cell_type": "markdown",
   "metadata": {},
   "source": [
    "On an NxN chessboard, a knight starts at the r-th row and c-th column and attempts to make exactly K moves. The \n",
    "rows and columns are 0 indexed, so the top-left square is (0, 0), and the bottom-right square is (N-1, N-1).\n",
    "\n",
    "A chess knight has 8 possible moves it can make, as illustrated below. Each move is two squares in a cardinal \n",
    "direction, then one square in an orthogonal direction.\n",
    "\n",
    "\n",
    "Each time the knight is to move, it chooses one of eight possible moves uniformly at random (even if the piece \n",
    "would go off the chessboard) and moves there.\n",
    "\n",
    "The knight continues moving until it has made exactly K moves or has moved off the chessboard. Return the \n",
    "probability that the knight remains on the board after it has stopped moving.\n",
    "\n",
    "Example:\n",
    "Input: 3, 2, 0, 0\n",
    "Output: 0.0625\n",
    "Explanation: There are two moves (to (1,2), (2,1)) that will keep the knight on the board.\n",
    "From each of those positions, there are also two moves that will keep the knight on the board.\n",
    "The total probability the knight stays on the board is 0.0625.\n",
    "Note:\n",
    "N will be between 1 and 25.\n",
    "K will be between 0 and 100.\n",
    "The knight always initially starts on the board.\n",
    "\n"
   ]
  },
  {
   "cell_type": "markdown",
   "metadata": {},
   "source": [
    "## Solution. DFS Recursive Approach"
   ]
  },
  {
   "cell_type": "code",
   "execution_count": null,
   "metadata": {
    "collapsed": true
   },
   "outputs": [],
   "source": [
    "class Solution(object):\n",
    "    def knightProbability(self, N, K, r, c):\n",
    "        \"\"\"\n",
    "        :type N: int\n",
    "        :type K: int\n",
    "        :type r: int\n",
    "        :type c: int\n",
    "        :rtype: float\n",
    "        \"\"\"\n",
    "        \n",
    "        dict = {}\n",
    "        \n",
    "        def dfs(N, K, r, c):\n",
    "            \n",
    "            if (K, r,c) in dict:\n",
    "                return dict[(K,r,c)]\n",
    "            \n",
    "            lst = [[x,y] for x in (r-2, r+2) for y in (c-1, c+1) if 0<=x<N and 0<=y<N] \n",
    "            lst.extend([[x,y] for x in (r-1,r+1) for y in(c-2, c+2) if 0<=x<N and 0<=y<N])\n",
    "            \n",
    "\\           if K == 1:\n",
    "                dict[(1,r,c)] = len(lst)\n",
    "                return dict[(1,r,c)]\n",
    "        \n",
    "            res = 0\n",
    "            for x,y in lst:\n",
    "                res += dfs(N, K-1, x, y)\n",
    "        \n",
    "            dict[(K,r,c)] = res\n",
    "            return res\n",
    "        \n",
    "        if K == 0:\n",
    "            return 1\n",
    "        else: \n",
    "            return float(dfs(N,K,r,c))/(8**K)"
   ]
  }
 ],
 "metadata": {
  "kernelspec": {
   "display_name": "Python 2",
   "language": "python",
   "name": "python2"
  },
  "language_info": {
   "codemirror_mode": {
    "name": "ipython",
    "version": 2
   },
   "file_extension": ".py",
   "mimetype": "text/x-python",
   "name": "python",
   "nbconvert_exporter": "python",
   "pygments_lexer": "ipython2",
   "version": "2.7.13"
  }
 },
 "nbformat": 4,
 "nbformat_minor": 2
}

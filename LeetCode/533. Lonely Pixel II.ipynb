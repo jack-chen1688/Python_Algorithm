{
 "cells": [
  {
   "cell_type": "markdown",
   "metadata": {},
   "source": [
    "# 533. Lonely Pixel II"
   ]
  },
  {
   "cell_type": "markdown",
   "metadata": {},
   "source": [
    "\n",
    "Given a picture consisting of black and white pixels, and a positive integer N, find the number of black pixels located at some specific row R and column C that align with all the following rules:\n",
    "\n",
    "Row R and column C both contain exactly N black pixels.\n",
    "For all rows that have a black pixel at column C, they should be exactly the same as row R\n",
    "The picture is represented by a 2D char array consisting of 'B' and 'W', which means black and white pixels respectively.\n",
    "\n",
    "Example:\n",
    "Input:                                            \n",
    "[['W', 'B', 'W', 'B', 'B', 'W'],    \n",
    " ['W', 'B', 'W', 'B', 'B', 'W'],    \n",
    " ['W', 'B', 'W', 'B', 'B', 'W'],    \n",
    " ['W', 'W', 'B', 'W', 'B', 'W']] \n",
    "\n",
    "N = 3\n",
    "Output: 6\n",
    "Explanation: All the bold 'B' are the black pixels we need (all 'B's at column 1 and 3).\n",
    "        0    1    2    3    4    5         column index                                            \n",
    "0    [['W', 'B', 'W', 'B', 'B', 'W'],    \n",
    "1     ['W', 'B', 'W', 'B', 'B', 'W'],    \n",
    "2     ['W', 'B', 'W', 'B', 'B', 'W'],    \n",
    "3     ['W', 'W', 'B', 'W', 'B', 'W']]    \n",
    "row index\n",
    "\n",
    "Take 'B' at row R = 0 and column C = 1 as an example:\n",
    "Rule 1, row R = 0 and column C = 1 both have exactly N = 3 black pixels. \n",
    "Rule 2, the rows have black pixel at column C = 1 are row 0, row 1 and row 2. They are exactly the same as row R = 0.\n",
    "\n",
    "Note:\n",
    "The range of width and height of the input 2D array is [1,200]."
   ]
  },
  {
   "cell_type": "markdown",
   "metadata": {},
   "source": [
    "## Solution 1"
   ]
  },
  {
   "cell_type": "code",
   "execution_count": null,
   "metadata": {
    "collapsed": true
   },
   "outputs": [],
   "source": [
    "class Solution(object):\n",
    "    def findBlackPixel(self, picture, N):\n",
    "        \"\"\"\n",
    "        :type picture: List[List[str]]\n",
    "        :type N: int\n",
    "        :rtype: int\n",
    "        \"\"\"\n",
    "        cnt = 0\n",
    "        dict = {}\n",
    "        for i, col in enumerate(zip(*picture)):\n",
    "            cnt_black = 0\n",
    "            lst = []\n",
    "            for j, val in enumerate(col): \n",
    "                if val == 'B':\n",
    "                    lst.append(j)\n",
    "                    \n",
    "            if len(lst) == N:\n",
    "                # check all rows that have a black pixel at col i.\n",
    "                first_row = picture[lst[0]]\n",
    "                if first_row.count('B') == N:\n",
    "                    all_match = all(picture[index] == first_row for index in lst)\n",
    "                    if all_match:\n",
    "                        cnt += N\n",
    "                    \n",
    "                \n",
    "        return cnt"
   ]
  },
  {
   "cell_type": "markdown",
   "metadata": {},
   "source": [
    "## Solution 2. Enhance Speed From Solution 1."
   ]
  },
  {
   "cell_type": "code",
   "execution_count": null,
   "metadata": {
    "collapsed": true
   },
   "outputs": [],
   "source": [
    "class Solution(object):\n",
    "    def findBlackPixel(self, picture, N):\n",
    "        \"\"\"\n",
    "        :type picture: List[List[str]]\n",
    "        :type N: int\n",
    "        :rtype: int\n",
    "        \"\"\"\n",
    "        cnt = 0\n",
    "        s0, s1 = set(), set()\n",
    "        for i, col in enumerate(zip(*picture)):\n",
    "            cnt_black = 0\n",
    "            lst = []\n",
    "            for j, val in enumerate(col): \n",
    "                if val == 'B':\n",
    "                    lst.append(j)\n",
    "                    \n",
    "            if len(lst) == N:\n",
    "                if lst[0] in s0:\n",
    "                    if tuple(lst) in s1:\n",
    "                        cnt += N \n",
    "                else:\n",
    "                    # check all rows that have a black pixel at col i.\n",
    "                    first_row = picture[lst[0]]\n",
    "                    if first_row.count('B') == N:\n",
    "                        all_match = all(picture[index] == first_row for index in lst)\n",
    "                        if all_match:\n",
    "                            cnt += N\n",
    "                            s0 |= set(lst)\n",
    "                            s1.add(tuple(lst)) \n",
    "            \n",
    "        return cnt"
   ]
  }
 ],
 "metadata": {
  "kernelspec": {
   "display_name": "Python 2",
   "language": "python",
   "name": "python2"
  },
  "language_info": {
   "codemirror_mode": {
    "name": "ipython",
    "version": 2
   },
   "file_extension": ".py",
   "mimetype": "text/x-python",
   "name": "python",
   "nbconvert_exporter": "python",
   "pygments_lexer": "ipython2",
   "version": "2.7.13"
  }
 },
 "nbformat": 4,
 "nbformat_minor": 2
}

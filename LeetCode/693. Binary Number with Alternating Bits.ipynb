{
 "cells": [
  {
   "cell_type": "markdown",
   "metadata": {},
   "source": [
    "# 693. Binary Number with Alternating Bits"
   ]
  },
  {
   "cell_type": "markdown",
   "metadata": {},
   "source": [
    "Given a positive integer, check whether it has alternating bits: namely, if two adjacent bits will always have \n",
    "different values.\n",
    "\n",
    "Example 1:\n",
    "Input: 5\n",
    "Output: True\n",
    "Explanation:\n",
    "The binary representation of 5 is: 101\n",
    "Example 2:\n",
    "Input: 7\n",
    "Output: False\n",
    "Explanation:\n",
    "The binary representation of 7 is: 111.\n",
    "Example 3:\n",
    "Input: 11\n",
    "Output: False\n",
    "Explanation:\n",
    "The binary representation of 11 is: 1011.\n",
    "Example 4:\n",
    "Input: 10\n",
    "Output: True\n",
    "Explanation:\n",
    "The binary representation of 10 is: 1010."
   ]
  },
  {
   "cell_type": "markdown",
   "metadata": {},
   "source": [
    "## Solution"
   ]
  }
 ],
 "metadata": {
  "kernelspec": {
   "display_name": "Python 2",
   "language": "python",
   "name": "python2"
  },
  "language_info": {
   "codemirror_mode": {
    "name": "ipython",
    "version": 2
   },
   "file_extension": ".py",
   "mimetype": "text/x-python",
   "name": "python",
   "nbconvert_exporter": "python",
   "pygments_lexer": "ipython2",
   "version": "2.7.13"
  }
 },
 "nbformat": 4,
 "nbformat_minor": 2
}

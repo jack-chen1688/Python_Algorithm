{
 "cells": [
  {
   "cell_type": "markdown",
   "metadata": {},
   "source": [
    "# 97. Interleaving String"
   ]
  },
  {
   "cell_type": "markdown",
   "metadata": {},
   "source": [
    "Given s1, s2, s3, find whether s3 is formed by the interleaving of s1 and s2.\n",
    "\n",
    "For example,\n",
    "Given:\n",
    "s1 = \"aabcc\",\n",
    "s2 = \"dbbca\",\n",
    "\n",
    "When s3 = \"aadbbcbcac\", return true.\n",
    "When s3 = \"aadbbbaccc\", return false."
   ]
  },
  {
   "cell_type": "markdown",
   "metadata": {},
   "source": [
    "## Solution"
   ]
  },
  {
   "cell_type": "code",
   "execution_count": null,
   "metadata": {
    "collapsed": true
   },
   "outputs": [],
   "source": [
    "class Solution(object):\n",
    "    def isInterleave(self, s1, s2, s3):\n",
    "        \"\"\"\n",
    "        :type s1: str\n",
    "        :type s2: str\n",
    "        :type s3: str\n",
    "        :rtype: bool\n",
    "        \"\"\"\n",
    "\n",
    "    \n",
    "        lst = []\n",
    "        n1 = len(s1)\n",
    "        n2 = len(s2)\n",
    "        n3 = len(s3)\n",
    "        \n",
    "        s = set()\n",
    "        def solve(pos1, pos2):\n",
    "            \n",
    "            if pos1 < n1:\n",
    "                if s1[pos1] == s3[pos1+pos2]:\n",
    "                    if (pos1 + 1, pos2) not in s:\n",
    "                        if solve(pos1+1, pos2): \n",
    "                            return True\n",
    "            else:\n",
    "                if s2[pos2:] == s3[pos1+pos2:]:\n",
    "                    return True\n",
    "                    \n",
    "            if pos2 < n2: \n",
    "                if s2[pos2] == s3[pos1+pos2]:\n",
    "                    if (pos1, pos2+1) not in s:\n",
    "                        if solve(pos1, pos2+1):\n",
    "                            return True\n",
    "            else:\n",
    "                if s1[pos1:] == s3[pos1+pos2:]:\n",
    "                    return True\n",
    "                \n",
    "            s.add((pos1, pos2))\n",
    "            return False\n",
    "         \n",
    "        if n1 + n2 == n3:\n",
    "            if n3 != 0:\n",
    "                return solve(0,0)\n",
    "            else:\n",
    "                return True\n",
    "        else:\n",
    "            return False\n",
    "                "
   ]
  }
 ],
 "metadata": {
  "kernelspec": {
   "display_name": "Python 2",
   "language": "python",
   "name": "python2"
  },
  "language_info": {
   "codemirror_mode": {
    "name": "ipython",
    "version": 2
   },
   "file_extension": ".py",
   "mimetype": "text/x-python",
   "name": "python",
   "nbconvert_exporter": "python",
   "pygments_lexer": "ipython2",
   "version": "2.7.13"
  }
 },
 "nbformat": 4,
 "nbformat_minor": 2
}

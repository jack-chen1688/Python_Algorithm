{
 "cells": [
  {
   "cell_type": "markdown",
   "metadata": {},
   "source": [
    "# 238. Product of Array Except Self"
   ]
  },
  {
   "cell_type": "markdown",
   "metadata": {},
   "source": [
    "Given an array of n integers where n > 1, nums, return an array output such that output[i] is equal to the product \n",
    "of all the elements of nums except nums[i].\n",
    "\n",
    "Solve it without division and in O(n).\n",
    "\n",
    "For example, given [1,2,3,4], return [24,12,8,6].\n",
    "\n",
    "Follow up:\n",
    "Could you solve it with constant space complexity? (Note: The output array does not count as extra space for the \n",
    "purpose of space complexity analysis.)\n",
    "\n"
   ]
  },
  {
   "cell_type": "markdown",
   "metadata": {},
   "source": [
    "# Solution 1. Divide and Conquer with Time Complexity of O(nlog(n))"
   ]
  },
  {
   "cell_type": "code",
   "execution_count": null,
   "metadata": {
    "collapsed": true
   },
   "outputs": [],
   "source": [
    "class Solution(object):\n",
    "    \n",
    "                 \n",
    "    def productExceptSelf(self, nums):\n",
    "        \"\"\"\n",
    "        :type nums: List[int]\n",
    "        :rtype: List[int]\n",
    "        \"\"\"\n",
    "        \n",
    "        n = len(nums)\n",
    "        ans = [1] * n\n",
    "        \n",
    "        def productOthers(lo, hi):\n",
    "            if hi - lo == 1:\n",
    "                ans[lo], ans[hi] = ans[hi] * nums[hi], ans[hi] * nums[lo]\n",
    "                return\n",
    "        \n",
    "            mid = (lo + hi + 1)/2\n",
    "            left = reduce(lambda x,y: x*y, nums[lo:mid])\n",
    "            right = reduce(lambda x,y: x*y, nums[mid:hi+1])\n",
    "            \n",
    "            ans[mid:hi+1] = map(lambda x:x*left, ans[mid:hi+1])\n",
    "            productOthers(mid, hi)\n",
    "            if mid - lo > 1:\n",
    "                ans[lo:mid] = map(lambda x:x*right, ans[lo:mid])\n",
    "                productOthers(lo,mid-1)\n",
    "            else:\n",
    "                ans[lo] = right * ans[lo]\n",
    "            \n",
    "            return\n",
    "        \n",
    "        productOthers(0, n-1)\n",
    "        return ans\n",
    "        \n",
    "       # f(n) = n + 2f(n/2)\n",
    "       # f(n) = n + 2(n/2 + 2f(n/4)) = 2n+4f(n/4) = 2n+ 4(n/4 +2f(n/8)) = 3n+8f(n/8) = 4n+16f(n/16) = kn + 2**k *f(n/(2**k))\n",
    "        \n",
    "       # let n = 2 ** k \n",
    "       # f(n) = kn + 2**k *f(1) = kn + n = (k+1)n = nlog(n)"
   ]
  },
  {
   "cell_type": "markdown",
   "metadata": {},
   "source": [
    "## Solution 2. Another Divide and Conquer Solution of Time Complexity of O(nlog(n))"
   ]
  },
  {
   "cell_type": "code",
   "execution_count": null,
   "metadata": {
    "collapsed": true
   },
   "outputs": [],
   "source": [
    "class Solution(object):\n",
    "    \n",
    "                 \n",
    "    def productExceptSelf(self, nums):\n",
    "        \"\"\"\n",
    "        :type nums: List[int]\n",
    "        :rtype: List[int]\n",
    "        \"\"\"\n",
    "        n = len(nums)\n",
    "        \n",
    "        if n > 2:\n",
    "            lst1 = self.productExceptSelf(nums[n/2:])\n",
    "            right = lst1[0] * nums[n/2]\n",
    "\n",
    "            if n > 3:\n",
    "                lst0 = self.productExceptSelf(nums[:n/2])\n",
    "                left = lst0[0]*nums[0]\n",
    "            else:\n",
    "                lst0 = [1]\n",
    "                left = nums[0]\n",
    "\n",
    "            for i in xrange(len(lst0)):\n",
    "                lst0[i] *= right\n",
    "\n",
    "            for i in xrange(len(lst1)):\n",
    "                lst1[i] *= left\n",
    "\n",
    "            return lst0 + lst1\n",
    "\n",
    "        else:\n",
    "            return [nums[1], nums[0]]"
   ]
  },
  {
   "cell_type": "markdown",
   "metadata": {},
   "source": [
    "## Solution 3. Concise Form of Solution 2."
   ]
  },
  {
   "cell_type": "code",
   "execution_count": null,
   "metadata": {
    "collapsed": true
   },
   "outputs": [],
   "source": [
    "class Solution(object):\n",
    "    \n",
    "                 \n",
    "    def productExceptSelf(self, nums):\n",
    "        \"\"\"\n",
    "        :type nums: List[int]\n",
    "        :rtype: List[int]\n",
    "        \"\"\"\n",
    "        n = len(nums)\n",
    "        \n",
    "        if n > 1:\n",
    "            lst0, lst1 = self.productExceptSelf(nums[:n/2]), self.productExceptSelf(nums[n/2:])\n",
    "            left, right = lst0[0]*nums[0], lst1[0] * nums[n/2]\n",
    "            \n",
    "            return map(lambda x:x*right, lst0) + map(lambda x:x*left, lst1)\n",
    "\n",
    "        else:\n",
    "            return [1]"
   ]
  },
  {
   "cell_type": "markdown",
   "metadata": {},
   "source": [
    "## Solution 4. "
   ]
  },
  {
   "cell_type": "code",
   "execution_count": null,
   "metadata": {
    "collapsed": true
   },
   "outputs": [],
   "source": [
    "class Solution(object):\n",
    "    \n",
    "                 \n",
    "    def productExceptSelf(self, nums):\n",
    "        \"\"\"\n",
    "        :type nums: List[int]\n",
    "        :rtype: List[int]\n",
    "        \"\"\"\n",
    "        n = len(nums)\n",
    "        ans = [1] * n\n",
    "        \n",
    "        for i in xrange(1, n):\n",
    "            ans[i] = ans[i-1] * nums[i-1]\n",
    "        \n",
    "        x = 1\n",
    "        for i in xrange(n-2, -1, -1):\n",
    "            x *= nums[i+1]\n",
    "            ans[i] *= x\n",
    "        \n",
    "        return ans"
   ]
  }
 ],
 "metadata": {
  "kernelspec": {
   "display_name": "Python 2",
   "language": "python",
   "name": "python2"
  },
  "language_info": {
   "codemirror_mode": {
    "name": "ipython",
    "version": 2
   },
   "file_extension": ".py",
   "mimetype": "text/x-python",
   "name": "python",
   "nbconvert_exporter": "python",
   "pygments_lexer": "ipython2",
   "version": "2.7.13"
  }
 },
 "nbformat": 4,
 "nbformat_minor": 2
}

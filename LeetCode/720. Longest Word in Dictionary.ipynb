{
 "cells": [
  {
   "cell_type": "markdown",
   "metadata": {},
   "source": [
    "# 720. Longest Word in Dictionary"
   ]
  },
  {
   "cell_type": "markdown",
   "metadata": {},
   "source": [
    "Given a list of strings words representing an English Dictionary, find the longest word in words that can be built \n",
    "one character at a time by other words in words. If there is more than one possible answer, return the longest \n",
    "word with the smallest lexicographical order.\n",
    "\n",
    "If there is no answer, return the empty string.\n",
    "Example 1:\n",
    "Input: \n",
    "words = [\"w\",\"wo\",\"wor\",\"worl\", \"world\"]\n",
    "Output: \"world\"\n",
    "Explanation: \n",
    "The word \"world\" can be built one character at a time by \"w\", \"wo\", \"wor\", and \"worl\".\n",
    "Example 2:\n",
    "Input: \n",
    "words = [\"a\", \"banana\", \"app\", \"appl\", \"ap\", \"apply\", \"apple\"]\n",
    "Output: \"apple\"\n",
    "Explanation: \n",
    "Both \"apply\" and \"apple\" can be built from other words in the dictionary. However, \"apple\" is lexicographically \n",
    "smaller than \"apply\".\n",
    "Note:\n",
    "\n",
    "All the strings in the input will only contain lowercase letters.\n",
    "The length of words will be in the range [1, 1000].\n",
    "The length of words[i] will be in the range [1, 30].\n",
    "Discuss\n",
    "\n"
   ]
  },
  {
   "cell_type": "markdown",
   "metadata": {},
   "source": [
    "## Solution"
   ]
  },
  {
   "cell_type": "code",
   "execution_count": null,
   "metadata": {
    "collapsed": true
   },
   "outputs": [],
   "source": [
    "class Solution(object):\n",
    "    def longestWord(self, words):\n",
    "        \"\"\"\n",
    "        :type words: List[str]\n",
    "        :rtype: str\n",
    "        \"\"\"\n",
    "        \n",
    "        sort_words = sorted(words)\n",
    "        \n",
    "        s = set()\n",
    "        ans = \"\"\n",
    "        for word in sort_words:\n",
    "            if len(word) == 1:\n",
    "                s.add(word)\n",
    "                if ans == \"\":\n",
    "                    ans = word\n",
    "            else:\n",
    "                if word[:-1] in s:\n",
    "                    s.add(word)\n",
    "                    if len(word) > len(ans):\n",
    "                        ans = word\n",
    "        \n",
    "        return ans"
   ]
  }
 ],
 "metadata": {
  "kernelspec": {
   "display_name": "Python 2",
   "language": "python",
   "name": "python2"
  },
  "language_info": {
   "codemirror_mode": {
    "name": "ipython",
    "version": 2
   },
   "file_extension": ".py",
   "mimetype": "text/x-python",
   "name": "python",
   "nbconvert_exporter": "python",
   "pygments_lexer": "ipython2",
   "version": "2.7.13"
  }
 },
 "nbformat": 4,
 "nbformat_minor": 2
}

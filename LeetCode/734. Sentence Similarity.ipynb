{
 "cells": [
  {
   "cell_type": "markdown",
   "metadata": {},
   "source": [
    "# 734. Sentence Similarity"
   ]
  },
  {
   "cell_type": "markdown",
   "metadata": {},
   "source": [
    "\n",
    "Given two sentences words1, words2 (each represented as an array of strings), and a list of similar word pairs pairs, determine if two sentences are similar.\n",
    "\n",
    "For example, \"great acting skills\" and \"fine drama talent\" are similar, if the similar word pairs are pairs = [[\"great\", \"fine\"], [\"acting\",\"drama\"], [\"skills\",\"talent\"]].\n",
    "\n",
    "Note that the similarity relation is not transitive. For example, if \"great\" and \"fine\" are similar, and \"fine\" and \"good\" are similar, \"great\" and \"good\" are not necessarily similar.\n",
    "\n",
    "However, similarity is symmetric. For example, \"great\" and \"fine\" being similar is the same as \"fine\" and \"great\" being similar.\n",
    "\n",
    "Also, a word is always similar with itself. For example, the sentences words1 = [\"great\"], words2 = [\"great\"], pairs = [] are similar, even though there are no specified similar word pairs.\n",
    "\n",
    "Finally, sentences can only be similar if they have the same number of words. So a sentence like words1 = [\"great\"] can never be similar to words2 = [\"doubleplus\",\"good\"].\n",
    "\n",
    "Note:\n",
    "\n",
    "The length of words1 and words2 will not exceed 1000.\n",
    "The length of pairs will not exceed 2000.\n",
    "The length of each pairs[i] will be 2.\n",
    "The length of each words[i] and pairs[i][j] will be in the range [1, 20].\n"
   ]
  },
  {
   "cell_type": "markdown",
   "metadata": {},
   "source": [
    "## Solution"
   ]
  },
  {
   "cell_type": "code",
   "execution_count": null,
   "metadata": {
    "collapsed": true
   },
   "outputs": [],
   "source": [
    "class Solution(object):\n",
    "    def areSentencesSimilar(self, words1, words2, pairs):\n",
    "        \"\"\"\n",
    "        :type words1: List[str]\n",
    "        :type words2: List[str]\n",
    "        :type pairs: List[List[str]]\n",
    "        :rtype: bool\n",
    "        \"\"\"\n",
    "        \n",
    "        if len(words1) != len(words2):\n",
    "            return False\n",
    "        \n",
    "        dict = {}\n",
    "        for x, y in pairs:\n",
    "            dict.setdefault(x,[]).append(y)\n",
    "        \n",
    "        for word1, word2 in zip(words1, words2):\n",
    "            if word1 == word2: \n",
    "                continue\n",
    "            \n",
    "            elif word1 in dict and word2 in dict[word1]:\n",
    "                continue\n",
    "                \n",
    "            elif word2 in dict and word1 in dict[word2]:\n",
    "                continue\n",
    "            \n",
    "            return False\n",
    "        \n",
    "        return True\n",
    "            "
   ]
  }
 ],
 "metadata": {
  "kernelspec": {
   "display_name": "Python 2",
   "language": "python",
   "name": "python2"
  },
  "language_info": {
   "codemirror_mode": {
    "name": "ipython",
    "version": 2
   },
   "file_extension": ".py",
   "mimetype": "text/x-python",
   "name": "python",
   "nbconvert_exporter": "python",
   "pygments_lexer": "ipython2",
   "version": "2.7.13"
  }
 },
 "nbformat": 4,
 "nbformat_minor": 2
}

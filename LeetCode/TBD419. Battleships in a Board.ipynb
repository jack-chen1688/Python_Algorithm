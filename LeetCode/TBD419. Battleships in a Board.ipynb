{
 "cells": [
  {
   "cell_type": "markdown",
   "metadata": {},
   "source": [
    "# 419. Battleships in a Board"
   ]
  },
  {
   "cell_type": "markdown",
   "metadata": {},
   "source": [
    "Given an 2D board, count how many battleships are in it. The battleships are represented with 'X's, empty slots are represented with '.'s. You may assume the following rules:\n",
    "\n",
    "You receive a valid board, made of only battleships or empty slots.\n",
    "Battleships can only be placed horizontally or vertically. In other words, they can only be made of the shape 1xN (1 row, N columns) or Nx1 (N rows, 1 column), where N can be of any size.\n",
    "At least one horizontal or vertical cell separates between two battleships - there are no adjacent battleships.\n",
    "Example:\n",
    "X..X\n",
    "...X\n",
    "...X\n",
    "In the above board there are 2 battleships.\n",
    "Invalid Example:\n",
    "...X\n",
    "XXXX\n",
    "...X\n",
    "This is an invalid board that you will not receive - as battleships will always have a cell separating between them.\n",
    "Follow up:\n",
    "Could you do it in one-pass, using only O(1) extra memory and without modifying the value of the board?\n",
    "        \n"
   ]
  },
  {
   "cell_type": "markdown",
   "metadata": {},
   "source": [
    "## Solution 1. BFS Approach Using Extra Memory"
   ]
  },
  {
   "cell_type": "code",
   "execution_count": null,
   "metadata": {
    "collapsed": true
   },
   "outputs": [],
   "source": [
    "class Solution(object):\n",
    "    def countBattleships(self, board):\n",
    "        \"\"\"\n",
    "        :type board: List[List[str]]\n",
    "        :rtype: int\n",
    "        \"\"\"\n",
    "\n",
    "        n_row = len(board)\n",
    "        n_col = len(board[0])\n",
    "\n",
    "        m = list(board)\n",
    "        res = 0\n",
    "        for i in xrange(n_row):\n",
    "            for j in xrange(n_col):\n",
    "                if m[i][j] == 'X':\n",
    "                    res += 1\n",
    "                    m[i][j] = '*'\n",
    "                    pos = j+1\n",
    "                    while pos < n_col:\n",
    "                        if m[i][pos] == 'X':\n",
    "                            m[i][pos] = '*'\n",
    "                            pos += 1\n",
    "                        else:\n",
    "                            break\n",
    "                    pos = i+1\n",
    "                    while pos < n_row:\n",
    "                        if m[pos][j] == 'X':\n",
    "                            m[pos][j] = '*'\n",
    "                            pos += 1\n",
    "                        else:\n",
    "                            break\n",
    "        return res\n",
    "                    "
   ]
  }
 ],
 "metadata": {
  "kernelspec": {
   "display_name": "Python 2",
   "language": "python",
   "name": "python2"
  },
  "language_info": {
   "codemirror_mode": {
    "name": "ipython",
    "version": 2
   },
   "file_extension": ".py",
   "mimetype": "text/x-python",
   "name": "python",
   "nbconvert_exporter": "python",
   "pygments_lexer": "ipython2",
   "version": "2.7.13"
  }
 },
 "nbformat": 4,
 "nbformat_minor": 2
}

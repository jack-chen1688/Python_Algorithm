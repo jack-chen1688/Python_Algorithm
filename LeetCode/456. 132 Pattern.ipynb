{
 "cells": [
  {
   "cell_type": "markdown",
   "metadata": {},
   "source": [
    "# 456. 132 Pattern"
   ]
  },
  {
   "cell_type": "markdown",
   "metadata": {},
   "source": [
    "## Solution 1. Time Exceeded with O(n<sup>2</sup>) Complexity"
   ]
  },
  {
   "cell_type": "code",
   "execution_count": 1,
   "metadata": {
    "collapsed": true
   },
   "outputs": [],
   "source": [
    "class Solution(object):\n",
    "    def find132pattern(self, nums):\n",
    "        \"\"\"\n",
    "        :type nums: List[int]\n",
    "        :rtype: bool\n",
    "        \"\"\"\n",
    "        if len(nums) < 3:\n",
    "            return False\n",
    "        \n",
    "        intervals = []\n",
    "        \n",
    "        if nums[0] < nums[1]:\n",
    "            intervals.append([nums[0], nums[1]])\n",
    "            min_num = nums[0]\n",
    "        else:\n",
    "            min_num = nums[1]\n",
    "            \n",
    "        for num in nums[2:]:\n",
    "            expand_interval = 0\n",
    "            \n",
    "            if num <= min_num:\n",
    "                min_num = num\n",
    "            else:\n",
    "                for interval in intervals:\n",
    "                    \n",
    "                    if interval[0] < num < interval[1]:\n",
    "                        return True\n",
    "                    \n",
    "                    if num >= interval[1]:\n",
    "                        intervals.remove(interval)\n",
    "                \n",
    "                intervals.append([min_num, num])\n",
    "            \n",
    "        return False"
   ]
  },
  {
   "cell_type": "markdown",
   "metadata": {},
   "source": [
    "## Solution 2. Binary Search with O(nlogn) Time Complexity"
   ]
  },
  {
   "cell_type": "code",
   "execution_count": 2,
   "metadata": {},
   "outputs": [],
   "source": [
    "class Solution(object):\n",
    "    def find132pattern(self, nums):\n",
    "        \"\"\"\n",
    "        :type nums: List[int]\n",
    "        :rtype: bool\n",
    "        \"\"\"\n",
    "        if len(nums) < 3:\n",
    "            return False\n",
    "        \n",
    "        intervals = []\n",
    "        min_num = nums[0]\n",
    "            \n",
    "        for num in nums[1:]:\n",
    "            if num <= min_num:\n",
    "                min_num = num\n",
    "            else:\n",
    "                if not intervals or (intervals and intervals[0][1] <= num):\n",
    "                    intervals = [[min_num, num]]\n",
    "                    continue\n",
    "                    \n",
    "                start = 0\n",
    "                end = len(intervals) - 1\n",
    "                \n",
    "                while start <= end:\n",
    "                    mid = (start + end)/2 \n",
    "                    #print start, end, intervals\n",
    "                    if intervals[mid][1] < num:\n",
    "                        end = mid - 1\n",
    "                    else:\n",
    "                        start = mid + 1 \n",
    "                        \n",
    "                if intervals[mid][1] < num:\n",
    "                    mid = mid -1  \n",
    "                \n",
    "                # At this stage, intervals[mid][1] >= num > intervals[mid+1][1]\n",
    "                if intervals[mid][1] == num:\n",
    "                    intervals[:] = intervals[:mid]\n",
    "                    intervals.append([min_num, num])\n",
    "                else: \n",
    "                    # intervals[mid][1] > num > intervals[mid+1][1]\n",
    "                    if intervals[mid][0] < num:\n",
    "                        return True\n",
    "                    else:\n",
    "                        intervals[:] = intervals[:mid+1]\n",
    "                        intervals.append([min_num, num])\n",
    "                     \n",
    "        return False\n",
    "\n"
   ]
  },
  {
   "cell_type": "markdown",
   "metadata": {},
   "source": [
    "## Solution 3. Reverse Scan for 231 Pattern with Time Complexity of O(n)"
   ]
  },
  {
   "cell_type": "code",
   "execution_count": 3,
   "metadata": {
    "collapsed": true
   },
   "outputs": [],
   "source": [
    "class Solution(object):\n",
    "    def find132pattern(self, nums):\n",
    "        \"\"\"\n",
    "        :type nums: List[int]\n",
    "        :rtype: bool\n",
    "        \"\"\"\n",
    "        \n",
    "        if len(nums) < 3:\n",
    "            return False\n",
    "        \n",
    "        stack = [nums[-1]]\n",
    "        s2, s3 = None, None\n",
    "        \n",
    "        for num in nums[-2::-1]:\n",
    "            if s2 and num < s2 :\n",
    "                return True\n",
    "            elif s3 and num > s3:\n",
    "                s2 = s3\n",
    "                s3 = num\n",
    "                while stack and stack[-1] < s3:\n",
    "                        s2 = stack.pop()\n",
    "            else:\n",
    "                # (no s2 and s3) or s3 <= num <= s2\n",
    "                if not stack:\n",
    "                    stack.append(num)\n",
    "                else:\n",
    "                    if stack[-1] > num:\n",
    "                        stack.append(num)\n",
    "                    elif stack[-1] < num:\n",
    "                        s3 = num\n",
    "                        while stack and stack[-1] < s3:\n",
    "                            s2 = stack.pop()\n",
    "                    #else case: stack[-1] == num, pass\n",
    "         \n",
    "        return False\n",
    "                "
   ]
  }
 ],
 "metadata": {
  "kernelspec": {
   "display_name": "Python 2",
   "language": "python",
   "name": "python2"
  },
  "language_info": {
   "codemirror_mode": {
    "name": "ipython",
    "version": 2
   },
   "file_extension": ".py",
   "mimetype": "text/x-python",
   "name": "python",
   "nbconvert_exporter": "python",
   "pygments_lexer": "ipython2",
   "version": "2.7.13"
  }
 },
 "nbformat": 4,
 "nbformat_minor": 2
}

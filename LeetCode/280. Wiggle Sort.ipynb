{
 "cells": [
  {
   "cell_type": "markdown",
   "metadata": {},
   "source": [
    "# 280. Wiggle Sort"
   ]
  },
  {
   "cell_type": "markdown",
   "metadata": {},
   "source": [
    "Given an unsorted array nums, reorder it in-place such that nums[0] <= nums[1] >= nums[2] <= nums[3]....\n",
    "\n",
    "For example, given nums = [3, 5, 2, 1, 6, 4], one possible answer is [1, 6, 2, 5, 3, 4]."
   ]
  },
  {
   "cell_type": "markdown",
   "metadata": {},
   "source": [
    "## Solution 1. Time Exceeded`"
   ]
  },
  {
   "cell_type": "markdown",
   "metadata": {},
   "source": [
    "A Dynamic Programming Approach with O(n<sup>2</sup>) Time complexity is illustrated below.\n",
    "\n",
    "Input: [5,1,7,2,8,4,9,3] \n",
    "Step 1:  [1,5,    7,2,8,4,9,3]\n",
    "Step 2:  [1,7,5,    2,8,4,9,3]\n",
    "Step 3:  [1,7,2,5,    8,4,9,3]\n",
    "Step 4:  [1,8,2,7,5,    4,9,3]\n",
    "Step 5:  [1,8,2,7,4,5,    9,3]\n",
    "Step 6:  [1,9,2,8,4,7,5,    3]\n",
    "Step 7:  [1,9,2,8,3,7,4,5    ] ==> Done\n",
    "\n",
    "Numbers at even positions are [9,8,7,5]\n",
    "Numbers at odd positions are [1,2,3,4]\n"
   ]
  },
  {
   "cell_type": "code",
   "execution_count": null,
   "metadata": {
    "collapsed": true
   },
   "outputs": [],
   "source": [
    "class Solution(object):\n",
    "    def wiggleSort(self, nums):\n",
    "        \"\"\"\n",
    "        :type nums: List[int]\n",
    "        :rtype: void Do not return anything, modify nums in-place instead.\n",
    "        \"\"\"\n",
    "        n = len(nums)\n",
    "    \n",
    "        if n == 1:\n",
    "            return\n",
    "        \n",
    "        for i in xrange(1,n):\n",
    "\n",
    "            for j in xrange(0,i,2):\n",
    "                if nums[i] < nums[j]:\n",
    "                    #right shift nums[j]\n",
    "                    while j < i:\n",
    "                        nums[j], nums[i] = nums[i], nums[j]\n",
    "                        j += 2\n",
    "                        \n",
    "            for j in xrange(1,i,2):        \n",
    "                if nums[i] > nums[j]:\n",
    "                    while j < i:\n",
    "                        nums[j], nums[i] = nums[i], nums[j]\n",
    "                        j += 2\n",
    "        \n",
    "        return"
   ]
  },
  {
   "cell_type": "markdown",
   "metadata": {},
   "source": [
    "## Solution 2. In-place Heap Sort with Time-Complexity O(nlog(n))"
   ]
  },
  {
   "cell_type": "markdown",
   "metadata": {},
   "source": [
    "This approch uses in-place heap sort to sort the list first and then manipulate the list.\n",
    "\n",
    "Input: [5,1,7,2,8,4,9,3]\n",
    "In-place heap sort: [9,8,7,5,4,3,2,1]\n",
    "\n",
    "Now swap every two items and get [8,9,5,7,3,4,1,2]"
   ]
  },
  {
   "cell_type": "code",
   "execution_count": null,
   "metadata": {
    "collapsed": true
   },
   "outputs": [],
   "source": [
    "class Solution(object):\n",
    "    \n",
    "    \"\"\"\n",
    "    In-place heap sort such that the list will be reversely orderd. \n",
    "    \"\"\"\n",
    "    def heap_sort(self,heap):\n",
    "        n = len(heap)\n",
    "        \n",
    "        for i in xrange(n-1, -0, -1):\n",
    "            heap[0], heap[i] = heap[i], heap[0]\n",
    "            p = 0\n",
    "            \n",
    "            # 0->i-1 \n",
    "            while 1:\n",
    "                c0, c1 = 2*p + 1, 2*p+2\n",
    "                if c0 >= i:\n",
    "                    break\n",
    "                elif c1 >= i:\n",
    "                    if heap[c0] < heap[p]:\n",
    "                        heap[c0], heap[p] = heap[p], heap[c0]\n",
    "                        p = c0\n",
    "                    else:\n",
    "                        break\n",
    "                else:\n",
    "                    if heap[p] <= min(heap[c0], heap[c1]):\n",
    "                        break\n",
    "                    else:\n",
    "                        if heap[c0] <= heap[c1]:\n",
    "                            heap[p], heap[c0] = heap[c0], heap[p]\n",
    "                            p = c0\n",
    "                        else:\n",
    "                            heap[p], heap[c1] = heap[c1], heap[p]\n",
    "                            p = c1\n",
    "        return\n",
    "    \n",
    "    def wiggleSort(self, nums):\n",
    "        \"\"\"\n",
    "        :type nums: List[int]\n",
    "        :rtype: void Do not return anything, modify nums in-place instead.\n",
    "        \"\"\"\n",
    "        \n",
    "        if len(nums) <= 1:\n",
    "            return\n",
    "        \n",
    "        # We can use heapq.heapify(nums) directly\n",
    "        self.heapify(nums)\n",
    "        \n",
    "        self.heap_sort(nums)\n",
    "        \n",
    "        #print nums\n",
    "        for i in xrange(0,len(nums)-1,2):\n",
    "            nums[i], nums[i+1] = nums[i+1], nums[i]\n",
    "        \n",
    "        return"
   ]
  },
  {
   "cell_type": "markdown",
   "metadata": {},
   "source": [
    "## Solution 3. O(n) "
   ]
  },
  {
   "cell_type": "code",
   "execution_count": null,
   "metadata": {
    "collapsed": true
   },
   "outputs": [],
   "source": [
    "An algorithm that use the following two steps to do wiggle sort.\n",
    "\n",
    "Input: [2,1,7,5,4,3,9,8]\n",
    "Sort every two items: [1,2,5,7,3,4,8,9]\n",
    "Now compare two pairs X and Y at a time and swap items between X[1] and Y[0] if X[1] < Y[0].\n",
    "The result is [1,5,2,7,3,8,4,9]"
   ]
  },
  {
   "cell_type": "code",
   "execution_count": null,
   "metadata": {
    "collapsed": true
   },
   "outputs": [],
   "source": [
    "class Solution(object):\n",
    "    def wiggleSort(self, nums):\n",
    "        \"\"\"\n",
    "        :type nums: List[int]\n",
    "        :rtype: void Do not return anything, modify nums in-place instead.\n",
    "        \"\"\"\n",
    "        n = len(nums)\n",
    "        \n",
    "        for i in xrange(0,n-1,2):\n",
    "            if nums[i] > nums[i+1]:\n",
    "                nums[i], nums[i+1] = nums[i+1], nums[i]\n",
    "        \n",
    "        for i in xrange(1,n-1,2):\n",
    "            if nums[i] < nums[i+1]:\n",
    "                nums[i], nums[i+1] = nums[i+1], nums[i]\n",
    "            \n",
    "        return"
   ]
  }
 ],
 "metadata": {
  "kernelspec": {
   "display_name": "Python 2",
   "language": "python",
   "name": "python2"
  },
  "language_info": {
   "codemirror_mode": {
    "name": "ipython",
    "version": 2
   },
   "file_extension": ".py",
   "mimetype": "text/x-python",
   "name": "python",
   "nbconvert_exporter": "python",
   "pygments_lexer": "ipython2",
   "version": "2.7.13"
  }
 },
 "nbformat": 4,
 "nbformat_minor": 2
}

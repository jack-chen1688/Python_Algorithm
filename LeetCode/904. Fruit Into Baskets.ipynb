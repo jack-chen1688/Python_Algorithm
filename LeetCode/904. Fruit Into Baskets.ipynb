{
 "cells": [
  {
   "cell_type": "markdown",
   "metadata": {},
   "source": [
    "# 904. Fruit Into Baskets"
   ]
  },
  {
   "cell_type": "markdown",
   "metadata": {},
   "source": [
    "## Description"
   ]
  },
  {
   "cell_type": "markdown",
   "metadata": {},
   "source": [
    "In a row of trees, the i-th tree produces fruit with type tree[i].\n",
    "\n",
    "You start at any tree of your choice, then repeatedly perform the following steps:\n",
    "\n",
    "Add one piece of fruit from this tree to your baskets.  If you cannot, stop.\n",
    "Move to the next tree to the right of the current tree.  If there is no tree to the right, stop.\n",
    "Note that you do not have any choice after the initial choice of starting tree: you must perform step 1, then step 2, then back to step 1, then step 2, and so on until you stop.\n",
    "\n",
    "You have two baskets, and each basket can carry any quantity of fruit, but you want each basket to only carry one type of fruit each.\n",
    "\n",
    "What is the total amount of fruit you can collect with this procedure?\n",
    "\n",
    " \n",
    "\n",
    "Example 1:\n",
    "\n",
    "Input: [1,2,1]\n",
    "Output: 3\n",
    "Explanation: We can collect [1,2,1].\n",
    "Example 2:\n",
    "\n",
    "Input: [0,1,2,2]\n",
    "Output: 3\n",
    "Explanation: We can collect [1,2,2].\n",
    "If we started at the first tree, we would only collect [0, 1].\n",
    "Example 3:\n",
    "\n",
    "Input: [1,2,3,2,2]\n",
    "Output: 4\n",
    "Explanation: We can collect [2,3,2,2].\n",
    "If we started at the first tree, we would only collect [1, 2].\n",
    "Example 4:\n",
    "\n",
    "Input: [3,3,3,1,2,1,1,2,3,3,4]\n",
    "Output: 5\n",
    "Explanation: We can collect [1,2,1,1,2].\n",
    "If we started at the first tree or the eighth tree, we would only collect 4 fruits.\n",
    " \n",
    "\n",
    "Note:\n",
    "\n",
    "1 <= tree.length <= 40000\n",
    "0 <= tree[i] < tree.length"
   ]
  },
  {
   "cell_type": "markdown",
   "metadata": {},
   "source": [
    "## Solution. Time limit passed"
   ]
  },
  {
   "cell_type": "markdown",
   "metadata": {},
   "source": [
    "NOTE:\n",
    "if change\n",
    "            for i in xrange(K+1, len(tree)):\n",
    "                if tree[i] != x and tree[i] != y:\n",
    "                    break\n",
    "                if tree[i] != last:\n",
    "                    last = tree[i]\n",
    "                    rem = 0 \n",
    "                \n",
    "                cnt += 1\n",
    "                rem += 1\n",
    "to \n",
    "            for i, item in enumerate(tree[K+1:], K+1):\n",
    "                if item != x and item != y:\n",
    "                    break\n",
    "                if item != last:\n",
    "                    last = item\n",
    "                    rem = 0 \n",
    "                \n",
    "                cnt += 1\n",
    "                rem += 1\n",
    "Then time limit cannot pass, it seems that using xrange and list[i] can be faster than using enumerate when we need to use the enumerate function many times. \n"
   ]
  },
  {
   "cell_type": "code",
   "execution_count": null,
   "metadata": {
    "collapsed": true
   },
   "outputs": [],
   "source": [
    "class Solution:\n",
    "    def totalFruit(self, tree):\n",
    "        \"\"\"\n",
    "        :type tree: List[int]\n",
    "        :rtype: int\n",
    "        \"\"\"\n",
    "\n",
    "        res = 0\n",
    "        x = tree[0]\n",
    "        K = 1\n",
    "        for y in tree[1:]:\n",
    "            if y == x:\n",
    "                K += 1\n",
    "            else: \n",
    "                break\n",
    "        \n",
    "        if K == len(tree):\n",
    "            return len(tree)\n",
    "        \n",
    "        res = 0\n",
    "        last_rem = K\n",
    "        while K < len(tree):\n",
    "            y = tree[K]\n",
    "            last = y\n",
    "            rem = 1\n",
    "            cnt = 1\n",
    "            for i in xrange(K+1, len(tree)):\n",
    "                if tree[i] != x and tree[i] != y:\n",
    "                    break\n",
    "                if tree[i] != last:\n",
    "                    last = tree[i]\n",
    "                    rem = 0 \n",
    "                \n",
    "                cnt += 1\n",
    "                rem += 1\n",
    "            \n",
    "            res = max(last_rem + cnt, res)\n",
    "            last_rem = rem\n",
    "            K += cnt\n",
    "            x = tree[K-1]\n",
    "            \n",
    "        return res"
   ]
  }
 ],
 "metadata": {
  "kernelspec": {
   "display_name": "Python 2",
   "language": "python",
   "name": "python2"
  },
  "language_info": {
   "codemirror_mode": {
    "name": "ipython",
    "version": 2
   },
   "file_extension": ".py",
   "mimetype": "text/x-python",
   "name": "python",
   "nbconvert_exporter": "python",
   "pygments_lexer": "ipython2",
   "version": "2.7.13"
  }
 },
 "nbformat": 4,
 "nbformat_minor": 2
}

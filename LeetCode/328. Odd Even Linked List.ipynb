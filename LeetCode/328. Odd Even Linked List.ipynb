{
 "cells": [
  {
   "cell_type": "markdown",
   "metadata": {},
   "source": [
    "# 328. Odd Even Linked List"
   ]
  },
  {
   "cell_type": "markdown",
   "metadata": {},
   "source": [
    "Given a singly linked list, group all odd nodes together followed by the even nodes. Please note here we are \n",
    "talking about the node number and not the value in the nodes.\n",
    "\n",
    "You should try to do it in place. The program should run in O(1) space complexity and O(nodes) time complexity.\n",
    "\n",
    "Example:\n",
    "Given 1->2->3->4->5->NULL,\n",
    "return 1->3->5->2->4->NULL.\n",
    "\n",
    "Note:\n",
    "The relative order inside both the even and odd groups should remain as it was in the input. \n",
    "The first node is considered odd, the second node even and so on ...\n",
    "\n",
    "Credits:\n",
    "Special thanks to @DjangoUnchained for adding this problem and creating all test cases."
   ]
  },
  {
   "cell_type": "markdown",
   "metadata": {},
   "source": [
    "## Solution"
   ]
  },
  {
   "cell_type": "code",
   "execution_count": null,
   "metadata": {
    "collapsed": true
   },
   "outputs": [],
   "source": [
    "# Definition for singly-linked list.\n",
    "# class ListNode(object):\n",
    "#     def __init__(self, x):\n",
    "#         self.val = x\n",
    "#         self.next = None\n",
    "\n",
    "class Solution(object):\n",
    "    def oddEvenList(self, head):\n",
    "        \"\"\"\n",
    "        :type head: ListNode\n",
    "        :rtype: ListNode\n",
    "        \"\"\"\n",
    "        \"\"\"\n",
    "        1 2 3 4 \n",
    "        1 3 2 4\n",
    "        \n",
    "        1 2 3\n",
    "        1 3 2 \n",
    "        \"\"\"\n",
    "        if head != None and head.next != None:\n",
    "            headO, nodeO = head, head\n",
    "            headE, nodeE = head.next, head.next\n",
    "            \n",
    "            while nodeE:\n",
    "                if nodeE.next:\n",
    "                    nodeO.next = nodeE.next\n",
    "                    nodeE.next = nodeE.next.next\n",
    "                else:\n",
    "                    nodeO.next = headE\n",
    "                    break\n",
    "\n",
    "                nodeO = nodeO.next\n",
    "                nodeE = nodeE.next\n",
    "                if nodeE == None:\n",
    "                    nodeO.next = headE\n",
    "                \n",
    "            return headO\n",
    "        else:\n",
    "            return head"
   ]
  }
 ],
 "metadata": {
  "kernelspec": {
   "display_name": "Python 2",
   "language": "python",
   "name": "python2"
  },
  "language_info": {
   "codemirror_mode": {
    "name": "ipython",
    "version": 2
   },
   "file_extension": ".py",
   "mimetype": "text/x-python",
   "name": "python",
   "nbconvert_exporter": "python",
   "pygments_lexer": "ipython2",
   "version": "2.7.13"
  }
 },
 "nbformat": 4,
 "nbformat_minor": 2
}

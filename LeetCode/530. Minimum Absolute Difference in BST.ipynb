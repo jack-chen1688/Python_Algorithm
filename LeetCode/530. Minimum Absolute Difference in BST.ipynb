{
 "cells": [
  {
   "cell_type": "markdown",
   "metadata": {},
   "source": [
    "# 530. Minimum Absolute Difference in BST"
   ]
  },
  {
   "cell_type": "markdown",
   "metadata": {},
   "source": [
    "\n",
    "Given a binary search tree with non-negative values, find the minimum absolute difference between values of any two nodes.\n",
    "\n",
    "Example:\n",
    "\n",
    "Input:\n",
    "\n",
    "   1\n",
    "    \\\n",
    "     3\n",
    "    /\n",
    "   2\n",
    "\n",
    "Output:\n",
    "1\n",
    "\n",
    "Explanation:\n",
    "The minimum absolute difference is 1, which is the difference between 2 and 1 (or between 2 and 3).\n",
    "Note: There are at least two nodes in this BST."
   ]
  },
  {
   "cell_type": "markdown",
   "metadata": {},
   "source": [
    "## Solution"
   ]
  },
  {
   "cell_type": "code",
   "execution_count": null,
   "metadata": {
    "collapsed": true
   },
   "outputs": [],
   "source": [
    "# Definition for a binary tree node.\n",
    "# class TreeNode(object):\n",
    "#     def __init__(self, x):\n",
    "#         self.val = x\n",
    "#         self.left = None\n",
    "#         self.right = None\n",
    "\n",
    "class Solution(object):\n",
    "\n",
    "    def __init__(self):\n",
    "        self.min_dis = float(\"inf\")\n",
    "        \n",
    "    def getMinimumDifference(self, root):\n",
    "        \"\"\"\n",
    "        :type root: TreeNode\n",
    "        :rtype: int\n",
    "        \"\"\"\n",
    "        lst = []\n",
    "        def dfs(root):\n",
    "            if root == None:\n",
    "                return\n",
    "            \n",
    "            dfs(root.left)\n",
    "            lst.append(root.val)\n",
    "            dfs(root.right)\n",
    "        \n",
    "        dfs(root)\n",
    "        \n",
    "        res = float(\"Inf\")\n",
    "        \n",
    "        for i in xrange(len(lst)-1):\n",
    "            res = min(lst[i+1] - lst[i], res)\n",
    "            \n",
    "        return res"
   ]
  }
 ],
 "metadata": {
  "kernelspec": {
   "display_name": "Python 2",
   "language": "python",
   "name": "python2"
  },
  "language_info": {
   "codemirror_mode": {
    "name": "ipython",
    "version": 2
   },
   "file_extension": ".py",
   "mimetype": "text/x-python",
   "name": "python",
   "nbconvert_exporter": "python",
   "pygments_lexer": "ipython2",
   "version": "2.7.13"
  }
 },
 "nbformat": 4,
 "nbformat_minor": 2
}

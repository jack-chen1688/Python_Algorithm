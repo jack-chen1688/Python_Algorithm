{
 "cells": [
  {
   "cell_type": "markdown",
   "metadata": {},
   "source": [
    "# 463. Island Perimeter"
   ]
  },
  {
   "cell_type": "code",
   "execution_count": null,
   "metadata": {
    "collapsed": true
   },
   "outputs": [],
   "source": [
    "You are given a map in form of a two-dimensional integer grid where 1 represents land and 0 represents water. Grid cells are connected horizontally/vertically (not diagonally). The grid is completely surrounded by water, and there is exactly one island (i.e., one or more connected land cells). The island doesn't have \"lakes\" (water inside that isn't connected to the water around the island). One cell is a square with side length 1. The grid is rectangular, width and height don't exceed 100. Determine the perimeter of the island.\n",
    "\n",
    "Example:\n",
    "\n",
    "[[0,1,0,0],\n",
    " [1,1,1,0],\n",
    " [0,1,0,0],\n",
    " [1,1,0,0]]\n",
    "\n",
    "Answer: 16\n",
    "Explanation: The perimeter is the 16 yellow stripes in the image below:\n",
    "\n"
   ]
  },
  {
   "cell_type": "markdown",
   "metadata": {},
   "source": [
    "## Solution"
   ]
  },
  {
   "cell_type": "code",
   "execution_count": null,
   "metadata": {
    "collapsed": true
   },
   "outputs": [],
   "source": [
    "class Solution(object):\n",
    "    \n",
    "    def islandPerimeter(self, grid):\n",
    "        \"\"\"\n",
    "        :type grid: List[List[int]]\n",
    "        :rtype: int\n",
    "        \"\"\"\n",
    "\n",
    "        if grid == [[]]:\n",
    "            return 0\n",
    "        \n",
    "        num_row = len(grid)\n",
    "        num_col = len(grid[0])\n",
    "            \n",
    "        for i, row in enumerate(grid):\n",
    "            for j, num in enumerate(row):\n",
    "                if num == 1:\n",
    "                    lst = [(i, j)]\n",
    "                    node_set = set()\n",
    "                    node_set.add((i,j))\n",
    "                    per = 0\n",
    "                    while lst != []:\n",
    "                        nxt_lst = []\n",
    "\n",
    "                        for x, y in lst:\n",
    "                            per += 4\n",
    "                            if x != 0 and grid[x-1][y] == 1: \n",
    "                                per -= 1\n",
    "                                if (x-1, y) not in node_set:\n",
    "                                    nxt_lst.append((x-1,y))\n",
    "                                    node_set.add((x-1,y))\n",
    "                            if x != num_row - 1 and grid[x+1][y] == 1: \n",
    "                                per -= 1\n",
    "                                if (x+1,y) not in node_set:\n",
    "                                    nxt_lst.append((x+1,y))\n",
    "                                    node_set.add((x+1,y))\n",
    "                            if y != 0 and grid[x][y-1] == 1: \n",
    "                                per -= 1\n",
    "                                if (x,y-1) not in node_set:\n",
    "                                    nxt_lst.append((x, y-1))\n",
    "                                    node_set.add((x,y-1))\n",
    "                            if y != num_col -1 and grid[x][y+1] == 1:\n",
    "                                per -= 1\n",
    "                                if (x, y+1) not in node_set:\n",
    "                                    nxt_lst.append((x, y+1))\n",
    "                                    node_set.add((x,y+1))\n",
    "                        \n",
    "                        lst = nxt_lst\n",
    "                        #print lst, per\n",
    "                        \n",
    "                    return per\n",
    "        \n",
    "        return 0"
   ]
  }
 ],
 "metadata": {
  "kernelspec": {
   "display_name": "Python 2",
   "language": "python",
   "name": "python2"
  },
  "language_info": {
   "codemirror_mode": {
    "name": "ipython",
    "version": 2
   },
   "file_extension": ".py",
   "mimetype": "text/x-python",
   "name": "python",
   "nbconvert_exporter": "python",
   "pygments_lexer": "ipython2",
   "version": "2.7.13"
  }
 },
 "nbformat": 4,
 "nbformat_minor": 2
}

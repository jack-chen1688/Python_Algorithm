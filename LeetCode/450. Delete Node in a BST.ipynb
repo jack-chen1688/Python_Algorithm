{
 "cells": [
  {
   "cell_type": "markdown",
   "metadata": {},
   "source": [
    "# 450. Delete Node in a BST"
   ]
  },
  {
   "cell_type": "markdown",
   "metadata": {},
   "source": [
    "\n",
    "Given a root node reference of a BST and a key, delete the node with the given key in the BST. Return the root node reference (possibly updated) of the BST.\n",
    "\n",
    "Basically, the deletion can be divided into two stages:\n",
    "\n",
    "Search for a node to remove.\n",
    "If the node is found, delete the node.\n",
    "Note: Time complexity should be O(height of tree).\n",
    "\n",
    "Example:\n",
    "\n",
    "root = [5,3,6,2,4,null,7]\n",
    "key = 3\n",
    "\n",
    "    5\n",
    "   / \\\n",
    "  3   6\n",
    " / \\   \\\n",
    "2   4   7\n",
    "\n",
    "Given key to delete is 3. So we find the node with value 3 and delete it.\n",
    "\n",
    "One valid answer is [5,4,6,2,null,null,7], shown in the following BST.\n",
    "\n",
    "    5\n",
    "   / \\\n",
    "  4   6\n",
    " /     \\\n",
    "2       7\n",
    "\n",
    "Another valid answer is [5,2,6,null,4,null,7].\n",
    "\n",
    "    5\n",
    "   / \\\n",
    "  2   6\n",
    "   \\   \\\n",
    "    4   7"
   ]
  },
  {
   "cell_type": "markdown",
   "metadata": {},
   "source": [
    "## Solution 1."
   ]
  },
  {
   "cell_type": "code",
   "execution_count": null,
   "metadata": {
    "collapsed": true
   },
   "outputs": [],
   "source": [
    "# Definition for a binary tree node.\n",
    "# class TreeNode(object):\n",
    "#     def __init__(self, x):\n",
    "#         self.val = x\n",
    "#         self.left = None\n",
    "#         self.right = None\n",
    "\n",
    "class Solution(object):\n",
    "    def deleteNode(self, root, key):\n",
    "        \"\"\"\n",
    "        :type root: TreeNode\n",
    "        :type key: int\n",
    "        :rtype: TreeNode\n",
    "        \"\"\"\n",
    "        \n",
    "        # find the node with the key\n",
    "        node = root\n",
    "        prev = None\n",
    "\n",
    "        while node and node.val != key:\n",
    "            if node.val > key:\n",
    "                prev, node = node, node.left\n",
    "            else:\n",
    "                prev, node = node, node.right\n",
    "        \n",
    "        if node == None:\n",
    "            return root\n",
    "        \n",
    "        if node.left == None and node.right == None:\n",
    "            if root == node:\n",
    "                return None\n",
    "            else:\n",
    "                if prev.left == node:\n",
    "                    prev.left = None\n",
    "                else:\n",
    "                    prev.right = None\n",
    "                return root\n",
    "            \n",
    "        # delete the node\n",
    "        elif node.left:\n",
    "            prev, node1 = node.left, node.left.right\n",
    "            while node1 and node1.right:\n",
    "                prev, node1 = node1, node1.right\n",
    "            \n",
    "            if node1:\n",
    "                node.val = node1.val\n",
    "                prev.right = node1.left\n",
    "            else:\n",
    "                node.val = node.left.val\n",
    "                node.left = node.left.left\n",
    "                \n",
    "        elif node.right:\n",
    "            node.val = node.right.val\n",
    "            node.left = node.right.left\n",
    "            node.right = node.right.right\n",
    "            \n",
    "        return root\n",
    "            "
   ]
  }
 ],
 "metadata": {
  "kernelspec": {
   "display_name": "Python 2",
   "language": "python",
   "name": "python2"
  },
  "language_info": {
   "codemirror_mode": {
    "name": "ipython",
    "version": 2
   },
   "file_extension": ".py",
   "mimetype": "text/x-python",
   "name": "python",
   "nbconvert_exporter": "python",
   "pygments_lexer": "ipython2",
   "version": "2.7.13"
  }
 },
 "nbformat": 4,
 "nbformat_minor": 2
}

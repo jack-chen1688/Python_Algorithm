{
 "cells": [
  {
   "cell_type": "markdown",
   "metadata": {},
   "source": [
    "# 683. K Empty Slots"
   ]
  },
  {
   "cell_type": "markdown",
   "metadata": {},
   "source": [
    "There is a garden with N slots. In each slot, there is a flower. The N flowers will bloom one by one in N days. In each day, there will be exactly one flower blooming and it will be in the status of blooming since then.\n",
    "\n",
    "Given an array flowers consists of number from 1 to N. Each number in the array represents the place where the flower will open in that day.\n",
    "\n",
    "For example, flowers[i] = x means that the unique flower that blooms at day i will be at position x, where i and x will be in the range from 1 to N.\n",
    "\n",
    "Also given an integer k, you need to output in which day there exists two flowers in the status of blooming, and also the number of flowers between them is k and these flowers are not blooming.\n",
    "\n",
    "If there isn't such day, output -1.\n",
    "\n",
    "Example 1:\n",
    "Input: \n",
    "flowers: [1,3,2]\n",
    "k: 1\n",
    "Output: 2\n",
    "Explanation: In the second day, the first and the third flower have become blooming.\n",
    "Example 2:\n",
    "Input: \n",
    "flowers: [1,2,3]\n",
    "k: 1\n",
    "Output: -1\n",
    "Note:\n",
    "The given array will be in the range [1, 20000]."
   ]
  },
  {
   "cell_type": "markdown",
   "metadata": {},
   "source": [
    "## Solution 1. Use bisect with Time Complexity of O(n<sup>2</sup>)"
   ]
  },
  {
   "cell_type": "markdown",
   "metadata": {},
   "source": [
    "In the implementation, the operation of bisect_left have a time complexity of O(log(n)).\n",
    "But the insert operation to the list have a time complexity of O(n) for each operations. So the time complexity is still O(n<sup>2</sup>)"
   ]
  },
  {
   "cell_type": "code",
   "execution_count": null,
   "metadata": {
    "collapsed": true
   },
   "outputs": [],
   "source": [
    "class Solution(object):\n",
    "    def kEmptySlots(self, flowers, k):\n",
    "        \"\"\"\n",
    "        :type flowers: List[int]\n",
    "        :type k: int\n",
    "        :rtype: int\n",
    "        \"\"\"\n",
    "        \n",
    "        lst = []\n",
    "        for day, flower in enumerate(flowers):\n",
    "            \n",
    "            i = bisect.bisect_left(lst, flower, start = 1)                \n",
    "            if i > 0: \n",
    "                if flower - lst[i-1] == k+1:\n",
    "                    return day\n",
    "\n",
    "            if i < len(lst):\n",
    "                if lst[i] - flower  == k+1:\n",
    "                    return day\n",
    "\n",
    "            lst.insert(i, flower)\n",
    "                \n",
    "        return -1\n",
    "                "
   ]
  },
  {
   "cell_type": "markdown",
   "metadata": {},
   "source": [
    "## Solution 2. A Minor Variant of Solution 1."
   ]
  },
  {
   "cell_type": "code",
   "execution_count": null,
   "metadata": {
    "collapsed": true
   },
   "outputs": [],
   "source": [
    "class Solution(object):\n",
    "    def kEmptySlots(self, flowers, k):\n",
    "        \"\"\"\n",
    "        :type flowers: List[int]\n",
    "        :type k: int\n",
    "        :rtype: int\n",
    "        \"\"\"\n",
    "        \n",
    "        lst = []\n",
    "        for day, flower in enumerate(flowers):\n",
    "            \n",
    "            i = bisect.bisect_left(lst, flower, start = 1)                \n",
    "            for flower in flowers[i-(i>0): i+1]:\n",
    "                if abs(lst[i] - flower)  == k+1:\n",
    "                    return day\n",
    "\n",
    "            lst.insert(i, flower)\n",
    "                \n",
    "        return -1\n",
    "                "
   ]
  }
 ],
 "metadata": {
  "kernelspec": {
   "display_name": "Python 2",
   "language": "python",
   "name": "python2"
  },
  "language_info": {
   "codemirror_mode": {
    "name": "ipython",
    "version": 2
   },
   "file_extension": ".py",
   "mimetype": "text/x-python",
   "name": "python",
   "nbconvert_exporter": "python",
   "pygments_lexer": "ipython2",
   "version": "2.7.13"
  }
 },
 "nbformat": 4,
 "nbformat_minor": 2
}

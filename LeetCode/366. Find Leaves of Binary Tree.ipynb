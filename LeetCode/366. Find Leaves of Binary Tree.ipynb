{
 "cells": [
  {
   "cell_type": "markdown",
   "metadata": {},
   "source": [
    "# 366. Find Leaves of Binary Tree"
   ]
  },
  {
   "cell_type": "markdown",
   "metadata": {},
   "source": [
    "Given a binary tree, collect a tree's nodes as if you were doing this: Collect and remove all leaves, repeat until the tree is empty.\n",
    "\n",
    "Example:\n",
    "Given binary tree \n",
    "          1\n",
    "         / \\\n",
    "        2   3\n",
    "       / \\     \n",
    "      4   5    \n",
    "Returns [4, 5, 3], [2], [1].\n",
    "\n",
    "Explanation:\n",
    "1. Removing the leaves [4, 5, 3] would result in this tree:\n",
    "\n",
    "          1\n",
    "         / \n",
    "        2          \n",
    "2. Now removing the leaf [2] would result in this tree:\n",
    "\n",
    "          1          \n",
    "3. Now removing the leaf [1] would result in the empty tree:\n",
    "\n",
    "          []         \n",
    "Returns [4, 5, 3], [2], [1].\n",
    "\n",
    "Credits:\n",
    "Special thanks to @elmirap for adding this problem and creating all test cases.\n",
    "\n"
   ]
  },
  {
   "cell_type": "markdown",
   "metadata": {},
   "source": [
    "## Solution."
   ]
  },
  {
   "cell_type": "code",
   "execution_count": null,
   "metadata": {
    "collapsed": true
   },
   "outputs": [],
   "source": [
    "# Definition for a binary tree node.\n",
    "# class TreeNode(object):\n",
    "#     def __init__(self, x):\n",
    "#         self.val = x\n",
    "#         self.left = None\n",
    "#         self.right = None\n",
    "\n",
    "class Solution(object):\n",
    "    def findLeaves(self, root):\n",
    "        \"\"\"\n",
    "        :type root: TreeNode\n",
    "        :rtype: List[List[int]]\n",
    "        \"\"\"\n",
    "        if root == None:\n",
    "            return []\n",
    "        \n",
    "        dict = {}\n",
    "        def dfs(root):\n",
    "            if root == None:\n",
    "                return\n",
    "\n",
    "            dict[root] = 1\n",
    "            if root.left:\n",
    "                dfs(root.left)\n",
    "                dict[root] = dict[root.left] + 1\n",
    "\n",
    "            if root.right:\n",
    "                dfs(root.right)  \n",
    "                dict[root] = max(dict[root.right]+1, dict[root])\n",
    "        \n",
    "        dfs(root)\n",
    "        lst = [[] for i in range(dict[root])]\n",
    "        \n",
    "        for key, val in dict.iteritems():\n",
    "            lst[val-1].append(key.val)\n",
    "        \n",
    "        return lst"
   ]
  }
 ],
 "metadata": {
  "kernelspec": {
   "display_name": "Python 2",
   "language": "python",
   "name": "python2"
  },
  "language_info": {
   "codemirror_mode": {
    "name": "ipython",
    "version": 2
   },
   "file_extension": ".py",
   "mimetype": "text/x-python",
   "name": "python",
   "nbconvert_exporter": "python",
   "pygments_lexer": "ipython2",
   "version": "2.7.13"
  }
 },
 "nbformat": 4,
 "nbformat_minor": 2
}

{
 "cells": [
  {
   "cell_type": "markdown",
   "metadata": {},
   "source": [
    "# 7. Reverse Integer"
   ]
  },
  {
   "cell_type": "markdown",
   "metadata": {},
   "source": [
    "Reverse digits of an integer.\n",
    "\n",
    "Example1: x = 123, return 321\n",
    "Example2: x = -123, return -321\n",
    "\n",
    "click to show spoilers.\n",
    "\n",
    "Note:\n",
    "The input is assumed to be a 32-bit signed integer. Your function should return 0 when the reversed integer overflows."
   ]
  },
  {
   "cell_type": "markdown",
   "metadata": {},
   "source": [
    "## Solution"
   ]
  },
  {
   "cell_type": "code",
   "execution_count": 1,
   "metadata": {},
   "outputs": [
    {
     "name": "stdout",
     "output_type": "stream",
     "text": [
      "2147483647\n",
      "-7654321\n",
      "0\n"
     ]
    }
   ],
   "source": [
    "class Solution(object):\n",
    "    def reverse(self, x):\n",
    "        \"\"\"\n",
    "        :type x: int\n",
    "        :rtype: int\n",
    "        \"\"\"\n",
    "        \n",
    "        # Input assumed, so no need to check this\n",
    "        #if x <= -2**31 or x > 2**31-1:\n",
    "        #    return 0\n",
    "\n",
    "        str_x = str(abs(x))[::-1]\n",
    "        if x < 0:\n",
    "            str_x = \"-\" + str_x\n",
    "        \n",
    "        # int(str_x) will automatically convert to long type for recent python versions.\n",
    "        # In python, long can represent a integer number of any size as long as your computer\n",
    "        # does not run out of memory.\n",
    "        # https://mail.python.org/pipermail/tutor/2003-July/023803.html\n",
    "        # so below is OK\n",
    "        # result = int(str_x)\n",
    "        # But to make things even clearer. We can use long().\n",
    "        result = long(str_x)\n",
    "        \n",
    "        if result <= -2**31 or result > 2**31-1:\n",
    "            return 0 \n",
    "        else:\n",
    "            return result        \n",
    "\n",
    "def main():\n",
    "    print 2**31 - 1\n",
    "    \n",
    "    print Solution().reverse(-1234567)\n",
    "    print Solution().reverse(2**31)\n",
    "    #print Solution().reverse(7463847412)\n",
    "if __name__ == \"__main__\":\n",
    "    main()"
   ]
  }
 ],
 "metadata": {
  "kernelspec": {
   "display_name": "Python 2",
   "language": "python",
   "name": "python2"
  },
  "language_info": {
   "codemirror_mode": {
    "name": "ipython",
    "version": 2
   },
   "file_extension": ".py",
   "mimetype": "text/x-python",
   "name": "python",
   "nbconvert_exporter": "python",
   "pygments_lexer": "ipython2",
   "version": "2.7.13"
  }
 },
 "nbformat": 4,
 "nbformat_minor": 2
}

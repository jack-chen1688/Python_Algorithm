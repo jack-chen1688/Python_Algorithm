{
 "cells": [
  {
   "cell_type": "markdown",
   "metadata": {},
   "source": [
    "# 447. Number of Boomerangs"
   ]
  },
  {
   "cell_type": "markdown",
   "metadata": {},
   "source": [
    "Given n points in the plane that are all pairwise distinct, a \"boomerang\" is a tuple of points (i, j, k) such that the distance between i and j equals the distance between i and k (the order of the tuple matters).\n",
    "\n",
    "Find the number of boomerangs. You may assume that n will be at most 500 and coordinates of points are all in the range [-10000, 10000] (inclusive).\n",
    "\n",
    "Example:\n",
    "Input:\n",
    "[[0,0],[1,0],[2,0]]\n",
    "\n",
    "Output:\n",
    "2\n",
    "\n",
    "Explanation:\n",
    "The two boomerangs are [[1,0],[0,0],[2,0]] and [[1,0],[2,0],[0,0]]"
   ]
  },
  {
   "cell_type": "markdown",
   "metadata": {},
   "source": [
    "## Solution 1. Space Limit Exceeded"
   ]
  },
  {
   "cell_type": "code",
   "execution_count": null,
   "metadata": {
    "collapsed": true
   },
   "outputs": [],
   "source": [
    "class Solution(object):\n",
    "    \n",
    "    def numberOfBoomerangs(self, points):\n",
    "        \"\"\"\n",
    "        :type points: List[List[int]]\n",
    "        :rtype: int\n",
    "        \"\"\"\n",
    "        \n",
    "        \n",
    "        def distance(point0, point1):\n",
    "            return (point0[0] - point1[0]) ** 2 + (point0[1] - point1[1]) ** 2\n",
    "        \n",
    "        dict = {}\n",
    "        n = len(points)\n",
    "        \n",
    "        for i in xrange(n-1):\n",
    "            for j in xrange(i+1,n):\n",
    "                dist = distance(points[i], points[j])\n",
    "                dict[(i,dist)] = dict.get((i,dist), 0) + 1\n",
    "                dict[(j,dist)] = dict.get((j,dist), 0) + 1\n",
    "            \n",
    "        res = 0\n",
    "        for cnt in dict.values():\n",
    "            # P(cnt,2)\n",
    "            res += cnt*(cnt-1)\n",
    "        \n",
    "        return res"
   ]
  },
  {
   "cell_type": "markdown",
   "metadata": {},
   "source": [
    "## Solution 2. Use Matrix  to Save Space"
   ]
  },
  {
   "cell_type": "code",
   "execution_count": null,
   "metadata": {
    "collapsed": true
   },
   "outputs": [],
   "source": [
    "class Solution(object):\n",
    "    \n",
    "    def numberOfBoomerangs(self, points):\n",
    "        \"\"\"\n",
    "        :type points: List[List[int]]\n",
    "        :rtype: int\n",
    "        \"\"\"\n",
    "        \n",
    "        \n",
    "        def distance(point0, point1):\n",
    "            return (point0[0] - point1[0]) ** 2 + (point0[1] - point1[1]) ** 2\n",
    "        \n",
    "        dict = {}\n",
    "        n = len(points)\n",
    "        \n",
    "        matrix = [[0 for i in xrange(n)] for i in xrange(n)]\n",
    "        for i in xrange(n-1):\n",
    "            for j in xrange(i+1,n):\n",
    "                matrix[i][j] = matrix[j][i] = distance(points[i], points[j])\n",
    "        \n",
    "        res = 0\n",
    "        for row in matrix:\n",
    "            dict = {}\n",
    "            for dist in row:\n",
    "                dict[dist] = dict.get(dist, 0) + 1\n",
    "            \n",
    "            for value in dict.values():\n",
    "                res += value * (value-1)\n",
    "                \n",
    "        return res"
   ]
  }
 ],
 "metadata": {
  "kernelspec": {
   "display_name": "Python 2",
   "language": "python",
   "name": "python2"
  },
  "language_info": {
   "codemirror_mode": {
    "name": "ipython",
    "version": 2
   },
   "file_extension": ".py",
   "mimetype": "text/x-python",
   "name": "python",
   "nbconvert_exporter": "python",
   "pygments_lexer": "ipython2",
   "version": "2.7.13"
  }
 },
 "nbformat": 4,
 "nbformat_minor": 2
}

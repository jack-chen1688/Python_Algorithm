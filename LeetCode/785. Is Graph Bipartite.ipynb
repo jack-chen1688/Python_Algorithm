{
 "cells": [
  {
   "cell_type": "markdown",
   "metadata": {},
   "source": [
    "# 785. Is Graph Bipartite?"
   ]
  },
  {
   "cell_type": "markdown",
   "metadata": {},
   "source": [
    "\n",
    "Given a graph, return true if and only if it is bipartite.\n",
    "\n",
    "Recall that a graph is bipartite if we can split it's set of nodes into two independent subsets A and B such that every edge in the graph has one node in A and another node in B.\n",
    "\n",
    "The graph is given in the following form: graph[i] is a list of indexes j for which the edge between nodes i and j exists.  Each node is an integer between 0 and graph.length - 1.  There are no self edges or parallel edges: graph[i] does not contain i, and it doesn't contain any element twice.\n",
    "\n",
    "Example 1:\n",
    "Input: [[1,3], [0,2], [1,3], [0,2]]\n",
    "Output: true\n",
    "Explanation: \n",
    "The graph looks like this:\n",
    "0----1\n",
    "|    |\n",
    "|    |\n",
    "3----2\n",
    "We can divide the vertices into two groups: {0, 2} and {1, 3}.\n",
    "Example 2:\n",
    "Input: [[1,2,3], [0,2], [0,1,3], [0,2]]\n",
    "Output: false\n",
    "Explanation: \n",
    "The graph looks like this:\n",
    "0----1\n",
    "| \\  |\n",
    "|  \\ |\n",
    "3----2\n",
    "We cannot find a way to divide the set of nodes into two independent ubsets.\n",
    " \n",
    "\n",
    "Note:\n",
    "\n",
    "graph will have length in range [1, 100].\n",
    "graph[i] will contain integers in range [0, graph.length - 1].\n",
    "graph[i] will not contain i or duplicate values."
   ]
  },
  {
   "cell_type": "markdown",
   "metadata": {},
   "source": [
    "## Solution"
   ]
  },
  {
   "cell_type": "code",
   "execution_count": null,
   "metadata": {
    "collapsed": true
   },
   "outputs": [],
   "source": [
    "class Solution(object):\n",
    "    def isBipartite(self, graph):\n",
    "        \"\"\"\n",
    "        :type graph: List[List[int]]\n",
    "        :rtype: bool\n",
    "        \"\"\"\n",
    "        \n",
    "        def divideGraph(i):\n",
    "            s0, s0_added = {i}, {i}\n",
    "            s1, s1_added = set(), set()\n",
    "            add_set = 1\n",
    "            while s0_added or s1_added:\n",
    "                if add_set == 0:\n",
    "                    s0_added = set()\n",
    "                    for i in s1_added:\n",
    "                        for j in graph[i]:\n",
    "                            if j in s1:\n",
    "                                return False\n",
    "                            elif j not in s0:\n",
    "                                s0.add(j)\n",
    "                                s0_added.add(j)\n",
    "                                \n",
    "                    add_set = 1\n",
    "                    s1_added = set()\n",
    "                else:\n",
    "                    s1_added = set()\n",
    "                    for i in s0_added:\n",
    "                        for j in graph[i]:\n",
    "                            if j in s0:\n",
    "                                return False\n",
    "                            elif j not in s1:\n",
    "                                s1.add(j)\n",
    "                                s1_added.add(j)\n",
    "                    add_set = 0\n",
    "                    s0_added = set()\n",
    "\n",
    "            for i in s0 | s1:\n",
    "                graph[i] = []\n",
    "            return True\n",
    "        \n",
    "        \n",
    "        for i, nodes in enumerate(graph):\n",
    "            if nodes:\n",
    "                res = divideGraph(i)\n",
    "                if not res:\n",
    "                    return False\n",
    "        return True\n",
    "            "
   ]
  },
  {
   "cell_type": "markdown",
   "metadata": {},
   "source": [
    "## Solution 2: Use union-find data structure"
   ]
  },
  {
   "cell_type": "code",
   "execution_count": null,
   "metadata": {},
   "outputs": [],
   "source": [
    "\"\"\"\n",
    "if x and y belong to two subsets, put x and y+N will be in a set. Also we put y and x+N in a set.\n",
    "\"\"\"\n",
    "\n",
    "class Solution:\n",
    "    def isBipartite(self, graph):\n",
    "        \"\"\"\n",
    "        :type graph: List[List[int]]\n",
    "        :rtype: bool\n",
    "        \"\"\"\n",
    "        def unite(x,y):\n",
    "            x, y = find(x), find(y)\n",
    "            if x != y:\n",
    "                if rank[x] < rank[y]:\n",
    "                    A[x] = y\n",
    "                else:\n",
    "                    A[y] = x\n",
    "                    if rank[x] == rank[y]:\n",
    "                        rank[x] += 1\n",
    "\n",
    "        def find(x):\n",
    "            if A[x] != x:\n",
    "                A[x] = find(A[x])\n",
    "            \n",
    "            return A[x] \n",
    "        \n",
    "        def same(x,y):\n",
    "            return find(x) == find(y)\n",
    "\n",
    "        N = len(graph)\n",
    "        A = list(range(2*N))\n",
    "        rank = [1] * (2*N)\n",
    "        \n",
    "        for i, lst in enumerate(graph):\n",
    "            for x in lst:\n",
    "                if same(i, x):\n",
    "                    return False\n",
    "                else:\n",
    "                    unite(i, x+N)\n",
    "                    unite(x, i+N)\n",
    "                    \n",
    "        return True"
   ]
  }
 ],
 "metadata": {
  "kernelspec": {
   "display_name": "Python 3",
   "language": "python",
   "name": "python3"
  },
  "language_info": {
   "codemirror_mode": {
    "name": "ipython",
    "version": 3
   },
   "file_extension": ".py",
   "mimetype": "text/x-python",
   "name": "python",
   "nbconvert_exporter": "python",
   "pygments_lexer": "ipython3",
   "version": "3.7.0"
  }
 },
 "nbformat": 4,
 "nbformat_minor": 2
}

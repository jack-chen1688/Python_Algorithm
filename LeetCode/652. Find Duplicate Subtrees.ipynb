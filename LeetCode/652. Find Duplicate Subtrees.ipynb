{
 "cells": [
  {
   "cell_type": "markdown",
   "metadata": {},
   "source": [
    "# 652. Find Duplicate Subtrees`"
   ]
  },
  {
   "cell_type": "markdown",
   "metadata": {},
   "source": [
    "Given a binary tree, return all duplicate subtrees. For each kind of duplicate subtrees, you only need to return the root node of any one of them.\n",
    "\n",
    "Two trees are duplicate if they have the same structure with same node values.\n",
    "\n",
    "Example 1: \n",
    "        1\n",
    "       / \\\n",
    "      2   3\n",
    "     /   / \\\n",
    "    4   2   4\n",
    "       /\n",
    "      4\n",
    "The following are two duplicate subtrees:\n",
    "      2\n",
    "     /\n",
    "    4\n",
    "and\n",
    "    4\n",
    "Therefore, you need to return above trees' root in the form of a list.\n"
   ]
  },
  {
   "cell_type": "markdown",
   "metadata": {},
   "source": [
    "## Solution 1. DFS Recursive Approach"
   ]
  },
  {
   "cell_type": "code",
   "execution_count": null,
   "metadata": {
    "collapsed": true
   },
   "outputs": [],
   "source": [
    "# Definition for a binary tree node.\n",
    "# class TreeNode(object):\n",
    "#     def __init__(self, x):\n",
    "#         self.val = x\n",
    "#         self.left = None\n",
    "#         self.right = None\n",
    "\n",
    "class Solution(object):\n",
    "    def findDuplicateSubtrees(self, root):\n",
    "        \"\"\"\n",
    "        :type root: TreeNode\n",
    "        :rtype: List[TreeNode]\n",
    "        \"\"\"\n",
    "        \n",
    "        dict = {}\n",
    "        \n",
    "        def treeSign(root):\n",
    "            if root != None:\n",
    "                s = str(root.val)\n",
    "                s += treeSign(root.left)\n",
    "                s += treeSign(root.right)\n",
    "                dict.setdefault(s, []).append(root) \n",
    "            else:\n",
    "                s = \"$\"\n",
    "            \n",
    "            return s\n",
    "        \n",
    "        treeSign(root)\n",
    "        lst = []\n",
    "        for key, values in dict.iteritems():\n",
    "            if len(values) > 1:\n",
    "                lst.append(values[0])\n",
    "        \n",
    "        return lst "
   ]
  },
  {
   "cell_type": "markdown",
   "metadata": {},
   "source": [
    "## Solution 2. Minor Enhancement of Solution 1."
   ]
  },
  {
   "cell_type": "code",
   "execution_count": null,
   "metadata": {
    "collapsed": true
   },
   "outputs": [],
   "source": [
    "# Definition for a binary tree node.\n",
    "# class TreeNode(object):\n",
    "#     def __init__(self, x):\n",
    "#         self.val = x\n",
    "#         self.left = None\n",
    "#         self.right = None\n",
    "\n",
    "class Solution(object):\n",
    "    def findDuplicateSubtrees(self, root):\n",
    "        \"\"\"\n",
    "        :type root: TreeNode\n",
    "        :rtype: List[TreeNode]\n",
    "        \"\"\"\n",
    "        \n",
    "        dict = {}\n",
    "        lst = []\n",
    "        def treeSign(root):\n",
    "            if root != None:\n",
    "                s = str(root.val)\n",
    "                s += treeSign(root.left)\n",
    "                s += treeSign(root.right)\n",
    "                dict.setdefault(s, []).append(root)\n",
    "                if len(dict[s]) == 2:\n",
    "                    lst.append(root)\n",
    "            else:\n",
    "                s = \"$\"\n",
    "            \n",
    "            return s\n",
    "        \n",
    "        treeSign(root)\n",
    "        \n",
    "        return lst "
   ]
  }
 ],
 "metadata": {
  "kernelspec": {
   "display_name": "Python 2",
   "language": "python",
   "name": "python2"
  },
  "language_info": {
   "codemirror_mode": {
    "name": "ipython",
    "version": 2
   },
   "file_extension": ".py",
   "mimetype": "text/x-python",
   "name": "python",
   "nbconvert_exporter": "python",
   "pygments_lexer": "ipython2",
   "version": "2.7.13"
  }
 },
 "nbformat": 4,
 "nbformat_minor": 2
}

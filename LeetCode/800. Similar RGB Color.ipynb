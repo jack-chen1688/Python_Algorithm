{
 "cells": [
  {
   "cell_type": "markdown",
   "metadata": {},
   "source": [
    "# 800. Similar RGB Color"
   ]
  },
  {
   "cell_type": "markdown",
   "metadata": {},
   "source": [
    "In the following, every capital letter represents some hexadecimal digit from 0 to f.\n",
    "\n",
    "The red-green-blue color \"#AABBCC\" can be written as \"#ABC\" in shorthand.  For example, \"#15c\" is shorthand for the color \"#1155cc\".\n",
    "\n",
    "Now, say the similarity between two colors \"#ABCDEF\" and \"#UVWXYZ\" is -(AB - UV)^2 - (CD - WX)^2 - (EF - YZ)^2.\n",
    "\n",
    "Given the color \"#ABCDEF\", return a 7 character color that is most similar to #ABCDEF, and has a shorthand (that is, it can be represented as some \"#XYZ\"\n",
    "\n",
    "Example 1:\n",
    "Input: color = \"#09f166\"\n",
    "Output: \"#11ee66\"\n",
    "Explanation:  \n",
    "The similarity is -(0x09 - 0x11)^2 -(0xf1 - 0xee)^2 - (0x66 - 0x66)^2 = -64 -9 -0 = -73.\n",
    "This is the highest among any shorthand color.\n",
    "Note:\n",
    "\n",
    "color is a string of length 7.\n",
    "color is a valid RGB color: for i > 0, color[i] is a hexadecimal digit from 0 to f\n",
    "Any answer which has the same (highest) similarity as the best answer will be accepted.\n",
    "All inputs and outputs should use lowercase letters, and the output is 7 characters."
   ]
  },
  {
   "cell_type": "markdown",
   "metadata": {},
   "source": [
    "## Solution "
   ]
  },
  {
   "cell_type": "code",
   "execution_count": null,
   "metadata": {
    "collapsed": true
   },
   "outputs": [],
   "source": [
    "class Solution(object):\n",
    "    def similarRGB(self, color):\n",
    "        \"\"\"\n",
    "        :type color: str\n",
    "        :rtype: str\n",
    "        \"\"\"\n",
    "        \n",
    "        r, g, b = color[1:3], color[3:5], color[5:]\n",
    "\n",
    "        def getCloseVal(code):\n",
    "            \n",
    "            val = int(code, 16)\n",
    "            lst = [0x300, 0x300, 0x300]\n",
    "            if code[0] != '0':\n",
    "                A = int(code[0], 16) - 1\n",
    "                lst[0] = (A << 4) + A\n",
    "            \n",
    "            A = int(code[0], 16)\n",
    "            lst[1] = (A<<4) + A\n",
    "            \n",
    "            if code[0] != 'f':\n",
    "                A = int(code[0], 16) + 1\n",
    "                lst[2] = (A<<4) + A\n",
    "            \n",
    "            min_val = float(\"inf\")\n",
    "            min_index = -1 \n",
    "            for i, x in enumerate(lst):\n",
    "                if abs(x-val) < min_val:\n",
    "                    min_index = i\n",
    "                    min_val = abs(x-val)\n",
    "            \n",
    "            return hex(lst[min_index])[2] * 2\n",
    "        \n",
    "        return \"#\" + getCloseVal(r)  + getCloseVal(g) + getCloseVal(b)"
   ]
  }
 ],
 "metadata": {
  "kernelspec": {
   "display_name": "Python 2",
   "language": "python",
   "name": "python2"
  },
  "language_info": {
   "codemirror_mode": {
    "name": "ipython",
    "version": 2
   },
   "file_extension": ".py",
   "mimetype": "text/x-python",
   "name": "python",
   "nbconvert_exporter": "python",
   "pygments_lexer": "ipython2",
   "version": "2.7.13"
  }
 },
 "nbformat": 4,
 "nbformat_minor": 2
}

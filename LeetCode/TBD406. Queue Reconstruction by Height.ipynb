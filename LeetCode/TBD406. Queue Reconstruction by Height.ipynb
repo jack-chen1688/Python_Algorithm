{
 "cells": [
  {
   "cell_type": "markdown",
   "metadata": {},
   "source": [
    "# 406. Queue Reconstruction by Height"
   ]
  },
  {
   "cell_type": "markdown",
   "metadata": {},
   "source": [
    "Suppose you have a random list of people standing in a queue. Each person is described by a pair of integers (h, k), where h is the height of the person and k is the number of people in front of this person who have a height greater than or equal to h. Write an algorithm to reconstruct the queue.\n",
    "\n",
    "Note:\n",
    "The number of people is less than 1,100.\n",
    "\n",
    "Example\n",
    "\n",
    "Input:\n",
    "[[7,0], [4,4], [7,1], [5,0], [6,1], [5,2]]\n",
    "\n",
    "Output:\n",
    "[[5,0], [7,0], [5,2], [6,1], [4,4], [7,1]]"
   ]
  },
  {
   "cell_type": "markdown",
   "metadata": {},
   "source": [
    "## Solution 1. DFS Approach (Time Exceeded)"
   ]
  },
  {
   "cell_type": "code",
   "execution_count": null,
   "metadata": {
    "collapsed": true
   },
   "outputs": [],
   "source": [
    "class Solution(object):\n",
    "    def __init__(self):\n",
    "        self.s = set()\n",
    "        self.lst = []\n",
    "        self.res = []\n",
    "        self.dict = {}\n",
    "        \n",
    "    def reconstructQueue(self, people):\n",
    "        \"\"\"\n",
    "        :type people: List[List[int]]\n",
    "        :rtype: List[List[int]]\n",
    "        \"\"\"\n",
    "       \n",
    "        if people == []:\n",
    "            return []\n",
    "        \n",
    "        n = len(people)\n",
    "        \n",
    "        for h,k in people:\n",
    "            for i in xrange(k, n):\n",
    "                self.dict.setdefault(i,[]).append([h,k])\n",
    "                \n",
    "        def isCurPosValid(person):\n",
    "            h, k = person[0], person[1]\n",
    "            cnt = 0\n",
    "            for x, y in self.lst:\n",
    "                if x >= h:\n",
    "                    cnt += 1\n",
    "                    if cnt > k:\n",
    "                        return False\n",
    "                    \n",
    "            if cnt == k:\n",
    "                return True\n",
    "            else:\n",
    "                return False\n",
    "            \n",
    "        def dfs(N, i):\n",
    "            for person in self.dict[i]:\n",
    "                if tuple(person) not in self.s:\n",
    "                    if isCurPosValid(person):\n",
    "                        if i == N-1:\n",
    "                            self.res = list(self.lst + [person])\n",
    "                            return\n",
    "                            \n",
    "                        else:\n",
    "                            self.lst.append(person)\n",
    "                            self.s.add(tuple(person)) \n",
    "                            dfs(N, i+1)\n",
    "                            if self.res != []:\n",
    "                                return\n",
    "                            self.s.remove(tuple(person))\n",
    "                            self.lst.pop()\n",
    "        \n",
    "        dfs(n, 0)\n",
    "        return self.res"
   ]
  },
  {
   "cell_type": "markdown",
   "metadata": {},
   "source": [
    "## Solution 2. Sort + DP with Time Complexity O(n<sup>2</sup>)"
   ]
  },
  {
   "cell_type": "code",
   "execution_count": null,
   "metadata": {
    "collapsed": true
   },
   "outputs": [],
   "source": [
    "class Solution(object):\n",
    "\n",
    "    def reconstructQueue(self, people):\n",
    "        \"\"\"\n",
    "        :type people: List[List[int]]\n",
    "        :rtype: List[List[int]]\n",
    "        \"\"\"\n",
    "       \n",
    "        def cmp_lst(x,y):\n",
    "            if x[1] != y[1]:\n",
    "                return x[1] - y[1]\n",
    "            else:\n",
    "                return x[0] - y[0]\n",
    "        \n",
    "        n = len(people)\n",
    "        if people == []:\n",
    "            return []\n",
    "     \n",
    "        people.sort(cmp=cmp_lst)\n",
    "        pos = 1\n",
    "        while pos < n:\n",
    "            h, k = people[pos]\n",
    "            cnt = 0\n",
    "            for i in xrange(pos):\n",
    "                h1, k1 = people[i]\n",
    "                if h1 >= h:\n",
    "                    cnt+= 1\n",
    "                    if cnt == k + 1:\n",
    "                        # found location to insert and shift\n",
    "                        people[i], people[i+1:pos+1] = people[pos], people[i:pos]\n",
    "                        break\n",
    "            pos += 1\n",
    "        \n",
    "        return people"
   ]
  },
  {
   "cell_type": "markdown",
   "metadata": {},
   "source": [
    "## Solution 3. Enhancement With Time Complexity of O(nlog(n))"
   ]
  },
  {
   "cell_type": "code",
   "execution_count": null,
   "metadata": {
    "collapsed": true
   },
   "outputs": [],
   "source": [
    "class Solution(object):\n",
    "\n",
    "    def reconstructQueue(self, people):\n",
    "        \"\"\"\n",
    "        :type people: List[List[int]]\n",
    "        :rtype: List[List[int]]\n",
    "        \"\"\"    \n",
    "        \n",
    "        def cmp_lst(x,y):\n",
    "            if x[0] != y[0]:\n",
    "                return y[0] - x[0]\n",
    "            else:\n",
    "                return x[1] - y[1]\n",
    "        \n",
    "        n = len(people)\n",
    "        if people == []:\n",
    "            return []\n",
    "     \n",
    "        lst = sorted(people, cmp=cmp_lst) \n",
    "        res = []\n",
    "        pos = 0\n",
    "        \n",
    "        while pos < n:\n",
    "            h, k = lst[pos]\n",
    "            if k < pos:\n",
    "                res.insert(k, lst[pos])\n",
    "            else:   \n",
    "                res.append([h,k])\n",
    "            pos += 1\n",
    "        return res"
   ]
  },
  {
   "cell_type": "code",
   "execution_count": null,
   "metadata": {
    "collapsed": true
   },
   "outputs": [],
   "source": [
    "class Solution(object):\n",
    "    def reconstructQueue(self, people):\n",
    "        \"\"\"\n",
    "        :type people: List[List[int]]\n",
    "        :rtype: List[List[int]]\n",
    "        \"\"\"\n",
    "        people.sort(key=lambda (h, k): (-h, k))\n",
    "        queue = []\n",
    "        for p in people:\n",
    "            queue.insert(p[1], p)\n",
    "        return queue"
   ]
  },
  {
   "cell_type": "code",
   "execution_count": null,
   "metadata": {
    "collapsed": true
   },
   "outputs": [],
   "source": [
    "class Solution(object):\n",
    "    def reconstructQueue(self, people):\n",
    "        \"\"\"\n",
    "        :type people: List[List[int]]\n",
    "        :rtype: List[List[int]]\n",
    "        \"\"\"\n",
    "        ans = []\n",
    "        if people:\n",
    "            people.sort(key = lambda x: (x[0],-1*x[1]), reverse = True)\n",
    "        for p in people:\n",
    "            ans.insert(p[1], p)\n",
    "        return ans"
   ]
  }
 ],
 "metadata": {
  "kernelspec": {
   "display_name": "Python 2",
   "language": "python",
   "name": "python2"
  },
  "language_info": {
   "codemirror_mode": {
    "name": "ipython",
    "version": 2
   },
   "file_extension": ".py",
   "mimetype": "text/x-python",
   "name": "python",
   "nbconvert_exporter": "python",
   "pygments_lexer": "ipython2",
   "version": "2.7.13"
  }
 },
 "nbformat": 4,
 "nbformat_minor": 2
}

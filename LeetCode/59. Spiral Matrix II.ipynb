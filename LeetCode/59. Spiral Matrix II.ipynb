{
 "cells": [
  {
   "cell_type": "markdown",
   "metadata": {},
   "source": [
    "# 59. Spiral Matrix II"
   ]
  },
  {
   "cell_type": "markdown",
   "metadata": {},
   "source": [
    "Given an integer n, generate a square matrix filled with elements from 1 to n2 in spiral order.\n",
    "\n",
    "For example,\n",
    "Given n = 3,\n",
    "\n",
    "You should return the following matrix:\n",
    "[\n",
    " [ 1, 2, 3 ],\n",
    " [ 8, 9, 4 ],\n",
    " [ 7, 6, 5 ]\n",
    "]\n"
   ]
  },
  {
   "cell_type": "markdown",
   "metadata": {},
   "source": [
    "## Solution"
   ]
  },
  {
   "cell_type": "code",
   "execution_count": null,
   "metadata": {
    "collapsed": true
   },
   "outputs": [],
   "source": [
    "class Solution(object):\n",
    "    def generateMatrix(self, n):\n",
    "        \"\"\"\n",
    "        :type n: int\n",
    "        :rtype: List[List[int]]\n",
    "        \"\"\"\n",
    "        matrix = [[0] * n for i in xrange(n)]\n",
    "        g = (i for i in xrange(1, n*n+1))\n",
    "        def spiral(n, pos):\n",
    "            for i in xrange(pos, n-pos):\n",
    "                matrix[pos][i] = g.next()\n",
    "            for i in xrange(pos+1, n-pos):\n",
    "                matrix[i][n-1-pos] = g.next()\n",
    "            for i in xrange(n-pos-2,pos-1, -1):\n",
    "                matrix[n-1-pos][i] = g.next()\n",
    "            for i in xrange(n-pos-2, pos, -1):\n",
    "                matrix[i][pos] = g.next()\n",
    "        \n",
    "        for x in xrange((n+1)/2):\n",
    "            spiral(n,x)\n",
    "        \n",
    "        return matrix"
   ]
  }
 ],
 "metadata": {
  "kernelspec": {
   "display_name": "Python 2",
   "language": "python",
   "name": "python2"
  },
  "language_info": {
   "codemirror_mode": {
    "name": "ipython",
    "version": 2
   },
   "file_extension": ".py",
   "mimetype": "text/x-python",
   "name": "python",
   "nbconvert_exporter": "python",
   "pygments_lexer": "ipython2",
   "version": "2.7.13"
  }
 },
 "nbformat": 4,
 "nbformat_minor": 2
}

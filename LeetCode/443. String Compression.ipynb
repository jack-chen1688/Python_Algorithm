{
 "cells": [
  {
   "cell_type": "markdown",
   "metadata": {},
   "source": [
    "# 443. String Compression"
   ]
  },
  {
   "cell_type": "markdown",
   "metadata": {},
   "source": [
    "\n",
    "Given an array of characters, compress it in-place.\n",
    "\n",
    "The length after compression must always be smaller than or equal to the original array.\n",
    "\n",
    "Every element of the array should be a character (not int) of length 1.\n",
    "\n",
    "After you are done modifying the input array in-place, return the new length of the array.\n",
    "\n",
    "\n",
    "Follow up:\n",
    "Could you solve it using only O(1) extra space?\n",
    "\n",
    "\n",
    "Example 1:\n",
    "Input:\n",
    "[\"a\",\"a\",\"b\",\"b\",\"c\",\"c\",\"c\"]\n",
    "\n",
    "Output:\n",
    "Return 6, and the first 6 characters of the input array should be: [\"a\",\"2\",\"b\",\"2\",\"c\",\"3\"]\n",
    "\n",
    "Explanation:\n",
    "\"aa\" is replaced by \"a2\". \"bb\" is replaced by \"b2\". \"ccc\" is replaced by \"c3\".\n",
    "Example 2:\n",
    "Input:\n",
    "[\"a\"]\n",
    "\n",
    "Output:\n",
    "Return 1, and the first 1 characters of the input array should be: [\"a\"]\n",
    "\n",
    "Explanation:\n",
    "Nothing is replaced.\n",
    "Example 3:\n",
    "Input:\n",
    "[\"a\",\"b\",\"b\",\"b\",\"b\",\"b\",\"b\",\"b\",\"b\",\"b\",\"b\",\"b\",\"b\"]\n",
    "\n",
    "Output:\n",
    "Return 4, and the first 4 characters of the input array should be: [\"a\",\"b\",\"1\",\"2\"].\n",
    "\n",
    "Explanation:\n",
    "Since the character \"a\" does not repeat, it is not compressed. \"bbbbbbbbbbbb\" is replaced by \"b12\".\n",
    "Notice each digit has it's own entry in the array.\n",
    "Note:\n",
    "All characters have an ASCII value in [35, 126].\n",
    "1 <= len(chars) <= 1000."
   ]
  },
  {
   "cell_type": "markdown",
   "metadata": {},
   "source": [
    "## Solution"
   ]
  },
  {
   "cell_type": "code",
   "execution_count": null,
   "metadata": {
    "collapsed": true
   },
   "outputs": [],
   "source": [
    "class Solution(object):\n",
    "    def compress(self, chars):\n",
    "        \"\"\"\n",
    "        :type chars: List[str]\n",
    "        :rtype: int\n",
    "        \"\"\"\n",
    "        \n",
    "        n = len(chars)\n",
    "        ch = chars[0]\n",
    "        cnt = 1     \n",
    "        lo = 0\n",
    "        for hi in xrange(1, n):\n",
    "            if chars[hi] == ch:\n",
    "                cnt+=1\n",
    "            else:\n",
    "                if cnt == 1:\n",
    "                    chars[lo] = ch\n",
    "                    lo += 1\n",
    "                else:\n",
    "                    s = list(ch + str(cnt))\n",
    "                    chars[lo:lo+len(s)] = s\n",
    "                    lo += len(s)\n",
    "                cnt = 1\n",
    "                ch = chars[hi]\n",
    "        \n",
    "        if cnt > 1:\n",
    "            s = list(ch + str(cnt))\n",
    "            chars[lo:lo+len(s)] = s\n",
    "            return lo + len(s)\n",
    "        else:\n",
    "            chars[lo] = ch\n",
    "            return lo + 1"
   ]
  }
 ],
 "metadata": {
  "kernelspec": {
   "display_name": "Python 2",
   "language": "python",
   "name": "python2"
  }
 },
 "nbformat": 4,
 "nbformat_minor": 2
}

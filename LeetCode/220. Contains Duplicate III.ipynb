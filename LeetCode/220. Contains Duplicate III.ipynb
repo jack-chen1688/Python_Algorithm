{
 "cells": [
  {
   "cell_type": "markdown",
   "metadata": {},
   "source": [
    "# 220. Contains Duplicate III"
   ]
  },
  {
   "cell_type": "markdown",
   "metadata": {},
   "source": [
    "Given an array of integers, find out whether there are two distinct indices i and j in the array such that the \n",
    "absolute difference between nums[i] and nums[j] is at most t and the absolute difference between i and j is at \n",
    "most k."
   ]
  },
  {
   "cell_type": "markdown",
   "metadata": {},
   "source": [
    "## Solution 1. Time Complexity of O(nk)"
   ]
  },
  {
   "cell_type": "code",
   "execution_count": null,
   "metadata": {
    "collapsed": true
   },
   "outputs": [],
   "source": [
    "class Solution(object):\n",
    "    def containsNearbyAlmostDuplicate(self, nums, k, t):\n",
    "        \"\"\"\n",
    "        :type nums: List[int]\n",
    "        :type k: int\n",
    "        :type t: int\n",
    "        :rtype: bool\n",
    "        \"\"\"\n",
    "        \"\"\"\n",
    "        0,4,6,12, 2,2\n",
    "        0,-3,3,6, 2,2\n",
    "        \n",
    "        0-2 smallest is difference, \n",
    "        \n",
    "        k sort, minimum difference\n",
    "        \"\"\"\n",
    "\n",
    "        \n",
    "        n  = len(nums)\n",
    "        \n",
    "        if k == 0 or n < 2 or t < 0:\n",
    "            return  False\n",
    "        \n",
    "        \n",
    "        s = sorted(nums[:k+1])\n",
    "        min_diff = float(\"inf\")\n",
    "        for i in xrange(min(k, n-1)):\n",
    "            dis = abs(s[i+1]-s[i])\n",
    "            if min_diff > dis:\n",
    "                min_diff = dis\n",
    "                if min_diff <= t:\n",
    "                    #print \"1\"\n",
    "                    return True\n",
    "\n",
    "        for i in xrange(k+1, n):\n",
    "            #print s, nums[k+1-i]\n",
    "            s.remove(nums[i-k-1])\n",
    "            #print s\n",
    "            # s now has k elements\n",
    "            pos = bisect.bisect_left(s, nums[i])\n",
    "            if (pos < k and s[pos] - nums[i] <= t) or (pos > 0 and nums[i] - s[pos-1] <= t):\n",
    "                #print \"2\", pos, s[pos], nums[i], t, s[pos] - nums[i] <= t\n",
    "                return True\n",
    "            s.insert(pos, nums[i])\n",
    "\n",
    "        return False"
   ]
  },
  {
   "cell_type": "markdown",
   "metadata": {},
   "source": [
    "## Solution 2. Time Complexity O(nk) Time Exceeded"
   ]
  },
  {
   "cell_type": "code",
   "execution_count": null,
   "metadata": {
    "collapsed": true
   },
   "outputs": [],
   "source": [
    "class Solution(object):\n",
    "    def containsNearbyAlmostDuplicate(self, nums, k, t):\n",
    "        \"\"\"\n",
    "        :type nums: List[int]\n",
    "        :type k: int\n",
    "        :type t: int\n",
    "        :rtype: bool\n",
    "        \"\"\"\n",
    "        \n",
    "        n  = len(nums)\n",
    "        \n",
    "        if k == 0 or n < 2 or t < 0:\n",
    "            return  False\n",
    "    \n",
    "        for i in xrange(n-1):\n",
    "            x, y = nums[i] - t, nums[i] + t\n",
    "            for j in xrange(1, k+1):\n",
    "                if i+j < n and x <= nums[i+j] <= y:\n",
    "                    return True\n",
    "        return False"
   ]
  }
 ],
 "metadata": {
  "kernelspec": {
   "display_name": "Python 2",
   "language": "python",
   "name": "python2"
  },
  "language_info": {
   "codemirror_mode": {
    "name": "ipython",
    "version": 2
   },
   "file_extension": ".py",
   "mimetype": "text/x-python",
   "name": "python",
   "nbconvert_exporter": "python",
   "pygments_lexer": "ipython2",
   "version": "2.7.13"
  }
 },
 "nbformat": 4,
 "nbformat_minor": 2
}

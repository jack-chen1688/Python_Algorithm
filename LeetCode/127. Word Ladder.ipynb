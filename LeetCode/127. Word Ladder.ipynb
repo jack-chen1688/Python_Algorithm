{
 "cells": [
  {
   "cell_type": "markdown",
   "metadata": {},
   "source": [
    "# 127. Word Ladder"
   ]
  },
  {
   "cell_type": "markdown",
   "metadata": {},
   "source": [
    "Given two words (beginWord and endWord), and a dictionary's word list, find the length of shortest transformation \n",
    "sequence from beginWord to endWord, such that:\n",
    "\n",
    "Only one letter can be changed at a time.\n",
    "Each transformed word must exist in the word list. Note that beginWord is not a transformed word.\n",
    "For example,\n",
    "\n",
    "Given:\n",
    "beginWord = \"hit\"\n",
    "endWord = \"cog\"\n",
    "wordList = [\"hot\",\"dot\",\"dog\",\"lot\",\"log\",\"cog\"]\n",
    "As one shortest transformation is \"hit\" -> \"hot\" -> \"dot\" -> \"dog\" -> \"cog\",\n",
    "return its length 5.\n",
    "\n",
    "Note:\n",
    "Return 0 if there is no such transformation sequence.\n",
    "All words have the same length.\n",
    "All words contain only lowercase alphabetic characters.\n",
    "You may assume no duplicates in the word list.\n",
    "You may assume beginWord and endWord are non-empty and are not the same.\n",
    "UPDATE (2017/1/20):\n",
    "The wordList parameter had been changed to a list of strings (instead of a set of strings). Please reload the code \n",
    "definition to get the latest changes."
   ]
  },
  {
   "cell_type": "markdown",
   "metadata": {},
   "source": [
    "## Solution 1. Iterative BFS Approach Using Set"
   ]
  },
  {
   "cell_type": "code",
   "execution_count": null,
   "metadata": {
    "collapsed": true
   },
   "outputs": [],
   "source": [
    "class Solution(object): \n",
    "    def ladderLength(self, beginWord, endWord, wordList):\n",
    "        \"\"\"\n",
    "        :type beginWord: str\n",
    "        :type endWord: str\n",
    "        :type wordList: List[str]\n",
    "        :rtype: int\n",
    "        \"\"\" \n",
    "        \n",
    "        lst = [beginWord]\n",
    "        s1 = set(wordList) - set(lst)\n",
    "\n",
    "        if endWord not in s1:\n",
    "            return 0\n",
    "        \n",
    "        wordLen = len(beginWord) \n",
    "        s0 = set()\n",
    "        for word in lst:\n",
    "            for x in xrange(wordLen):\n",
    "                s0.add(word[:x] + str(x) + word[x+1:])\n",
    "        \n",
    "        dis = 1\n",
    "        while s0 != set() and s1 != set() :\n",
    "            lst = []\n",
    "            for word in s1:\n",
    "                for x in xrange(wordLen):\n",
    "                    word1 = word[:x] + str(x) + word[x+1:]\n",
    "                    if word1 in s0:\n",
    "                        if word == endWord:\n",
    "                            return dis + 1\n",
    "                        else:\n",
    "                            lst.append(word)\n",
    "                            break\n",
    "                \n",
    "            if lst == []:\n",
    "                break\n",
    "            else:\n",
    "                s1 = s1 - set(lst)\n",
    "                for word in lst:\n",
    "                    for x in xrange(wordLen):\n",
    "                        s0.add(word[:x] + str(x) + word[x+1:]) \n",
    "                dis += 1\n",
    "                       \n",
    "        return 0         "
   ]
  },
  {
   "cell_type": "markdown",
   "metadata": {},
   "source": [
    "## Solution 2. (LeetCode Solution)"
   ]
  },
  {
   "cell_type": "code",
   "execution_count": null,
   "metadata": {
    "collapsed": true
   },
   "outputs": [],
   "source": [
    "class Solution(object):\n",
    "    def ladderLength(self, beginWord, endWord, wordList):\n",
    "        \"\"\"\n",
    "        :type beginWord: str\n",
    "        :type endWord: str\n",
    "        :type wordList: List[str]\n",
    "        :rtype: int\n",
    "        \"\"\"\n",
    "        wordList = set(wordList)\n",
    "        forward, backward, n, r = {beginWord}, {endWord}, len(beginWord), 2\n",
    "        dic = set(string.ascii_lowercase)\n",
    "        if endWord not in wordList:return 0\n",
    "        while forward and backward:\n",
    "            if len(forward) > len(backward):\n",
    "                forward, backward = backward, forward\n",
    "\n",
    "            next = set()\n",
    "            for word in forward:\n",
    "                for i, char in enumerate(word):\n",
    "                    first, second = word[:i], word[i + 1:]\n",
    "                    for item in dic:\n",
    "                        candidate = first + item + second\n",
    "                        if candidate in backward:\n",
    "                            return r\n",
    "\n",
    "                        if candidate in wordList:\n",
    "                            wordList.discard(candidate)\n",
    "                            next.add(candidate)\n",
    "            forward = next\n",
    "            r += 1\n",
    "        return 0"
   ]
  }
 ],
 "metadata": {
  "kernelspec": {
   "display_name": "Python 2",
   "language": "python",
   "name": "python2"
  },
  "language_info": {
   "codemirror_mode": {
    "name": "ipython",
    "version": 2
   },
   "file_extension": ".py",
   "mimetype": "text/x-python",
   "name": "python",
   "nbconvert_exporter": "python",
   "pygments_lexer": "ipython2",
   "version": "2.7.13"
  }
 },
 "nbformat": 4,
 "nbformat_minor": 2
}

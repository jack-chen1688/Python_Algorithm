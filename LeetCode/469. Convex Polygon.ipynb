{
 "cells": [
  {
   "cell_type": "markdown",
   "metadata": {},
   "source": [
    "# 469. Convex Polygon"
   ]
  },
  {
   "cell_type": "code",
   "execution_count": null,
   "metadata": {
    "collapsed": true
   },
   "outputs": [],
   "source": [
    "\n",
    "Given a list of points that form a polygon when joined sequentially, find if this polygon is convex (Convex polygon definition).\n",
    "\n",
    "Note:\n",
    "\n",
    "There are at least 3 and at most 10,000 points.\n",
    "Coordinates are in the range -10,000 to 10,000.\n",
    "You may assume the polygon formed by given points is always a simple polygon (Simple polygon definition). In other words, we ensure that exactly two edges intersect at each vertex, and that edges otherwise don't intersect each other.\n",
    "Example 1:\n",
    "\n",
    "[[0,0],[0,1],[1,1],[1,0]]\n",
    "\n",
    "Answer: True\n",
    "\n",
    "Explanation:\n",
    "Example 2:\n",
    "\n",
    "[[0,0],[0,10],[10,10],[10,0],[5,5]]\n",
    "\n",
    "Answer: False\n",
    "\n",
    "Explanation:\n"
   ]
  },
  {
   "cell_type": "markdown",
   "metadata": {},
   "source": [
    "## Solution 1. A More General Solution for Points with Random Order"
   ]
  },
  {
   "cell_type": "markdown",
   "metadata": {},
   "source": [
    "Assumed points are given in any order such that the points in order may not form a simple polygon.\n",
    "Algorithm:\n",
    "1. Find out a left most point\n",
    "2. Find out more left most points if available and also get a list of points that are not left most.\n",
    "3. Choose the only left most point or the midde of two left most points as start point, sort other points based on    their angles.\n",
    "4. Set the points in an order such that it can be the only possible polygon counter-clock wise.\n",
    "5. Check whether the points are in counter-clock wise order or not. If not, it is not a convex.\n",
    "\n",
    "The solution given by leetcode think points can be in colinear. The solution below passed all the test cases. But still it didn't handle the colinear situation enough."
   ]
  },
  {
   "cell_type": "code",
   "execution_count": null,
   "metadata": {
    "collapsed": true
   },
   "outputs": [],
   "source": [
    "class Solution(object):\n",
    "    def isConvex(self, points):\n",
    "        \"\"\"\n",
    "        :type points: List[List[int]]\n",
    "        :rtype: bool\n",
    "        \"\"\"\n",
    "        if not points:\n",
    "            return False\n",
    "        \n",
    "        # Find out a left most point\n",
    "        lmpt = points[0]\n",
    "        lm = lmpt[0]\n",
    "        \n",
    "        for point in points[1:]:\n",
    "            if point[0] < lm:\n",
    "                lm = point[0]\n",
    "                lmpt = point\n",
    "\n",
    "        # Find out more left points if availble\n",
    "        lmpts = [lmpt]\n",
    "        other_points = []\n",
    "        for point in points:\n",
    "            if point == lmpt:\n",
    "                pass\n",
    "            else:\n",
    "                if point[0] == lmpt[0]:\n",
    "                    lmpts.append(point)\n",
    "                else:\n",
    "                    other_points.append(point)\n",
    "                    \n",
    "        lmpts.sort()\n",
    "        lmpt = (lmpts[0][0], (float(lmpts[0][1]) + lmpts[-1][1])/2)\n",
    "        \n",
    "        # put other points in order based on angle to the left most point\n",
    "        tuples = []\n",
    "        for point in other_points:\n",
    "            if point == lmpt:\n",
    "                pass\n",
    "            else:\n",
    "                if point[0] == lmpt[0]:\n",
    "                    lmpts.append(point)\n",
    "                else:\n",
    "                    #NOTE: need to convert point[1] to float to get accurate angle\n",
    "                    angle = (float(point[1])-lmpt[1])/(point[0] - lmpt[0])\n",
    "                    tup = (angle, point)\n",
    "                    tuples.append(tup)\n",
    "        \n",
    "        ordered_points = [tup[1] for tup in sorted(tuples)]\n",
    "        \n",
    "        # From the only possible convex polygon \n",
    "        if len(lmpts) == 1:\n",
    "            polygon = lmpts + ordered_points\n",
    "        else:\n",
    "            polygon = [lmpts[0]] + ordered_points + [lmpts[-1]]\n",
    "        \n",
    "        \n",
    "        # check counter-clock wise\n",
    "        prev_angle = None\n",
    "        prev = polygon[0]\n",
    "        \n",
    "        for point in polygon[1:]:\n",
    "            angle = math.atan2(point[1] - prev[1], point[0] - prev[0])\n",
    "            if angle < -math.pi/2:\n",
    "                angle += 2 * math.pi\n",
    "            \n",
    "            #print prev, point, prev_angle, angle\n",
    "            #print prev, point, prev_angle, angle\n",
    "            if prev_angle and angle < prev_angle:              \n",
    "                return False\n",
    "            \n",
    "            prev = point\n",
    "            prev_angle = angle\n",
    "            \n",
    "        return True\n",
    "                    \n",
    "                    \n",
    "            \n",
    "                    "
   ]
  }
 ],
 "metadata": {
  "kernelspec": {
   "display_name": "Python 2",
   "language": "python",
   "name": "python2"
  },
  "language_info": {
   "codemirror_mode": {
    "name": "ipython",
    "version": 2
   },
   "file_extension": ".py",
   "mimetype": "text/x-python",
   "name": "python",
   "nbconvert_exporter": "python",
   "pygments_lexer": "ipython2",
   "version": "2.7.13"
  }
 },
 "nbformat": 4,
 "nbformat_minor": 2
}

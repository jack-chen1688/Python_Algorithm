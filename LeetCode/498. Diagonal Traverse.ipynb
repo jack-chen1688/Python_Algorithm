{
 "cells": [
  {
   "cell_type": "markdown",
   "metadata": {},
   "source": [
    "# 498. Diagonal Traverse"
   ]
  },
  {
   "cell_type": "markdown",
   "metadata": {},
   "source": [
    "Given a matrix of M x N elements (M rows, N columns), return all elements of the matrix in diagonal order as shown \n",
    "in the below image.\n",
    "\n",
    "Example:\n",
    "Input:\n",
    "[\n",
    " [ 1, 2, 3 ],\n",
    " [ 4, 5, 6 ],\n",
    " [ 7, 8, 9 ]\n",
    "]\n",
    "Output:  [1,2,4,7,5,3,6,8,9]\n",
    "Explanation:\n",
    "\n",
    "Note:\n",
    "The total number of elements of the given matrix will not exceed 10,000."
   ]
  },
  {
   "cell_type": "markdown",
   "metadata": {},
   "source": [
    "## Solution "
   ]
  },
  {
   "cell_type": "code",
   "execution_count": null,
   "metadata": {
    "collapsed": true
   },
   "outputs": [],
   "source": [
    "class Solution(object):\n",
    "    def __init__(self):\n",
    "        self.direction = 0\n",
    "        \n",
    "    def findDiagonalOrder(self, matrix):\n",
    "        \"\"\"\n",
    "        :type matrix: List[List[int]]\n",
    "        :rtype: List[int]\n",
    "        \"\"\"\n",
    "        if matrix != []:        \n",
    "            lst = []\n",
    "            \n",
    "            def path(rc, col0, col1):\n",
    "                if self.direction == 0:\n",
    "                    for i in xrange(col0, col1+1):\n",
    "                        lst.append(matrix[rc-i][i])\n",
    "                else:\n",
    "                    for i in xrange(col1, col0-1, -1):\n",
    "                        lst.append(matrix[rc-i][i])\n",
    "                self.direction = 1 - self.direction\n",
    "\n",
    "            m = len(matrix)\n",
    "            n = len(matrix[0])\n",
    "\n",
    "            if m >= n:\n",
    "                for i in xrange(n):\n",
    "                    path(i, 0, i)\n",
    "\n",
    "                for i in xrange(n, m):\n",
    "                    path(i, 0, n-1)\n",
    "\n",
    "                for i in xrange(m, m+n):\n",
    "                    path(i, i-m+1, n-1)\n",
    "            else:\n",
    "                for i in xrange(m):\n",
    "                    path(i, 0, i)\n",
    "\n",
    "                for i in xrange(m, n):\n",
    "                    path(i, i-m+1, i)\n",
    "\n",
    "                for i in xrange(n, m+n):\n",
    "                    path(i, i-m+1, n-1)\n",
    "\n",
    "            return lst\n",
    "        else:\n",
    "            return []"
   ]
  }
 ],
 "metadata": {
  "kernelspec": {
   "display_name": "Python 2",
   "language": "python",
   "name": "python2"
  },
  "language_info": {
   "codemirror_mode": {
    "name": "ipython",
    "version": 2
   },
   "file_extension": ".py",
   "mimetype": "text/x-python",
   "name": "python",
   "nbconvert_exporter": "python",
   "pygments_lexer": "ipython2",
   "version": "2.7.13"
  }
 },
 "nbformat": 4,
 "nbformat_minor": 2
}

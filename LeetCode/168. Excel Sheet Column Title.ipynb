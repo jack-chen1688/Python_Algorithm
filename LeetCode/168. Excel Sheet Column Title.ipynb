{
 "cells": [
  {
   "cell_type": "markdown",
   "metadata": {},
   "source": [
    "# 168. Excel Sheet Column Title"
   ]
  },
  {
   "cell_type": "markdown",
   "metadata": {},
   "source": [
    "Given a positive integer, return its corresponding column title as appear in an Excel sheet.\n",
    "\n",
    "For example:\n",
    "\n",
    "    1 -> A\n",
    "    2 -> B\n",
    "    3 -> C\n",
    "    ...\n",
    "    26 -> Z\n",
    "    27 -> AA\n",
    "    28 -> AB \n",
    "Credits:\n",
    "Special thanks to @ifanchu for adding this problem and creating all test cases."
   ]
  },
  {
   "cell_type": "markdown",
   "metadata": {},
   "source": [
    "## Solution."
   ]
  },
  {
   "cell_type": "code",
   "execution_count": null,
   "metadata": {
    "collapsed": true
   },
   "outputs": [],
   "source": [
    "class Solution(object):\n",
    "    def convertToTitle(self, n):\n",
    "        \"\"\"\n",
    "        :type n: int\n",
    "        :rtype: str\n",
    "        \"\"\"\n",
    "        \n",
    "        dict = {x:y for x, y in zip(range(26), 'ABCDEFGHIJKLMNOPQRSTUVWXYZ')}\n",
    "        \n",
    "        # 0-25 A-Z\n",
    "        # 26-51 AA-AZ\n",
    "        n -= 1\n",
    "        \n",
    "        res = []\n",
    "        \n",
    "        while n >= 0:\n",
    "            rem = n % 26\n",
    "            res.append(dict[rem])\n",
    "            n = n/26 - 1\n",
    "            \n",
    "        return \"\".join(res[::-1])"
   ]
  },
  {
   "cell_type": "markdown",
   "metadata": {},
   "source": [
    "## Solution 2: Use ord and chr instead of dictionary"
   ]
  },
  {
   "cell_type": "code",
   "execution_count": null,
   "metadata": {},
   "outputs": [],
   "source": [
    "class Solution:\n",
    "    def convertToTitle(self, n):\n",
    "        \"\"\"\n",
    "        :type n: int\n",
    "        :rtype: str\n",
    "        \"\"\"\n",
    "        lst = []\n",
    "        \n",
    "        while n:\n",
    "            x = (n-1) % 26\n",
    "            lst.append(x)\n",
    "            n = (n - x - 1)//26\n",
    "\n",
    "        return \"\".join(chr(x + ord('A')) for x in reversed(lst))"
   ]
  }
 ],
 "metadata": {
  "kernelspec": {
   "display_name": "Python 3",
   "language": "python",
   "name": "python3"
  },
  "language_info": {
   "codemirror_mode": {
    "name": "ipython",
    "version": 3
   },
   "file_extension": ".py",
   "mimetype": "text/x-python",
   "name": "python",
   "nbconvert_exporter": "python",
   "pygments_lexer": "ipython3",
   "version": "3.7.1"
  }
 },
 "nbformat": 4,
 "nbformat_minor": 2
}

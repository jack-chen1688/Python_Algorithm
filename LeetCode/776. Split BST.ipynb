{
 "cells": [
  {
   "cell_type": "markdown",
   "metadata": {},
   "source": [
    "# 776. Split BST"
   ]
  },
  {
   "cell_type": "markdown",
   "metadata": {},
   "source": [
    "Given a Binary Search Tree (BST) with root node root, and a target value V, split the tree into two subtrees where one subtree has nodes that are all smaller or equal to the target value, while the other subtree has all nodes that are greater than the target value.  It's not necessarily the case that the tree contains a node with value V.\n",
    "\n",
    "Additionally, most of the structure of the original tree should remain.  Formally, for any child C with parent P in the original tree, if they are both in the same subtree after the split, then node C should still have the parent P.\n",
    "\n",
    "You should output the root TreeNode of both subtrees after splitting, in any order.\n",
    "\n",
    "Example 1:\n",
    "\n",
    "Input: root = [4,2,6,1,3,5,7], V = 2\n",
    "Output: [[2,1],[4,3,6,null,null,5,7]]\n",
    "Explanation:\n",
    "Note that root, output[0], and output[1] are TreeNode objects, not arrays.\n",
    "\n",
    "The given tree [4,2,6,1,3,5,7] is represented by the following diagram:\n",
    "\n",
    "          4\n",
    "        /   \\\n",
    "      2      6\n",
    "     / \\    / \\\n",
    "    1   3  5   7\n",
    "\n",
    "while the diagrams for the outputs are:\n",
    "\n",
    "          4\n",
    "        /   \\\n",
    "      3      6      and    2\n",
    "            / \\           /\n",
    "           5   7         1\n",
    "Note:\n",
    "\n",
    "The size of the BST will not exceed 50.\n",
    "The BST is always valid and each node's value is different."
   ]
  },
  {
   "cell_type": "markdown",
   "metadata": {},
   "source": [
    "## Solution. Recursive Approach"
   ]
  },
  {
   "cell_type": "code",
   "execution_count": null,
   "metadata": {
    "collapsed": true
   },
   "outputs": [],
   "source": [
    "# Definition for a binary tree node.\n",
    "# class TreeNode(object):\n",
    "#     def __init__(self, x):\n",
    "#         self.val = x\n",
    "#         self.left = None\n",
    "#         self.right = None\n",
    "\n",
    "class Solution(object):\n",
    "    def splitBST(self, root, V):\n",
    "        \"\"\"\n",
    "        :type root: TreeNode\n",
    "        :type V: int\n",
    "        :rtype: List[TreeNode]\n",
    "        \"\"\"\n",
    "        \"\"\"\n",
    "        if node found\n",
    "           if parent and parent.left or parent.right = node.right\n",
    "               return root, and the node\n",
    "           else:\n",
    "               root.right = None\n",
    "               return root.right and root           \n",
    "        V=2 or 5 for below BST      \n",
    "                 5\n",
    "           2           6\n",
    "        1     4\n",
    "                 \n",
    "                 \n",
    "        V = 3    \n",
    "        \"\"\"\n",
    "        def solve(root, V):\n",
    "            if root.val == V:\n",
    "                node = root.right\n",
    "                root.right = None\n",
    "                return [root, node] \n",
    "            elif root.val > V:\n",
    "                if root.left:\n",
    "                    [node0, node1] = solve(root.left, V)\n",
    "                    root.left = node1\n",
    "                    return [node0, root]\n",
    "                else:\n",
    "                    return [None, root]\n",
    "            else:\n",
    "                if root.right:\n",
    "                    [node0, node1] = solve(root.right, V)\n",
    "                    root.right = node0\n",
    "                    return [root, node1]\n",
    "                else:\n",
    "                    return [root, None]\n",
    "        \n",
    "        return solve(root, V) if root else [None, None]\n",
    "        "
   ]
  }
 ],
 "metadata": {
  "kernelspec": {
   "display_name": "Python 2",
   "language": "python",
   "name": "python2"
  },
  "language_info": {
   "codemirror_mode": {
    "name": "ipython",
    "version": 2
   },
   "file_extension": ".py",
   "mimetype": "text/x-python",
   "name": "python",
   "nbconvert_exporter": "python",
   "pygments_lexer": "ipython2",
   "version": "2.7.13"
  }
 },
 "nbformat": 4,
 "nbformat_minor": 2
}

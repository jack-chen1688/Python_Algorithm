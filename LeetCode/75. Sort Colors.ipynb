{
 "cells": [
  {
   "cell_type": "markdown",
   "metadata": {},
   "source": [
    "# 75. Sort Colors"
   ]
  },
  {
   "cell_type": "markdown",
   "metadata": {},
   "source": [
    "Given an array with n objects colored red, white or blue, sort them so that objects of the same color are adjacent, with the colors in the order red, white and blue.\n",
    "\n",
    "Here, we will use the integers 0, 1, and 2 to represent the color red, white, and blue respectively.\n",
    "\n",
    "Note:\n",
    "You are not suppose to use the library's sort function for this problem.\n",
    "\n",
    "click to show follow up.\n",
    "\n",
    "Follow up:\n",
    "A rather straight forward solution is a two-pass algorithm using counting sort.\n",
    "First, iterate the array counting number of 0's, 1's, and 2's, then overwrite array with total number of 0's, then 1's and followed by 2's.\n",
    "\n",
    "Could you come up with an one-pass algorithm using only constant space?"
   ]
  },
  {
   "cell_type": "markdown",
   "metadata": {},
   "source": [
    "## Solution"
   ]
  },
  {
   "cell_type": "code",
   "execution_count": null,
   "metadata": {
    "collapsed": true
   },
   "outputs": [],
   "source": [
    "class Solution(object):\n",
    "    def sortColors(self, nums):\n",
    "        \"\"\"\n",
    "        :type nums: List[int]\n",
    "        :rtype: void Do not return anything, modify nums in-place instead.\n",
    "        \"\"\"\n",
    "        cnt0, cnt1, cnt2 = 0, 0, 0\n",
    "        for num in nums:\n",
    "            if num == 0:\n",
    "                cnt0 += 1\n",
    "            elif num == 1:\n",
    "                cnt1 += 1\n",
    "            else:\n",
    "                cnt2 += 1\n",
    "        \n",
    "        for i in xrange(cnt0):\n",
    "            nums[i] = 0\n",
    "        for i in xrange(cnt0, cnt0+cnt1):\n",
    "            nums[i] = 1\n",
    "        for i in xrange(cnt0+cnt1, cnt0+cnt1+cnt2):\n",
    "            nums[i] = 2\n",
    "        return\n",
    "            "
   ]
  }
 ],
 "metadata": {
  "kernelspec": {
   "display_name": "Python 2",
   "language": "python",
   "name": "python2"
  },
  "language_info": {
   "codemirror_mode": {
    "name": "ipython",
    "version": 2
   },
   "file_extension": ".py",
   "mimetype": "text/x-python",
   "name": "python",
   "nbconvert_exporter": "python",
   "pygments_lexer": "ipython2",
   "version": "2.7.13"
  }
 },
 "nbformat": 4,
 "nbformat_minor": 2
}

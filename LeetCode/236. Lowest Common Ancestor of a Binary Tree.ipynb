{
 "cells": [
  {
   "cell_type": "markdown",
   "metadata": {},
   "source": [
    "# 236. Lowest Common Ancestor of a Binary Tree"
   ]
  },
  {
   "cell_type": "markdown",
   "metadata": {},
   "source": [
    "Given a binary tree, find the lowest common ancestor (LCA) of two given nodes in the tree.\n",
    "\n",
    "According to the definition of LCA on Wikipedia: “The lowest common ancestor is defined between two nodes v and w as the lowest node in T that has both v and w as descendants (where we allow a node to be a descendant of itself).”\n",
    "\n",
    "        _______3______\n",
    "       /              \\\n",
    "    ___5__          ___1__\n",
    "   /      \\        /      \\\n",
    "   6      _2       0       8\n",
    "         /  \\\n",
    "         7   4\n",
    "For example, the lowest common ancestor (LCA) of nodes 5 and 1 is 3. Another example is LCA of nodes 5 and 4 is 5, since a node can be a descendant of itself according to the LCA definition."
   ]
  },
  {
   "cell_type": "markdown",
   "metadata": {},
   "source": [
    "## Solution. DFS Approach, Time Complexity O(n), Space Complexity O(h)"
   ]
  },
  {
   "cell_type": "code",
   "execution_count": null,
   "metadata": {
    "collapsed": true
   },
   "outputs": [],
   "source": [
    "# Definition for a binary tree node.\n",
    "# class TreeNode(object):\n",
    "#     def __init__(self, x):\n",
    "#         self.val = x\n",
    "#         self.left = None\n",
    "#         self.right = None\n",
    "\n",
    "class Solution(object):\n",
    "\n",
    "    def lowestCommonAncestor(self, root, p, q):\n",
    "        \"\"\"\n",
    "        :type root: TreeNode\n",
    "        :type p: TreeNode\n",
    "        :type q: TreeNode\n",
    "        :rtype: TreeNode\n",
    "        \"\"\"\n",
    "        \n",
    "        def dfs(root, p, q):\n",
    "            \n",
    "            if root != None:\n",
    "                left_lst = dfs(root.left, p, q)\n",
    "                if left_lst[2]:\n",
    "                    return left_lst\n",
    "\n",
    "                right_lst = dfs(root.right, p, q)\n",
    "                if right_lst[2]:\n",
    "                    return right_lst\n",
    "\n",
    "                foundp = left_lst[0] or right_lst[0] or (root == p)\n",
    "                foundq = left_lst[1] or right_lst[1] or (root == q)\n",
    "                lca = root if foundp and foundq else None\n",
    "\n",
    "                return [foundp, foundq, lca] \n",
    "            \n",
    "            else:\n",
    "                return [False, False, None]    \n",
    "                \n",
    "        lst = dfs(root, p,q)\n",
    "        return lst[2] "
   ]
  }
 ],
 "metadata": {
  "kernelspec": {
   "display_name": "Python 3",
   "language": "python",
   "name": "python3"
  },
  "language_info": {
   "codemirror_mode": {
    "name": "ipython",
    "version": 3
   },
   "file_extension": ".py",
   "mimetype": "text/x-python",
   "name": "python",
   "nbconvert_exporter": "python",
   "pygments_lexer": "ipython3",
   "version": "3.7.1"
  }
 },
 "nbformat": 4,
 "nbformat_minor": 2
}

{
 "cells": [
  {
   "cell_type": "markdown",
   "metadata": {},
   "source": [
    "# 624. Maximum Distance in Arrays"
   ]
  },
  {
   "cell_type": "markdown",
   "metadata": {},
   "source": [
    "Given m arrays, and each array is sorted in ascending order. Now you can pick up two integers from two different arrays (each array picks one) and calculate the distance. We define the distance between two integers a and b to be their absolute difference |a-b|. Your task is to find the maximum distance.\n",
    "\n",
    "Example 1:\n",
    "Input: \n",
    "[[1,2,3],\n",
    " [4,5],\n",
    " [1,2,3]]\n",
    "Output: 4\n",
    "Explanation: \n",
    "One way to reach the maximum distance 4 is to pick 1 in the first or third array and pick 5 in the second array.\n",
    "Note:\n",
    "Each given array will have at least 1 number. There will be at least two non-empty arrays.\n",
    "The total number of the integers in all the m arrays will be in the range of [2, 10000].\n",
    "The integers in the m arrays will be in the range of [-10000, 10000].\n"
   ]
  },
  {
   "cell_type": "markdown",
   "metadata": {},
   "source": [
    "## Solution 1"
   ]
  },
  {
   "cell_type": "code",
   "execution_count": 1,
   "metadata": {},
   "outputs": [
    {
     "name": "stdout",
     "output_type": "stream",
     "text": [
      "12\n"
     ]
    }
   ],
   "source": [
    "class Solution(object):\n",
    "    def maxDistance(self, arrays):\n",
    "        \"\"\"\n",
    "        :type arrays: List[List[int]]\n",
    "        :rtype: int\n",
    "        \"\"\"\n",
    "        if arrays[0][0] <= arrays[1][0]:\n",
    "            min_list = [[arrays[0][0], 0], [arrays[1][0], 1]]\n",
    "        else:\n",
    "            min_list = [[arrays[1][0], 1], [arrays[0][0], 0]]\n",
    "        \n",
    "        #max_list: maximum, next to maximum\n",
    "        if arrays[0][-1] >= arrays[1][-1]:\n",
    "            max_list = [[arrays[0][-1], 0], [arrays[1][-1], 1]]\n",
    "        else:\n",
    "            max_list = [[arrays[1][-1], 1], [arrays[0][-1], 0]]\n",
    "            \n",
    "        for i in range(2, len(arrays)):\n",
    "            if arrays[i][0] < min_list[1][0]:\n",
    "                min_list.pop(1)\n",
    "                if arrays[i][0] >= min_list[0][0]:\n",
    "                    min_list.append([arrays[i][0], i])\n",
    "                else:\n",
    "                    min_list.insert(0, [arrays[i][0], i])\n",
    "            if arrays[i][-1] > max_list[1][0]:\n",
    "                max_list.pop(1)\n",
    "                if arrays[i][-1] <= max_list[0][0]:\n",
    "                    max_list.append([arrays[i][-1], i])\n",
    "                else:\n",
    "                    max_list.insert(0, [arrays[i][-1], i])\n",
    "        \n",
    "        if (min_list[0][1] != max_list[0][1]):\n",
    "            return max_list[0][0] - min_list[0][0]\n",
    "        else:\n",
    "            return max(max_list[0][0] - min_list[1][0], max_list[1][0] - min_list[0][0])\n",
    "        \n",
    "def main():\n",
    "    print Solution().maxDistance([[1,3,5,7],[2,3,6,8,10],[7,9,12,13]])\n",
    "                                  \n",
    "if __name__ == \"__main__\":\n",
    "    main()"
   ]
  },
  {
   "cell_type": "markdown",
   "metadata": {},
   "source": [
    "## Solution 2"
   ]
  },
  {
   "cell_type": "code",
   "execution_count": 2,
   "metadata": {},
   "outputs": [
    {
     "name": "stdout",
     "output_type": "stream",
     "text": [
      "12\n"
     ]
    }
   ],
   "source": [
    "class Solution(object):\n",
    "    def maxDistance(self, arrays):\n",
    "        \n",
    "        min_val = min(arrays[0][0], arrays[1][0])\n",
    "        max_val = max(arrays[0][-1], arrays[1][-1])\n",
    "        max_diff = max(arrays[1][-1] - arrays[0][0], arrays[0][-1] - arrays[1][0])\n",
    "        length = len(arrays)\n",
    "        \n",
    "        for i in range(2, length):\n",
    "            max_diff = max(arrays[i][-1] - min_val, max_val - arrays[i][0], max_diff)\n",
    "            min_val = min(min_val, arrays[i][0])\n",
    "            max_val = max(max_val, arrays[i][-1]) \n",
    "            \n",
    "        return max_diff\n",
    "            \n",
    "def main():\n",
    "    print Solution().maxDistance([[1,3,5,7],[2,3,6,8,10],[7,9,12,13]])\n",
    "                                  \n",
    "if __name__ == \"__main__\":\n",
    "    main()        \n",
    "        "
   ]
  }
 ],
 "metadata": {
  "kernelspec": {
   "display_name": "Python 2",
   "language": "python",
   "name": "python2"
  },
  "language_info": {
   "codemirror_mode": {
    "name": "ipython",
    "version": 2
   },
   "file_extension": ".py",
   "mimetype": "text/x-python",
   "name": "python",
   "nbconvert_exporter": "python",
   "pygments_lexer": "ipython2",
   "version": "2.7.13"
  }
 },
 "nbformat": 4,
 "nbformat_minor": 2
}

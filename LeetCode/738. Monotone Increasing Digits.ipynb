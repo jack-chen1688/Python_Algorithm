{
 "cells": [
  {
   "cell_type": "markdown",
   "metadata": {},
   "source": [
    "# 738. Monotone Increasing Digits"
   ]
  },
  {
   "cell_type": "markdown",
   "metadata": {},
   "source": [
    "Given a non-negative integer N, find the largest number that is less than or equal to N with monotone increasing \n",
    "digits.\n",
    "\n",
    "(Recall that an integer has monotone increasing digits if and only if each pair of adjacent digits x and y satisfy \n",
    "x <= y.)\n",
    "\n",
    "Example 1:\n",
    "Input: N = 10\n",
    "Output: 9\n",
    "Example 2:\n",
    "Input: N = 1234\n",
    "Output: 1234\n",
    "Example 3:\n",
    "Input: N = 332\n",
    "Output: 299\n",
    "Note: N is an integer in the range [0, 10^9]."
   ]
  },
  {
   "cell_type": "markdown",
   "metadata": {},
   "source": [
    "## Solution. Time Complexity O(n)"
   ]
  },
  {
   "cell_type": "code",
   "execution_count": null,
   "metadata": {
    "collapsed": true
   },
   "outputs": [],
   "source": [
    "class Solution(object):\n",
    "    def monotoneIncreasingDigits(self, N):\n",
    "        \"\"\"\n",
    "        :type N: int\n",
    "        :rtype: int\n",
    "        \"\"\"\n",
    "\n",
    "        if N < 10:\n",
    "            return N\n",
    "        \n",
    "        digits =  [int(ch) for ch in str(N)]\n",
    "        \n",
    "        pos = None\n",
    "        for i in xrange(len(digits) - 1):\n",
    "            if digits[i] < digits[i+1]:\n",
    "                pos = i\n",
    "            elif digits[i] == digits[i+1]:\n",
    "                pass\n",
    "            else:\n",
    "                if pos == None:\n",
    "                    return int(str(digits[0]-1) + '9' * (len(digits) - 1))\n",
    "                else:\n",
    "                    return int (str(N)[:pos+1] + str(digits[pos+1] - 1) + '9' * (len(digits)  - pos - 2) ) #pos+1, len-1\n",
    "        else:\n",
    "            return N"
   ]
  }
 ],
 "metadata": {
  "kernelspec": {
   "display_name": "Python 2",
   "language": "python",
   "name": "python2"
  },
  "language_info": {
   "codemirror_mode": {
    "name": "ipython",
    "version": 2
   },
   "file_extension": ".py",
   "mimetype": "text/x-python",
   "name": "python",
   "nbconvert_exporter": "python",
   "pygments_lexer": "ipython2",
   "version": "2.7.13"
  }
 },
 "nbformat": 4,
 "nbformat_minor": 2
}

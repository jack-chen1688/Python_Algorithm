{
 "cells": [
  {
   "cell_type": "markdown",
   "metadata": {},
   "source": [
    "# 687. Longest Univalue Path My SubmissionsBack to Contest"
   ]
  },
  {
   "cell_type": "markdown",
   "metadata": {},
   "source": [
    "Given a binary tree, find the length of the longest path where each node in the path has the same value. This path may or may not pass through the root.\n",
    "\n",
    "Note: The length of path between two nodes is represented by the number of edges between them.\n",
    "\n",
    "Example 1:\n",
    "\n",
    "Input:\n",
    "\n",
    "              5\n",
    "             / \\\n",
    "            4   5\n",
    "           / \\   \\\n",
    "          1   1   5\n",
    "Output:\n",
    "\n",
    "2\n",
    "Example 2:\n",
    "\n",
    "Input:\n",
    "\n",
    "              1\n",
    "             / \\\n",
    "            4   5\n",
    "           / \\   \\\n",
    "          4   4   5\n",
    "Output:\n",
    "\n",
    "2\n",
    "Note: The given binary tree has not more than 10000 nodes. The height of the tree is not more than 1000."
   ]
  },
  {
   "cell_type": "markdown",
   "metadata": {},
   "source": [
    "## Solution. DFS Recursive Approach"
   ]
  },
  {
   "cell_type": "code",
   "execution_count": null,
   "metadata": {
    "collapsed": true
   },
   "outputs": [],
   "source": [
    "# Definition for a binary tree node.\n",
    "# class TreeNode(object):\n",
    "#     def __init__(self, x):\n",
    "#         self.val = x\n",
    "#         self.left = None\n",
    "#         self.right = N`one\n",
    "\n",
    "class Solution(object):\n",
    "    \n",
    "    def __init__(self):\n",
    "        self.dict = {}\n",
    "        \n",
    "    def longestUnivaluePath(self, root):\n",
    "        \"\"\"\n",
    "        :type root: TreeNode\n",
    "        :rtype: int\n",
    "        \"\"\"\n",
    "        if root == None:\n",
    "            self.dict[root] = 0\n",
    "            return 0\n",
    "        \n",
    "        self.dict[root] = 0 \n",
    "        \n",
    "        \n",
    "        left_res = self.longestUnivaluePath(root.left)\n",
    "        right_res = self.longestUnivaluePath(root.right)\n",
    "        \n",
    "        max_len = 0\n",
    "        self.dict[root] = 0\n",
    "        if root.left and root.val == root.left.val:\n",
    "            max_len += self.dict[root.left] + 1\n",
    "            self.dict[root] += max_len\n",
    "            \n",
    "        if root.right and root.val == root.right.val:\n",
    "            max_len += self.dict[root.right] + 1\n",
    "            self.dict[root] = max(self.dict[root.right] + 1, self.dict[root] ) \n",
    "        \n",
    "        \n",
    "        return max(max_len, left_res, right_res)\n",
    "        \n",
    "        "
   ]
  }
 ],
 "metadata": {
  "kernelspec": {
   "display_name": "Python 2",
   "language": "python",
   "name": "python2"
  },
  "language_info": {
   "codemirror_mode": {
    "name": "ipython",
    "version": 2
   },
   "file_extension": ".py",
   "mimetype": "text/x-python",
   "name": "python",
   "nbconvert_exporter": "python",
   "pygments_lexer": "ipython2",
   "version": "2.7.13"
  }
 },
 "nbformat": 4,
 "nbformat_minor": 2
}

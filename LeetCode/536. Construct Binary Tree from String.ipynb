{
 "cells": [
  {
   "cell_type": "markdown",
   "metadata": {},
   "source": [
    "# 536. Construct Binary Tree from String"
   ]
  },
  {
   "cell_type": "markdown",
   "metadata": {},
   "source": [
    "\n",
    "You need to construct a binary tree from a string consisting of parenthesis and integers.\n",
    "\n",
    "The whole input represents a binary tree. It contains an integer followed by zero, one or two pairs of parenthesis. The integer represents the root's value and a pair of parenthesis contains a child binary tree with the same structure.\n",
    "\n",
    "You always start to construct the left child node of the parent first if it exists.\n",
    "\n",
    "Example:\n",
    "Input: \"4(2(3)(1))(6(5))\"\n",
    "Output: return the tree root node representing the following tree:\n",
    "\n",
    "       4\n",
    "     /   \\\n",
    "    2     6\n",
    "   / \\   / \n",
    "  3   1 5   \n",
    "Note:\n",
    "There will only be '(', ')', '-' and '0' ~ '9' in the input string.\n",
    "An empty tree is represented by \"\" instead of \"()\"."
   ]
  },
  {
   "cell_type": "markdown",
   "metadata": {},
   "source": [
    "## Solution"
   ]
  },
  {
   "cell_type": "code",
   "execution_count": null,
   "metadata": {
    "collapsed": true
   },
   "outputs": [],
   "source": [
    "# Definition for a binary tree node.\n",
    "# class TreeNode(object):\n",
    "#     def __init__(self, x):\n",
    "#         self.val = x\n",
    "#         self.left = None\n",
    "#         self.right = None\n",
    "\n",
    "class Solution(object):\n",
    "    def str2tree(self, s):\n",
    "        \"\"\"\n",
    "        :type s: str\n",
    "        :rtype: TreeNode\n",
    "        \"\"\"\n",
    "        if s == \"\":\n",
    "            return None\n",
    "        \n",
    "        left_start = s.find(\"(\")\n",
    "        \n",
    "        if left_start > 0:\n",
    "            root = TreeNode(int(s[:left_start]))\n",
    "\n",
    "            cnt = 1\n",
    "            left_end = None\n",
    "            for i in xrange(left_start+1, len(s)):\n",
    "                if s[i] == \"(\":\n",
    "                    cnt+=1\n",
    "                elif s[i] == \")\":\n",
    "                    cnt-=1\n",
    "                    if cnt == 0:\n",
    "                        left_end = i\n",
    "                        break\n",
    "            root.left = self.str2tree(s[left_start+1:left_end])\n",
    "            root.right = self.str2tree(s[left_end+2:len(s)-1])   \n",
    "            return root\n",
    "        else:\n",
    "            return TreeNode(int(s))\n",
    "        "
   ]
  }
 ],
 "metadata": {
  "kernelspec": {
   "display_name": "Python 2",
   "language": "python",
   "name": "python2"
  },
  "language_info": {
   "codemirror_mode": {
    "name": "ipython",
    "version": 2
   },
   "file_extension": ".py",
   "mimetype": "text/x-python",
   "name": "python",
   "nbconvert_exporter": "python",
   "pygments_lexer": "ipython2",
   "version": "2.7.13"
  }
 },
 "nbformat": 4,
 "nbformat_minor": 2
}

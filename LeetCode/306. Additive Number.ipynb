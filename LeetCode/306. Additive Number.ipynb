{
 "cells": [
  {
   "cell_type": "markdown",
   "metadata": {},
   "source": [
    "# 306. Additive Number"
   ]
  },
  {
   "cell_type": "markdown",
   "metadata": {},
   "source": [
    "Additive number is a string whose digits can form additive sequence.\n",
    "\n",
    "A valid additive sequence should contain at least three numbers. Except for the first two numbers, each subsequent number in the sequence must be the sum of the preceding two.\n",
    "\n",
    "For example:\n",
    "\"112358\" is an additive number because the digits can form an additive sequence: 1, 1, 2, 3, 5, 8.\n",
    "\n",
    "1 + 1 = 2, 1 + 2 = 3, 2 + 3 = 5, 3 + 5 = 8\n",
    "\"199100199\" is also an additive number, the additive sequence is: 1, 99, 100, 199.\n",
    "1 + 99 = 100, 99 + 100 = 199\n",
    "Note: Numbers in the additive sequence cannot have leading zeros, so sequence 1, 2, 03 or 1, 02, 3 is invalid.\n",
    "\n",
    "Given a string containing only digits '0'-'9', write a function to determine if it's an additive number.\n",
    "\n",
    "Follow up:\n",
    "How would you handle overflow for very large input integers?\n",
    "\n",
    "Credits:\n",
    "Special thanks to @jeantimex for adding this problem and creating all test cases."
   ]
  },
  {
   "cell_type": "markdown",
   "metadata": {},
   "source": [
    "## Solution"
   ]
  },
  {
   "cell_type": "code",
   "execution_count": null,
   "metadata": {
    "collapsed": true
   },
   "outputs": [],
   "source": [
    "class Solution(object):\n",
    "    def isAdditiveNumber(self, num):\n",
    "        \"\"\"\n",
    "        :type num: str\n",
    "        :rtype: bool\n",
    "        \"\"\"\n",
    "        if len(num) < 3:\n",
    "            return False\n",
    "        \n",
    "        def is_addictive(i,j,num):\n",
    "            \n",
    "            if (i > 1 and num.startswith(\"0\")) or (j>1 and num[i:].startswith(\"0\")):\n",
    "                return False\n",
    "            \n",
    "            first = int(num[:i])\n",
    "            second = int(num[i:i+j])\n",
    "            \n",
    "            tot = first + second\n",
    "            pos = i+j\n",
    "            while num[pos:].startswith(str(tot)):\n",
    "                pos += len(str(tot))\n",
    "                if pos < len(num):\n",
    "                    first, second = second, tot\n",
    "                    tot = first+second\n",
    "                else:\n",
    "                    return True\n",
    "            \n",
    "            return False\n",
    "        \n",
    "        \"\"\"\n",
    "        i + j + k == len(num)\n",
    "        k >= i and j >=1\n",
    "        2*i <= len(num) - 1\n",
    "        i <= (len(num) - 1)/2\n",
    "        i+1 <= (len(num) + 1)/2\n",
    "        \"\"\"\n",
    "        \n",
    "        for i in xrange(1, (len(num) + 1)/2): \n",
    "            \"\"\"\n",
    "            j + k = len(num) - i\n",
    "            k >= i \n",
    "            j <= len(num) - 2*i\n",
    "            j+1 <= len(num) - 2*i +1\n",
    "            \"\"\"\n",
    "            for j in xrange(1, len(num) - 2*i + 1):\n",
    "                if is_addictive(i,j, num):\n",
    "                    return True\n",
    "                \n",
    "        return False"
   ]
  }
 ],
 "metadata": {
  "kernelspec": {
   "display_name": "Python 2",
   "language": "python",
   "name": "python2"
  },
  "language_info": {
   "codemirror_mode": {
    "name": "ipython",
    "version": 2
   },
   "file_extension": ".py",
   "mimetype": "text/x-python",
   "name": "python",
   "nbconvert_exporter": "python",
   "pygments_lexer": "ipython2",
   "version": "2.7.13"
  }
 },
 "nbformat": 4,
 "nbformat_minor": 2
}

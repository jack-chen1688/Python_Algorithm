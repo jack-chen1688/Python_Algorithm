{
 "cells": [
  {
   "cell_type": "markdown",
   "metadata": {},
   "source": [
    "# 405. Convert a Number to Hexadecimal"
   ]
  },
  {
   "cell_type": "markdown",
   "metadata": {},
   "source": [
    "\n",
    "Given an integer, write an algorithm to convert it to hexadecimal. For negative integer, two’s complement method is used.\n",
    "\n",
    "Note:\n",
    "\n",
    "All letters in hexadecimal (a-f) must be in lowercase.\n",
    "The hexadecimal string must not contain extra leading 0s. If the number is zero, it is represented by a single zero character '0'; otherwise, the first character in the hexadecimal string will not be the zero character.\n",
    "The given number is guaranteed to fit within the range of a 32-bit signed integer.\n",
    "You must not use any method provided by the library which converts/formats the number to hex directly.\n",
    "Example 1:\n",
    "\n",
    "Input:\n",
    "26\n",
    "\n",
    "Output:\n",
    "\"1a\"\n",
    "Example 2:\n",
    "\n",
    "Input:\n",
    "-1\n",
    "\n",
    "Output:\n",
    "\"ffffffff\""
   ]
  },
  {
   "cell_type": "markdown",
   "metadata": {},
   "source": [
    "## Solution"
   ]
  },
  {
   "cell_type": "code",
   "execution_count": null,
   "metadata": {
    "collapsed": true
   },
   "outputs": [],
   "source": [
    "class Solution(object):\n",
    "    def toHex(self, num):\n",
    "        \"\"\"\n",
    "        :type num: int\n",
    "        :rtype: str\n",
    "        \"\"\"\n",
    "        \n",
    "        if num == 0:\n",
    "            return '0'\n",
    "        \n",
    "        if num < 0:\n",
    "            num += 2**32\n",
    "        \n",
    "        dict = {0:'0',1:'1', 2:'2', 3:'3', 4:'4', 5:'5', 6:'6', 7:'7', \\\n",
    "                8:'8', 9:'9', 10:'a', 11:'b', 12:'c', 13:'d', 14:'e', 15:'f'}\n",
    "\n",
    "        \n",
    "        str = \"\"\n",
    "        while num:\n",
    "            str = dict[num & 15] + str\n",
    "            num >>= 4\n",
    "       \n",
    "        return str"
   ]
  }
 ],
 "metadata": {
  "kernelspec": {
   "display_name": "Python 2",
   "language": "python",
   "name": "python2"
  },
  "language_info": {
   "codemirror_mode": {
    "name": "ipython",
    "version": 2
   },
   "file_extension": ".py",
   "mimetype": "text/x-python",
   "name": "python",
   "nbconvert_exporter": "python",
   "pygments_lexer": "ipython2",
   "version": "2.7.13"
  }
 },
 "nbformat": 4,
 "nbformat_minor": 2
}

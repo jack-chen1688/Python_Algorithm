{
 "cells": [
  {
   "cell_type": "markdown",
   "metadata": {},
   "source": [
    "# 605. Can Place Flowers"
   ]
  },
  {
   "cell_type": "markdown",
   "metadata": {},
   "source": [
    "\n",
    "Suppose you have a long flowerbed in which some of the plots are planted and some are not. However, flowers cannot \n",
    "be planted in adjacent plots - they would compete for water and both would die.\n",
    "\n",
    "Given a flowerbed (represented as an array containing 0 and 1, where 0 means empty and 1 means not empty), and a \n",
    "number n, return if n new flowers can be planted in it without violating the no-adjacent-flowers rule.\n",
    "\n",
    "Example 1:\n",
    "Input: flowerbed = [1,0,0,0,1], n = 1\n",
    "Output: True\n",
    "Example 2:\n",
    "Input: flowerbed = [1,0,0,0,1], n = 2\n",
    "Output: False\n",
    "Note:\n",
    "The input array won't violate no-adjacent-flowers rule.\n",
    "The input array size is in the range of [1, 20000].\n",
    "n is a non-negative integer which won't exceed the input array size.\n"
   ]
  },
  {
   "cell_type": "markdown",
   "metadata": {},
   "source": [
    "# Solution. Time Complexity of O(n)"
   ]
  },
  {
   "cell_type": "code",
   "execution_count": null,
   "metadata": {
    "collapsed": true
   },
   "outputs": [],
   "source": [
    "class Solution(object):\n",
    "    \n",
    "\n",
    "    def canPlaceFlowers(self, flowerbed, n):\n",
    "        \"\"\"\n",
    "        :type flowerbed: List[int]\n",
    "        :type n: int\n",
    "        :rtype: bool\n",
    "        \"\"\"\n",
    "    \n",
    "        total = 0\n",
    "        numZeros = 1\n",
    "        \n",
    "        for flower in flowerbed:\n",
    "            if flower == 0:\n",
    "                numZeros += 1;\n",
    "            elif numZeros:\n",
    "                total += (numZeros - 1)/2\n",
    "                numZeros = 0\n",
    "\n",
    "        total += numZeros/2\n",
    "        return total >= n\n",
    " "
   ]
  }
 ],
 "metadata": {
  "kernelspec": {
   "display_name": "Python 2",
   "language": "python",
   "name": "python2"
  },
  "language_info": {
   "codemirror_mode": {
    "name": "ipython",
    "version": 2
   },
   "file_extension": ".py",
   "mimetype": "text/x-python",
   "name": "python",
   "nbconvert_exporter": "python",
   "pygments_lexer": "ipython2",
   "version": "2.7.13"
  }
 },
 "nbformat": 4,
 "nbformat_minor": 2
}

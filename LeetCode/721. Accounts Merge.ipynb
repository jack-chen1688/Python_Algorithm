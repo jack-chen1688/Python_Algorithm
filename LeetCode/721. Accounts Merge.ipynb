{
 "cells": [
  {
   "cell_type": "markdown",
   "metadata": {},
   "source": [
    "# 721. Accounts Merge"
   ]
  },
  {
   "cell_type": "markdown",
   "metadata": {},
   "source": [
    "Given a list accounts, each element accounts[i] is a list of strings, where the first element accounts[i][0] is a \n",
    "name, and the rest of the elements are emails representing emails of the account, in sorted order.\n",
    "\n",
    "Now, we would like to merge these accounts. Two accounts definitely belong to the same person if there is some \n",
    "email that is common to both accounts. Note that even if two accounts have the same name, they may belong to \n",
    "different people as people could have the same name. A person can have any number of accounts initially, but all \n",
    "of their accounts definitely have the same name.\n",
    "\n",
    "After merging the accounts, return the accounts in the format they were given: the first element of each account \n",
    "is the name, and the rest of the elements are emails in sorted order. The accounts themselves can be returned in \n",
    "any order.\n",
    "\n",
    "Example 1:\n",
    "Input: \n",
    "accounts = [[\"John\", \"johnsmith@mail.com\", \"john00@mail.com\"], [\"John\", \"johnnybravo@mail.com\"], [\"John\", \n",
    "\"johnsmith@mail.com\", \"john_newyork@mail.com\"], [\"Mary\", \"mary@mail.com\"]]\n",
    "Output: [[\"John\", 'john00@mail.com', 'john_newyork@mail.com', 'johnsmith@mail.com'],  [\"John\", \n",
    "\"johnnybravo@mail.com\"], [\"Mary\", \"mary@mail.com\"]]\n",
    "Explanation: \n",
    "The first and third John's are the same person as they have the common email \"johnsmith@mail.com\".\n",
    "The second John and Mary are different people as none of their email addresses are used by other accounts.\n",
    "We could return these lists in any order, for example the answer [['Mary', 'mary@mail.com'], ['John', \n",
    "'johnnybravo@mail.com'], \n",
    "['John', 'john00@mail.com', 'john_newyork@mail.com', 'johnsmith@mail.com']] would still be accepted.\n",
    "Note:\n",
    "\n",
    "The length of accounts will be in the range [1, 1000].\n",
    "The length of accounts[i] will be in the range [1, 10].\n",
    "The length of accounts[i][j] will be in the range [1, 30]."
   ]
  },
  {
   "cell_type": "markdown",
   "metadata": {},
   "source": [
    "## Solution"
   ]
  },
  {
   "cell_type": "code",
   "execution_count": null,
   "metadata": {
    "collapsed": true
   },
   "outputs": [],
   "source": [
    "class Solution(object):\n",
    "    def accountsMerge(self, accounts):\n",
    "        \"\"\"\n",
    "        :type accounts: List[List[str]]\n",
    "        :rtype: List[List[str]]\n",
    "        \"\"\"\n",
    "        ans = []\n",
    "        dict = {}\n",
    "        \n",
    "        def merge_accounts(merge_lst):\n",
    "            dst = merge_lst[0]\n",
    "            s = set(ans[dst][1:])\n",
    "            for src in merge_lst[1:]:\n",
    "                for email in ans[src][1:]:\n",
    "                    s.add(email)\n",
    "                    dict[email] = dst\n",
    "                ans[src] = []\n",
    "            ans[dst][1:] = list(s)\n",
    "                \n",
    "        for account in accounts:\n",
    "            account1 = account\n",
    "            account1[1:] = set(account[1:])\n",
    "            ans.append(account1)\n",
    "            found = set()\n",
    "            for email in account1[1:]:\n",
    "                if email in dict:\n",
    "                    found.add(dict[email])            \n",
    "                else:\n",
    "                    dict[email] = len(ans) - 1\n",
    "            \n",
    "            #print ans\n",
    "            if found != set():    \n",
    "                merge_lst = list(found) + [len(ans) - 1]\n",
    "                merge_accounts(merge_lst)\n",
    "        \n",
    "        ans1 = []\n",
    "        for lst in ans:\n",
    "            if lst != []:\n",
    "                lst[1:] = sorted(lst[1:])\n",
    "                ans1.append(lst)\n",
    "                \n",
    "        return ans1 \n",
    "            "
   ]
  }
 ],
 "metadata": {
  "kernelspec": {
   "display_name": "Python 2",
   "language": "python",
   "name": "python2"
  },
  "language_info": {
   "codemirror_mode": {
    "name": "ipython",
    "version": 2
   },
   "file_extension": ".py",
   "mimetype": "text/x-python",
   "name": "python",
   "nbconvert_exporter": "python",
   "pygments_lexer": "ipython2",
   "version": "2.7.13"
  }
 },
 "nbformat": 4,
 "nbformat_minor": 2
}

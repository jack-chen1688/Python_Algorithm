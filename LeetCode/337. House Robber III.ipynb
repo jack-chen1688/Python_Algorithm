{
 "cells": [
  {
   "cell_type": "markdown",
   "metadata": {},
   "source": [
    "# 337. House Robber III"
   ]
  },
  {
   "cell_type": "markdown",
   "metadata": {},
   "source": [
    "The thief has found himself a new place for his thievery again. There is only one entrance to this area, called \n",
    "the \"root.\" Besides the root, each house has one and only one parent house. After a tour, the smart thief realized \n",
    "that \"all houses in this place forms a binary tree\". It will automatically contact the police if two directly-\n",
    "linked houses were broken into on the same night.\n",
    "\n",
    "Determine the maximum amount of money the thief can rob tonight without alerting the police.\n",
    "\n",
    "Example 1:\n",
    "     3\n",
    "    / \\\n",
    "   2   3\n",
    "    \\   \\ \n",
    "     3   1\n",
    "Maximum amount of money the thief can rob = 3 + 3 + 1 = 7.\n",
    "Example 2:\n",
    "     3\n",
    "    / \\\n",
    "   4   5\n",
    "  / \\   \\ \n",
    " 1   3   1\n",
    "Maximum amount of money the thief can rob = 4 + 5 = 9.\n",
    "Credits:\n",
    "Special thanks to @dietpepsi for adding this problem and creating all test cases."
   ]
  },
  {
   "cell_type": "markdown",
   "metadata": {},
   "source": [
    "## Solution"
   ]
  },
  {
   "cell_type": "code",
   "execution_count": null,
   "metadata": {
    "collapsed": true
   },
   "outputs": [],
   "source": [
    "# Definition for a binary tree node.\n",
    "# class TreeNode(object):\n",
    "#     def __init__(self, x):\n",
    "#         self.val = x\n",
    "#         self.left = None\n",
    "#         self.right = None\n",
    "\n",
    "class Solution(object):\n",
    "    def rob(self, root):\n",
    "        \"\"\"\n",
    "        :type root: TreeNode\n",
    "        :rtype: int\n",
    "        \"\"\"\n",
    "\n",
    "        \"\"\"\n",
    "        dfs(root) returns two values:\n",
    "        1. max value without root selected\n",
    "        2. max value with root selected\n",
    "        \"\"\"\n",
    "        def dfs(root):\n",
    "            \n",
    "            if root != None:\n",
    "                left_max0, left_max1 = dfs(root.left)\n",
    "                right_max0, right_max1 = dfs(root.right)\n",
    "                \n",
    "                return [max(left_max0,left_max1) + max(right_max0,right_max1), left_max0 + right_max0 + root.val]\n",
    "            else:\n",
    "                return [0, 0]\n",
    "            \n",
    "        return max(dfs(root))"
   ]
  }
 ],
 "metadata": {
  "kernelspec": {
   "display_name": "Python 2",
   "language": "python",
   "name": "python2"
  },
  "language_info": {
   "codemirror_mode": {
    "name": "ipython",
    "version": 2
   },
   "file_extension": ".py",
   "mimetype": "text/x-python",
   "name": "python",
   "nbconvert_exporter": "python",
   "pygments_lexer": "ipython2",
   "version": "2.7.13"
  }
 },
 "nbformat": 4,
 "nbformat_minor": 2
}

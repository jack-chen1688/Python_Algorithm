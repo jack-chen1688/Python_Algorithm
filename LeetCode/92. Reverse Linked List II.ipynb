{
 "cells": [
  {
   "cell_type": "markdown",
   "metadata": {},
   "source": [
    "# 92. Reverse Linked List II"
   ]
  },
  {
   "cell_type": "markdown",
   "metadata": {},
   "source": [
    "\n",
    "Reverse a linked list from position m to n. Do it in-place and in one-pass.\n",
    "\n",
    "For example:\n",
    "Given 1->2->3->4->5->NULL, m = 2 and n = 4,\n",
    "\n",
    "return 1->4->3->2->5->NULL.\n",
    "\n",
    "Note:\n",
    "Given m, n satisfy the following condition:\n",
    "1 ≤ m ≤ n ≤ length of list."
   ]
  },
  {
   "cell_type": "markdown",
   "metadata": {},
   "source": [
    "## Solution"
   ]
  },
  {
   "cell_type": "code",
   "execution_count": null,
   "metadata": {
    "collapsed": true
   },
   "outputs": [],
   "source": [
    "# Definition for singly-linked list.\n",
    "# class ListNode(object):\n",
    "#     def __init__(self, x):\n",
    "#         self.val = x\n",
    "#         self.next = None\n",
    "\n",
    "class Solution(object):\n",
    "    def reverseBetween(self, head, m, n):\n",
    "        \"\"\"\n",
    "        :type head: ListNode\n",
    "        :type m: int\n",
    "        :type n: int\n",
    "        :rtype: ListNode\n",
    "        \"\"\"\n",
    "        \"\"\"\n",
    "        1 2 3 4 5\n",
    "        1 3 2 4 5\n",
    "        1 4 3 2 5 \n",
    "        \"\"\"\n",
    "        dummyHead = ListNode(0)\n",
    "        dummyHead.next = head\n",
    "        \n",
    "        node = dummyHead\n",
    "        for i in xrange(m-1):\n",
    "            node = node.next\n",
    "        \n",
    "        prev_node, node = node, node.next\n",
    "        print prev_node.val, node.val\n",
    "        \n",
    "        for i in xrange(n-m):\n",
    "            next_node = node.next\n",
    "            node.next = next_node.next\n",
    "            next_node.next = prev_node.next\n",
    "            prev_node.next = next_node\n",
    "            \n",
    "        return dummyHead.next"
   ]
  }
 ],
 "metadata": {
  "kernelspec": {
   "display_name": "Python 2",
   "language": "python",
   "name": "python2"
  },
  "language_info": {
   "codemirror_mode": {
    "name": "ipython",
    "version": 2
   },
   "file_extension": ".py",
   "mimetype": "text/x-python",
   "name": "python",
   "nbconvert_exporter": "python",
   "pygments_lexer": "ipython2",
   "version": "2.7.13"
  }
 },
 "nbformat": 4,
 "nbformat_minor": 2
}

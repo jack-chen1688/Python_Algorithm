{
 "cells": [
  {
   "cell_type": "markdown",
   "metadata": {},
   "source": [
    "# 360. Sort Transformed Array"
   ]
  },
  {
   "cell_type": "markdown",
   "metadata": {},
   "source": [
    "\n",
    "Given a sorted array of integers nums and integer values a, b and c. Apply a quadratic function of the form f(x) = ax2 + bx + c to each element x in the array.\n",
    "\n",
    "The returned array must be in sorted order.\n",
    "\n",
    "Expected time complexity: O(n)\n",
    "\n",
    "Example:\n",
    "nums = [-4, -2, 2, 4], a = 1, b = 3, c = 5,\n",
    "\n",
    "Result: [3, 9, 15, 33]\n",
    "\n",
    "nums = [-4, -2, 2, 4], a = -1, b = 3, c = 5\n",
    "\n",
    "Result: [-23, -5, 1, 7]\n",
    "Credits:\n",
    "Special thanks to @elmirap for adding this problem and creating all test cases."
   ]
  },
  {
   "cell_type": "markdown",
   "metadata": {},
   "source": [
    "## Solution"
   ]
  },
  {
   "cell_type": "code",
   "execution_count": null,
   "metadata": {
    "collapsed": true
   },
   "outputs": [],
   "source": [
    "class Solution(object):\n",
    "    def sortTransformedArray(self, nums, a, b, c):\n",
    "        \"\"\"\n",
    "        :type nums: List[int]\n",
    "        :type a: int\n",
    "        :type b: int\n",
    "        :type c: int\n",
    "        :rtype: List[int]\n",
    "        \"\"\"\n",
    "        if a == 0:\n",
    "            ans = [b*num + c for num in nums]\n",
    "            return ans if b>=0 else ans[::-1]\n",
    "        \n",
    "        pivot = -float(b)/(2*a)\n",
    "        pos = bisect.bisect_left(nums, pivot)\n",
    "        \n",
    "        left = nums[:pos][::-1]\n",
    "        right = nums[pos:]\n",
    "        ans = []\n",
    "        left_pos = 0\n",
    "        right_pos = 0\n",
    "        \n",
    "        while left_pos < len(left) and right_pos < len(right):\n",
    "            if pivot - left[left_pos] <= right[right_pos] - pivot:\n",
    "                ans.append(left[left_pos])   \n",
    "                left_pos += 1\n",
    "            else:\n",
    "                ans.append(right[right_pos])\n",
    "                right_pos += 1\n",
    "        \n",
    "        if left_pos == len(left):\n",
    "            ans.extend(right[right_pos:])\n",
    "        else:\n",
    "            ans.extend(left[left_pos:])\n",
    "        \n",
    "        ans = map(lambda x: a*x*x + b*x +c, ans)\n",
    "        return ans if a > 0 else ans[::-1]"
   ]
  }
 ],
 "metadata": {
  "kernelspec": {
   "display_name": "Python 2",
   "language": "python",
   "name": "python2"
  },
  "language_info": {
   "codemirror_mode": {
    "name": "ipython",
    "version": 2
   },
   "file_extension": ".py",
   "mimetype": "text/x-python",
   "name": "python",
   "nbconvert_exporter": "python",
   "pygments_lexer": "ipython2",
   "version": "2.7.13"
  }
 },
 "nbformat": 4,
 "nbformat_minor": 2
}

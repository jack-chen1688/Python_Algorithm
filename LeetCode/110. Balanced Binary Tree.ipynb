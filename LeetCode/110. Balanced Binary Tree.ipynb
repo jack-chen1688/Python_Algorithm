{
 "cells": [
  {
   "cell_type": "markdown",
   "metadata": {},
   "source": [
    "# 110. Balanced Binary Tree"
   ]
  },
  {
   "cell_type": "markdown",
   "metadata": {},
   "source": [
    "Given a binary tree, determine if it is height-balanced.\n",
    "\n",
    "For this problem, a height-balanced binary tree is defined as a binary tree in which the depth of the two subtrees of every node never differ by more than 1."
   ]
  },
  {
   "cell_type": "markdown",
   "metadata": {},
   "source": [
    "## Solution 1. Recursive Approach"
   ]
  },
  {
   "cell_type": "code",
   "execution_count": 2,
   "metadata": {
    "collapsed": true
   },
   "outputs": [],
   "source": [
    "# Definition for a binary tree node.\n",
    "# class TreeNode(object):\n",
    "#     def __init__(self, x):\n",
    "#         self.val = x\n",
    "#         self.left = None\n",
    "#         self.right = None\n",
    "\n",
    "class Solution(object):\n",
    "\n",
    "    dict = {}\n",
    "    \n",
    "    def get_subtree_weight(self, dict, root):\n",
    "        if not root:\n",
    "            return 0\n",
    "        \n",
    "        if root in self.dict:\n",
    "            return self.dict[root]\n",
    "        else:\n",
    "            weight = max(self.get_subtree_weight(self.dict, root.left), self.get_subtree_weight(self.dict, root.right)) + 1\n",
    "            self.dict[root] = weight\n",
    "            return weight\n",
    "        \n",
    "    def isBalanced(self, root):\n",
    "        \"\"\"\n",
    "        :type root: TreeNode\n",
    "        :rtype: bool\n",
    "        \"\"\"\n",
    "        if not root:\n",
    "            return True\n",
    "        \n",
    "        if not self.isBalanced(root.left) or not self.isBalanced(root.right) or \\\n",
    "            abs(self.get_subtree_weight(dict, root.left) - self.get_subtree_weight(dict, root.right)) > 1:\n",
    "            return False        \n",
    "        else:\n",
    "            return True\n",
    "        \n",
    "        "
   ]
  }
 ],
 "metadata": {
  "kernelspec": {
   "display_name": "Python 2",
   "language": "python",
   "name": "python2"
  },
  "language_info": {
   "codemirror_mode": {
    "name": "ipython",
    "version": 2
   },
   "file_extension": ".py",
   "mimetype": "text/x-python",
   "name": "python",
   "nbconvert_exporter": "python",
   "pygments_lexer": "ipython2",
   "version": "2.7.13"
  }
 },
 "nbformat": 4,
 "nbformat_minor": 2
}

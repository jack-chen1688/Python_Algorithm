{
 "cells": [
  {
   "cell_type": "markdown",
   "metadata": {},
   "source": [
    "# 496. Next Greater Element I"
   ]
  },
  {
   "cell_type": "markdown",
   "metadata": {},
   "source": [
    "You are given two arrays (without duplicates) nums1 and nums2 where nums1’s elements are subset of nums2. Find all the next greater numbers for nums1's elements in the corresponding places of nums2.\n",
    "\n",
    "The Next Greater Number of a number x in nums1 is the first greater number to its right in nums2. If it does not exist, output -1 for this number.\n",
    "\n",
    "Example 1:\n",
    "Input: nums1 = [4,1,2], nums2 = [1,3,4,2].\n",
    "Output: [-1,3,-1]\n",
    "Explanation:\n",
    "    For number 4 in the first array, you cannot find the next greater number for it in the second array, so output -1.\n",
    "    For number 1 in the first array, the next greater number for it in the second array is 3.\n",
    "    For number 2 in the first array, there is no next greater number for it in the second array, so output -1.\n",
    "Example 2:\n",
    "Input: nums1 = [2,4], nums2 = [1,2,3,4].\n",
    "Output: [3,-1]\n",
    "Explanation:\n",
    "    For number 2 in the first array, the next greater number for it in the second array is 3.\n",
    "    For number 4 in the first array, there is no next greater number for it in the second array, so output -1.\n",
    "Note:\n",
    "All elements in nums1 and nums2 are unique.\n",
    "The length of both nums1 and nums2 would not exceed 1000."
   ]
  },
  {
   "cell_type": "markdown",
   "metadata": {},
   "source": [
    "## Solution"
   ]
  },
  {
   "cell_type": "code",
   "execution_count": null,
   "metadata": {
    "collapsed": true
   },
   "outputs": [],
   "source": [
    "class Solution(object):\n",
    "    def nextGreaterElement(self, findNums, nums):\n",
    "        \"\"\"\n",
    "        :type findNums: List[int]\n",
    "        :type nums: List[int]\n",
    "        :rtype: List[int]\n",
    "        \"\"\"\n",
    "        \n",
    "        dict = {x:i for i, x in enumerate(findNums)}\n",
    "        #print dict\n",
    "        lst = [-1] * len(findNums)\n",
    "        \n",
    "        for i, num in enumerate(nums):\n",
    "            if num in dict:\n",
    "                src_pos = dict[num]\n",
    "                #print i, src_pos, num\n",
    "                nxt_gt = None\n",
    "                for j in xrange(i+1, len(nums)):\n",
    "                    if nums[j] > num: \n",
    "                        nxt_gt = nums[j]\n",
    "                        break\n",
    "                            \n",
    "                if nxt_gt != None:\n",
    "                    lst[src_pos] = nxt_gt\n",
    "        \n",
    "        return lst"
   ]
  }
 ],
 "metadata": {
  "kernelspec": {
   "display_name": "Python 2",
   "language": "python",
   "name": "python2"
  },
  "language_info": {
   "codemirror_mode": {
    "name": "ipython",
    "version": 2
   },
   "file_extension": ".py",
   "mimetype": "text/x-python",
   "name": "python",
   "nbconvert_exporter": "python",
   "pygments_lexer": "ipython2",
   "version": "2.7.13"
  }
 },
 "nbformat": 4,
 "nbformat_minor": 2
}

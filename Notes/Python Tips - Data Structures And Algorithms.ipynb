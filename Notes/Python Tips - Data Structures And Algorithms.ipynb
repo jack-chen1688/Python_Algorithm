{
 "cells": [
  {
   "cell_type": "markdown",
   "metadata": {},
   "source": [
    "## xrange vs range"
   ]
  },
  {
   "cell_type": "markdown",
   "metadata": {},
   "source": [
    "I noticed some high performance python 2.x codes used xrange() function instead of range() function and wondered what are the differences. Ref [1,2,3]  are good links that provides useful info on the this. Here I sum up what I learned\n",
    "\n",
    "For python 2.x, xrange() is generally faster than range(). range() will create a list in memory while xrange won't do that.  xrange is not a generator or iterator, but a iterable. It is a sequence object that evaulates\n",
    "\n",
    "For python 3.x, range() is essential xrange() of python 2.x. To generate a list, we can do something like list(range(1, 1000))\n",
    "\n",
    "1. https://stackoverflow.com/questions/135041/should-you-always-favor-xrange-over-range\n",
    "2. https://stackoverflow.com/questions/94935/what-is-the-difference-between-range-and-xrange-functions-in-python-2-x\n",
    "3. https://stackoverflow.com/questions/39070168/difference-between-type-generator-and-type-xrange"
   ]
  },
  {
   "cell_type": "markdown",
   "metadata": {},
   "source": [
    "## Get the nodes of next level of a binary tree"
   ]
  },
  {
   "cell_type": "markdown",
   "metadata": {},
   "source": [
    "lst = [child for node in lst for child in (node.left, node.right) if child != None]"
   ]
  },
  {
   "cell_type": "markdown",
   "metadata": {},
   "source": [
    "## Initialize Two Dimentional Array of m Rows And n Colums`"
   ]
  },
  {
   "cell_type": "markdown",
   "metadata": {},
   "source": [
    "To initialize a two dimensional array of m rows and n colums\n",
    "matrix = [[ \"\" for i in range(n)] for j in range(m)]\n",
    "or\n",
    "matrix = [[\"\"] * n for i in range(m)]\n",
    "\n",
    "But do not use matrix = [[\"\"]*n]*m. It can cause unexpected effects during coding. The reason can be seen in the note of Python Traps.\n"
   ]
  },
  {
   "cell_type": "markdown",
   "metadata": {},
   "source": [
    "## Flatten a Matrix"
   ]
  },
  {
   "cell_type": "markdown",
   "metadata": {},
   "source": [
    "A simple code snippet to flatten a matrix to a list is below\n",
    "\n",
    "lst = [ i for row in matrix for i in row]"
   ]
  },
  {
   "cell_type": "markdown",
   "metadata": {},
   "source": [
    "## Dictionary Tips"
   ]
  },
  {
   "cell_type": "markdown",
   "metadata": {},
   "source": [
    "### setdefault Method"
   ]
  },
  {
   "cell_type": "markdown",
   "metadata": {},
   "source": [
    "A common use case is check if key not in dictionary, add the key and set its value to [val]. Otherwise, append val to the key's value, which was a list. Here is a one-liner solution to do that.\n",
    "\n",
    "   dict.setdefault(key, []).append(val)\n",
    "\n",
    "This is equivalent to the following\n",
    "\n",
    "if key not in dict:\n",
    "    dict[key] = [val]\n",
    "else:\n",
    "    dict[key].append(val)"
   ]
  },
  {
   "cell_type": "markdown",
   "metadata": {},
   "source": [
    "### get Method and defaultdict"
   ]
  },
  {
   "cell_type": "markdown",
   "metadata": {},
   "source": [
    "dict[key] = dict.get(key, 0) + 1\n",
    "\n",
    "The one-liner above is equivalent to\n",
    "\n",
    "if key not in dict:\n",
    "    dict[key] = 1\n",
    "else:\n",
    "    dict[key] += 1\n",
    "\n",
    "we can also use defaultdict(int) to simplify the codes. It's equivalent to the following\n",
    "\n",
    "from collections import defaultdict\n",
    "dict = defaultdict(int)\n",
    "dict[key] += 1"
   ]
  },
  {
   "cell_type": "markdown",
   "metadata": {},
   "source": [
    "### Iterate Key and Value Pairs of A Dictionary."
   ]
  },
  {
   "cell_type": "markdown",
   "metadata": {},
   "source": [
    "For python 2.0, we can use iteritems to ierate key and value pairs of a dictionary.\n",
    "\n",
    "for key, val in dict.iteritems():\n",
    "\n",
    "For python 3.0, the correspsonding function to iterate key and value pairs of a dictionary is \n",
    "for key, val in dict.items():"
   ]
  },
  {
   "cell_type": "markdown",
   "metadata": {},
   "source": [
    "### Initialize A Dictionary Using List Expression"
   ]
  },
  {
   "cell_type": "markdown",
   "metadata": {},
   "source": [
    "Use case 1. Map 0,1,2,...,15 to '0','1','2',...,'f'.\n",
    "dict = {x:y for x, y in zip(range(0, 16), '0123456789abcdef')}\n",
    "\n",
    "Use case 2. Using a string to represent Queen's position in N-Queen problem\n",
    "dict = {i: '.'*i + 'Q' + '.'*(n-i-1) for i in range(n)}\n"
   ]
  },
  {
   "cell_type": "markdown",
   "metadata": {},
   "source": [
    "### OrderedDict (TBD)"
   ]
  },
  {
   "cell_type": "markdown",
   "metadata": {},
   "source": [
    "## Heapq Tips"
   ]
  },
  {
   "cell_type": "markdown",
   "metadata": {},
   "source": [
    "Heapq related methods are listed below:\n",
    "\n",
    "heapq.heappush(heap, val)\n",
    "\n",
    "heapq.heappop(heap)\n",
    "\n",
    "heapq.heappushpop(heap, val): push first and then pop the smallest item.\n",
    "\n",
    "heapq.heapreplace(heap, val): pop first and then push in the item\n",
    "\n",
    "heapq.nlargest(n, iterable[, key]): Equivalent to: sorted(iterable, key=key, reverse=True)[:n]. \n",
    "\n",
    "heapq.nsmallest(n, iterable[, key]): Equivalent to: sorted(iterable, key=key)[:n]\n",
    "\n",
    "For iterable of size m, the time complexity for the nlargest and nsmallest is mlog(n). When m is much larger than \n",
    "n, nlargest/nsmallest can be faster than sorted method. When m is close to n, sorted method can be more efficient. \n",
    "\n",
    "heapq.merge(*lists): merge multiple sorted inputs and return a generator of a sorted input.\n",
    "For example\n",
    "a = [[1,2],[2,3],[1,4]]\n",
    "list(heapq.merge(*a))\n",
    "or\n",
    "list(heapq.merge([1,2],[2,3],[1,4])"
   ]
  },
  {
   "cell_type": "markdown",
   "metadata": {},
   "source": [
    "## Swap two objects"
   ]
  },
  {
   "cell_type": "markdown",
   "metadata": {},
   "source": [
    "We can swap two objects using the following.\n",
    "a, b = b, a \n",
    "\n",
    "This is equivalent to the following\n",
    "tmp = a\n",
    "a = b\n",
    "b = a"
   ]
  },
  {
   "cell_type": "markdown",
   "metadata": {},
   "source": [
    "## del vs pop "
   ]
  },
  {
   "cell_type": "markdown",
   "metadata": {},
   "source": [
    "del(a[i]) and a.pop(i) both will delete a specific index. But the latter also returns the value deleted.\n",
    "del(a[i]) is faster if we do not need to get the value deleted."
   ]
  },
  {
   "cell_type": "markdown",
   "metadata": {},
   "source": [
    "## Tuple and generator"
   ]
  },
  {
   "cell_type": "markdown",
   "metadata": {},
   "source": [
    "To create a generator\n",
    "gen = (i for i in range(3))\n",
    "\n",
    "To create a tuple\n",
    "tu = tuple(i for i in range(3))"
   ]
  },
  {
   "cell_type": "markdown",
   "metadata": {},
   "source": [
    "## reduce with initializer"
   ]
  },
  {
   "cell_type": "markdown",
   "metadata": {},
   "source": [
    "Use case 1: sum of squares of elements in a list. a[0]*a[0] + a[1]*a[1] +... + a[n]*a[n]\n",
    "\n",
    "reduce(lambda x,y: x+y*y, a,0)"
   ]
  },
  {
   "cell_type": "markdown",
   "metadata": {},
   "source": [
    "## Permutations/Combinations Using Itertools"
   ]
  },
  {
   "cell_type": "markdown",
   "metadata": {},
   "source": [
    "### Use case 1: Generate permutations/combinations of any two elements of a list"
   ]
  },
  {
   "cell_type": "code",
   "execution_count": 1,
   "metadata": {},
   "outputs": [
    {
     "name": "stdout",
     "output_type": "stream",
     "text": [
      "permutations for xrange(4)\n",
      "(0, 1)\n",
      "(0, 2)\n",
      "(0, 3)\n",
      "(1, 0)\n",
      "(1, 2)\n",
      "(1, 3)\n",
      "(2, 0)\n",
      "(2, 1)\n",
      "(2, 3)\n",
      "(3, 0)\n",
      "(3, 1)\n",
      "(3, 2)\n",
      "combinations for xrange(4)\n",
      "(0, 1)\n",
      "(0, 2)\n",
      "(0, 3)\n",
      "(1, 2)\n",
      "(1, 3)\n",
      "(2, 3)\n"
     ]
    }
   ],
   "source": [
    "import itertools\n",
    "\n",
    "print \"permutations for\", xrange(4)\n",
    "for list in itertools.permutations(xrange(4),2):\n",
    "    print list\n",
    "\n",
    "print \"combinations for\", xrange(4)\n",
    "for list in itertools.combinations(xrange(4),2):\n",
    "    print list    "
   ]
  },
  {
   "cell_type": "markdown",
   "metadata": {},
   "source": [
    "### Use case 2: Generate permutations/combinations of any two elements in a string"
   ]
  },
  {
   "cell_type": "code",
   "execution_count": 2,
   "metadata": {},
   "outputs": [
    {
     "name": "stdout",
     "output_type": "stream",
     "text": [
      "permutatoin for ABC\n",
      "('A', 'B')\n",
      "('A', 'C')\n",
      "('B', 'A')\n",
      "('B', 'C')\n",
      "('C', 'A')\n",
      "('C', 'B')\n",
      "combination for ABC\n",
      "('A', 'B')\n",
      "('A', 'C')\n",
      "('B', 'C')\n"
     ]
    }
   ],
   "source": [
    "import itertools\n",
    "\n",
    "print \"permutatoin for\", 'ABC'\n",
    "for s in itertools.permutations('ABC',2):\n",
    "    print s\n",
    "\n",
    "print \"combination for\", 'ABC'\n",
    "for s in itertools.combinations('ABC',2):\n",
    "    print s"
   ]
  },
  {
   "cell_type": "markdown",
   "metadata": {},
   "source": [
    "### Special case: We can get duplicates in permucations/combinations if iterable contains duplicates"
   ]
  },
  {
   "cell_type": "code",
   "execution_count": 3,
   "metadata": {},
   "outputs": [
    {
     "name": "stdout",
     "output_type": "stream",
     "text": [
      "permutatoin for AAC\n",
      "('A', 'A')\n",
      "('A', 'C')\n",
      "('A', 'A')\n",
      "('A', 'C')\n",
      "('C', 'A')\n",
      "('C', 'A')\n",
      "combination for AAC\n",
      "('A', 'A')\n",
      "('A', 'C')\n",
      "('A', 'C')\n"
     ]
    }
   ],
   "source": [
    "import itertools\n",
    "\n",
    "print \"permutatoin for\", 'AAC'\n",
    "for s in itertools.permutations('AAC',2):\n",
    "    print s\n",
    "\n",
    "print \"combination for\", 'AAC'\n",
    "for s in itertools.combinations('AAC',2):\n",
    "    print s"
   ]
  },
  {
   "cell_type": "markdown",
   "metadata": {
    "collapsed": true
   },
   "source": [
    "## Use isinstance to Process A List of Different Types of Items"
   ]
  },
  {
   "cell_type": "markdown",
   "metadata": {},
   "source": [
    "Sometimes we insert different types of items in a list. The isinstance built-in functioncan help us process the list itmes easily. For example, for leetcode problem 408, we constructed a list of intergers and charaters and then process the list.\n",
    "\n",
    "An example to use isinstance is below."
   ]
  },
  {
   "cell_type": "code",
   "execution_count": 4,
   "metadata": {},
   "outputs": [
    {
     "name": "stdout",
     "output_type": "stream",
     "text": [
      "str: c\n",
      "str: b\n",
      "int: 13\n",
      "str: e\n",
      "int: 14\n"
     ]
    }
   ],
   "source": [
    "a = ['c','b',13, 'e', 14]\n",
    "\n",
    "for x in a:\n",
    "    if isinstance(x, int):\n",
    "        print \"int:\", x\n",
    "    elif isinstance(x, str):\n",
    "        print \"str:\", x"
   ]
  },
  {
   "cell_type": "markdown",
   "metadata": {},
   "source": [
    "## Enumerate A List with Start Value"
   ]
  },
  {
   "cell_type": "markdown",
   "metadata": {},
   "source": [
    "By default, the start index of enumerate(list) starts with 0. But we can specify a start value for the enumerate function. Below is an example."
   ]
  },
  {
   "cell_type": "code",
   "execution_count": 5,
   "metadata": {},
   "outputs": [
    {
     "name": "stdout",
     "output_type": "stream",
     "text": [
      "1 a\n",
      "2 b\n",
      "3 b\n"
     ]
    }
   ],
   "source": [
    "lst = [\"a\", \"b\", \"b\"]\n",
    "\n",
    "for i, ch in enumerate(lst, start = 1):\n",
    "    print i, ch"
   ]
  },
  {
   "cell_type": "markdown",
   "metadata": {},
   "source": [
    "## Use bisect to Find Position in a Sorted Array"
   ]
  },
  {
   "cell_type": "markdown",
   "metadata": {},
   "source": [
    "bisect_left:  For value val, returns a position i such that a[i-1] < val <= a[i] <= a[i+1]... \n",
    "bisect_right: For value val, returns a position i such that a[i] > val >= a[i-1] >= a[i+2]...\n",
    "\n",
    "For both functions, a[i-1] <= val <= a[i] holds. bisect_left and bisect_right return the same result if the array does not have an element that is equal to the value searched. \n",
    "\n",
    "insort_left and insort_right will insert the new value into the originally sorted list such that the new list is still sorted.\n",
    "\n",
    "NOTE: For insort_left and insert_right, insertion takes O(n) time, which dominates the search time. So the insort operations take O(n) time."
   ]
  },
  {
   "cell_type": "markdown",
   "metadata": {},
   "source": [
    "## Various re Use Cases"
   ]
  },
  {
   "cell_type": "markdown",
   "metadata": {
    "collapsed": true
   },
   "source": [
    "The re module is a very powerful tool to do pattern match, search or splitting strings. Below are some examples."
   ]
  },
  {
   "cell_type": "markdown",
   "metadata": {},
   "source": [
    "### Example 1. Check whether a string is an integer"
   ]
  },
  {
   "cell_type": "code",
   "execution_count": 6,
   "metadata": {},
   "outputs": [
    {
     "name": "stdout",
     "output_type": "stream",
     "text": [
      "123 True True\n",
      "123d False False\n",
      "+134 True True\n",
      "-135 True True\n",
      "++123 False False\n",
      "--123 False False\n"
     ]
    }
   ],
   "source": [
    "import re\n",
    "\n",
    "# Define a pattern of one or zero '+' or '-' followed by one or more digits\n",
    "pattern0 = '^(\\+|-)?\\d+$'\n",
    "# or \n",
    "pattern1 = '^[\\+-]?\\d+$'\n",
    "\n",
    "for s in ['123', '123d', '+134', '-135', '++123', '--123']:\n",
    "    print s, bool(re.match(pattern0, s)), bool(re.match(pattern1, s))\n"
   ]
  },
  {
   "cell_type": "markdown",
   "metadata": {},
   "source": [
    "### Example 2. Split string using multiple delimiters"
   ]
  },
  {
   "cell_type": "markdown",
   "metadata": {},
   "source": [
    "Below are some examples that split a string using multiple delimiters"
   ]
  },
  {
   "cell_type": "code",
   "execution_count": 7,
   "metadata": {},
   "outputs": [
    {
     "name": "stdout",
     "output_type": "stream",
     "text": [
      "['Hello', 'This', 'is', 'a', 'nice', '', '', '', 'picture', 'right?']\n",
      "['Hello', 'This', 'is', 'a', 'nice', '', '', '', 'picture', 'right?']\n",
      "['Hello', 'This', 'is', 'a', 'nice', 'picture', 'right', '']\n",
      "['Hello', 'This', 'is', 'a', 'nice', 'picture', 'right?']\n"
     ]
    }
   ],
   "source": [
    "import re\n",
    "\n",
    "s = \"Hello, This, is a nice    picture: right?\"\n",
    "\n",
    "print re.split('[,:] | ', s)\n",
    "print re.split(', |: | ',s)\n",
    "print re.split('\\W+', s)\n",
    "print re.split('[\\s,:]+', s)"
   ]
  },
  {
   "cell_type": "markdown",
   "metadata": {},
   "source": [
    "## Conditional/Ternary Assignment"
   ]
  },
  {
   "cell_type": "markdown",
   "metadata": {},
   "source": [
    "Python supports conditional/Ternary assignment like (condition)? a : b in C/C++. Below is an example."
   ]
  },
  {
   "cell_type": "code",
   "execution_count": 8,
   "metadata": {},
   "outputs": [
    {
     "name": "stdout",
     "output_type": "stream",
     "text": [
      "3\n"
     ]
    }
   ],
   "source": [
    "a, b = 1, 3\n",
    "\n",
    "print a if a >= b else b"
   ]
  },
  {
   "cell_type": "markdown",
   "metadata": {},
   "source": [
    "## Delete multiple contiguous elements from a list"
   ]
  },
  {
   "cell_type": "markdown",
   "metadata": {},
   "source": [
    "There are two ways to delete multiple contiguous elements from a list, slice assignment or del. Below is an \n",
    "example to illustrate the ideas."
   ]
  },
  {
   "cell_type": "code",
   "execution_count": 6,
   "metadata": {},
   "outputs": [
    {
     "name": "stdout",
     "output_type": "stream",
     "text": [
      "before deletion: [0, 1, 2, 3, 4, 5, 6, 7, 8, 9]\n",
      "after deletion:  [0, 1, 4, 5, 6, 7, 8, 9]\n",
      "before deletion: [0, 1, 2, 3, 4, 5, 6, 7, 8, 9]\n",
      "after deletion:  [0, 1, 4, 5, 6, 7, 8, 9]\n"
     ]
    }
   ],
   "source": [
    "a = range(10)\n",
    "print \"before deletion:\", a\n",
    "a[2:4] = []\n",
    "print \"after deletion: \", a\n",
    "a = range(10)\n",
    "print \"before deletion:\", a\n",
    "del a[2:4]\n",
    "print \"after deletion: \", a\n"
   ]
  }
 ],
 "metadata": {
  "kernelspec": {
   "display_name": "Python 3",
   "language": "python",
   "name": "python3"
  },
  "language_info": {
   "codemirror_mode": {
    "name": "ipython",
    "version": 3
   },
   "file_extension": ".py",
   "mimetype": "text/x-python",
   "name": "python",
   "nbconvert_exporter": "python",
   "pygments_lexer": "ipython3",
   "version": "3.7.0"
  }
 },
 "nbformat": 4,
 "nbformat_minor": 2
}

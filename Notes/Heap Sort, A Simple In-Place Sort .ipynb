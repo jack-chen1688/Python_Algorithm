{
 "cells": [
  {
   "cell_type": "markdown",
   "metadata": {},
   "source": [
    "TODO: Two ways of heapify, sift up and sift down."
   ]
  },
  {
   "cell_type": "code",
   "execution_count": 1,
   "metadata": {},
   "outputs": [
    {
     "name": "stdout",
     "output_type": "stream",
     "text": [
      "[2, 3, 3, 5, 9, 12, 3, 8, 7]\n",
      "[12, 9, 8, 7, 5, 3, 3, 3, 2]\n"
     ]
    }
   ],
   "source": [
    "class Solution(object):\n",
    "    \n",
    "    \"\"\"\n",
    "    We can use heapq.heapify directly. Here I just quickly put my own implementation.\n",
    "    The basic idea is below:\n",
    "    For a new item appended at the end, swap with its parent if it is less than its parent.\n",
    "    Keep doing this until it is no less than its parent or it becomes the heap top.\n",
    "    \"\"\"\n",
    "    def heapify(self, lst):\n",
    "        n = len(lst)\n",
    "        \n",
    "        for i in xrange(1,n):\n",
    "            \n",
    "            c = i\n",
    "            while c > 0: \n",
    "                p = (c-1)/2\n",
    "                if lst[c] < lst[p]:\n",
    "                    lst[c], lst[p] = lst[p], lst[c]\n",
    "                    c = p\n",
    "                else: \n",
    "                    break\n",
    "        return lst  \n",
    "    \n",
    "    \"\"\"\n",
    "    The heap sort implemented is an in-place sort for a min heap of size n. The idea is below.\n",
    "    \n",
    "    1. Swap the heap top and the nth(index is n-1) item. The last item is now is the smallest item.\n",
    "       We need to make the first n-1 items a new heap.\n",
    "       \n",
    "    2. If the item swapped to the top is less than its smallest child, do a swap between them. \n",
    "       Keep check and swap until the new item at the new position is no less than its smallest \n",
    "       child. This way the first n-1 items is a new heap again.\n",
    "    \n",
    "    3. Now swap the heap top and the n-1th(index is n-2) item and make first n-2 items a new heap\n",
    "    ...\n",
    "    \n",
    "    Keep doing this, we will get an ordered list such that a[i] >= a[j] for any i > j.   \n",
    "    \"\"\"\n",
    "    def heap_sort(self,heap):\n",
    "        n = len(heap)\n",
    "        \n",
    "        for i in xrange(n-1, -0, -1):\n",
    "            heap[0], heap[i] = heap[i], heap[0]\n",
    "            p = 0\n",
    "            \n",
    "            # 0->i-1 \n",
    "            while 1:\n",
    "                c0, c1 = 2*p + 1, 2*p+2\n",
    "                if c0 >= i:\n",
    "                    break\n",
    "                elif c1 >= i:\n",
    "                    if heap[c0] < heap[p]:\n",
    "                        heap[c0], heap[p] = heap[p], heap[c0]\n",
    "                        p = c0\n",
    "                    else:\n",
    "                        break\n",
    "                else:\n",
    "                    if heap[p] <= min(heap[c0], heap[c1]):\n",
    "                        break\n",
    "                    else:\n",
    "                        if heap[c0] <= heap[c1]:\n",
    "                            heap[p], heap[c0] = heap[c0], heap[p]\n",
    "                            p = c0\n",
    "                        else:\n",
    "                            heap[p], heap[c1] = heap[c1], heap[p]\n",
    "                            p = c1\n",
    "        return\n",
    "                    \n",
    "                        \n",
    "                \n",
    "        \n",
    "    \n",
    "a = [2,3,3,5,9,12,3,8,7]\n",
    "Solution().heapify(a)\n",
    "print a\n",
    "Solution().heap_sort(a)\n",
    "print a"
   ]
  },
  {
   "cell_type": "markdown",
   "metadata": {},
   "source": [
    "## References\n",
    "\n",
    "1. https://en.wikipedia.org/wiki/Heapsort"
   ]
  }
 ],
 "metadata": {
  "kernelspec": {
   "display_name": "Python 2",
   "language": "python",
   "name": "python2"
  },
  "language_info": {
   "codemirror_mode": {
    "name": "ipython",
    "version": 2
   },
   "file_extension": ".py",
   "mimetype": "text/x-python",
   "name": "python",
   "nbconvert_exporter": "python",
   "pygments_lexer": "ipython2",
   "version": "2.7.11"
  }
 },
 "nbformat": 4,
 "nbformat_minor": 2
}

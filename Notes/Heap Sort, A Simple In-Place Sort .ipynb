{
 "cells": [
  {
   "cell_type": "code",
   "execution_count": 7,
   "metadata": {},
   "outputs": [
    {
     "name": "stdout",
     "output_type": "stream",
     "text": [
      "[2, 3, 3, 5, 9, 12, 3, 8, 7]\n",
      "[12, 9, 8, 7, 5, 3, 3, 3, 2]\n"
     ]
    }
   ],
   "source": [
    "class Solution(object):\n",
    "    def heapify(self, lst):\n",
    "        n = len(lst)\n",
    "        \n",
    "        for i in xrange(1,n):\n",
    "            \n",
    "            c = i\n",
    "            while c > 0: \n",
    "                p = (c-1)/2\n",
    "                if lst[c] < lst[p]:\n",
    "                    lst[c], lst[p] = lst[p], lst[c]\n",
    "                    c = p\n",
    "                else: \n",
    "                    break\n",
    "        return lst  \n",
    "    \n",
    "    def heap_sort(self,heap):\n",
    "        n = len(heap)\n",
    "        \n",
    "        for i in xrange(n-1, -0, -1):\n",
    "            heap[0], heap[i] = heap[i], heap[0]\n",
    "            p = 0\n",
    "            \n",
    "            # 0->i-1 \n",
    "            while 1:\n",
    "                c0, c1 = 2*p + 1, 2*p+2\n",
    "                if c0 >= i:\n",
    "                    break\n",
    "                elif c1 >= i:\n",
    "                    if heap[c0] < heap[p]:\n",
    "                        heap[c0], heap[p] = heap[p], heap[c0]\n",
    "                        p = c0\n",
    "                    else:\n",
    "                        break\n",
    "                else:\n",
    "                    if heap[p] <= min(heap[c0], heap[c1]):\n",
    "                        break\n",
    "                    else:\n",
    "                        if heap[c0] <= heap[c1]:\n",
    "                            heap[p], heap[c0] = heap[c0], heap[p]\n",
    "                            p = c0\n",
    "                        else:\n",
    "                            heap[p], heap[c1] = heap[c1], heap[p]\n",
    "                            p = c1\n",
    "        return\n",
    "                    \n",
    "                        \n",
    "                \n",
    "        \n",
    "    \n",
    "a = [2,3,3,5,9,12,3,8,7]\n",
    "Solution().heapify(a)\n",
    "print a\n",
    "Solution().heap_sort(a)\n",
    "print a"
   ]
  }
 ],
 "metadata": {
  "kernelspec": {
   "display_name": "Python 2",
   "language": "python",
   "name": "python2"
  },
  "language_info": {
   "codemirror_mode": {
    "name": "ipython",
    "version": 2
   },
   "file_extension": ".py",
   "mimetype": "text/x-python",
   "name": "python",
   "nbconvert_exporter": "python",
   "pygments_lexer": "ipython2",
   "version": "2.7.11"
  }
 },
 "nbformat": 4,
 "nbformat_minor": 2
}

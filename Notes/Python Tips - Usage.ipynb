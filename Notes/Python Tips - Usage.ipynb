{
 "cells": [
  {
   "cell_type": "markdown",
   "metadata": {},
   "source": [
    "## 1. Execute an external program on windows."
   ]
  },
  {
   "cell_type": "markdown",
   "metadata": {},
   "source": [
    "The following code snippet execute a program, Notepad.exe,  with a parameter of file name to open the file for editing.\n",
    "\n",
    "import subprocess\n",
    "subprocess.call(['C:\\\\Temp\\\\a b c\\\\Notepad.exe', 'C:\\\\test.txt'])\n",
    "From Ref [1], it is not easy for os.system to work on windows with parameters, while subprocess.call can be an easy way to make it work."
   ]
  },
  {
   "cell_type": "markdown",
   "metadata": {},
   "source": [
    "## 2. Look for functions available for a module."
   ]
  },
  {
   "cell_type": "markdown",
   "metadata": {},
   "source": [
    "### Example 1. Use dir to find out the methods available for os module"
   ]
  },
  {
   "cell_type": "code",
   "execution_count": 1,
   "metadata": {},
   "outputs": [
    {
     "name": "stdout",
     "output_type": "stream",
     "text": [
      "['EX_CANTCREAT', 'EX_CONFIG', 'EX_DATAERR', 'EX_IOERR', 'EX_NOHOST', 'EX_NOINPUT', 'EX_NOPERM', 'EX_NOUSER', 'EX_OK', 'EX_OSERR', 'EX_OSFILE', 'EX_PROTOCOL', 'EX_SOFTWARE', 'EX_TEMPFAIL', 'EX_UNAVAILABLE', 'EX_USAGE', 'F_OK', 'NGROUPS_MAX', 'O_APPEND', 'O_ASYNC', 'O_CREAT', 'O_DIRECTORY', 'O_DSYNC', 'O_EXCL', 'O_EXLOCK', 'O_NDELAY', 'O_NOCTTY', 'O_NOFOLLOW', 'O_NONBLOCK', 'O_RDONLY', 'O_RDWR', 'O_SHLOCK', 'O_SYNC', 'O_TRUNC', 'O_WRONLY', 'P_NOWAIT', 'P_NOWAITO', 'P_WAIT', 'R_OK', 'SEEK_CUR', 'SEEK_END', 'SEEK_SET', 'TMP_MAX', 'UserDict', 'WCONTINUED', 'WCOREDUMP', 'WEXITSTATUS', 'WIFCONTINUED', 'WIFEXITED', 'WIFSIGNALED', 'WIFSTOPPED', 'WNOHANG', 'WSTOPSIG', 'WTERMSIG', 'WUNTRACED', 'W_OK', 'X_OK', '_Environ', '__all__', '__builtins__', '__doc__', '__file__', '__name__', '__package__', '_copy_reg', '_execvpe', '_exists', '_exit', '_get_exports_list', '_make_stat_result', '_make_statvfs_result', '_pickle_stat_result', '_pickle_statvfs_result', '_spawnvef', 'abort', 'access', 'altsep', 'chdir', 'chflags', 'chmod', 'chown', 'chroot', 'close', 'closerange', 'confstr', 'confstr_names', 'ctermid', 'curdir', 'defpath', 'devnull', 'dup', 'dup2', 'environ', 'errno', 'error', 'execl', 'execle', 'execlp', 'execlpe', 'execv', 'execve', 'execvp', 'execvpe', 'extsep', 'fchdir', 'fchmod', 'fchown', 'fdopen', 'fork', 'forkpty', 'fpathconf', 'fstat', 'fstatvfs', 'fsync', 'ftruncate', 'getcwd', 'getcwdu', 'getegid', 'getenv', 'geteuid', 'getgid', 'getgroups', 'getloadavg', 'getlogin', 'getpgid', 'getpgrp', 'getpid', 'getppid', 'getsid', 'getuid', 'initgroups', 'isatty', 'kill', 'killpg', 'lchflags', 'lchmod', 'lchown', 'linesep', 'link', 'listdir', 'lseek', 'lstat', 'major', 'makedev', 'makedirs', 'minor', 'mkdir', 'mkfifo', 'mknod', 'name', 'nice', 'open', 'openpty', 'pardir', 'path', 'pathconf', 'pathconf_names', 'pathsep', 'pipe', 'popen', 'popen2', 'popen3', 'popen4', 'putenv', 'read', 'readlink', 'remove', 'removedirs', 'rename', 'renames', 'rmdir', 'sep', 'setegid', 'seteuid', 'setgid', 'setgroups', 'setpgid', 'setpgrp', 'setregid', 'setreuid', 'setsid', 'setuid', 'spawnl', 'spawnle', 'spawnlp', 'spawnlpe', 'spawnv', 'spawnve', 'spawnvp', 'spawnvpe', 'stat', 'stat_float_times', 'stat_result', 'statvfs', 'statvfs_result', 'strerror', 'symlink', 'sys', 'sysconf', 'sysconf_names', 'system', 'tcgetpgrp', 'tcsetpgrp', 'tempnam', 'times', 'tmpfile', 'tmpnam', 'ttyname', 'umask', 'uname', 'unlink', 'unsetenv', 'urandom', 'utime', 'wait', 'wait3', 'wait4', 'waitpid', 'walk', 'write']\n"
     ]
    }
   ],
   "source": [
    "import os\n",
    "print dir(os)"
   ]
  },
  {
   "cell_type": "markdown",
   "metadata": {},
   "source": [
    "### Example 2. Use inspect.getmembers to find out methods of a class"
   ]
  },
  {
   "cell_type": "code",
   "execution_count": 2,
   "metadata": {},
   "outputs": [
    {
     "name": "stdout",
     "output_type": "stream",
     "text": [
      "['__enter__', '__exit__', '__init__', '__repr__', '_reconfigure_port', '_set_rs485_mode', '_set_special_baudrate', '_update_break_state', '_update_dtr_state', '_update_rts_state', 'applySettingsDict', 'apply_settings', 'cancel_read', 'cancel_write', 'close', 'fileno', 'flush', 'flushInput', 'flushOutput', 'getCD', 'getCTS', 'getDSR', 'getRI', 'getSettingsDict', 'get_settings', 'inWaiting', 'iread_until', 'isOpen', 'nonblocking', 'open', 'read', 'read_all', 'read_until', 'readable', 'readinto', 'reset_input_buffer', 'reset_output_buffer', 'seekable', 'sendBreak', 'send_break', 'setDTR', 'setPort', 'setRTS', 'set_input_flow_control', 'set_output_flow_control', 'writable', 'write']\n"
     ]
    }
   ],
   "source": [
    "import inspect, serial\n",
    "print [i[0] for i in inspect.getmembers(serial.Serial, predicate=inspect.ismethod)]"
   ]
  },
  {
   "cell_type": "markdown",
   "metadata": {},
   "source": [
    "## Get doc string of a module, a class, or a function"
   ]
  },
  {
   "cell_type": "markdown",
   "metadata": {},
   "source": [
    "From Ref [2], we can use __doc__ to find out the doc string of modules, classes, or functions. Below is an example to print out the doc strings of different type of objects."
   ]
  },
  {
   "cell_type": "code",
   "execution_count": 3,
   "metadata": {},
   "outputs": [
    {
     "name": "stdout",
     "output_type": "stream",
     "text": [
      "=== doc string for os module ===\n",
      "OS routines for NT or Posix depending on what system we're on.\n",
      "\n",
      "This exports:\n",
      "  - all functions from posix, nt, os2, or ce, e.g. unlink, stat, etc.\n",
      "  - os.path is one of the modules posixpath, or ntpath\n",
      "  - os.name is 'posix', 'nt', 'os2', 'ce' or 'riscos'\n",
      "  - os.curdir is a string representing the current directory ('.' or ':')\n",
      "  - os.pardir is a string representing the parent directory ('..' or '::')\n",
      "  - os.sep is the (or a most common) pathname separator ('/' or ':' or '\\\\')\n",
      "  - os.extsep is the extension separator ('.' or '/')\n",
      "  - os.altsep is the alternate pathname separator (None or '/')\n",
      "  - os.pathsep is the component separator used in $PATH etc\n",
      "  - os.linesep is the line separator in text files ('\\r' or '\\n' or '\\r\\n')\n",
      "  - os.defpath is the default search path for executables\n",
      "  - os.devnull is the file path of the null device ('/dev/null', etc.)\n",
      "\n",
      "Programs that import and use 'os' stand a better chance of being\n",
      "portable between different platforms.  Of course, they must then\n",
      "only use functions that are defined by all platforms (e.g., unlink\n",
      "and opendir), and leave all pathname manipulation to os.path\n",
      "(e.g., split and join).\n",
      "\n",
      "\n",
      "=== doc string for serial module ==\n",
      "None \n",
      "\n",
      "=== doc string for serial.Serial class ===\n",
      "    Serial port class POSIX implementation. Serial port configuration is\n",
      "    done with termios and fcntl. Runs on Linux and many other Un*x like\n",
      "    systems.\n",
      "     \n",
      "\n",
      "=== doc string for os.write function ===\n",
      "write(fd, string) -> byteswritten\n",
      "\n",
      "Write a string to a file descriptor. \n",
      "\n"
     ]
    }
   ],
   "source": [
    "import os, serial\n",
    "print \"=== doc string for os module ===\\n\", os.__doc__, \"\\n\"\n",
    "print \"=== doc string for serial module ==\\n\", serial.__doc__, \"\\n\"\n",
    "print \"=== doc string for serial.Serial class ===\\n\", serial.Serial.__doc__, \"\\n\"\n",
    "print \"=== doc string for os.write function ===\\n\", os.write.__doc__, \"\\n\""
   ]
  },
  {
   "cell_type": "markdown",
   "metadata": {},
   "source": [
    "## 3. Inspect arguments of a function"
   ]
  },
  {
   "cell_type": "markdown",
   "metadata": {},
   "source": [
    "### Example 1. Print out the info of a defined function's arguments`"
   ]
  },
  {
   "cell_type": "code",
   "execution_count": 4,
   "metadata": {},
   "outputs": [
    {
     "name": "stdout",
     "output_type": "stream",
     "text": [
      "ArgSpec(args=['a', 'b', 'c'], varargs=None, keywords=None, defaults=(2, 1))\n"
     ]
    }
   ],
   "source": [
    "import inspect\n",
    "def f(a,b=2, c=1):\n",
    "    pass\n",
    "\n",
    "print inspect.getargspec(f)\n"
   ]
  },
  {
   "cell_type": "markdown",
   "metadata": {},
   "source": [
    "### Example 2. Print out info of the arguments of read_until function of the Serial object."
   ]
  },
  {
   "cell_type": "code",
   "execution_count": 5,
   "metadata": {},
   "outputs": [
    {
     "name": "stdout",
     "output_type": "stream",
     "text": [
      "ArgSpec(args=['self', 'terminator', 'size'], varargs=None, keywords=None, defaults=('\\n', None))\n"
     ]
    }
   ],
   "source": [
    "import inspect\n",
    "import serial\n",
    "print inspect.getargspec(serial.Serial.read_until)\n"
   ]
  },
  {
   "cell_type": "markdown",
   "metadata": {},
   "source": [
    "To only view the arguments of a function, we can simply do inspect.getargspec(f)[0]. This approach cannot view the parameters of a built-in function."
   ]
  },
  {
   "cell_type": "markdown",
   "metadata": {},
   "source": [
    "## 4. Use inspect to get the source of a function"
   ]
  },
  {
   "cell_type": "code",
   "execution_count": 6,
   "metadata": {},
   "outputs": [
    {
     "name": "stdout",
     "output_type": "stream",
     "text": [
      "    def read_until(self, terminator=LF, size=None):\n",
      "        \"\"\"\\\n",
      "        Read until a termination sequence is found ('\\n' by default), the size\n",
      "        is exceeded or until timeout occurs.\n",
      "        \"\"\"\n",
      "        lenterm = len(terminator)\n",
      "        line = bytearray()\n",
      "        timeout = Timeout(self._timeout)\n",
      "        while True:\n",
      "            c = self.read(1)\n",
      "            if c:\n",
      "                line += c\n",
      "                if line[-lenterm:] == terminator:\n",
      "                    break\n",
      "                if size is not None and len(line) >= size:\n",
      "                    break\n",
      "            else:\n",
      "                break\n",
      "            if timeout.expired():\n",
      "                break\n",
      "        return bytes(line)\n",
      "\n"
     ]
    }
   ],
   "source": [
    "import inspect\n",
    "import serial\n",
    "print inspect.getsource(serial.Serial.read_until)"
   ]
  },
  {
   "cell_type": "markdown",
   "metadata": {},
   "source": [
    "## 5. Print out file name, function name, line number"
   ]
  },
  {
   "cell_type": "markdown",
   "metadata": {},
   "source": [
    "Ref[5] provides a nice PrintFrame function that can do the work of printing out file name, function name and line number."
   ]
  },
  {
   "cell_type": "code",
   "execution_count": 7,
   "metadata": {},
   "outputs": [
    {
     "name": "stdout",
     "output_type": "stream",
     "text": [
      "<ipython-input-7-ea7cf18ee9e7>\n",
      "Main\n",
      "13\n"
     ]
    }
   ],
   "source": [
    "import inspect\n",
    "\n",
    "def PrintFrame():\n",
    "    callerframerecord = inspect.stack()[1]    # 0 represents this line\n",
    "                                            # 1 represents line at caller\n",
    "    frame = callerframerecord[0]\n",
    "    info = inspect.getframeinfo(frame)\n",
    "    print info.filename                       # __FILE__     -> Test.py\n",
    "    print info.function                       # __FUNCTION__ -> Main\n",
    "    print info.lineno                         # __LINE__     -> 13\n",
    "\n",
    "def Main():\n",
    "    PrintFrame()                              # for this line\n",
    "\n",
    "Main()"
   ]
  },
  {
   "cell_type": "markdown",
   "metadata": {},
   "source": [
    "To get the caller frame, we can also use inspect.currentframe().f_back. So the above can be simplified to:"
   ]
  },
  {
   "cell_type": "code",
   "execution_count": 8,
   "metadata": {},
   "outputs": [
    {
     "name": "stdout",
     "output_type": "stream",
     "text": [
      "<ipython-input-8-14c5b498bfdd>\n",
      "Main\n",
      "10\n"
     ]
    }
   ],
   "source": [
    "import inspect\n",
    "\n",
    "def PrintFrame():\n",
    "    info = inspect.getframeinfo(inspect.currentframe().f_back)\n",
    "    print info.filename                       # __FILE__     -> Test.py\n",
    "    print info.function                       # __FUNCTION__ -> Main\n",
    "    print info.lineno                         # __LINE__     -> 10\n",
    "\n",
    "def Main():\n",
    "    PrintFrame()                              # for this line\n",
    "\n",
    "Main()\n"
   ]
  },
  {
   "cell_type": "markdown",
   "metadata": {},
   "source": [
    "An easier way to get the current file name is using __file__. Also, the current line no can be found by using binspect.currentframe().f_lineno directly."
   ]
  },
  {
   "cell_type": "markdown",
   "metadata": {},
   "source": [
    "## References"
   ]
  },
  {
   "cell_type": "markdown",
   "metadata": {},
   "source": [
    "1. How do I execute a program from python? os.system fails due to spaces in path\n",
    "http://stackoverflow.com/questions/204017/how-do-i-execute-a-program-from-python-os-system-fails-due-to-spaces-in-path\n",
    "2. http://stackoverflow.com/questions/713138/getting-the-docstring-from-a-function\n",
    "3. http://stackoverflow.com/questions/3517892/python-list-function-argument-names\n",
    "4. http://stackoverflow.com/questions/1911281/how-do-i-get-list-of-methods-in-a-python-class\n",
    "5. http://stackoverflow.com/questions/6810999/how-to-determine-file-function-and-line-number"
   ]
  }
 ],
 "metadata": {
  "kernelspec": {
   "display_name": "Python 2",
   "language": "python",
   "name": "python2"
  },
  "language_info": {
   "codemirror_mode": {
    "name": "ipython",
    "version": 2
   },
   "file_extension": ".py",
   "mimetype": "text/x-python",
   "name": "python",
   "nbconvert_exporter": "python",
   "pygments_lexer": "ipython2",
   "version": "2.7.13"
  }
 },
 "nbformat": 4,
 "nbformat_minor": 2
}

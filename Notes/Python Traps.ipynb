{
 "cells": [
  {
   "cell_type": "markdown",
   "metadata": {},
   "source": [
    "## Trap of Checking Whether A key Exists in A Dictionary"
   ]
  },
  {
   "cell_type": "markdown",
   "metadata": {},
   "source": [
    "I used a wrong way to check whether a key exists in a dictionary and this caused time limit exceeded issue when submitted a solution of a problem using an online judge. \n",
    "\n",
    "The below check will be slow because it actually check whether k is in the list generated\n",
    "by dict.keys()\n",
    "        if k in dict.keys():  \n",
    "        \n",
    "The right way to check a key exists in a dictionary is\n",
    "        if k in dict:\n"
   ]
  },
  {
   "cell_type": "markdown",
   "metadata": {},
   "source": [
    "## Value Checking for Zero and None"
   ]
  },
  {
   "cell_type": "markdown",
   "metadata": {},
   "source": [
    "A trap for value checking is assigning an integer with an initial value of None and then use \"not\" to check whether an integer\n",
    "variable was not assigned before\n",
    " \n",
    "Because \"not 0\" and \"not None\" also evaluates to 1. So use \"not\" to check the variable is not\n",
    "assigned can be wrong. So use \"== None\" and \"== 0\" instead of use \"not\"."
   ]
  },
  {
   "cell_type": "markdown",
   "metadata": {},
   "source": [
    "## Trap of Iinitializing A List"
   ]
  },
  {
   "cell_type": "markdown",
   "metadata": {},
   "source": [
    "A mistake to initialize a list of n elements like [ 0 * n] or [\"\" * n].\n",
    "[ 0 * n ] means initialize a list with one element of  0*n = 0.\n",
    "[\"\" * n]  means initialize a list with one element of  \"\"*n = \"\".\n",
    "So the correct ways for the above two cases are [0]*n and [\"\"]*n"
   ]
  },
  {
   "cell_type": "markdown",
   "metadata": {},
   "source": [
    "## Trap of Initializing A Set"
   ]
  },
  {
   "cell_type": "markdown",
   "metadata": {},
   "source": [
    "To initialize an empty set\n",
    "   myset = set()\n",
    "To initialize a set of one tuple\n",
    "   myset = {(2,3)}\n",
    "Don't confuse it with myset = set((2,3)), which create a set of two elements 2 and 3"
   ]
  },
  {
   "cell_type": "markdown",
   "metadata": {},
   "source": [
    "## Trap of Initializing A Tuple of One Item."
   ]
  },
  {
   "cell_type": "markdown",
   "metadata": {},
   "source": [
    "a = (1) means a = 1\n",
    "To initialize a to a tuple of one element of 1, we can use a=(1,)"
   ]
  },
  {
   "cell_type": "markdown",
   "metadata": {},
   "source": [
    "## Trap of Appending A New List to A List of Lists "
   ]
  },
  {
   "cell_type": "markdown",
   "metadata": {},
   "source": [
    "Trap 1:\n",
    "Below are some codes that caused problem whenappends a[i] to a list and then append the list to a list of lists.\n",
    "lst.append(a[i])\n",
    "lsts.append(lst)\n",
    "In the codes, lsts is a list of lists. If lst is somehow changed somewhere else, the list appended into the lsts is also changed.\n",
    "\n",
    "Trap 2:\n",
    "The one below is another incorrect codes that I once wrote using extend. \n",
    "lsts.append(list(lst.extend([a[i]]))\n",
    "\n",
    "It has run-time error because list.extend([a[i]]) returns None and list(None) is not valid.\n",
    "\n",
    "Right Approach:\n",
    "We can use lsts.append(list(lst+[a[i]]) to achieve our goal."
   ]
  },
  {
   "cell_type": "markdown",
   "metadata": {},
   "source": [
    "## Trap of Initializing Matrix Using list"
   ]
  },
  {
   "cell_type": "markdown",
   "metadata": {},
   "source": [
    "Using list and * can lead to unexpected effects. Below is an example.\n",
    "lsts = [[0] * 3] * 3\n",
    "lsts[1].extend([1])\n",
    "\n",
    "With the above, actually lsts[0], lsts[1] and lsts[2] all becomes [0,0,0,1]. Because lsts[0], lsts[1] and lsts[2]\n",
    "used a same list copy.\n",
    "\n",
    "A correct way to initlize a matrix and only extend lsts[1] is below.\n",
    "lsts = [[0] * 3 for i in xrange(3)]\n",
    "lsts[1].extend([1])"
   ]
  },
  {
   "cell_type": "markdown",
   "metadata": {},
   "source": [
    "## Trap of Using local variables"
   ]
  },
  {
   "cell_type": "markdown",
   "metadata": {},
   "source": [
    "The following is not valid due to l And Ref[1] below has a good explanation."
   ]
  },
  {
   "cell_type": "code",
   "execution_count": 1,
   "metadata": {},
   "outputs": [
    {
     "ename": "UnboundLocalError",
     "evalue": "local variable 'x' referenced before assignment",
     "output_type": "error",
     "traceback": [
      "\u001b[0;31m---------------------------------------------------------------------------\u001b[0m",
      "\u001b[0;31mUnboundLocalError\u001b[0m                         Traceback (most recent call last)",
      "\u001b[0;32m<ipython-input-1-3c9abded1821>\u001b[0m in \u001b[0;36m<module>\u001b[0;34m()\u001b[0m\n\u001b[1;32m      5\u001b[0m     \u001b[0mx\u001b[0m\u001b[0;34m=\u001b[0m\u001b[0mx\u001b[0m\u001b[0;34m+\u001b[0m\u001b[0;36m1\u001b[0m\u001b[0;34m\u001b[0m\u001b[0m\n\u001b[1;32m      6\u001b[0m \u001b[0;34m\u001b[0m\u001b[0m\n\u001b[0;32m----> 7\u001b[0;31m \u001b[0mtest\u001b[0m\u001b[0;34m(\u001b[0m\u001b[0;34m)\u001b[0m\u001b[0;34m\u001b[0m\u001b[0m\n\u001b[0m",
      "\u001b[0;32m<ipython-input-1-3c9abded1821>\u001b[0m in \u001b[0;36mtest\u001b[0;34m()\u001b[0m\n\u001b[1;32m      2\u001b[0m \u001b[0;34m\u001b[0m\u001b[0m\n\u001b[1;32m      3\u001b[0m \u001b[0;32mdef\u001b[0m \u001b[0mtest\u001b[0m\u001b[0;34m(\u001b[0m\u001b[0;34m)\u001b[0m\u001b[0;34m:\u001b[0m\u001b[0;34m\u001b[0m\u001b[0m\n\u001b[0;32m----> 4\u001b[0;31m     \u001b[0;32mprint\u001b[0m \u001b[0mx\u001b[0m\u001b[0;34m\u001b[0m\u001b[0m\n\u001b[0m\u001b[1;32m      5\u001b[0m     \u001b[0mx\u001b[0m\u001b[0;34m=\u001b[0m\u001b[0mx\u001b[0m\u001b[0;34m+\u001b[0m\u001b[0;36m1\u001b[0m\u001b[0;34m\u001b[0m\u001b[0m\n\u001b[1;32m      6\u001b[0m \u001b[0;34m\u001b[0m\u001b[0m\n",
      "\u001b[0;31mUnboundLocalError\u001b[0m: local variable 'x' referenced before assignment"
     ]
    }
   ],
   "source": [
    "x = 1\n",
    "\n",
    "def test():\n",
    "    print x\n",
    "    x=x+1\n",
    "\n",
    "test()"
   ]
  },
  {
   "cell_type": "markdown",
   "metadata": {},
   "source": [
    "For list, dictionary, this is different, check Effective Python for more.\n",
    "\n",
    "1. Why can functions in Python print variables in enclosing scope but cannot use them in assignment?https://stackoverflow.com/questions/18864041/why-can-functions-in-python-print-variables-in-enclosing-scope-but-cannot-use-th"
   ]
  },
  {
   "cell_type": "markdown",
   "metadata": {},
   "source": [
    "## Trap of Defining Private/Protected Variables"
   ]
  },
  {
   "cell_type": "markdown",
   "metadata": {},
   "source": [
    "I want to define a private variable__dict__ for dictionary usage for a class by self.__dict__ = {}\n",
    "But actually self.__dict__ is a special attribute of the class which stores the attributes of the object. So the above actually clears the class's attributes.\n",
    "\n",
    "Remember for PEP 8 style, private instance attributes should be in double-leading_underscore format. Protected instance attributes should be in _leading_underscore format. So we'd better define\n",
    "our own dictionary as self.__dict instead of self.__dict__.\n",
    "\n",
    "Double leading and double trailing undercores are mostly special attributes of python. We should not use the format to create our own attributes. Otherwise, it could overlap with the built-in special attributes of python."
   ]
  },
  {
   "cell_type": "markdown",
   "metadata": {},
   "source": [
    "## Trap of Divison"
   ]
  },
  {
   "cell_type": "markdown",
   "metadata": {},
   "source": [
    "-n/2 != -(n/2) when n is not divisible by 2."
   ]
  },
  {
   "cell_type": "code",
   "execution_count": 3,
   "metadata": {},
   "outputs": [
    {
     "name": "stdout",
     "output_type": "stream",
     "text": [
      "-2 -1\n"
     ]
    }
   ],
   "source": [
    "print -3/2, -(3/2)"
   ]
  }
 ],
 "metadata": {
  "kernelspec": {
   "display_name": "Python 2",
   "language": "python",
   "name": "python2"
  },
  "language_info": {
   "codemirror_mode": {
    "name": "ipython",
    "version": 2
   },
   "file_extension": ".py",
   "mimetype": "text/x-python",
   "name": "python",
   "nbconvert_exporter": "python",
   "pygments_lexer": "ipython2",
   "version": "2.7.13"
  }
 },
 "nbformat": 4,
 "nbformat_minor": 2
}

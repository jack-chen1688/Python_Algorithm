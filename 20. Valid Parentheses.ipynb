{
 "cells": [
  {
   "cell_type": "markdown",
   "metadata": {},
   "source": [
    "# 20. Valid Parentheses"
   ]
  },
  {
   "cell_type": "markdown",
   "metadata": {},
   "source": [
    "Given a string containing just the characters '(', ')', '{', '}', '[' and ']', determine if the input string is valid.\n",
    "\n",
    "The brackets must close in the correct order, \"()\" and \"()[]{}\" are all valid but \"(]\" and \"([)]\" are not."
   ]
  },
  {
   "cell_type": "markdown",
   "metadata": {},
   "source": [
    "## Solution 1"
   ]
  },
  {
   "cell_type": "code",
   "execution_count": 4,
   "metadata": {},
   "outputs": [
    {
     "name": "stdout",
     "output_type": "stream",
     "text": [
      "False\n"
     ]
    }
   ],
   "source": [
    "class Solution(object):\n",
    "    def isValid(self, s):\n",
    "        \"\"\"\n",
    "        :type s: str\n",
    "        :rtype: bool\n",
    "        \"\"\"\n",
    "        dict = {'(':1, '{':2, '[':3, ')':-1, '}':-2, ']':-3}\n",
    "        list = []\n",
    "        for char in s:\n",
    "            if dict[char] > 0: \n",
    "                list.append(dict[char])\n",
    "            \n",
    "            if dict[char] < 0:\n",
    "                if (not list) or list.pop() + dict[char]:\n",
    "                    return False\n",
    "            \n",
    "        return not list\n",
    "\n",
    "def main():\n",
    "    print Solution().isValid(\"([{}])(){}[\")\n",
    "    \n",
    "if __name__ == \"__main__\":\n",
    "    main()"
   ]
  },
  {
   "cell_type": "markdown",
   "metadata": {},
   "source": [
    "## Solution 2 Minor Improvement"
   ]
  },
  {
   "cell_type": "code",
   "execution_count": 6,
   "metadata": {},
   "outputs": [
    {
     "name": "stdout",
     "output_type": "stream",
     "text": [
      "False\n",
      "True\n"
     ]
    }
   ],
   "source": [
    "class Solution(object):\n",
    "    def isValid(self, s):\n",
    "        \"\"\"\n",
    "        :type s: str\n",
    "        :rtype: bool\n",
    "        \"\"\"\n",
    "        dict = {'(':')', '{':'}', '[':']'}\n",
    "        list = []\n",
    "        for char in s:\n",
    "            if char in dict.keys(): \n",
    "                list.append(dict[char])\n",
    "            else:\n",
    "                if (not list) or list.pop() != char:\n",
    "                    return False\n",
    "\n",
    "        return not list\n",
    "    \n",
    "def main():\n",
    "    print Solution().isValid(\"([{}])(){}[\")\n",
    "    print Solution().isValid(\"([{}])(){}[]\")\n",
    "    \n",
    "if __name__ == \"__main__\":\n",
    "    main()"
   ]
  }
 ],
 "metadata": {
  "kernelspec": {
   "display_name": "Python 2",
   "language": "python",
   "name": "python2"
  },
  "language_info": {
   "codemirror_mode": {
    "name": "ipython",
    "version": 2
   },
   "file_extension": ".py",
   "mimetype": "text/x-python",
   "name": "python",
   "nbconvert_exporter": "python",
   "pygments_lexer": "ipython2",
   "version": "2.7.13"
  }
 },
 "nbformat": 4,
 "nbformat_minor": 2
}

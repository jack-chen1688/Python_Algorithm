{
 "cells": [
  {
   "cell_type": "markdown",
   "metadata": {},
   "source": [
    "# 168. Excel Sheet Column Title"
   ]
  },
  {
   "cell_type": "markdown",
   "metadata": {},
   "source": [
    "Given a positive integer, return its corresponding column title as appear in an Excel sheet.\n",
    "\n",
    "For example:\n",
    "\n",
    "    1 -> A\n",
    "    2 -> B\n",
    "    3 -> C\n",
    "    ...\n",
    "    26 -> Z\n",
    "    27 -> AA\n",
    "    28 -> AB \n",
    "Credits:\n",
    "Special thanks to @ifanchu for adding this problem and creating all test cases."
   ]
  },
  {
   "cell_type": "markdown",
   "metadata": {},
   "source": [
    "## Solution."
   ]
  },
  {
   "cell_type": "code",
   "execution_count": null,
   "metadata": {
    "collapsed": true
   },
   "outputs": [],
   "source": [
    "class Solution(object):\n",
    "    def convertToTitle(self, n):\n",
    "        \"\"\"\n",
    "        :type n: int\n",
    "        :rtype: str\n",
    "        \"\"\"\n",
    "        \n",
    "        dict = {x:y for x, y in zip(range(26), 'ABCDEFGHIJKLMNOPQRSTUVWXYZ')}\n",
    "        \n",
    "        # 0-25 A-Z\n",
    "        # 26-51 AA-AZ\n",
    "        n -= 1\n",
    "        \n",
    "        res = []\n",
    "        \n",
    "        while n >= 0:\n",
    "            rem = n % 26\n",
    "            res.append(dict[rem])\n",
    "            n = n/26 - 1\n",
    "            \n",
    "        return \"\".join(res[::-1])"
   ]
  }
 ],
 "metadata": {
  "kernelspec": {
   "display_name": "Python 2",
   "language": "python",
   "name": "python2"
  },
  "language_info": {
   "codemirror_mode": {
    "name": "ipython",
    "version": 2
   },
   "file_extension": ".py",
   "mimetype": "text/x-python",
   "name": "python",
   "nbconvert_exporter": "python",
   "pygments_lexer": "ipython2",
   "version": "2.7.13"
  }
 },
 "nbformat": 4,
 "nbformat_minor": 2
}

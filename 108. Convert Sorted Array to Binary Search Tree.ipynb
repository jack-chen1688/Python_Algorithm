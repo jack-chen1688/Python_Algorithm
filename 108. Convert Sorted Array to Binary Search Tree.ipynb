{
 "cells": [
  {
   "cell_type": "markdown",
   "metadata": {},
   "source": [
    "# 108. Convert Sorted Array to Binary Search Tree"
   ]
  },
  {
   "cell_type": "code",
   "execution_count": null,
   "metadata": {
    "collapsed": true
   },
   "outputs": [],
   "source": [
    "Given an array where elements are sorted in ascending order, convert it to a height balanced BST."
   ]
  },
  {
   "cell_type": "markdown",
   "metadata": {},
   "source": [
    "## Solution"
   ]
  },
  {
   "cell_type": "code",
   "execution_count": null,
   "metadata": {
    "collapsed": true
   },
   "outputs": [],
   "source": [
    "# Definition for a binary tree node.\n",
    "# class TreeNode(object):\n",
    "#     def __init__(self, x):\n",
    "#         self.val = x\n",
    "#         self.left = None\n",
    "#         self.right = None\n",
    "\n",
    "class Solution(object):\n",
    "    def sortedArrayToBST(self, nums):\n",
    "        \"\"\"\n",
    "        :type nums: List[int]\n",
    "        :rtype: TreeNode\n",
    "        \"\"\"\n",
    "        if not nums:\n",
    "            return None\n",
    "        \n",
    "        length = len(nums)\n",
    "        \n",
    "        if length == 1:\n",
    "            return TreeNode(nums[0])\n",
    "    \n",
    "        root = TreeNode(nums[length/2])\n",
    "        \n",
    "        if length & 1: \n",
    "            left_len = length/2\n",
    "            right_len = length/2\n",
    "        else: \n",
    "            left_len = length/2\n",
    "            right_len = length/2 - 1\n",
    "        \n",
    "        #print \"left:\", left_len, \"right:\", right_len \n",
    "        if left_len: \n",
    "            root.left = self.sortedArrayToBST(nums[0:left_len])\n",
    "        \n",
    "        if right_len:\n",
    "            root.right = self.sortedArrayToBST(nums[length/2+1:])\n",
    "        \n",
    "        #print root\n",
    "        \n",
    "        return root"
   ]
  }
 ],
 "metadata": {
  "kernelspec": {
   "display_name": "Python 2",
   "language": "python",
   "name": "python2"
  },
  "language_info": {
   "codemirror_mode": {
    "name": "ipython",
    "version": 2
   },
   "file_extension": ".py",
   "mimetype": "text/x-python",
   "name": "python",
   "nbconvert_exporter": "python",
   "pygments_lexer": "ipython2",
   "version": "2.7.13"
  }
 },
 "nbformat": 4,
 "nbformat_minor": 2
}

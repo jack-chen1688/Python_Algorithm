{
 "cells": [
  {
   "cell_type": "markdown",
   "metadata": {},
   "source": [
    "# 21. Merge Two Sorted Lists"
   ]
  },
  {
   "cell_type": "markdown",
   "metadata": {},
   "source": [
    "Merge two sorted linked lists and return it as a new list. The new list should be made by splicing together the nodes of the first two lists."
   ]
  },
  {
   "cell_type": "code",
   "execution_count": 1,
   "metadata": {},
   "outputs": [
    {
     "name": "stdout",
     "output_type": "stream",
     "text": [
      "List 1:\n",
      "1\n",
      "2\n",
      "7\n",
      "List 2:\n",
      "3\n",
      "5\n",
      "8\n",
      "List 3:\n",
      "1\n",
      "2\n",
      "3\n",
      "5\n",
      "7\n",
      "8\n"
     ]
    }
   ],
   "source": [
    "class ListNode(object):\n",
    "    def __init__(self, x):\n",
    "         self.val = x\n",
    "         self.next = None\n",
    "        \n",
    "class Solution(object):\n",
    "    def mergeTwoLists(self, l1, l2):\n",
    "\n",
    "        head = ListNode(0)\n",
    "        node = head\n",
    "        \n",
    "        while l1 and l2:\n",
    "            if l1.val <= l2.val:\n",
    "                node.next = l1\n",
    "                l1 = l1.next\n",
    "                node = node.next\n",
    "            else:\n",
    "                node.next = l2\n",
    "                l2 = l2.next\n",
    "                node = node.next\n",
    "                \n",
    "        if l1:\n",
    "            node.next = l1\n",
    "        else:\n",
    "            node.next = l2\n",
    "            \n",
    "        return head.next\n",
    "\n",
    "def printList(node):\n",
    "    while node:\n",
    "        print node.val\n",
    "        node = node.next\n",
    "        \n",
    "if __name__ == \"__main__\":\n",
    "    l1 = ListNode(1)\n",
    "    l1.next = ListNode(2)\n",
    "    l1.next.next = ListNode(7)\n",
    "    \n",
    "    l2 = ListNode(3)\n",
    "    l2.next = ListNode(5)\n",
    "    l2.next.next = ListNode(8)\n",
    "\n",
    "    print \"List 1:\"\n",
    "    printList(l1)\n",
    "    print \"List 2:\"\n",
    "    printList(l2)\n",
    "    \n",
    "    l3 = Solution().mergeTwoLists(l1,l2)\n",
    "    \n",
    "    print \"List 3:\"\n",
    "    printList(l3)\n",
    "    \n",
    "    \n",
    "    \n",
    "    "
   ]
  }
 ],
 "metadata": {
  "kernelspec": {
   "display_name": "Python 2",
   "language": "python",
   "name": "python2"
  },
  "language_info": {
   "codemirror_mode": {
    "name": "ipython",
    "version": 2
   },
   "file_extension": ".py",
   "mimetype": "text/x-python",
   "name": "python",
   "nbconvert_exporter": "python",
   "pygments_lexer": "ipython2",
   "version": "2.7.13"
  }
 },
 "nbformat": 4,
 "nbformat_minor": 2
}

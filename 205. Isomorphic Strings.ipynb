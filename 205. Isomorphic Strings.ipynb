{
 "cells": [
  {
   "cell_type": "markdown",
   "metadata": {},
   "source": [
    "# 205. Isomorphic Strings"
   ]
  },
  {
   "cell_type": "markdown",
   "metadata": {},
   "source": [
    "\n",
    "Given two strings s and t, determine if they are isomorphic.\n",
    "\n",
    "Two strings are isomorphic if the characters in s can be replaced to get t.\n",
    "\n",
    "All occurrences of a character must be replaced with another character while preserving the order of characters. No two characters may map to the same character but a character may map to itself.\n",
    "\n",
    "For example,\n",
    "Given \"egg\", \"add\", return true.\n",
    "\n",
    "Given \"foo\", \"bar\", return false.\n",
    "\n",
    "Given \"paper\", \"title\", return true.\n",
    "\n",
    "Note:\n",
    "You may assume both s and t have the same length."
   ]
  },
  {
   "cell_type": "markdown",
   "metadata": {},
   "source": [
    "## Solution 1"
   ]
  },
  {
   "cell_type": "code",
   "execution_count": 1,
   "metadata": {
    "collapsed": true
   },
   "outputs": [],
   "source": [
    "class Solution(object):\n",
    "    def isIsomorphic(self, s, t):\n",
    "        \"\"\"\n",
    "        :type s: str\n",
    "        :type t: str\n",
    "        :rtype: bool\n",
    "        \"\"\"\n",
    "        if len(s) != len(t):\n",
    "            return False\n",
    "        \n",
    "        dict = {}\n",
    "        for ch0, ch1 in zip(s,t):\n",
    "            if dict.setdefault(ch0, ch1) != ch1:\n",
    "                return False\n",
    "\n",
    "        value_set = set(dict.values())\n",
    "        if len(value_set) != len(dict.values()):\n",
    "            return False\n",
    "        \n",
    "        return True"
   ]
  },
  {
   "cell_type": "markdown",
   "metadata": {},
   "source": [
    "## Solution 2. Minor Variant"
   ]
  },
  {
   "cell_type": "code",
   "execution_count": 2,
   "metadata": {
    "collapsed": true
   },
   "outputs": [],
   "source": [
    "class Solution(object):\n",
    "    def isIsomorphic(self, s, t):\n",
    "        \"\"\"\n",
    "        :type s: str\n",
    "        :type t: str\n",
    "        :rtype: bool\n",
    "        \"\"\"\n",
    "        if len(s) != len(t):\n",
    "            return False\n",
    "        \n",
    "        dict = {}\n",
    "        val_set = set()\n",
    "        for ch0, ch1 in zip(s,t):\n",
    "            if ch0 not in dict:\n",
    "                dict[ch0] = ch1\n",
    "                if ch1 in val_set:\n",
    "                    return False\n",
    "                else:\n",
    "                    val_set.add(ch1)\n",
    "            else:\n",
    "                if dict[ch0] != ch1:\n",
    "                    return False\n",
    "        return True"
   ]
  },
  {
   "cell_type": "markdown",
   "metadata": {},
   "source": [
    "## Solution 3. A Smart Solution from Leet Code Submission"
   ]
  },
  {
   "cell_type": "markdown",
   "metadata": {},
   "source": [
    "The solution encodes both s and t using the first occurrence of a char. "
   ]
  },
  {
   "cell_type": "code",
   "execution_count": 3,
   "metadata": {},
   "outputs": [
    {
     "name": "stdout",
     "output_type": "stream",
     "text": [
      "[0, 1, 0, 3] [0, 1, 0, 1]\n",
      "False\n"
     ]
    }
   ],
   "source": [
    "class Solution(object):\n",
    "    def isIsomorphic(self, s, t):\n",
    "        \"\"\"\n",
    "        :type s: str\n",
    "        :type t: str\n",
    "        :rtype: bool\n",
    "        \"\"\"\n",
    "        f = lambda s: map({}.setdefault, s, range(len(s)))\n",
    "        print f(s), f(t)\n",
    "        return f(s) == f(t)\n",
    "    \n",
    "def main():\n",
    "    print Solution().isIsomorphic('abad','cdcd')\n",
    "\n",
    "if __name__ == \"__main__\":\n",
    "    main()"
   ]
  }
 ],
 "metadata": {
  "kernelspec": {
   "display_name": "Python 2",
   "language": "python",
   "name": "python2"
  },
  "language_info": {
   "codemirror_mode": {
    "name": "ipython",
    "version": 2
   },
   "file_extension": ".py",
   "mimetype": "text/x-python",
   "name": "python",
   "nbconvert_exporter": "python",
   "pygments_lexer": "ipython2",
   "version": "2.7.13"
  }
 },
 "nbformat": 4,
 "nbformat_minor": 2
}

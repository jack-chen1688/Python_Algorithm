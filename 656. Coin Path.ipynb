{
 "cells": [
  {
   "cell_type": "markdown",
   "metadata": {},
   "source": [
    "# 656. Coin Path"
   ]
  },
  {
   "cell_type": "markdown",
   "metadata": {},
   "source": [
    "Given an array A (index starts at 1) consisting of N integers: A1, A2, ..., AN and an integer B. The integer B denotes that from any place (suppose the index is i) in the array A, you can jump to any one of the place in the array A indexed i+1, i+2, …, i+B if this place can be jumped to. Also, if you step on the index i, you have to pay Ai coins. If Ai is -1, it means you can’t jump to the place indexed i in the array.\n",
    "\n",
    "Now, you start from the place indexed 1 in the array A, and your aim is to reach the place indexed N using the minimum coins. You need to return the path of indexes (starting from 1 to N) in the array you should take to get to the place indexed N using minimum coins.\n",
    "\n",
    "If there are multiple paths with the same cost, return the lexicographically smallest such path.\n",
    "\n",
    "If it's not possible to reach the place indexed N then you need to return an empty array.\n",
    "\n",
    "Example 1:\n",
    "Input: [1,2,4,-1,2], 2\n",
    "Output: [1,3,5]\n",
    "Example 2:\n",
    "Input: [1,2,4,-1,2], 1\n",
    "Output: []\n",
    "Note:\n",
    "Path Pa1, Pa2, ..., Pan is lexicographically smaller than Pb1, Pb2, ..., Pbm, if and only if at the first i where Pai and Pbi differ, Pai < Pbi; when no such i exists, then n < m.\n",
    "A1 >= 0. A2, ..., AN (if exist) will in the range of [-1, 100].\n",
    "Length of A is in the range of [1, 1000].\n",
    "B is in the range of [1, 100].\n"
   ]
  },
  {
   "cell_type": "markdown",
   "metadata": {},
   "source": [
    "## Solution. Dynamic Programming"
   ]
  },
  {
   "cell_type": "code",
   "execution_count": null,
   "metadata": {},
   "outputs": [],
   "source": [
    "class Solution(object):\n",
    "    def cheapestJump(self, A, B):\n",
    "        \"\"\"\n",
    "        :type A: List[int]\n",
    "        :type B: int\n",
    "        :rtype: List[int]\n",
    "        \"\"\"\n",
    "        \n",
    "        if A[0] == -1:\n",
    "            return []\n",
    "        \n",
    "        \n",
    "        n = len(A)\n",
    " \n",
    "        lst = [[0]]\n",
    "        cost_lst = [A[0]]\n",
    "        \n",
    "        for i in xrange(1, n):\n",
    "            if A[i] == -1:\n",
    "                lst.append([])\n",
    "                cost_lst.append(float(\"inf\"))\n",
    "                continue\n",
    "            \n",
    "            min_cost = float(\"inf\")\n",
    "            min_pos = None\n",
    "            for j in range(max(0, i-B), i):\n",
    "                if cost_lst[j] + A[i] < min_cost:\n",
    "                    min_pos = j\n",
    "                    min_cost = cost_lst[j] + A[i]\n",
    "                if cost_lst[j] + A[i] == min_cost and min_cost != float(\"inf\") \\\n",
    "                   and lst[j] + [i] < lst[min_pos] + [i]:\n",
    "                        min_pos = j\n",
    "                    \n",
    "            if min_pos == None:\n",
    "                return []\n",
    "            else:\n",
    "                lst.append(lst[min_pos] + [i])\n",
    "                cost_lst.append(min_cost)\n",
    "            \n",
    "        return [x+1 for x in lst[n-1]]\n",
    "            "
   ]
  }
 ],
 "metadata": {
  "kernelspec": {
   "display_name": "Python 2",
   "language": "python",
   "name": "python2"
  },
  "language_info": {
   "codemirror_mode": {
    "name": "ipython",
    "version": 2
   },
   "file_extension": ".py",
   "mimetype": "text/x-python",
   "name": "python",
   "nbconvert_exporter": "python",
   "pygments_lexer": "ipython2",
   "version": "2.7.13"
  }
 },
 "nbformat": 4,
 "nbformat_minor": 2
}

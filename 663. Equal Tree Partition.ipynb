{
 "cells": [
  {
   "cell_type": "markdown",
   "metadata": {},
   "source": [
    "# 663. Equal Tree Partition"
   ]
  },
  {
   "cell_type": "markdown",
   "metadata": {},
   "source": [
    "Given a binary tree with n nodes, your task is to check if it's possible to partition the tree to two trees which have the equal sum of values after removing exactly one edge on the original tree.\n",
    "\n",
    "Example 1:\n",
    "Input:     \n",
    "    5\n",
    "   / \\\n",
    "  10 10\n",
    "    /  \\\n",
    "   2   3\n",
    "\n",
    "Output: True\n",
    "Explanation: \n",
    "    5\n",
    "   / \n",
    "  10\n",
    "      \n",
    "Sum: 15\n",
    "\n",
    "   10\n",
    "  /  \\\n",
    " 2    3\n",
    "\n",
    "Sum: 15\n",
    "Example 2:\n",
    "Input:     \n",
    "    1\n",
    "   / \\\n",
    "  2  10\n",
    "    /  \\\n",
    "   2   20\n",
    "\n",
    "Output: False\n",
    "Explanation: You can't split the tree into two trees with equal sum after removing exactly one edge on the tree.\n",
    "Note:\n",
    "The range of tree node value is in the range of [-100000, 100000].\n",
    "1 <= n <= 10000"
   ]
  },
  {
   "cell_type": "markdown",
   "metadata": {},
   "source": [
    "## Solution"
   ]
  },
  {
   "cell_type": "code",
   "execution_count": null,
   "metadata": {
    "collapsed": true
   },
   "outputs": [],
   "source": [
    "# Definition for a binary tree node.\n",
    "# class TreeNode(object):\n",
    "#     def __init__(self, x):\n",
    "#         self.val = x\n",
    "#         self.left = None\n",
    "#         self.right = None\n",
    "\n",
    "class Solution(object):\n",
    "    \n",
    "    def __init__(self):\n",
    "        self.dfs_done = 0\n",
    "    \n",
    "    def checkEqualTree(self, root):\n",
    "        \"\"\"\n",
    "        :type root: TreeNode\n",
    "        :rtype: bool\n",
    "        \"\"\"\n",
    "        if root == None:\n",
    "            return False\n",
    "        \n",
    "        dict = {}\n",
    "        \n",
    "        def dfs(root):\n",
    "            \n",
    "            if root == None:\n",
    "                return\n",
    "            \n",
    "            if root.left == None and root.right == None:\n",
    "                dict[root] = root.val\n",
    "                return\n",
    "            \n",
    "            dict[root] = root.val\n",
    "            if root.left:\n",
    "                dfs(root.left)\n",
    "                dict[root] += dict[root.left]\n",
    "            \n",
    "            if root.right:\n",
    "                dfs(root.right)\n",
    "                dict[root] += dict[root.right]\n",
    "        \n",
    "        dfs(root)\n",
    "        \n",
    "        \n",
    "        \n",
    "        "
   ]
  }
 ],
 "metadata": {
  "kernelspec": {
   "display_name": "Python 2",
   "language": "python",
   "name": "python2"
  },
  "language_info": {
   "codemirror_mode": {
    "name": "ipython",
    "version": 2
   },
   "file_extension": ".py",
   "mimetype": "text/x-python",
   "name": "python",
   "nbconvert_exporter": "python",
   "pygments_lexer": "ipython2",
   "version": "2.7.13"
  }
 },
 "nbformat": 4,
 "nbformat_minor": 2
}

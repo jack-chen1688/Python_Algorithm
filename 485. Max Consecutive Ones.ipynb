{
 "cells": [
  {
   "cell_type": "markdown",
   "metadata": {},
   "source": [
    "# 485. Max Consecutive Ones"
   ]
  },
  {
   "cell_type": "markdown",
   "metadata": {},
   "source": [
    "Given a binary array, find the maximum number of consecutive 1s in this array.\n",
    "\n",
    "Example 1:\n",
    "Input: [1,1,0,1,1,1]\n",
    "Output: 3\n",
    "Explanation: The first two digits or the last three digits are consecutive 1s.\n",
    "    The maximum number of consecutive 1s is 3.\n",
    "Note:\n",
    "\n",
    "The input array will only contain 0 and 1.\n",
    "The length of input array is a positive integer and will not exceed 10,000"
   ]
  },
  {
   "cell_type": "markdown",
   "metadata": {},
   "source": [
    "## Solution"
   ]
  },
  {
   "cell_type": "code",
   "execution_count": null,
   "metadata": {
    "collapsed": true
   },
   "outputs": [],
   "source": [
    "class Solution(object):\n",
    "    def findMaxConsecutiveOnes(self, nums):\n",
    "        \"\"\"\n",
    "        :type nums: List[int]\n",
    "        :rtype: int\n",
    "        \"\"\"\n",
    "        \n",
    "        start = None\n",
    "        max_cnt = 0\n",
    "        for i, num in enumerate(nums):\n",
    "            if nums[i] == 1: \n",
    "                if start == None:\n",
    "                    start = i\n",
    "            else:\n",
    "                if start == None:\n",
    "                    continue\n",
    "                else:\n",
    "                    cnt = i - start\n",
    "                    max_cnt = max(max_cnt, cnt)\n",
    "                    start = None\n",
    "        \n",
    "        if start != None:\n",
    "            max_cnt = max(max_cnt, len(nums) - start)\n",
    "            \n",
    "        return max_cnt"
   ]
  }
 ],
 "metadata": {
  "kernelspec": {
   "display_name": "Python 2",
   "language": "python",
   "name": "python2"
  },
  "language_info": {
   "codemirror_mode": {
    "name": "ipython",
    "version": 2
   },
   "file_extension": ".py",
   "mimetype": "text/x-python",
   "name": "python",
   "nbconvert_exporter": "python",
   "pygments_lexer": "ipython2",
   "version": "2.7.13"
  }
 },
 "nbformat": 4,
 "nbformat_minor": 2
}

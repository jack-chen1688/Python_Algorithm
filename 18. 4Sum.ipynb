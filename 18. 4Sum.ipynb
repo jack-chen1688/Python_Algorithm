{
 "cells": [
  {
   "cell_type": "markdown",
   "metadata": {},
   "source": [
    "# 18. 4Sum"
   ]
  },
  {
   "cell_type": "markdown",
   "metadata": {},
   "source": [
    "Given an array S of n integers, are there elements a, b, c, and d in S such that a + b + c + d = target? Find all unique quadruplets in the array which gives the sum of target.\n",
    "\n",
    "Note: The solution set must not contain duplicate quadruplets.\n",
    "\n",
    "For example, given array S = [1, 0, -1, 0, -2, 2], and target = 0.\n",
    "\n",
    "A solution set is:\n",
    "[\n",
    "  [-1,  0, 0, 1],\n",
    "  [-2, -1, 1, 2],\n",
    "  [-2,  0, 0, 2]\n",
    "]"
   ]
  },
  {
   "cell_type": "markdown",
   "metadata": {},
   "source": [
    "## Solution"
   ]
  },
  {
   "cell_type": "code",
   "execution_count": 1,
   "metadata": {},
   "outputs": [
    {
     "name": "stdout",
     "output_type": "stream",
     "text": [
      "[-3, -3, 1, 8]\n",
      "[-3, -3, 2, 7]\n",
      "[-3, -2, 0, 8]\n",
      "[-3, -2, 1, 7]\n",
      "[-3, -2, 3, 5]\n",
      "[-3, -1, -1, 8]\n",
      "[-3, -1, 0, 7]\n",
      "[-3, -1, 2, 5]\n",
      "[-3, 0, 1, 5]\n",
      "[-3, 0, 3, 3]\n",
      "[-3, 1, 2, 3]\n",
      "[-3, 2, 2, 2]\n",
      "[-2, -1, -1, 7]\n",
      "[-2, -1, 1, 5]\n",
      "[-2, -1, 3, 3]\n",
      "[-2, 0, 0, 5]\n",
      "[-2, 0, 2, 3]\n",
      "[-2, 1, 1, 3]\n",
      "[-2, 1, 2, 2]\n",
      "[-1, -1, 0, 5]\n",
      "[-1, -1, 2, 3]\n",
      "[-1, 0, 1, 3]\n",
      "[-1, 0, 2, 2]\n",
      "[-1, 1, 1, 2]\n",
      "[0, 0, 1, 2]\n"
     ]
    }
   ],
   "source": [
    "class Solution(object):\n",
    "    def fourSum(self, nums, target):\n",
    "        \"\"\"\n",
    "        :type nums: List[int]\n",
    "        :type target: int\n",
    "        :rtype: List[List[int]]\n",
    "        \"\"\"\n",
    "        \n",
    "        sort_nums = sorted(nums)\n",
    "        length = len(sort_nums)\n",
    "        result = []\n",
    "\n",
    "        for i in range(length-3):\n",
    "            if i > 0 and sort_nums[i-1] == sort_nums[i]:\n",
    "                continue\n",
    "            else:    \n",
    "                for j in range(i+1, length-2):\n",
    "                    if j > i+1 and sort_nums[j-1] == sort_nums[j]:\n",
    "                        continue\n",
    "                    else:\n",
    "                        start = j + 1\n",
    "                        end = length -1\n",
    "                        two_target = target - sort_nums[i] - sort_nums[j]\n",
    "                        while start < end:\n",
    "                            two_sum = sort_nums[start] + sort_nums[end]\n",
    "                            if two_sum == two_target:\n",
    "                                result.append([sort_nums[i], sort_nums[j], \\\n",
    "                                               sort_nums[start],sort_nums[end]])\n",
    "                                temp = sort_nums[start]\n",
    "                                while 1:\n",
    "                                    start += 1\n",
    "                                    if start >= end or sort_nums[start] != temp:\n",
    "                                        break\n",
    "                                    \n",
    "                                temp = sort_nums[end]\n",
    "                                while 1:\n",
    "                                    end -= 1\n",
    "                                    if start >= end or sort_nums[end] != temp: \n",
    "                                        break\n",
    "                            elif two_sum > two_target:\n",
    "                                end -= 1\n",
    "                            else:\n",
    "                                start += 1\n",
    "        return result\n",
    "\n",
    "\n",
    "def main():\n",
    "    nums=[-3,-3,-3,-3,-3, -3, 5,7,2,3,8,0,0,2,1,1,-2,-1,-1,-1,3,5,2,7]\n",
    "    target = 3\n",
    "    for item in Solution().fourSum(nums, target):\n",
    "        print item\n",
    "\n",
    "if __name__ == \"__main__\":\n",
    "    main()"
   ]
  }
 ],
 "metadata": {
  "kernelspec": {
   "display_name": "Python 2",
   "language": "python",
   "name": "python2"
  },
  "language_info": {
   "codemirror_mode": {
    "name": "ipython",
    "version": 2
   },
   "file_extension": ".py",
   "mimetype": "text/x-python",
   "name": "python",
   "nbconvert_exporter": "python",
   "pygments_lexer": "ipython2",
   "version": "2.7.13"
  }
 },
 "nbformat": 4,
 "nbformat_minor": 2
}

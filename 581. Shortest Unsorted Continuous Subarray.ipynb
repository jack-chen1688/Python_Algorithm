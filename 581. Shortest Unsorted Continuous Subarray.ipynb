{
 "cells": [
  {
   "cell_type": "markdown",
   "metadata": {},
   "source": [
    "# 581. Shortest Unsorted Continuous Subarray"
   ]
  },
  {
   "cell_type": "markdown",
   "metadata": {},
   "source": [
    "Given an integer array, you need to find one continuous subarray that if you only sort this subarray in ascending order, then the whole array will be sorted in ascending order, too.\n",
    "\n",
    "You need to find the shortest such subarray and output its length.\n",
    "\n",
    "Example 1:\n",
    "Input: [2, 6, 4, 8, 10, 9, 15]\n",
    "Output: 5\n",
    "Explanation: You need to sort [6, 4, 8, 10, 9] in ascending order to make the whole array sorted in ascending order.\n",
    "Note:\n",
    "Then length of the input array is in range [1, 10,000].\n",
    "The input array may contain duplicates, so ascending order here means <=."
   ]
  },
  {
   "cell_type": "markdown",
   "metadata": {},
   "source": [
    "## Solution 1. "
   ]
  },
  {
   "cell_type": "code",
   "execution_count": null,
   "metadata": {
    "collapsed": true
   },
   "outputs": [],
   "source": [
    "class Solution(object):\n",
    "    def findUnsortedSubarray(self, nums):\n",
    "        \"\"\"\n",
    "        :type nums: List[int]\n",
    "        :rtype: int\n",
    "        \"\"\"\n",
    "        \n",
    "        if nums == None:\n",
    "            return 0\n",
    "        \n",
    "        length = len(nums)\n",
    "        if length == 1:\n",
    "            return 0\n",
    "        \n",
    "        prev_max = nums[0]\n",
    "        # s_left, from 0-> s_left, array is sorted\n",
    "        # s_right, from s_right+1, array is sorted, or s_right is the last array item\n",
    "        s_left, s_right = 0, 0 \n",
    "        \n",
    "        for i in range(1, length):\n",
    "            if nums[i] < prev_max:\n",
    "                s_right = i\n",
    "                new_s_left = -1\n",
    "                for j in range(s_left, -1, -1):\n",
    "                    if nums[j] <= nums[i]:\n",
    "                        new_s_left = j\n",
    "                        break\n",
    "                s_left = new_s_left\n",
    "            elif nums[i] >= prev_max:\n",
    "                prev_max = nums[i]\n",
    "                if s_left == i-1:\n",
    "                    s_left = i\n",
    "                    s_right = i \n",
    "\n",
    "        return s_right - s_left"
   ]
  },
  {
   "cell_type": "markdown",
   "metadata": {},
   "source": [
    "## Solution 2. Enhancement in Searching for Left Edge"
   ]
  },
  {
   "cell_type": "code",
   "execution_count": null,
   "metadata": {
    "collapsed": true
   },
   "outputs": [],
   "source": [
    "class Solution(object):\n",
    "    def findUnsortedSubarray(self, nums):\n",
    "        \"\"\"\n",
    "        :type nums: List[int]\n",
    "        :rtype: int\n",
    "        \"\"\"\n",
    "        \n",
    "        if nums == None:\n",
    "            return 0\n",
    "        \n",
    "        length = len(nums)\n",
    "        if length == 1:\n",
    "            return 0\n",
    "        \n",
    "        prev_max = nums[0]\n",
    "        # s_left, from 0-> s_left, array is sorted\n",
    "        # s_right, from s_right+1, array is sorted, or s_right is the last array item\n",
    "        s_left, s_right = 0, 0 \n",
    "        \n",
    "        for i in range(1, length):\n",
    "            if nums[i] < prev_max:\n",
    "                s_right = i\n",
    "                if s_left == -1:\n",
    "                    continue\n",
    "                    \n",
    "                start = 0\n",
    "                end = s_left\n",
    "                \n",
    "                while start <= end:\n",
    "                    mid = (start + end)/2\n",
    "                    if nums[mid] <= nums[i]:\n",
    "                        start = mid + 1\n",
    "                    if nums[mid] > nums[i]:\n",
    "                        end = mid - 1\n",
    "                \n",
    "                if nums[mid] > nums[i]:\n",
    "                    mid -= 1\n",
    "                s_left = mid\n",
    "            elif nums[i] >= prev_max:\n",
    "                prev_max = nums[i]\n",
    "                if s_left == i-1:\n",
    "                    s_left = i\n",
    "                    s_right = i \n",
    "\n",
    "        return s_right - s_left"
   ]
  }
 ],
 "metadata": {
  "kernelspec": {
   "display_name": "Python 2",
   "language": "python",
   "name": "python2"
  },
  "language_info": {
   "codemirror_mode": {
    "name": "ipython",
    "version": 2
   },
   "file_extension": ".py",
   "mimetype": "text/x-python",
   "name": "python",
   "nbconvert_exporter": "python",
   "pygments_lexer": "ipython2",
   "version": "2.7.13"
  }
 },
 "nbformat": 4,
 "nbformat_minor": 2
}

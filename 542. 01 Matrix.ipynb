{
 "cells": [
  {
   "cell_type": "markdown",
   "metadata": {},
   "source": [
    "# 542. 01 Matrix"
   ]
  },
  {
   "cell_type": "markdown",
   "metadata": {},
   "source": [
    "## Description"
   ]
  },
  {
   "cell_type": "markdown",
   "metadata": {},
   "source": [
    "Given a matrix consists of 0 and 1, find the distance of the nearest 0 for each cell.\n",
    "\n",
    "The distance between two adjacent cells is 1.\n",
    "Example 1: \n",
    "Input:\n",
    "\n",
    "0 0 0\n",
    "0 1 0\n",
    "0 0 0\n",
    "Output:\n",
    "0 0 0\n",
    "0 1 0\n",
    "0 0 0\n",
    "Example 2: \n",
    "Input:\n",
    "\n",
    "0 0 0\n",
    "0 1 0\n",
    "1 1 1\n",
    "Output:\n",
    "0 0 0\n",
    "0 1 0\n",
    "1 2 1\n",
    "Note:\n",
    "The number of elements of the given matrix will not exceed 10,000.\n",
    "There are at least one 0 in the given matrix.\n",
    "The cells are adjacent in only four directions: up, down, left and right."
   ]
  },
  {
   "cell_type": "markdown",
   "metadata": {},
   "source": [
    "## Solution 1. Brute Force Solution"
   ]
  },
  {
   "cell_type": "code",
   "execution_count": null,
   "metadata": {},
   "outputs": [],
   "source": [
    "class Solution(object):\n",
    "    def updateMatrix(self, matrix):\n",
    "        \"\"\"\n",
    "        :type matrix: List[List[int]]\n",
    "        :rtype: List[List[int]]\n",
    "        \"\"\"\n",
    "        \n",
    "        num_rows = len(matrix)\n",
    "        num_cols = len(matrix[0])\n",
    "        rmatrix = [[x for x in row] for row in matrix]\n",
    "        \n",
    "        for i in range(num_rows):\n",
    "            for j in range(num_cols):\n",
    "                found = 0\n",
    "                \n",
    "                if i <= num_rows - 1 - i:\n",
    "                    max_dis = num_rows - 1 - i\n",
    "                else:\n",
    "                    max_dis = i\n",
    "                    \n",
    "                if j <= num_cols -1 - j:\n",
    "                    max_dis += num_cols - 1 - j\n",
    "                else:\n",
    "                    max_dis += j\n",
    "\n",
    "\n",
    "                for dis in range(max_dis + 1):\n",
    "                    for m in range(dis + 1):\n",
    "                        n = dis - m\n",
    "                        \n",
    "                        if ((i - m) >= 0 and (j - n) >= 0 and matrix[i-m][j-n] == 0) or \\\n",
    "                           ((i - m) >= 0 and (j + n) < num_cols and matrix[i-m][j+n] == 0) or \\\n",
    "                           ((i + m) < num_rows and (j - n) >= 0 and matrix[i+m][j-n] == 0) or \\\n",
    "                           ((i + m) < num_rows and (j + n) < num_cols and matrix[i+m][j+n] == 0):\n",
    "                        \n",
    "                            found = 1   \n",
    "                            rmatrix[i][j] = dis\n",
    "                            break\n",
    "\n",
    "                    if found:\n",
    "                        break\n",
    "      \n",
    "        return rmatrix\n",
    "        \n",
    "def main():\n",
    "    matrix = [[1, 1, 1], [0, 1, 1]]\n",
    "    #matrix = [[0, 1, 0], [1, 1, 1]]\n",
    "    print \"Input:\", matrix\n",
    "    print \"Result:\", Solution().updateMatrix(matrix)\n",
    "\n",
    "if __name__ == \"__main__\":\n",
    "    main()    "
   ]
  },
  {
   "cell_type": "markdown",
   "metadata": {},
   "source": [
    "## Solution 2. O(n) solution"
   ]
  },
  {
   "cell_type": "code",
   "execution_count": null,
   "metadata": {},
   "outputs": [],
   "source": [
    "class Solution(object):\n",
    "    def updateMatrix(self, matrix):\n",
    "        \"\"\"\n",
    "        :type matrix: List[List[int]]\n",
    "        :rtype: List[List[int]]\n",
    "        \"\"\"\n",
    "        \n",
    "        answer = [[10000 * x for x in row] for row in matrix]\n",
    "        for _ in range(4):\n",
    "            for row in answer:\n",
    "                for j in range(1, len(row)):\n",
    "                    row[j] = min(row[j], row[j-1] + 1)\n",
    "            #print \"before\", answer\n",
    "            answer = map(list, zip(*answer[::-1]))\n",
    "            #print \"after\", answer\n",
    "\n",
    "        return answer\n",
    "\n",
    "def main():\n",
    "    matrix = [[1, 1, 1], [0, 1, 1]]\n",
    "    #matrix = [[0, 1, 0], [1, 1, 1]]\n",
    "    print \"Input:\", matrix\n",
    "    print \"Result:\", Solution().updateMatrix(matrix)\n",
    "\n",
    "if __name__ == \"__main__\":\n",
    "    main()"
   ]
  },
  {
   "cell_type": "markdown",
   "metadata": {},
   "source": [
    "## Solution 3.  Based on Solution 2"
   ]
  },
  {
   "cell_type": "code",
   "execution_count": null,
   "metadata": {},
   "outputs": [],
   "source": [
    "class Solution(object):\n",
    "    def updateMatrix(self, matrix):\n",
    "        \"\"\"\n",
    "        :type matrix: List[List[int]]\n",
    "        :rtype: List[List[int]]\n",
    "        \"\"\"\n",
    "        num_rows = len(matrix)\n",
    "        num_cols = len(matrix[0])\n",
    "        \n",
    "        rmatrix = [[(num_rows + num_cols +1) * x for x in row] for row in matrix]\n",
    "        \n",
    "        \n",
    "        # from left to right\n",
    "        for row in range(num_rows):\n",
    "            for col in range(1, num_cols):\n",
    "                rmatrix[row][col] = min(rmatrix[row][col-1] + 1, rmatrix[row][col])\n",
    "        \n",
    "        # from right to left\n",
    "        for row in range(num_rows):\n",
    "            for col in range(num_cols - 2, -1, -1):  #from num_cols-2 to 0\n",
    "                rmatrix[row][col] = min(rmatrix[row][col+1] + 1, rmatrix[row][col])\n",
    "        \n",
    "        # from top to bottom\n",
    "        for col in range(num_cols):\n",
    "            for row in range(1, num_rows):\n",
    "                rmatrix[row][col] = min(rmatrix[row-1][col] + 1, rmatrix[row][col])\n",
    "        \n",
    "        # from bottom to top\n",
    "        for col in range(num_cols):\n",
    "            for row in range(num_rows - 2, -1, -1): # from num_rows - 2 to 0\n",
    "                rmatrix[row][col] = min(rmatrix[row+1][col] + 1, rmatrix[row][col])\n",
    "\n",
    "        return rmatrix\n",
    "                \n",
    "            \n",
    "def main():\n",
    "    matrix = [[1, 1, 1], [0, 1, 1]]\n",
    "    #matrix = [[0, 1, 0], [1, 1, 1]]\n",
    "    print \"Input:\", matrix\n",
    "    print \"Result:\", Solution().updateMatrix(matrix)\n",
    "\n",
    "if __name__ == \"__main__\":\n",
    "    main()        "
   ]
  },
  {
   "cell_type": "code",
   "execution_count": null,
   "metadata": {
    "collapsed": true
   },
   "outputs": [],
   "source": []
  }
 ],
 "metadata": {
  "kernelspec": {
   "display_name": "Python 2",
   "language": "python",
   "name": "python2"
  },
  "language_info": {
   "codemirror_mode": {
    "name": "ipython",
    "version": 2
   },
   "file_extension": ".py",
   "mimetype": "text/x-python",
   "name": "python",
   "nbconvert_exporter": "python",
   "pygments_lexer": "ipython2",
   "version": "2.7.13"
  }
 },
 "nbformat": 4,
 "nbformat_minor": 2
}

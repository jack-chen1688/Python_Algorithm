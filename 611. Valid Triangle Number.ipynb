{
 "cells": [
  {
   "cell_type": "markdown",
   "metadata": {},
   "source": [
    "# 611. Valid Triangle Number"
   ]
  },
  {
   "cell_type": "markdown",
   "metadata": {},
   "source": [
    "Given an array consists of non-negative integers, your task is to count the number of triplets chosen from the array that can make triangles if we take them as side lengths of a triangle.\n",
    "\n",
    "Example 1:\n",
    "Input: [2,2,3,4]\n",
    "Output: 3\n",
    "Explanation:\n",
    "Valid combinations are: \n",
    "2,3,4 (using the first 2)\n",
    "2,3,4 (using the second 2)\n",
    "2,2,3\n",
    "Note:\n",
    "The length of the given array won't exceed 1000.\n",
    "The integers in the given array are in the range of [0, 1000]."
   ]
  },
  {
   "cell_type": "markdown",
   "metadata": {},
   "source": [
    "## Solution 1. O(n<sup>2</sup>lg(n)) based on bisect"
   ]
  },
  {
   "cell_type": "code",
   "execution_count": 1,
   "metadata": {
    "collapsed": true
   },
   "outputs": [],
   "source": [
    "class Solution(object):\n",
    "    def triangleNumber(self, nums):\n",
    "        \"\"\"\n",
    "        :type nums: List[int]\n",
    "        :rtype: int\n",
    "        \"\"\"\n",
    "        s_nums = sorted(nums)\n",
    "        length = len(s_nums)\n",
    "        \n",
    "        result = 0\n",
    "        for i, num0 in enumerate(s_nums[:length-2]):\n",
    "            for j, num1 in enumerate(s_nums[i+1:length-1]):\n",
    "                index = bisect.bisect_left(s_nums[i+j+2:length], num0+num1)\n",
    "                if index:\n",
    "                    result += index\n",
    "        return result\n",
    "            "
   ]
  },
  {
   "cell_type": "markdown",
   "metadata": {},
   "source": [
    "## Solution 2. O(n<sup>2</sup>) "
   ]
  },
  {
   "cell_type": "code",
   "execution_count": 2,
   "metadata": {
    "collapsed": true
   },
   "outputs": [],
   "source": [
    "class Solution(object):\n",
    "    def triangleNumber(self, nums):\n",
    "        \"\"\"\n",
    "        :type nums: List[int]\n",
    "        :rtype: int\n",
    "        \"\"\"\n",
    "        s_nums = sorted(nums)\n",
    "        length = len(s_nums)\n",
    "        \n",
    "        result = 0\n",
    "        # find out num1+num2 > num3 combinations\n",
    "        for i in range(length-1, 1, -1):\n",
    "            start, end = 0, i-1\n",
    "            while start<end:\n",
    "                if s_nums[start] + s_nums[end] > s_nums[i]:\n",
    "                    #print num3, i, start, end\n",
    "                    # number of combinations that ends at pos end\n",
    "                    result += end - start\n",
    "                    end -= 1\n",
    "                else:\n",
    "                    start += 1\n",
    "            \n",
    "            \n",
    "        return result"
   ]
  }
 ],
 "metadata": {
  "kernelspec": {
   "display_name": "Python 2",
   "language": "python",
   "name": "python2"
  },
  "language_info": {
   "codemirror_mode": {
    "name": "ipython",
    "version": 2
   },
   "file_extension": ".py",
   "mimetype": "text/x-python",
   "name": "python",
   "nbconvert_exporter": "python",
   "pygments_lexer": "ipython2",
   "version": "2.7.13"
  }
 },
 "nbformat": 4,
 "nbformat_minor": 2
}

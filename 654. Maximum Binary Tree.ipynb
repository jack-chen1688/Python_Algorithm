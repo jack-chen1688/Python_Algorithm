{
 "cells": [
  {
   "cell_type": "markdown",
   "metadata": {},
   "source": [
    "# 654. Maximum Binary Tree"
   ]
  },
  {
   "cell_type": "markdown",
   "metadata": {},
   "source": [
    "Given an integer array with no duplicates. A maximum tree building on this array is defined as follow:\n",
    "\n",
    "The root is the maximum number in the array.\n",
    "The left subtree is the maximum tree constructed from left part subarray divided by the maximum number.\n",
    "The right subtree is the maximum tree constructed from right part subarray divided by the maximum number.\n",
    "Construct the maximum tree by the given array and output the root node of this tree.\n",
    "\n",
    "Example 1:\n",
    "Input: [3,2,1,6,0,5]\n",
    "Output: return the tree root node representing the following tree:\n",
    "\n",
    "      6\n",
    "    /   \\\n",
    "   3     5\n",
    "    \\    / \n",
    "     2  0   \n",
    "       \\\n",
    "        1\n",
    "Note:\n",
    "The size of the given array will be in the range [1,1000]."
   ]
  },
  {
   "cell_type": "markdown",
   "metadata": {},
   "source": [
    "## Solution 1. Recursive Approach with Time Complexity of O(n<sup>2</sup>) "
   ]
  },
  {
   "cell_type": "code",
   "execution_count": null,
   "metadata": {
    "collapsed": true
   },
   "outputs": [],
   "source": [
    "# Definition for a binary tree node.\n",
    "# class TreeNode(object):\n",
    "#     def __init__(self, x):\n",
    "#         self.val = x\n",
    "#         self.left = None\n",
    "#         self.right = None\n",
    "\n",
    "class Solution(object):b\n",
    "    def constructMaximumBinaryTree(self, nums):\n",
    "        \"\"\"\n",
    "        :type nums: List[int]\n",
    "        :rtype: TreeNode\n",
    "        \"\"\"\n",
    "        max_num = None\n",
    "        max_pos = None\n",
    "        for i, num in enumerate(nums):\n",
    "            if max_num == None or num >= max_num:\n",
    "                max_num = num\n",
    "                max_pos = i\n",
    "            \n",
    "        root = TreeNode(nums[max_pos])\n",
    "        \n",
    "        if max_pos >= 1:\n",
    "            root.left = self.constructMaximumBinaryTree(nums[:max_pos])\n",
    "        \n",
    "        if max_pos <= len(nums) - 2:\n",
    "            root.right = self.constructMaximumBinaryTree(nums[max_pos+1:])\n",
    "        \n",
    "        return root"
   ]
  },
  {
   "cell_type": "markdown",
   "metadata": {},
   "source": [
    "## Solution 2. Iterative Approach O(n<sup>2</sup>)"
   ]
  },
  {
   "cell_type": "markdown",
   "metadata": {},
   "source": [
    "This approach can be easily enhanced to time complexity of O(nlog(n))"
   ]
  },
  {
   "cell_type": "code",
   "execution_count": null,
   "metadata": {
    "collapsed": true
   },
   "outputs": [],
   "source": [
    "# Definition for a binary tree node.\n",
    "# class TreeNode(objecbt):\n",
    "#     def __init__(self, x):\n",
    "#         self.val = x\n",
    "#         self.left = None\n",
    "#         self.right = None\n",
    "\n",
    "class Solution(object):\n",
    "    def constructMaximumBinaryTree(self, nums):\n",
    "        \"\"\"\n",
    "        :type nums: List[int]\n",
    "        :rtype: TreeNode\n",
    "        \"\"\"\n",
    "        \n",
    "        if nums == []:\n",
    "            return None\n",
    "        \n",
    "        max_node = TreeNode(nums[0])\n",
    "        max_val = nums[0]\n",
    "        length = len(nums)\n",
    "    \n",
    "        for i in range(1, length):\n",
    "            if i == 4:\n",
    "                print max_val\n",
    "                \n",
    "            if nums[i] >= max_val:\n",
    "                new_node = TreeNode(nums[i])\n",
    "                new_node.left = max_node\n",
    "                max_node = new_node\n",
    "                max_val = nums[i]\n",
    "            else:\n",
    "                node = max_node\n",
    "                prev_node = max_node\n",
    "                \n",
    "                while 1:\n",
    "                    if node.val > nums[i]:\n",
    "                        if node.right == None:\n",
    "                            new_node = TreeNode(nums[i])\n",
    "                            node.right = new_node\n",
    "                            break\n",
    "                        else:\n",
    "                            prev_node = node\n",
    "                            node = node.right\n",
    "                    else:\n",
    "                        new_node = TreeNode(nums[i])\n",
    "                        new_node.left = node\n",
    "                        prev_node.right = new_node\n",
    "                        break\n",
    "                        \n",
    "        return max_node\n",
    "        "
   ]
  }
 ],
 "metadata": {
  "kernelspec": {
   "display_name": "Python 2",
   "language": "python",
   "name": "python2"
  },
  "language_info": {
   "codemirror_mode": {
    "name": "ipython",
    "version": 2
   },
   "file_extension": ".py",
   "mimetype": "text/x-python",
   "name": "python",
   "nbconvert_exporter": "python",
   "pygments_lexer": "ipython2",
   "version": "2.7.13"
  }
 },
 "nbformat": 4,
 "nbformat_minor": 2
}

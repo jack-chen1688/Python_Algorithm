{
 "cells": [
  {
   "cell_type": "markdown",
   "metadata": {},
   "source": [
    "# 670. Maximum Swap"
   ]
  },
  {
   "cell_type": "markdown",
   "metadata": {},
   "source": [
    "Given a non-negative integer, you could swap two digits at most once to get the maximum valued number. Return the maximum valued number you could get.\n",
    "\n",
    "Example 1:\n",
    "Input: 2736\n",
    "Output: 7236\n",
    "Explanation: Swap the number 2 and the number 7.\n",
    "Example 2:\n",
    "Input: 9973\n",
    "Output: 9973\n",
    "Explanation: No swap.\n",
    "Note:\n",
    "The given number is in the range [0, 108]"
   ]
  },
  {
   "cell_type": "markdown",
   "metadata": {},
   "source": [
    "## Solution"
   ]
  },
  {
   "cell_type": "code",
   "execution_count": null,
   "metadata": {
    "collapsed": true
   },
   "outputs": [],
   "source": [
    "class Solution(object):\n",
    "    def maximumSwap(self, num):\n",
    "        \"\"\"\n",
    "        :type num: int\n",
    "        :rtype: int\n",
    "        \"\"\"\n",
    "        \n",
    "        s = str(num)\n",
    "        n = len(s)\n",
    "        \n",
    "        lst0 = [ch for ch in s]\n",
    "        lst1 = [(int(ch), -i) for ch, i in zip(s, xrange(n))]\n",
    "        lst1.sort(reverse = True)\n",
    "        \n",
    "        pos = 0\n",
    "        swap_pos = None\n",
    "        while pos < n:\n",
    "            if -lst1[pos][1] == pos: \n",
    "                pos += 1\n",
    "            else:\n",
    "                val = lst1[pos][0]\n",
    "                pos1 = pos\n",
    "                while pos1 < n-1:\n",
    "                    if lst1[pos1 + 1][0] == val:\n",
    "                        pos1 += 1\n",
    "                    else:\n",
    "                        break\n",
    "                swap_pos = -lst1[pos1][1]\n",
    "                break\n",
    "        \n",
    "        if swap_pos == None:\n",
    "            return num\n",
    "        \n",
    "        lst0[pos], lst0[swap_pos] = lst0[swap_pos], lst0[pos]\n",
    "        \n",
    "        return int(\"\".join(lst0))"
   ]
  }
 ],
 "metadata": {
  "kernelspec": {
   "display_name": "Python 2",
   "language": "python",
   "name": "python2"
  },
  "language_info": {
   "codemirror_mode": {
    "name": "ipython",
    "version": 2
   },
   "file_extension": ".py",
   "mimetype": "text/x-python",
   "name": "python",
   "nbconvert_exporter": "python",
   "pygments_lexer": "ipython2",
   "version": "2.7.13"
  }
 },
 "nbformat": 4,
 "nbformat_minor": 2
}

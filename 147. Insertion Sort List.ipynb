{
 "cells": [
  {
   "cell_type": "markdown",
   "metadata": {},
   "source": [
    "# 147. Insertion Sort List"
   ]
  },
  {
   "cell_type": "markdown",
   "metadata": {},
   "source": [
    "Sort a linked list using insertion sort."
   ]
  },
  {
   "cell_type": "markdown",
   "metadata": {},
   "source": [
    "## Solution"
   ]
  },
  {
   "cell_type": "code",
   "execution_count": null,
   "metadata": {
    "collapsed": true
   },
   "outputs": [],
   "source": [
    "# Definition for singly-linked list.\n",
    "# class ListNode(object):\n",
    "#     def __init__(self, x):\n",
    "#         self.val = x\n",
    "#         self.next = None\n",
    "\n",
    "class Solution(object):\n",
    "    def insertionSortList(self, head):\n",
    "        \"\"\"\n",
    "        :type head: ListNode\n",
    "        :rtype: ListNode\n",
    "        \"\"\"\n",
    "        if head != None:\n",
    "            lst = []\n",
    "            dummyHead = ListNode(float(\"-inf\"))\n",
    "            dummyHead.next = head\n",
    "            \n",
    "            cnt = 1\n",
    "            prev0, node0 = head, head.next\n",
    "            while node0:\n",
    "                prev1, node1 = dummyHead, dummyHead.next\n",
    "                insert = 0\n",
    "                for x in xrange(cnt):\n",
    "                    if node1.val < node0.val:\n",
    "                        prev1, node1 = node1, node1.next\n",
    "                    else:\n",
    "                        prev0.next = node0.next\n",
    "                        node0.next = node1\n",
    "                        prev1.next = node0\n",
    "                        node0 = prev0.next\n",
    "                        insert = 1\n",
    "                        break\n",
    "                cnt += 1\n",
    "                if insert == 0:\n",
    "                    prev0, node0 = node0, node0.next\n",
    "            \n",
    "            return dummyHead.next\n",
    "        else:\n",
    "            return None"
   ]
  }
 ],
 "metadata": {
  "kernelspec": {
   "display_name": "Python 2",
   "language": "python",
   "name": "python2"
  },
  "language_info": {
   "codemirror_mode": {
    "name": "ipython",
    "version": 2
   },
   "file_extension": ".py",
   "mimetype": "text/x-python",
   "name": "python",
   "nbconvert_exporter": "python",
   "pygments_lexer": "ipython2",
   "version": "2.7.13"
  }
 },
 "nbformat": 4,
 "nbformat_minor": 2
}

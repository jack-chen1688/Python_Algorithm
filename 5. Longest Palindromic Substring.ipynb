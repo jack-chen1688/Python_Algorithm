{
 "cells": [
  {
   "cell_type": "markdown",
   "metadata": {},
   "source": [
    "# 5. Longest Palindromic Substring"
   ]
  },
  {
   "cell_type": "markdown",
   "metadata": {},
   "source": [
    "## Description"
   ]
  },
  {
   "cell_type": "markdown",
   "metadata": {},
   "source": [
    "Given a string s, find the longest palindromic substring in s. You may assume that the maximum length of s is 1000.\n",
    "\n",
    "Example:\n",
    "\n",
    "Input: \"babad\"\n",
    "\n",
    "Output: \"bab\"\n",
    "\n",
    "Note: \"aba\" is also a valid answer.\n",
    "Example:\n",
    "\n",
    "Input: \"cbbd\"\n",
    "\n",
    "Output: \"bb\"\n"
   ]
  },
  {
   "cell_type": "markdown",
   "metadata": {},
   "source": [
    "## Solution"
   ]
  },
  {
   "cell_type": "code",
   "execution_count": 1,
   "metadata": {},
   "outputs": [
    {
     "name": "stdout",
     "output_type": "stream",
     "text": [
      "dffd\n",
      "aba\n",
      "bb\n"
     ]
    }
   ],
   "source": [
    "class Solution(object):\n",
    "    def longestPalindrome(self, s):\n",
    "        \"\"\"\n",
    "        :type s: str\n",
    "        :rtype: str\n",
    "        \"\"\"\n",
    "        \n",
    "        palindrome = s[0]\n",
    "        max_len = 1\n",
    "        palindrome_right= s[0] # palindrome that contains the right most charater\n",
    "        len_right = 1      #len of the right most plaindrome\n",
    "        \n",
    "        for i in range(1, len(s)):\n",
    "            #calculate palindrome for s(:i) based on plindrome for s(:i-1)\n",
    "            \n",
    "            # palindrome_right ends at s[i-1] and has a length of len_right.\n",
    "            # the left most charater is s[i-len_right]. Compare s[i] with\n",
    "            # s[i-len_right - 1] if the latter exist.\n",
    "            if i > len_right and s[i] == s[i-len_right-1]:\n",
    "                palindrome_right = s[i-len_right-1:i+1]\n",
    "                len_right = len_right + 2\n",
    "            else: \n",
    "                #search char starting from s[i-len_right]\n",
    "                for j in range(i - len_right, i + 1):\n",
    "                    if s[j:i+1][::-1] == s[j:i+1]:\n",
    "                        palindrome_right = s[j:i+1]\n",
    "                        len_right = i + 1 - j\n",
    "                        break\n",
    "            \n",
    "            if max_len <= len_right:\n",
    "                palindrome = palindrome_right\n",
    "                max_len = len_right\n",
    "        \n",
    "        return palindrome\n",
    "\n",
    "def main():\n",
    "    print Solution().longestPalindrome(\"asdffda\")\n",
    "    print Solution().longestPalindrome(\"babad\")\n",
    "    print Solution().longestPalindrome(\"bb\")\n",
    "    \n",
    "if __name__ == \"__main__\":\n",
    "    main()\n",
    "            "
   ]
  },
  {
   "cell_type": "markdown",
   "metadata": {},
   "source": [
    "## Solution 2. Enhanced O(n<sup>2</sup>) Algorithm"
   ]
  },
  {
   "cell_type": "code",
   "execution_count": 2,
   "metadata": {},
   "outputs": [
    {
     "name": "stdout",
     "output_type": "stream",
     "text": [
      "dffd\n",
      "aba\n",
      "bb\n"
     ]
    }
   ],
   "source": [
    "class Solution(object):\n",
    "    def longestPalindrome(self, s):\n",
    "        \"\"\"\n",
    "        :type s: str\n",
    "        :rtype: str\n",
    "        \"\"\"\n",
    "        \n",
    "        palindrome = (0,0)\n",
    "        max_len = 1\n",
    "        palindrome_right= [0] # palindrome that contains the right most charater\n",
    "        \n",
    "        for i in range(1, len(s)):\n",
    "            #calculate palindrome for s(:i) based on plindromes for s(:i-1)         \n",
    "            new_palindrome_right = [i]\n",
    "            \n",
    "            if s[i] == s[i-1]:\n",
    "                new_palindrome_right += [i-1]\n",
    "            \n",
    "            for j in palindrome_right:\n",
    "                if (j >= 1) and s[i] == s[j-1]:\n",
    "                    new_palindrome_right += [j-1]\n",
    "            \n",
    "            max_right_len = i - new_palindrome_right[-1] + 1\n",
    "            \n",
    "            if max_len <= max_right_len:\n",
    "                palindrome = (new_palindrome_right[-1], i)\n",
    "                max_len = max_right_len\n",
    "            \n",
    "            palindrome_right = new_palindrome_right\n",
    "            \n",
    "        return s[palindrome[0]:palindrome[1]+1]\n",
    "        \n",
    "\n",
    "def main():\n",
    "    print Solution().longestPalindrome(\"asdffda\")\n",
    "    print Solution().longestPalindrome(\"babad\")\n",
    "    print Solution().longestPalindrome(\"bb\")\n",
    "    \n",
    "if __name__ == \"__main__\":\n",
    "    main()"
   ]
  },
  {
   "cell_type": "markdown",
   "metadata": {},
   "source": [
    "## Solution 3. Manacher's Algorithm"
   ]
  },
  {
   "cell_type": "markdown",
   "metadata": {},
   "source": [
    "http://www.geeksforgeeks.org/manachers-algorithm-linear-time-longest-palindromic-substring-part-1/"
   ]
  }
 ],
 "metadata": {
  "kernelspec": {
   "display_name": "Python 2",
   "language": "python",
   "name": "python2"
  },
  "language_info": {
   "codemirror_mode": {
    "name": "ipython",
    "version": 2
   },
   "file_extension": ".py",
   "mimetype": "text/x-python",
   "name": "python",
   "nbconvert_exporter": "python",
   "pygments_lexer": "ipython2",
   "version": "2.7.13"
  }
 },
 "nbformat": 4,
 "nbformat_minor": 2
}

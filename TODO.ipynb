{
 "cells": [
  {
   "cell_type": "markdown",
   "metadata": {},
   "source": [
    "# TODO"
   ]
  },
  {
   "cell_type": "markdown",
   "metadata": {},
   "source": [
    "Summary of algorithms\n",
    "1. two-sum related issue\n",
    "Scan based method O(n) and O(nlog(n)) if array is not sorted.\n",
    "Dictionary based method O(n)\n",
    "2. Recursive and bottom-up approach of DFS\n",
    "3. dictionary update method to merge dictionaries\n",
    "4. All kinds of sort algorithm and their complexity analysis\n",
    "5. int(x==a) or B=B*1\n",
    "https://stackoverflow.com/questions/20840803/how-to-convert-false-to-0-and-true-to-1-in-python\n",
    "print int(1==1)\n",
    "print (2==2) * 1\n",
    "6.dictonary update key and pop key\n"
   ]
  },
  {
   "cell_type": "markdown",
   "metadata": {},
   "source": [
    "7. Trap \n",
    "line 29. RuntimeError: dictionary changed size during iteration"
   ]
  },
  {
   "cell_type": "code",
   "execution_count": null,
   "metadata": {
    "collapsed": true
   },
   "outputs": [],
   "source": [
    "# Definition for a binary tree node.\n",
    "# class TreeNode(object):\n",
    "#     def __init__(self, x):\n",
    "#         self.val = x\n",
    "#         self.left = None\n",
    "#         self.right = None\n",
    "\n",
    "class Solution(object):\n",
    "    \n",
    "    dict = {}\n",
    "    \n",
    "    def pathSum(self, root, sum):\n",
    "        \"\"\"\n",
    "        :type root: TreeNode\n",
    "        :type sum: int\n",
    "        :rtype: int\n",
    "        \"\"\"\n",
    "        if root == None:\n",
    "            return 0\n",
    "        \n",
    "        res = 0\n",
    "        if root.left != None:\n",
    "            res += self.pathSum(root.left, sum)\n",
    "        \n",
    "        if root.left != None:\n",
    "            res += self.pathSum(root.right, sum)\n",
    "        \n",
    "        for key in dict:\n",
    "            dict[key + root.val] = dict.pop(key)\n",
    "            \n",
    "        dict[root.val] += dict.get(root.val, 0) + 1\n",
    "        res += dict.get(sum, 0)\n",
    "        \n",
    "        return res"
   ]
  },
  {
   "cell_type": "code",
   "execution_count": null,
   "metadata": {
    "collapsed": true
   },
   "outputs": [],
   "source": [
    "xrange(r*c, c), xrange(0, r*c, c):"
   ]
  },
  {
   "cell_type": "markdown",
   "metadata": {},
   "source": [
    "7. for lst in lsts: trap\n",
    "\n",
    "8.         for i in xrange(0, n, inc):\n",
    "            lst1 = lst[i+k-1:i-1:-1]\n",
    "            lst[i:i+k] = lst1\n",
    "            print i, lst1, lst\n",
    "            \n",
    "            Use below instead\n",
    "            lst[i:i+k] = list(lst[i:i+k])[::-1]\n",
    "            \n",
    "9. str's find and index method and their differences.\n",
    "10. Remove dictionary item\n",
    "11. list operaton in effective Python\n",
    "12. return r if r else 9\n",
    "13. 371 todo\n",
    "14. ord and chr"
   ]
  }
 ],
 "metadata": {
  "kernelspec": {
   "display_name": "Python 2",
   "language": "python",
   "name": "python2"
  },
  "language_info": {
   "codemirror_mode": {
    "name": "ipython",
    "version": 2
   },
   "file_extension": ".py",
   "mimetype": "text/x-python",
   "name": "python",
   "nbconvert_exporter": "python",
   "pygments_lexer": "ipython2",
   "version": "2.7.13"
  }
 },
 "nbformat": 4,
 "nbformat_minor": 2
}

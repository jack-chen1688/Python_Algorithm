{
 "cells": [
  {
   "cell_type": "markdown",
   "metadata": {},
   "source": [
    "# TODO"
   ]
  },
  {
   "cell_type": "markdown",
   "metadata": {},
   "source": [
    "Summary of algorithms\n",
    "1. two-sum related issue\n",
    "Scan based method O(n) and O(nlog(n)) if array is not sorted.\n",
    "Dictionary based method O(n)\n",
    "2. Recursive and bottom-up approach of DFS\n",
    "3. dictionary update method to merge dictionaries\n",
    "4. All kinds of sort algorithm and their complexity analysis\n",
    "5. int(x==a) or B=B*1\n",
    "https://stackoverflow.com/questions/20840803/how-to-convert-false-to-0-and-true-to-1-in-python\n",
    "print int(1==1)\n",
    "print (2==2) * 1\n",
    "6.dictonary update key and pop key\n"
   ]
  },
  {
   "cell_type": "markdown",
   "metadata": {},
   "source": [
    "7. Trap \n",
    "line 29. RuntimeError: dictionary changed size during iteration"
   ]
  },
  {
   "cell_type": "code",
   "execution_count": null,
   "metadata": {
    "collapsed": true
   },
   "outputs": [],
   "source": [
    "# Definition for a binary tree node.\n",
    "# class TreeNode(object):\n",
    "#     def __init__(self, x):\n",
    "#         self.val = x\n",
    "#         self.left = None\n",
    "#         self.right = None\n",
    "\n",
    "class Solution(object):\n",
    "    \n",
    "    dict = {}\n",
    "    \n",
    "    def pathSum(self, root, sum):\n",
    "        \"\"\"\n",
    "        :type root: TreeNode\n",
    "        :type sum: int\n",
    "        :rtype: int\n",
    "        \"\"\"\n",
    "        if root == None:\n",
    "            return 0\n",
    "        \n",
    "        res = 0\n",
    "        if root.left != None:\n",
    "            res += self.pathSum(root.left, sum)\n",
    "        \n",
    "        if root.left != None:\n",
    "            res += self.pathSum(root.right, sum)\n",
    "        \n",
    "        for key in dict:\n",
    "            dict[key + root.val] = dict.pop(key)\n",
    "            \n",
    "        dict[root.val] += dict.get(root.val, 0) + 1\n",
    "        res += dict.get(sum, 0)\n",
    "        \n",
    "        return res"
   ]
  },
  {
   "cell_type": "markdown",
   "metadata": {},
   "source": [
    "7. for lst in lsts: trap\n",
    "\n",
    "8.         for i in xrange(0, n, inc):\n",
    "            lst1 = lst[i+k-1:i-1:-1]\n",
    "            lst[i:i+k] = lst1\n",
    "            print i, lst1, lst\n",
    "            \n",
    "            Use below instead\n",
    "            lst[i:i+k] = list(lst[i:i+k])[::-1]\n",
    "            \n",
    "9. str's find and index method and their differences.\n",
    "10. Remove dictionary item\n",
    "11. list operaton in effective Python\n",
    "12. return r if r else 9\n",
    "13. 371 todo\n",
    "14. ord and chr\n",
    "\n",
    "15. set intersection using &.  (Problem 349)\n",
    "    set union using |. (problem 529)\n",
    "16. sorted and sort for objects (Problem ?)\n",
    "17. in-place sort\n",
    "18. disjoint set data structure "
   ]
  },
  {
   "cell_type": "markdown",
   "metadata": {},
   "source": [
    "17. matrix transpose use map(list, zip(*B))\n",
    "18. Heap's nlargest and nsmallest methods with key\n",
    "19. use cmp_to_key for heapq nlargest and nsmallest. python 3 sort don't have cmp parameter, can use cmp_to_key \n",
    "20. dict.copy\n",
    "21. list.insert(item, pos) trap, should be list.insert(pos,item)\n",
    "22. special condition\n",
    "23. dict and set copy using copy()\n",
    "24. A[:-1:-1]"
   ]
  },
  {
   "cell_type": "markdown",
   "metadata": {},
   "source": [
    "Recent Todos"
   ]
  },
  {
   "cell_type": "markdown",
   "metadata": {},
   "source": [
    "1. 3Sum smaller\n",
    "2. Facebook problems.\n",
    "3. Operator.itemgetter in sort instead of cmp_to_key\n",
    "4. Convert a problem to a previous solved problem.\n",
    "5. Study more on union-find algorithm\n",
    "https://www.geeksforgeeks.org/union-find/\n",
    "6. Bipartite\n",
    "https://www.geeksforgeeks.org/bipartite-graph/"
   ]
  }
 ],
 "metadata": {
  "kernelspec": {
   "display_name": "Python 3",
   "language": "python",
   "name": "python3"
  },
  "language_info": {
   "codemirror_mode": {
    "name": "ipython",
    "version": 3
   },
   "file_extension": ".py",
   "mimetype": "text/x-python",
   "name": "python",
   "nbconvert_exporter": "python",
   "pygments_lexer": "ipython3",
   "version": "3.7.0"
  }
 },
 "nbformat": 4,
 "nbformat_minor": 2
}

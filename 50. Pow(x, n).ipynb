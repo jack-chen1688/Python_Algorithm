{
 "cells": [
  {
   "cell_type": "markdown",
   "metadata": {},
   "source": [
    "# 50. Pow(x, n)"
   ]
  },
  {
   "cell_type": "markdown",
   "metadata": {},
   "source": [
    "Implement pow(x, n)."
   ]
  },
  {
   "cell_type": "markdown",
   "metadata": {},
   "source": [
    "## Solution"
   ]
  },
  {
   "cell_type": "code",
   "execution_count": 1,
   "metadata": {},
   "outputs": [
    {
     "name": "stdout",
     "output_type": "stream",
     "text": [
      "3019.66974982\n"
     ]
    }
   ],
   "source": [
    "class Solution(object):\n",
    "    def myPow(self, x, n):\n",
    "        \"\"\"\n",
    "        :type x: float\n",
    "        :type n: int\n",
    "        :rtype: float\n",
    "        \"\"\"\n",
    "        \n",
    "        if n == 0:\n",
    "            return 1\n",
    "        \n",
    "        start = abs(n)\n",
    "        power_2 = 1\n",
    "        \n",
    "        power_list = [x]\n",
    "        multipliers = []\n",
    "        while start:\n",
    "            if power_2 > 1:\n",
    "                power_list.append(power_list[-1]*power_list[-1])\n",
    "                \n",
    "            if start & power_2:\n",
    "                multipliers.append(power_list[-1])\n",
    "                start -= power_2\n",
    "            \n",
    "            power_2 *= 2\n",
    "        \n",
    "        result = 1\n",
    "        for item in multipliers:\n",
    "            result *= item\n",
    "        \n",
    "        if n < 0:\n",
    "            result = 1/result\n",
    "            \n",
    "        return result\n",
    "\n",
    "def main():\n",
    "    print Solution().myPow(3.1415, 7)\n",
    "\n",
    "if __name__==\"__main__\":\n",
    "    main()\n",
    "    "
   ]
  }
 ],
 "metadata": {
  "kernelspec": {
   "display_name": "Python 2",
   "language": "python",
   "name": "python2"
  },
  "language_info": {
   "codemirror_mode": {
    "name": "ipython",
    "version": 2
   },
   "file_extension": ".py",
   "mimetype": "text/x-python",
   "name": "python",
   "nbconvert_exporter": "python",
   "pygments_lexer": "ipython2",
   "version": "2.7.13"
  }
 },
 "nbformat": 4,
 "nbformat_minor": 2
}

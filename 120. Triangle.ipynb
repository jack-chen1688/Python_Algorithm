{
 "cells": [
  {
   "cell_type": "markdown",
   "metadata": {},
   "source": [
    "# 120. Triangle"
   ]
  },
  {
   "cell_type": "markdown",
   "metadata": {},
   "source": [
    "Given a triangle, find the minimum path sum from top to bottom. Each step you may move to adjacent numbers on the row below.\n",
    "\n",
    "For example, given the following triangle\n",
    "[\n",
    "     [2],\n",
    "    [3,4],\n",
    "   [6,5,7],\n",
    "  [4,1,8,3]\n",
    "]\n",
    "The minimum path sum from top to bottom is 11 (i.e., 2 + 3 + 5 + 1 = 11).\n",
    "\n",
    "Note:\n",
    "Bonus point if you are able to do this using only O(n) extra space, where n is the total number of rows in the triangle."
   ]
  },
  {
   "cell_type": "markdown",
   "metadata": {},
   "source": [
    "## Solution"
   ]
  },
  {
   "cell_type": "code",
   "execution_count": null,
   "metadata": {
    "collapsed": true
   },
   "outputs": [],
   "source": [
    "class Solution(object):\n",
    "    def minimumTotal(self, triangle):\n",
    "        \"\"\"\n",
    "        :type triangle: List[List[int]]\n",
    "        :rtype: int\n",
    "        \"\"\"\n",
    "        if triangle == []:\n",
    "            return 0\n",
    "        \n",
    "        prev_min_totals = []\n",
    "        for i, row in enumerate(triangle):\n",
    "            min_totals = []\n",
    "            if i == 0:\n",
    "                min_totals.append(triangle[0][0])\n",
    "            else:     \n",
    "                for j, num in enumerate(row):\n",
    "                    if j == 0: \n",
    "                        min_totals.append(prev_min_totals[0] + num)\n",
    "                    elif j == i:\n",
    "                        min_totals.append(prev_min_totals[i-1] + num)\n",
    "                    else:\n",
    "                        min_totals.append(min(prev_min_totals[j-1] + num, prev_min_totals[j] + num)) \n",
    "            prev_min_totals = min_totals\n",
    "        \n",
    "        return min(min_totals)"
   ]
  }
 ],
 "metadata": {
  "kernelspec": {
   "display_name": "Python 2",
   "language": "python",
   "name": "python2"
  },
  "language_info": {
   "codemirror_mode": {
    "name": "ipython",
    "version": 2
   },
   "file_extension": ".py",
   "mimetype": "text/x-python",
   "name": "python",
   "nbconvert_exporter": "python",
   "pygments_lexer": "ipython2",
   "version": "2.7.13"
  }
 },
 "nbformat": 4,
 "nbformat_minor": 2
}

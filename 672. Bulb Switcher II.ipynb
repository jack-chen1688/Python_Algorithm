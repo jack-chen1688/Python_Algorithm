{
 "cells": [
  {
   "cell_type": "markdown",
   "metadata": {},
   "source": [
    "# 672. Bulb Switcher II"
   ]
  },
  {
   "cell_type": "markdown",
   "metadata": {},
   "source": [
    "There is a room with n lights which are turned on initially and 4 buttons on the wall. After performing exactly m unknown operations towards buttons, you need to return how many different kinds of status of the n lights could be.\n",
    "\n",
    "Suppose n lights are labeled as number [1, 2, 3 ..., n], function of these 4 buttons are given below:\n",
    "\n",
    "Flip all the lights.\n",
    "Flip lights with even numbers.\n",
    "Flip lights with odd numbers.\n",
    "Flip lights with (3k + 1) numbers, k = 0, 1, 2, ...\n",
    "Example 1:\n",
    "Input: n = 1, m = 1.\n",
    "Output: 2\n",
    "Explanation: Status can be: [on], [off]\n",
    "Example 2:\n",
    "Input: n = 2, m = 1.\n",
    "Output: 3\n",
    "Explanation: Status can be: [on, off], [off, on], [off, off]\n",
    "Example 3:\n",
    "Input: n = 3, m = 1.\n",
    "Output: 4\n",
    "Explanation: Status can be: [off, on, off], [on, off, on], [off, off, off], [off, on, on].\n",
    "Note: n and m both fit in range [0, 1000]."
   ]
  },
  {
   "cell_type": "markdown",
   "metadata": {},
   "source": [
    "## Solution "
   ]
  },
  {
   "cell_type": "markdown",
   "metadata": {},
   "source": [
    "Consider lights in different positions below.\n",
    "\n",
    "        6K+1 odd, 3k+1\n",
    "        6K+2 even\n",
    "        6K+3 odd\n",
    "        6K+4 even, 3k+1\n",
    "        6K+5 odd, same as 6K+3\n",
    "        6k+6 even, same as 6K+2\n",
    "\n",
    "We can see that lights at position 1,2,3,4 can contribute to different combination of statuses. The statuses of other lights can all be determined by these 4 lights."
   ]
  },
  {
   "cell_type": "code",
   "execution_count": 1,
   "metadata": {},
   "outputs": [],
   "source": [
    "class Solution(object):\n",
    "    \n",
    "    def __init__(self):\n",
    "        self.set = set()\n",
    "    \n",
    "    def flipOp(self, lst, op):\n",
    "        n = len(lst)\n",
    "        if op == 0:\n",
    "            for i in xrange(n):\n",
    "                lst[i] = -lst[i]\n",
    "        elif op == 1: # even\n",
    "            for i in xrange(1,n,2):\n",
    "                lst[i] = -lst[i]\n",
    "        elif op == 2: # odd\n",
    "            for i in xrange(0,n,2):\n",
    "                lst[i] = -lst[i]\n",
    "        elif op == 3: \n",
    "            for i in xrange(0,n,3):\n",
    "                lst[i] = -lst[i]\n",
    "        \n",
    "        \n",
    "    def flipLights(self, n, m):\n",
    "        \"\"\"\n",
    "        :type n: int\n",
    "        :type m: int\n",
    "        :rtype: int\n",
    "        \"\"\"\n",
    "\n",
    "        if n > 4:\n",
    "            return self.flipLights(4, m) \n",
    "        \n",
    "        self.set.add((1,)*n)\n",
    "        \n",
    "        if m == 0:\n",
    "            return 1\n",
    "        \n",
    "        for i in xrange(m):\n",
    "            set1 = set()\n",
    "            for tup in self.set:\n",
    "                lst = list(tup)\n",
    "                for op in xrange(4):\n",
    "                    self.flipOp(lst,op)\n",
    "                    set1.add(tuple(lst))\n",
    "            if self.set == set1:\n",
    "                break\n",
    "            else:\n",
    "                self.set = set1\n",
    "        \n",
    "        return len(self.set)\n",
    "                    "
   ]
  }
 ],
 "metadata": {
  "kernelspec": {
   "display_name": "Python 2",
   "language": "python",
   "name": "python2"
  },
  "language_info": {
   "codemirror_mode": {
    "name": "ipython",
    "version": 2
   },
   "file_extension": ".py",
   "mimetype": "text/x-python",
   "name": "python",
   "nbconvert_exporter": "python",
   "pygments_lexer": "ipython2",
   "version": "2.7.13"
  }
 },
 "nbformat": 4,
 "nbformat_minor": 2
}

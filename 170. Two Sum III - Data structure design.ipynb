{
 "cells": [
  {
   "cell_type": "markdown",
   "metadata": {},
   "source": [
    "# 170. Two Sum III - Data structure design"
   ]
  },
  {
   "cell_type": "markdown",
   "metadata": {},
   "source": [
    "Design and implement a TwoSum class. It should support the following operations: add and find.\n",
    "\n",
    "add - Add the number to an internal data structure.\n",
    "find - Find if there exists any pair of numbers which sum is equal to the value.\n",
    "\n",
    "For example,\n",
    "add(1); add(3); add(5);\n",
    "find(4) -> true\n",
    "find(7) -> false"
   ]
  },
  {
   "cell_type": "markdown",
   "metadata": {},
   "source": [
    "## Solution 1. Sort + Scan"
   ]
  },
  {
   "cell_type": "code",
   "execution_count": null,
   "metadata": {
    "collapsed": true
   },
   "outputs": [],
   "source": [
    "class TwoSum(object):\n",
    "\n",
    "    def __init__(self):\n",
    "        \"\"\"\n",
    "        Initialize your data structure here.\n",
    "        \"\"\"\n",
    "        self.__lst__ = []\n",
    "        self.__sorted__ = 1\n",
    "\n",
    "    def add(self, number):\n",
    "        \"\"\"\n",
    "        Add the number to an internal data structure..\n",
    "        :type number: int\n",
    "        :rtype: void\n",
    "        \"\"\"\n",
    "        self.__lst__.append(number)\n",
    "        self.__sorted__ = 0\n",
    "\n",
    "    def find(self, value):\n",
    "        \"\"\"\n",
    "        Find if there exists any pair of numbers which sum is equal to the value.\n",
    "        :type value: int\n",
    "        :rtype: bool\n",
    "        \"\"\"\n",
    "        if self.__sorted__ == 0:\n",
    "            self.__lst__.sort()\n",
    "            self.__sorted__ = 1\n",
    "            \n",
    "        lo = 0\n",
    "        hi = len(self.__lst__) -1\n",
    "        \n",
    "        while lo < hi:\n",
    "            \n",
    "            if self.__lst__[lo] + self.__lst__[hi] > value:\n",
    "                hi -= 1\n",
    "            elif self.__lst__[lo] + self.__lst__[hi] < value:\n",
    "                lo += 1\n",
    "            else:\n",
    "                return True\n",
    "        return False\n",
    "\n",
    "# Your TwoSum object will be instantiated and called as such:\n",
    "# obj = TwoSum()\n",
    "# obj.add(number)\n",
    "# param_2 = obj.find(value)"
   ]
  },
  {
   "cell_type": "markdown",
   "metadata": {},
   "source": [
    "## Solution 2. Use Dictionary"
   ]
  },
  {
   "cell_type": "code",
   "execution_count": null,
   "metadata": {
    "collapsed": true
   },
   "outputs": [],
   "source": [
    "class TwoSum(object):\n",
    "\n",
    "    def __init__(self):\n",
    "        \"\"\"\n",
    "        Initialize your data structure here.\n",
    "        \"\"\"\n",
    "        self.dict = {}\n",
    "\n",
    "    def add(self, number):\n",
    "        \"\"\"\n",
    "        Add the number to an internal data structure..\n",
    "        :type number: int\n",
    "        :rtype: void\n",
    "        \"\"\"\n",
    "        self.dict[number] = self.dict.get(number, 0) + 1\n",
    "\n",
    "    def find(self, value):\n",
    "        \"\"\"\n",
    "        Find if there exists any pair of numbers which sum is equal to the value.\n",
    "        :type value: int\n",
    "        :rtype: bool\n",
    "        \"\"\"\n",
    "        \n",
    "        for num in self.dict.keys():\n",
    "            comp = value - num\n",
    "            if comp == num:\n",
    "                if self.dict.get(comp, 0) >= 2:\n",
    "                    return True\n",
    "            else:\n",
    "                if comp in self.dict:\n",
    "                    return True\n",
    "        return False\n",
    "\n",
    "# Your TwoSum object will be instantiated and called as such:\n",
    "# obj = TwoSum()\n",
    "# obj.add(number)\n",
    "# param_2 = obj.find(value)"
   ]
  }
 ],
 "metadata": {
  "kernelspec": {
   "display_name": "Python 2",
   "language": "python",
   "name": "python2"
  },
  "language_info": {
   "codemirror_mode": {
    "name": "ipython",
    "version": 2
   },
   "file_extension": ".py",
   "mimetype": "text/x-python",
   "name": "python",
   "nbconvert_exporter": "python",
   "pygments_lexer": "ipython2",
   "version": "2.7.13"
  }
 },
 "nbformat": 4,
 "nbformat_minor": 2
}

{
 "cells": [
  {
   "cell_type": "markdown",
   "metadata": {},
   "source": [
    "# 501. Find Mode in Binary Search Tree"
   ]
  },
  {
   "cell_type": "markdown",
   "metadata": {},
   "source": [
    "Given a binary search tree (BST) with duplicates, find all the mode(s) (the most frequently occurred element) in the given BST.\n",
    "\n",
    "Assume a BST is defined as follows:\n",
    "\n",
    "The left subtree of a node contains only nodes with keys less than or equal to the node's key.\n",
    "The right subtree of a node contains only nodes with keys greater than or equal to the node's key.\n",
    "Both the left and right subtrees must also be binary search trees.\n",
    "For example:\n",
    "Given BST [1,null,2,2],\n",
    "   1\n",
    "    \\\n",
    "     2\n",
    "    /\n",
    "   2\n",
    "return [2].\n",
    "\n",
    "Note: If a tree has more than one mode, you can return them in any order.\n",
    "\n",
    "Follow up: Could you do that without using any extra space? (Assume that the implicit stack space incurred due to recursion does not count).\n",
    "\n"
   ]
  },
  {
   "cell_type": "markdown",
   "metadata": {},
   "source": [
    "## Solution"
   ]
  },
  {
   "cell_type": "code",
   "execution_count": null,
   "metadata": {
    "collapsed": true
   },
   "outputs": [],
   "source": [
    "# Definition for a binary tree node.\n",
    "# class TreeNode(object):\n",
    "#     def __init__(self, x):\n",
    "#         self.val = x\n",
    "#         self.left = None\n",
    "#         self.right = None\n",
    "\n",
    "class Solution(object):\n",
    "    def findMode(self, root):\n",
    "        \"\"\"\n",
    "        :type root: TreeNode\n",
    "        :rtype: List[int]\n",
    "        \"\"\"\n",
    "        \n",
    "        lst = []\n",
    "        def dfs(root):\n",
    "            \n",
    "            if root == None:\n",
    "                return\n",
    "            \n",
    "            dfs(root.left)\n",
    "            \n",
    "            if lst != [] and lst[-1][1] == root.val:\n",
    "                lst[-1][0] += 1\n",
    "            else:\n",
    "                lst.append([1, root.val])\n",
    "            dfs(root.right)\n",
    "        \n",
    "        dfs(root)\n",
    "        lst.sort()\n",
    "        \n",
    "        result = []\n",
    "        for item in lst:\n",
    "            if item[0] == lst[-1][0]:\n",
    "                result.append(item[1])\n",
    "        \n",
    "        return result "
   ]
  }
 ],
 "metadata": {
  "kernelspec": {
   "display_name": "Python 2",
   "language": "python",
   "name": "python2"
  },
  "language_info": {
   "codemirror_mode": {
    "name": "ipython",
    "version": 2
   },
   "file_extension": ".py",
   "mimetype": "text/x-python",
   "name": "python",
   "nbconvert_exporter": "python",
   "pygments_lexer": "ipython2",
   "version": "2.7.11"
  }
 },
 "nbformat": 4,
 "nbformat_minor": 2
}

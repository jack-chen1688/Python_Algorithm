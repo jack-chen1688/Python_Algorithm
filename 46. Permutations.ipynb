{
 "cells": [
  {
   "cell_type": "markdown",
   "metadata": {},
   "source": [
    "# 46. Permutations"
   ]
  },
  {
   "cell_type": "markdown",
   "metadata": {},
   "source": [
    "Given a collection of distinct numbers, return all possible permutations.\n",
    "\n",
    "For example,\n",
    "[1,2,3] have the following permutations:\n",
    "[\n",
    "  [1,2,3],\n",
    "  [1,3,2],\n",
    "  [2,1,3],\n",
    "  [2,3,1],\n",
    "  [3,1,2],\n",
    "  [3,2,1]\n",
    "]"
   ]
  },
  {
   "cell_type": "markdown",
   "metadata": {},
   "source": [
    "## Solution"
   ]
  },
  {
   "cell_type": "code",
   "execution_count": null,
   "metadata": {
    "collapsed": true
   },
   "outputs": [],
   "source": [
    "class Solution(object):\n",
    "    def permute(self, nums):\n",
    "        \"\"\"\n",
    "        :type nums: List[int]\n",
    "        :rtype: List[List[int]]\n",
    "        \"\"\"\n",
    "        if not nums:\n",
    "            return [[]]\n",
    "        \n",
    "        length = len(nums)\n",
    "        lists = [[nums[0]]]\n",
    "        \n",
    "        for i in range(1, length):\n",
    "            item = nums[i]\n",
    "            lists1 = []\n",
    "            for l in lists: \n",
    "                for location in range(i+1):\n",
    "                    \n",
    "                    list1 = list(l)\n",
    "                    list1.insert(location, item)\n",
    "                    #print l, list1\n",
    "                    lists1.append(list1)\n",
    "            lists = lists1\n",
    "        \n",
    "        return lists\n",
    "\n",
    "def main():\n",
    "    print Solution().permuate([2,5,7,3])\n",
    "\n",
    "if __name__ == \"__main__\":\n",
    "    "
   ]
  }
 ],
 "metadata": {
  "kernelspec": {
   "display_name": "Python 2",
   "language": "python",
   "name": "python2"
  },
  "language_info": {
   "codemirror_mode": {
    "name": "ipython",
    "version": 2
   },
   "file_extension": ".py",
   "mimetype": "text/x-python",
   "name": "python",
   "nbconvert_exporter": "python",
   "pygments_lexer": "ipython2",
   "version": "2.7.13"
  }
 },
 "nbformat": 4,
 "nbformat_minor": 2
}

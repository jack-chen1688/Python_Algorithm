{
 "cells": [
  {
   "cell_type": "markdown",
   "metadata": {},
   "source": [
    "# 13. Roman to Integer"
   ]
  },
  {
   "cell_type": "markdown",
   "metadata": {},
   "source": [
    "Given a roman numeral, convert it to an integer.\n",
    "\n",
    "Input is guaranteed to be within the range from 1 to 3999."
   ]
  },
  {
   "cell_type": "markdown",
   "metadata": {},
   "source": [
    "## Solution"
   ]
  },
  {
   "cell_type": "code",
   "execution_count": 1,
   "metadata": {},
   "outputs": [
    {
     "name": "stdout",
     "output_type": "stream",
     "text": [
      "1919\n"
     ]
    }
   ],
   "source": [
    "class Solution(object):\n",
    "    def romanToInt(self, s):\n",
    "        \"\"\"\n",
    "        :type s: str\n",
    "        :rtype: int\n",
    "        \"\"\"\n",
    "        dict0 = {\"I\":1, \"II\":2, \"III\":3, \"IV\":4, \"V\":5, \"VI\":6, \"VII\":7, \"VIII\":8, \"IX\":9}\n",
    "        dict1 = {\"X\":1, \"XX\":2, \"XXX\":3, \"XL\":4, \"L\":5, \"LX\":6, \"LXX\":7, \"LXXX\":8, \"XC\":9}\n",
    "        dict2 = {\"C\":1, \"CC\":2, \"CCC\":3, \"CD\":4, \"D\":5, \"DC\":6, \"DCC\":7, \"DCCC\":8, \"CM\":9}\n",
    "        \n",
    "        length = len(s)\n",
    "        pos = 0\n",
    "        \n",
    "        while pos < length:\n",
    "            if s[pos] == 'M':\n",
    "                pos += 1\n",
    "            else:\n",
    "                break\n",
    "        \n",
    "        result = pos * 1000\n",
    "        \n",
    "        start = pos\n",
    "        while pos < length:\n",
    "            if s[pos] == 'C' or s[pos] == 'D' or s[pos] == 'M':\n",
    "                pos += 1\n",
    "            else:\n",
    "                break\n",
    "        if pos > start:\n",
    "            result += dict2[s[start:pos]] * 100\n",
    "        \n",
    "        start = pos\n",
    "        while pos < length:\n",
    "            if s[pos] == 'X' or s[pos] == 'L' or s[pos] == 'C':\n",
    "                pos += 1\n",
    "            else:\n",
    "                break\n",
    "        \n",
    "        if pos > start:\n",
    "            result += dict1[s[start:pos]] * 10\n",
    "        \n",
    "        if pos < length:\n",
    "            result += dict0[s[pos:]]\n",
    "        \n",
    "        return result\n",
    "    \n",
    "def main():\n",
    "    print Solution().romanToInt(\"MCMXIX\")\n",
    "\n",
    "if __name__ == \"__main__\":\n",
    "    main()\n",
    "    "
   ]
  }
 ],
 "metadata": {
  "kernelspec": {
   "display_name": "Python 2",
   "language": "python",
   "name": "python2"
  },
  "language_info": {
   "codemirror_mode": {
    "name": "ipython",
    "version": 2
   },
   "file_extension": ".py",
   "mimetype": "text/x-python",
   "name": "python",
   "nbconvert_exporter": "python",
   "pygments_lexer": "ipython2",
   "version": "2.7.13"
  }
 },
 "nbformat": 4,
 "nbformat_minor": 2
}

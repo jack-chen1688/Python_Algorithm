{
 "cells": [
  {
   "cell_type": "markdown",
   "metadata": {},
   "source": [
    "# 69. Sqrt(x)"
   ]
  },
  {
   "cell_type": "code",
   "execution_count": null,
   "metadata": {
    "collapsed": true
   },
   "outputs": [],
   "source": [
    "Implement int sqrt(int x).\n",
    "\n",
    "Compute and return the square root of x.`"
   ]
  },
  {
   "cell_type": "markdown",
   "metadata": {},
   "source": [
    "## Solution"
   ]
  },
  {
   "cell_type": "code",
   "execution_count": 4,
   "metadata": {},
   "outputs": [
    {
     "name": "stdout",
     "output_type": "stream",
     "text": [
      "3\n",
      "Input is incorret\n"
     ]
    }
   ],
   "source": [
    "class Solution(object):\n",
    "    def mySqrt(self, x):\n",
    "        \"\"\"\n",
    "        :type x: int\n",
    "        :rtype: int\n",
    "        \"\"\"\n",
    "        if x < 0:\n",
    "            raise ValueError, \"x cannot be negative\"\n",
    "             \n",
    "        start = 0\n",
    "        end = x\n",
    "        \n",
    "        while start <= end:\n",
    "            mid = (start+end)/2\n",
    "            if mid * mid > x:\n",
    "                 end = mid - 1\n",
    "            elif mid * mid < x:\n",
    "                 start = mid + 1\n",
    "            else:\n",
    "                 break\n",
    "        if mid * mid > x:\n",
    "            mid -= 1\n",
    "\n",
    "        return mid\n",
    "\n",
    "def main():\n",
    "    print Solution().mySqrt(10)\n",
    "    try:\n",
    "        print Solution().mySqrt(-3)\n",
    "    except ValueError:\n",
    "        print \"Input is incorret\"\n",
    "\n",
    "if __name__ == \"__main__\":\n",
    "    main()"
   ]
  }
 ],
 "metadata": {
  "kernelspec": {
   "display_name": "Python 2",
   "language": "python",
   "name": "python2"
  },
  "language_info": {
   "codemirror_mode": {
    "name": "ipython",
    "version": 2
   },
   "file_extension": ".py",
   "mimetype": "text/x-python",
   "name": "python",
   "nbconvert_exporter": "python",
   "pygments_lexer": "ipython2",
   "version": "2.7.13"
  }
 },
 "nbformat": 4,
 "nbformat_minor": 2
}

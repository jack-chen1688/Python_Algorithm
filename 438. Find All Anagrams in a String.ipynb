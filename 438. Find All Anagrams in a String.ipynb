{
 "cells": [
  {
   "cell_type": "markdown",
   "metadata": {},
   "source": [
    "# 438. Find All Anagrams in a String"
   ]
  },
  {
   "cell_type": "markdown",
   "metadata": {},
   "source": [
    "Given a string s and a non-empty string p, find all the start indices of p's anagrams in s.\n",
    "\n",
    "Strings consists of lowercase English letters only and the length of both strings s and p will not be larger than 20,100.\n",
    "\n",
    "The order of output does not matter.\n",
    "\n",
    "Example 1:\n",
    "\n",
    "Input:\n",
    "s: \"cbaebabacd\" p: \"abc\"\n",
    "\n",
    "Output:\n",
    "[0, 6]\n",
    "\n",
    "Explanation:\n",
    "The substring with start index = 0 is \"cba\", which is an anagram of \"abc\".\n",
    "The substring with start index = 6 is \"bac\", which is an anagram of \"abc\".\n",
    "Example 2:\n",
    "\n",
    "Input:\n",
    "s: \"abab\" p: \"ab\"\n",
    "\n",
    "Output:\n",
    "[0, 1, 2]\n",
    "\n",
    "Explanation:\n",
    "The substring with start index = 0 is \"ab\", which is an anagram of \"ab\".\n",
    "The substring with start index = 1 is \"ba\", which is an anagram of \"ab\".\n",
    "The substring with start index = 2 is \"ab\", which is an anagram of \"ab\"."
   ]
  },
  {
   "cell_type": "markdown",
   "metadata": {},
   "source": [
    "## Solution"
   ]
  },
  {
   "cell_type": "code",
   "execution_count": 1,
   "metadata": {},
   "outputs": [],
   "source": [
    "class Solution(object):\n",
    "    def findAnagrams(self, s, p):\n",
    "        \"\"\"\n",
    "        :type s: str\n",
    "        :type p: str\n",
    "        :rtype: List[int]\n",
    "        \"\"\"\n",
    "        if len(s) < len(p):\n",
    "            return []\n",
    "        \n",
    "        dict = {}\n",
    "        for i, ch in enumerate(p):\n",
    "            if ch in dict:\n",
    "                dict[ch] += 1\n",
    "            else:\n",
    "                dict[ch] = 1\n",
    "        \n",
    "        dict1 = {}\n",
    "        \n",
    "        for i, ch in enumerate(s[:len(p)]):\n",
    "            if ch in dict1:\n",
    "                dict1[ch] += 1\n",
    "            else:\n",
    "                dict1[ch] = 1            \n",
    "        \n",
    "        lst = []\n",
    "        pos = len(p) - 1\n",
    "        while 1:\n",
    "            if dict1 == dict:\n",
    "                lst.append(pos + 1 - len(p))\n",
    "\n",
    "            pos += 1\n",
    "            \n",
    "            if pos >= len(s):\n",
    "                break\n",
    "                \n",
    "            l_pos = pos-len(p)\n",
    "            dict1[s[l_pos]]-= 1\n",
    "            \n",
    "            if dict1[s[l_pos]] == 0:\n",
    "                dict1.pop(s[l_pos])\n",
    "\n",
    "            if s[pos] in dict1:\n",
    "                dict1[s[pos]] += 1\n",
    "            else:\n",
    "                dict1[s[pos]] = 1\n",
    "        \n",
    "        return lst\n",
    "                    "
   ]
  }
 ],
 "metadata": {
  "kernelspec": {
   "display_name": "Python 2",
   "language": "python",
   "name": "python2"
  },
  "language_info": {
   "codemirror_mode": {
    "name": "ipython",
    "version": 2
   },
   "file_extension": ".py",
   "mimetype": "text/x-python",
   "name": "python",
   "nbconvert_exporter": "python",
   "pygments_lexer": "ipython2",
   "version": "2.7.11"
  }
 },
 "nbformat": 4,
 "nbformat_minor": 2
}

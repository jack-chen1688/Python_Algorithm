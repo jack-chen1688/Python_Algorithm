{
 "cells": [
  {
   "cell_type": "markdown",
   "metadata": {},
   "source": [
    "# 648. Replace Words"
   ]
  },
  {
   "cell_type": "markdown",
   "metadata": {},
   "source": [
    "In English, we have a concept called root, which can be followed by some other words to form another longer word - let's call this word successor. For example, the root an, followed by other, which can form another word another.\n",
    "\n",
    "Now, given a dictionary consisting of many roots and a sentence. You need to replace all the successor in the sentence with the root forming it. If a successor has many roots can form it, replace it with the root with the shortest length.\n",
    "\n",
    "You need to output the sentence after the replacement.\n",
    "\n",
    "Example 1:\n",
    "Input: dict = [\"cat\", \"bat\", \"rat\"]\n",
    "sentence = \"the cattle was rattled by the battery\"\n",
    "Output: \"the cat was rat by the bat\"\n",
    "Note:\n",
    "The input will only have lower-case letters.\n",
    "1 <= dict words number <= 1000\n",
    "1 <= sentence words number <= 1000\n",
    "1 <= root length <= 100\n",
    "1 <= sentence words length <= 1000"
   ]
  },
  {
   "cell_type": "markdown",
   "metadata": {},
   "source": [
    "## Solution 1. Memory Exceeded(?? Why)"
   ]
  },
  {
   "cell_type": "code",
   "execution_count": 3,
   "metadata": {},
   "outputs": [
    {
     "name": "stdout",
     "output_type": "stream",
     "text": [
      "abcdef 1\n",
      "this is ab\n"
     ]
    }
   ],
   "source": [
    "import bisect\n",
    "\n",
    "class Solution(object):\n",
    "    def replaceWords(self, dict, sentence):\n",
    "        \"\"\"\n",
    "        :type dict: List[str]\n",
    "        :type sentence: str\n",
    "        :rtype: str\n",
    "        \"\"\"\n",
    "\n",
    "        length = len(dict)\n",
    "        \n",
    "        dict.sort()\n",
    "        s_lst = dict\n",
    "        #print s_lst\n",
    "        \n",
    "        dict_lst = [s_lst[0]]\n",
    "        prev_word = s_lst[0]\n",
    "        \n",
    "        for i in range(1,length):\n",
    "            prev_len = len(prev_word)\n",
    "            if prev_len <= len(s_lst[i]):\n",
    "                if prev_word != s_lst[i][:prev_len]:\n",
    "                    dict_lst.append(s_lst[i])\n",
    "                    prev_word = s_lst[i]\n",
    "                #else: keep the prev_word as before\n",
    "            else:\n",
    "                dict_lst.append(s_lst[i])\n",
    "                prev_word = s_lst[i]\n",
    "                    \n",
    "        #print dict_lst\n",
    "        result = ''\n",
    "        token_start = None\n",
    " \n",
    "        for i in range(len(sentence)):\n",
    "            if sentence[i] == ' ':\n",
    "                if token_start != None:\n",
    "                    token_end = i\n",
    "                    token = sentence[token_start:token_end]\n",
    "                    index = bisect.bisect_left(dict_lst, token)\n",
    "                    #print token, index \n",
    "                    if dict_lst[index-1] == token[:len(dict_lst[index-1])]:\n",
    "                        result += dict_lst[index-1] + ' '\n",
    "                    else:\n",
    "                        result += token + ' '\n",
    "                        \n",
    "                    token_start = None\n",
    "                else:\n",
    "                    result += ' '\n",
    "            else:\n",
    "                if token_start == None:\n",
    "                    token_start = i\n",
    "                  \n",
    "                if i == len(sentence) - 1:\n",
    "                    token_end = i+1\n",
    "                    token = sentence[token_start:token_end]\n",
    "                    index = bisect.bisect_left(dict_lst, token)\n",
    "                    #print token, index\n",
    "                    if dict_lst[index-1] == token[:len(dict_lst[index-1])]:\n",
    "                        result += dict_lst[index-1]\n",
    "                    else:\n",
    "                        result += token\n",
    "                \n",
    "        return result\n",
    "        \n",
    "def main():\n",
    "    print Solution().replaceWords([\"ab\", \"abc\", \"cd\"], \"this is abcdef\")\n",
    "\n",
    "if __name__ == \"__main__\":\n",
    "    main()"
   ]
  },
  {
   "cell_type": "markdown",
   "metadata": {},
   "source": [
    "## Solution 2. Loose the Handling of Spaces"
   ]
  },
  {
   "cell_type": "code",
   "execution_count": 6,
   "metadata": {},
   "outputs": [
    {
     "name": "stdout",
     "output_type": "stream",
     "text": [
      "this is ab\n"
     ]
    }
   ],
   "source": [
    "class Solution(object):\n",
    "    def replaceWords(self, dict, sentence):\n",
    "        \"\"\"\n",
    "        :type dict: List[str]\n",
    "        :type sentence: str\n",
    "        :rtype: str\n",
    "        \"\"\"\n",
    "\n",
    "        length = len(dict)\n",
    "        s_lst = sorted(dict)\n",
    "        #print s_lst\n",
    "        \n",
    "        dict_lst = [s_lst[0]]\n",
    "        prev_word = s_lst[0]\n",
    "        \n",
    "        for i in range(1,length):\n",
    "            prev_len = len(prev_word)\n",
    "            if prev_len <= len(s_lst[i]):\n",
    "                if prev_word != s_lst[i][:prev_len]:\n",
    "                    dict_lst.append(s_lst[i])\n",
    "                    prev_word = s_lst[i]\n",
    "                #else: keep the prev_word as before\n",
    "            else:\n",
    "                dict_lst.append(s_lst[i])\n",
    "                prev_word = s_lst[i]\n",
    " \n",
    "        new_lst = []\n",
    "        sen_list = sentence.split()\n",
    "        for word in sen_list:\n",
    "            index = bisect.bisect_left(dict_lst, word)\n",
    "\n",
    "            if word.startswith(dict_lst[index-1]):\n",
    "            #or \n",
    "            #if dict_lst[index-1] == word[:len(dict_lst[index-1])]:\n",
    "                new_lst.append(dict_lst[index-1])\n",
    "            else:\n",
    "                new_lst.append(word)\n",
    "        \n",
    "        return \" \".join(new_lst)\n",
    "    \n",
    "def main():\n",
    "    print Solution().replaceWords([\"ab\", \"abc\", \"cd\"], \"this is abcdef\")\n",
    "\n",
    "if __name__ == \"__main__\":\n",
    "    main()                "
   ]
  }
 ],
 "metadata": {
  "kernelspec": {
   "display_name": "Python 2",
   "language": "python",
   "name": "python2"
  },
  "language_info": {
   "codemirror_mode": {
    "name": "ipython",
    "version": 2
   },
   "file_extension": ".py",
   "mimetype": "text/x-python",
   "name": "python",
   "nbconvert_exporter": "python",
   "pygments_lexer": "ipython2",
   "version": "2.7.13"
  }
 },
 "nbformat": 4,
 "nbformat_minor": 2
}

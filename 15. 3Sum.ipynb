{
 "cells": [
  {
   "cell_type": "markdown",
   "metadata": {},
   "source": [
    "# 15. 3Sum"
   ]
  },
  {
   "cell_type": "markdown",
   "metadata": {},
   "source": [
    "Given an array S of n integers, are there elements a, b, c in S such that a + b + c = 0? Find all unique triplets in the array which gives the sum of zero.\n",
    "\n",
    "Note: The solution set must not contain duplicate triplets.\n",
    "\n",
    "For example, given array S = [-1, 0, 1, 2, -1, -4],\n",
    "\n",
    "A solution set is:\n",
    "[\n",
    "  [-1, 0, 1],\n",
    "  [-1, -1, 2]\n",
    "]"
   ]
  },
  {
   "cell_type": "markdown",
   "metadata": {},
   "source": [
    "## Solution. Time Exceeded"
   ]
  },
  {
   "cell_type": "code",
   "execution_count": null,
   "metadata": {
    "collapsed": true
   },
   "outputs": [],
   "source": [
    "class Solution(object):\n",
    "    def threeSum(self, nums):\n",
    "        \"\"\"\n",
    "        :type nums: List[int]\n",
    "        :rtype: List[List[int]]\n",
    "        \"\"\"\n",
    "        result_set = set()\n",
    "        \n",
    "        \n",
    "        for i, num in enumerate(nums):\n",
    "            target = -num\n",
    "            dict = {}\n",
    "            for a in nums[i+1:]:\n",
    "                \n",
    "                if a not in dict.keys():\n",
    "                    dict[target - a] = 0\n",
    "                else:\n",
    "                    triplet = [num, target - a, a]\n",
    "                    triplet.sort()\n",
    "                    result_set.add(tuple(triplet))\n",
    "                    #result_set.add(triplet)\n",
    "        result = list(result_set)\n",
    "        return result    "
   ]
  },
  {
   "cell_type": "markdown",
   "metadata": {},
   "source": [
    "## Solution. "
   ]
  },
  {
   "cell_type": "code",
   "execution_count": null,
   "metadata": {
    "collapsed": true
   },
   "outputs": [],
   "source": [
    "class Solution(object):\n",
    "    def threeSum(self, nums):\n",
    "        \"\"\"\n",
    "        :type nums: List[int]\n",
    "        :rtype: List[List[int]]\n",
    "        \"\"\"\n",
    "        result = []\n",
    "        nums.sort()\n",
    "        length = len(nums)\n",
    "        result = []\n",
    "        \n",
    "        for i in range(length-2):\n",
    "            \n",
    "            if i+3 < length and nums[i] == nums[i+1] == nums[i+2] == nums[i+3]:\n",
    "                continue\n",
    "            \n",
    "            num = nums[i]\n",
    "            target = -num\n",
    "            \n",
    "            start = i + 1\n",
    "            end = length - 1\n",
    "            \n",
    "            while start < end:\n",
    "                sum = nums[start] + nums[end]\n",
    "                if sum > target:\n",
    "                    #while end-1 > start and nums[end-1] == nums[end] :\n",
    "                    #    end -= 1\n",
    "                    end -= 1\n",
    "                else:   \n",
    "                    if sum == target:\n",
    "                        #result.append([num, nums[start], nums[end]])\n",
    "                        result.append((num, nums[start], nums[end]))\n",
    "                        \n",
    "                    #while start+1 < end and nums[start+1] == nums[start]:\n",
    "                    #    start += 1\n",
    "                        \n",
    "                    start+=1\n",
    "                    \n",
    "        result_set = set(result)\n",
    "        return list(result_set) "
   ]
  }
 ],
 "metadata": {
  "kernelspec": {
   "display_name": "Python 2",
   "language": "python",
   "name": "python2"
  },
  "language_info": {
   "codemirror_mode": {
    "name": "ipython",
    "version": 2
   },
   "file_extension": ".py",
   "mimetype": "text/x-python",
   "name": "python",
   "nbconvert_exporter": "python",
   "pygments_lexer": "ipython2",
   "version": "2.7.13"
  }
 },
 "nbformat": 4,
 "nbformat_minor": 2
}

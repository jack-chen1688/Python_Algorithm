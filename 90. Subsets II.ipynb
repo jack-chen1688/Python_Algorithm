{
 "cells": [
  {
   "cell_type": "markdown",
   "metadata": {},
   "source": [
    "# 90. Subsets II"
   ]
  },
  {
   "cell_type": "markdown",
   "metadata": {},
   "source": [
    "Given a collection of integers that might contain duplicates, nums, return all possible subsets.\n",
    "\n",
    "Note: The solution set must not contain duplicate subsets.\n",
    "\n",
    "For example,\n",
    "If nums = [1,2,2], a solution is:\n",
    "\n",
    "[\n",
    "  [2],\n",
    "  [1],\n",
    "  [1,2,2],\n",
    "  [2,2],\n",
    "  [1,2],\n",
    "  []\n",
    "]"
   ]
  },
  {
   "cell_type": "markdown",
   "metadata": {},
   "source": [
    "## Solution. BFS Iterative Approach"
   ]
  },
  {
   "cell_type": "code",
   "execution_count": null,
   "metadata": {
    "collapsed": true
   },
   "outputs": [],
   "source": [
    "class Solution(object):\n",
    "    def subsetsWithDup(self, nums):\n",
    "        \"\"\"\n",
    "        :type nums: List[int]\n",
    "        :rtype: List[List[int]]\n",
    "        \"\"\"\n",
    "        \n",
    "        n = len(nums)\n",
    "        lsts = [[i] for i in xrange(n)]\n",
    "        ans = [[]] + list(lsts)\n",
    "        for k in xrange(1,n):\n",
    "            lsts1 = []\n",
    "            for lst in lsts:\n",
    "                for x in xrange(lst[-1]+1,n):\n",
    "                    lsts1.append(lst + [x])\n",
    "            ans.extend(lsts1)\n",
    "            lsts = lsts1\n",
    "        \n",
    "        for lst in ans:\n",
    "            for i in xrange(len(lst)):\n",
    "                lst[i] = nums[lst[i]]\n",
    "        \n",
    "        ans = [tuple(sorted(lst)) for lst in ans]\n",
    "        return list(set(ans))"
   ]
  },
  {
   "cell_type": "markdown",
   "metadata": {},
   "source": [
    "## Solution 2. Enhancement to Solution 1"
   ]
  },
  {
   "cell_type": "markdown",
   "metadata": {},
   "source": [
    "In solution 1, if nums = [1,4,1] is not sorted, we have lists of two elements as following.\n",
    "[1,4], [1,1], [4,1]\n",
    "We can see that [1,4] and [4,1] are actually the same. So we did a sort operation to each list in ans to make such \n",
    "lists become the same so that we can use set to find out the unique combinations. \n",
    "\n",
    "A faster way is we do a sort for nums first and convert it to [1,1,4]. Then the lists of two elements will become \n",
    "the following.\n",
    "[1,1], [1,4], [1,4]\n",
    "\n",
    "With this approach we no longer need to do a sort for each list of two elements. Solution 2 turns out to be faster \n",
    "solution 1."
   ]
  },
  {
   "cell_type": "code",
   "execution_count": null,
   "metadata": {
    "collapsed": true
   },
   "outputs": [],
   "source": [
    "class Solution(object):\n",
    "    def subsetsWithDup(self, nums):\n",
    "        \"\"\"\n",
    "        :type nums: List[int]\n",
    "        :rtype: List[List[int]]\n",
    "        \"\"\"\n",
    "        \n",
    "        n = len(nums)\n",
    "        lsts = [[i] for i in xrange(n)]\n",
    "        ans = [[]] + list(lsts)\n",
    "        for k in xrange(1,n):\n",
    "            lsts1 = []\n",
    "            for lst in lsts:\n",
    "                for x in xrange(lst[-1]+1,n):\n",
    "                    lsts1.append(lst + [x])\n",
    "            ans.extend(lsts1)\n",
    "            lsts = lsts1\n",
    "        \n",
    "        nums1 = sorted(nums)\n",
    "        for lst in ans:\n",
    "            for i in xrange(len(lst)):\n",
    "                lst[i] = nums1[lst[i]]\n",
    "        ans = [tuple(lst) for lst in ans]\n",
    "        return list(set(ans))"
   ]
  }
 ],
 "metadata": {
  "kernelspec": {
   "display_name": "Python 2",
   "language": "python",
   "name": "python2"
  },
  "language_info": {
   "codemirror_mode": {
    "name": "ipython",
    "version": 2
   },
   "file_extension": ".py",
   "mimetype": "text/x-python",
   "name": "python",
   "nbconvert_exporter": "python",
   "pygments_lexer": "ipython2",
   "version": "2.7.13"
  }
 },
 "nbformat": 4,
 "nbformat_minor": 2
}

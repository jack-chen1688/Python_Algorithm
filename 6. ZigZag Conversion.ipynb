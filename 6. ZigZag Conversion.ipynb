{
 "cells": [
  {
   "cell_type": "markdown",
   "metadata": {},
   "source": [
    "# 6. ZigZag Conversion"
   ]
  },
  {
   "cell_type": "markdown",
   "metadata": {},
   "source": [
    "The string \"PAYPALISHIRING\" is written in a zigzag pattern on a given number of rows like this: (you may want to display this pattern in a fixed font for better legibility)\n",
    "\n",
    "P   A   H   N\n",
    "A P L S I I G\n",
    "Y   I   R\n",
    "And then read line by line: \"PAHNAPLSIIGYIR\"\n",
    "Write the code that will take a string and make this conversion given a number of rows:\n",
    "\n",
    "string convert(string text, int nRows);\n",
    "convert(\"PAYPALISHIRING\", 3) should return \"PAHNAPLSIIGYIR\".\n"
   ]
  },
  {
   "cell_type": "markdown",
   "metadata": {},
   "source": [
    "## Solution"
   ]
  },
  {
   "cell_type": "code",
   "execution_count": 1,
   "metadata": {},
   "outputs": [
    {
     "name": "stdout",
     "output_type": "stream",
     "text": [
      "HoaoelHwryuloe\n"
     ]
    }
   ],
   "source": [
    "class Solution(object):\n",
    "    def convert(self, s, numRows):\n",
    "        \"\"\"\n",
    "        :type s: str\n",
    "        :type numRows: int\n",
    "        :rtype: str\n",
    "        \"\"\"\n",
    "        list = ['' for i in range(numRows)]\n",
    "        length =len(s)\n",
    "        \n",
    "        if numRows == 1:\n",
    "            return s\n",
    "        \n",
    "        cycle = numRows * 2 - 2\n",
    "    \n",
    "        for i in range(length):\n",
    "            \n",
    "            mod0 = i % cycle\n",
    "            mod1 = mod0 % (numRows - 1)\n",
    "            \n",
    "            if mod0 < numRows:\n",
    "                list[mod0] += s[i]\n",
    "            else: \n",
    "                #from numRows to 2*numRows - 3\n",
    "                list[numRows - 1 - mod1] += s[i]\n",
    "        \n",
    "        result = ''\n",
    "        for row in list:\n",
    "            result += row \n",
    "        \n",
    "        return result\n",
    "                \n",
    "\n",
    "def main():\n",
    "    s = \"HelloHowareyou\"\n",
    "    numRows = 3\n",
    "    print Solution().convert(s,numRows)\n",
    "    \n",
    "if __name__ == \"__main__\":\n",
    "    main()\n"
   ]
  }
 ],
 "metadata": {
  "kernelspec": {
   "display_name": "Python 2",
   "language": "python",
   "name": "python2"
  },
  "language_info": {
   "codemirror_mode": {
    "name": "ipython",
    "version": 2
   },
   "file_extension": ".py",
   "mimetype": "text/x-python",
   "name": "python",
   "nbconvert_exporter": "python",
   "pygments_lexer": "ipython2",
   "version": "2.7.13"
  }
 },
 "nbformat": 4,
 "nbformat_minor": 2
}

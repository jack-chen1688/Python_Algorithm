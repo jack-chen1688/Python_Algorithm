{
 "cells": [
  {
   "cell_type": "markdown",
   "metadata": {},
   "source": [
    "# 17. Letter Combinations of a Phone Number"
   ]
  },
  {
   "cell_type": "markdown",
   "metadata": {},
   "source": [
    "Given a digit string, return all possible letter combinations that the number could represent.\n",
    "\n",
    "A mapping of digit to letters (just like on the telephone buttons) is given below.\n",
    "\n",
    "\n",
    "Input:Digit string \"23\"\n",
    "Output: [\"ad\", \"ae\", \"af\", \"bd\", \"be\", \"bf\", \"cd\", \"ce\", \"cf\"].\n",
    "Note:\n",
    "Although the above answer is in lexicographical order, your answer could be in any order you want."
   ]
  },
  {
   "cell_type": "markdown",
   "metadata": {},
   "source": [
    "## Solution"
   ]
  },
  {
   "cell_type": "code",
   "execution_count": 1,
   "metadata": {},
   "outputs": [
    {
     "name": "stdout",
     "output_type": "stream",
     "text": [
      "['*djagm', '*ejagm', '*fjagm', '*dkagm', '*ekagm', '*fkagm', '*dlagm', '*elagm', '*flagm', '*djbgm', '*ejbgm', '*fjbgm', '*dkbgm', '*ekbgm', '*fkbgm', '*dlbgm', '*elbgm', '*flbgm', '*djcgm', '*ejcgm', '*fjcgm', '*dkcgm', '*ekcgm', '*fkcgm', '*dlcgm', '*elcgm', '*flcgm', '*djahm', '*ejahm', '*fjahm', '*dkahm', '*ekahm', '*fkahm', '*dlahm', '*elahm', '*flahm', '*djbhm', '*ejbhm', '*fjbhm', '*dkbhm', '*ekbhm', '*fkbhm', '*dlbhm', '*elbhm', '*flbhm', '*djchm', '*ejchm', '*fjchm', '*dkchm', '*ekchm', '*fkchm', '*dlchm', '*elchm', '*flchm', '*djaim', '*ejaim', '*fjaim', '*dkaim', '*ekaim', '*fkaim', '*dlaim', '*elaim', '*flaim', '*djbim', '*ejbim', '*fjbim', '*dkbim', '*ekbim', '*fkbim', '*dlbim', '*elbim', '*flbim', '*djcim', '*ejcim', '*fjcim', '*dkcim', '*ekcim', '*fkcim', '*dlcim', '*elcim', '*flcim', '*djagn', '*ejagn', '*fjagn', '*dkagn', '*ekagn', '*fkagn', '*dlagn', '*elagn', '*flagn', '*djbgn', '*ejbgn', '*fjbgn', '*dkbgn', '*ekbgn', '*fkbgn', '*dlbgn', '*elbgn', '*flbgn', '*djcgn', '*ejcgn', '*fjcgn', '*dkcgn', '*ekcgn', '*fkcgn', '*dlcgn', '*elcgn', '*flcgn', '*djahn', '*ejahn', '*fjahn', '*dkahn', '*ekahn', '*fkahn', '*dlahn', '*elahn', '*flahn', '*djbhn', '*ejbhn', '*fjbhn', '*dkbhn', '*ekbhn', '*fkbhn', '*dlbhn', '*elbhn', '*flbhn', '*djchn', '*ejchn', '*fjchn', '*dkchn', '*ekchn', '*fkchn', '*dlchn', '*elchn', '*flchn', '*djain', '*ejain', '*fjain', '*dkain', '*ekain', '*fkain', '*dlain', '*elain', '*flain', '*djbin', '*ejbin', '*fjbin', '*dkbin', '*ekbin', '*fkbin', '*dlbin', '*elbin', '*flbin', '*djcin', '*ejcin', '*fjcin', '*dkcin', '*ekcin', '*fkcin', '*dlcin', '*elcin', '*flcin', '*djago', '*ejago', '*fjago', '*dkago', '*ekago', '*fkago', '*dlago', '*elago', '*flago', '*djbgo', '*ejbgo', '*fjbgo', '*dkbgo', '*ekbgo', '*fkbgo', '*dlbgo', '*elbgo', '*flbgo', '*djcgo', '*ejcgo', '*fjcgo', '*dkcgo', '*ekcgo', '*fkcgo', '*dlcgo', '*elcgo', '*flcgo', '*djaho', '*ejaho', '*fjaho', '*dkaho', '*ekaho', '*fkaho', '*dlaho', '*elaho', '*flaho', '*djbho', '*ejbho', '*fjbho', '*dkbho', '*ekbho', '*fkbho', '*dlbho', '*elbho', '*flbho', '*djcho', '*ejcho', '*fjcho', '*dkcho', '*ekcho', '*fkcho', '*dlcho', '*elcho', '*flcho', '*djaio', '*ejaio', '*fjaio', '*dkaio', '*ekaio', '*fkaio', '*dlaio', '*elaio', '*flaio', '*djbio', '*ejbio', '*fjbio', '*dkbio', '*ekbio', '*fkbio', '*dlbio', '*elbio', '*flbio', '*djcio', '*ejcio', '*fjcio', '*dkcio', '*ekcio', '*fkcio', '*dlcio', '*elcio', '*flcio']\n"
     ]
    }
   ],
   "source": [
    "class Solution(object):\n",
    "    def letterCombinations(self, digits):\n",
    "        \"\"\"\n",
    "        :type digits: str\n",
    "        :rtype: List[str]\n",
    "        \"\"\"\n",
    "        if digits == \"\":\n",
    "            return []\n",
    "        \n",
    "        dict = {'1':\"*\", '2':\"abc\", '3':\"def\", '4':\"ghi\", '5':\"jkl\", '6':\"mno\", '7':\"pqrs\", '8':\"tuv\", '9':\"wxyz\"}\n",
    "        \n",
    "        l = []\n",
    "        for digit in digits:\n",
    "            l.append(dict[digit])\n",
    "        \n",
    "        l0 = ['']\n",
    "        for i in range(len(l)):\n",
    "            # all combinations for up to l[i]\n",
    "            l1 = []\n",
    "            for char in l[i]:\n",
    "                for item in l0:\n",
    "                    l1.append(item+char)\n",
    "            l0 = l1\n",
    "        \n",
    "        return l0\n",
    "\n",
    "def main():\n",
    "    print Solution().letterCombinations(\"135246\")\n",
    "\n",
    "if __name__ == \"__main__\":\n",
    "    main()"
   ]
  }
 ],
 "metadata": {
  "kernelspec": {
   "display_name": "Python 2",
   "language": "python",
   "name": "python2"
  },
  "language_info": {
   "codemirror_mode": {
    "name": "ipython",
    "version": 2
   },
   "file_extension": ".py",
   "mimetype": "text/x-python",
   "name": "python",
   "nbconvert_exporter": "python",
   "pygments_lexer": "ipython2",
   "version": "2.7.13"
  }
 },
 "nbformat": 4,
 "nbformat_minor": 2
}

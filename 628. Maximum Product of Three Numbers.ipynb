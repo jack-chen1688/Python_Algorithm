{
 "cells": [
  {
   "cell_type": "markdown",
   "metadata": {},
   "source": [
    "# 628. Maximum Product of Three Numbers"
   ]
  },
  {
   "cell_type": "markdown",
   "metadata": {},
   "source": [
    "DescriptionHintsSubmissionsSolutions\n",
    "Discuss   Editorial Solution Pick One\n",
    "Given an integer array, find three numbers whose product is maximum and output the maximum product.\n",
    "\n",
    "Example 1:\n",
    "Input: [1,2,3]\n",
    "Output: 6\n",
    "Example 2:\n",
    "Input: [1,2,3,4]\n",
    "Output: 24\n",
    "Note:\n",
    "The length of the given array will be in range [3,104] and all elements are in the range [-1000, 1000].\n",
    "Multiplication of any three numbers in the input won't exceed the range of 32-bit signed integer."
   ]
  },
  {
   "cell_type": "markdown",
   "metadata": {},
   "source": [
    "## Solution 1. Sorting Based Approach"
   ]
  },
  {
   "cell_type": "code",
   "execution_count": 1,
   "metadata": {
    "collapsed": true
   },
   "outputs": [],
   "source": [
    "class Solution(object):\n",
    "    def maximumProduct(self, nums):\n",
    "        \"\"\"\n",
    "        :type nums: List[int]\n",
    "        :rtype: int\n",
    "        \"\"\"\n",
    "        nums.sort()\n",
    "        \n",
    "        return max(nums[-1]*nums[-2]*nums[-3], nums[0]*nums[1]*nums[-1])"
   ]
  },
  {
   "cell_type": "markdown",
   "metadata": {},
   "source": [
    "## Solution 2. Scan Based Approach with Time Complexity of nlog(3)"
   ]
  },
  {
   "cell_type": "code",
   "execution_count": 2,
   "metadata": {
    "collapsed": true
   },
   "outputs": [],
   "source": [
    "class Solution(object):\n",
    "    def maximumProduct(self, nums):\n",
    "        \"\"\"\n",
    "        :type nums: List[int]\n",
    "        :rtype: int\n",
    "        \"\"\"\n",
    "        if len(nums) == 3:\n",
    "            return nums[0] * nums[1] * nums[2]\n",
    "        \n",
    "        heap0 = nums[:3]\n",
    "        heap1 = [-i for i in nums[:3]]\n",
    "        \n",
    "        heapq.heapify(heap0)\n",
    "        heapq.heapify(heap1)\n",
    "        print heap0, heap1\n",
    "        for i in xrange(3, len(nums)):\n",
    "            if nums[i] > heap0[0]:\n",
    "                heapq.heapreplace(heap0, nums[i])\n",
    "            if -nums[i] > heap1[0]:\n",
    "                heapq.heapreplace(heap1, -nums[i])\n",
    "        \n",
    "        #print heap0, heap1 \n",
    "        minArr, maxArr = [0]*3, [0]*3\n",
    "        \n",
    "        for i in xrange(3):\n",
    "            maxArr[i] = heapq.heappop(heap0)\n",
    "            minArr[i] = -heapq.heappop(heap1)\n",
    "\n",
    "        return max(minArr[2] * minArr[1], maxArr[0]*maxArr[1])*maxArr[2] "
   ]
  }
 ],
 "metadata": {
  "kernelspec": {
   "display_name": "Python 2",
   "language": "python",
   "name": "python2"
  },
  "language_info": {
   "codemirror_mode": {
    "name": "ipython",
    "version": 2
   },
   "file_extension": ".py",
   "mimetype": "text/x-python",
   "name": "python",
   "nbconvert_exporter": "python",
   "pygments_lexer": "ipython2",
   "version": "2.7.13"
  }
 },
 "nbformat": 4,
 "nbformat_minor": 2
}

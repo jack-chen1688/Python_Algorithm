{
 "cells": [
  {
   "cell_type": "markdown",
   "metadata": {},
   "source": [
    "# 67. Add Binary"
   ]
  },
  {
   "cell_type": "code",
   "execution_count": null,
   "metadata": {
    "collapsed": true
   },
   "outputs": [],
   "source": [
    "Given two binary strings, return their sum (also a binary string).\n",
    "\n",
    "For example,\n",
    "a = \"11\"\n",
    "b = \"1\"\n",
    "Return \"100\".\n"
   ]
  },
  {
   "cell_type": "markdown",
   "metadata": {},
   "source": [
    "## Solution 1"
   ]
  },
  {
   "cell_type": "code",
   "execution_count": 3,
   "metadata": {},
   "outputs": [
    {
     "name": "stdout",
     "output_type": "stream",
     "text": [
      "1010\n"
     ]
    }
   ],
   "source": [
    "class Solution(object):\n",
    "    def addBinary(self, a, b):\n",
    "        \"\"\"\n",
    "        :type a: str\n",
    "        :type b: str\n",
    "        :rtype: str\n",
    "        \"\"\"\n",
    "        c = int(a, 2) + int(b, 2)\n",
    "        \n",
    "        if c == 0:\n",
    "            return \"0\"\n",
    "        \n",
    "        power2 = 1\n",
    "        result = \"\"\n",
    "        while c:\n",
    "            if c & power2:\n",
    "                result = \"1\" + result\n",
    "                c -= power2\n",
    "            else:\n",
    "                result = \"0\" + result\n",
    "            \n",
    "            power2 <<= 1\n",
    "        return result\n",
    "\n",
    "def main():\n",
    "    print Solution().addBinary(\"0101\",\"101\")\n",
    "\n",
    "if __name__ == \"__main__\":\n",
    "    main()"
   ]
  },
  {
   "cell_type": "markdown",
   "metadata": {},
   "source": [
    "## Solution 2."
   ]
  },
  {
   "cell_type": "code",
   "execution_count": 10,
   "metadata": {},
   "outputs": [
    {
     "name": "stdout",
     "output_type": "stream",
     "text": [
      "1010\n"
     ]
    }
   ],
   "source": [
    "class Solution(object):\n",
    "    def addBinary(self, a, b):\n",
    "\n",
    "        length = [len(a), len(b)]\n",
    "        len_sum = max(length)\n",
    "        \n",
    "        result = \"\"\n",
    "        carry = 0\n",
    "        \n",
    "        for i in range(len_sum):\n",
    "            if i > length[0] - 1:\n",
    "                inta = 0\n",
    "            else:\n",
    "                inta = int(a[~i] == '1')\n",
    "            \n",
    "            if i > length[1] - 1:\n",
    "                intb = 0\n",
    "            else:\n",
    "                intb = int(b[~i] == '1')\n",
    "            \n",
    "            int_sum = inta + intb + carry \n",
    "            carry = int(int_sum >= 2)\n",
    "            \n",
    "            int_sum -= carry * 2\n",
    "            if int_sum == 0:\n",
    "                ch_sum = \"0\"\n",
    "            else:\n",
    "                ch_sum = \"1\"\n",
    "            \n",
    "            result = ch_sum + result\n",
    "        \n",
    "        if carry == 1:\n",
    "            result = \"1\" + result\n",
    "            \n",
    "        return result    \n",
    "\n",
    "def main():\n",
    "    print Solution().addBinary(\"0101\",\"101\")\n",
    "\n",
    "if __name__ == \"__main__\":\n",
    "    main()"
   ]
  },
  {
   "cell_type": "markdown",
   "metadata": {},
   "source": [
    "# Solution 3."
   ]
  },
  {
   "cell_type": "code",
   "execution_count": 11,
   "metadata": {},
   "outputs": [
    {
     "name": "stdout",
     "output_type": "stream",
     "text": [
      "1010\n"
     ]
    }
   ],
   "source": [
    "class Solution(object):\n",
    "    def addBinary(self, a, b):\n",
    "        int_sum = int(a,2)+int(b,2)\n",
    "        return bin(int_sum)[2:]\n",
    "\n",
    "def main():\n",
    "    print Solution().addBinary(\"0101\",\"101\")\n",
    "\n",
    "if __name__ == \"__main__\":\n",
    "    main()"
   ]
  }
 ],
 "metadata": {
  "kernelspec": {
   "display_name": "Python 2",
   "language": "python",
   "name": "python2"
  },
  "language_info": {
   "codemirror_mode": {
    "name": "ipython",
    "version": 2
   },
   "file_extension": ".py",
   "mimetype": "text/x-python",
   "name": "python",
   "nbconvert_exporter": "python",
   "pygments_lexer": "ipython2",
   "version": "2.7.13"
  }
 },
 "nbformat": 4,
 "nbformat_minor": 2
}

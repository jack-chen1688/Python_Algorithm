{
 "cells": [
  {
   "cell_type": "markdown",
   "metadata": {},
   "source": [
    "# 49. Group Anagrams"
   ]
  },
  {
   "cell_type": "markdown",
   "metadata": {},
   "source": [
    "## Solution"
   ]
  },
  {
   "cell_type": "code",
   "execution_count": 14,
   "metadata": {},
   "outputs": [
    {
     "name": "stdout",
     "output_type": "stream",
     "text": [
      "[['tan', 'nat'], ['bat'], ['ate', 'tea', 'eat']]\n"
     ]
    }
   ],
   "source": [
    "class Solution(object):\n",
    "    def groupAnagrams(self, strs):\n",
    "        \"\"\"\n",
    "        :type strs: List[str]\n",
    "        :rtype: List[[List[str]]]\n",
    "        \"\"\"\n",
    "        dict = {}\n",
    "        for item in strs:\n",
    "            sort_item = ''.join(sorted(item))\n",
    "            if sort_item not in dict.keys():\n",
    "                dict[sort_item] = item\n",
    "            else:\n",
    "                dict[sort_item] = dict[sort_item] + \",\" + item\n",
    "        \n",
    "        result = []\n",
    "        for value in dict.values():\n",
    "            result.append(value.split(\",\"))\n",
    "        return result\n",
    "    \n",
    "def main():\n",
    "    strs = [\"ate\", \"tea\", \"tan\", \"eat\", \"nat\", \"bat\"]\n",
    "    print Solution().groupAnagrams(strs)\n",
    "\n",
    "if __name__ == \"__main__\":\n",
    "    main()"
   ]
  }
 ],
 "metadata": {
  "kernelspec": {
   "display_name": "Python 2",
   "language": "python",
   "name": "python2"
  },
  "language_info": {
   "codemirror_mode": {
    "name": "ipython",
    "version": 2
   },
   "file_extension": ".py",
   "mimetype": "text/x-python",
   "name": "python",
   "nbconvert_exporter": "python",
   "pygments_lexer": "ipython2",
   "version": "2.7.11"
  }
 },
 "nbformat": 4,
 "nbformat_minor": 2
}

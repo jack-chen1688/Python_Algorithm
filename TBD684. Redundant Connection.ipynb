{
 "cells": [
  {
   "cell_type": "markdown",
   "metadata": {},
   "source": [
    "# 684. Redundant Connection"
   ]
  },
  {
   "cell_type": "code",
   "execution_count": null,
   "metadata": {
    "collapsed": true
   },
   "outputs": [],
   "source": [
    "\n",
    "We are given a \"tree\" in the form of a 2D-array, with distinct values for each node.\n",
    "\n",
    "In the given 2D-array, each element pair [u, v] represents that v is a child of u in the tree.\n",
    "\n",
    "We can remove exactly one redundant pair in this \"tree\" to make the result a tree.\n",
    "\n",
    "You need to find and output such a pair. If there are multiple answers for this question, output the one appearing last in the 2D-array. There is always at least one answer.\n",
    "\n",
    "Example 1:\n",
    "Input: [[1,2], [1,3], [2,3]]\n",
    "Output: [2,3]\n",
    "Explanation: Original tree will be like this:\n",
    "  1\n",
    " / \\\n",
    "2 - 3\n",
    "Example 2:\n",
    "Input: [[1,2], [1,3], [3,1]]\n",
    "Output: [3,1]\n",
    "Explanation: Original tree will be like this:\n",
    "  1\n",
    " / \\\\\n",
    "2   3\n",
    "Note:\n",
    "The size of the input 2D-array will be between 1 and 1000.\n",
    "Every integer represented in the 2D-array will be between 1 and 2000."
   ]
  },
  {
   "cell_type": "markdown",
   "metadata": {},
   "source": [
    "## Solution 1. Use Set"
   ]
  },
  {
   "cell_type": "code",
   "execution_count": null,
   "metadata": {
    "collapsed": true
   },
   "outputs": [],
   "source": [
    "class Solution(object):\n",
    "    def findRedundantConnection(self, edges):\n",
    "        \"\"\"\n",
    "        :type edges: List[List[int]]\n",
    "        :rtype: List[int]\n",
    "        \"\"\"\n",
    "        \n",
    "        lsts = []\n",
    "        \n",
    "        for x,y in edges:\n",
    "            found = 0\n",
    "            prev_index = None\n",
    "            \n",
    "            for i in xrange(len(lsts)):\n",
    "                if x in lsts[i] and y in lsts[i]:\n",
    "                    return [x,y]\n",
    "                elif x in lsts[i] or y in lsts[i]: \n",
    "                    found = 1\n",
    "                    if x in lsts[i]:\n",
    "                        lsts[i].add(y)\n",
    "                    \n",
    "                    if y in lsts[i]:\n",
    "                        lsts[i].add(x)\n",
    "                        \n",
    "                    if prev_index == None:\n",
    "                        prev_index = i\n",
    "                    else:\n",
    "                        lsts[i] |= lsts[prev_index]\n",
    "                        del lsts[prev_index]\n",
    "                        break\n",
    "      \n",
    "            if found == 0:\n",
    "                lsts.append(set([x,y]))\n",
    "              \n",
    "        return None"
   ]
  }
 ],
 "metadata": {
  "kernelspec": {
   "display_name": "Python 2",
   "language": "python",
   "name": "python2"
  },
  "language_info": {
   "codemirror_mode": {
    "name": "ipython",
    "version": 2
   },
   "file_extension": ".py",
   "mimetype": "text/x-python",
   "name": "python",
   "nbconvert_exporter": "python",
   "pygments_lexer": "ipython2",
   "version": "2.7.13"
  }
 },
 "nbformat": 4,
 "nbformat_minor": 2
}
